{
  "nbformat": 4,
  "nbformat_minor": 0,
  "metadata": {
    "colab": {
      "name": "street_data_scenario.ipynb",
      "provenance": [],
      "collapsed_sections": [],
      "mount_file_id": "1qziEOdXAoNi-b68UQ21vDEJ2g18ypn2Y",
      "authorship_tag": "ABX9TyPOkOXfiG5hWKA4LM30QA0F",
      "include_colab_link": true
    },
    "kernelspec": {
      "name": "python3",
      "display_name": "Python 3"
    },
    "language_info": {
      "name": "python"
    },
    "widgets": {
      "application/vnd.jupyter.widget-state+json": {
        "ba2d29f96d2c49c7bd2f3bf56ab82157": {
          "model_module": "jupyter-leaflet",
          "model_name": "LeafletMapModel",
          "model_module_version": "^0.16.0",
          "state": {
            "_dom_classes": [],
            "_model_module": "jupyter-leaflet",
            "_model_module_version": "^0.16.0",
            "_model_name": "LeafletMapModel",
            "_view_count": null,
            "_view_module": "jupyter-leaflet",
            "_view_module_version": "^0.16.0",
            "_view_name": "LeafletMapView",
            "bottom": 7031299,
            "bounce_at_zoom_limits": true,
            "box_zoom": true,
            "center": [
              27.95056,
              -82.45656
            ],
            "close_popup_on_click": true,
            "controls": [
              "IPY_MODEL_b8134eaa9e7a4147bd34b4f85230262f",
              "IPY_MODEL_ff228a7cf43d4d6bab9730b561134dc2",
              "IPY_MODEL_748e7b3be24145f8a06d8c53845a95ae",
              "IPY_MODEL_39cece8870524e038104b349ec9c711b",
              "IPY_MODEL_ca1cba6989f44534832492e9e92e5fca",
              "IPY_MODEL_895c5ad984ca441da42c1ea218fd3b29",
              "IPY_MODEL_43ea24dcfd6a4f6ea414466ef6f08fa3",
              "IPY_MODEL_043def3f8bf94a61b61983b01c005109"
            ],
            "crs": {
              "name": "EPSG3857",
              "custom": false
            },
            "default_style": "IPY_MODEL_8a8804a005ab4d639f9464166036ae88",
            "double_click_zoom": true,
            "dragging": true,
            "dragging_style": "IPY_MODEL_bfd968087b1741d19b1cabaa64029741",
            "east": -82.45119094848634,
            "fullscreen": false,
            "inertia": true,
            "inertia_deceleration": 3000,
            "inertia_max_speed": 1500,
            "interpolation": "bilinear",
            "keyboard": true,
            "keyboard_pan_offset": 80,
            "keyboard_zoom_offset": 1,
            "layers": [
              "IPY_MODEL_a7b80b1e739841679f0c9e65f92a6cac",
              "IPY_MODEL_b1ed7a1517b74b8db232ae4d0ca26650"
            ],
            "layout": "IPY_MODEL_05dd296e8c7740ce9d926796f73d23cf",
            "left": 4545604,
            "max_zoom": 24,
            "min_zoom": 1,
            "modisdate": "2022-06-07",
            "north": 27.955306697234256,
            "options": [
              "bounce_at_zoom_limits",
              "box_zoom",
              "center",
              "close_popup_on_click",
              "double_click_zoom",
              "dragging",
              "fullscreen",
              "inertia",
              "inertia_deceleration",
              "inertia_max_speed",
              "interpolation",
              "keyboard",
              "keyboard_pan_offset",
              "keyboard_zoom_offset",
              "max_zoom",
              "min_zoom",
              "prefer_canvas",
              "scroll_wheel_zoom",
              "tap",
              "tap_tolerance",
              "touch_zoom",
              "world_copy_jump",
              "zoom",
              "zoom_animation_threshold",
              "zoom_delta",
              "zoom_snap",
              "zoom_start"
            ],
            "prefer_canvas": false,
            "right": 4546104,
            "scroll_wheel_zoom": true,
            "south": 27.945829355229574,
            "style": "IPY_MODEL_daf2cd4c2ab545ecb452fe879bd2e7eb",
            "tap": true,
            "tap_tolerance": 15,
            "top": 7030799,
            "touch_zoom": true,
            "west": -82.46191978454591,
            "window_url": "https://phwfxea3lvi-496ff2e9c6d22116-0-colab.googleusercontent.com/outputframe.html?vrz=colab-20220607-060047-RC00_453385713",
            "world_copy_jump": false,
            "zoom": 16,
            "zoom_animation_threshold": 4,
            "zoom_delta": 1,
            "zoom_snap": 1,
            "zoom_start": 12
          }
        },
        "b8134eaa9e7a4147bd34b4f85230262f": {
          "model_module": "jupyter-leaflet",
          "model_name": "LeafletZoomControlModel",
          "model_module_version": "^0.16.0",
          "state": {
            "_model_module": "jupyter-leaflet",
            "_model_module_version": "^0.16.0",
            "_model_name": "LeafletZoomControlModel",
            "_view_count": null,
            "_view_module": "jupyter-leaflet",
            "_view_module_version": "^0.16.0",
            "_view_name": "LeafletZoomControlView",
            "options": [
              "position",
              "zoom_in_text",
              "zoom_in_title",
              "zoom_out_text",
              "zoom_out_title"
            ],
            "position": "topleft",
            "zoom_in_text": "+",
            "zoom_in_title": "Zoom in",
            "zoom_out_text": "-",
            "zoom_out_title": "Zoom out"
          }
        },
        "ff228a7cf43d4d6bab9730b561134dc2": {
          "model_module": "jupyter-leaflet",
          "model_name": "LeafletAttributionControlModel",
          "model_module_version": "^0.16.0",
          "state": {
            "_model_module": "jupyter-leaflet",
            "_model_module_version": "^0.16.0",
            "_model_name": "LeafletAttributionControlModel",
            "_view_count": null,
            "_view_module": "jupyter-leaflet",
            "_view_module_version": "^0.16.0",
            "_view_name": "LeafletAttributionControlView",
            "options": [
              "position",
              "prefix"
            ],
            "position": "bottomright",
            "prefix": "ipyleaflet"
          }
        },
        "748e7b3be24145f8a06d8c53845a95ae": {
          "model_module": "jupyter-leaflet",
          "model_name": "LeafletFullScreenControlModel",
          "model_module_version": "^0.16.0",
          "state": {
            "_model_module": "jupyter-leaflet",
            "_model_module_version": "^0.16.0",
            "_model_name": "LeafletFullScreenControlModel",
            "_view_count": null,
            "_view_module": "jupyter-leaflet",
            "_view_module_version": "^0.16.0",
            "_view_name": "LeafletFullScreenControlView",
            "options": [
              "position"
            ],
            "position": "topleft"
          }
        },
        "39cece8870524e038104b349ec9c711b": {
          "model_module": "jupyter-leaflet",
          "model_name": "LeafletDrawControlModel",
          "model_module_version": "^0.16.0",
          "state": {
            "_model_module": "jupyter-leaflet",
            "_model_module_version": "^0.16.0",
            "_model_name": "LeafletDrawControlModel",
            "_view_count": null,
            "_view_module": "jupyter-leaflet",
            "_view_module_version": "^0.16.0",
            "_view_name": "LeafletDrawControlView",
            "circle": {
              "shapeOptions": {
                "color": "#3388ff"
              }
            },
            "circlemarker": {},
            "data": [],
            "edit": true,
            "marker": {
              "shapeOptions": {
                "color": "#3388ff"
              }
            },
            "options": [
              "position"
            ],
            "polygon": {
              "shapeOptions": {}
            },
            "polyline": {
              "shapeOptions": {}
            },
            "position": "topleft",
            "rectangle": {
              "shapeOptions": {
                "color": "#3388ff"
              }
            },
            "remove": true
          }
        },
        "ca1cba6989f44534832492e9e92e5fca": {
          "model_module": "jupyter-leaflet",
          "model_name": "LeafletWidgetControlModel",
          "model_module_version": "^0.16.0",
          "state": {
            "_model_module": "jupyter-leaflet",
            "_model_module_version": "^0.16.0",
            "_model_name": "LeafletWidgetControlModel",
            "_view_count": null,
            "_view_module": "jupyter-leaflet",
            "_view_module_version": "^0.16.0",
            "_view_name": "LeafletWidgetControlView",
            "max_height": null,
            "max_width": null,
            "min_height": null,
            "min_width": null,
            "options": [
              "position",
              "transparent_bg"
            ],
            "position": "bottomright",
            "transparent_bg": false,
            "widget": "IPY_MODEL_b80285d67f1642819e4c35d115c4d4b5"
          }
        },
        "895c5ad984ca441da42c1ea218fd3b29": {
          "model_module": "jupyter-leaflet",
          "model_name": "LeafletMeasureControlModel",
          "model_module_version": "^0.16.0",
          "state": {
            "_custom_units": {},
            "_model_module": "jupyter-leaflet",
            "_model_module_version": "^0.16.0",
            "_model_name": "LeafletMeasureControlModel",
            "_view_count": null,
            "_view_module": "jupyter-leaflet",
            "_view_module_version": "^0.16.0",
            "_view_name": "LeafletMeasureControlView",
            "active_color": "#ABE67E",
            "capture_z_index": 10000,
            "completed_color": "#C8F2BE",
            "options": [
              "active_color",
              "capture_z_index",
              "completed_color",
              "popup_options",
              "position",
              "primary_area_unit",
              "primary_length_unit",
              "secondary_area_unit",
              "secondary_length_unit"
            ],
            "popup_options": {
              "className": "leaflet-measure-resultpopup",
              "autoPanPadding": [
                10,
                10
              ]
            },
            "position": "topleft",
            "primary_area_unit": "acres",
            "primary_length_unit": "feet",
            "secondary_area_unit": null,
            "secondary_length_unit": null
          }
        },
        "43ea24dcfd6a4f6ea414466ef6f08fa3": {
          "model_module": "jupyter-leaflet",
          "model_name": "LeafletScaleControlModel",
          "model_module_version": "^0.16.0",
          "state": {
            "_model_module": "jupyter-leaflet",
            "_model_module_version": "^0.16.0",
            "_model_name": "LeafletScaleControlModel",
            "_view_count": null,
            "_view_module": "jupyter-leaflet",
            "_view_module_version": "^0.16.0",
            "_view_name": "LeafletScaleControlView",
            "imperial": true,
            "max_width": 100,
            "metric": true,
            "options": [
              "imperial",
              "max_width",
              "metric",
              "position",
              "update_when_idle"
            ],
            "position": "bottomleft",
            "update_when_idle": false
          }
        },
        "043def3f8bf94a61b61983b01c005109": {
          "model_module": "jupyter-leaflet",
          "model_name": "LeafletWidgetControlModel",
          "model_module_version": "^0.16.0",
          "state": {
            "_model_module": "jupyter-leaflet",
            "_model_module_version": "^0.16.0",
            "_model_name": "LeafletWidgetControlModel",
            "_view_count": null,
            "_view_module": "jupyter-leaflet",
            "_view_module_version": "^0.16.0",
            "_view_name": "LeafletWidgetControlView",
            "max_height": null,
            "max_width": null,
            "min_height": null,
            "min_width": null,
            "options": [
              "position",
              "transparent_bg"
            ],
            "position": "topright",
            "transparent_bg": false,
            "widget": "IPY_MODEL_063effa1985341708d86ae8585b0385e"
          }
        },
        "8a8804a005ab4d639f9464166036ae88": {
          "model_module": "jupyter-leaflet",
          "model_name": "LeafletMapStyleModel",
          "model_module_version": "^0.16.0",
          "state": {
            "_model_module": "jupyter-leaflet",
            "_model_module_version": "^0.16.0",
            "_model_name": "LeafletMapStyleModel",
            "_view_count": null,
            "_view_module": "@jupyter-widgets/base",
            "_view_module_version": "1.2.0",
            "_view_name": "StyleView",
            "cursor": "grab"
          }
        },
        "bfd968087b1741d19b1cabaa64029741": {
          "model_module": "jupyter-leaflet",
          "model_name": "LeafletMapStyleModel",
          "model_module_version": "^0.16.0",
          "state": {
            "_model_module": "jupyter-leaflet",
            "_model_module_version": "^0.16.0",
            "_model_name": "LeafletMapStyleModel",
            "_view_count": null,
            "_view_module": "@jupyter-widgets/base",
            "_view_module_version": "1.2.0",
            "_view_name": "StyleView",
            "cursor": "move"
          }
        },
        "a7b80b1e739841679f0c9e65f92a6cac": {
          "model_module": "jupyter-leaflet",
          "model_name": "LeafletTileLayerModel",
          "model_module_version": "^0.16.0",
          "state": {
            "_model_module": "jupyter-leaflet",
            "_model_module_version": "^0.16.0",
            "_model_name": "LeafletTileLayerModel",
            "_view_count": null,
            "_view_module": "jupyter-leaflet",
            "_view_module_version": "^0.16.0",
            "_view_name": "LeafletTileLayerView",
            "attribution": "&copy; <a href=\"https://www.openstreetmap.org/copyright\">OpenStreetMap</a> contributors",
            "base": true,
            "bottom": true,
            "bounds": null,
            "detect_retina": false,
            "loading": false,
            "max_native_zoom": 18,
            "max_zoom": 19,
            "min_native_zoom": 0,
            "min_zoom": 1,
            "name": "OpenStreetMap",
            "no_wrap": false,
            "opacity": 1,
            "options": [
              "attribution",
              "bounds",
              "detect_retina",
              "max_native_zoom",
              "max_zoom",
              "min_native_zoom",
              "min_zoom",
              "no_wrap",
              "tile_size",
              "tms"
            ],
            "popup": null,
            "popup_max_height": null,
            "popup_max_width": 300,
            "popup_min_width": 50,
            "show_loading": false,
            "tile_size": 256,
            "tms": false,
            "url": "https://a.tile.openstreetmap.org/{z}/{x}/{y}.png",
            "visible": true
          }
        },
        "b1ed7a1517b74b8db232ae4d0ca26650": {
          "model_module": "jupyter-leaflet",
          "model_name": "LeafletTileLayerModel",
          "model_module_version": "^0.16.0",
          "state": {
            "_model_module": "jupyter-leaflet",
            "_model_module_version": "^0.16.0",
            "_model_name": "LeafletTileLayerModel",
            "_view_count": null,
            "_view_module": "jupyter-leaflet",
            "_view_module_version": "^0.16.0",
            "_view_name": "LeafletTileLayerView",
            "attribution": "CartoDB",
            "base": false,
            "bottom": true,
            "bounds": null,
            "detect_retina": false,
            "loading": false,
            "max_native_zoom": 18,
            "max_zoom": 18,
            "min_native_zoom": 0,
            "min_zoom": 0,
            "name": "CartoDB",
            "no_wrap": false,
            "opacity": 1,
            "options": [
              "attribution",
              "bounds",
              "detect_retina",
              "max_native_zoom",
              "max_zoom",
              "min_native_zoom",
              "min_zoom",
              "no_wrap",
              "tile_size",
              "tms"
            ],
            "popup": null,
            "popup_max_height": null,
            "popup_max_width": 300,
            "popup_min_width": 50,
            "show_loading": false,
            "tile_size": 256,
            "tms": false,
            "url": "https://cartodb-basemaps-b.global.ssl.fastly.net/light_nolabels/{z}/{x}/{y}.png",
            "visible": true
          }
        },
        "05dd296e8c7740ce9d926796f73d23cf": {
          "model_module": "@jupyter-widgets/base",
          "model_name": "LayoutModel",
          "model_module_version": "1.2.0",
          "state": {
            "_model_module": "@jupyter-widgets/base",
            "_model_module_version": "1.2.0",
            "_model_name": "LayoutModel",
            "_view_count": null,
            "_view_module": "@jupyter-widgets/base",
            "_view_module_version": "1.2.0",
            "_view_name": "LayoutView",
            "align_content": null,
            "align_items": null,
            "align_self": null,
            "border": null,
            "bottom": null,
            "display": null,
            "flex": null,
            "flex_flow": null,
            "grid_area": null,
            "grid_auto_columns": null,
            "grid_auto_flow": null,
            "grid_auto_rows": null,
            "grid_column": null,
            "grid_gap": null,
            "grid_row": null,
            "grid_template_areas": null,
            "grid_template_columns": null,
            "grid_template_rows": null,
            "height": "500px",
            "justify_content": null,
            "justify_items": null,
            "left": null,
            "margin": null,
            "max_height": null,
            "max_width": null,
            "min_height": null,
            "min_width": null,
            "object_fit": null,
            "object_position": null,
            "order": null,
            "overflow": null,
            "overflow_x": null,
            "overflow_y": null,
            "padding": null,
            "right": null,
            "top": null,
            "visibility": null,
            "width": "500px"
          }
        },
        "daf2cd4c2ab545ecb452fe879bd2e7eb": {
          "model_module": "jupyter-leaflet",
          "model_name": "LeafletMapStyleModel",
          "model_module_version": "^0.16.0",
          "state": {
            "_model_module": "jupyter-leaflet",
            "_model_module_version": "^0.16.0",
            "_model_name": "LeafletMapStyleModel",
            "_view_count": null,
            "_view_module": "@jupyter-widgets/base",
            "_view_module_version": "1.2.0",
            "_view_name": "StyleView",
            "cursor": "grab"
          }
        },
        "b80285d67f1642819e4c35d115c4d4b5": {
          "model_module": "@jupyter-widgets/output",
          "model_name": "OutputModel",
          "model_module_version": "1.0.0",
          "state": {
            "_dom_classes": [],
            "_model_module": "@jupyter-widgets/output",
            "_model_module_version": "1.0.0",
            "_model_name": "OutputModel",
            "_view_count": null,
            "_view_module": "@jupyter-widgets/output",
            "_view_module_version": "1.0.0",
            "_view_name": "OutputView",
            "layout": "IPY_MODEL_ef44710840f14c1dac681ccddf03a087",
            "msg_id": "",
            "outputs": []
          }
        },
        "063effa1985341708d86ae8585b0385e": {
          "model_module": "@jupyter-widgets/controls",
          "model_name": "VBoxModel",
          "model_module_version": "1.5.0",
          "state": {
            "_dom_classes": [],
            "_model_module": "@jupyter-widgets/controls",
            "_model_module_version": "1.5.0",
            "_model_name": "VBoxModel",
            "_view_count": null,
            "_view_module": "@jupyter-widgets/controls",
            "_view_module_version": "1.5.0",
            "_view_name": "VBoxView",
            "box_style": "",
            "children": [
              "IPY_MODEL_2c1440631bdf4d5d853e9968a91b5dcb"
            ],
            "layout": "IPY_MODEL_f423b5b684ce4b4e975356b3b797ed7b"
          }
        },
        "ef44710840f14c1dac681ccddf03a087": {
          "model_module": "@jupyter-widgets/base",
          "model_name": "LayoutModel",
          "model_module_version": "1.2.0",
          "state": {
            "_model_module": "@jupyter-widgets/base",
            "_model_module_version": "1.2.0",
            "_model_name": "LayoutModel",
            "_view_count": null,
            "_view_module": "@jupyter-widgets/base",
            "_view_module_version": "1.2.0",
            "_view_name": "LayoutView",
            "align_content": null,
            "align_items": null,
            "align_self": null,
            "border": null,
            "bottom": null,
            "display": null,
            "flex": null,
            "flex_flow": null,
            "grid_area": null,
            "grid_auto_columns": null,
            "grid_auto_flow": null,
            "grid_auto_rows": null,
            "grid_column": null,
            "grid_gap": null,
            "grid_row": null,
            "grid_template_areas": null,
            "grid_template_columns": null,
            "grid_template_rows": null,
            "height": null,
            "justify_content": null,
            "justify_items": null,
            "left": null,
            "margin": null,
            "max_height": null,
            "max_width": null,
            "min_height": null,
            "min_width": null,
            "object_fit": null,
            "object_position": null,
            "order": null,
            "overflow": null,
            "overflow_x": null,
            "overflow_y": null,
            "padding": null,
            "right": null,
            "top": null,
            "visibility": null,
            "width": null
          }
        },
        "2c1440631bdf4d5d853e9968a91b5dcb": {
          "model_module": "@jupyter-widgets/controls",
          "model_name": "ToggleButtonModel",
          "model_module_version": "1.5.0",
          "state": {
            "_dom_classes": [],
            "_model_module": "@jupyter-widgets/controls",
            "_model_module_version": "1.5.0",
            "_model_name": "ToggleButtonModel",
            "_view_count": null,
            "_view_module": "@jupyter-widgets/controls",
            "_view_module_version": "1.5.0",
            "_view_name": "ToggleButtonView",
            "button_style": "",
            "description": "",
            "description_tooltip": null,
            "disabled": false,
            "icon": "wrench",
            "layout": "IPY_MODEL_c31fb0bc74284d569fbec1dc71ee2a1b",
            "style": "IPY_MODEL_2a977b66d01c40cbad929adcbd044d52",
            "tooltip": "Toolbar",
            "value": false
          }
        },
        "f423b5b684ce4b4e975356b3b797ed7b": {
          "model_module": "@jupyter-widgets/base",
          "model_name": "LayoutModel",
          "model_module_version": "1.2.0",
          "state": {
            "_model_module": "@jupyter-widgets/base",
            "_model_module_version": "1.2.0",
            "_model_name": "LayoutModel",
            "_view_count": null,
            "_view_module": "@jupyter-widgets/base",
            "_view_module_version": "1.2.0",
            "_view_name": "LayoutView",
            "align_content": null,
            "align_items": null,
            "align_self": null,
            "border": null,
            "bottom": null,
            "display": null,
            "flex": null,
            "flex_flow": null,
            "grid_area": null,
            "grid_auto_columns": null,
            "grid_auto_flow": null,
            "grid_auto_rows": null,
            "grid_column": null,
            "grid_gap": null,
            "grid_row": null,
            "grid_template_areas": null,
            "grid_template_columns": null,
            "grid_template_rows": null,
            "height": null,
            "justify_content": null,
            "justify_items": null,
            "left": null,
            "margin": null,
            "max_height": null,
            "max_width": null,
            "min_height": null,
            "min_width": null,
            "object_fit": null,
            "object_position": null,
            "order": null,
            "overflow": null,
            "overflow_x": null,
            "overflow_y": null,
            "padding": null,
            "right": null,
            "top": null,
            "visibility": null,
            "width": null
          }
        },
        "c31fb0bc74284d569fbec1dc71ee2a1b": {
          "model_module": "@jupyter-widgets/base",
          "model_name": "LayoutModel",
          "model_module_version": "1.2.0",
          "state": {
            "_model_module": "@jupyter-widgets/base",
            "_model_module_version": "1.2.0",
            "_model_name": "LayoutModel",
            "_view_count": null,
            "_view_module": "@jupyter-widgets/base",
            "_view_module_version": "1.2.0",
            "_view_name": "LayoutView",
            "align_content": null,
            "align_items": null,
            "align_self": null,
            "border": null,
            "bottom": null,
            "display": null,
            "flex": null,
            "flex_flow": null,
            "grid_area": null,
            "grid_auto_columns": null,
            "grid_auto_flow": null,
            "grid_auto_rows": null,
            "grid_column": null,
            "grid_gap": null,
            "grid_row": null,
            "grid_template_areas": null,
            "grid_template_columns": null,
            "grid_template_rows": null,
            "height": "28px",
            "justify_content": null,
            "justify_items": null,
            "left": null,
            "margin": null,
            "max_height": null,
            "max_width": null,
            "min_height": null,
            "min_width": null,
            "object_fit": null,
            "object_position": null,
            "order": null,
            "overflow": null,
            "overflow_x": null,
            "overflow_y": null,
            "padding": "0px 0px 0px 4px",
            "right": null,
            "top": null,
            "visibility": null,
            "width": "28px"
          }
        },
        "2a977b66d01c40cbad929adcbd044d52": {
          "model_module": "@jupyter-widgets/controls",
          "model_name": "DescriptionStyleModel",
          "model_module_version": "1.5.0",
          "state": {
            "_model_module": "@jupyter-widgets/controls",
            "_model_module_version": "1.5.0",
            "_model_name": "DescriptionStyleModel",
            "_view_count": null,
            "_view_module": "@jupyter-widgets/base",
            "_view_module_version": "1.2.0",
            "_view_name": "StyleView",
            "description_width": ""
          }
        },
        "3aae7676327c4be0b0f607118c3b00e1": {
          "model_module": "jupyter-leaflet",
          "model_name": "LeafletMapModel",
          "model_module_version": "^0.16.0",
          "state": {
            "_dom_classes": [],
            "_model_module": "jupyter-leaflet",
            "_model_module_version": "^0.16.0",
            "_model_name": "LeafletMapModel",
            "_view_count": null,
            "_view_module": "jupyter-leaflet",
            "_view_module_version": "^0.16.0",
            "_view_name": "LeafletMapView",
            "bottom": 7031300,
            "bounce_at_zoom_limits": true,
            "box_zoom": true,
            "center": [
              27.95054917552158,
              -82.45655536651613
            ],
            "close_popup_on_click": true,
            "controls": [
              "IPY_MODEL_3308086eea764681935dbaf906454eb0",
              "IPY_MODEL_9337df1f294e493ba269054e25527498",
              "IPY_MODEL_a2141bdeb9e64c57ab7893a024e155f9",
              "IPY_MODEL_a7d46f5242d34525938a692c8f5de949",
              "IPY_MODEL_0dac3b2393df471b9e265241c6cec1ac",
              "IPY_MODEL_878208ab69e14498bcf8cb40d8e6fd19",
              "IPY_MODEL_9a45ce145eb940339af0c5daaa94a7fd",
              "IPY_MODEL_006c5a2253bf4d14b89e3d96572bd399"
            ],
            "crs": {
              "name": "EPSG3857",
              "custom": false
            },
            "default_style": "IPY_MODEL_ac81ad440f374f22a1b520e5473d2dfc",
            "double_click_zoom": true,
            "dragging": true,
            "dragging_style": "IPY_MODEL_92a6fa5fc5714adbbba103d0fdb2e0ac",
            "east": -82.45119094848634,
            "fullscreen": false,
            "inertia": true,
            "inertia_deceleration": 3000,
            "inertia_max_speed": 1500,
            "interpolation": "bilinear",
            "keyboard": true,
            "keyboard_pan_offset": 80,
            "keyboard_zoom_offset": 1,
            "layers": [
              "IPY_MODEL_68cc5063b9574086bffa607530ec5420",
              "IPY_MODEL_8982aac9926d4aaf987eee3c59aa1e84",
              "IPY_MODEL_7106155c9d224ddfbf690f559a9bda2f"
            ],
            "layout": "IPY_MODEL_6a7c7c13f5774e9d9d4864f3e3194f16",
            "left": 4545604,
            "max_zoom": 24,
            "min_zoom": 1,
            "modisdate": "2022-06-07",
            "north": 27.955287743380442,
            "options": [
              "bounce_at_zoom_limits",
              "box_zoom",
              "center",
              "close_popup_on_click",
              "double_click_zoom",
              "dragging",
              "fullscreen",
              "inertia",
              "inertia_deceleration",
              "inertia_max_speed",
              "interpolation",
              "keyboard",
              "keyboard_pan_offset",
              "keyboard_zoom_offset",
              "max_zoom",
              "min_zoom",
              "prefer_canvas",
              "scroll_wheel_zoom",
              "tap",
              "tap_tolerance",
              "touch_zoom",
              "world_copy_jump",
              "zoom",
              "zoom_animation_threshold",
              "zoom_delta",
              "zoom_snap",
              "zoom_start"
            ],
            "prefer_canvas": false,
            "right": 4546104,
            "scroll_wheel_zoom": true,
            "south": 27.94581039971215,
            "style": "IPY_MODEL_ac81ad440f374f22a1b520e5473d2dfc",
            "tap": true,
            "tap_tolerance": 15,
            "top": 7030800,
            "touch_zoom": true,
            "west": -82.46191978454591,
            "window_url": "https://phwfxea3lvi-496ff2e9c6d22116-0-colab.googleusercontent.com/outputframe.html?vrz=colab-20220607-060047-RC00_453385713",
            "world_copy_jump": false,
            "zoom": 16,
            "zoom_animation_threshold": 4,
            "zoom_delta": 1,
            "zoom_snap": 1,
            "zoom_start": 12,
            "_dragging": false
          }
        },
        "3308086eea764681935dbaf906454eb0": {
          "model_module": "jupyter-leaflet",
          "model_name": "LeafletZoomControlModel",
          "model_module_version": "^0.16.0",
          "state": {
            "_model_module": "jupyter-leaflet",
            "_model_module_version": "^0.16.0",
            "_model_name": "LeafletZoomControlModel",
            "_view_count": null,
            "_view_module": "jupyter-leaflet",
            "_view_module_version": "^0.16.0",
            "_view_name": "LeafletZoomControlView",
            "options": [
              "position",
              "zoom_in_text",
              "zoom_in_title",
              "zoom_out_text",
              "zoom_out_title"
            ],
            "position": "topleft",
            "zoom_in_text": "+",
            "zoom_in_title": "Zoom in",
            "zoom_out_text": "-",
            "zoom_out_title": "Zoom out"
          }
        },
        "9337df1f294e493ba269054e25527498": {
          "model_module": "jupyter-leaflet",
          "model_name": "LeafletAttributionControlModel",
          "model_module_version": "^0.16.0",
          "state": {
            "_model_module": "jupyter-leaflet",
            "_model_module_version": "^0.16.0",
            "_model_name": "LeafletAttributionControlModel",
            "_view_count": null,
            "_view_module": "jupyter-leaflet",
            "_view_module_version": "^0.16.0",
            "_view_name": "LeafletAttributionControlView",
            "options": [
              "position",
              "prefix"
            ],
            "position": "bottomright",
            "prefix": "ipyleaflet"
          }
        },
        "a2141bdeb9e64c57ab7893a024e155f9": {
          "model_module": "jupyter-leaflet",
          "model_name": "LeafletFullScreenControlModel",
          "model_module_version": "^0.16.0",
          "state": {
            "_model_module": "jupyter-leaflet",
            "_model_module_version": "^0.16.0",
            "_model_name": "LeafletFullScreenControlModel",
            "_view_count": null,
            "_view_module": "jupyter-leaflet",
            "_view_module_version": "^0.16.0",
            "_view_name": "LeafletFullScreenControlView",
            "options": [
              "position"
            ],
            "position": "topleft"
          }
        },
        "a7d46f5242d34525938a692c8f5de949": {
          "model_module": "jupyter-leaflet",
          "model_name": "LeafletDrawControlModel",
          "model_module_version": "^0.16.0",
          "state": {
            "_model_module": "jupyter-leaflet",
            "_model_module_version": "^0.16.0",
            "_model_name": "LeafletDrawControlModel",
            "_view_count": null,
            "_view_module": "jupyter-leaflet",
            "_view_module_version": "^0.16.0",
            "_view_name": "LeafletDrawControlView",
            "circle": {
              "shapeOptions": {
                "color": "#3388ff"
              }
            },
            "circlemarker": {},
            "data": [],
            "edit": true,
            "marker": {
              "shapeOptions": {
                "color": "#3388ff"
              }
            },
            "options": [
              "position"
            ],
            "polygon": {
              "shapeOptions": {}
            },
            "polyline": {
              "shapeOptions": {}
            },
            "position": "topleft",
            "rectangle": {
              "shapeOptions": {
                "color": "#3388ff"
              }
            },
            "remove": true
          }
        },
        "0dac3b2393df471b9e265241c6cec1ac": {
          "model_module": "jupyter-leaflet",
          "model_name": "LeafletWidgetControlModel",
          "model_module_version": "^0.16.0",
          "state": {
            "_model_module": "jupyter-leaflet",
            "_model_module_version": "^0.16.0",
            "_model_name": "LeafletWidgetControlModel",
            "_view_count": null,
            "_view_module": "jupyter-leaflet",
            "_view_module_version": "^0.16.0",
            "_view_name": "LeafletWidgetControlView",
            "max_height": null,
            "max_width": null,
            "min_height": null,
            "min_width": null,
            "options": [
              "position",
              "transparent_bg"
            ],
            "position": "bottomright",
            "transparent_bg": false,
            "widget": "IPY_MODEL_3d21d4953c5d4b75a87d77eeb787194e"
          }
        },
        "878208ab69e14498bcf8cb40d8e6fd19": {
          "model_module": "jupyter-leaflet",
          "model_name": "LeafletMeasureControlModel",
          "model_module_version": "^0.16.0",
          "state": {
            "_custom_units": {},
            "_model_module": "jupyter-leaflet",
            "_model_module_version": "^0.16.0",
            "_model_name": "LeafletMeasureControlModel",
            "_view_count": null,
            "_view_module": "jupyter-leaflet",
            "_view_module_version": "^0.16.0",
            "_view_name": "LeafletMeasureControlView",
            "active_color": "#ABE67E",
            "capture_z_index": 10000,
            "completed_color": "#C8F2BE",
            "options": [
              "active_color",
              "capture_z_index",
              "completed_color",
              "popup_options",
              "position",
              "primary_area_unit",
              "primary_length_unit",
              "secondary_area_unit",
              "secondary_length_unit"
            ],
            "popup_options": {
              "className": "leaflet-measure-resultpopup",
              "autoPanPadding": [
                10,
                10
              ]
            },
            "position": "topleft",
            "primary_area_unit": "acres",
            "primary_length_unit": "feet",
            "secondary_area_unit": null,
            "secondary_length_unit": null
          }
        },
        "9a45ce145eb940339af0c5daaa94a7fd": {
          "model_module": "jupyter-leaflet",
          "model_name": "LeafletScaleControlModel",
          "model_module_version": "^0.16.0",
          "state": {
            "_model_module": "jupyter-leaflet",
            "_model_module_version": "^0.16.0",
            "_model_name": "LeafletScaleControlModel",
            "_view_count": null,
            "_view_module": "jupyter-leaflet",
            "_view_module_version": "^0.16.0",
            "_view_name": "LeafletScaleControlView",
            "imperial": true,
            "max_width": 100,
            "metric": true,
            "options": [
              "imperial",
              "max_width",
              "metric",
              "position",
              "update_when_idle"
            ],
            "position": "bottomleft",
            "update_when_idle": false
          }
        },
        "006c5a2253bf4d14b89e3d96572bd399": {
          "model_module": "jupyter-leaflet",
          "model_name": "LeafletWidgetControlModel",
          "model_module_version": "^0.16.0",
          "state": {
            "_model_module": "jupyter-leaflet",
            "_model_module_version": "^0.16.0",
            "_model_name": "LeafletWidgetControlModel",
            "_view_count": null,
            "_view_module": "jupyter-leaflet",
            "_view_module_version": "^0.16.0",
            "_view_name": "LeafletWidgetControlView",
            "max_height": null,
            "max_width": null,
            "min_height": null,
            "min_width": null,
            "options": [
              "position",
              "transparent_bg"
            ],
            "position": "topright",
            "transparent_bg": false,
            "widget": "IPY_MODEL_aad0216263c7402aa8297c7b3dd783bf"
          }
        },
        "ac81ad440f374f22a1b520e5473d2dfc": {
          "model_module": "jupyter-leaflet",
          "model_name": "LeafletMapStyleModel",
          "model_module_version": "^0.16.0",
          "state": {
            "_model_module": "jupyter-leaflet",
            "_model_module_version": "^0.16.0",
            "_model_name": "LeafletMapStyleModel",
            "_view_count": null,
            "_view_module": "@jupyter-widgets/base",
            "_view_module_version": "1.2.0",
            "_view_name": "StyleView",
            "cursor": "default"
          }
        },
        "92a6fa5fc5714adbbba103d0fdb2e0ac": {
          "model_module": "jupyter-leaflet",
          "model_name": "LeafletMapStyleModel",
          "model_module_version": "^0.16.0",
          "state": {
            "_model_module": "jupyter-leaflet",
            "_model_module_version": "^0.16.0",
            "_model_name": "LeafletMapStyleModel",
            "_view_count": null,
            "_view_module": "@jupyter-widgets/base",
            "_view_module_version": "1.2.0",
            "_view_name": "StyleView",
            "cursor": "move"
          }
        },
        "68cc5063b9574086bffa607530ec5420": {
          "model_module": "jupyter-leaflet",
          "model_name": "LeafletTileLayerModel",
          "model_module_version": "^0.16.0",
          "state": {
            "_model_module": "jupyter-leaflet",
            "_model_module_version": "^0.16.0",
            "_model_name": "LeafletTileLayerModel",
            "_view_count": null,
            "_view_module": "jupyter-leaflet",
            "_view_module_version": "^0.16.0",
            "_view_name": "LeafletTileLayerView",
            "attribution": "&copy; <a href=\"https://www.openstreetmap.org/copyright\">OpenStreetMap</a> contributors",
            "base": true,
            "bottom": true,
            "bounds": null,
            "detect_retina": false,
            "loading": false,
            "max_native_zoom": 18,
            "max_zoom": 19,
            "min_native_zoom": 0,
            "min_zoom": 1,
            "name": "OpenStreetMap",
            "no_wrap": false,
            "opacity": 1,
            "options": [
              "attribution",
              "bounds",
              "detect_retina",
              "max_native_zoom",
              "max_zoom",
              "min_native_zoom",
              "min_zoom",
              "no_wrap",
              "tile_size",
              "tms"
            ],
            "popup": null,
            "popup_max_height": null,
            "popup_max_width": 300,
            "popup_min_width": 50,
            "show_loading": false,
            "tile_size": 256,
            "tms": false,
            "url": "https://a.tile.openstreetmap.org/{z}/{x}/{y}.png",
            "visible": true
          }
        },
        "8982aac9926d4aaf987eee3c59aa1e84": {
          "model_module": "jupyter-leaflet",
          "model_name": "LeafletTileLayerModel",
          "model_module_version": "^0.16.0",
          "state": {
            "_model_module": "jupyter-leaflet",
            "_model_module_version": "^0.16.0",
            "_model_name": "LeafletTileLayerModel",
            "_view_count": null,
            "_view_module": "jupyter-leaflet",
            "_view_module_version": "^0.16.0",
            "_view_name": "LeafletTileLayerView",
            "attribution": "CartoDB",
            "base": false,
            "bottom": true,
            "bounds": null,
            "detect_retina": false,
            "loading": false,
            "max_native_zoom": 18,
            "max_zoom": 18,
            "min_native_zoom": 0,
            "min_zoom": 0,
            "name": "CartoDB",
            "no_wrap": false,
            "opacity": 1,
            "options": [
              "attribution",
              "bounds",
              "detect_retina",
              "max_native_zoom",
              "max_zoom",
              "min_native_zoom",
              "min_zoom",
              "no_wrap",
              "tile_size",
              "tms"
            ],
            "popup": null,
            "popup_max_height": null,
            "popup_max_width": 300,
            "popup_min_width": 50,
            "show_loading": false,
            "tile_size": 256,
            "tms": false,
            "url": "https://cartodb-basemaps-b.global.ssl.fastly.net/light_nolabels/{z}/{x}/{y}.png",
            "visible": true
          }
        },
        "7106155c9d224ddfbf690f559a9bda2f": {
          "model_module": "jupyter-leaflet",
          "model_name": "LeafletMarkerClusterModel",
          "model_module_version": "^0.16.0",
          "state": {
            "_model_module": "jupyter-leaflet",
            "_model_module_version": "^0.16.0",
            "_model_name": "LeafletMarkerClusterModel",
            "_view_count": null,
            "_view_module": "jupyter-leaflet",
            "_view_module_version": "^0.16.0",
            "_view_name": "LeafletMarkerClusterView",
            "base": false,
            "bottom": false,
            "disable_clustering_at_zoom": 18,
            "markers": [
              "IPY_MODEL_6043713323b74d02bb1b4a67818d1fc7",
              "IPY_MODEL_c72868168924478fab955dc608074408"
            ],
            "max_cluster_radius": 80,
            "name": "od",
            "options": [
              "disable_clustering_at_zoom",
              "max_cluster_radius"
            ],
            "popup": null,
            "popup_max_height": null,
            "popup_max_width": 300,
            "popup_min_width": 50
          }
        },
        "6a7c7c13f5774e9d9d4864f3e3194f16": {
          "model_module": "@jupyter-widgets/base",
          "model_name": "LayoutModel",
          "model_module_version": "1.2.0",
          "state": {
            "_model_module": "@jupyter-widgets/base",
            "_model_module_version": "1.2.0",
            "_model_name": "LayoutModel",
            "_view_count": null,
            "_view_module": "@jupyter-widgets/base",
            "_view_module_version": "1.2.0",
            "_view_name": "LayoutView",
            "align_content": null,
            "align_items": null,
            "align_self": null,
            "border": null,
            "bottom": null,
            "display": null,
            "flex": null,
            "flex_flow": null,
            "grid_area": null,
            "grid_auto_columns": null,
            "grid_auto_flow": null,
            "grid_auto_rows": null,
            "grid_column": null,
            "grid_gap": null,
            "grid_row": null,
            "grid_template_areas": null,
            "grid_template_columns": null,
            "grid_template_rows": null,
            "height": "500px",
            "justify_content": null,
            "justify_items": null,
            "left": null,
            "margin": null,
            "max_height": null,
            "max_width": null,
            "min_height": null,
            "min_width": null,
            "object_fit": null,
            "object_position": null,
            "order": null,
            "overflow": null,
            "overflow_x": null,
            "overflow_y": null,
            "padding": null,
            "right": null,
            "top": null,
            "visibility": null,
            "width": "500px"
          }
        },
        "e887ab33e3a54319a4d99471f6c6ef36": {
          "model_module": "jupyter-leaflet",
          "model_name": "LeafletMapStyleModel",
          "model_module_version": "^0.16.0",
          "state": {
            "_model_module": "jupyter-leaflet",
            "_model_module_version": "^0.16.0",
            "_model_name": "LeafletMapStyleModel",
            "_view_count": null,
            "_view_module": "@jupyter-widgets/base",
            "_view_module_version": "1.2.0",
            "_view_name": "StyleView",
            "cursor": "grab"
          }
        },
        "3d21d4953c5d4b75a87d77eeb787194e": {
          "model_module": "@jupyter-widgets/output",
          "model_name": "OutputModel",
          "model_module_version": "1.0.0",
          "state": {
            "_dom_classes": [],
            "_model_module": "@jupyter-widgets/output",
            "_model_module_version": "1.0.0",
            "_model_name": "OutputModel",
            "_view_count": null,
            "_view_module": "@jupyter-widgets/output",
            "_view_module_version": "1.0.0",
            "_view_name": "OutputView",
            "layout": "IPY_MODEL_f23f806913e3484f838bd08671c71a7c",
            "msg_id": "",
            "outputs": []
          }
        },
        "aad0216263c7402aa8297c7b3dd783bf": {
          "model_module": "@jupyter-widgets/controls",
          "model_name": "VBoxModel",
          "model_module_version": "1.5.0",
          "state": {
            "_dom_classes": [],
            "_model_module": "@jupyter-widgets/controls",
            "_model_module_version": "1.5.0",
            "_model_name": "VBoxModel",
            "_view_count": null,
            "_view_module": "@jupyter-widgets/controls",
            "_view_module_version": "1.5.0",
            "_view_name": "VBoxView",
            "box_style": "",
            "children": [
              "IPY_MODEL_847c96df57314487a9bc9b43d5f7a049"
            ],
            "layout": "IPY_MODEL_ef80abe1c41a4637ab3a1cbf0c7c263f"
          }
        },
        "6043713323b74d02bb1b4a67818d1fc7": {
          "model_module": "jupyter-leaflet",
          "model_name": "LeafletMarkerModel",
          "model_module_version": "^0.16.0",
          "state": {
            "_model_module": "jupyter-leaflet",
            "_model_module_version": "^0.16.0",
            "_model_name": "LeafletMarkerModel",
            "_view_count": null,
            "_view_module": "jupyter-leaflet",
            "_view_module_version": "^0.16.0",
            "_view_name": "LeafletMarkerView",
            "alt": "",
            "base": false,
            "bottom": false,
            "draggable": false,
            "icon": null,
            "keyboard": true,
            "location": [
              27.94853,
              -82.45863
            ],
            "name": "",
            "opacity": 1,
            "options": [
              "alt",
              "draggable",
              "keyboard",
              "rise_offset",
              "rise_on_hover",
              "rotation_angle",
              "rotation_origin",
              "title",
              "z_index_offset"
            ],
            "popup": "IPY_MODEL_2a1981757b9f447e916b8abf96b2df1c",
            "popup_max_height": null,
            "popup_max_width": 300,
            "popup_min_width": 50,
            "rise_offset": 250,
            "rise_on_hover": false,
            "rotation_angle": 0,
            "rotation_origin": "",
            "title": "",
            "visible": true,
            "z_index_offset": 0
          }
        },
        "c72868168924478fab955dc608074408": {
          "model_module": "jupyter-leaflet",
          "model_name": "LeafletMarkerModel",
          "model_module_version": "^0.16.0",
          "state": {
            "_model_module": "jupyter-leaflet",
            "_model_module_version": "^0.16.0",
            "_model_name": "LeafletMarkerModel",
            "_view_count": null,
            "_view_module": "jupyter-leaflet",
            "_view_module_version": "^0.16.0",
            "_view_name": "LeafletMarkerView",
            "alt": "",
            "base": false,
            "bottom": false,
            "draggable": false,
            "icon": null,
            "keyboard": true,
            "location": [
              27.95102,
              -82.45413
            ],
            "name": "",
            "opacity": 1,
            "options": [
              "alt",
              "draggable",
              "keyboard",
              "rise_offset",
              "rise_on_hover",
              "rotation_angle",
              "rotation_origin",
              "title",
              "z_index_offset"
            ],
            "popup": "IPY_MODEL_c093cacfb0a4415e817e1da1f1c68272",
            "popup_max_height": null,
            "popup_max_width": 300,
            "popup_min_width": 50,
            "rise_offset": 250,
            "rise_on_hover": false,
            "rotation_angle": 0,
            "rotation_origin": "",
            "title": "",
            "visible": true,
            "z_index_offset": 0
          }
        },
        "f23f806913e3484f838bd08671c71a7c": {
          "model_module": "@jupyter-widgets/base",
          "model_name": "LayoutModel",
          "model_module_version": "1.2.0",
          "state": {
            "_model_module": "@jupyter-widgets/base",
            "_model_module_version": "1.2.0",
            "_model_name": "LayoutModel",
            "_view_count": null,
            "_view_module": "@jupyter-widgets/base",
            "_view_module_version": "1.2.0",
            "_view_name": "LayoutView",
            "align_content": null,
            "align_items": null,
            "align_self": null,
            "border": null,
            "bottom": null,
            "display": null,
            "flex": null,
            "flex_flow": null,
            "grid_area": null,
            "grid_auto_columns": null,
            "grid_auto_flow": null,
            "grid_auto_rows": null,
            "grid_column": null,
            "grid_gap": null,
            "grid_row": null,
            "grid_template_areas": null,
            "grid_template_columns": null,
            "grid_template_rows": null,
            "height": null,
            "justify_content": null,
            "justify_items": null,
            "left": null,
            "margin": null,
            "max_height": null,
            "max_width": null,
            "min_height": null,
            "min_width": null,
            "object_fit": null,
            "object_position": null,
            "order": null,
            "overflow": null,
            "overflow_x": null,
            "overflow_y": null,
            "padding": null,
            "right": null,
            "top": null,
            "visibility": null,
            "width": null
          }
        },
        "847c96df57314487a9bc9b43d5f7a049": {
          "model_module": "@jupyter-widgets/controls",
          "model_name": "ToggleButtonModel",
          "model_module_version": "1.5.0",
          "state": {
            "_dom_classes": [],
            "_model_module": "@jupyter-widgets/controls",
            "_model_module_version": "1.5.0",
            "_model_name": "ToggleButtonModel",
            "_view_count": null,
            "_view_module": "@jupyter-widgets/controls",
            "_view_module_version": "1.5.0",
            "_view_name": "ToggleButtonView",
            "button_style": "",
            "description": "",
            "description_tooltip": null,
            "disabled": false,
            "icon": "wrench",
            "layout": "IPY_MODEL_4adf9b1922f94c11be13aad98f06566f",
            "style": "IPY_MODEL_e55f6a34482542d08a3a2bebb6aadcd3",
            "tooltip": "Toolbar",
            "value": false
          }
        },
        "ef80abe1c41a4637ab3a1cbf0c7c263f": {
          "model_module": "@jupyter-widgets/base",
          "model_name": "LayoutModel",
          "model_module_version": "1.2.0",
          "state": {
            "_model_module": "@jupyter-widgets/base",
            "_model_module_version": "1.2.0",
            "_model_name": "LayoutModel",
            "_view_count": null,
            "_view_module": "@jupyter-widgets/base",
            "_view_module_version": "1.2.0",
            "_view_name": "LayoutView",
            "align_content": null,
            "align_items": null,
            "align_self": null,
            "border": null,
            "bottom": null,
            "display": null,
            "flex": null,
            "flex_flow": null,
            "grid_area": null,
            "grid_auto_columns": null,
            "grid_auto_flow": null,
            "grid_auto_rows": null,
            "grid_column": null,
            "grid_gap": null,
            "grid_row": null,
            "grid_template_areas": null,
            "grid_template_columns": null,
            "grid_template_rows": null,
            "height": null,
            "justify_content": null,
            "justify_items": null,
            "left": null,
            "margin": null,
            "max_height": null,
            "max_width": null,
            "min_height": null,
            "min_width": null,
            "object_fit": null,
            "object_position": null,
            "order": null,
            "overflow": null,
            "overflow_x": null,
            "overflow_y": null,
            "padding": null,
            "right": null,
            "top": null,
            "visibility": null,
            "width": null
          }
        },
        "2a1981757b9f447e916b8abf96b2df1c": {
          "model_module": "@jupyter-widgets/controls",
          "model_name": "HTMLModel",
          "model_module_version": "1.5.0",
          "state": {
            "_dom_classes": [],
            "_model_module": "@jupyter-widgets/controls",
            "_model_module_version": "1.5.0",
            "_model_name": "HTMLModel",
            "_view_count": null,
            "_view_module": "@jupyter-widgets/controls",
            "_view_module_version": "1.5.0",
            "_view_name": "HTMLView",
            "description": "",
            "description_tooltip": null,
            "layout": "IPY_MODEL_3182ff90d9c544fa888e0476e2133e03",
            "placeholder": "​",
            "style": "IPY_MODEL_f141da726af1471b84f0a82af75ecbe5",
            "value": "origin"
          }
        },
        "c093cacfb0a4415e817e1da1f1c68272": {
          "model_module": "@jupyter-widgets/controls",
          "model_name": "HTMLModel",
          "model_module_version": "1.5.0",
          "state": {
            "_dom_classes": [],
            "_model_module": "@jupyter-widgets/controls",
            "_model_module_version": "1.5.0",
            "_model_name": "HTMLModel",
            "_view_count": null,
            "_view_module": "@jupyter-widgets/controls",
            "_view_module_version": "1.5.0",
            "_view_name": "HTMLView",
            "description": "",
            "description_tooltip": null,
            "layout": "IPY_MODEL_79a8be5819374b04b86e58592e0a7c5c",
            "placeholder": "​",
            "style": "IPY_MODEL_91c7eddaeaef404c8235aa17e8478e02",
            "value": "destination"
          }
        },
        "4adf9b1922f94c11be13aad98f06566f": {
          "model_module": "@jupyter-widgets/base",
          "model_name": "LayoutModel",
          "model_module_version": "1.2.0",
          "state": {
            "_model_module": "@jupyter-widgets/base",
            "_model_module_version": "1.2.0",
            "_model_name": "LayoutModel",
            "_view_count": null,
            "_view_module": "@jupyter-widgets/base",
            "_view_module_version": "1.2.0",
            "_view_name": "LayoutView",
            "align_content": null,
            "align_items": null,
            "align_self": null,
            "border": null,
            "bottom": null,
            "display": null,
            "flex": null,
            "flex_flow": null,
            "grid_area": null,
            "grid_auto_columns": null,
            "grid_auto_flow": null,
            "grid_auto_rows": null,
            "grid_column": null,
            "grid_gap": null,
            "grid_row": null,
            "grid_template_areas": null,
            "grid_template_columns": null,
            "grid_template_rows": null,
            "height": "28px",
            "justify_content": null,
            "justify_items": null,
            "left": null,
            "margin": null,
            "max_height": null,
            "max_width": null,
            "min_height": null,
            "min_width": null,
            "object_fit": null,
            "object_position": null,
            "order": null,
            "overflow": null,
            "overflow_x": null,
            "overflow_y": null,
            "padding": "0px 0px 0px 4px",
            "right": null,
            "top": null,
            "visibility": null,
            "width": "28px"
          }
        },
        "e55f6a34482542d08a3a2bebb6aadcd3": {
          "model_module": "@jupyter-widgets/controls",
          "model_name": "DescriptionStyleModel",
          "model_module_version": "1.5.0",
          "state": {
            "_model_module": "@jupyter-widgets/controls",
            "_model_module_version": "1.5.0",
            "_model_name": "DescriptionStyleModel",
            "_view_count": null,
            "_view_module": "@jupyter-widgets/base",
            "_view_module_version": "1.2.0",
            "_view_name": "StyleView",
            "description_width": ""
          }
        },
        "3182ff90d9c544fa888e0476e2133e03": {
          "model_module": "@jupyter-widgets/base",
          "model_name": "LayoutModel",
          "model_module_version": "1.2.0",
          "state": {
            "_model_module": "@jupyter-widgets/base",
            "_model_module_version": "1.2.0",
            "_model_name": "LayoutModel",
            "_view_count": null,
            "_view_module": "@jupyter-widgets/base",
            "_view_module_version": "1.2.0",
            "_view_name": "LayoutView",
            "align_content": null,
            "align_items": null,
            "align_self": null,
            "border": null,
            "bottom": null,
            "display": null,
            "flex": null,
            "flex_flow": null,
            "grid_area": null,
            "grid_auto_columns": null,
            "grid_auto_flow": null,
            "grid_auto_rows": null,
            "grid_column": null,
            "grid_gap": null,
            "grid_row": null,
            "grid_template_areas": null,
            "grid_template_columns": null,
            "grid_template_rows": null,
            "height": null,
            "justify_content": null,
            "justify_items": null,
            "left": null,
            "margin": null,
            "max_height": null,
            "max_width": null,
            "min_height": null,
            "min_width": null,
            "object_fit": null,
            "object_position": null,
            "order": null,
            "overflow": null,
            "overflow_x": null,
            "overflow_y": null,
            "padding": null,
            "right": null,
            "top": null,
            "visibility": null,
            "width": null
          }
        },
        "f141da726af1471b84f0a82af75ecbe5": {
          "model_module": "@jupyter-widgets/controls",
          "model_name": "DescriptionStyleModel",
          "model_module_version": "1.5.0",
          "state": {
            "_model_module": "@jupyter-widgets/controls",
            "_model_module_version": "1.5.0",
            "_model_name": "DescriptionStyleModel",
            "_view_count": null,
            "_view_module": "@jupyter-widgets/base",
            "_view_module_version": "1.2.0",
            "_view_name": "StyleView",
            "description_width": ""
          }
        },
        "79a8be5819374b04b86e58592e0a7c5c": {
          "model_module": "@jupyter-widgets/base",
          "model_name": "LayoutModel",
          "model_module_version": "1.2.0",
          "state": {
            "_model_module": "@jupyter-widgets/base",
            "_model_module_version": "1.2.0",
            "_model_name": "LayoutModel",
            "_view_count": null,
            "_view_module": "@jupyter-widgets/base",
            "_view_module_version": "1.2.0",
            "_view_name": "LayoutView",
            "align_content": null,
            "align_items": null,
            "align_self": null,
            "border": null,
            "bottom": null,
            "display": null,
            "flex": null,
            "flex_flow": null,
            "grid_area": null,
            "grid_auto_columns": null,
            "grid_auto_flow": null,
            "grid_auto_rows": null,
            "grid_column": null,
            "grid_gap": null,
            "grid_row": null,
            "grid_template_areas": null,
            "grid_template_columns": null,
            "grid_template_rows": null,
            "height": null,
            "justify_content": null,
            "justify_items": null,
            "left": null,
            "margin": null,
            "max_height": null,
            "max_width": null,
            "min_height": null,
            "min_width": null,
            "object_fit": null,
            "object_position": null,
            "order": null,
            "overflow": null,
            "overflow_x": null,
            "overflow_y": null,
            "padding": null,
            "right": null,
            "top": null,
            "visibility": null,
            "width": null
          }
        },
        "91c7eddaeaef404c8235aa17e8478e02": {
          "model_module": "@jupyter-widgets/controls",
          "model_name": "DescriptionStyleModel",
          "model_module_version": "1.5.0",
          "state": {
            "_model_module": "@jupyter-widgets/controls",
            "_model_module_version": "1.5.0",
            "_model_name": "DescriptionStyleModel",
            "_view_count": null,
            "_view_module": "@jupyter-widgets/base",
            "_view_module_version": "1.2.0",
            "_view_name": "StyleView",
            "description_width": ""
          }
        },
        "7814839492074952bc5f77cf74e91054": {
          "model_module": "jupyter-leaflet",
          "model_name": "LeafletMapModel",
          "model_module_version": "^0.16.0",
          "state": {
            "_dom_classes": [],
            "_model_module": "jupyter-leaflet",
            "_model_module_version": "^0.16.0",
            "_model_name": "LeafletMapModel",
            "_view_count": null,
            "_view_module": "jupyter-leaflet",
            "_view_module_version": "^0.16.0",
            "_view_name": "LeafletMapView",
            "bottom": 14062499,
            "bounce_at_zoom_limits": true,
            "box_zoom": true,
            "center": [
              27.95056,
              -82.45656
            ],
            "close_popup_on_click": true,
            "controls": [
              "IPY_MODEL_1c9afe53b75344cd91f9db114d89a49d",
              "IPY_MODEL_765b1de47a33421e8e4fd2df684852ba",
              "IPY_MODEL_dbfce3d3627d4329a3af1cd07cb3fec5",
              "IPY_MODEL_5e2900f823d24af787d3621494482418",
              "IPY_MODEL_c0dc690683944a7f97567f2e4d2b67ed",
              "IPY_MODEL_350ed0ce566a4e48bfd88a91e73f1189",
              "IPY_MODEL_db9c6cf7d0244e63a6b60b40bfbda583",
              "IPY_MODEL_f719157cba19485aa8df4ab19a2e93f4",
              "IPY_MODEL_f60b24d6b2944a569f21066d191fdd5a"
            ],
            "crs": {
              "name": "EPSG3857",
              "custom": false
            },
            "default_style": "IPY_MODEL_905aa1abe88e491c8ca60f6098d39fa4",
            "double_click_zoom": true,
            "dragging": true,
            "dragging_style": "IPY_MODEL_d3eb5072c4b24312b209d98ee4f9d9a4",
            "east": -82.45119094848634,
            "fullscreen": false,
            "inertia": true,
            "inertia_deceleration": 3000,
            "inertia_max_speed": 1500,
            "interpolation": "bilinear",
            "keyboard": true,
            "keyboard_pan_offset": 80,
            "keyboard_zoom_offset": 1,
            "layers": [
              "IPY_MODEL_33dd7c8b626c43d39849244a71d280f1",
              "IPY_MODEL_407748605eea42799a7f0849edbf063b",
              "IPY_MODEL_e22e592952494f7c85efa8d9aaaa9a6f",
              "IPY_MODEL_38f6ab6f26a24c7b9cb10991595cd912",
              "IPY_MODEL_38311b444d244121bc4cfb5ab1ddd549"
            ],
            "layout": "IPY_MODEL_ed2c723cdafb423aad6a093042a86b4e",
            "left": 9091208,
            "max_zoom": 24,
            "min_zoom": 1,
            "modisdate": "2022-06-07",
            "north": 27.954349523456365,
            "options": [
              "bounce_at_zoom_limits",
              "box_zoom",
              "center",
              "close_popup_on_click",
              "double_click_zoom",
              "dragging",
              "fullscreen",
              "inertia",
              "inertia_deceleration",
              "inertia_max_speed",
              "interpolation",
              "keyboard",
              "keyboard_pan_offset",
              "keyboard_zoom_offset",
              "max_zoom",
              "min_zoom",
              "prefer_canvas",
              "scroll_wheel_zoom",
              "tap",
              "tap_tolerance",
              "touch_zoom",
              "world_copy_jump",
              "zoom",
              "zoom_animation_threshold",
              "zoom_delta",
              "zoom_snap",
              "zoom_start"
            ],
            "prefer_canvas": false,
            "right": 9092208,
            "scroll_wheel_zoom": true,
            "south": 27.94676764918493,
            "style": "IPY_MODEL_fce7ab659bbd478ea028b5833d1fcea3",
            "tap": true,
            "tap_tolerance": 15,
            "top": 14061699,
            "touch_zoom": true,
            "west": -82.46191978454591,
            "window_url": "https://phwfxea3lvi-496ff2e9c6d22116-0-colab.googleusercontent.com/outputframe.html?vrz=colab-20220607-060047-RC00_453385713",
            "world_copy_jump": false,
            "zoom": 17,
            "zoom_animation_threshold": 4,
            "zoom_delta": 1,
            "zoom_snap": 1,
            "zoom_start": 12
          }
        },
        "1c9afe53b75344cd91f9db114d89a49d": {
          "model_module": "jupyter-leaflet",
          "model_name": "LeafletZoomControlModel",
          "model_module_version": "^0.16.0",
          "state": {
            "_model_module": "jupyter-leaflet",
            "_model_module_version": "^0.16.0",
            "_model_name": "LeafletZoomControlModel",
            "_view_count": null,
            "_view_module": "jupyter-leaflet",
            "_view_module_version": "^0.16.0",
            "_view_name": "LeafletZoomControlView",
            "options": [
              "position",
              "zoom_in_text",
              "zoom_in_title",
              "zoom_out_text",
              "zoom_out_title"
            ],
            "position": "topleft",
            "zoom_in_text": "+",
            "zoom_in_title": "Zoom in",
            "zoom_out_text": "-",
            "zoom_out_title": "Zoom out"
          }
        },
        "765b1de47a33421e8e4fd2df684852ba": {
          "model_module": "jupyter-leaflet",
          "model_name": "LeafletAttributionControlModel",
          "model_module_version": "^0.16.0",
          "state": {
            "_model_module": "jupyter-leaflet",
            "_model_module_version": "^0.16.0",
            "_model_name": "LeafletAttributionControlModel",
            "_view_count": null,
            "_view_module": "jupyter-leaflet",
            "_view_module_version": "^0.16.0",
            "_view_name": "LeafletAttributionControlView",
            "options": [
              "position",
              "prefix"
            ],
            "position": "bottomright",
            "prefix": "ipyleaflet"
          }
        },
        "dbfce3d3627d4329a3af1cd07cb3fec5": {
          "model_module": "jupyter-leaflet",
          "model_name": "LeafletFullScreenControlModel",
          "model_module_version": "^0.16.0",
          "state": {
            "_model_module": "jupyter-leaflet",
            "_model_module_version": "^0.16.0",
            "_model_name": "LeafletFullScreenControlModel",
            "_view_count": null,
            "_view_module": "jupyter-leaflet",
            "_view_module_version": "^0.16.0",
            "_view_name": "LeafletFullScreenControlView",
            "options": [
              "position"
            ],
            "position": "topleft"
          }
        },
        "5e2900f823d24af787d3621494482418": {
          "model_module": "jupyter-leaflet",
          "model_name": "LeafletDrawControlModel",
          "model_module_version": "^0.16.0",
          "state": {
            "_model_module": "jupyter-leaflet",
            "_model_module_version": "^0.16.0",
            "_model_name": "LeafletDrawControlModel",
            "_view_count": null,
            "_view_module": "jupyter-leaflet",
            "_view_module_version": "^0.16.0",
            "_view_name": "LeafletDrawControlView",
            "circle": {
              "shapeOptions": {
                "color": "#3388ff"
              }
            },
            "circlemarker": {},
            "data": [],
            "edit": true,
            "marker": {
              "shapeOptions": {
                "color": "#3388ff"
              }
            },
            "options": [
              "position"
            ],
            "polygon": {
              "shapeOptions": {}
            },
            "polyline": {
              "shapeOptions": {}
            },
            "position": "topleft",
            "rectangle": {
              "shapeOptions": {
                "color": "#3388ff"
              }
            },
            "remove": true
          }
        },
        "c0dc690683944a7f97567f2e4d2b67ed": {
          "model_module": "jupyter-leaflet",
          "model_name": "LeafletWidgetControlModel",
          "model_module_version": "^0.16.0",
          "state": {
            "_model_module": "jupyter-leaflet",
            "_model_module_version": "^0.16.0",
            "_model_name": "LeafletWidgetControlModel",
            "_view_count": null,
            "_view_module": "jupyter-leaflet",
            "_view_module_version": "^0.16.0",
            "_view_name": "LeafletWidgetControlView",
            "max_height": null,
            "max_width": null,
            "min_height": null,
            "min_width": null,
            "options": [
              "position",
              "transparent_bg"
            ],
            "position": "bottomright",
            "transparent_bg": false,
            "widget": "IPY_MODEL_04fa93c2831a4bd0b75088896ba040cd"
          }
        },
        "350ed0ce566a4e48bfd88a91e73f1189": {
          "model_module": "jupyter-leaflet",
          "model_name": "LeafletMeasureControlModel",
          "model_module_version": "^0.16.0",
          "state": {
            "_custom_units": {},
            "_model_module": "jupyter-leaflet",
            "_model_module_version": "^0.16.0",
            "_model_name": "LeafletMeasureControlModel",
            "_view_count": null,
            "_view_module": "jupyter-leaflet",
            "_view_module_version": "^0.16.0",
            "_view_name": "LeafletMeasureControlView",
            "active_color": "#ABE67E",
            "capture_z_index": 10000,
            "completed_color": "#C8F2BE",
            "options": [
              "active_color",
              "capture_z_index",
              "completed_color",
              "popup_options",
              "position",
              "primary_area_unit",
              "primary_length_unit",
              "secondary_area_unit",
              "secondary_length_unit"
            ],
            "popup_options": {
              "className": "leaflet-measure-resultpopup",
              "autoPanPadding": [
                10,
                10
              ]
            },
            "position": "topleft",
            "primary_area_unit": "acres",
            "primary_length_unit": "feet",
            "secondary_area_unit": null,
            "secondary_length_unit": null
          }
        },
        "db9c6cf7d0244e63a6b60b40bfbda583": {
          "model_module": "jupyter-leaflet",
          "model_name": "LeafletScaleControlModel",
          "model_module_version": "^0.16.0",
          "state": {
            "_model_module": "jupyter-leaflet",
            "_model_module_version": "^0.16.0",
            "_model_name": "LeafletScaleControlModel",
            "_view_count": null,
            "_view_module": "jupyter-leaflet",
            "_view_module_version": "^0.16.0",
            "_view_name": "LeafletScaleControlView",
            "imperial": true,
            "max_width": 100,
            "metric": true,
            "options": [
              "imperial",
              "max_width",
              "metric",
              "position",
              "update_when_idle"
            ],
            "position": "bottomleft",
            "update_when_idle": false
          }
        },
        "f719157cba19485aa8df4ab19a2e93f4": {
          "model_module": "jupyter-leaflet",
          "model_name": "LeafletWidgetControlModel",
          "model_module_version": "^0.16.0",
          "state": {
            "_model_module": "jupyter-leaflet",
            "_model_module_version": "^0.16.0",
            "_model_name": "LeafletWidgetControlModel",
            "_view_count": null,
            "_view_module": "jupyter-leaflet",
            "_view_module_version": "^0.16.0",
            "_view_name": "LeafletWidgetControlView",
            "max_height": null,
            "max_width": null,
            "min_height": null,
            "min_width": null,
            "options": [
              "position",
              "transparent_bg"
            ],
            "position": "topright",
            "transparent_bg": false,
            "widget": "IPY_MODEL_36751fa393884336abd1450ea2a09959"
          }
        },
        "f60b24d6b2944a569f21066d191fdd5a": {
          "model_module": "jupyter-leaflet",
          "model_name": "LeafletWidgetControlModel",
          "model_module_version": "^0.16.0",
          "state": {
            "_model_module": "jupyter-leaflet",
            "_model_module_version": "^0.16.0",
            "_model_name": "LeafletWidgetControlModel",
            "_view_count": null,
            "_view_module": "jupyter-leaflet",
            "_view_module_version": "^0.16.0",
            "_view_name": "LeafletWidgetControlView",
            "max_height": null,
            "max_width": null,
            "min_height": null,
            "min_width": null,
            "options": [
              "position",
              "transparent_bg"
            ],
            "position": "bottomright",
            "transparent_bg": false,
            "widget": "IPY_MODEL_777fd21ab01143538c926ed2536bebf6"
          }
        },
        "905aa1abe88e491c8ca60f6098d39fa4": {
          "model_module": "jupyter-leaflet",
          "model_name": "LeafletMapStyleModel",
          "model_module_version": "^0.16.0",
          "state": {
            "_model_module": "jupyter-leaflet",
            "_model_module_version": "^0.16.0",
            "_model_name": "LeafletMapStyleModel",
            "_view_count": null,
            "_view_module": "@jupyter-widgets/base",
            "_view_module_version": "1.2.0",
            "_view_name": "StyleView",
            "cursor": "default"
          }
        },
        "d3eb5072c4b24312b209d98ee4f9d9a4": {
          "model_module": "jupyter-leaflet",
          "model_name": "LeafletMapStyleModel",
          "model_module_version": "^0.16.0",
          "state": {
            "_model_module": "jupyter-leaflet",
            "_model_module_version": "^0.16.0",
            "_model_name": "LeafletMapStyleModel",
            "_view_count": null,
            "_view_module": "@jupyter-widgets/base",
            "_view_module_version": "1.2.0",
            "_view_name": "StyleView",
            "cursor": "move"
          }
        },
        "33dd7c8b626c43d39849244a71d280f1": {
          "model_module": "jupyter-leaflet",
          "model_name": "LeafletTileLayerModel",
          "model_module_version": "^0.16.0",
          "state": {
            "_model_module": "jupyter-leaflet",
            "_model_module_version": "^0.16.0",
            "_model_name": "LeafletTileLayerModel",
            "_view_count": null,
            "_view_module": "jupyter-leaflet",
            "_view_module_version": "^0.16.0",
            "_view_name": "LeafletTileLayerView",
            "attribution": "&copy; <a href=\"https://www.openstreetmap.org/copyright\">OpenStreetMap</a> contributors",
            "base": true,
            "bottom": true,
            "bounds": null,
            "detect_retina": false,
            "loading": false,
            "max_native_zoom": 18,
            "max_zoom": 19,
            "min_native_zoom": 0,
            "min_zoom": 1,
            "name": "OpenStreetMap",
            "no_wrap": false,
            "opacity": 1,
            "options": [
              "attribution",
              "bounds",
              "detect_retina",
              "max_native_zoom",
              "max_zoom",
              "min_native_zoom",
              "min_zoom",
              "no_wrap",
              "tile_size",
              "tms"
            ],
            "popup": null,
            "popup_max_height": null,
            "popup_max_width": 300,
            "popup_min_width": 50,
            "show_loading": false,
            "tile_size": 256,
            "tms": false,
            "url": "https://a.tile.openstreetmap.org/{z}/{x}/{y}.png",
            "visible": true
          }
        },
        "407748605eea42799a7f0849edbf063b": {
          "model_module": "jupyter-leaflet",
          "model_name": "LeafletTileLayerModel",
          "model_module_version": "^0.16.0",
          "state": {
            "_model_module": "jupyter-leaflet",
            "_model_module_version": "^0.16.0",
            "_model_name": "LeafletTileLayerModel",
            "_view_count": null,
            "_view_module": "jupyter-leaflet",
            "_view_module_version": "^0.16.0",
            "_view_name": "LeafletTileLayerView",
            "attribution": "CartoDB",
            "base": false,
            "bottom": true,
            "bounds": null,
            "detect_retina": false,
            "loading": false,
            "max_native_zoom": 18,
            "max_zoom": 18,
            "min_native_zoom": 0,
            "min_zoom": 0,
            "name": "CartoDB",
            "no_wrap": false,
            "opacity": 1,
            "options": [
              "attribution",
              "bounds",
              "detect_retina",
              "max_native_zoom",
              "max_zoom",
              "min_native_zoom",
              "min_zoom",
              "no_wrap",
              "tile_size",
              "tms"
            ],
            "popup": null,
            "popup_max_height": null,
            "popup_max_width": 300,
            "popup_min_width": 50,
            "show_loading": false,
            "tile_size": 256,
            "tms": false,
            "url": "https://cartodb-basemaps-b.global.ssl.fastly.net/light_nolabels/{z}/{x}/{y}.png",
            "visible": true
          }
        },
        "e22e592952494f7c85efa8d9aaaa9a6f": {
          "model_module": "jupyter-leaflet",
          "model_name": "LeafletMarkerClusterModel",
          "model_module_version": "^0.16.0",
          "state": {
            "_model_module": "jupyter-leaflet",
            "_model_module_version": "^0.16.0",
            "_model_name": "LeafletMarkerClusterModel",
            "_view_count": null,
            "_view_module": "jupyter-leaflet",
            "_view_module_version": "^0.16.0",
            "_view_name": "LeafletMarkerClusterView",
            "base": false,
            "bottom": false,
            "disable_clustering_at_zoom": 18,
            "markers": [
              "IPY_MODEL_5fc7cd9dce1f4518bb94ef901861eba3",
              "IPY_MODEL_4eea7ae6a2e54666920c82fb53aac54d"
            ],
            "max_cluster_radius": 80,
            "name": "od",
            "options": [
              "disable_clustering_at_zoom",
              "max_cluster_radius"
            ],
            "popup": null,
            "popup_max_height": null,
            "popup_max_width": 300,
            "popup_min_width": 50
          }
        },
        "38f6ab6f26a24c7b9cb10991595cd912": {
          "model_module": "jupyter-leaflet",
          "model_name": "LeafletMarkerClusterModel",
          "model_module_version": "^0.16.0",
          "state": {
            "_model_module": "jupyter-leaflet",
            "_model_module_version": "^0.16.0",
            "_model_name": "LeafletMarkerClusterModel",
            "_view_count": null,
            "_view_module": "jupyter-leaflet",
            "_view_module_version": "^0.16.0",
            "_view_name": "LeafletMarkerClusterView",
            "base": false,
            "bottom": false,
            "disable_clustering_at_zoom": 18,
            "markers": [
              "IPY_MODEL_6548bfc2c2db4765855455949350ed26",
              "IPY_MODEL_6b9698f63b0e4d3b98669c8fd12daa4f",
              "IPY_MODEL_2d63edf7fab942558c6558ef0a17e960",
              "IPY_MODEL_048f6d21deed4fb897c4372f5ff8f2b4",
              "IPY_MODEL_ecc56dbe44ad420492d2b5efaab93aeb",
              "IPY_MODEL_b3cdd9a4164d4af28afff5c889900a0f",
              "IPY_MODEL_bc8eed8eea5b43eda419f0139ee258cf",
              "IPY_MODEL_9b8316067dd1433a996dd15ebcf2efa6",
              "IPY_MODEL_2b9b7e2e9bc7448287c9a35bc9ccd2d6",
              "IPY_MODEL_b003fcce80f64feda33a564ff1c7df55",
              "IPY_MODEL_a115bf8f855a41318ad72472f1fa4347",
              "IPY_MODEL_45c4c562cbfe4bb0a49091c7dff26668",
              "IPY_MODEL_04846254731340628ec8b32b5a623069",
              "IPY_MODEL_3a052a1cdba64146a42394b4d771b091",
              "IPY_MODEL_1e16cff99dc84bc7ba8a146dca9fb965",
              "IPY_MODEL_80354aee31884694918c4bd1951e4726",
              "IPY_MODEL_c617ee639fa44289b76a35597ff6bdec",
              "IPY_MODEL_1d573bea12f9427b8cfb645b6834f39f",
              "IPY_MODEL_11df8800e29442cc9979e414efb5e393",
              "IPY_MODEL_249bd19d70b34882a659501409f3b189",
              "IPY_MODEL_dc39d8aaf1ed457aa047616280f8d42a",
              "IPY_MODEL_3f2865561fe94c2e9df2b7ddf73f8a79",
              "IPY_MODEL_04387dcf149d4a49bd4dbbb0d9243ad7",
              "IPY_MODEL_4309cf91dcda4a7089ca681aafeb4fa7",
              "IPY_MODEL_552e6ac3657f4d869cf3f6969240b757",
              "IPY_MODEL_4fc9e38b02a64c4e92ebeac922a1fb71",
              "IPY_MODEL_36d749f85ded4afe86b9f75640874784",
              "IPY_MODEL_501dd40548a8485c9ae28ef82d4e6bf8",
              "IPY_MODEL_f5b13a75ec734197abd1285e3f490d96",
              "IPY_MODEL_c59e800f6b624220b2a93f977292e701",
              "IPY_MODEL_ac97139620e349f4a31d6db3160c68da",
              "IPY_MODEL_3c8d054354da4e8c851560516c8312af",
              "IPY_MODEL_d2f4f8ecda1c44ed911d22d2c46072ab",
              "IPY_MODEL_839347449c1e4fdfa65ce7d75ebaa72f",
              "IPY_MODEL_a42aaea488ae4654a9b8f36f0ce18b7d",
              "IPY_MODEL_8ed248d7f504424ba33a2e89529c9d8e",
              "IPY_MODEL_0a9ebf2e87ea44cf9668ae906c2a97c3",
              "IPY_MODEL_9c7fa7c92be34265935ff276b8fb7173",
              "IPY_MODEL_14d6088857b542e6b48eb51ae6a69a72",
              "IPY_MODEL_23ebef1d663541599ff5efdaec17a7d3",
              "IPY_MODEL_0b7f11b9f63f43469059fa81a282c3bb",
              "IPY_MODEL_658c0f5eadf44decb5a318cb0dbc4472",
              "IPY_MODEL_7e48e44381de4b74bb5a1e18c2bc6364",
              "IPY_MODEL_d56e620ca9ab4e88b9914a18ab5841dd",
              "IPY_MODEL_4fc3cf348da44af18cd6ca88d89223a5",
              "IPY_MODEL_b8623bb58e924e21ab80f09979b85e2e"
            ],
            "max_cluster_radius": 80,
            "name": "nodes",
            "options": [
              "disable_clustering_at_zoom",
              "max_cluster_radius"
            ],
            "popup": null,
            "popup_max_height": null,
            "popup_max_width": 300,
            "popup_min_width": 50
          }
        },
        "38311b444d244121bc4cfb5ab1ddd549": {
          "model_module": "jupyter-leaflet",
          "model_name": "LeafletGeoJSONModel",
          "model_module_version": "^0.16.0",
          "state": {
            "_model_module": "jupyter-leaflet",
            "_model_module_version": "^0.16.0",
            "_model_name": "LeafletGeoJSONModel",
            "_view_count": null,
            "_view_module": "jupyter-leaflet",
            "_view_module_version": "^0.16.0",
            "_view_name": "LeafletGeoJSONView",
            "base": false,
            "bottom": false,
            "data": {
              "type": "FeatureCollection",
              "features": [
                {
                  "id": "(97775156, 97775158, 0)",
                  "type": "Feature",
                  "properties": {
                    "highway": "residential",
                    "lanes": "2",
                    "length": 89.09299999999999,
                    "maxspeed": null,
                    "name": "North Marion Street",
                    "oneway": false,
                    "osmid": 10970142,
                    "ref": null,
                    "style": {
                      "color": "black",
                      "fillColor": "black"
                    }
                  },
                  "geometry": {
                    "type": "LineString",
                    "coordinates": [
                      [
                        -82.4562493,
                        27.9482623
                      ],
                      [
                        -82.4562919,
                        27.9483641
                      ],
                      [
                        -82.4565412,
                        27.9489147
                      ],
                      [
                        -82.4565827,
                        27.9490074
                      ]
                    ]
                  },
                  "bbox": [
                    -82.4565827,
                    27.9482623,
                    -82.4562493,
                    27.9490074
                  ]
                },
                {
                  "id": "(97775156, 97871013, 0)",
                  "type": "Feature",
                  "properties": {
                    "highway": "primary",
                    "lanes": "4",
                    "length": 89.342,
                    "maxspeed": "30 mph",
                    "name": "East Kennedy Boulevard",
                    "oneway": true,
                    "osmid": 115040529,
                    "ref": "US 41 Business;FL 60",
                    "style": {
                      "color": "black",
                      "fillColor": "black"
                    }
                  },
                  "geometry": {
                    "type": "LineString",
                    "coordinates": [
                      [
                        -82.4562493,
                        27.9482623
                      ],
                      [
                        -82.4563382,
                        27.9482317
                      ],
                      [
                        -82.4569829,
                        27.9480107
                      ],
                      [
                        -82.4570982,
                        27.9479739
                      ]
                    ]
                  },
                  "bbox": [
                    -82.4570982,
                    27.9479739,
                    -82.4562493,
                    27.9482623
                  ]
                },
                {
                  "id": "(97775158, 97775163, 0)",
                  "type": "Feature",
                  "properties": {
                    "highway": "residential",
                    "lanes": "2",
                    "length": 89.335,
                    "maxspeed": null,
                    "name": "North Marion Street",
                    "oneway": false,
                    "osmid": 10970142,
                    "ref": null,
                    "style": {
                      "color": "black",
                      "fillColor": "black"
                    }
                  },
                  "geometry": {
                    "type": "LineString",
                    "coordinates": [
                      [
                        -82.4565827,
                        27.9490074
                      ],
                      [
                        -82.4566299,
                        27.9491172
                      ],
                      [
                        -82.4568695,
                        27.9496785
                      ],
                      [
                        -82.456904,
                        27.949759
                      ]
                    ]
                  },
                  "bbox": [
                    -82.456904,
                    27.9490074,
                    -82.4565827,
                    27.949759
                  ]
                },
                {
                  "id": "(97775158, 97775156, 0)",
                  "type": "Feature",
                  "properties": {
                    "highway": "residential",
                    "lanes": "2",
                    "length": 89.093,
                    "maxspeed": null,
                    "name": "North Marion Street",
                    "oneway": false,
                    "osmid": 10970142,
                    "ref": null,
                    "style": {
                      "color": "black",
                      "fillColor": "black"
                    }
                  },
                  "geometry": {
                    "type": "LineString",
                    "coordinates": [
                      [
                        -82.4565827,
                        27.9490074
                      ],
                      [
                        -82.4565412,
                        27.9489147
                      ],
                      [
                        -82.4562919,
                        27.9483641
                      ],
                      [
                        -82.4562493,
                        27.9482623
                      ]
                    ]
                  },
                  "bbox": [
                    -82.4565827,
                    27.9482623,
                    -82.4562493,
                    27.9490074
                  ]
                },
                {
                  "id": "(97775158, 97815626, 0)",
                  "type": "Feature",
                  "properties": {
                    "highway": "tertiary",
                    "lanes": "2",
                    "length": 89.13300000000001,
                    "maxspeed": null,
                    "name": "East Madison Street",
                    "oneway": false,
                    "osmid": 932449456,
                    "ref": null,
                    "style": {
                      "color": "black",
                      "fillColor": "black"
                    }
                  },
                  "geometry": {
                    "type": "LineString",
                    "coordinates": [
                      [
                        -82.4565827,
                        27.9490074
                      ],
                      [
                        -82.456479,
                        27.9490436
                      ],
                      [
                        -82.4559835,
                        27.949214
                      ],
                      [
                        -82.4558403,
                        27.9492633
                      ],
                      [
                        -82.4557374,
                        27.9492989
                      ]
                    ]
                  },
                  "bbox": [
                    -82.4565827,
                    27.9490074,
                    -82.4557374,
                    27.9492989
                  ]
                },
                {
                  "id": "(97775158, 474972598, 0)",
                  "type": "Feature",
                  "properties": {
                    "highway": "tertiary",
                    "lanes": "2",
                    "length": 88.689,
                    "maxspeed": null,
                    "name": "East Madison Street",
                    "oneway": false,
                    "osmid": 932449456,
                    "ref": null,
                    "style": {
                      "color": "black",
                      "fillColor": "black"
                    }
                  },
                  "geometry": {
                    "type": "LineString",
                    "coordinates": [
                      [
                        -82.4565827,
                        27.9490074
                      ],
                      [
                        -82.4566673,
                        27.9489783
                      ],
                      [
                        -82.456919,
                        27.948892
                      ],
                      [
                        -82.4573078,
                        27.9487587
                      ],
                      [
                        -82.4574238,
                        27.9487174
                      ]
                    ]
                  },
                  "bbox": [
                    -82.4574238,
                    27.9487174,
                    -82.4565827,
                    27.9490074
                  ]
                },
                {
                  "id": "(97775163, 97775165, 0)",
                  "type": "Feature",
                  "properties": {
                    "highway": "residential",
                    "lanes": "2",
                    "length": 89.57900000000001,
                    "maxspeed": null,
                    "name": "North Marion Street",
                    "oneway": false,
                    "osmid": 10970142,
                    "ref": null,
                    "style": {
                      "color": "black",
                      "fillColor": "black"
                    }
                  },
                  "geometry": {
                    "type": "LineString",
                    "coordinates": [
                      [
                        -82.456904,
                        27.949759
                      ],
                      [
                        -82.4569532,
                        27.9498704
                      ],
                      [
                        -82.4571943,
                        27.9504162
                      ],
                      [
                        -82.4572355,
                        27.9505095
                      ]
                    ]
                  },
                  "bbox": [
                    -82.4572355,
                    27.949759,
                    -82.456904,
                    27.9505095
                  ]
                },
                {
                  "id": "(97775163, 97775158, 0)",
                  "type": "Feature",
                  "properties": {
                    "highway": "residential",
                    "lanes": "2",
                    "length": 89.335,
                    "maxspeed": null,
                    "name": "North Marion Street",
                    "oneway": false,
                    "osmid": 10970142,
                    "ref": null,
                    "style": {
                      "color": "black",
                      "fillColor": "black"
                    }
                  },
                  "geometry": {
                    "type": "LineString",
                    "coordinates": [
                      [
                        -82.456904,
                        27.949759
                      ],
                      [
                        -82.4568695,
                        27.9496785
                      ],
                      [
                        -82.4566299,
                        27.9491172
                      ],
                      [
                        -82.4565827,
                        27.9490074
                      ]
                    ]
                  },
                  "bbox": [
                    -82.456904,
                    27.9490074,
                    -82.4565827,
                    27.949759
                  ]
                },
                {
                  "id": "(97775163, 97876151, 0)",
                  "type": "Feature",
                  "properties": {
                    "highway": "tertiary",
                    "lanes": "4",
                    "length": 88.283,
                    "maxspeed": "30 mph",
                    "name": "East Twiggs Street",
                    "oneway": false,
                    "osmid": 87174879,
                    "ref": null,
                    "style": {
                      "color": "black",
                      "fillColor": "black"
                    }
                  },
                  "geometry": {
                    "type": "LineString",
                    "coordinates": [
                      [
                        -82.456904,
                        27.949759
                      ],
                      [
                        -82.4568055,
                        27.9497928
                      ],
                      [
                        -82.45632,
                        27.949959
                      ],
                      [
                        -82.4561667,
                        27.9500109
                      ],
                      [
                        -82.456066,
                        27.950046
                      ]
                    ]
                  },
                  "bbox": [
                    -82.456904,
                    27.949759,
                    -82.456066,
                    27.950046
                  ]
                },
                {
                  "id": "(97775163, 97928974, 0)",
                  "type": "Feature",
                  "properties": {
                    "highway": "tertiary",
                    "lanes": "4",
                    "length": 88.487,
                    "maxspeed": "30 mph",
                    "name": "East Twiggs Street",
                    "oneway": false,
                    "osmid": 87174879,
                    "ref": null,
                    "style": {
                      "color": "black",
                      "fillColor": "black"
                    }
                  },
                  "geometry": {
                    "type": "LineString",
                    "coordinates": [
                      [
                        -82.456904,
                        27.949759
                      ],
                      [
                        -82.4569898,
                        27.9497307
                      ],
                      [
                        -82.457635,
                        27.9495045
                      ],
                      [
                        -82.457742,
                        27.949467
                      ]
                    ]
                  },
                  "bbox": [
                    -82.457742,
                    27.949467,
                    -82.456904,
                    27.949759
                  ]
                },
                {
                  "id": "(97775165, 1870060165, 0)",
                  "type": "Feature",
                  "properties": {
                    "highway": "residential",
                    "lanes": "2",
                    "length": 81.691,
                    "maxspeed": null,
                    "name": "North Marion Street",
                    "oneway": false,
                    "osmid": 10970142,
                    "ref": null,
                    "style": {
                      "color": "black",
                      "fillColor": "black"
                    }
                  },
                  "geometry": {
                    "type": "LineString",
                    "coordinates": [
                      [
                        -82.4572355,
                        27.9505095
                      ],
                      [
                        -82.457274,
                        27.950597
                      ],
                      [
                        -82.4575148,
                        27.9511461
                      ],
                      [
                        -82.4575361,
                        27.9511945
                      ]
                    ]
                  },
                  "bbox": [
                    -82.4575361,
                    27.9505095,
                    -82.4572355,
                    27.9511945
                  ]
                },
                {
                  "id": "(97775165, 97775163, 0)",
                  "type": "Feature",
                  "properties": {
                    "highway": "residential",
                    "lanes": "2",
                    "length": 89.57900000000001,
                    "maxspeed": null,
                    "name": "North Marion Street",
                    "oneway": false,
                    "osmid": 10970142,
                    "ref": null,
                    "style": {
                      "color": "black",
                      "fillColor": "black"
                    }
                  },
                  "geometry": {
                    "type": "LineString",
                    "coordinates": [
                      [
                        -82.4572355,
                        27.9505095
                      ],
                      [
                        -82.4571943,
                        27.9504162
                      ],
                      [
                        -82.4569532,
                        27.9498704
                      ],
                      [
                        -82.456904,
                        27.949759
                      ]
                    ]
                  },
                  "bbox": [
                    -82.4572355,
                    27.949759,
                    -82.456904,
                    27.9505095
                  ]
                },
                {
                  "id": "(97775165, 97876153, 0)",
                  "type": "Feature",
                  "properties": {
                    "highway": "tertiary",
                    "lanes": "2",
                    "length": 88.74799999999999,
                    "maxspeed": null,
                    "name": "East Zack Street",
                    "oneway": false,
                    "osmid": 11000973,
                    "ref": null,
                    "style": {
                      "color": "black",
                      "fillColor": "black"
                    }
                  },
                  "geometry": {
                    "type": "LineString",
                    "coordinates": [
                      [
                        -82.4572355,
                        27.9505095
                      ],
                      [
                        -82.4571368,
                        27.9505441
                      ],
                      [
                        -82.456495,
                        27.9507634
                      ],
                      [
                        -82.4563932,
                        27.9507983
                      ]
                    ]
                  },
                  "bbox": [
                    -82.4572355,
                    27.9505095,
                    -82.4563932,
                    27.9507983
                  ]
                },
                {
                  "id": "(97775165, 97942623, 0)",
                  "type": "Feature",
                  "properties": {
                    "highway": "tertiary",
                    "lanes": "2",
                    "length": 88.522,
                    "maxspeed": null,
                    "name": "East Zack Street",
                    "oneway": false,
                    "osmid": [
                      909318437,
                      11000973
                    ],
                    "ref": null,
                    "style": {
                      "color": "black",
                      "fillColor": "black"
                    }
                  },
                  "geometry": {
                    "type": "LineString",
                    "coordinates": [
                      [
                        -82.4572355,
                        27.9505095
                      ],
                      [
                        -82.4573245,
                        27.9504773
                      ],
                      [
                        -82.4576558,
                        27.9503609
                      ],
                      [
                        -82.4579718,
                        27.9502555
                      ],
                      [
                        -82.4580774,
                        27.9502261
                      ]
                    ]
                  },
                  "bbox": [
                    -82.4580774,
                    27.9502261,
                    -82.4572355,
                    27.9505095
                  ]
                },
                {
                  "id": "(97815626, 97871014, 0)",
                  "type": "Feature",
                  "properties": {
                    "highway": "tertiary",
                    "lanes": "4",
                    "length": 87.949,
                    "maxspeed": null,
                    "name": "North Morgan Street",
                    "oneway": false,
                    "osmid": 168522075,
                    "ref": null,
                    "style": {
                      "color": "black",
                      "fillColor": "black"
                    }
                  },
                  "geometry": {
                    "type": "LineString",
                    "coordinates": [
                      [
                        -82.4557374,
                        27.9492989
                      ],
                      [
                        -82.4556953,
                        27.9492056
                      ],
                      [
                        -82.4556622,
                        27.9491296
                      ],
                      [
                        -82.4556038,
                        27.9489992
                      ],
                      [
                        -82.4554545,
                        27.9486609
                      ],
                      [
                        -82.4554104,
                        27.9485626
                      ]
                    ]
                  },
                  "bbox": [
                    -82.4557374,
                    27.9485626,
                    -82.4554104,
                    27.9492989
                  ]
                },
                {
                  "id": "(97815626, 97876151, 0)",
                  "type": "Feature",
                  "properties": {
                    "highway": "tertiary",
                    "lanes": "4",
                    "length": 89.125,
                    "maxspeed": null,
                    "name": "North Morgan Street",
                    "oneway": false,
                    "osmid": 168522075,
                    "ref": null,
                    "style": {
                      "color": "black",
                      "fillColor": "black"
                    }
                  },
                  "geometry": {
                    "type": "LineString",
                    "coordinates": [
                      [
                        -82.4557374,
                        27.9492989
                      ],
                      [
                        -82.4557819,
                        27.9494039
                      ],
                      [
                        -82.4560273,
                        27.9499588
                      ],
                      [
                        -82.456066,
                        27.950046
                      ]
                    ]
                  },
                  "bbox": [
                    -82.456066,
                    27.9492989,
                    -82.4557374,
                    27.950046
                  ]
                },
                {
                  "id": "(97815626, 97815628, 0)",
                  "type": "Feature",
                  "properties": {
                    "highway": "tertiary",
                    "lanes": "2",
                    "length": 88.71900000000001,
                    "maxspeed": null,
                    "name": "East Madison Street",
                    "oneway": false,
                    "osmid": 932449456,
                    "ref": null,
                    "style": {
                      "color": "black",
                      "fillColor": "black"
                    }
                  },
                  "geometry": {
                    "type": "LineString",
                    "coordinates": [
                      [
                        -82.4557374,
                        27.9492989
                      ],
                      [
                        -82.4556274,
                        27.9493368
                      ],
                      [
                        -82.4551298,
                        27.9495084
                      ],
                      [
                        -82.4550239,
                        27.9495445
                      ],
                      [
                        -82.454896,
                        27.949589
                      ]
                    ]
                  },
                  "bbox": [
                    -82.4557374,
                    27.9492989,
                    -82.454896,
                    27.949589
                  ]
                },
                {
                  "id": "(97815626, 97775158, 0)",
                  "type": "Feature",
                  "properties": {
                    "highway": "tertiary",
                    "lanes": "2",
                    "length": 89.13300000000001,
                    "maxspeed": null,
                    "name": "East Madison Street",
                    "oneway": false,
                    "osmid": 932449456,
                    "ref": null,
                    "style": {
                      "color": "black",
                      "fillColor": "black"
                    }
                  },
                  "geometry": {
                    "type": "LineString",
                    "coordinates": [
                      [
                        -82.4557374,
                        27.9492989
                      ],
                      [
                        -82.4558403,
                        27.9492633
                      ],
                      [
                        -82.4559835,
                        27.949214
                      ],
                      [
                        -82.456479,
                        27.9490436
                      ],
                      [
                        -82.4565827,
                        27.9490074
                      ]
                    ]
                  },
                  "bbox": [
                    -82.4565827,
                    27.9490074,
                    -82.4557374,
                    27.9492989
                  ]
                },
                {
                  "id": "(97815628, 942206728, 0)",
                  "type": "Feature",
                  "properties": {
                    "highway": "secondary",
                    "lanes": "4",
                    "length": 87.783,
                    "maxspeed": "unposted",
                    "name": "Pierce Street",
                    "oneway": true,
                    "osmid": 87659447,
                    "ref": null,
                    "style": {
                      "color": "black",
                      "fillColor": "black"
                    }
                  },
                  "geometry": {
                    "type": "LineString",
                    "coordinates": [
                      [
                        -82.454896,
                        27.949589
                      ],
                      [
                        -82.4548607,
                        27.9495053
                      ],
                      [
                        -82.4546172,
                        27.9489489
                      ],
                      [
                        -82.4545754,
                        27.9488521
                      ]
                    ]
                  },
                  "bbox": [
                    -82.454896,
                    27.9488521,
                    -82.4545754,
                    27.949589
                  ]
                },
                {
                  "id": "(97815628, 97815626, 0)",
                  "type": "Feature",
                  "properties": {
                    "highway": "tertiary",
                    "lanes": "2",
                    "length": 88.71900000000001,
                    "maxspeed": null,
                    "name": "East Madison Street",
                    "oneway": false,
                    "osmid": 932449456,
                    "ref": null,
                    "style": {
                      "color": "black",
                      "fillColor": "black"
                    }
                  },
                  "geometry": {
                    "type": "LineString",
                    "coordinates": [
                      [
                        -82.454896,
                        27.949589
                      ],
                      [
                        -82.4550239,
                        27.9495445
                      ],
                      [
                        -82.4551298,
                        27.9495084
                      ],
                      [
                        -82.4556274,
                        27.9493368
                      ],
                      [
                        -82.4557374,
                        27.9492989
                      ]
                    ]
                  },
                  "bbox": [
                    -82.4557374,
                    27.9492989,
                    -82.454896,
                    27.949589
                  ]
                },
                {
                  "id": "(97871012, 97871010, 0)",
                  "type": "Feature",
                  "properties": {
                    "highway": "primary",
                    "lanes": "4",
                    "length": 88.90200000000002,
                    "maxspeed": "30 mph",
                    "name": "Kennedy Boulevard",
                    "oneway": true,
                    "osmid": 23946064,
                    "ref": "FL 60",
                    "style": {
                      "color": "black",
                      "fillColor": "black"
                    }
                  },
                  "geometry": {
                    "type": "LineString",
                    "coordinates": [
                      [
                        -82.4579291,
                        27.9476964
                      ],
                      [
                        -82.4580214,
                        27.9476642
                      ],
                      [
                        -82.4586626,
                        27.9474348
                      ],
                      [
                        -82.4587699,
                        27.9474007
                      ]
                    ]
                  },
                  "bbox": [
                    -82.4587699,
                    27.9474007,
                    -82.4579291,
                    27.9476964
                  ]
                },
                {
                  "id": "(97871012, 975495315, 0)",
                  "type": "Feature",
                  "properties": {
                    "highway": "unclassified",
                    "lanes": "2",
                    "length": 87.83900000000001,
                    "maxspeed": null,
                    "name": "North Franklin Street",
                    "oneway": false,
                    "osmid": 932449457,
                    "ref": null,
                    "style": {
                      "color": "black",
                      "fillColor": "black"
                    }
                  },
                  "geometry": {
                    "type": "LineString",
                    "coordinates": [
                      [
                        -82.4579291,
                        27.9476964
                      ],
                      [
                        -82.4579704,
                        27.9477827
                      ],
                      [
                        -82.4579917,
                        27.9478282
                      ],
                      [
                        -82.4580761,
                        27.9480311
                      ],
                      [
                        -82.4580826,
                        27.9480509
                      ],
                      [
                        -82.4580881,
                        27.9480707
                      ],
                      [
                        -82.4580971,
                        27.9481095
                      ],
                      [
                        -82.4581091,
                        27.9481464
                      ],
                      [
                        -82.4581241,
                        27.9481834
                      ],
                      [
                        -82.4582015,
                        27.9483577
                      ],
                      [
                        -82.4582366,
                        27.9484372
                      ]
                    ]
                  },
                  "bbox": [
                    -82.4582366,
                    27.9476964,
                    -82.4579291,
                    27.9484372
                  ]
                },
                {
                  "id": "(97871013, 97871012, 0)",
                  "type": "Feature",
                  "properties": {
                    "highway": "primary",
                    "lanes": "4",
                    "length": 87.25999999999999,
                    "maxspeed": "30 mph",
                    "name": "Kennedy Boulevard",
                    "oneway": true,
                    "osmid": 47222463,
                    "ref": "FL 60",
                    "style": {
                      "color": "black",
                      "fillColor": "black"
                    }
                  },
                  "geometry": {
                    "type": "LineString",
                    "coordinates": [
                      [
                        -82.4570982,
                        27.9479739
                      ],
                      [
                        -82.4572276,
                        27.9479331
                      ],
                      [
                        -82.4578324,
                        27.9477311
                      ],
                      [
                        -82.4579291,
                        27.9476964
                      ]
                    ]
                  },
                  "bbox": [
                    -82.4579291,
                    27.9476964,
                    -82.4570982,
                    27.9479739
                  ]
                },
                {
                  "id": "(97871013, 474972598, 0)",
                  "type": "Feature",
                  "properties": {
                    "highway": "primary",
                    "lanes": "4",
                    "length": 88.657,
                    "maxspeed": "35 mph",
                    "name": "North Florida Avenue",
                    "oneway": true,
                    "osmid": 47222465,
                    "ref": "US 41 Business",
                    "style": {
                      "color": "black",
                      "fillColor": "black"
                    }
                  },
                  "geometry": {
                    "type": "LineString",
                    "coordinates": [
                      [
                        -82.4570982,
                        27.9479739
                      ],
                      [
                        -82.4571355,
                        27.9480717
                      ],
                      [
                        -82.4571951,
                        27.9482086
                      ],
                      [
                        -82.4571983,
                        27.9482156
                      ],
                      [
                        -82.4572832,
                        27.9484053
                      ],
                      [
                        -82.4573867,
                        27.9486362
                      ],
                      [
                        -82.4574238,
                        27.9487174
                      ]
                    ]
                  },
                  "bbox": [
                    -82.4574238,
                    27.9479739,
                    -82.4570982,
                    27.9487174
                  ]
                },
                {
                  "id": "(97871014, 97775156, 0)",
                  "type": "Feature",
                  "properties": {
                    "highway": "primary",
                    "lanes": "4",
                    "length": 88.913,
                    "maxspeed": "30 mph",
                    "name": "East Kennedy Boulevard",
                    "oneway": true,
                    "osmid": 115040529,
                    "ref": "US 41 Business;FL 60",
                    "style": {
                      "color": "black",
                      "fillColor": "black"
                    }
                  },
                  "geometry": {
                    "type": "LineString",
                    "coordinates": [
                      [
                        -82.4554104,
                        27.9485626
                      ],
                      [
                        -82.4555112,
                        27.948528
                      ],
                      [
                        -82.4561519,
                        27.9482985
                      ],
                      [
                        -82.4562493,
                        27.9482623
                      ]
                    ]
                  },
                  "bbox": [
                    -82.4562493,
                    27.9482623,
                    -82.4554104,
                    27.9485626
                  ]
                },
                {
                  "id": "(97871014, 97815626, 0)",
                  "type": "Feature",
                  "properties": {
                    "highway": "tertiary",
                    "lanes": "4",
                    "length": 87.94900000000001,
                    "maxspeed": null,
                    "name": "North Morgan Street",
                    "oneway": false,
                    "osmid": 168522075,
                    "ref": null,
                    "style": {
                      "color": "black",
                      "fillColor": "black"
                    }
                  },
                  "geometry": {
                    "type": "LineString",
                    "coordinates": [
                      [
                        -82.4554104,
                        27.9485626
                      ],
                      [
                        -82.4554545,
                        27.9486609
                      ],
                      [
                        -82.4556038,
                        27.9489992
                      ],
                      [
                        -82.4556622,
                        27.9491296
                      ],
                      [
                        -82.4556953,
                        27.9492056
                      ],
                      [
                        -82.4557374,
                        27.9492989
                      ]
                    ]
                  },
                  "bbox": [
                    -82.4557374,
                    27.9485626,
                    -82.4554104,
                    27.9492989
                  ]
                },
                {
                  "id": "(97871017, 97927140, 0)",
                  "type": "Feature",
                  "properties": {
                    "highway": "secondary",
                    "lanes": "4",
                    "length": 176.89700000000002,
                    "maxspeed": "30 mph",
                    "name": "North Jefferson Street",
                    "oneway": false,
                    "osmid": 117012652,
                    "ref": null,
                    "style": {
                      "color": "black",
                      "fillColor": "black"
                    }
                  },
                  "geometry": {
                    "type": "LineString",
                    "coordinates": [
                      [
                        -82.4537286,
                        27.9491431
                      ],
                      [
                        -82.4537686,
                        27.9492326
                      ],
                      [
                        -82.4539279,
                        27.9495938
                      ],
                      [
                        -82.4540413,
                        27.949851
                      ],
                      [
                        -82.4541757,
                        27.9501552
                      ],
                      [
                        -82.4543405,
                        27.9505283
                      ],
                      [
                        -82.4543834,
                        27.9506251
                      ]
                    ]
                  },
                  "bbox": [
                    -82.4543834,
                    27.9491431,
                    -82.4537286,
                    27.9506251
                  ]
                },
                {
                  "id": "(97871017, 942206728, 0)",
                  "type": "Feature",
                  "properties": {
                    "highway": "primary",
                    "lanes": "4",
                    "length": 89.25200000000001,
                    "maxspeed": "30 mph",
                    "name": "East Kennedy Boulevard",
                    "oneway": true,
                    "osmid": 117012653,
                    "ref": "US 41 Business;FL 60",
                    "style": {
                      "color": "black",
                      "fillColor": "black"
                    }
                  },
                  "geometry": {
                    "type": "LineString",
                    "coordinates": [
                      [
                        -82.4537286,
                        27.9491431
                      ],
                      [
                        -82.4538321,
                        27.9491073
                      ],
                      [
                        -82.4544646,
                        27.9488884
                      ],
                      [
                        -82.4545754,
                        27.9488521
                      ]
                    ]
                  },
                  "bbox": [
                    -82.4545754,
                    27.9488521,
                    -82.4537286,
                    27.9491431
                  ]
                },
                {
                  "id": "(97871022, 1993753421, 0)",
                  "type": "Feature",
                  "properties": {
                    "highway": "primary",
                    "lanes": "3",
                    "length": 83.66799999999999,
                    "maxspeed": "30 mph",
                    "name": "East Kennedy Boulevard",
                    "oneway": true,
                    "osmid": 188754665,
                    "ref": "US 41 Business;FL 60",
                    "style": {
                      "color": "black",
                      "fillColor": "black"
                    }
                  },
                  "geometry": {
                    "type": "LineString",
                    "coordinates": [
                      [
                        -82.4520812,
                        27.9496714
                      ],
                      [
                        -82.4522234,
                        27.9496187
                      ],
                      [
                        -82.4527649,
                        27.9494307
                      ],
                      [
                        -82.4528747,
                        27.9493983
                      ]
                    ]
                  },
                  "bbox": [
                    -82.4528747,
                    27.9493983,
                    -82.4520812,
                    27.9496714
                  ]
                },
                {
                  "id": "(97876151, 97928976, 0)",
                  "type": "Feature",
                  "properties": {
                    "highway": "tertiary",
                    "lanes": "4",
                    "length": 88.68900000000001,
                    "maxspeed": "30 mph",
                    "name": "East Twiggs Street",
                    "oneway": false,
                    "osmid": 87174879,
                    "ref": null,
                    "style": {
                      "color": "black",
                      "fillColor": "black"
                    }
                  },
                  "geometry": {
                    "type": "LineString",
                    "coordinates": [
                      [
                        -82.456066,
                        27.950046
                      ],
                      [
                        -82.4559605,
                        27.9500819
                      ],
                      [
                        -82.4556937,
                        27.9501733
                      ],
                      [
                        -82.455333,
                        27.9502959
                      ],
                      [
                        -82.455224,
                        27.950334
                      ]
                    ]
                  },
                  "bbox": [
                    -82.456066,
                    27.950046,
                    -82.455224,
                    27.950334
                  ]
                },
                {
                  "id": "(97876151, 97775163, 0)",
                  "type": "Feature",
                  "properties": {
                    "highway": "tertiary",
                    "lanes": "4",
                    "length": 88.28299999999999,
                    "maxspeed": "30 mph",
                    "name": "East Twiggs Street",
                    "oneway": false,
                    "osmid": 87174879,
                    "ref": null,
                    "style": {
                      "color": "black",
                      "fillColor": "black"
                    }
                  },
                  "geometry": {
                    "type": "LineString",
                    "coordinates": [
                      [
                        -82.456066,
                        27.950046
                      ],
                      [
                        -82.4561667,
                        27.9500109
                      ],
                      [
                        -82.45632,
                        27.949959
                      ],
                      [
                        -82.4568055,
                        27.9497928
                      ],
                      [
                        -82.456904,
                        27.949759
                      ]
                    ]
                  },
                  "bbox": [
                    -82.456904,
                    27.949759,
                    -82.456066,
                    27.950046
                  ]
                },
                {
                  "id": "(97876151, 97815626, 0)",
                  "type": "Feature",
                  "properties": {
                    "highway": "tertiary",
                    "lanes": "4",
                    "length": 89.12499999999999,
                    "maxspeed": null,
                    "name": "North Morgan Street",
                    "oneway": false,
                    "osmid": 168522075,
                    "ref": null,
                    "style": {
                      "color": "black",
                      "fillColor": "black"
                    }
                  },
                  "geometry": {
                    "type": "LineString",
                    "coordinates": [
                      [
                        -82.456066,
                        27.950046
                      ],
                      [
                        -82.4560273,
                        27.9499588
                      ],
                      [
                        -82.4557819,
                        27.9494039
                      ],
                      [
                        -82.4557374,
                        27.9492989
                      ]
                    ]
                  },
                  "bbox": [
                    -82.456066,
                    27.9492989,
                    -82.4557374,
                    27.950046
                  ]
                },
                {
                  "id": "(97876151, 97876153, 0)",
                  "type": "Feature",
                  "properties": {
                    "highway": "tertiary",
                    "lanes": "4",
                    "length": 89.614,
                    "maxspeed": null,
                    "name": "North Morgan Street",
                    "oneway": false,
                    "osmid": 168522075,
                    "ref": null,
                    "style": {
                      "color": "black",
                      "fillColor": "black"
                    }
                  },
                  "geometry": {
                    "type": "LineString",
                    "coordinates": [
                      [
                        -82.456066,
                        27.950046
                      ],
                      [
                        -82.4561123,
                        27.9501524
                      ],
                      [
                        -82.4561531,
                        27.9502462
                      ],
                      [
                        -82.456355,
                        27.9507105
                      ],
                      [
                        -82.4563932,
                        27.9507983
                      ]
                    ]
                  },
                  "bbox": [
                    -82.4563932,
                    27.950046,
                    -82.456066,
                    27.9507983
                  ]
                },
                {
                  "id": "(97876153, 97970376, 0)",
                  "type": "Feature",
                  "properties": {
                    "highway": "tertiary",
                    "lanes": "2",
                    "length": 88.47,
                    "maxspeed": null,
                    "name": "East Zack Street",
                    "oneway": false,
                    "osmid": 11000973,
                    "ref": null,
                    "style": {
                      "color": "black",
                      "fillColor": "black"
                    }
                  },
                  "geometry": {
                    "type": "LineString",
                    "coordinates": [
                      [
                        -82.4563932,
                        27.9507983
                      ],
                      [
                        -82.4562786,
                        27.9508362
                      ],
                      [
                        -82.4557835,
                        27.9510054
                      ],
                      [
                        -82.455661,
                        27.9510472
                      ],
                      [
                        -82.4555525,
                        27.9510838
                      ]
                    ]
                  },
                  "bbox": [
                    -82.4563932,
                    27.9507983,
                    -82.4555525,
                    27.9510838
                  ]
                },
                {
                  "id": "(97876153, 97775165, 0)",
                  "type": "Feature",
                  "properties": {
                    "highway": "tertiary",
                    "lanes": "2",
                    "length": 88.74799999999999,
                    "maxspeed": null,
                    "name": "East Zack Street",
                    "oneway": false,
                    "osmid": 11000973,
                    "ref": null,
                    "style": {
                      "color": "black",
                      "fillColor": "black"
                    }
                  },
                  "geometry": {
                    "type": "LineString",
                    "coordinates": [
                      [
                        -82.4563932,
                        27.9507983
                      ],
                      [
                        -82.456495,
                        27.9507634
                      ],
                      [
                        -82.4571368,
                        27.9505441
                      ],
                      [
                        -82.4572355,
                        27.9505095
                      ]
                    ]
                  },
                  "bbox": [
                    -82.4572355,
                    27.9505095,
                    -82.4563932,
                    27.9507983
                  ]
                },
                {
                  "id": "(97876153, 97876151, 0)",
                  "type": "Feature",
                  "properties": {
                    "highway": "tertiary",
                    "lanes": "4",
                    "length": 89.61399999999999,
                    "maxspeed": null,
                    "name": "North Morgan Street",
                    "oneway": false,
                    "osmid": 168522075,
                    "ref": null,
                    "style": {
                      "color": "black",
                      "fillColor": "black"
                    }
                  },
                  "geometry": {
                    "type": "LineString",
                    "coordinates": [
                      [
                        -82.4563932,
                        27.9507983
                      ],
                      [
                        -82.456355,
                        27.9507105
                      ],
                      [
                        -82.4561531,
                        27.9502462
                      ],
                      [
                        -82.4561123,
                        27.9501524
                      ],
                      [
                        -82.456066,
                        27.950046
                      ]
                    ]
                  },
                  "bbox": [
                    -82.4563932,
                    27.950046,
                    -82.456066,
                    27.9507983
                  ]
                },
                {
                  "id": "(97876153, 1870060169, 0)",
                  "type": "Feature",
                  "properties": {
                    "highway": "tertiary",
                    "lanes": "4",
                    "length": 82.20700000000001,
                    "maxspeed": null,
                    "name": "North Morgan Street",
                    "oneway": false,
                    "osmid": 168522075,
                    "ref": null,
                    "style": {
                      "color": "black",
                      "fillColor": "black"
                    }
                  },
                  "geometry": {
                    "type": "LineString",
                    "coordinates": [
                      [
                        -82.4563932,
                        27.9507983
                      ],
                      [
                        -82.4564338,
                        27.9508886
                      ],
                      [
                        -82.4566788,
                        27.9514358
                      ],
                      [
                        -82.4567021,
                        27.9514854
                      ]
                    ]
                  },
                  "bbox": [
                    -82.4567021,
                    27.9507983,
                    -82.4563932,
                    27.9514854
                  ]
                },
                {
                  "id": "(97925457, 975495316, 0)",
                  "type": "Feature",
                  "properties": {
                    "highway": "primary",
                    "lanes": "3",
                    "length": 89.45499999999998,
                    "maxspeed": "30 mph",
                    "name": "North Tampa Street",
                    "oneway": true,
                    "osmid": 190333972,
                    "ref": "US 41 Business",
                    "style": {
                      "color": "black",
                      "fillColor": "black"
                    }
                  },
                  "geometry": {
                    "type": "LineString",
                    "coordinates": [
                      [
                        -82.459428,
                        27.94889
                      ],
                      [
                        -82.4593896,
                        27.948803
                      ],
                      [
                        -82.4592645,
                        27.94852
                      ],
                      [
                        -82.4592601,
                        27.94851
                      ],
                      [
                        -82.4591445,
                        27.9482458
                      ],
                      [
                        -82.4590968,
                        27.9481406
                      ]
                    ]
                  },
                  "bbox": [
                    -82.459428,
                    27.9481406,
                    -82.4590968,
                    27.94889
                  ]
                },
                {
                  "id": "(97925457, 97928972, 0)",
                  "type": "Feature",
                  "properties": {
                    "highway": "tertiary",
                    "lanes": "2",
                    "length": 85.988,
                    "maxspeed": "30 mph",
                    "name": "East Twiggs Street",
                    "oneway": false,
                    "osmid": 794324838,
                    "ref": null,
                    "style": {
                      "color": "black",
                      "fillColor": "black"
                    }
                  },
                  "geometry": {
                    "type": "LineString",
                    "coordinates": [
                      [
                        -82.459428,
                        27.94889
                      ],
                      [
                        -82.4593218,
                        27.948926
                      ],
                      [
                        -82.4589351,
                        27.9490735
                      ],
                      [
                        -82.4586985,
                        27.949157
                      ],
                      [
                        -82.458618,
                        27.9491829
                      ]
                    ]
                  },
                  "bbox": [
                    -82.459428,
                    27.94889,
                    -82.458618,
                    27.9491829
                  ]
                },
                {
                  "id": "(97925459, 97925457, 0)",
                  "type": "Feature",
                  "properties": {
                    "highway": "primary",
                    "lanes": "3",
                    "length": 89.104,
                    "maxspeed": "30 mph",
                    "name": "North Tampa Street",
                    "oneway": true,
                    "osmid": 190333972,
                    "ref": "US 41 Business",
                    "style": {
                      "color": "black",
                      "fillColor": "black"
                    }
                  },
                  "geometry": {
                    "type": "LineString",
                    "coordinates": [
                      [
                        -82.4597618,
                        27.9496351
                      ],
                      [
                        -82.4597334,
                        27.9495732
                      ],
                      [
                        -82.4596473,
                        27.949379
                      ],
                      [
                        -82.4596452,
                        27.9493743
                      ],
                      [
                        -82.4596218,
                        27.9493224
                      ],
                      [
                        -82.4596132,
                        27.9493029
                      ],
                      [
                        -82.4594719,
                        27.9489877
                      ],
                      [
                        -82.459428,
                        27.94889
                      ]
                    ]
                  },
                  "bbox": [
                    -82.4597618,
                    27.94889,
                    -82.459428,
                    27.9496351
                  ]
                },
                {
                  "id": "(97925459, 97964888, 0)",
                  "type": "Feature",
                  "properties": {
                    "highway": "tertiary",
                    "lanes": "2",
                    "length": 92.024,
                    "maxspeed": null,
                    "name": "East Zack Street",
                    "oneway": false,
                    "osmid": 909318437,
                    "ref": null,
                    "style": {
                      "color": "black",
                      "fillColor": "black"
                    }
                  },
                  "geometry": {
                    "type": "LineString",
                    "coordinates": [
                      [
                        -82.4597618,
                        27.9496351
                      ],
                      [
                        -82.4596427,
                        27.949677
                      ],
                      [
                        -82.4592746,
                        27.9498061
                      ],
                      [
                        -82.4590041,
                        27.949901
                      ],
                      [
                        -82.4588911,
                        27.9499406
                      ]
                    ]
                  },
                  "bbox": [
                    -82.4597618,
                    27.9496351,
                    -82.4588911,
                    27.9499406
                  ]
                },
                {
                  "id": "(97927140, 97928978, 0)",
                  "type": "Feature",
                  "properties": {
                    "highway": "tertiary",
                    "lanes": "4",
                    "length": 94.40299999999999,
                    "maxspeed": "30 mph",
                    "name": "East Twiggs Street",
                    "oneway": false,
                    "osmid": 87174879,
                    "ref": null,
                    "style": {
                      "color": "black",
                      "fillColor": "black"
                    }
                  },
                  "geometry": {
                    "type": "LineString",
                    "coordinates": [
                      [
                        -82.4543834,
                        27.9506251
                      ],
                      [
                        -82.4542746,
                        27.9506623
                      ],
                      [
                        -82.4536385,
                        27.9508819
                      ],
                      [
                        -82.4535775,
                        27.9509037
                      ],
                      [
                        -82.4534884,
                        27.9509345
                      ]
                    ]
                  },
                  "bbox": [
                    -82.4543834,
                    27.9506251,
                    -82.4534884,
                    27.9509345
                  ]
                },
                {
                  "id": "(97927140, 97928976, 0)",
                  "type": "Feature",
                  "properties": {
                    "highway": "tertiary",
                    "lanes": "4",
                    "length": 88.68599999999999,
                    "maxspeed": "30 mph",
                    "name": "East Twiggs Street",
                    "oneway": false,
                    "osmid": 87174879,
                    "ref": null,
                    "style": {
                      "color": "black",
                      "fillColor": "black"
                    }
                  },
                  "geometry": {
                    "type": "LineString",
                    "coordinates": [
                      [
                        -82.4543834,
                        27.9506251
                      ],
                      [
                        -82.4544901,
                        27.9505879
                      ],
                      [
                        -82.4551043,
                        27.9503766
                      ],
                      [
                        -82.455224,
                        27.950334
                      ]
                    ]
                  },
                  "bbox": [
                    -82.455224,
                    27.950334,
                    -82.4543834,
                    27.9506251
                  ]
                },
                {
                  "id": "(97927140, 97927142, 0)",
                  "type": "Feature",
                  "properties": {
                    "highway": "secondary",
                    "lanes": "4",
                    "length": 87.532,
                    "maxspeed": "30 mph",
                    "name": "North Jefferson Street",
                    "oneway": false,
                    "osmid": 117012652,
                    "ref": null,
                    "style": {
                      "color": "black",
                      "fillColor": "black"
                    }
                  },
                  "geometry": {
                    "type": "LineString",
                    "coordinates": [
                      [
                        -82.4543834,
                        27.9506251
                      ],
                      [
                        -82.4544301,
                        27.9507312
                      ],
                      [
                        -82.4546725,
                        27.951283
                      ],
                      [
                        -82.4547077,
                        27.9513583
                      ]
                    ]
                  },
                  "bbox": [
                    -82.4547077,
                    27.9506251,
                    -82.4543834,
                    27.9513583
                  ]
                },
                {
                  "id": "(97927140, 97871017, 0)",
                  "type": "Feature",
                  "properties": {
                    "highway": "secondary",
                    "lanes": "4",
                    "length": 176.897,
                    "maxspeed": "30 mph",
                    "name": "North Jefferson Street",
                    "oneway": false,
                    "osmid": 117012652,
                    "ref": null,
                    "style": {
                      "color": "black",
                      "fillColor": "black"
                    }
                  },
                  "geometry": {
                    "type": "LineString",
                    "coordinates": [
                      [
                        -82.4543834,
                        27.9506251
                      ],
                      [
                        -82.4543405,
                        27.9505283
                      ],
                      [
                        -82.4541757,
                        27.9501552
                      ],
                      [
                        -82.4540413,
                        27.949851
                      ],
                      [
                        -82.4539279,
                        27.9495938
                      ],
                      [
                        -82.4537686,
                        27.9492326
                      ],
                      [
                        -82.4537286,
                        27.9491431
                      ]
                    ]
                  },
                  "bbox": [
                    -82.4543834,
                    27.9491431,
                    -82.4537286,
                    27.9506251
                  ]
                },
                {
                  "id": "(97927142, 97970376, 0)",
                  "type": "Feature",
                  "properties": {
                    "highway": "tertiary",
                    "lanes": "2",
                    "length": 88.418,
                    "maxspeed": null,
                    "name": "East Zack Street",
                    "oneway": false,
                    "osmid": 11000973,
                    "ref": null,
                    "style": {
                      "color": "black",
                      "fillColor": "black"
                    }
                  },
                  "geometry": {
                    "type": "LineString",
                    "coordinates": [
                      [
                        -82.4547077,
                        27.9513583
                      ],
                      [
                        -82.4548056,
                        27.9513284
                      ],
                      [
                        -82.455271,
                        27.951175
                      ],
                      [
                        -82.4552812,
                        27.9511717
                      ],
                      [
                        -82.4554404,
                        27.9511201
                      ],
                      [
                        -82.4555525,
                        27.9510838
                      ]
                    ]
                  },
                  "bbox": [
                    -82.4555525,
                    27.9510838,
                    -82.4547077,
                    27.9513583
                  ]
                },
                {
                  "id": "(97927142, 1870060205, 0)",
                  "type": "Feature",
                  "properties": {
                    "highway": "secondary",
                    "lanes": "4",
                    "length": 84.01500000000001,
                    "maxspeed": "30 mph",
                    "name": "North Jefferson Street",
                    "oneway": false,
                    "osmid": 117012652,
                    "ref": null,
                    "style": {
                      "color": "black",
                      "fillColor": "black"
                    }
                  },
                  "geometry": {
                    "type": "LineString",
                    "coordinates": [
                      [
                        -82.4547077,
                        27.9513583
                      ],
                      [
                        -82.4547478,
                        27.9514488
                      ],
                      [
                        -82.4548623,
                        27.9517075
                      ],
                      [
                        -82.4549634,
                        27.951936
                      ],
                      [
                        -82.4549705,
                        27.9519521
                      ],
                      [
                        -82.4550191,
                        27.952062
                      ]
                    ]
                  },
                  "bbox": [
                    -82.4550191,
                    27.9513583,
                    -82.4547077,
                    27.952062
                  ]
                },
                {
                  "id": "(97927142, 97927140, 0)",
                  "type": "Feature",
                  "properties": {
                    "highway": "secondary",
                    "lanes": "4",
                    "length": 87.532,
                    "maxspeed": "30 mph",
                    "name": "North Jefferson Street",
                    "oneway": false,
                    "osmid": 117012652,
                    "ref": null,
                    "style": {
                      "color": "black",
                      "fillColor": "black"
                    }
                  },
                  "geometry": {
                    "type": "LineString",
                    "coordinates": [
                      [
                        -82.4547077,
                        27.9513583
                      ],
                      [
                        -82.4546725,
                        27.951283
                      ],
                      [
                        -82.4544301,
                        27.9507312
                      ],
                      [
                        -82.4543834,
                        27.9506251
                      ]
                    ]
                  },
                  "bbox": [
                    -82.4547077,
                    27.9506251,
                    -82.4543834,
                    27.9513583
                  ]
                },
                {
                  "id": "(97928972, 97928974, 0)",
                  "type": "Feature",
                  "properties": {
                    "highway": "tertiary",
                    "lanes": "3",
                    "length": 91.66499999999999,
                    "maxspeed": "30 mph",
                    "name": "East Twiggs Street",
                    "oneway": false,
                    "osmid": 87174882,
                    "ref": null,
                    "style": {
                      "color": "black",
                      "fillColor": "black"
                    }
                  },
                  "geometry": {
                    "type": "LineString",
                    "coordinates": [
                      [
                        -82.458618,
                        27.9491829
                      ],
                      [
                        -82.4585562,
                        27.949201
                      ],
                      [
                        -82.4581077,
                        27.9493472
                      ],
                      [
                        -82.4580167,
                        27.9493768
                      ],
                      [
                        -82.4578494,
                        27.9494309
                      ],
                      [
                        -82.457742,
                        27.949467
                      ]
                    ]
                  },
                  "bbox": [
                    -82.458618,
                    27.9491829,
                    -82.457742,
                    27.949467
                  ]
                },
                {
                  "id": "(97928972, 975495315, 0)",
                  "type": "Feature",
                  "properties": {
                    "highway": "unclassified",
                    "lanes": "2",
                    "length": 91.496,
                    "maxspeed": null,
                    "name": "North Franklin Street",
                    "oneway": false,
                    "osmid": 203993896,
                    "ref": null,
                    "style": {
                      "color": "black",
                      "fillColor": "black"
                    }
                  },
                  "geometry": {
                    "type": "LineString",
                    "coordinates": [
                      [
                        -82.458618,
                        27.9491829
                      ],
                      [
                        -82.4585839,
                        27.9490963
                      ],
                      [
                        -82.4585645,
                        27.949054
                      ],
                      [
                        -82.4585201,
                        27.9489467
                      ],
                      [
                        -82.4585054,
                        27.948917
                      ],
                      [
                        -82.4584889,
                        27.9488887
                      ],
                      [
                        -82.4584639,
                        27.9488534
                      ],
                      [
                        -82.4584318,
                        27.9488181
                      ],
                      [
                        -82.4583966,
                        27.9487773
                      ],
                      [
                        -82.4583808,
                        27.9487549
                      ],
                      [
                        -82.4583676,
                        27.9487325
                      ],
                      [
                        -82.4582772,
                        27.9485287
                      ],
                      [
                        -82.4582366,
                        27.9484372
                      ]
                    ]
                  },
                  "bbox": [
                    -82.458618,
                    27.9484372,
                    -82.4582366,
                    27.9491829
                  ]
                },
                {
                  "id": "(97928972, 97964888, 0)",
                  "type": "Feature",
                  "properties": {
                    "highway": "unclassified",
                    "lanes": "2",
                    "length": 88.943,
                    "maxspeed": null,
                    "name": "North Franklin Street",
                    "oneway": false,
                    "osmid": 203993896,
                    "ref": null,
                    "style": {
                      "color": "black",
                      "fillColor": "black"
                    }
                  },
                  "geometry": {
                    "type": "LineString",
                    "coordinates": [
                      [
                        -82.458618,
                        27.9491829
                      ],
                      [
                        -82.4586546,
                        27.9492665
                      ],
                      [
                        -82.4587326,
                        27.9494506
                      ],
                      [
                        -82.4587425,
                        27.9494792
                      ],
                      [
                        -82.4587489,
                        27.9495085
                      ],
                      [
                        -82.458751,
                        27.9495446
                      ],
                      [
                        -82.4587546,
                        27.9496014
                      ],
                      [
                        -82.4587586,
                        27.9496299
                      ],
                      [
                        -82.4587671,
                        27.9496575
                      ],
                      [
                        -82.4588616,
                        27.9498769
                      ],
                      [
                        -82.4588911,
                        27.9499406
                      ]
                    ]
                  },
                  "bbox": [
                    -82.4588911,
                    27.9491829,
                    -82.458618,
                    27.9499406
                  ]
                },
                {
                  "id": "(97928972, 97925457, 0)",
                  "type": "Feature",
                  "properties": {
                    "highway": "tertiary",
                    "lanes": "2",
                    "length": 85.988,
                    "maxspeed": "30 mph",
                    "name": "East Twiggs Street",
                    "oneway": false,
                    "osmid": 794324838,
                    "ref": null,
                    "style": {
                      "color": "black",
                      "fillColor": "black"
                    }
                  },
                  "geometry": {
                    "type": "LineString",
                    "coordinates": [
                      [
                        -82.458618,
                        27.9491829
                      ],
                      [
                        -82.4586985,
                        27.949157
                      ],
                      [
                        -82.4589351,
                        27.9490735
                      ],
                      [
                        -82.4593218,
                        27.948926
                      ],
                      [
                        -82.459428,
                        27.94889
                      ]
                    ]
                  },
                  "bbox": [
                    -82.459428,
                    27.94889,
                    -82.458618,
                    27.9491829
                  ]
                },
                {
                  "id": "(97928974, 97942623, 0)",
                  "type": "Feature",
                  "properties": {
                    "highway": "primary",
                    "lanes": "4",
                    "length": 90.61200000000001,
                    "maxspeed": "35 mph",
                    "name": "North Florida Avenue",
                    "oneway": true,
                    "osmid": 47222465,
                    "ref": "US 41 Business",
                    "style": {
                      "color": "black",
                      "fillColor": "black"
                    }
                  },
                  "geometry": {
                    "type": "LineString",
                    "coordinates": [
                      [
                        -82.457742,
                        27.949467
                      ],
                      [
                        -82.4577853,
                        27.9495598
                      ],
                      [
                        -82.4580361,
                        27.9501284
                      ],
                      [
                        -82.4580774,
                        27.9502261
                      ]
                    ]
                  },
                  "bbox": [
                    -82.4580774,
                    27.949467,
                    -82.457742,
                    27.9502261
                  ]
                },
                {
                  "id": "(97928974, 97775163, 0)",
                  "type": "Feature",
                  "properties": {
                    "highway": "tertiary",
                    "lanes": "4",
                    "length": 88.487,
                    "maxspeed": "30 mph",
                    "name": "East Twiggs Street",
                    "oneway": false,
                    "osmid": 87174879,
                    "ref": null,
                    "style": {
                      "color": "black",
                      "fillColor": "black"
                    }
                  },
                  "geometry": {
                    "type": "LineString",
                    "coordinates": [
                      [
                        -82.457742,
                        27.949467
                      ],
                      [
                        -82.457635,
                        27.9495045
                      ],
                      [
                        -82.4569898,
                        27.9497307
                      ],
                      [
                        -82.456904,
                        27.949759
                      ]
                    ]
                  },
                  "bbox": [
                    -82.457742,
                    27.949467,
                    -82.456904,
                    27.949759
                  ]
                },
                {
                  "id": "(97928974, 97928972, 0)",
                  "type": "Feature",
                  "properties": {
                    "highway": "tertiary",
                    "lanes": "3",
                    "length": 91.66499999999999,
                    "maxspeed": "30 mph",
                    "name": "East Twiggs Street",
                    "oneway": false,
                    "osmid": 87174882,
                    "ref": null,
                    "style": {
                      "color": "black",
                      "fillColor": "black"
                    }
                  },
                  "geometry": {
                    "type": "LineString",
                    "coordinates": [
                      [
                        -82.457742,
                        27.949467
                      ],
                      [
                        -82.4578494,
                        27.9494309
                      ],
                      [
                        -82.4580167,
                        27.9493768
                      ],
                      [
                        -82.4581077,
                        27.9493472
                      ],
                      [
                        -82.4585562,
                        27.949201
                      ],
                      [
                        -82.458618,
                        27.9491829
                      ]
                    ]
                  },
                  "bbox": [
                    -82.458618,
                    27.9491829,
                    -82.457742,
                    27.949467
                  ]
                },
                {
                  "id": "(97928976, 97927140, 0)",
                  "type": "Feature",
                  "properties": {
                    "highway": "tertiary",
                    "lanes": "4",
                    "length": 88.68599999999999,
                    "maxspeed": "30 mph",
                    "name": "East Twiggs Street",
                    "oneway": false,
                    "osmid": 87174879,
                    "ref": null,
                    "style": {
                      "color": "black",
                      "fillColor": "black"
                    }
                  },
                  "geometry": {
                    "type": "LineString",
                    "coordinates": [
                      [
                        -82.455224,
                        27.950334
                      ],
                      [
                        -82.4551043,
                        27.9503766
                      ],
                      [
                        -82.4544901,
                        27.9505879
                      ],
                      [
                        -82.4543834,
                        27.9506251
                      ]
                    ]
                  },
                  "bbox": [
                    -82.455224,
                    27.950334,
                    -82.4543834,
                    27.9506251
                  ]
                },
                {
                  "id": "(97928976, 97876151, 0)",
                  "type": "Feature",
                  "properties": {
                    "highway": "tertiary",
                    "lanes": "4",
                    "length": 88.68900000000001,
                    "maxspeed": "30 mph",
                    "name": "East Twiggs Street",
                    "oneway": false,
                    "osmid": 87174879,
                    "ref": null,
                    "style": {
                      "color": "black",
                      "fillColor": "black"
                    }
                  },
                  "geometry": {
                    "type": "LineString",
                    "coordinates": [
                      [
                        -82.455224,
                        27.950334
                      ],
                      [
                        -82.455333,
                        27.9502959
                      ],
                      [
                        -82.4556937,
                        27.9501733
                      ],
                      [
                        -82.4559605,
                        27.9500819
                      ],
                      [
                        -82.456066,
                        27.950046
                      ]
                    ]
                  },
                  "bbox": [
                    -82.456066,
                    27.950046,
                    -82.455224,
                    27.950334
                  ]
                },
                {
                  "id": "(97928976, 97815628, 0)",
                  "type": "Feature",
                  "properties": {
                    "highway": "secondary",
                    "lanes": "4",
                    "length": 88.88499999999999,
                    "maxspeed": "unposted",
                    "name": "Pierce Street",
                    "oneway": true,
                    "osmid": 87659447,
                    "ref": null,
                    "style": {
                      "color": "black",
                      "fillColor": "black"
                    }
                  },
                  "geometry": {
                    "type": "LineString",
                    "coordinates": [
                      [
                        -82.455224,
                        27.950334
                      ],
                      [
                        -82.455184,
                        27.9502429
                      ],
                      [
                        -82.4549338,
                        27.9496767
                      ],
                      [
                        -82.454896,
                        27.949589
                      ]
                    ]
                  },
                  "bbox": [
                    -82.455224,
                    27.949589,
                    -82.454896,
                    27.950334
                  ]
                },
                {
                  "id": "(97928978, 1993753395, 0)",
                  "type": "Feature",
                  "properties": {
                    "highway": "residential",
                    "lanes": null,
                    "length": 172.229,
                    "maxspeed": null,
                    "name": "East Street",
                    "oneway": false,
                    "osmid": 25886894,
                    "ref": null,
                    "style": {
                      "color": "black",
                      "fillColor": "black"
                    }
                  },
                  "geometry": {
                    "type": "LineString",
                    "coordinates": [
                      [
                        -82.4534884,
                        27.9509345
                      ],
                      [
                        -82.4534498,
                        27.9508475
                      ],
                      [
                        -82.4532935,
                        27.9504951
                      ],
                      [
                        -82.4532555,
                        27.9504096
                      ],
                      [
                        -82.4532102,
                        27.9503075
                      ],
                      [
                        -82.4531017,
                        27.9500629
                      ],
                      [
                        -82.4530571,
                        27.9499623
                      ],
                      [
                        -82.453004,
                        27.9498427
                      ],
                      [
                        -82.4528703,
                        27.9495405
                      ],
                      [
                        -82.4528486,
                        27.9494924
                      ]
                    ]
                  },
                  "bbox": [
                    -82.4534884,
                    27.9494924,
                    -82.4528486,
                    27.9509345
                  ]
                },
                {
                  "id": "(97928978, 97927140, 0)",
                  "type": "Feature",
                  "properties": {
                    "highway": "tertiary",
                    "lanes": "4",
                    "length": 94.403,
                    "maxspeed": "30 mph",
                    "name": "East Twiggs Street",
                    "oneway": false,
                    "osmid": 87174879,
                    "ref": null,
                    "style": {
                      "color": "black",
                      "fillColor": "black"
                    }
                  },
                  "geometry": {
                    "type": "LineString",
                    "coordinates": [
                      [
                        -82.4534884,
                        27.9509345
                      ],
                      [
                        -82.4535775,
                        27.9509037
                      ],
                      [
                        -82.4536385,
                        27.9508819
                      ],
                      [
                        -82.4542746,
                        27.9506623
                      ],
                      [
                        -82.4543834,
                        27.9506251
                      ]
                    ]
                  },
                  "bbox": [
                    -82.4543834,
                    27.9506251,
                    -82.4534884,
                    27.9509345
                  ]
                },
                {
                  "id": "(97942623, 1870060119, 0)",
                  "type": "Feature",
                  "properties": {
                    "highway": "primary",
                    "lanes": "4",
                    "length": 80.713,
                    "maxspeed": "35 mph",
                    "name": "North Florida Avenue",
                    "oneway": true,
                    "osmid": 47222465,
                    "ref": "US 41 Business",
                    "style": {
                      "color": "black",
                      "fillColor": "black"
                    }
                  },
                  "geometry": {
                    "type": "LineString",
                    "coordinates": [
                      [
                        -82.4580774,
                        27.9502261
                      ],
                      [
                        -82.4581131,
                        27.9503037
                      ],
                      [
                        -82.4583524,
                        27.950864
                      ],
                      [
                        -82.458369,
                        27.9509047
                      ]
                    ]
                  },
                  "bbox": [
                    -82.458369,
                    27.9502261,
                    -82.4580774,
                    27.9509047
                  ]
                },
                {
                  "id": "(97942623, 97775165, 0)",
                  "type": "Feature",
                  "properties": {
                    "highway": "tertiary",
                    "lanes": "2",
                    "length": 88.52199999999999,
                    "maxspeed": null,
                    "name": "East Zack Street",
                    "oneway": false,
                    "osmid": [
                      909318437,
                      11000973
                    ],
                    "ref": null,
                    "style": {
                      "color": "black",
                      "fillColor": "black"
                    }
                  },
                  "geometry": {
                    "type": "LineString",
                    "coordinates": [
                      [
                        -82.4580774,
                        27.9502261
                      ],
                      [
                        -82.4579718,
                        27.9502555
                      ],
                      [
                        -82.4576558,
                        27.9503609
                      ],
                      [
                        -82.4573245,
                        27.9504773
                      ],
                      [
                        -82.4572355,
                        27.9505095
                      ]
                    ]
                  },
                  "bbox": [
                    -82.4580774,
                    27.9502261,
                    -82.4572355,
                    27.9505095
                  ]
                },
                {
                  "id": "(97942623, 97964888, 0)",
                  "type": "Feature",
                  "properties": {
                    "highway": "tertiary",
                    "lanes": "2",
                    "length": 86,
                    "maxspeed": null,
                    "name": "East Zack Street",
                    "oneway": false,
                    "osmid": 909318437,
                    "ref": null,
                    "style": {
                      "color": "black",
                      "fillColor": "black"
                    }
                  },
                  "geometry": {
                    "type": "LineString",
                    "coordinates": [
                      [
                        -82.4580774,
                        27.9502261
                      ],
                      [
                        -82.4581899,
                        27.9501866
                      ],
                      [
                        -82.4583363,
                        27.9501353
                      ],
                      [
                        -82.458423,
                        27.9501048
                      ],
                      [
                        -82.4588155,
                        27.9499671
                      ],
                      [
                        -82.4588911,
                        27.9499406
                      ]
                    ]
                  },
                  "bbox": [
                    -82.4588911,
                    27.9499406,
                    -82.4580774,
                    27.9502261
                  ]
                },
                {
                  "id": "(97964888, 97928972, 0)",
                  "type": "Feature",
                  "properties": {
                    "highway": "unclassified",
                    "lanes": "2",
                    "length": 88.943,
                    "maxspeed": null,
                    "name": "North Franklin Street",
                    "oneway": false,
                    "osmid": 203993896,
                    "ref": null,
                    "style": {
                      "color": "black",
                      "fillColor": "black"
                    }
                  },
                  "geometry": {
                    "type": "LineString",
                    "coordinates": [
                      [
                        -82.4588911,
                        27.9499406
                      ],
                      [
                        -82.4588616,
                        27.9498769
                      ],
                      [
                        -82.4587671,
                        27.9496575
                      ],
                      [
                        -82.4587586,
                        27.9496299
                      ],
                      [
                        -82.4587546,
                        27.9496014
                      ],
                      [
                        -82.458751,
                        27.9495446
                      ],
                      [
                        -82.4587489,
                        27.9495085
                      ],
                      [
                        -82.4587425,
                        27.9494792
                      ],
                      [
                        -82.4587326,
                        27.9494506
                      ],
                      [
                        -82.4586546,
                        27.9492665
                      ],
                      [
                        -82.458618,
                        27.9491829
                      ]
                    ]
                  },
                  "bbox": [
                    -82.4588911,
                    27.9491829,
                    -82.458618,
                    27.9499406
                  ]
                },
                {
                  "id": "(97964888, 1870060195, 0)",
                  "type": "Feature",
                  "properties": {
                    "highway": "unclassified",
                    "lanes": "2",
                    "length": 83.18299999999999,
                    "maxspeed": null,
                    "name": "North Franklin Street",
                    "oneway": false,
                    "osmid": 203993896,
                    "ref": null,
                    "style": {
                      "color": "black",
                      "fillColor": "black"
                    }
                  },
                  "geometry": {
                    "type": "LineString",
                    "coordinates": [
                      [
                        -82.4588911,
                        27.9499406
                      ],
                      [
                        -82.4589191,
                        27.9499995
                      ],
                      [
                        -82.4590101,
                        27.9502103
                      ],
                      [
                        -82.4590268,
                        27.9502419
                      ],
                      [
                        -82.4590496,
                        27.9502725
                      ],
                      [
                        -82.4590795,
                        27.9503014
                      ],
                      [
                        -82.4591034,
                        27.9503276
                      ],
                      [
                        -82.4591262,
                        27.9503574
                      ],
                      [
                        -82.459146,
                        27.950389
                      ],
                      [
                        -82.4591723,
                        27.9504504
                      ],
                      [
                        -82.4592266,
                        27.9505643
                      ],
                      [
                        -82.4592474,
                        27.950614
                      ]
                    ]
                  },
                  "bbox": [
                    -82.4592474,
                    27.9499406,
                    -82.4588911,
                    27.950614
                  ]
                },
                {
                  "id": "(97964888, 97942623, 0)",
                  "type": "Feature",
                  "properties": {
                    "highway": "tertiary",
                    "lanes": "2",
                    "length": 86,
                    "maxspeed": null,
                    "name": "East Zack Street",
                    "oneway": false,
                    "osmid": 909318437,
                    "ref": null,
                    "style": {
                      "color": "black",
                      "fillColor": "black"
                    }
                  },
                  "geometry": {
                    "type": "LineString",
                    "coordinates": [
                      [
                        -82.4588911,
                        27.9499406
                      ],
                      [
                        -82.4588155,
                        27.9499671
                      ],
                      [
                        -82.458423,
                        27.9501048
                      ],
                      [
                        -82.4583363,
                        27.9501353
                      ],
                      [
                        -82.4581899,
                        27.9501866
                      ],
                      [
                        -82.4580774,
                        27.9502261
                      ]
                    ]
                  },
                  "bbox": [
                    -82.4588911,
                    27.9499406,
                    -82.4580774,
                    27.9502261
                  ]
                },
                {
                  "id": "(97964888, 97925459, 0)",
                  "type": "Feature",
                  "properties": {
                    "highway": "tertiary",
                    "lanes": "2",
                    "length": 92.024,
                    "maxspeed": null,
                    "name": "East Zack Street",
                    "oneway": false,
                    "osmid": 909318437,
                    "ref": null,
                    "style": {
                      "color": "black",
                      "fillColor": "black"
                    }
                  },
                  "geometry": {
                    "type": "LineString",
                    "coordinates": [
                      [
                        -82.4588911,
                        27.9499406
                      ],
                      [
                        -82.4590041,
                        27.949901
                      ],
                      [
                        -82.4592746,
                        27.9498061
                      ],
                      [
                        -82.4596427,
                        27.949677
                      ],
                      [
                        -82.4597618,
                        27.9496351
                      ]
                    ]
                  },
                  "bbox": [
                    -82.4597618,
                    27.9496351,
                    -82.4588911,
                    27.9499406
                  ]
                },
                {
                  "id": "(97970376, 97927142, 0)",
                  "type": "Feature",
                  "properties": {
                    "highway": "tertiary",
                    "lanes": "2",
                    "length": 88.41799999999999,
                    "maxspeed": null,
                    "name": "East Zack Street",
                    "oneway": false,
                    "osmid": 11000973,
                    "ref": null,
                    "style": {
                      "color": "black",
                      "fillColor": "black"
                    }
                  },
                  "geometry": {
                    "type": "LineString",
                    "coordinates": [
                      [
                        -82.4555525,
                        27.9510838
                      ],
                      [
                        -82.4554404,
                        27.9511201
                      ],
                      [
                        -82.4552812,
                        27.9511717
                      ],
                      [
                        -82.455271,
                        27.951175
                      ],
                      [
                        -82.4548056,
                        27.9513284
                      ],
                      [
                        -82.4547077,
                        27.9513583
                      ]
                    ]
                  },
                  "bbox": [
                    -82.4555525,
                    27.9510838,
                    -82.4547077,
                    27.9513583
                  ]
                },
                {
                  "id": "(97970376, 97876153, 0)",
                  "type": "Feature",
                  "properties": {
                    "highway": "tertiary",
                    "lanes": "2",
                    "length": 88.47,
                    "maxspeed": null,
                    "name": "East Zack Street",
                    "oneway": false,
                    "osmid": 11000973,
                    "ref": null,
                    "style": {
                      "color": "black",
                      "fillColor": "black"
                    }
                  },
                  "geometry": {
                    "type": "LineString",
                    "coordinates": [
                      [
                        -82.4555525,
                        27.9510838
                      ],
                      [
                        -82.455661,
                        27.9510472
                      ],
                      [
                        -82.4557835,
                        27.9510054
                      ],
                      [
                        -82.4562786,
                        27.9508362
                      ],
                      [
                        -82.4563932,
                        27.9507983
                      ]
                    ]
                  },
                  "bbox": [
                    -82.4563932,
                    27.9507983,
                    -82.4555525,
                    27.9510838
                  ]
                },
                {
                  "id": "(97970376, 97928976, 0)",
                  "type": "Feature",
                  "properties": {
                    "highway": "secondary",
                    "lanes": "4",
                    "length": 89.40199999999999,
                    "maxspeed": "unposted",
                    "name": "Pierce Street",
                    "oneway": true,
                    "osmid": 87659447,
                    "ref": null,
                    "style": {
                      "color": "black",
                      "fillColor": "black"
                    }
                  },
                  "geometry": {
                    "type": "LineString",
                    "coordinates": [
                      [
                        -82.4555525,
                        27.9510838
                      ],
                      [
                        -82.4555163,
                        27.9509993
                      ],
                      [
                        -82.4554838,
                        27.9509268
                      ],
                      [
                        -82.4554803,
                        27.950919
                      ],
                      [
                        -82.4554742,
                        27.950905
                      ],
                      [
                        -82.4554711,
                        27.950898
                      ],
                      [
                        -82.4554215,
                        27.9507847
                      ],
                      [
                        -82.4554193,
                        27.9507798
                      ],
                      [
                        -82.4553762,
                        27.9506818
                      ],
                      [
                        -82.455348,
                        27.9506178
                      ],
                      [
                        -82.4552707,
                        27.9504419
                      ],
                      [
                        -82.455224,
                        27.950334
                      ]
                    ]
                  },
                  "bbox": [
                    -82.4555525,
                    27.950334,
                    -82.455224,
                    27.9510838
                  ]
                },
                {
                  "id": "(320166852, 320166965, 0)",
                  "type": "Feature",
                  "properties": {
                    "highway": "tertiary",
                    "lanes": "1",
                    "length": 87.89,
                    "maxspeed": null,
                    "name": "Polk Street",
                    "oneway": true,
                    "osmid": 176372706,
                    "ref": null,
                    "style": {
                      "color": "black",
                      "fillColor": "black"
                    }
                  },
                  "geometry": {
                    "type": "LineString",
                    "coordinates": [
                      [
                        -82.4550641,
                        27.9521639
                      ],
                      [
                        -82.4551635,
                        27.9521273
                      ],
                      [
                        -82.4552022,
                        27.9521142
                      ],
                      [
                        -82.4557987,
                        27.9519187
                      ],
                      [
                        -82.4559013,
                        27.9518851
                      ]
                    ]
                  },
                  "bbox": [
                    -82.4559013,
                    27.9518851,
                    -82.4550641,
                    27.9521639
                  ]
                },
                {
                  "id": "(320166965, 1870060124, 0)",
                  "type": "Feature",
                  "properties": {
                    "highway": "secondary",
                    "lanes": "4",
                    "length": 13.331,
                    "maxspeed": "unposted",
                    "name": "Pierce Street",
                    "oneway": true,
                    "osmid": 87659447,
                    "ref": null,
                    "style": {
                      "color": "black",
                      "fillColor": "black"
                    }
                  },
                  "geometry": {
                    "type": "LineString",
                    "coordinates": [
                      [
                        -82.4559013,
                        27.9518851
                      ],
                      [
                        -82.4558771,
                        27.9518297
                      ],
                      [
                        -82.4558526,
                        27.9517732
                      ]
                    ]
                  },
                  "bbox": [
                    -82.4559013,
                    27.9517732,
                    -82.4558526,
                    27.9518851
                  ]
                },
                {
                  "id": "(320166965, 1870060202, 0)",
                  "type": "Feature",
                  "properties": {
                    "highway": "tertiary",
                    "lanes": "1",
                    "length": 89.45599999999999,
                    "maxspeed": null,
                    "name": "Polk Street",
                    "oneway": true,
                    "osmid": 176372706,
                    "ref": null,
                    "style": {
                      "color": "black",
                      "fillColor": "black"
                    }
                  },
                  "geometry": {
                    "type": "LineString",
                    "coordinates": [
                      [
                        -82.4559013,
                        27.9518851
                      ],
                      [
                        -82.4560054,
                        27.9518487
                      ],
                      [
                        -82.4562309,
                        27.9517694
                      ],
                      [
                        -82.4566397,
                        27.9516379
                      ],
                      [
                        -82.4567536,
                        27.9516018
                      ]
                    ]
                  },
                  "bbox": [
                    -82.4567536,
                    27.9516018,
                    -82.4559013,
                    27.9518851
                  ]
                },
                {
                  "id": "(474972598, 97928974, 0)",
                  "type": "Feature",
                  "properties": {
                    "highway": "primary",
                    "lanes": "4",
                    "length": 89.021,
                    "maxspeed": "35 mph",
                    "name": "North Florida Avenue",
                    "oneway": true,
                    "osmid": 47222465,
                    "ref": "US 41 Business",
                    "style": {
                      "color": "black",
                      "fillColor": "black"
                    }
                  },
                  "geometry": {
                    "type": "LineString",
                    "coordinates": [
                      [
                        -82.4574238,
                        27.9487174
                      ],
                      [
                        -82.4574634,
                        27.9488104
                      ],
                      [
                        -82.4575684,
                        27.9490581
                      ],
                      [
                        -82.4577099,
                        27.949389
                      ],
                      [
                        -82.457742,
                        27.949467
                      ]
                    ]
                  },
                  "bbox": [
                    -82.457742,
                    27.9487174,
                    -82.4574238,
                    27.949467
                  ]
                },
                {
                  "id": "(474972598, 97775158, 0)",
                  "type": "Feature",
                  "properties": {
                    "highway": "tertiary",
                    "lanes": "2",
                    "length": 88.689,
                    "maxspeed": null,
                    "name": "East Madison Street",
                    "oneway": false,
                    "osmid": 932449456,
                    "ref": null,
                    "style": {
                      "color": "black",
                      "fillColor": "black"
                    }
                  },
                  "geometry": {
                    "type": "LineString",
                    "coordinates": [
                      [
                        -82.4574238,
                        27.9487174
                      ],
                      [
                        -82.4573078,
                        27.9487587
                      ],
                      [
                        -82.456919,
                        27.948892
                      ],
                      [
                        -82.4566673,
                        27.9489783
                      ],
                      [
                        -82.4565827,
                        27.9490074
                      ]
                    ]
                  },
                  "bbox": [
                    -82.4574238,
                    27.9487174,
                    -82.4565827,
                    27.9490074
                  ]
                },
                {
                  "id": "(474972598, 975495315, 0)",
                  "type": "Feature",
                  "properties": {
                    "highway": "tertiary",
                    "lanes": "2",
                    "length": 85.702,
                    "maxspeed": null,
                    "name": "East Madison Street",
                    "oneway": false,
                    "osmid": 932449456,
                    "ref": null,
                    "style": {
                      "color": "black",
                      "fillColor": "black"
                    }
                  },
                  "geometry": {
                    "type": "LineString",
                    "coordinates": [
                      [
                        -82.4574238,
                        27.9487174
                      ],
                      [
                        -82.4575218,
                        27.9486836
                      ],
                      [
                        -82.457683,
                        27.948628
                      ],
                      [
                        -82.4581553,
                        27.9484652
                      ],
                      [
                        -82.4582366,
                        27.9484372
                      ]
                    ]
                  },
                  "bbox": [
                    -82.4582366,
                    27.9484372,
                    -82.4574238,
                    27.9487174
                  ]
                },
                {
                  "id": "(942206728, 97871014, 0)",
                  "type": "Feature",
                  "properties": {
                    "highway": "primary",
                    "lanes": "4",
                    "length": 88.11,
                    "maxspeed": "30 mph",
                    "name": "East Kennedy Boulevard",
                    "oneway": true,
                    "osmid": 645485053,
                    "ref": "US 41 Business;FL 60",
                    "style": {
                      "color": "black",
                      "fillColor": "black"
                    }
                  },
                  "geometry": {
                    "type": "LineString",
                    "coordinates": [
                      [
                        -82.4545754,
                        27.9488521
                      ],
                      [
                        -82.4546862,
                        27.9488135
                      ],
                      [
                        -82.4552984,
                        27.9486004
                      ],
                      [
                        -82.4554104,
                        27.9485626
                      ]
                    ]
                  },
                  "bbox": [
                    -82.4554104,
                    27.9485626,
                    -82.4545754,
                    27.9488521
                  ]
                },
                {
                  "id": "(975495315, 975495316, 0)",
                  "type": "Feature",
                  "properties": {
                    "highway": "tertiary",
                    "lanes": "2",
                    "length": 90.70299999999999,
                    "maxspeed": null,
                    "name": "East Madison Street",
                    "oneway": false,
                    "osmid": 10974153,
                    "ref": null,
                    "style": {
                      "color": "black",
                      "fillColor": "black"
                    }
                  },
                  "geometry": {
                    "type": "LineString",
                    "coordinates": [
                      [
                        -82.4582366,
                        27.9484372
                      ],
                      [
                        -82.4583631,
                        27.9483936
                      ],
                      [
                        -82.4589952,
                        27.9481755
                      ],
                      [
                        -82.4590968,
                        27.9481406
                      ]
                    ]
                  },
                  "bbox": [
                    -82.4590968,
                    27.9481406,
                    -82.4582366,
                    27.9484372
                  ]
                },
                {
                  "id": "(975495315, 97928972, 0)",
                  "type": "Feature",
                  "properties": {
                    "highway": "unclassified",
                    "lanes": "2",
                    "length": 91.49600000000001,
                    "maxspeed": null,
                    "name": "North Franklin Street",
                    "oneway": false,
                    "osmid": 203993896,
                    "ref": null,
                    "style": {
                      "color": "black",
                      "fillColor": "black"
                    }
                  },
                  "geometry": {
                    "type": "LineString",
                    "coordinates": [
                      [
                        -82.4582366,
                        27.9484372
                      ],
                      [
                        -82.4582772,
                        27.9485287
                      ],
                      [
                        -82.4583676,
                        27.9487325
                      ],
                      [
                        -82.4583808,
                        27.9487549
                      ],
                      [
                        -82.4583966,
                        27.9487773
                      ],
                      [
                        -82.4584318,
                        27.9488181
                      ],
                      [
                        -82.4584639,
                        27.9488534
                      ],
                      [
                        -82.4584889,
                        27.9488887
                      ],
                      [
                        -82.4585054,
                        27.948917
                      ],
                      [
                        -82.4585201,
                        27.9489467
                      ],
                      [
                        -82.4585645,
                        27.949054
                      ],
                      [
                        -82.4585839,
                        27.9490963
                      ],
                      [
                        -82.458618,
                        27.9491829
                      ]
                    ]
                  },
                  "bbox": [
                    -82.458618,
                    27.9484372,
                    -82.4582366,
                    27.9491829
                  ]
                },
                {
                  "id": "(975495315, 474972598, 0)",
                  "type": "Feature",
                  "properties": {
                    "highway": "tertiary",
                    "lanes": "2",
                    "length": 85.702,
                    "maxspeed": null,
                    "name": "East Madison Street",
                    "oneway": false,
                    "osmid": 932449456,
                    "ref": null,
                    "style": {
                      "color": "black",
                      "fillColor": "black"
                    }
                  },
                  "geometry": {
                    "type": "LineString",
                    "coordinates": [
                      [
                        -82.4582366,
                        27.9484372
                      ],
                      [
                        -82.4581553,
                        27.9484652
                      ],
                      [
                        -82.457683,
                        27.948628
                      ],
                      [
                        -82.4575218,
                        27.9486836
                      ],
                      [
                        -82.4574238,
                        27.9487174
                      ]
                    ]
                  },
                  "bbox": [
                    -82.4582366,
                    27.9484372,
                    -82.4574238,
                    27.9487174
                  ]
                },
                {
                  "id": "(975495315, 97871012, 0)",
                  "type": "Feature",
                  "properties": {
                    "highway": "unclassified",
                    "lanes": "2",
                    "length": 87.839,
                    "maxspeed": null,
                    "name": "North Franklin Street",
                    "oneway": false,
                    "osmid": 932449457,
                    "ref": null,
                    "style": {
                      "color": "black",
                      "fillColor": "black"
                    }
                  },
                  "geometry": {
                    "type": "LineString",
                    "coordinates": [
                      [
                        -82.4582366,
                        27.9484372
                      ],
                      [
                        -82.4582015,
                        27.9483577
                      ],
                      [
                        -82.4581241,
                        27.9481834
                      ],
                      [
                        -82.4581091,
                        27.9481464
                      ],
                      [
                        -82.4580971,
                        27.9481095
                      ],
                      [
                        -82.4580881,
                        27.9480707
                      ],
                      [
                        -82.4580826,
                        27.9480509
                      ],
                      [
                        -82.4580761,
                        27.9480311
                      ],
                      [
                        -82.4579917,
                        27.9478282
                      ],
                      [
                        -82.4579704,
                        27.9477827
                      ],
                      [
                        -82.4579291,
                        27.9476964
                      ]
                    ]
                  },
                  "bbox": [
                    -82.4582366,
                    27.9476964,
                    -82.4579291,
                    27.9484372
                  ]
                },
                {
                  "id": "(975495316, 975495315, 0)",
                  "type": "Feature",
                  "properties": {
                    "highway": "tertiary",
                    "lanes": "2",
                    "length": 90.70299999999999,
                    "maxspeed": null,
                    "name": "East Madison Street",
                    "oneway": false,
                    "osmid": 10974153,
                    "ref": null,
                    "style": {
                      "color": "black",
                      "fillColor": "black"
                    }
                  },
                  "geometry": {
                    "type": "LineString",
                    "coordinates": [
                      [
                        -82.4590968,
                        27.9481406
                      ],
                      [
                        -82.4589952,
                        27.9481755
                      ],
                      [
                        -82.4583631,
                        27.9483936
                      ],
                      [
                        -82.4582366,
                        27.9484372
                      ]
                    ]
                  },
                  "bbox": [
                    -82.4590968,
                    27.9481406,
                    -82.4582366,
                    27.9484372
                  ]
                },
                {
                  "id": "(975495316, 97871010, 0)",
                  "type": "Feature",
                  "properties": {
                    "highway": "primary",
                    "lanes": "3",
                    "length": 88.31800000000001,
                    "maxspeed": "30 mph",
                    "name": "North Tampa Street",
                    "oneway": true,
                    "osmid": 190333972,
                    "ref": "US 41 Business",
                    "style": {
                      "color": "black",
                      "fillColor": "black"
                    }
                  },
                  "geometry": {
                    "type": "LineString",
                    "coordinates": [
                      [
                        -82.4590968,
                        27.9481406
                      ],
                      [
                        -82.459055,
                        27.9480437
                      ],
                      [
                        -82.4588157,
                        27.947502
                      ],
                      [
                        -82.4587699,
                        27.9474007
                      ]
                    ]
                  },
                  "bbox": [
                    -82.4590968,
                    27.9474007,
                    -82.4587699,
                    27.9481406
                  ]
                },
                {
                  "id": "(1870060109, 1870060165, 0)",
                  "type": "Feature",
                  "properties": {
                    "highway": "residential",
                    "lanes": "2",
                    "length": 13.901,
                    "maxspeed": null,
                    "name": "North Marion Street",
                    "oneway": false,
                    "osmid": 10970142,
                    "ref": null,
                    "style": {
                      "color": "black",
                      "fillColor": "black"
                    }
                  },
                  "geometry": {
                    "type": "LineString",
                    "coordinates": [
                      [
                        -82.4575877,
                        27.9513109
                      ],
                      [
                        -82.4575607,
                        27.95125
                      ],
                      [
                        -82.4575361,
                        27.9511945
                      ]
                    ]
                  },
                  "bbox": [
                    -82.4575877,
                    27.9511945,
                    -82.4575361,
                    27.9513109
                  ]
                },
                {
                  "id": "(1870060109, 1870060232, 0)",
                  "type": "Feature",
                  "properties": {
                    "highway": "tertiary",
                    "lanes": "1",
                    "length": 88.00200000000001,
                    "maxspeed": null,
                    "name": "Polk Street",
                    "oneway": true,
                    "osmid": 176372706,
                    "ref": null,
                    "style": {
                      "color": "black",
                      "fillColor": "black"
                    }
                  },
                  "geometry": {
                    "type": "LineString",
                    "coordinates": [
                      [
                        -82.4575877,
                        27.9513109
                      ],
                      [
                        -82.4576852,
                        27.9512752
                      ],
                      [
                        -82.4583225,
                        27.9510399
                      ],
                      [
                        -82.4584148,
                        27.9510067
                      ]
                    ]
                  },
                  "bbox": [
                    -82.4584148,
                    27.9510067,
                    -82.4575877,
                    27.9513109
                  ]
                },
                {
                  "id": "(1870060119, 1870060232, 0)",
                  "type": "Feature",
                  "properties": {
                    "highway": "primary",
                    "lanes": "4",
                    "length": 12.204,
                    "maxspeed": "35 mph",
                    "name": "North Florida Avenue",
                    "oneway": true,
                    "osmid": 47222465,
                    "ref": "US 41 Business",
                    "style": {
                      "color": "black",
                      "fillColor": "black"
                    }
                  },
                  "geometry": {
                    "type": "LineString",
                    "coordinates": [
                      [
                        -82.458369,
                        27.9509047
                      ],
                      [
                        -82.4583964,
                        27.9509632
                      ],
                      [
                        -82.4584148,
                        27.9510067
                      ]
                    ]
                  },
                  "bbox": [
                    -82.4584148,
                    27.9509047,
                    -82.458369,
                    27.9510067
                  ]
                },
                {
                  "id": "(1870060119, 1870060165, 0)",
                  "type": "Feature",
                  "properties": {
                    "highway": "tertiary",
                    "lanes": null,
                    "length": 87.92899999999999,
                    "maxspeed": null,
                    "name": "Polk Street",
                    "oneway": true,
                    "osmid": 794700053,
                    "ref": null,
                    "style": {
                      "color": "black",
                      "fillColor": "black"
                    }
                  },
                  "geometry": {
                    "type": "LineString",
                    "coordinates": [
                      [
                        -82.458369,
                        27.9509047
                      ],
                      [
                        -82.4582745,
                        27.9509382
                      ],
                      [
                        -82.4576328,
                        27.9511608
                      ],
                      [
                        -82.4575361,
                        27.9511945
                      ]
                    ]
                  },
                  "bbox": [
                    -82.458369,
                    27.9509047,
                    -82.4575361,
                    27.9511945
                  ]
                },
                {
                  "id": "(1870060124, 97970376, 0)",
                  "type": "Feature",
                  "properties": {
                    "highway": "secondary",
                    "lanes": "4",
                    "length": 82.133,
                    "maxspeed": "unposted",
                    "name": "Pierce Street",
                    "oneway": true,
                    "osmid": 87659447,
                    "ref": null,
                    "style": {
                      "color": "black",
                      "fillColor": "black"
                    }
                  },
                  "geometry": {
                    "type": "LineString",
                    "coordinates": [
                      [
                        -82.4558526,
                        27.9517732
                      ],
                      [
                        -82.4558324,
                        27.9517233
                      ],
                      [
                        -82.4557976,
                        27.9516468
                      ],
                      [
                        -82.4555928,
                        27.9511759
                      ],
                      [
                        -82.4555525,
                        27.9510838
                      ]
                    ]
                  },
                  "bbox": [
                    -82.4558526,
                    27.9510838,
                    -82.4555525,
                    27.9517732
                  ]
                },
                {
                  "id": "(1870060124, 1870060205, 0)",
                  "type": "Feature",
                  "properties": {
                    "highway": "tertiary",
                    "lanes": null,
                    "length": 87.944,
                    "maxspeed": null,
                    "name": "Polk Street",
                    "oneway": true,
                    "osmid": 794700053,
                    "ref": null,
                    "style": {
                      "color": "black",
                      "fillColor": "black"
                    }
                  },
                  "geometry": {
                    "type": "LineString",
                    "coordinates": [
                      [
                        -82.4558526,
                        27.9517732
                      ],
                      [
                        -82.4557482,
                        27.9518093
                      ],
                      [
                        -82.4556466,
                        27.9518436
                      ],
                      [
                        -82.4553408,
                        27.9519479
                      ],
                      [
                        -82.4551136,
                        27.9520285
                      ],
                      [
                        -82.4550191,
                        27.952062
                      ]
                    ]
                  },
                  "bbox": [
                    -82.4558526,
                    27.9517732,
                    -82.4550191,
                    27.952062
                  ]
                },
                {
                  "id": "(1870060133, 1870060187, 0)",
                  "type": "Feature",
                  "properties": {
                    "highway": "tertiary",
                    "lanes": "1",
                    "length": 86.603,
                    "maxspeed": null,
                    "name": "Polk Street",
                    "oneway": true,
                    "osmid": 176372706,
                    "ref": null,
                    "style": {
                      "color": "black",
                      "fillColor": "black"
                    }
                  },
                  "geometry": {
                    "type": "LineString",
                    "coordinates": [
                      [
                        -82.4592888,
                        27.9507079
                      ],
                      [
                        -82.4593685,
                        27.950681
                      ],
                      [
                        -82.4600009,
                        27.9504676
                      ],
                      [
                        -82.4601125,
                        27.9504301
                      ]
                    ]
                  },
                  "bbox": [
                    -82.4601125,
                    27.9504301,
                    -82.4592888,
                    27.9507079
                  ]
                },
                {
                  "id": "(1870060133, 1870060195, 0)",
                  "type": "Feature",
                  "properties": {
                    "highway": "unclassified",
                    "lanes": "2",
                    "length": 11.207999999999998,
                    "maxspeed": null,
                    "name": "North Franklin Street",
                    "oneway": false,
                    "osmid": 203993896,
                    "ref": null,
                    "style": {
                      "color": "black",
                      "fillColor": "black"
                    }
                  },
                  "geometry": {
                    "type": "LineString",
                    "coordinates": [
                      [
                        -82.4592888,
                        27.9507079
                      ],
                      [
                        -82.4592709,
                        27.950664
                      ],
                      [
                        -82.4592474,
                        27.950614
                      ]
                    ]
                  },
                  "bbox": [
                    -82.4592888,
                    27.950614,
                    -82.4592474,
                    27.9507079
                  ]
                },
                {
                  "id": "(1870060165, 1870060109, 0)",
                  "type": "Feature",
                  "properties": {
                    "highway": "residential",
                    "lanes": "2",
                    "length": 13.901,
                    "maxspeed": null,
                    "name": "North Marion Street",
                    "oneway": false,
                    "osmid": 10970142,
                    "ref": null,
                    "style": {
                      "color": "black",
                      "fillColor": "black"
                    }
                  },
                  "geometry": {
                    "type": "LineString",
                    "coordinates": [
                      [
                        -82.4575361,
                        27.9511945
                      ],
                      [
                        -82.4575607,
                        27.95125
                      ],
                      [
                        -82.4575877,
                        27.9513109
                      ]
                    ]
                  },
                  "bbox": [
                    -82.4575877,
                    27.9511945,
                    -82.4575361,
                    27.9513109
                  ]
                },
                {
                  "id": "(1870060165, 97775165, 0)",
                  "type": "Feature",
                  "properties": {
                    "highway": "residential",
                    "lanes": "2",
                    "length": 81.691,
                    "maxspeed": null,
                    "name": "North Marion Street",
                    "oneway": false,
                    "osmid": 10970142,
                    "ref": null,
                    "style": {
                      "color": "black",
                      "fillColor": "black"
                    }
                  },
                  "geometry": {
                    "type": "LineString",
                    "coordinates": [
                      [
                        -82.4575361,
                        27.9511945
                      ],
                      [
                        -82.4575148,
                        27.9511461
                      ],
                      [
                        -82.457274,
                        27.950597
                      ],
                      [
                        -82.4572355,
                        27.9505095
                      ]
                    ]
                  },
                  "bbox": [
                    -82.4575361,
                    27.9505095,
                    -82.4572355,
                    27.9511945
                  ]
                },
                {
                  "id": "(1870060165, 1870060169, 0)",
                  "type": "Feature",
                  "properties": {
                    "highway": "tertiary",
                    "lanes": null,
                    "length": 88.07300000000001,
                    "maxspeed": null,
                    "name": "Polk Street",
                    "oneway": true,
                    "osmid": 794700053,
                    "ref": null,
                    "style": {
                      "color": "black",
                      "fillColor": "black"
                    }
                  },
                  "geometry": {
                    "type": "LineString",
                    "coordinates": [
                      [
                        -82.4575361,
                        27.9511945
                      ],
                      [
                        -82.4574457,
                        27.9512261
                      ],
                      [
                        -82.456806,
                        27.9514496
                      ],
                      [
                        -82.4567021,
                        27.9514854
                      ]
                    ]
                  },
                  "bbox": [
                    -82.4575361,
                    27.9511945,
                    -82.4567021,
                    27.9514854
                  ]
                },
                {
                  "id": "(1870060169, 97876153, 0)",
                  "type": "Feature",
                  "properties": {
                    "highway": "tertiary",
                    "lanes": "4",
                    "length": 82.20700000000001,
                    "maxspeed": null,
                    "name": "North Morgan Street",
                    "oneway": false,
                    "osmid": 168522075,
                    "ref": null,
                    "style": {
                      "color": "black",
                      "fillColor": "black"
                    }
                  },
                  "geometry": {
                    "type": "LineString",
                    "coordinates": [
                      [
                        -82.4567021,
                        27.9514854
                      ],
                      [
                        -82.4566788,
                        27.9514358
                      ],
                      [
                        -82.4564338,
                        27.9508886
                      ],
                      [
                        -82.4563932,
                        27.9507983
                      ]
                    ]
                  },
                  "bbox": [
                    -82.4567021,
                    27.9507983,
                    -82.4563932,
                    27.9514854
                  ]
                },
                {
                  "id": "(1870060169, 1870060202, 0)",
                  "type": "Feature",
                  "properties": {
                    "highway": "tertiary",
                    "lanes": "4",
                    "length": 13.899000000000001,
                    "maxspeed": null,
                    "name": "North Morgan Street",
                    "oneway": false,
                    "osmid": [
                      87659361,
                      168522075
                    ],
                    "ref": null,
                    "style": {
                      "color": "black",
                      "fillColor": "black"
                    }
                  },
                  "geometry": {
                    "type": "LineString",
                    "coordinates": [
                      [
                        -82.4567021,
                        27.9514854
                      ],
                      [
                        -82.4567267,
                        27.9515381
                      ],
                      [
                        -82.4567536,
                        27.9516018
                      ]
                    ]
                  },
                  "bbox": [
                    -82.4567536,
                    27.9514854,
                    -82.4567021,
                    27.9516018
                  ]
                },
                {
                  "id": "(1870060169, 1870060124, 0)",
                  "type": "Feature",
                  "properties": {
                    "highway": "tertiary",
                    "lanes": null,
                    "length": 89.36599999999999,
                    "maxspeed": null,
                    "name": "Polk Street",
                    "oneway": true,
                    "osmid": 794700053,
                    "ref": null,
                    "style": {
                      "color": "black",
                      "fillColor": "black"
                    }
                  },
                  "geometry": {
                    "type": "LineString",
                    "coordinates": [
                      [
                        -82.4567021,
                        27.9514854
                      ],
                      [
                        -82.4565897,
                        27.9515237
                      ],
                      [
                        -82.4562147,
                        27.9516505
                      ],
                      [
                        -82.4560882,
                        27.9516934
                      ],
                      [
                        -82.456076,
                        27.9516975
                      ],
                      [
                        -82.4559583,
                        27.9517374
                      ],
                      [
                        -82.4558526,
                        27.9517732
                      ]
                    ]
                  },
                  "bbox": [
                    -82.4567021,
                    27.9514854,
                    -82.4558526,
                    27.9517732
                  ]
                },
                {
                  "id": "(1870060182, 97925459, 0)",
                  "type": "Feature",
                  "properties": {
                    "highway": "primary",
                    "lanes": "3",
                    "length": 84.09299999999999,
                    "maxspeed": "30 mph",
                    "name": "North Tampa Street",
                    "oneway": true,
                    "osmid": 190333972,
                    "ref": "US 41 Business",
                    "style": {
                      "color": "black",
                      "fillColor": "black"
                    }
                  },
                  "geometry": {
                    "type": "LineString",
                    "coordinates": [
                      [
                        -82.4600751,
                        27.9503389
                      ],
                      [
                        -82.4600513,
                        27.9502867
                      ],
                      [
                        -82.4599088,
                        27.9499687
                      ],
                      [
                        -82.4598512,
                        27.949838
                      ],
                      [
                        -82.4598006,
                        27.949723
                      ],
                      [
                        -82.4597618,
                        27.9496351
                      ]
                    ]
                  },
                  "bbox": [
                    -82.4600751,
                    27.9496351,
                    -82.4597618,
                    27.9503389
                  ]
                },
                {
                  "id": "(1870060182, 1870060195, 0)",
                  "type": "Feature",
                  "properties": {
                    "highway": "tertiary",
                    "lanes": null,
                    "length": 86.866,
                    "maxspeed": null,
                    "name": "Polk Street",
                    "oneway": true,
                    "osmid": 794700053,
                    "ref": null,
                    "style": {
                      "color": "black",
                      "fillColor": "black"
                    }
                  },
                  "geometry": {
                    "type": "LineString",
                    "coordinates": [
                      [
                        -82.4600751,
                        27.9503389
                      ],
                      [
                        -82.4599616,
                        27.9503766
                      ],
                      [
                        -82.4596037,
                        27.9504955
                      ],
                      [
                        -82.4593268,
                        27.9505874
                      ],
                      [
                        -82.4592474,
                        27.950614
                      ]
                    ]
                  },
                  "bbox": [
                    -82.4600751,
                    27.9503389,
                    -82.4592474,
                    27.950614
                  ]
                },
                {
                  "id": "(1870060187, 1870060182, 0)",
                  "type": "Feature",
                  "properties": {
                    "highway": "primary",
                    "lanes": "3",
                    "length": 10.786999999999999,
                    "maxspeed": "30 mph",
                    "name": "North Tampa Street",
                    "oneway": true,
                    "osmid": 190333972,
                    "ref": "US 41 Business",
                    "style": {
                      "color": "black",
                      "fillColor": "black"
                    }
                  },
                  "geometry": {
                    "type": "LineString",
                    "coordinates": [
                      [
                        -82.4601125,
                        27.9504301
                      ],
                      [
                        -82.460094,
                        27.950383
                      ],
                      [
                        -82.4600751,
                        27.9503389
                      ]
                    ]
                  },
                  "bbox": [
                    -82.4601125,
                    27.9503389,
                    -82.4600751,
                    27.9504301
                  ]
                },
                {
                  "id": "(1870060195, 97964888, 0)",
                  "type": "Feature",
                  "properties": {
                    "highway": "unclassified",
                    "lanes": "2",
                    "length": 83.183,
                    "maxspeed": null,
                    "name": "North Franklin Street",
                    "oneway": false,
                    "osmid": 203993896,
                    "ref": null,
                    "style": {
                      "color": "black",
                      "fillColor": "black"
                    }
                  },
                  "geometry": {
                    "type": "LineString",
                    "coordinates": [
                      [
                        -82.4592474,
                        27.950614
                      ],
                      [
                        -82.4592266,
                        27.9505643
                      ],
                      [
                        -82.4591723,
                        27.9504504
                      ],
                      [
                        -82.459146,
                        27.950389
                      ],
                      [
                        -82.4591262,
                        27.9503574
                      ],
                      [
                        -82.4591034,
                        27.9503276
                      ],
                      [
                        -82.4590795,
                        27.9503014
                      ],
                      [
                        -82.4590496,
                        27.9502725
                      ],
                      [
                        -82.4590268,
                        27.9502419
                      ],
                      [
                        -82.4590101,
                        27.9502103
                      ],
                      [
                        -82.4589191,
                        27.9499995
                      ],
                      [
                        -82.4588911,
                        27.9499406
                      ]
                    ]
                  },
                  "bbox": [
                    -82.4592474,
                    27.9499406,
                    -82.4588911,
                    27.950614
                  ]
                },
                {
                  "id": "(1870060195, 1870060133, 0)",
                  "type": "Feature",
                  "properties": {
                    "highway": "unclassified",
                    "lanes": "2",
                    "length": 11.207999999999998,
                    "maxspeed": null,
                    "name": "North Franklin Street",
                    "oneway": false,
                    "osmid": 203993896,
                    "ref": null,
                    "style": {
                      "color": "black",
                      "fillColor": "black"
                    }
                  },
                  "geometry": {
                    "type": "LineString",
                    "coordinates": [
                      [
                        -82.4592474,
                        27.950614
                      ],
                      [
                        -82.4592709,
                        27.950664
                      ],
                      [
                        -82.4592888,
                        27.9507079
                      ]
                    ]
                  },
                  "bbox": [
                    -82.4592888,
                    27.950614,
                    -82.4592474,
                    27.9507079
                  ]
                },
                {
                  "id": "(1870060195, 1870060119, 0)",
                  "type": "Feature",
                  "properties": {
                    "highway": "tertiary",
                    "lanes": null,
                    "length": 92.136,
                    "maxspeed": null,
                    "name": "Polk Street",
                    "oneway": true,
                    "osmid": 794700053,
                    "ref": null,
                    "style": {
                      "color": "black",
                      "fillColor": "black"
                    }
                  },
                  "geometry": {
                    "type": "LineString",
                    "coordinates": [
                      [
                        -82.4592474,
                        27.950614
                      ],
                      [
                        -82.4591109,
                        27.9506586
                      ],
                      [
                        -82.4584987,
                        27.950862
                      ],
                      [
                        -82.4584846,
                        27.9508667
                      ],
                      [
                        -82.458369,
                        27.9509047
                      ]
                    ]
                  },
                  "bbox": [
                    -82.4592474,
                    27.950614,
                    -82.458369,
                    27.9509047
                  ]
                },
                {
                  "id": "(1870060202, 1870060169, 0)",
                  "type": "Feature",
                  "properties": {
                    "highway": "tertiary",
                    "lanes": "4",
                    "length": 13.899000000000001,
                    "maxspeed": null,
                    "name": "North Morgan Street",
                    "oneway": false,
                    "osmid": [
                      87659361,
                      168522075
                    ],
                    "ref": null,
                    "style": {
                      "color": "black",
                      "fillColor": "black"
                    }
                  },
                  "geometry": {
                    "type": "LineString",
                    "coordinates": [
                      [
                        -82.4567536,
                        27.9516018
                      ],
                      [
                        -82.4567267,
                        27.9515381
                      ],
                      [
                        -82.4567021,
                        27.9514854
                      ]
                    ]
                  },
                  "bbox": [
                    -82.4567536,
                    27.9514854,
                    -82.4567021,
                    27.9516018
                  ]
                },
                {
                  "id": "(1870060202, 1870060109, 0)",
                  "type": "Feature",
                  "properties": {
                    "highway": "tertiary",
                    "lanes": "1",
                    "length": 88.084,
                    "maxspeed": null,
                    "name": "Polk Street",
                    "oneway": true,
                    "osmid": 176372706,
                    "ref": null,
                    "style": {
                      "color": "black",
                      "fillColor": "black"
                    }
                  },
                  "geometry": {
                    "type": "LineString",
                    "coordinates": [
                      [
                        -82.4567536,
                        27.9516018
                      ],
                      [
                        -82.4568626,
                        27.9515631
                      ],
                      [
                        -82.4569843,
                        27.9515208
                      ],
                      [
                        -82.4571724,
                        27.9514554
                      ],
                      [
                        -82.4575007,
                        27.9513412
                      ],
                      [
                        -82.4575877,
                        27.9513109
                      ]
                    ]
                  },
                  "bbox": [
                    -82.4575877,
                    27.9513109,
                    -82.4567536,
                    27.9516018
                  ]
                },
                {
                  "id": "(1870060205, 97927142, 0)",
                  "type": "Feature",
                  "properties": {
                    "highway": "secondary",
                    "lanes": "4",
                    "length": 84.015,
                    "maxspeed": "30 mph",
                    "name": "North Jefferson Street",
                    "oneway": false,
                    "osmid": 117012652,
                    "ref": null,
                    "style": {
                      "color": "black",
                      "fillColor": "black"
                    }
                  },
                  "geometry": {
                    "type": "LineString",
                    "coordinates": [
                      [
                        -82.4550191,
                        27.952062
                      ],
                      [
                        -82.4549705,
                        27.9519521
                      ],
                      [
                        -82.4549634,
                        27.951936
                      ],
                      [
                        -82.4548623,
                        27.9517075
                      ],
                      [
                        -82.4547478,
                        27.9514488
                      ],
                      [
                        -82.4547077,
                        27.9513583
                      ]
                    ]
                  },
                  "bbox": [
                    -82.4550191,
                    27.9513583,
                    -82.4547077,
                    27.952062
                  ]
                },
                {
                  "id": "(1870060205, 320166852, 0)",
                  "type": "Feature",
                  "properties": {
                    "highway": "secondary",
                    "lanes": "4",
                    "length": 12.161999999999999,
                    "maxspeed": "30 mph",
                    "name": "North Jefferson Street",
                    "oneway": true,
                    "osmid": 778560397,
                    "ref": null,
                    "style": {
                      "color": "black",
                      "fillColor": "black"
                    }
                  },
                  "geometry": {
                    "type": "LineString",
                    "coordinates": [
                      [
                        -82.4550191,
                        27.952062
                      ],
                      [
                        -82.4550436,
                        27.9521179
                      ],
                      [
                        -82.4550641,
                        27.9521639
                      ]
                    ]
                  },
                  "bbox": [
                    -82.4550641,
                    27.952062,
                    -82.4550191,
                    27.9521639
                  ]
                },
                {
                  "id": "(1870060232, 1870060133, 0)",
                  "type": "Feature",
                  "properties": {
                    "highway": "tertiary",
                    "lanes": "1",
                    "length": 92.05499999999999,
                    "maxspeed": null,
                    "name": "Polk Street",
                    "oneway": true,
                    "osmid": 176372706,
                    "ref": null,
                    "style": {
                      "color": "black",
                      "fillColor": "black"
                    }
                  },
                  "geometry": {
                    "type": "LineString",
                    "coordinates": [
                      [
                        -82.4584148,
                        27.9510067
                      ],
                      [
                        -82.4585298,
                        27.9509677
                      ],
                      [
                        -82.4591559,
                        27.9507556
                      ],
                      [
                        -82.4592888,
                        27.9507079
                      ]
                    ]
                  },
                  "bbox": [
                    -82.4592888,
                    27.9507079,
                    -82.4584148,
                    27.9510067
                  ]
                },
                {
                  "id": "(1993753395, 97928978, 0)",
                  "type": "Feature",
                  "properties": {
                    "highway": "residential",
                    "lanes": null,
                    "length": 172.22900000000004,
                    "maxspeed": null,
                    "name": "East Street",
                    "oneway": false,
                    "osmid": 25886894,
                    "ref": null,
                    "style": {
                      "color": "black",
                      "fillColor": "black"
                    }
                  },
                  "geometry": {
                    "type": "LineString",
                    "coordinates": [
                      [
                        -82.4528486,
                        27.9494924
                      ],
                      [
                        -82.4528703,
                        27.9495405
                      ],
                      [
                        -82.453004,
                        27.9498427
                      ],
                      [
                        -82.4530571,
                        27.9499623
                      ],
                      [
                        -82.4531017,
                        27.9500629
                      ],
                      [
                        -82.4532102,
                        27.9503075
                      ],
                      [
                        -82.4532555,
                        27.9504096
                      ],
                      [
                        -82.4532935,
                        27.9504951
                      ],
                      [
                        -82.4534498,
                        27.9508475
                      ],
                      [
                        -82.4534884,
                        27.9509345
                      ]
                    ]
                  },
                  "bbox": [
                    -82.4534884,
                    27.9494924,
                    -82.4528486,
                    27.9509345
                  ]
                },
                {
                  "id": "(1993753395, 1993753422, 0)",
                  "type": "Feature",
                  "properties": {
                    "highway": "primary_link",
                    "lanes": "2",
                    "length": 17.576,
                    "maxspeed": null,
                    "name": null,
                    "oneway": true,
                    "osmid": 203993931,
                    "ref": null,
                    "style": {
                      "color": "black",
                      "fillColor": "black"
                    }
                  },
                  "geometry": {
                    "type": "LineString",
                    "coordinates": [
                      [
                        -82.4528486,
                        27.9494924
                      ],
                      [
                        -82.452903,
                        27.9494719
                      ],
                      [
                        -82.4529909,
                        27.9494
                      ]
                    ]
                  },
                  "bbox": [
                    -82.4529909,
                    27.9494,
                    -82.4528486,
                    27.9494924
                  ]
                },
                {
                  "id": "(1993753421, 1993753422, 0)",
                  "type": "Feature",
                  "properties": {
                    "highway": "primary",
                    "lanes": "3",
                    "length": 11.415,
                    "maxspeed": "30 mph",
                    "name": "East Kennedy Boulevard",
                    "oneway": true,
                    "osmid": 188754665,
                    "ref": "US 41 Business;FL 60",
                    "style": {
                      "color": "black",
                      "fillColor": "black"
                    }
                  },
                  "geometry": {
                    "type": "LineString",
                    "coordinates": [
                      [
                        -82.4528747,
                        27.9493983
                      ],
                      [
                        -82.4529909,
                        27.9494
                      ]
                    ]
                  },
                  "bbox": [
                    -82.4529909,
                    27.9493983,
                    -82.4528747,
                    27.9494
                  ]
                },
                {
                  "id": "(1993753422, 97871017, 0)",
                  "type": "Feature",
                  "properties": {
                    "highway": "primary",
                    "lanes": "5",
                    "length": 77.888,
                    "maxspeed": "30 mph",
                    "name": "East Kennedy Boulevard",
                    "oneway": true,
                    "osmid": 203993849,
                    "ref": "US 41 Business;FL 60",
                    "style": {
                      "color": "black",
                      "fillColor": "black"
                    }
                  },
                  "geometry": {
                    "type": "LineString",
                    "coordinates": [
                      [
                        -82.4529909,
                        27.9494
                      ],
                      [
                        -82.4530873,
                        27.9493664
                      ],
                      [
                        -82.4536247,
                        27.9491793
                      ],
                      [
                        -82.4537286,
                        27.9491431
                      ]
                    ]
                  },
                  "bbox": [
                    -82.4537286,
                    27.9491431,
                    -82.4529909,
                    27.9494
                  ]
                }
              ],
              "bbox": [
                -82.4601125,
                27.9474007,
                -82.4520812,
                27.9521639
              ]
            },
            "hover_style": {
              "weight": 4,
              "fillOpacity": 0.5
            },
            "layers": [],
            "name": "edges",
            "options": [],
            "point_style": {},
            "popup": null,
            "popup_max_height": null,
            "popup_max_width": 300,
            "popup_min_width": 50,
            "style": {
              "color": "black",
              "weight": 3
            }
          }
        },
        "ed2c723cdafb423aad6a093042a86b4e": {
          "model_module": "@jupyter-widgets/base",
          "model_name": "LayoutModel",
          "model_module_version": "1.2.0",
          "state": {
            "_model_module": "@jupyter-widgets/base",
            "_model_module_version": "1.2.0",
            "_model_name": "LayoutModel",
            "_view_count": null,
            "_view_module": "@jupyter-widgets/base",
            "_view_module_version": "1.2.0",
            "_view_name": "LayoutView",
            "align_content": null,
            "align_items": null,
            "align_self": null,
            "border": null,
            "bottom": null,
            "display": null,
            "flex": null,
            "flex_flow": null,
            "grid_area": null,
            "grid_auto_columns": null,
            "grid_auto_flow": null,
            "grid_auto_rows": null,
            "grid_column": null,
            "grid_gap": null,
            "grid_row": null,
            "grid_template_areas": null,
            "grid_template_columns": null,
            "grid_template_rows": null,
            "height": "800px",
            "justify_content": null,
            "justify_items": null,
            "left": null,
            "margin": null,
            "max_height": null,
            "max_width": null,
            "min_height": null,
            "min_width": null,
            "object_fit": null,
            "object_position": null,
            "order": null,
            "overflow": null,
            "overflow_x": null,
            "overflow_y": null,
            "padding": null,
            "right": null,
            "top": null,
            "visibility": null,
            "width": "1000px"
          }
        },
        "fce7ab659bbd478ea028b5833d1fcea3": {
          "model_module": "jupyter-leaflet",
          "model_name": "LeafletMapStyleModel",
          "model_module_version": "^0.16.0",
          "state": {
            "_model_module": "jupyter-leaflet",
            "_model_module_version": "^0.16.0",
            "_model_name": "LeafletMapStyleModel",
            "_view_count": null,
            "_view_module": "@jupyter-widgets/base",
            "_view_module_version": "1.2.0",
            "_view_name": "StyleView",
            "cursor": "grab"
          }
        },
        "04fa93c2831a4bd0b75088896ba040cd": {
          "model_module": "@jupyter-widgets/output",
          "model_name": "OutputModel",
          "model_module_version": "1.0.0",
          "state": {
            "_dom_classes": [],
            "_model_module": "@jupyter-widgets/output",
            "_model_module_version": "1.0.0",
            "_model_name": "OutputModel",
            "_view_count": null,
            "_view_module": "@jupyter-widgets/output",
            "_view_module_version": "1.0.0",
            "_view_name": "OutputView",
            "layout": "IPY_MODEL_2fa303ba9fe74b06be5363c09891affb",
            "msg_id": "",
            "outputs": []
          }
        },
        "36751fa393884336abd1450ea2a09959": {
          "model_module": "@jupyter-widgets/controls",
          "model_name": "VBoxModel",
          "model_module_version": "1.5.0",
          "state": {
            "_dom_classes": [],
            "_model_module": "@jupyter-widgets/controls",
            "_model_module_version": "1.5.0",
            "_model_name": "VBoxModel",
            "_view_count": null,
            "_view_module": "@jupyter-widgets/controls",
            "_view_module_version": "1.5.0",
            "_view_name": "VBoxView",
            "box_style": "",
            "children": [
              "IPY_MODEL_71f76aec82ae43b38fb9e4d0376d8eb8"
            ],
            "layout": "IPY_MODEL_af9d01e6eae94c0886d4f42ed88e19e3"
          }
        },
        "777fd21ab01143538c926ed2536bebf6": {
          "model_module": "@jupyter-widgets/controls",
          "model_name": "VBoxModel",
          "model_module_version": "1.5.0",
          "state": {
            "_dom_classes": [],
            "_model_module": "@jupyter-widgets/controls",
            "_model_module_version": "1.5.0",
            "_model_name": "VBoxModel",
            "_view_count": null,
            "_view_module": "@jupyter-widgets/controls",
            "_view_module_version": "1.5.0",
            "_view_name": "VBoxView",
            "box_style": "",
            "children": [
              "IPY_MODEL_753604ab454541b291eb75eb80a8337f",
              "IPY_MODEL_f36480344fd84015be25be2bbf1ca4b0"
            ],
            "layout": "IPY_MODEL_71bc07d299e84c1999c15f671db8d0b0"
          }
        },
        "5fc7cd9dce1f4518bb94ef901861eba3": {
          "model_module": "jupyter-leaflet",
          "model_name": "LeafletMarkerModel",
          "model_module_version": "^0.16.0",
          "state": {
            "_model_module": "jupyter-leaflet",
            "_model_module_version": "^0.16.0",
            "_model_name": "LeafletMarkerModel",
            "_view_count": null,
            "_view_module": "jupyter-leaflet",
            "_view_module_version": "^0.16.0",
            "_view_name": "LeafletMarkerView",
            "alt": "",
            "base": false,
            "bottom": false,
            "draggable": false,
            "icon": null,
            "keyboard": true,
            "location": [
              27.94853,
              -82.45863
            ],
            "name": "",
            "opacity": 1,
            "options": [
              "alt",
              "draggable",
              "keyboard",
              "rise_offset",
              "rise_on_hover",
              "rotation_angle",
              "rotation_origin",
              "title",
              "z_index_offset"
            ],
            "popup": "IPY_MODEL_41a2d90a9e9549ee85c90601e3212b0d",
            "popup_max_height": null,
            "popup_max_width": 300,
            "popup_min_width": 50,
            "rise_offset": 250,
            "rise_on_hover": false,
            "rotation_angle": 0,
            "rotation_origin": "",
            "title": "",
            "visible": true,
            "z_index_offset": 0
          }
        },
        "4eea7ae6a2e54666920c82fb53aac54d": {
          "model_module": "jupyter-leaflet",
          "model_name": "LeafletMarkerModel",
          "model_module_version": "^0.16.0",
          "state": {
            "_model_module": "jupyter-leaflet",
            "_model_module_version": "^0.16.0",
            "_model_name": "LeafletMarkerModel",
            "_view_count": null,
            "_view_module": "jupyter-leaflet",
            "_view_module_version": "^0.16.0",
            "_view_name": "LeafletMarkerView",
            "alt": "",
            "base": false,
            "bottom": false,
            "draggable": false,
            "icon": null,
            "keyboard": true,
            "location": [
              27.95102,
              -82.45413
            ],
            "name": "",
            "opacity": 1,
            "options": [
              "alt",
              "draggable",
              "keyboard",
              "rise_offset",
              "rise_on_hover",
              "rotation_angle",
              "rotation_origin",
              "title",
              "z_index_offset"
            ],
            "popup": "IPY_MODEL_5da64d3cbce848288653330f4d5c6391",
            "popup_max_height": null,
            "popup_max_width": 300,
            "popup_min_width": 50,
            "rise_offset": 250,
            "rise_on_hover": false,
            "rotation_angle": 0,
            "rotation_origin": "",
            "title": "",
            "visible": true,
            "z_index_offset": 0
          }
        },
        "6548bfc2c2db4765855455949350ed26": {
          "model_module": "jupyter-leaflet",
          "model_name": "LeafletMarkerModel",
          "model_module_version": "^0.16.0",
          "state": {
            "_model_module": "jupyter-leaflet",
            "_model_module_version": "^0.16.0",
            "_model_name": "LeafletMarkerModel",
            "_view_count": null,
            "_view_module": "jupyter-leaflet",
            "_view_module_version": "^0.16.0",
            "_view_name": "LeafletMarkerView",
            "alt": "",
            "base": false,
            "bottom": false,
            "draggable": false,
            "icon": null,
            "keyboard": true,
            "location": [
              27.9482623,
              -82.4562493
            ],
            "name": "",
            "opacity": 1,
            "options": [
              "alt",
              "draggable",
              "keyboard",
              "rise_offset",
              "rise_on_hover",
              "rotation_angle",
              "rotation_origin",
              "title",
              "z_index_offset"
            ],
            "popup": "IPY_MODEL_54c700e22e7443a89d7c7b8b478b64a7",
            "popup_max_height": null,
            "popup_max_width": 300,
            "popup_min_width": 50,
            "rise_offset": 250,
            "rise_on_hover": false,
            "rotation_angle": 0,
            "rotation_origin": "",
            "title": "",
            "visible": true,
            "z_index_offset": 0
          }
        },
        "6b9698f63b0e4d3b98669c8fd12daa4f": {
          "model_module": "jupyter-leaflet",
          "model_name": "LeafletMarkerModel",
          "model_module_version": "^0.16.0",
          "state": {
            "_model_module": "jupyter-leaflet",
            "_model_module_version": "^0.16.0",
            "_model_name": "LeafletMarkerModel",
            "_view_count": null,
            "_view_module": "jupyter-leaflet",
            "_view_module_version": "^0.16.0",
            "_view_name": "LeafletMarkerView",
            "alt": "",
            "base": false,
            "bottom": false,
            "draggable": false,
            "icon": null,
            "keyboard": true,
            "location": [
              27.9490074,
              -82.4565827
            ],
            "name": "",
            "opacity": 1,
            "options": [
              "alt",
              "draggable",
              "keyboard",
              "rise_offset",
              "rise_on_hover",
              "rotation_angle",
              "rotation_origin",
              "title",
              "z_index_offset"
            ],
            "popup": "IPY_MODEL_ba58e3fdfe8341b1bdbca97f0c26b00f",
            "popup_max_height": null,
            "popup_max_width": 300,
            "popup_min_width": 50,
            "rise_offset": 250,
            "rise_on_hover": false,
            "rotation_angle": 0,
            "rotation_origin": "",
            "title": "",
            "visible": true,
            "z_index_offset": 0
          }
        },
        "2d63edf7fab942558c6558ef0a17e960": {
          "model_module": "jupyter-leaflet",
          "model_name": "LeafletMarkerModel",
          "model_module_version": "^0.16.0",
          "state": {
            "_model_module": "jupyter-leaflet",
            "_model_module_version": "^0.16.0",
            "_model_name": "LeafletMarkerModel",
            "_view_count": null,
            "_view_module": "jupyter-leaflet",
            "_view_module_version": "^0.16.0",
            "_view_name": "LeafletMarkerView",
            "alt": "",
            "base": false,
            "bottom": false,
            "draggable": false,
            "icon": null,
            "keyboard": true,
            "location": [
              27.949759,
              -82.456904
            ],
            "name": "",
            "opacity": 1,
            "options": [
              "alt",
              "draggable",
              "keyboard",
              "rise_offset",
              "rise_on_hover",
              "rotation_angle",
              "rotation_origin",
              "title",
              "z_index_offset"
            ],
            "popup": "IPY_MODEL_bc7bae32c54042418c9e7041ac21aab3",
            "popup_max_height": null,
            "popup_max_width": 300,
            "popup_min_width": 50,
            "rise_offset": 250,
            "rise_on_hover": false,
            "rotation_angle": 0,
            "rotation_origin": "",
            "title": "",
            "visible": true,
            "z_index_offset": 0
          }
        },
        "048f6d21deed4fb897c4372f5ff8f2b4": {
          "model_module": "jupyter-leaflet",
          "model_name": "LeafletMarkerModel",
          "model_module_version": "^0.16.0",
          "state": {
            "_model_module": "jupyter-leaflet",
            "_model_module_version": "^0.16.0",
            "_model_name": "LeafletMarkerModel",
            "_view_count": null,
            "_view_module": "jupyter-leaflet",
            "_view_module_version": "^0.16.0",
            "_view_name": "LeafletMarkerView",
            "alt": "",
            "base": false,
            "bottom": false,
            "draggable": false,
            "icon": null,
            "keyboard": true,
            "location": [
              27.9505095,
              -82.4572355
            ],
            "name": "",
            "opacity": 1,
            "options": [
              "alt",
              "draggable",
              "keyboard",
              "rise_offset",
              "rise_on_hover",
              "rotation_angle",
              "rotation_origin",
              "title",
              "z_index_offset"
            ],
            "popup": "IPY_MODEL_53a162119c4e4bcb84e7569786aa9b08",
            "popup_max_height": null,
            "popup_max_width": 300,
            "popup_min_width": 50,
            "rise_offset": 250,
            "rise_on_hover": false,
            "rotation_angle": 0,
            "rotation_origin": "",
            "title": "",
            "visible": true,
            "z_index_offset": 0
          }
        },
        "ecc56dbe44ad420492d2b5efaab93aeb": {
          "model_module": "jupyter-leaflet",
          "model_name": "LeafletMarkerModel",
          "model_module_version": "^0.16.0",
          "state": {
            "_model_module": "jupyter-leaflet",
            "_model_module_version": "^0.16.0",
            "_model_name": "LeafletMarkerModel",
            "_view_count": null,
            "_view_module": "jupyter-leaflet",
            "_view_module_version": "^0.16.0",
            "_view_name": "LeafletMarkerView",
            "alt": "",
            "base": false,
            "bottom": false,
            "draggable": false,
            "icon": null,
            "keyboard": true,
            "location": [
              27.9492989,
              -82.4557374
            ],
            "name": "",
            "opacity": 1,
            "options": [
              "alt",
              "draggable",
              "keyboard",
              "rise_offset",
              "rise_on_hover",
              "rotation_angle",
              "rotation_origin",
              "title",
              "z_index_offset"
            ],
            "popup": "IPY_MODEL_00d17904f49c49698f0ecbf7b97d8256",
            "popup_max_height": null,
            "popup_max_width": 300,
            "popup_min_width": 50,
            "rise_offset": 250,
            "rise_on_hover": false,
            "rotation_angle": 0,
            "rotation_origin": "",
            "title": "",
            "visible": true,
            "z_index_offset": 0
          }
        },
        "b3cdd9a4164d4af28afff5c889900a0f": {
          "model_module": "jupyter-leaflet",
          "model_name": "LeafletMarkerModel",
          "model_module_version": "^0.16.0",
          "state": {
            "_model_module": "jupyter-leaflet",
            "_model_module_version": "^0.16.0",
            "_model_name": "LeafletMarkerModel",
            "_view_count": null,
            "_view_module": "jupyter-leaflet",
            "_view_module_version": "^0.16.0",
            "_view_name": "LeafletMarkerView",
            "alt": "",
            "base": false,
            "bottom": false,
            "draggable": false,
            "icon": null,
            "keyboard": true,
            "location": [
              27.949589,
              -82.454896
            ],
            "name": "",
            "opacity": 1,
            "options": [
              "alt",
              "draggable",
              "keyboard",
              "rise_offset",
              "rise_on_hover",
              "rotation_angle",
              "rotation_origin",
              "title",
              "z_index_offset"
            ],
            "popup": "IPY_MODEL_ffede06992684790b3b3e4a6d2a76f9a",
            "popup_max_height": null,
            "popup_max_width": 300,
            "popup_min_width": 50,
            "rise_offset": 250,
            "rise_on_hover": false,
            "rotation_angle": 0,
            "rotation_origin": "",
            "title": "",
            "visible": true,
            "z_index_offset": 0
          }
        },
        "bc8eed8eea5b43eda419f0139ee258cf": {
          "model_module": "jupyter-leaflet",
          "model_name": "LeafletMarkerModel",
          "model_module_version": "^0.16.0",
          "state": {
            "_model_module": "jupyter-leaflet",
            "_model_module_version": "^0.16.0",
            "_model_name": "LeafletMarkerModel",
            "_view_count": null,
            "_view_module": "jupyter-leaflet",
            "_view_module_version": "^0.16.0",
            "_view_name": "LeafletMarkerView",
            "alt": "",
            "base": false,
            "bottom": false,
            "draggable": false,
            "icon": null,
            "keyboard": true,
            "location": [
              27.9474007,
              -82.4587699
            ],
            "name": "",
            "opacity": 1,
            "options": [
              "alt",
              "draggable",
              "keyboard",
              "rise_offset",
              "rise_on_hover",
              "rotation_angle",
              "rotation_origin",
              "title",
              "z_index_offset"
            ],
            "popup": "IPY_MODEL_b164564d64f04483ab473a33b0115fae",
            "popup_max_height": null,
            "popup_max_width": 300,
            "popup_min_width": 50,
            "rise_offset": 250,
            "rise_on_hover": false,
            "rotation_angle": 0,
            "rotation_origin": "",
            "title": "",
            "visible": true,
            "z_index_offset": 0
          }
        },
        "9b8316067dd1433a996dd15ebcf2efa6": {
          "model_module": "jupyter-leaflet",
          "model_name": "LeafletMarkerModel",
          "model_module_version": "^0.16.0",
          "state": {
            "_model_module": "jupyter-leaflet",
            "_model_module_version": "^0.16.0",
            "_model_name": "LeafletMarkerModel",
            "_view_count": null,
            "_view_module": "jupyter-leaflet",
            "_view_module_version": "^0.16.0",
            "_view_name": "LeafletMarkerView",
            "alt": "",
            "base": false,
            "bottom": false,
            "draggable": false,
            "icon": null,
            "keyboard": true,
            "location": [
              27.9476964,
              -82.4579291
            ],
            "name": "",
            "opacity": 1,
            "options": [
              "alt",
              "draggable",
              "keyboard",
              "rise_offset",
              "rise_on_hover",
              "rotation_angle",
              "rotation_origin",
              "title",
              "z_index_offset"
            ],
            "popup": "IPY_MODEL_b4791f20463d4b13a91e401610ce2a71",
            "popup_max_height": null,
            "popup_max_width": 300,
            "popup_min_width": 50,
            "rise_offset": 250,
            "rise_on_hover": false,
            "rotation_angle": 0,
            "rotation_origin": "",
            "title": "",
            "visible": true,
            "z_index_offset": 0
          }
        },
        "2b9b7e2e9bc7448287c9a35bc9ccd2d6": {
          "model_module": "jupyter-leaflet",
          "model_name": "LeafletMarkerModel",
          "model_module_version": "^0.16.0",
          "state": {
            "_model_module": "jupyter-leaflet",
            "_model_module_version": "^0.16.0",
            "_model_name": "LeafletMarkerModel",
            "_view_count": null,
            "_view_module": "jupyter-leaflet",
            "_view_module_version": "^0.16.0",
            "_view_name": "LeafletMarkerView",
            "alt": "",
            "base": false,
            "bottom": false,
            "draggable": false,
            "icon": null,
            "keyboard": true,
            "location": [
              27.9479739,
              -82.4570982
            ],
            "name": "",
            "opacity": 1,
            "options": [
              "alt",
              "draggable",
              "keyboard",
              "rise_offset",
              "rise_on_hover",
              "rotation_angle",
              "rotation_origin",
              "title",
              "z_index_offset"
            ],
            "popup": "IPY_MODEL_e61afeba5e0a45258282b1073dca11a5",
            "popup_max_height": null,
            "popup_max_width": 300,
            "popup_min_width": 50,
            "rise_offset": 250,
            "rise_on_hover": false,
            "rotation_angle": 0,
            "rotation_origin": "",
            "title": "",
            "visible": true,
            "z_index_offset": 0
          }
        },
        "b003fcce80f64feda33a564ff1c7df55": {
          "model_module": "jupyter-leaflet",
          "model_name": "LeafletMarkerModel",
          "model_module_version": "^0.16.0",
          "state": {
            "_model_module": "jupyter-leaflet",
            "_model_module_version": "^0.16.0",
            "_model_name": "LeafletMarkerModel",
            "_view_count": null,
            "_view_module": "jupyter-leaflet",
            "_view_module_version": "^0.16.0",
            "_view_name": "LeafletMarkerView",
            "alt": "",
            "base": false,
            "bottom": false,
            "draggable": false,
            "icon": null,
            "keyboard": true,
            "location": [
              27.9485626,
              -82.4554104
            ],
            "name": "",
            "opacity": 1,
            "options": [
              "alt",
              "draggable",
              "keyboard",
              "rise_offset",
              "rise_on_hover",
              "rotation_angle",
              "rotation_origin",
              "title",
              "z_index_offset"
            ],
            "popup": "IPY_MODEL_40505fcfde734dae8d424764b4858329",
            "popup_max_height": null,
            "popup_max_width": 300,
            "popup_min_width": 50,
            "rise_offset": 250,
            "rise_on_hover": false,
            "rotation_angle": 0,
            "rotation_origin": "",
            "title": "",
            "visible": true,
            "z_index_offset": 0
          }
        },
        "a115bf8f855a41318ad72472f1fa4347": {
          "model_module": "jupyter-leaflet",
          "model_name": "LeafletMarkerModel",
          "model_module_version": "^0.16.0",
          "state": {
            "_model_module": "jupyter-leaflet",
            "_model_module_version": "^0.16.0",
            "_model_name": "LeafletMarkerModel",
            "_view_count": null,
            "_view_module": "jupyter-leaflet",
            "_view_module_version": "^0.16.0",
            "_view_name": "LeafletMarkerView",
            "alt": "",
            "base": false,
            "bottom": false,
            "draggable": false,
            "icon": null,
            "keyboard": true,
            "location": [
              27.9491431,
              -82.4537286
            ],
            "name": "",
            "opacity": 1,
            "options": [
              "alt",
              "draggable",
              "keyboard",
              "rise_offset",
              "rise_on_hover",
              "rotation_angle",
              "rotation_origin",
              "title",
              "z_index_offset"
            ],
            "popup": "IPY_MODEL_4939549b828e4e5ebaec2514ae30b3ca",
            "popup_max_height": null,
            "popup_max_width": 300,
            "popup_min_width": 50,
            "rise_offset": 250,
            "rise_on_hover": false,
            "rotation_angle": 0,
            "rotation_origin": "",
            "title": "",
            "visible": true,
            "z_index_offset": 0
          }
        },
        "45c4c562cbfe4bb0a49091c7dff26668": {
          "model_module": "jupyter-leaflet",
          "model_name": "LeafletMarkerModel",
          "model_module_version": "^0.16.0",
          "state": {
            "_model_module": "jupyter-leaflet",
            "_model_module_version": "^0.16.0",
            "_model_name": "LeafletMarkerModel",
            "_view_count": null,
            "_view_module": "jupyter-leaflet",
            "_view_module_version": "^0.16.0",
            "_view_name": "LeafletMarkerView",
            "alt": "",
            "base": false,
            "bottom": false,
            "draggable": false,
            "icon": null,
            "keyboard": true,
            "location": [
              27.9496714,
              -82.4520812
            ],
            "name": "",
            "opacity": 1,
            "options": [
              "alt",
              "draggable",
              "keyboard",
              "rise_offset",
              "rise_on_hover",
              "rotation_angle",
              "rotation_origin",
              "title",
              "z_index_offset"
            ],
            "popup": "IPY_MODEL_179ba777f9d7405a93daf7eda2caa979",
            "popup_max_height": null,
            "popup_max_width": 300,
            "popup_min_width": 50,
            "rise_offset": 250,
            "rise_on_hover": false,
            "rotation_angle": 0,
            "rotation_origin": "",
            "title": "",
            "visible": true,
            "z_index_offset": 0
          }
        },
        "04846254731340628ec8b32b5a623069": {
          "model_module": "jupyter-leaflet",
          "model_name": "LeafletMarkerModel",
          "model_module_version": "^0.16.0",
          "state": {
            "_model_module": "jupyter-leaflet",
            "_model_module_version": "^0.16.0",
            "_model_name": "LeafletMarkerModel",
            "_view_count": null,
            "_view_module": "jupyter-leaflet",
            "_view_module_version": "^0.16.0",
            "_view_name": "LeafletMarkerView",
            "alt": "",
            "base": false,
            "bottom": false,
            "draggable": false,
            "icon": null,
            "keyboard": true,
            "location": [
              27.950046,
              -82.456066
            ],
            "name": "",
            "opacity": 1,
            "options": [
              "alt",
              "draggable",
              "keyboard",
              "rise_offset",
              "rise_on_hover",
              "rotation_angle",
              "rotation_origin",
              "title",
              "z_index_offset"
            ],
            "popup": "IPY_MODEL_51088bce40194bd7b0178aeb23030c6b",
            "popup_max_height": null,
            "popup_max_width": 300,
            "popup_min_width": 50,
            "rise_offset": 250,
            "rise_on_hover": false,
            "rotation_angle": 0,
            "rotation_origin": "",
            "title": "",
            "visible": true,
            "z_index_offset": 0
          }
        },
        "3a052a1cdba64146a42394b4d771b091": {
          "model_module": "jupyter-leaflet",
          "model_name": "LeafletMarkerModel",
          "model_module_version": "^0.16.0",
          "state": {
            "_model_module": "jupyter-leaflet",
            "_model_module_version": "^0.16.0",
            "_model_name": "LeafletMarkerModel",
            "_view_count": null,
            "_view_module": "jupyter-leaflet",
            "_view_module_version": "^0.16.0",
            "_view_name": "LeafletMarkerView",
            "alt": "",
            "base": false,
            "bottom": false,
            "draggable": false,
            "icon": null,
            "keyboard": true,
            "location": [
              27.9507983,
              -82.4563932
            ],
            "name": "",
            "opacity": 1,
            "options": [
              "alt",
              "draggable",
              "keyboard",
              "rise_offset",
              "rise_on_hover",
              "rotation_angle",
              "rotation_origin",
              "title",
              "z_index_offset"
            ],
            "popup": "IPY_MODEL_a6993bc76957442f91e590c6f6cfb7ce",
            "popup_max_height": null,
            "popup_max_width": 300,
            "popup_min_width": 50,
            "rise_offset": 250,
            "rise_on_hover": false,
            "rotation_angle": 0,
            "rotation_origin": "",
            "title": "",
            "visible": true,
            "z_index_offset": 0
          }
        },
        "1e16cff99dc84bc7ba8a146dca9fb965": {
          "model_module": "jupyter-leaflet",
          "model_name": "LeafletMarkerModel",
          "model_module_version": "^0.16.0",
          "state": {
            "_model_module": "jupyter-leaflet",
            "_model_module_version": "^0.16.0",
            "_model_name": "LeafletMarkerModel",
            "_view_count": null,
            "_view_module": "jupyter-leaflet",
            "_view_module_version": "^0.16.0",
            "_view_name": "LeafletMarkerView",
            "alt": "",
            "base": false,
            "bottom": false,
            "draggable": false,
            "icon": null,
            "keyboard": true,
            "location": [
              27.94889,
              -82.459428
            ],
            "name": "",
            "opacity": 1,
            "options": [
              "alt",
              "draggable",
              "keyboard",
              "rise_offset",
              "rise_on_hover",
              "rotation_angle",
              "rotation_origin",
              "title",
              "z_index_offset"
            ],
            "popup": "IPY_MODEL_f78fea4f1717439c9f37b51fd68d7df0",
            "popup_max_height": null,
            "popup_max_width": 300,
            "popup_min_width": 50,
            "rise_offset": 250,
            "rise_on_hover": false,
            "rotation_angle": 0,
            "rotation_origin": "",
            "title": "",
            "visible": true,
            "z_index_offset": 0
          }
        },
        "80354aee31884694918c4bd1951e4726": {
          "model_module": "jupyter-leaflet",
          "model_name": "LeafletMarkerModel",
          "model_module_version": "^0.16.0",
          "state": {
            "_model_module": "jupyter-leaflet",
            "_model_module_version": "^0.16.0",
            "_model_name": "LeafletMarkerModel",
            "_view_count": null,
            "_view_module": "jupyter-leaflet",
            "_view_module_version": "^0.16.0",
            "_view_name": "LeafletMarkerView",
            "alt": "",
            "base": false,
            "bottom": false,
            "draggable": false,
            "icon": null,
            "keyboard": true,
            "location": [
              27.9496351,
              -82.4597618
            ],
            "name": "",
            "opacity": 1,
            "options": [
              "alt",
              "draggable",
              "keyboard",
              "rise_offset",
              "rise_on_hover",
              "rotation_angle",
              "rotation_origin",
              "title",
              "z_index_offset"
            ],
            "popup": "IPY_MODEL_2b259c48dfb64fa4b5ccd61ba2764dd9",
            "popup_max_height": null,
            "popup_max_width": 300,
            "popup_min_width": 50,
            "rise_offset": 250,
            "rise_on_hover": false,
            "rotation_angle": 0,
            "rotation_origin": "",
            "title": "",
            "visible": true,
            "z_index_offset": 0
          }
        },
        "c617ee639fa44289b76a35597ff6bdec": {
          "model_module": "jupyter-leaflet",
          "model_name": "LeafletMarkerModel",
          "model_module_version": "^0.16.0",
          "state": {
            "_model_module": "jupyter-leaflet",
            "_model_module_version": "^0.16.0",
            "_model_name": "LeafletMarkerModel",
            "_view_count": null,
            "_view_module": "jupyter-leaflet",
            "_view_module_version": "^0.16.0",
            "_view_name": "LeafletMarkerView",
            "alt": "",
            "base": false,
            "bottom": false,
            "draggable": false,
            "icon": null,
            "keyboard": true,
            "location": [
              27.9506251,
              -82.4543834
            ],
            "name": "",
            "opacity": 1,
            "options": [
              "alt",
              "draggable",
              "keyboard",
              "rise_offset",
              "rise_on_hover",
              "rotation_angle",
              "rotation_origin",
              "title",
              "z_index_offset"
            ],
            "popup": "IPY_MODEL_7e895a01240c4d3b97b9c4daa2e62c5f",
            "popup_max_height": null,
            "popup_max_width": 300,
            "popup_min_width": 50,
            "rise_offset": 250,
            "rise_on_hover": false,
            "rotation_angle": 0,
            "rotation_origin": "",
            "title": "",
            "visible": true,
            "z_index_offset": 0
          }
        },
        "1d573bea12f9427b8cfb645b6834f39f": {
          "model_module": "jupyter-leaflet",
          "model_name": "LeafletMarkerModel",
          "model_module_version": "^0.16.0",
          "state": {
            "_model_module": "jupyter-leaflet",
            "_model_module_version": "^0.16.0",
            "_model_name": "LeafletMarkerModel",
            "_view_count": null,
            "_view_module": "jupyter-leaflet",
            "_view_module_version": "^0.16.0",
            "_view_name": "LeafletMarkerView",
            "alt": "",
            "base": false,
            "bottom": false,
            "draggable": false,
            "icon": null,
            "keyboard": true,
            "location": [
              27.9513583,
              -82.4547077
            ],
            "name": "",
            "opacity": 1,
            "options": [
              "alt",
              "draggable",
              "keyboard",
              "rise_offset",
              "rise_on_hover",
              "rotation_angle",
              "rotation_origin",
              "title",
              "z_index_offset"
            ],
            "popup": "IPY_MODEL_598cf5007efe4757ad76d0040e293e59",
            "popup_max_height": null,
            "popup_max_width": 300,
            "popup_min_width": 50,
            "rise_offset": 250,
            "rise_on_hover": false,
            "rotation_angle": 0,
            "rotation_origin": "",
            "title": "",
            "visible": true,
            "z_index_offset": 0
          }
        },
        "11df8800e29442cc9979e414efb5e393": {
          "model_module": "jupyter-leaflet",
          "model_name": "LeafletMarkerModel",
          "model_module_version": "^0.16.0",
          "state": {
            "_model_module": "jupyter-leaflet",
            "_model_module_version": "^0.16.0",
            "_model_name": "LeafletMarkerModel",
            "_view_count": null,
            "_view_module": "jupyter-leaflet",
            "_view_module_version": "^0.16.0",
            "_view_name": "LeafletMarkerView",
            "alt": "",
            "base": false,
            "bottom": false,
            "draggable": false,
            "icon": null,
            "keyboard": true,
            "location": [
              27.9491829,
              -82.458618
            ],
            "name": "",
            "opacity": 1,
            "options": [
              "alt",
              "draggable",
              "keyboard",
              "rise_offset",
              "rise_on_hover",
              "rotation_angle",
              "rotation_origin",
              "title",
              "z_index_offset"
            ],
            "popup": "IPY_MODEL_c1fb18f9906f48129111646776dfad4a",
            "popup_max_height": null,
            "popup_max_width": 300,
            "popup_min_width": 50,
            "rise_offset": 250,
            "rise_on_hover": false,
            "rotation_angle": 0,
            "rotation_origin": "",
            "title": "",
            "visible": true,
            "z_index_offset": 0
          }
        },
        "249bd19d70b34882a659501409f3b189": {
          "model_module": "jupyter-leaflet",
          "model_name": "LeafletMarkerModel",
          "model_module_version": "^0.16.0",
          "state": {
            "_model_module": "jupyter-leaflet",
            "_model_module_version": "^0.16.0",
            "_model_name": "LeafletMarkerModel",
            "_view_count": null,
            "_view_module": "jupyter-leaflet",
            "_view_module_version": "^0.16.0",
            "_view_name": "LeafletMarkerView",
            "alt": "",
            "base": false,
            "bottom": false,
            "draggable": false,
            "icon": null,
            "keyboard": true,
            "location": [
              27.949467,
              -82.457742
            ],
            "name": "",
            "opacity": 1,
            "options": [
              "alt",
              "draggable",
              "keyboard",
              "rise_offset",
              "rise_on_hover",
              "rotation_angle",
              "rotation_origin",
              "title",
              "z_index_offset"
            ],
            "popup": "IPY_MODEL_7bab605d162d4bf9909ee0407d57aa88",
            "popup_max_height": null,
            "popup_max_width": 300,
            "popup_min_width": 50,
            "rise_offset": 250,
            "rise_on_hover": false,
            "rotation_angle": 0,
            "rotation_origin": "",
            "title": "",
            "visible": true,
            "z_index_offset": 0
          }
        },
        "dc39d8aaf1ed457aa047616280f8d42a": {
          "model_module": "jupyter-leaflet",
          "model_name": "LeafletMarkerModel",
          "model_module_version": "^0.16.0",
          "state": {
            "_model_module": "jupyter-leaflet",
            "_model_module_version": "^0.16.0",
            "_model_name": "LeafletMarkerModel",
            "_view_count": null,
            "_view_module": "jupyter-leaflet",
            "_view_module_version": "^0.16.0",
            "_view_name": "LeafletMarkerView",
            "alt": "",
            "base": false,
            "bottom": false,
            "draggable": false,
            "icon": null,
            "keyboard": true,
            "location": [
              27.950334,
              -82.455224
            ],
            "name": "",
            "opacity": 1,
            "options": [
              "alt",
              "draggable",
              "keyboard",
              "rise_offset",
              "rise_on_hover",
              "rotation_angle",
              "rotation_origin",
              "title",
              "z_index_offset"
            ],
            "popup": "IPY_MODEL_42e2a98412f74b769d6dc6a13e0db44e",
            "popup_max_height": null,
            "popup_max_width": 300,
            "popup_min_width": 50,
            "rise_offset": 250,
            "rise_on_hover": false,
            "rotation_angle": 0,
            "rotation_origin": "",
            "title": "",
            "visible": true,
            "z_index_offset": 0
          }
        },
        "3f2865561fe94c2e9df2b7ddf73f8a79": {
          "model_module": "jupyter-leaflet",
          "model_name": "LeafletMarkerModel",
          "model_module_version": "^0.16.0",
          "state": {
            "_model_module": "jupyter-leaflet",
            "_model_module_version": "^0.16.0",
            "_model_name": "LeafletMarkerModel",
            "_view_count": null,
            "_view_module": "jupyter-leaflet",
            "_view_module_version": "^0.16.0",
            "_view_name": "LeafletMarkerView",
            "alt": "",
            "base": false,
            "bottom": false,
            "draggable": false,
            "icon": null,
            "keyboard": true,
            "location": [
              27.9509345,
              -82.4534884
            ],
            "name": "",
            "opacity": 1,
            "options": [
              "alt",
              "draggable",
              "keyboard",
              "rise_offset",
              "rise_on_hover",
              "rotation_angle",
              "rotation_origin",
              "title",
              "z_index_offset"
            ],
            "popup": "IPY_MODEL_d75ef09dcb7c495db9be5ec2621670b1",
            "popup_max_height": null,
            "popup_max_width": 300,
            "popup_min_width": 50,
            "rise_offset": 250,
            "rise_on_hover": false,
            "rotation_angle": 0,
            "rotation_origin": "",
            "title": "",
            "visible": true,
            "z_index_offset": 0
          }
        },
        "04387dcf149d4a49bd4dbbb0d9243ad7": {
          "model_module": "jupyter-leaflet",
          "model_name": "LeafletMarkerModel",
          "model_module_version": "^0.16.0",
          "state": {
            "_model_module": "jupyter-leaflet",
            "_model_module_version": "^0.16.0",
            "_model_name": "LeafletMarkerModel",
            "_view_count": null,
            "_view_module": "jupyter-leaflet",
            "_view_module_version": "^0.16.0",
            "_view_name": "LeafletMarkerView",
            "alt": "",
            "base": false,
            "bottom": false,
            "draggable": false,
            "icon": null,
            "keyboard": true,
            "location": [
              27.9502261,
              -82.4580774
            ],
            "name": "",
            "opacity": 1,
            "options": [
              "alt",
              "draggable",
              "keyboard",
              "rise_offset",
              "rise_on_hover",
              "rotation_angle",
              "rotation_origin",
              "title",
              "z_index_offset"
            ],
            "popup": "IPY_MODEL_d66f7a93cc344230bf32ac6e7eb33ad1",
            "popup_max_height": null,
            "popup_max_width": 300,
            "popup_min_width": 50,
            "rise_offset": 250,
            "rise_on_hover": false,
            "rotation_angle": 0,
            "rotation_origin": "",
            "title": "",
            "visible": true,
            "z_index_offset": 0
          }
        },
        "4309cf91dcda4a7089ca681aafeb4fa7": {
          "model_module": "jupyter-leaflet",
          "model_name": "LeafletMarkerModel",
          "model_module_version": "^0.16.0",
          "state": {
            "_model_module": "jupyter-leaflet",
            "_model_module_version": "^0.16.0",
            "_model_name": "LeafletMarkerModel",
            "_view_count": null,
            "_view_module": "jupyter-leaflet",
            "_view_module_version": "^0.16.0",
            "_view_name": "LeafletMarkerView",
            "alt": "",
            "base": false,
            "bottom": false,
            "draggable": false,
            "icon": null,
            "keyboard": true,
            "location": [
              27.9499406,
              -82.4588911
            ],
            "name": "",
            "opacity": 1,
            "options": [
              "alt",
              "draggable",
              "keyboard",
              "rise_offset",
              "rise_on_hover",
              "rotation_angle",
              "rotation_origin",
              "title",
              "z_index_offset"
            ],
            "popup": "IPY_MODEL_041f96315328483c9e0903fa97ab8136",
            "popup_max_height": null,
            "popup_max_width": 300,
            "popup_min_width": 50,
            "rise_offset": 250,
            "rise_on_hover": false,
            "rotation_angle": 0,
            "rotation_origin": "",
            "title": "",
            "visible": true,
            "z_index_offset": 0
          }
        },
        "552e6ac3657f4d869cf3f6969240b757": {
          "model_module": "jupyter-leaflet",
          "model_name": "LeafletMarkerModel",
          "model_module_version": "^0.16.0",
          "state": {
            "_model_module": "jupyter-leaflet",
            "_model_module_version": "^0.16.0",
            "_model_name": "LeafletMarkerModel",
            "_view_count": null,
            "_view_module": "jupyter-leaflet",
            "_view_module_version": "^0.16.0",
            "_view_name": "LeafletMarkerView",
            "alt": "",
            "base": false,
            "bottom": false,
            "draggable": false,
            "icon": null,
            "keyboard": true,
            "location": [
              27.9510838,
              -82.4555525
            ],
            "name": "",
            "opacity": 1,
            "options": [
              "alt",
              "draggable",
              "keyboard",
              "rise_offset",
              "rise_on_hover",
              "rotation_angle",
              "rotation_origin",
              "title",
              "z_index_offset"
            ],
            "popup": "IPY_MODEL_56c43393b8004a998bdd7d1edb4c4249",
            "popup_max_height": null,
            "popup_max_width": 300,
            "popup_min_width": 50,
            "rise_offset": 250,
            "rise_on_hover": false,
            "rotation_angle": 0,
            "rotation_origin": "",
            "title": "",
            "visible": true,
            "z_index_offset": 0
          }
        },
        "4fc9e38b02a64c4e92ebeac922a1fb71": {
          "model_module": "jupyter-leaflet",
          "model_name": "LeafletMarkerModel",
          "model_module_version": "^0.16.0",
          "state": {
            "_model_module": "jupyter-leaflet",
            "_model_module_version": "^0.16.0",
            "_model_name": "LeafletMarkerModel",
            "_view_count": null,
            "_view_module": "jupyter-leaflet",
            "_view_module_version": "^0.16.0",
            "_view_name": "LeafletMarkerView",
            "alt": "",
            "base": false,
            "bottom": false,
            "draggable": false,
            "icon": null,
            "keyboard": true,
            "location": [
              27.9521639,
              -82.4550641
            ],
            "name": "",
            "opacity": 1,
            "options": [
              "alt",
              "draggable",
              "keyboard",
              "rise_offset",
              "rise_on_hover",
              "rotation_angle",
              "rotation_origin",
              "title",
              "z_index_offset"
            ],
            "popup": "IPY_MODEL_3b55f173b74b4483ae2a208f1f13734d",
            "popup_max_height": null,
            "popup_max_width": 300,
            "popup_min_width": 50,
            "rise_offset": 250,
            "rise_on_hover": false,
            "rotation_angle": 0,
            "rotation_origin": "",
            "title": "",
            "visible": true,
            "z_index_offset": 0
          }
        },
        "36d749f85ded4afe86b9f75640874784": {
          "model_module": "jupyter-leaflet",
          "model_name": "LeafletMarkerModel",
          "model_module_version": "^0.16.0",
          "state": {
            "_model_module": "jupyter-leaflet",
            "_model_module_version": "^0.16.0",
            "_model_name": "LeafletMarkerModel",
            "_view_count": null,
            "_view_module": "jupyter-leaflet",
            "_view_module_version": "^0.16.0",
            "_view_name": "LeafletMarkerView",
            "alt": "",
            "base": false,
            "bottom": false,
            "draggable": false,
            "icon": null,
            "keyboard": true,
            "location": [
              27.9518851,
              -82.4559013
            ],
            "name": "",
            "opacity": 1,
            "options": [
              "alt",
              "draggable",
              "keyboard",
              "rise_offset",
              "rise_on_hover",
              "rotation_angle",
              "rotation_origin",
              "title",
              "z_index_offset"
            ],
            "popup": "IPY_MODEL_24fea7dd359a46138d620a4fceacbd3d",
            "popup_max_height": null,
            "popup_max_width": 300,
            "popup_min_width": 50,
            "rise_offset": 250,
            "rise_on_hover": false,
            "rotation_angle": 0,
            "rotation_origin": "",
            "title": "",
            "visible": true,
            "z_index_offset": 0
          }
        },
        "501dd40548a8485c9ae28ef82d4e6bf8": {
          "model_module": "jupyter-leaflet",
          "model_name": "LeafletMarkerModel",
          "model_module_version": "^0.16.0",
          "state": {
            "_model_module": "jupyter-leaflet",
            "_model_module_version": "^0.16.0",
            "_model_name": "LeafletMarkerModel",
            "_view_count": null,
            "_view_module": "jupyter-leaflet",
            "_view_module_version": "^0.16.0",
            "_view_name": "LeafletMarkerView",
            "alt": "",
            "base": false,
            "bottom": false,
            "draggable": false,
            "icon": null,
            "keyboard": true,
            "location": [
              27.9487174,
              -82.4574238
            ],
            "name": "",
            "opacity": 1,
            "options": [
              "alt",
              "draggable",
              "keyboard",
              "rise_offset",
              "rise_on_hover",
              "rotation_angle",
              "rotation_origin",
              "title",
              "z_index_offset"
            ],
            "popup": "IPY_MODEL_889661a781bc479a841723428a01582e",
            "popup_max_height": null,
            "popup_max_width": 300,
            "popup_min_width": 50,
            "rise_offset": 250,
            "rise_on_hover": false,
            "rotation_angle": 0,
            "rotation_origin": "",
            "title": "",
            "visible": true,
            "z_index_offset": 0
          }
        },
        "f5b13a75ec734197abd1285e3f490d96": {
          "model_module": "jupyter-leaflet",
          "model_name": "LeafletMarkerModel",
          "model_module_version": "^0.16.0",
          "state": {
            "_model_module": "jupyter-leaflet",
            "_model_module_version": "^0.16.0",
            "_model_name": "LeafletMarkerModel",
            "_view_count": null,
            "_view_module": "jupyter-leaflet",
            "_view_module_version": "^0.16.0",
            "_view_name": "LeafletMarkerView",
            "alt": "",
            "base": false,
            "bottom": false,
            "draggable": false,
            "icon": null,
            "keyboard": true,
            "location": [
              27.9488521,
              -82.4545754
            ],
            "name": "",
            "opacity": 1,
            "options": [
              "alt",
              "draggable",
              "keyboard",
              "rise_offset",
              "rise_on_hover",
              "rotation_angle",
              "rotation_origin",
              "title",
              "z_index_offset"
            ],
            "popup": "IPY_MODEL_f6c85475be0b43a9876758c350719731",
            "popup_max_height": null,
            "popup_max_width": 300,
            "popup_min_width": 50,
            "rise_offset": 250,
            "rise_on_hover": false,
            "rotation_angle": 0,
            "rotation_origin": "",
            "title": "",
            "visible": true,
            "z_index_offset": 0
          }
        },
        "c59e800f6b624220b2a93f977292e701": {
          "model_module": "jupyter-leaflet",
          "model_name": "LeafletMarkerModel",
          "model_module_version": "^0.16.0",
          "state": {
            "_model_module": "jupyter-leaflet",
            "_model_module_version": "^0.16.0",
            "_model_name": "LeafletMarkerModel",
            "_view_count": null,
            "_view_module": "jupyter-leaflet",
            "_view_module_version": "^0.16.0",
            "_view_name": "LeafletMarkerView",
            "alt": "",
            "base": false,
            "bottom": false,
            "draggable": false,
            "icon": null,
            "keyboard": true,
            "location": [
              27.9484372,
              -82.4582366
            ],
            "name": "",
            "opacity": 1,
            "options": [
              "alt",
              "draggable",
              "keyboard",
              "rise_offset",
              "rise_on_hover",
              "rotation_angle",
              "rotation_origin",
              "title",
              "z_index_offset"
            ],
            "popup": "IPY_MODEL_b470249c7a7545e6904883eb6a4e3011",
            "popup_max_height": null,
            "popup_max_width": 300,
            "popup_min_width": 50,
            "rise_offset": 250,
            "rise_on_hover": false,
            "rotation_angle": 0,
            "rotation_origin": "",
            "title": "",
            "visible": true,
            "z_index_offset": 0
          }
        },
        "ac97139620e349f4a31d6db3160c68da": {
          "model_module": "jupyter-leaflet",
          "model_name": "LeafletMarkerModel",
          "model_module_version": "^0.16.0",
          "state": {
            "_model_module": "jupyter-leaflet",
            "_model_module_version": "^0.16.0",
            "_model_name": "LeafletMarkerModel",
            "_view_count": null,
            "_view_module": "jupyter-leaflet",
            "_view_module_version": "^0.16.0",
            "_view_name": "LeafletMarkerView",
            "alt": "",
            "base": false,
            "bottom": false,
            "draggable": false,
            "icon": null,
            "keyboard": true,
            "location": [
              27.9481406,
              -82.4590968
            ],
            "name": "",
            "opacity": 1,
            "options": [
              "alt",
              "draggable",
              "keyboard",
              "rise_offset",
              "rise_on_hover",
              "rotation_angle",
              "rotation_origin",
              "title",
              "z_index_offset"
            ],
            "popup": "IPY_MODEL_964a44bba3214cd0888fa9a0b4642a33",
            "popup_max_height": null,
            "popup_max_width": 300,
            "popup_min_width": 50,
            "rise_offset": 250,
            "rise_on_hover": false,
            "rotation_angle": 0,
            "rotation_origin": "",
            "title": "",
            "visible": true,
            "z_index_offset": 0
          }
        },
        "3c8d054354da4e8c851560516c8312af": {
          "model_module": "jupyter-leaflet",
          "model_name": "LeafletMarkerModel",
          "model_module_version": "^0.16.0",
          "state": {
            "_model_module": "jupyter-leaflet",
            "_model_module_version": "^0.16.0",
            "_model_name": "LeafletMarkerModel",
            "_view_count": null,
            "_view_module": "jupyter-leaflet",
            "_view_module_version": "^0.16.0",
            "_view_name": "LeafletMarkerView",
            "alt": "",
            "base": false,
            "bottom": false,
            "draggable": false,
            "icon": null,
            "keyboard": true,
            "location": [
              27.9513109,
              -82.4575877
            ],
            "name": "",
            "opacity": 1,
            "options": [
              "alt",
              "draggable",
              "keyboard",
              "rise_offset",
              "rise_on_hover",
              "rotation_angle",
              "rotation_origin",
              "title",
              "z_index_offset"
            ],
            "popup": "IPY_MODEL_de3b5d32d8dc46e0862332115bf471e1",
            "popup_max_height": null,
            "popup_max_width": 300,
            "popup_min_width": 50,
            "rise_offset": 250,
            "rise_on_hover": false,
            "rotation_angle": 0,
            "rotation_origin": "",
            "title": "",
            "visible": true,
            "z_index_offset": 0
          }
        },
        "d2f4f8ecda1c44ed911d22d2c46072ab": {
          "model_module": "jupyter-leaflet",
          "model_name": "LeafletMarkerModel",
          "model_module_version": "^0.16.0",
          "state": {
            "_model_module": "jupyter-leaflet",
            "_model_module_version": "^0.16.0",
            "_model_name": "LeafletMarkerModel",
            "_view_count": null,
            "_view_module": "jupyter-leaflet",
            "_view_module_version": "^0.16.0",
            "_view_name": "LeafletMarkerView",
            "alt": "",
            "base": false,
            "bottom": false,
            "draggable": false,
            "icon": null,
            "keyboard": true,
            "location": [
              27.9509047,
              -82.458369
            ],
            "name": "",
            "opacity": 1,
            "options": [
              "alt",
              "draggable",
              "keyboard",
              "rise_offset",
              "rise_on_hover",
              "rotation_angle",
              "rotation_origin",
              "title",
              "z_index_offset"
            ],
            "popup": "IPY_MODEL_ead5643d1e3d4a5eb0ae337902eb4817",
            "popup_max_height": null,
            "popup_max_width": 300,
            "popup_min_width": 50,
            "rise_offset": 250,
            "rise_on_hover": false,
            "rotation_angle": 0,
            "rotation_origin": "",
            "title": "",
            "visible": true,
            "z_index_offset": 0
          }
        },
        "839347449c1e4fdfa65ce7d75ebaa72f": {
          "model_module": "jupyter-leaflet",
          "model_name": "LeafletMarkerModel",
          "model_module_version": "^0.16.0",
          "state": {
            "_model_module": "jupyter-leaflet",
            "_model_module_version": "^0.16.0",
            "_model_name": "LeafletMarkerModel",
            "_view_count": null,
            "_view_module": "jupyter-leaflet",
            "_view_module_version": "^0.16.0",
            "_view_name": "LeafletMarkerView",
            "alt": "",
            "base": false,
            "bottom": false,
            "draggable": false,
            "icon": null,
            "keyboard": true,
            "location": [
              27.9517732,
              -82.4558526
            ],
            "name": "",
            "opacity": 1,
            "options": [
              "alt",
              "draggable",
              "keyboard",
              "rise_offset",
              "rise_on_hover",
              "rotation_angle",
              "rotation_origin",
              "title",
              "z_index_offset"
            ],
            "popup": "IPY_MODEL_56ec2c0e47cd4828b6dd61decf6ebe0c",
            "popup_max_height": null,
            "popup_max_width": 300,
            "popup_min_width": 50,
            "rise_offset": 250,
            "rise_on_hover": false,
            "rotation_angle": 0,
            "rotation_origin": "",
            "title": "",
            "visible": true,
            "z_index_offset": 0
          }
        },
        "a42aaea488ae4654a9b8f36f0ce18b7d": {
          "model_module": "jupyter-leaflet",
          "model_name": "LeafletMarkerModel",
          "model_module_version": "^0.16.0",
          "state": {
            "_model_module": "jupyter-leaflet",
            "_model_module_version": "^0.16.0",
            "_model_name": "LeafletMarkerModel",
            "_view_count": null,
            "_view_module": "jupyter-leaflet",
            "_view_module_version": "^0.16.0",
            "_view_name": "LeafletMarkerView",
            "alt": "",
            "base": false,
            "bottom": false,
            "draggable": false,
            "icon": null,
            "keyboard": true,
            "location": [
              27.9507079,
              -82.4592888
            ],
            "name": "",
            "opacity": 1,
            "options": [
              "alt",
              "draggable",
              "keyboard",
              "rise_offset",
              "rise_on_hover",
              "rotation_angle",
              "rotation_origin",
              "title",
              "z_index_offset"
            ],
            "popup": "IPY_MODEL_d74e682f7a1543faa7c0bc2deb0a2342",
            "popup_max_height": null,
            "popup_max_width": 300,
            "popup_min_width": 50,
            "rise_offset": 250,
            "rise_on_hover": false,
            "rotation_angle": 0,
            "rotation_origin": "",
            "title": "",
            "visible": true,
            "z_index_offset": 0
          }
        },
        "8ed248d7f504424ba33a2e89529c9d8e": {
          "model_module": "jupyter-leaflet",
          "model_name": "LeafletMarkerModel",
          "model_module_version": "^0.16.0",
          "state": {
            "_model_module": "jupyter-leaflet",
            "_model_module_version": "^0.16.0",
            "_model_name": "LeafletMarkerModel",
            "_view_count": null,
            "_view_module": "jupyter-leaflet",
            "_view_module_version": "^0.16.0",
            "_view_name": "LeafletMarkerView",
            "alt": "",
            "base": false,
            "bottom": false,
            "draggable": false,
            "icon": null,
            "keyboard": true,
            "location": [
              27.9511945,
              -82.4575361
            ],
            "name": "",
            "opacity": 1,
            "options": [
              "alt",
              "draggable",
              "keyboard",
              "rise_offset",
              "rise_on_hover",
              "rotation_angle",
              "rotation_origin",
              "title",
              "z_index_offset"
            ],
            "popup": "IPY_MODEL_c68d302b6ea143358aa99de057a96d47",
            "popup_max_height": null,
            "popup_max_width": 300,
            "popup_min_width": 50,
            "rise_offset": 250,
            "rise_on_hover": false,
            "rotation_angle": 0,
            "rotation_origin": "",
            "title": "",
            "visible": true,
            "z_index_offset": 0
          }
        },
        "0a9ebf2e87ea44cf9668ae906c2a97c3": {
          "model_module": "jupyter-leaflet",
          "model_name": "LeafletMarkerModel",
          "model_module_version": "^0.16.0",
          "state": {
            "_model_module": "jupyter-leaflet",
            "_model_module_version": "^0.16.0",
            "_model_name": "LeafletMarkerModel",
            "_view_count": null,
            "_view_module": "jupyter-leaflet",
            "_view_module_version": "^0.16.0",
            "_view_name": "LeafletMarkerView",
            "alt": "",
            "base": false,
            "bottom": false,
            "draggable": false,
            "icon": null,
            "keyboard": true,
            "location": [
              27.9514854,
              -82.4567021
            ],
            "name": "",
            "opacity": 1,
            "options": [
              "alt",
              "draggable",
              "keyboard",
              "rise_offset",
              "rise_on_hover",
              "rotation_angle",
              "rotation_origin",
              "title",
              "z_index_offset"
            ],
            "popup": "IPY_MODEL_975c3499b90e45a0be39b0f39a03bc1c",
            "popup_max_height": null,
            "popup_max_width": 300,
            "popup_min_width": 50,
            "rise_offset": 250,
            "rise_on_hover": false,
            "rotation_angle": 0,
            "rotation_origin": "",
            "title": "",
            "visible": true,
            "z_index_offset": 0
          }
        },
        "9c7fa7c92be34265935ff276b8fb7173": {
          "model_module": "jupyter-leaflet",
          "model_name": "LeafletMarkerModel",
          "model_module_version": "^0.16.0",
          "state": {
            "_model_module": "jupyter-leaflet",
            "_model_module_version": "^0.16.0",
            "_model_name": "LeafletMarkerModel",
            "_view_count": null,
            "_view_module": "jupyter-leaflet",
            "_view_module_version": "^0.16.0",
            "_view_name": "LeafletMarkerView",
            "alt": "",
            "base": false,
            "bottom": false,
            "draggable": false,
            "icon": null,
            "keyboard": true,
            "location": [
              27.9503389,
              -82.4600751
            ],
            "name": "",
            "opacity": 1,
            "options": [
              "alt",
              "draggable",
              "keyboard",
              "rise_offset",
              "rise_on_hover",
              "rotation_angle",
              "rotation_origin",
              "title",
              "z_index_offset"
            ],
            "popup": "IPY_MODEL_85c5119f14304366858023704d263fbd",
            "popup_max_height": null,
            "popup_max_width": 300,
            "popup_min_width": 50,
            "rise_offset": 250,
            "rise_on_hover": false,
            "rotation_angle": 0,
            "rotation_origin": "",
            "title": "",
            "visible": true,
            "z_index_offset": 0
          }
        },
        "14d6088857b542e6b48eb51ae6a69a72": {
          "model_module": "jupyter-leaflet",
          "model_name": "LeafletMarkerModel",
          "model_module_version": "^0.16.0",
          "state": {
            "_model_module": "jupyter-leaflet",
            "_model_module_version": "^0.16.0",
            "_model_name": "LeafletMarkerModel",
            "_view_count": null,
            "_view_module": "jupyter-leaflet",
            "_view_module_version": "^0.16.0",
            "_view_name": "LeafletMarkerView",
            "alt": "",
            "base": false,
            "bottom": false,
            "draggable": false,
            "icon": null,
            "keyboard": true,
            "location": [
              27.9504301,
              -82.4601125
            ],
            "name": "",
            "opacity": 1,
            "options": [
              "alt",
              "draggable",
              "keyboard",
              "rise_offset",
              "rise_on_hover",
              "rotation_angle",
              "rotation_origin",
              "title",
              "z_index_offset"
            ],
            "popup": "IPY_MODEL_7451bc267c4d4e0ea49fe6d31bdb58d0",
            "popup_max_height": null,
            "popup_max_width": 300,
            "popup_min_width": 50,
            "rise_offset": 250,
            "rise_on_hover": false,
            "rotation_angle": 0,
            "rotation_origin": "",
            "title": "",
            "visible": true,
            "z_index_offset": 0
          }
        },
        "23ebef1d663541599ff5efdaec17a7d3": {
          "model_module": "jupyter-leaflet",
          "model_name": "LeafletMarkerModel",
          "model_module_version": "^0.16.0",
          "state": {
            "_model_module": "jupyter-leaflet",
            "_model_module_version": "^0.16.0",
            "_model_name": "LeafletMarkerModel",
            "_view_count": null,
            "_view_module": "jupyter-leaflet",
            "_view_module_version": "^0.16.0",
            "_view_name": "LeafletMarkerView",
            "alt": "",
            "base": false,
            "bottom": false,
            "draggable": false,
            "icon": null,
            "keyboard": true,
            "location": [
              27.950614,
              -82.4592474
            ],
            "name": "",
            "opacity": 1,
            "options": [
              "alt",
              "draggable",
              "keyboard",
              "rise_offset",
              "rise_on_hover",
              "rotation_angle",
              "rotation_origin",
              "title",
              "z_index_offset"
            ],
            "popup": "IPY_MODEL_59ba496ea6474335a12c5be18f77c5b2",
            "popup_max_height": null,
            "popup_max_width": 300,
            "popup_min_width": 50,
            "rise_offset": 250,
            "rise_on_hover": false,
            "rotation_angle": 0,
            "rotation_origin": "",
            "title": "",
            "visible": true,
            "z_index_offset": 0
          }
        },
        "0b7f11b9f63f43469059fa81a282c3bb": {
          "model_module": "jupyter-leaflet",
          "model_name": "LeafletMarkerModel",
          "model_module_version": "^0.16.0",
          "state": {
            "_model_module": "jupyter-leaflet",
            "_model_module_version": "^0.16.0",
            "_model_name": "LeafletMarkerModel",
            "_view_count": null,
            "_view_module": "jupyter-leaflet",
            "_view_module_version": "^0.16.0",
            "_view_name": "LeafletMarkerView",
            "alt": "",
            "base": false,
            "bottom": false,
            "draggable": false,
            "icon": null,
            "keyboard": true,
            "location": [
              27.9516018,
              -82.4567536
            ],
            "name": "",
            "opacity": 1,
            "options": [
              "alt",
              "draggable",
              "keyboard",
              "rise_offset",
              "rise_on_hover",
              "rotation_angle",
              "rotation_origin",
              "title",
              "z_index_offset"
            ],
            "popup": "IPY_MODEL_485addb23f434a3d9f4f002055ac6dbe",
            "popup_max_height": null,
            "popup_max_width": 300,
            "popup_min_width": 50,
            "rise_offset": 250,
            "rise_on_hover": false,
            "rotation_angle": 0,
            "rotation_origin": "",
            "title": "",
            "visible": true,
            "z_index_offset": 0
          }
        },
        "658c0f5eadf44decb5a318cb0dbc4472": {
          "model_module": "jupyter-leaflet",
          "model_name": "LeafletMarkerModel",
          "model_module_version": "^0.16.0",
          "state": {
            "_model_module": "jupyter-leaflet",
            "_model_module_version": "^0.16.0",
            "_model_name": "LeafletMarkerModel",
            "_view_count": null,
            "_view_module": "jupyter-leaflet",
            "_view_module_version": "^0.16.0",
            "_view_name": "LeafletMarkerView",
            "alt": "",
            "base": false,
            "bottom": false,
            "draggable": false,
            "icon": null,
            "keyboard": true,
            "location": [
              27.952062,
              -82.4550191
            ],
            "name": "",
            "opacity": 1,
            "options": [
              "alt",
              "draggable",
              "keyboard",
              "rise_offset",
              "rise_on_hover",
              "rotation_angle",
              "rotation_origin",
              "title",
              "z_index_offset"
            ],
            "popup": "IPY_MODEL_4230f681423348c99bb191f3859f745a",
            "popup_max_height": null,
            "popup_max_width": 300,
            "popup_min_width": 50,
            "rise_offset": 250,
            "rise_on_hover": false,
            "rotation_angle": 0,
            "rotation_origin": "",
            "title": "",
            "visible": true,
            "z_index_offset": 0
          }
        },
        "7e48e44381de4b74bb5a1e18c2bc6364": {
          "model_module": "jupyter-leaflet",
          "model_name": "LeafletMarkerModel",
          "model_module_version": "^0.16.0",
          "state": {
            "_model_module": "jupyter-leaflet",
            "_model_module_version": "^0.16.0",
            "_model_name": "LeafletMarkerModel",
            "_view_count": null,
            "_view_module": "jupyter-leaflet",
            "_view_module_version": "^0.16.0",
            "_view_name": "LeafletMarkerView",
            "alt": "",
            "base": false,
            "bottom": false,
            "draggable": false,
            "icon": null,
            "keyboard": true,
            "location": [
              27.9510067,
              -82.4584148
            ],
            "name": "",
            "opacity": 1,
            "options": [
              "alt",
              "draggable",
              "keyboard",
              "rise_offset",
              "rise_on_hover",
              "rotation_angle",
              "rotation_origin",
              "title",
              "z_index_offset"
            ],
            "popup": "IPY_MODEL_ebe0b76c1767494280b2a4a8cc798794",
            "popup_max_height": null,
            "popup_max_width": 300,
            "popup_min_width": 50,
            "rise_offset": 250,
            "rise_on_hover": false,
            "rotation_angle": 0,
            "rotation_origin": "",
            "title": "",
            "visible": true,
            "z_index_offset": 0
          }
        },
        "d56e620ca9ab4e88b9914a18ab5841dd": {
          "model_module": "jupyter-leaflet",
          "model_name": "LeafletMarkerModel",
          "model_module_version": "^0.16.0",
          "state": {
            "_model_module": "jupyter-leaflet",
            "_model_module_version": "^0.16.0",
            "_model_name": "LeafletMarkerModel",
            "_view_count": null,
            "_view_module": "jupyter-leaflet",
            "_view_module_version": "^0.16.0",
            "_view_name": "LeafletMarkerView",
            "alt": "",
            "base": false,
            "bottom": false,
            "draggable": false,
            "icon": null,
            "keyboard": true,
            "location": [
              27.9494924,
              -82.4528486
            ],
            "name": "",
            "opacity": 1,
            "options": [
              "alt",
              "draggable",
              "keyboard",
              "rise_offset",
              "rise_on_hover",
              "rotation_angle",
              "rotation_origin",
              "title",
              "z_index_offset"
            ],
            "popup": "IPY_MODEL_1700edda46514c54b931665d0df35aa9",
            "popup_max_height": null,
            "popup_max_width": 300,
            "popup_min_width": 50,
            "rise_offset": 250,
            "rise_on_hover": false,
            "rotation_angle": 0,
            "rotation_origin": "",
            "title": "",
            "visible": true,
            "z_index_offset": 0
          }
        },
        "4fc3cf348da44af18cd6ca88d89223a5": {
          "model_module": "jupyter-leaflet",
          "model_name": "LeafletMarkerModel",
          "model_module_version": "^0.16.0",
          "state": {
            "_model_module": "jupyter-leaflet",
            "_model_module_version": "^0.16.0",
            "_model_name": "LeafletMarkerModel",
            "_view_count": null,
            "_view_module": "jupyter-leaflet",
            "_view_module_version": "^0.16.0",
            "_view_name": "LeafletMarkerView",
            "alt": "",
            "base": false,
            "bottom": false,
            "draggable": false,
            "icon": null,
            "keyboard": true,
            "location": [
              27.9493983,
              -82.4528747
            ],
            "name": "",
            "opacity": 1,
            "options": [
              "alt",
              "draggable",
              "keyboard",
              "rise_offset",
              "rise_on_hover",
              "rotation_angle",
              "rotation_origin",
              "title",
              "z_index_offset"
            ],
            "popup": "IPY_MODEL_255c37a9cb234dcf9f5cefe9f780eb41",
            "popup_max_height": null,
            "popup_max_width": 300,
            "popup_min_width": 50,
            "rise_offset": 250,
            "rise_on_hover": false,
            "rotation_angle": 0,
            "rotation_origin": "",
            "title": "",
            "visible": true,
            "z_index_offset": 0
          }
        },
        "b8623bb58e924e21ab80f09979b85e2e": {
          "model_module": "jupyter-leaflet",
          "model_name": "LeafletMarkerModel",
          "model_module_version": "^0.16.0",
          "state": {
            "_model_module": "jupyter-leaflet",
            "_model_module_version": "^0.16.0",
            "_model_name": "LeafletMarkerModel",
            "_view_count": null,
            "_view_module": "jupyter-leaflet",
            "_view_module_version": "^0.16.0",
            "_view_name": "LeafletMarkerView",
            "alt": "",
            "base": false,
            "bottom": false,
            "draggable": false,
            "icon": null,
            "keyboard": true,
            "location": [
              27.9494,
              -82.4529909
            ],
            "name": "",
            "opacity": 1,
            "options": [
              "alt",
              "draggable",
              "keyboard",
              "rise_offset",
              "rise_on_hover",
              "rotation_angle",
              "rotation_origin",
              "title",
              "z_index_offset"
            ],
            "popup": "IPY_MODEL_4c955b794dbf4f47898096ad4de54106",
            "popup_max_height": null,
            "popup_max_width": 300,
            "popup_min_width": 50,
            "rise_offset": 250,
            "rise_on_hover": false,
            "rotation_angle": 0,
            "rotation_origin": "",
            "title": "",
            "visible": true,
            "z_index_offset": 0
          }
        },
        "2fa303ba9fe74b06be5363c09891affb": {
          "model_module": "@jupyter-widgets/base",
          "model_name": "LayoutModel",
          "model_module_version": "1.2.0",
          "state": {
            "_model_module": "@jupyter-widgets/base",
            "_model_module_version": "1.2.0",
            "_model_name": "LayoutModel",
            "_view_count": null,
            "_view_module": "@jupyter-widgets/base",
            "_view_module_version": "1.2.0",
            "_view_name": "LayoutView",
            "align_content": null,
            "align_items": null,
            "align_self": null,
            "border": null,
            "bottom": null,
            "display": null,
            "flex": null,
            "flex_flow": null,
            "grid_area": null,
            "grid_auto_columns": null,
            "grid_auto_flow": null,
            "grid_auto_rows": null,
            "grid_column": null,
            "grid_gap": null,
            "grid_row": null,
            "grid_template_areas": null,
            "grid_template_columns": null,
            "grid_template_rows": null,
            "height": null,
            "justify_content": null,
            "justify_items": null,
            "left": null,
            "margin": null,
            "max_height": null,
            "max_width": null,
            "min_height": null,
            "min_width": null,
            "object_fit": null,
            "object_position": null,
            "order": null,
            "overflow": null,
            "overflow_x": null,
            "overflow_y": null,
            "padding": null,
            "right": null,
            "top": null,
            "visibility": null,
            "width": null
          }
        },
        "71f76aec82ae43b38fb9e4d0376d8eb8": {
          "model_module": "@jupyter-widgets/controls",
          "model_name": "ToggleButtonModel",
          "model_module_version": "1.5.0",
          "state": {
            "_dom_classes": [],
            "_model_module": "@jupyter-widgets/controls",
            "_model_module_version": "1.5.0",
            "_model_name": "ToggleButtonModel",
            "_view_count": null,
            "_view_module": "@jupyter-widgets/controls",
            "_view_module_version": "1.5.0",
            "_view_name": "ToggleButtonView",
            "button_style": "",
            "description": "",
            "description_tooltip": null,
            "disabled": false,
            "icon": "wrench",
            "layout": "IPY_MODEL_3d434c60715540f9925e0654d6b107b6",
            "style": "IPY_MODEL_7d53957c99bb4cee8f07be6217d478c8",
            "tooltip": "Toolbar",
            "value": false
          }
        },
        "af9d01e6eae94c0886d4f42ed88e19e3": {
          "model_module": "@jupyter-widgets/base",
          "model_name": "LayoutModel",
          "model_module_version": "1.2.0",
          "state": {
            "_model_module": "@jupyter-widgets/base",
            "_model_module_version": "1.2.0",
            "_model_name": "LayoutModel",
            "_view_count": null,
            "_view_module": "@jupyter-widgets/base",
            "_view_module_version": "1.2.0",
            "_view_name": "LayoutView",
            "align_content": null,
            "align_items": null,
            "align_self": null,
            "border": null,
            "bottom": null,
            "display": null,
            "flex": null,
            "flex_flow": null,
            "grid_area": null,
            "grid_auto_columns": null,
            "grid_auto_flow": null,
            "grid_auto_rows": null,
            "grid_column": null,
            "grid_gap": null,
            "grid_row": null,
            "grid_template_areas": null,
            "grid_template_columns": null,
            "grid_template_rows": null,
            "height": null,
            "justify_content": null,
            "justify_items": null,
            "left": null,
            "margin": null,
            "max_height": null,
            "max_width": null,
            "min_height": null,
            "min_width": null,
            "object_fit": null,
            "object_position": null,
            "order": null,
            "overflow": null,
            "overflow_x": null,
            "overflow_y": null,
            "padding": null,
            "right": null,
            "top": null,
            "visibility": null,
            "width": null
          }
        },
        "753604ab454541b291eb75eb80a8337f": {
          "model_module": "@jupyter-widgets/controls",
          "model_name": "HBoxModel",
          "model_module_version": "1.5.0",
          "state": {
            "_dom_classes": [],
            "_model_module": "@jupyter-widgets/controls",
            "_model_module_version": "1.5.0",
            "_model_name": "HBoxModel",
            "_view_count": null,
            "_view_module": "@jupyter-widgets/controls",
            "_view_module_version": "1.5.0",
            "_view_name": "HBoxView",
            "box_style": "",
            "children": [
              "IPY_MODEL_36ca4906e26c4e319dac267e4cd9e6df",
              "IPY_MODEL_d5116ac3a9084991ab221bd52d9e83af"
            ],
            "layout": "IPY_MODEL_8e46acca51db428c8ad184c5b02e4fd5"
          }
        },
        "f36480344fd84015be25be2bbf1ca4b0": {
          "model_module": "@jupyter-widgets/controls",
          "model_name": "HTMLModel",
          "model_module_version": "1.5.0",
          "state": {
            "_dom_classes": [],
            "_model_module": "@jupyter-widgets/controls",
            "_model_module_version": "1.5.0",
            "_model_name": "HTMLModel",
            "_view_count": null,
            "_view_module": "@jupyter-widgets/controls",
            "_view_module_version": "1.5.0",
            "_view_name": "HTMLView",
            "description": "",
            "description_tooltip": null,
            "layout": "IPY_MODEL_9c718dd8e1f243ccb61784f8a66de688",
            "placeholder": "​",
            "style": "IPY_MODEL_fcbc6b50366a402898d83a76a1cd1e4f",
            "value": ""
          }
        },
        "71bc07d299e84c1999c15f671db8d0b0": {
          "model_module": "@jupyter-widgets/base",
          "model_name": "LayoutModel",
          "model_module_version": "1.2.0",
          "state": {
            "_model_module": "@jupyter-widgets/base",
            "_model_module_version": "1.2.0",
            "_model_name": "LayoutModel",
            "_view_count": null,
            "_view_module": "@jupyter-widgets/base",
            "_view_module_version": "1.2.0",
            "_view_name": "LayoutView",
            "align_content": null,
            "align_items": null,
            "align_self": null,
            "border": null,
            "bottom": null,
            "display": null,
            "flex": null,
            "flex_flow": null,
            "grid_area": null,
            "grid_auto_columns": null,
            "grid_auto_flow": null,
            "grid_auto_rows": null,
            "grid_column": null,
            "grid_gap": null,
            "grid_row": null,
            "grid_template_areas": null,
            "grid_template_columns": null,
            "grid_template_rows": null,
            "height": null,
            "justify_content": null,
            "justify_items": null,
            "left": null,
            "margin": null,
            "max_height": null,
            "max_width": null,
            "min_height": null,
            "min_width": null,
            "object_fit": null,
            "object_position": null,
            "order": null,
            "overflow": null,
            "overflow_x": null,
            "overflow_y": null,
            "padding": null,
            "right": null,
            "top": null,
            "visibility": null,
            "width": null
          }
        },
        "41a2d90a9e9549ee85c90601e3212b0d": {
          "model_module": "@jupyter-widgets/controls",
          "model_name": "HTMLModel",
          "model_module_version": "1.5.0",
          "state": {
            "_dom_classes": [],
            "_model_module": "@jupyter-widgets/controls",
            "_model_module_version": "1.5.0",
            "_model_name": "HTMLModel",
            "_view_count": null,
            "_view_module": "@jupyter-widgets/controls",
            "_view_module_version": "1.5.0",
            "_view_name": "HTMLView",
            "description": "",
            "description_tooltip": null,
            "layout": "IPY_MODEL_1edd41b6c2b443349c096fb5081920d2",
            "placeholder": "​",
            "style": "IPY_MODEL_c3755b84362a4a9d973f6ab94172f571",
            "value": "origin"
          }
        },
        "5da64d3cbce848288653330f4d5c6391": {
          "model_module": "@jupyter-widgets/controls",
          "model_name": "HTMLModel",
          "model_module_version": "1.5.0",
          "state": {
            "_dom_classes": [],
            "_model_module": "@jupyter-widgets/controls",
            "_model_module_version": "1.5.0",
            "_model_name": "HTMLModel",
            "_view_count": null,
            "_view_module": "@jupyter-widgets/controls",
            "_view_module_version": "1.5.0",
            "_view_name": "HTMLView",
            "description": "",
            "description_tooltip": null,
            "layout": "IPY_MODEL_a04c26a23b784b13a8a43ae9f6e570b9",
            "placeholder": "​",
            "style": "IPY_MODEL_b5bd49fd80084fe8addf2e33cedf4b1a",
            "value": "destination"
          }
        },
        "54c700e22e7443a89d7c7b8b478b64a7": {
          "model_module": "@jupyter-widgets/controls",
          "model_name": "HTMLModel",
          "model_module_version": "1.5.0",
          "state": {
            "_dom_classes": [],
            "_model_module": "@jupyter-widgets/controls",
            "_model_module_version": "1.5.0",
            "_model_name": "HTMLModel",
            "_view_count": null,
            "_view_module": "@jupyter-widgets/controls",
            "_view_module_version": "1.5.0",
            "_view_name": "HTMLView",
            "description": "",
            "description_tooltip": null,
            "layout": "IPY_MODEL_afa5cdca072f40c4a55fd21885b12a11",
            "placeholder": "​",
            "style": "IPY_MODEL_1667df50702a4c6195547401488e0af6",
            "value": "97775156"
          }
        },
        "ba58e3fdfe8341b1bdbca97f0c26b00f": {
          "model_module": "@jupyter-widgets/controls",
          "model_name": "HTMLModel",
          "model_module_version": "1.5.0",
          "state": {
            "_dom_classes": [],
            "_model_module": "@jupyter-widgets/controls",
            "_model_module_version": "1.5.0",
            "_model_name": "HTMLModel",
            "_view_count": null,
            "_view_module": "@jupyter-widgets/controls",
            "_view_module_version": "1.5.0",
            "_view_name": "HTMLView",
            "description": "",
            "description_tooltip": null,
            "layout": "IPY_MODEL_73ad980f927949f991a3ea4c3df85725",
            "placeholder": "​",
            "style": "IPY_MODEL_2b13d4dd7f154ad29072ce07bff5c44d",
            "value": "97775158"
          }
        },
        "bc7bae32c54042418c9e7041ac21aab3": {
          "model_module": "@jupyter-widgets/controls",
          "model_name": "HTMLModel",
          "model_module_version": "1.5.0",
          "state": {
            "_dom_classes": [],
            "_model_module": "@jupyter-widgets/controls",
            "_model_module_version": "1.5.0",
            "_model_name": "HTMLModel",
            "_view_count": null,
            "_view_module": "@jupyter-widgets/controls",
            "_view_module_version": "1.5.0",
            "_view_name": "HTMLView",
            "description": "",
            "description_tooltip": null,
            "layout": "IPY_MODEL_79d042897cf048f5a7da671f91279162",
            "placeholder": "​",
            "style": "IPY_MODEL_248fe806caac4cbf9573524d4e10e415",
            "value": "97775163"
          }
        },
        "53a162119c4e4bcb84e7569786aa9b08": {
          "model_module": "@jupyter-widgets/controls",
          "model_name": "HTMLModel",
          "model_module_version": "1.5.0",
          "state": {
            "_dom_classes": [],
            "_model_module": "@jupyter-widgets/controls",
            "_model_module_version": "1.5.0",
            "_model_name": "HTMLModel",
            "_view_count": null,
            "_view_module": "@jupyter-widgets/controls",
            "_view_module_version": "1.5.0",
            "_view_name": "HTMLView",
            "description": "",
            "description_tooltip": null,
            "layout": "IPY_MODEL_1e6541cb908a47bc97326752e7d642fb",
            "placeholder": "​",
            "style": "IPY_MODEL_4d83f53831b54480a34924077229e97f",
            "value": "97775165"
          }
        },
        "00d17904f49c49698f0ecbf7b97d8256": {
          "model_module": "@jupyter-widgets/controls",
          "model_name": "HTMLModel",
          "model_module_version": "1.5.0",
          "state": {
            "_dom_classes": [],
            "_model_module": "@jupyter-widgets/controls",
            "_model_module_version": "1.5.0",
            "_model_name": "HTMLModel",
            "_view_count": null,
            "_view_module": "@jupyter-widgets/controls",
            "_view_module_version": "1.5.0",
            "_view_name": "HTMLView",
            "description": "",
            "description_tooltip": null,
            "layout": "IPY_MODEL_ebef96ddd1124283b99a8171532a394f",
            "placeholder": "​",
            "style": "IPY_MODEL_c9930f0733fa4fa48f96f340d1a0fe17",
            "value": "97815626"
          }
        },
        "ffede06992684790b3b3e4a6d2a76f9a": {
          "model_module": "@jupyter-widgets/controls",
          "model_name": "HTMLModel",
          "model_module_version": "1.5.0",
          "state": {
            "_dom_classes": [],
            "_model_module": "@jupyter-widgets/controls",
            "_model_module_version": "1.5.0",
            "_model_name": "HTMLModel",
            "_view_count": null,
            "_view_module": "@jupyter-widgets/controls",
            "_view_module_version": "1.5.0",
            "_view_name": "HTMLView",
            "description": "",
            "description_tooltip": null,
            "layout": "IPY_MODEL_533b95920d624206a716fd8d2a70d58b",
            "placeholder": "​",
            "style": "IPY_MODEL_320296a9d7b0426e8531eca75655f88f",
            "value": "97815628"
          }
        },
        "b164564d64f04483ab473a33b0115fae": {
          "model_module": "@jupyter-widgets/controls",
          "model_name": "HTMLModel",
          "model_module_version": "1.5.0",
          "state": {
            "_dom_classes": [],
            "_model_module": "@jupyter-widgets/controls",
            "_model_module_version": "1.5.0",
            "_model_name": "HTMLModel",
            "_view_count": null,
            "_view_module": "@jupyter-widgets/controls",
            "_view_module_version": "1.5.0",
            "_view_name": "HTMLView",
            "description": "",
            "description_tooltip": null,
            "layout": "IPY_MODEL_4986f741827346e893d093bd0b8ce7d2",
            "placeholder": "​",
            "style": "IPY_MODEL_acf66781f20c4094ab309b730b831a54",
            "value": "97871010"
          }
        },
        "b4791f20463d4b13a91e401610ce2a71": {
          "model_module": "@jupyter-widgets/controls",
          "model_name": "HTMLModel",
          "model_module_version": "1.5.0",
          "state": {
            "_dom_classes": [],
            "_model_module": "@jupyter-widgets/controls",
            "_model_module_version": "1.5.0",
            "_model_name": "HTMLModel",
            "_view_count": null,
            "_view_module": "@jupyter-widgets/controls",
            "_view_module_version": "1.5.0",
            "_view_name": "HTMLView",
            "description": "",
            "description_tooltip": null,
            "layout": "IPY_MODEL_6ebac58ed9e54bb994ae05ff5019fd74",
            "placeholder": "​",
            "style": "IPY_MODEL_17cbffe8f09e491ba15a0b6c07642c98",
            "value": "97871012"
          }
        },
        "e61afeba5e0a45258282b1073dca11a5": {
          "model_module": "@jupyter-widgets/controls",
          "model_name": "HTMLModel",
          "model_module_version": "1.5.0",
          "state": {
            "_dom_classes": [],
            "_model_module": "@jupyter-widgets/controls",
            "_model_module_version": "1.5.0",
            "_model_name": "HTMLModel",
            "_view_count": null,
            "_view_module": "@jupyter-widgets/controls",
            "_view_module_version": "1.5.0",
            "_view_name": "HTMLView",
            "description": "",
            "description_tooltip": null,
            "layout": "IPY_MODEL_ada86dd4af7f4746b507e26477c08f26",
            "placeholder": "​",
            "style": "IPY_MODEL_6759207727d34022b6fae11212d628b0",
            "value": "97871013"
          }
        },
        "40505fcfde734dae8d424764b4858329": {
          "model_module": "@jupyter-widgets/controls",
          "model_name": "HTMLModel",
          "model_module_version": "1.5.0",
          "state": {
            "_dom_classes": [],
            "_model_module": "@jupyter-widgets/controls",
            "_model_module_version": "1.5.0",
            "_model_name": "HTMLModel",
            "_view_count": null,
            "_view_module": "@jupyter-widgets/controls",
            "_view_module_version": "1.5.0",
            "_view_name": "HTMLView",
            "description": "",
            "description_tooltip": null,
            "layout": "IPY_MODEL_e5b8b18f118c429997340f21ca885c71",
            "placeholder": "​",
            "style": "IPY_MODEL_5da3e878401447929fc79df5e958427e",
            "value": "97871014"
          }
        },
        "4939549b828e4e5ebaec2514ae30b3ca": {
          "model_module": "@jupyter-widgets/controls",
          "model_name": "HTMLModel",
          "model_module_version": "1.5.0",
          "state": {
            "_dom_classes": [],
            "_model_module": "@jupyter-widgets/controls",
            "_model_module_version": "1.5.0",
            "_model_name": "HTMLModel",
            "_view_count": null,
            "_view_module": "@jupyter-widgets/controls",
            "_view_module_version": "1.5.0",
            "_view_name": "HTMLView",
            "description": "",
            "description_tooltip": null,
            "layout": "IPY_MODEL_5b7548305aac4d87a052a00f852cdc20",
            "placeholder": "​",
            "style": "IPY_MODEL_d30a0a252113486c8727e3e5fa4fb14f",
            "value": "97871017"
          }
        },
        "179ba777f9d7405a93daf7eda2caa979": {
          "model_module": "@jupyter-widgets/controls",
          "model_name": "HTMLModel",
          "model_module_version": "1.5.0",
          "state": {
            "_dom_classes": [],
            "_model_module": "@jupyter-widgets/controls",
            "_model_module_version": "1.5.0",
            "_model_name": "HTMLModel",
            "_view_count": null,
            "_view_module": "@jupyter-widgets/controls",
            "_view_module_version": "1.5.0",
            "_view_name": "HTMLView",
            "description": "",
            "description_tooltip": null,
            "layout": "IPY_MODEL_fb3dd0be9d9c4e288b28fa61ca6c477d",
            "placeholder": "​",
            "style": "IPY_MODEL_1bd762efdf32419296ab70475dce863f",
            "value": "97871022"
          }
        },
        "51088bce40194bd7b0178aeb23030c6b": {
          "model_module": "@jupyter-widgets/controls",
          "model_name": "HTMLModel",
          "model_module_version": "1.5.0",
          "state": {
            "_dom_classes": [],
            "_model_module": "@jupyter-widgets/controls",
            "_model_module_version": "1.5.0",
            "_model_name": "HTMLModel",
            "_view_count": null,
            "_view_module": "@jupyter-widgets/controls",
            "_view_module_version": "1.5.0",
            "_view_name": "HTMLView",
            "description": "",
            "description_tooltip": null,
            "layout": "IPY_MODEL_7ffa19ca540941bf94f81800f34c8cc8",
            "placeholder": "​",
            "style": "IPY_MODEL_082691c0fb944fe3a2bfb79576379622",
            "value": "97876151"
          }
        },
        "a6993bc76957442f91e590c6f6cfb7ce": {
          "model_module": "@jupyter-widgets/controls",
          "model_name": "HTMLModel",
          "model_module_version": "1.5.0",
          "state": {
            "_dom_classes": [],
            "_model_module": "@jupyter-widgets/controls",
            "_model_module_version": "1.5.0",
            "_model_name": "HTMLModel",
            "_view_count": null,
            "_view_module": "@jupyter-widgets/controls",
            "_view_module_version": "1.5.0",
            "_view_name": "HTMLView",
            "description": "",
            "description_tooltip": null,
            "layout": "IPY_MODEL_332e840d7b7646f1898ae46f81f44801",
            "placeholder": "​",
            "style": "IPY_MODEL_46686839c76a4421acfbce1049180cf7",
            "value": "97876153"
          }
        },
        "f78fea4f1717439c9f37b51fd68d7df0": {
          "model_module": "@jupyter-widgets/controls",
          "model_name": "HTMLModel",
          "model_module_version": "1.5.0",
          "state": {
            "_dom_classes": [],
            "_model_module": "@jupyter-widgets/controls",
            "_model_module_version": "1.5.0",
            "_model_name": "HTMLModel",
            "_view_count": null,
            "_view_module": "@jupyter-widgets/controls",
            "_view_module_version": "1.5.0",
            "_view_name": "HTMLView",
            "description": "",
            "description_tooltip": null,
            "layout": "IPY_MODEL_bc7414e91e26443fb31d3d5afe08795a",
            "placeholder": "​",
            "style": "IPY_MODEL_5fd88e805c8d4128b1d7de4aaeb9cd68",
            "value": "97925457"
          }
        },
        "2b259c48dfb64fa4b5ccd61ba2764dd9": {
          "model_module": "@jupyter-widgets/controls",
          "model_name": "HTMLModel",
          "model_module_version": "1.5.0",
          "state": {
            "_dom_classes": [],
            "_model_module": "@jupyter-widgets/controls",
            "_model_module_version": "1.5.0",
            "_model_name": "HTMLModel",
            "_view_count": null,
            "_view_module": "@jupyter-widgets/controls",
            "_view_module_version": "1.5.0",
            "_view_name": "HTMLView",
            "description": "",
            "description_tooltip": null,
            "layout": "IPY_MODEL_9213eb61542a424fa5f70a13ed1df425",
            "placeholder": "​",
            "style": "IPY_MODEL_bd41576243b2423e95dc9cfb8d92c998",
            "value": "97925459"
          }
        },
        "7e895a01240c4d3b97b9c4daa2e62c5f": {
          "model_module": "@jupyter-widgets/controls",
          "model_name": "HTMLModel",
          "model_module_version": "1.5.0",
          "state": {
            "_dom_classes": [],
            "_model_module": "@jupyter-widgets/controls",
            "_model_module_version": "1.5.0",
            "_model_name": "HTMLModel",
            "_view_count": null,
            "_view_module": "@jupyter-widgets/controls",
            "_view_module_version": "1.5.0",
            "_view_name": "HTMLView",
            "description": "",
            "description_tooltip": null,
            "layout": "IPY_MODEL_78269b3a51c84c8fbccc30655ec219ca",
            "placeholder": "​",
            "style": "IPY_MODEL_4087b8cb00f542e69c01ff58fa85d342",
            "value": "97927140"
          }
        },
        "598cf5007efe4757ad76d0040e293e59": {
          "model_module": "@jupyter-widgets/controls",
          "model_name": "HTMLModel",
          "model_module_version": "1.5.0",
          "state": {
            "_dom_classes": [],
            "_model_module": "@jupyter-widgets/controls",
            "_model_module_version": "1.5.0",
            "_model_name": "HTMLModel",
            "_view_count": null,
            "_view_module": "@jupyter-widgets/controls",
            "_view_module_version": "1.5.0",
            "_view_name": "HTMLView",
            "description": "",
            "description_tooltip": null,
            "layout": "IPY_MODEL_19d90e04842849b09dd55ddad721b109",
            "placeholder": "​",
            "style": "IPY_MODEL_cf70eb66745f45f29bd9458d86404b90",
            "value": "97927142"
          }
        },
        "c1fb18f9906f48129111646776dfad4a": {
          "model_module": "@jupyter-widgets/controls",
          "model_name": "HTMLModel",
          "model_module_version": "1.5.0",
          "state": {
            "_dom_classes": [],
            "_model_module": "@jupyter-widgets/controls",
            "_model_module_version": "1.5.0",
            "_model_name": "HTMLModel",
            "_view_count": null,
            "_view_module": "@jupyter-widgets/controls",
            "_view_module_version": "1.5.0",
            "_view_name": "HTMLView",
            "description": "",
            "description_tooltip": null,
            "layout": "IPY_MODEL_6ed474ff0f3a4d9bbedf5799bf4e1229",
            "placeholder": "​",
            "style": "IPY_MODEL_47f468fe375d49d9b58afda196841d39",
            "value": "97928972"
          }
        },
        "7bab605d162d4bf9909ee0407d57aa88": {
          "model_module": "@jupyter-widgets/controls",
          "model_name": "HTMLModel",
          "model_module_version": "1.5.0",
          "state": {
            "_dom_classes": [],
            "_model_module": "@jupyter-widgets/controls",
            "_model_module_version": "1.5.0",
            "_model_name": "HTMLModel",
            "_view_count": null,
            "_view_module": "@jupyter-widgets/controls",
            "_view_module_version": "1.5.0",
            "_view_name": "HTMLView",
            "description": "",
            "description_tooltip": null,
            "layout": "IPY_MODEL_4d78813defc740a0a1344ef46f736eb8",
            "placeholder": "​",
            "style": "IPY_MODEL_8cb772443f2c49f68842fc6ca1437ce4",
            "value": "97928974"
          }
        },
        "42e2a98412f74b769d6dc6a13e0db44e": {
          "model_module": "@jupyter-widgets/controls",
          "model_name": "HTMLModel",
          "model_module_version": "1.5.0",
          "state": {
            "_dom_classes": [],
            "_model_module": "@jupyter-widgets/controls",
            "_model_module_version": "1.5.0",
            "_model_name": "HTMLModel",
            "_view_count": null,
            "_view_module": "@jupyter-widgets/controls",
            "_view_module_version": "1.5.0",
            "_view_name": "HTMLView",
            "description": "",
            "description_tooltip": null,
            "layout": "IPY_MODEL_261bfbf23e854ea4a4e3d4fe86a4b335",
            "placeholder": "​",
            "style": "IPY_MODEL_76e83fd04b5e4ef99986bc10d425d8bd",
            "value": "97928976"
          }
        },
        "d75ef09dcb7c495db9be5ec2621670b1": {
          "model_module": "@jupyter-widgets/controls",
          "model_name": "HTMLModel",
          "model_module_version": "1.5.0",
          "state": {
            "_dom_classes": [],
            "_model_module": "@jupyter-widgets/controls",
            "_model_module_version": "1.5.0",
            "_model_name": "HTMLModel",
            "_view_count": null,
            "_view_module": "@jupyter-widgets/controls",
            "_view_module_version": "1.5.0",
            "_view_name": "HTMLView",
            "description": "",
            "description_tooltip": null,
            "layout": "IPY_MODEL_6afff487faca43e3a9698f0679a790cc",
            "placeholder": "​",
            "style": "IPY_MODEL_062d4e72f5884f0a8894ddba4dab7c28",
            "value": "97928978"
          }
        },
        "d66f7a93cc344230bf32ac6e7eb33ad1": {
          "model_module": "@jupyter-widgets/controls",
          "model_name": "HTMLModel",
          "model_module_version": "1.5.0",
          "state": {
            "_dom_classes": [],
            "_model_module": "@jupyter-widgets/controls",
            "_model_module_version": "1.5.0",
            "_model_name": "HTMLModel",
            "_view_count": null,
            "_view_module": "@jupyter-widgets/controls",
            "_view_module_version": "1.5.0",
            "_view_name": "HTMLView",
            "description": "",
            "description_tooltip": null,
            "layout": "IPY_MODEL_ffa25f4f070645b2999d166624971745",
            "placeholder": "​",
            "style": "IPY_MODEL_05db11f363f5461badcc109e0bd385d6",
            "value": "97942623"
          }
        },
        "041f96315328483c9e0903fa97ab8136": {
          "model_module": "@jupyter-widgets/controls",
          "model_name": "HTMLModel",
          "model_module_version": "1.5.0",
          "state": {
            "_dom_classes": [],
            "_model_module": "@jupyter-widgets/controls",
            "_model_module_version": "1.5.0",
            "_model_name": "HTMLModel",
            "_view_count": null,
            "_view_module": "@jupyter-widgets/controls",
            "_view_module_version": "1.5.0",
            "_view_name": "HTMLView",
            "description": "",
            "description_tooltip": null,
            "layout": "IPY_MODEL_d227d9f7fbf241ffa48e0116b7660583",
            "placeholder": "​",
            "style": "IPY_MODEL_f9dbb3e081cc406182689ded36f0ca28",
            "value": "97964888"
          }
        },
        "56c43393b8004a998bdd7d1edb4c4249": {
          "model_module": "@jupyter-widgets/controls",
          "model_name": "HTMLModel",
          "model_module_version": "1.5.0",
          "state": {
            "_dom_classes": [],
            "_model_module": "@jupyter-widgets/controls",
            "_model_module_version": "1.5.0",
            "_model_name": "HTMLModel",
            "_view_count": null,
            "_view_module": "@jupyter-widgets/controls",
            "_view_module_version": "1.5.0",
            "_view_name": "HTMLView",
            "description": "",
            "description_tooltip": null,
            "layout": "IPY_MODEL_ba2f8a025740467fb56a27849dce2ff8",
            "placeholder": "​",
            "style": "IPY_MODEL_3b99dac683ef46b1b7659bbb28224349",
            "value": "97970376"
          }
        },
        "3b55f173b74b4483ae2a208f1f13734d": {
          "model_module": "@jupyter-widgets/controls",
          "model_name": "HTMLModel",
          "model_module_version": "1.5.0",
          "state": {
            "_dom_classes": [],
            "_model_module": "@jupyter-widgets/controls",
            "_model_module_version": "1.5.0",
            "_model_name": "HTMLModel",
            "_view_count": null,
            "_view_module": "@jupyter-widgets/controls",
            "_view_module_version": "1.5.0",
            "_view_name": "HTMLView",
            "description": "",
            "description_tooltip": null,
            "layout": "IPY_MODEL_a3bccf6a7129487b97aede1d4d4c6d34",
            "placeholder": "​",
            "style": "IPY_MODEL_6785444cd36a43308cf0c57642bfd3ec",
            "value": "320166852"
          }
        },
        "24fea7dd359a46138d620a4fceacbd3d": {
          "model_module": "@jupyter-widgets/controls",
          "model_name": "HTMLModel",
          "model_module_version": "1.5.0",
          "state": {
            "_dom_classes": [],
            "_model_module": "@jupyter-widgets/controls",
            "_model_module_version": "1.5.0",
            "_model_name": "HTMLModel",
            "_view_count": null,
            "_view_module": "@jupyter-widgets/controls",
            "_view_module_version": "1.5.0",
            "_view_name": "HTMLView",
            "description": "",
            "description_tooltip": null,
            "layout": "IPY_MODEL_435690f0befb4ab7852237ac7e009fe4",
            "placeholder": "​",
            "style": "IPY_MODEL_405e97289e164f19b9c1652b98be5a36",
            "value": "320166965"
          }
        },
        "889661a781bc479a841723428a01582e": {
          "model_module": "@jupyter-widgets/controls",
          "model_name": "HTMLModel",
          "model_module_version": "1.5.0",
          "state": {
            "_dom_classes": [],
            "_model_module": "@jupyter-widgets/controls",
            "_model_module_version": "1.5.0",
            "_model_name": "HTMLModel",
            "_view_count": null,
            "_view_module": "@jupyter-widgets/controls",
            "_view_module_version": "1.5.0",
            "_view_name": "HTMLView",
            "description": "",
            "description_tooltip": null,
            "layout": "IPY_MODEL_b92e27388b0a4d3eb85fc7cdbad4c2ef",
            "placeholder": "​",
            "style": "IPY_MODEL_122080396e5b4a018814e5e8a33be3c8",
            "value": "474972598"
          }
        },
        "f6c85475be0b43a9876758c350719731": {
          "model_module": "@jupyter-widgets/controls",
          "model_name": "HTMLModel",
          "model_module_version": "1.5.0",
          "state": {
            "_dom_classes": [],
            "_model_module": "@jupyter-widgets/controls",
            "_model_module_version": "1.5.0",
            "_model_name": "HTMLModel",
            "_view_count": null,
            "_view_module": "@jupyter-widgets/controls",
            "_view_module_version": "1.5.0",
            "_view_name": "HTMLView",
            "description": "",
            "description_tooltip": null,
            "layout": "IPY_MODEL_9c8d9cbdcd9e4ca3b4743fe0e78a990d",
            "placeholder": "​",
            "style": "IPY_MODEL_90a86edac0ea43909648430399c95f40",
            "value": "942206728"
          }
        },
        "b470249c7a7545e6904883eb6a4e3011": {
          "model_module": "@jupyter-widgets/controls",
          "model_name": "HTMLModel",
          "model_module_version": "1.5.0",
          "state": {
            "_dom_classes": [],
            "_model_module": "@jupyter-widgets/controls",
            "_model_module_version": "1.5.0",
            "_model_name": "HTMLModel",
            "_view_count": null,
            "_view_module": "@jupyter-widgets/controls",
            "_view_module_version": "1.5.0",
            "_view_name": "HTMLView",
            "description": "",
            "description_tooltip": null,
            "layout": "IPY_MODEL_803da058a1b5459f88ccc81efa9f599d",
            "placeholder": "​",
            "style": "IPY_MODEL_779fc0d97498422996d7ecb39be9cda8",
            "value": "975495315"
          }
        },
        "964a44bba3214cd0888fa9a0b4642a33": {
          "model_module": "@jupyter-widgets/controls",
          "model_name": "HTMLModel",
          "model_module_version": "1.5.0",
          "state": {
            "_dom_classes": [],
            "_model_module": "@jupyter-widgets/controls",
            "_model_module_version": "1.5.0",
            "_model_name": "HTMLModel",
            "_view_count": null,
            "_view_module": "@jupyter-widgets/controls",
            "_view_module_version": "1.5.0",
            "_view_name": "HTMLView",
            "description": "",
            "description_tooltip": null,
            "layout": "IPY_MODEL_af1e79698ad84d4ba0b4c199b10ac7fe",
            "placeholder": "​",
            "style": "IPY_MODEL_a3f5f14ca04941329d61f0e89db98b59",
            "value": "975495316"
          }
        },
        "de3b5d32d8dc46e0862332115bf471e1": {
          "model_module": "@jupyter-widgets/controls",
          "model_name": "HTMLModel",
          "model_module_version": "1.5.0",
          "state": {
            "_dom_classes": [],
            "_model_module": "@jupyter-widgets/controls",
            "_model_module_version": "1.5.0",
            "_model_name": "HTMLModel",
            "_view_count": null,
            "_view_module": "@jupyter-widgets/controls",
            "_view_module_version": "1.5.0",
            "_view_name": "HTMLView",
            "description": "",
            "description_tooltip": null,
            "layout": "IPY_MODEL_f8c4f8312c474c88b83e82f9818f3915",
            "placeholder": "​",
            "style": "IPY_MODEL_b6e18d4df75d442bb38c1eabe9f0946c",
            "value": "1870060109"
          }
        },
        "ead5643d1e3d4a5eb0ae337902eb4817": {
          "model_module": "@jupyter-widgets/controls",
          "model_name": "HTMLModel",
          "model_module_version": "1.5.0",
          "state": {
            "_dom_classes": [],
            "_model_module": "@jupyter-widgets/controls",
            "_model_module_version": "1.5.0",
            "_model_name": "HTMLModel",
            "_view_count": null,
            "_view_module": "@jupyter-widgets/controls",
            "_view_module_version": "1.5.0",
            "_view_name": "HTMLView",
            "description": "",
            "description_tooltip": null,
            "layout": "IPY_MODEL_a5ca096ff5654c3fa29f2c480776d31a",
            "placeholder": "​",
            "style": "IPY_MODEL_3639fbf1bd614178a3e35ac4e39f573b",
            "value": "1870060119"
          }
        },
        "56ec2c0e47cd4828b6dd61decf6ebe0c": {
          "model_module": "@jupyter-widgets/controls",
          "model_name": "HTMLModel",
          "model_module_version": "1.5.0",
          "state": {
            "_dom_classes": [],
            "_model_module": "@jupyter-widgets/controls",
            "_model_module_version": "1.5.0",
            "_model_name": "HTMLModel",
            "_view_count": null,
            "_view_module": "@jupyter-widgets/controls",
            "_view_module_version": "1.5.0",
            "_view_name": "HTMLView",
            "description": "",
            "description_tooltip": null,
            "layout": "IPY_MODEL_6ef8801226554154ae078d091dc22637",
            "placeholder": "​",
            "style": "IPY_MODEL_5618dec909774bf8a92deae94bb8d7b7",
            "value": "1870060124"
          }
        },
        "d74e682f7a1543faa7c0bc2deb0a2342": {
          "model_module": "@jupyter-widgets/controls",
          "model_name": "HTMLModel",
          "model_module_version": "1.5.0",
          "state": {
            "_dom_classes": [],
            "_model_module": "@jupyter-widgets/controls",
            "_model_module_version": "1.5.0",
            "_model_name": "HTMLModel",
            "_view_count": null,
            "_view_module": "@jupyter-widgets/controls",
            "_view_module_version": "1.5.0",
            "_view_name": "HTMLView",
            "description": "",
            "description_tooltip": null,
            "layout": "IPY_MODEL_46a913c47cf540b9869af59045c2f1a4",
            "placeholder": "​",
            "style": "IPY_MODEL_5dd314adb59b4d908080f7c21203f3ee",
            "value": "1870060133"
          }
        },
        "c68d302b6ea143358aa99de057a96d47": {
          "model_module": "@jupyter-widgets/controls",
          "model_name": "HTMLModel",
          "model_module_version": "1.5.0",
          "state": {
            "_dom_classes": [],
            "_model_module": "@jupyter-widgets/controls",
            "_model_module_version": "1.5.0",
            "_model_name": "HTMLModel",
            "_view_count": null,
            "_view_module": "@jupyter-widgets/controls",
            "_view_module_version": "1.5.0",
            "_view_name": "HTMLView",
            "description": "",
            "description_tooltip": null,
            "layout": "IPY_MODEL_74660ec4b2c647518eed11f5c43344eb",
            "placeholder": "​",
            "style": "IPY_MODEL_3a41c804f6d443eb8018a3eec21a0aa9",
            "value": "1870060165"
          }
        },
        "975c3499b90e45a0be39b0f39a03bc1c": {
          "model_module": "@jupyter-widgets/controls",
          "model_name": "HTMLModel",
          "model_module_version": "1.5.0",
          "state": {
            "_dom_classes": [],
            "_model_module": "@jupyter-widgets/controls",
            "_model_module_version": "1.5.0",
            "_model_name": "HTMLModel",
            "_view_count": null,
            "_view_module": "@jupyter-widgets/controls",
            "_view_module_version": "1.5.0",
            "_view_name": "HTMLView",
            "description": "",
            "description_tooltip": null,
            "layout": "IPY_MODEL_b21730bf360641519e5121d1fe374b0f",
            "placeholder": "​",
            "style": "IPY_MODEL_2b187e7f84984f259c7dc57f7b924775",
            "value": "1870060169"
          }
        },
        "85c5119f14304366858023704d263fbd": {
          "model_module": "@jupyter-widgets/controls",
          "model_name": "HTMLModel",
          "model_module_version": "1.5.0",
          "state": {
            "_dom_classes": [],
            "_model_module": "@jupyter-widgets/controls",
            "_model_module_version": "1.5.0",
            "_model_name": "HTMLModel",
            "_view_count": null,
            "_view_module": "@jupyter-widgets/controls",
            "_view_module_version": "1.5.0",
            "_view_name": "HTMLView",
            "description": "",
            "description_tooltip": null,
            "layout": "IPY_MODEL_139554577fc94e3280e43561d0d685cf",
            "placeholder": "​",
            "style": "IPY_MODEL_bf1646cfd07e4c688b9796699585ca93",
            "value": "1870060182"
          }
        },
        "7451bc267c4d4e0ea49fe6d31bdb58d0": {
          "model_module": "@jupyter-widgets/controls",
          "model_name": "HTMLModel",
          "model_module_version": "1.5.0",
          "state": {
            "_dom_classes": [],
            "_model_module": "@jupyter-widgets/controls",
            "_model_module_version": "1.5.0",
            "_model_name": "HTMLModel",
            "_view_count": null,
            "_view_module": "@jupyter-widgets/controls",
            "_view_module_version": "1.5.0",
            "_view_name": "HTMLView",
            "description": "",
            "description_tooltip": null,
            "layout": "IPY_MODEL_aefcd75519724582b513a42319a4ed50",
            "placeholder": "​",
            "style": "IPY_MODEL_39069c2d1fab47169543b8af954e8445",
            "value": "1870060187"
          }
        },
        "59ba496ea6474335a12c5be18f77c5b2": {
          "model_module": "@jupyter-widgets/controls",
          "model_name": "HTMLModel",
          "model_module_version": "1.5.0",
          "state": {
            "_dom_classes": [],
            "_model_module": "@jupyter-widgets/controls",
            "_model_module_version": "1.5.0",
            "_model_name": "HTMLModel",
            "_view_count": null,
            "_view_module": "@jupyter-widgets/controls",
            "_view_module_version": "1.5.0",
            "_view_name": "HTMLView",
            "description": "",
            "description_tooltip": null,
            "layout": "IPY_MODEL_65beda2498734e9cb1144ede2490834a",
            "placeholder": "​",
            "style": "IPY_MODEL_9a37771034d343e980e9654e4c7191c0",
            "value": "1870060195"
          }
        },
        "485addb23f434a3d9f4f002055ac6dbe": {
          "model_module": "@jupyter-widgets/controls",
          "model_name": "HTMLModel",
          "model_module_version": "1.5.0",
          "state": {
            "_dom_classes": [],
            "_model_module": "@jupyter-widgets/controls",
            "_model_module_version": "1.5.0",
            "_model_name": "HTMLModel",
            "_view_count": null,
            "_view_module": "@jupyter-widgets/controls",
            "_view_module_version": "1.5.0",
            "_view_name": "HTMLView",
            "description": "",
            "description_tooltip": null,
            "layout": "IPY_MODEL_3fafc09e6cac4d6dbecc9d212699817e",
            "placeholder": "​",
            "style": "IPY_MODEL_15ce8956cd5e49ef9e97afe415eb7063",
            "value": "1870060202"
          }
        },
        "4230f681423348c99bb191f3859f745a": {
          "model_module": "@jupyter-widgets/controls",
          "model_name": "HTMLModel",
          "model_module_version": "1.5.0",
          "state": {
            "_dom_classes": [],
            "_model_module": "@jupyter-widgets/controls",
            "_model_module_version": "1.5.0",
            "_model_name": "HTMLModel",
            "_view_count": null,
            "_view_module": "@jupyter-widgets/controls",
            "_view_module_version": "1.5.0",
            "_view_name": "HTMLView",
            "description": "",
            "description_tooltip": null,
            "layout": "IPY_MODEL_30ac2e3eaf944d66b37067e0bd8a89d4",
            "placeholder": "​",
            "style": "IPY_MODEL_5658414b196f4196a7ed3acb248d0873",
            "value": "1870060205"
          }
        },
        "ebe0b76c1767494280b2a4a8cc798794": {
          "model_module": "@jupyter-widgets/controls",
          "model_name": "HTMLModel",
          "model_module_version": "1.5.0",
          "state": {
            "_dom_classes": [],
            "_model_module": "@jupyter-widgets/controls",
            "_model_module_version": "1.5.0",
            "_model_name": "HTMLModel",
            "_view_count": null,
            "_view_module": "@jupyter-widgets/controls",
            "_view_module_version": "1.5.0",
            "_view_name": "HTMLView",
            "description": "",
            "description_tooltip": null,
            "layout": "IPY_MODEL_5d3af831dcbb410080fb9bedfcdba708",
            "placeholder": "​",
            "style": "IPY_MODEL_942419a03c314c0a89ef3d5d8ad03c46",
            "value": "1870060232"
          }
        },
        "1700edda46514c54b931665d0df35aa9": {
          "model_module": "@jupyter-widgets/controls",
          "model_name": "HTMLModel",
          "model_module_version": "1.5.0",
          "state": {
            "_dom_classes": [],
            "_model_module": "@jupyter-widgets/controls",
            "_model_module_version": "1.5.0",
            "_model_name": "HTMLModel",
            "_view_count": null,
            "_view_module": "@jupyter-widgets/controls",
            "_view_module_version": "1.5.0",
            "_view_name": "HTMLView",
            "description": "",
            "description_tooltip": null,
            "layout": "IPY_MODEL_f9f346be09c94a6e9fadc52906bf4669",
            "placeholder": "​",
            "style": "IPY_MODEL_ef0fd0acc99e408fb75addc62f870bed",
            "value": "1993753395"
          }
        },
        "255c37a9cb234dcf9f5cefe9f780eb41": {
          "model_module": "@jupyter-widgets/controls",
          "model_name": "HTMLModel",
          "model_module_version": "1.5.0",
          "state": {
            "_dom_classes": [],
            "_model_module": "@jupyter-widgets/controls",
            "_model_module_version": "1.5.0",
            "_model_name": "HTMLModel",
            "_view_count": null,
            "_view_module": "@jupyter-widgets/controls",
            "_view_module_version": "1.5.0",
            "_view_name": "HTMLView",
            "description": "",
            "description_tooltip": null,
            "layout": "IPY_MODEL_53f964ae6d5e4d58b406c7ab931f8d2d",
            "placeholder": "​",
            "style": "IPY_MODEL_299342332a9541709c982fba65dd2d20",
            "value": "1993753421"
          }
        },
        "4c955b794dbf4f47898096ad4de54106": {
          "model_module": "@jupyter-widgets/controls",
          "model_name": "HTMLModel",
          "model_module_version": "1.5.0",
          "state": {
            "_dom_classes": [],
            "_model_module": "@jupyter-widgets/controls",
            "_model_module_version": "1.5.0",
            "_model_name": "HTMLModel",
            "_view_count": null,
            "_view_module": "@jupyter-widgets/controls",
            "_view_module_version": "1.5.0",
            "_view_name": "HTMLView",
            "description": "",
            "description_tooltip": null,
            "layout": "IPY_MODEL_7fc6324966c1425c8eb560c161e3e892",
            "placeholder": "​",
            "style": "IPY_MODEL_2c5edc9a39924fe79bad05b8ec5dec28",
            "value": "1993753422"
          }
        },
        "3d434c60715540f9925e0654d6b107b6": {
          "model_module": "@jupyter-widgets/base",
          "model_name": "LayoutModel",
          "model_module_version": "1.2.0",
          "state": {
            "_model_module": "@jupyter-widgets/base",
            "_model_module_version": "1.2.0",
            "_model_name": "LayoutModel",
            "_view_count": null,
            "_view_module": "@jupyter-widgets/base",
            "_view_module_version": "1.2.0",
            "_view_name": "LayoutView",
            "align_content": null,
            "align_items": null,
            "align_self": null,
            "border": null,
            "bottom": null,
            "display": null,
            "flex": null,
            "flex_flow": null,
            "grid_area": null,
            "grid_auto_columns": null,
            "grid_auto_flow": null,
            "grid_auto_rows": null,
            "grid_column": null,
            "grid_gap": null,
            "grid_row": null,
            "grid_template_areas": null,
            "grid_template_columns": null,
            "grid_template_rows": null,
            "height": "28px",
            "justify_content": null,
            "justify_items": null,
            "left": null,
            "margin": null,
            "max_height": null,
            "max_width": null,
            "min_height": null,
            "min_width": null,
            "object_fit": null,
            "object_position": null,
            "order": null,
            "overflow": null,
            "overflow_x": null,
            "overflow_y": null,
            "padding": "0px 0px 0px 4px",
            "right": null,
            "top": null,
            "visibility": null,
            "width": "28px"
          }
        },
        "7d53957c99bb4cee8f07be6217d478c8": {
          "model_module": "@jupyter-widgets/controls",
          "model_name": "DescriptionStyleModel",
          "model_module_version": "1.5.0",
          "state": {
            "_model_module": "@jupyter-widgets/controls",
            "_model_module_version": "1.5.0",
            "_model_name": "DescriptionStyleModel",
            "_view_count": null,
            "_view_module": "@jupyter-widgets/base",
            "_view_module_version": "1.2.0",
            "_view_name": "StyleView",
            "description_width": ""
          }
        },
        "36ca4906e26c4e319dac267e4cd9e6df": {
          "model_module": "@jupyter-widgets/controls",
          "model_name": "ToggleButtonModel",
          "model_module_version": "1.5.0",
          "state": {
            "_dom_classes": [],
            "_model_module": "@jupyter-widgets/controls",
            "_model_module_version": "1.5.0",
            "_model_name": "ToggleButtonModel",
            "_view_count": null,
            "_view_module": "@jupyter-widgets/controls",
            "_view_module_version": "1.5.0",
            "_view_name": "ToggleButtonView",
            "button_style": "",
            "description": "",
            "description_tooltip": null,
            "disabled": false,
            "icon": "info",
            "layout": "IPY_MODEL_fdab61f6ae7b4a4ab1aae729a0c9eb0f",
            "style": "IPY_MODEL_0bf8928a96c54485be479aa6b52e59ea",
            "tooltip": "Toolbar",
            "value": true
          }
        },
        "d5116ac3a9084991ab221bd52d9e83af": {
          "model_module": "@jupyter-widgets/controls",
          "model_name": "ToggleButtonModel",
          "model_module_version": "1.5.0",
          "state": {
            "_dom_classes": [],
            "_model_module": "@jupyter-widgets/controls",
            "_model_module_version": "1.5.0",
            "_model_name": "ToggleButtonModel",
            "_view_count": null,
            "_view_module": "@jupyter-widgets/controls",
            "_view_module_version": "1.5.0",
            "_view_name": "ToggleButtonView",
            "button_style": "",
            "description": "",
            "description_tooltip": null,
            "disabled": false,
            "icon": "times",
            "layout": "IPY_MODEL_9dab57278fc445bf81570eb3206bb1e0",
            "style": "IPY_MODEL_a79133290dfc48e7a6eb9f6c832d451a",
            "tooltip": "Close the tool",
            "value": false
          }
        },
        "8e46acca51db428c8ad184c5b02e4fd5": {
          "model_module": "@jupyter-widgets/base",
          "model_name": "LayoutModel",
          "model_module_version": "1.2.0",
          "state": {
            "_model_module": "@jupyter-widgets/base",
            "_model_module_version": "1.2.0",
            "_model_name": "LayoutModel",
            "_view_count": null,
            "_view_module": "@jupyter-widgets/base",
            "_view_module_version": "1.2.0",
            "_view_name": "LayoutView",
            "align_content": null,
            "align_items": null,
            "align_self": null,
            "border": null,
            "bottom": null,
            "display": null,
            "flex": null,
            "flex_flow": null,
            "grid_area": null,
            "grid_auto_columns": null,
            "grid_auto_flow": null,
            "grid_auto_rows": null,
            "grid_column": null,
            "grid_gap": null,
            "grid_row": null,
            "grid_template_areas": null,
            "grid_template_columns": null,
            "grid_template_rows": null,
            "height": null,
            "justify_content": null,
            "justify_items": null,
            "left": null,
            "margin": null,
            "max_height": null,
            "max_width": null,
            "min_height": null,
            "min_width": null,
            "object_fit": null,
            "object_position": null,
            "order": null,
            "overflow": null,
            "overflow_x": null,
            "overflow_y": null,
            "padding": null,
            "right": null,
            "top": null,
            "visibility": null,
            "width": null
          }
        },
        "9c718dd8e1f243ccb61784f8a66de688": {
          "model_module": "@jupyter-widgets/base",
          "model_name": "LayoutModel",
          "model_module_version": "1.2.0",
          "state": {
            "_model_module": "@jupyter-widgets/base",
            "_model_module_version": "1.2.0",
            "_model_name": "LayoutModel",
            "_view_count": null,
            "_view_module": "@jupyter-widgets/base",
            "_view_module_version": "1.2.0",
            "_view_name": "LayoutView",
            "align_content": null,
            "align_items": null,
            "align_self": null,
            "border": null,
            "bottom": null,
            "display": null,
            "flex": null,
            "flex_flow": null,
            "grid_area": null,
            "grid_auto_columns": null,
            "grid_auto_flow": null,
            "grid_auto_rows": null,
            "grid_column": null,
            "grid_gap": null,
            "grid_row": null,
            "grid_template_areas": null,
            "grid_template_columns": null,
            "grid_template_rows": null,
            "height": null,
            "justify_content": null,
            "justify_items": null,
            "left": null,
            "margin": "0px 10px 0px 10px",
            "max_height": "250px",
            "max_width": "250px",
            "min_height": null,
            "min_width": null,
            "object_fit": null,
            "object_position": null,
            "order": null,
            "overflow": null,
            "overflow_x": null,
            "overflow_y": null,
            "padding": null,
            "right": null,
            "top": null,
            "visibility": null,
            "width": null
          }
        },
        "fcbc6b50366a402898d83a76a1cd1e4f": {
          "model_module": "@jupyter-widgets/controls",
          "model_name": "DescriptionStyleModel",
          "model_module_version": "1.5.0",
          "state": {
            "_model_module": "@jupyter-widgets/controls",
            "_model_module_version": "1.5.0",
            "_model_name": "DescriptionStyleModel",
            "_view_count": null,
            "_view_module": "@jupyter-widgets/base",
            "_view_module_version": "1.2.0",
            "_view_name": "StyleView",
            "description_width": ""
          }
        },
        "1edd41b6c2b443349c096fb5081920d2": {
          "model_module": "@jupyter-widgets/base",
          "model_name": "LayoutModel",
          "model_module_version": "1.2.0",
          "state": {
            "_model_module": "@jupyter-widgets/base",
            "_model_module_version": "1.2.0",
            "_model_name": "LayoutModel",
            "_view_count": null,
            "_view_module": "@jupyter-widgets/base",
            "_view_module_version": "1.2.0",
            "_view_name": "LayoutView",
            "align_content": null,
            "align_items": null,
            "align_self": null,
            "border": null,
            "bottom": null,
            "display": null,
            "flex": null,
            "flex_flow": null,
            "grid_area": null,
            "grid_auto_columns": null,
            "grid_auto_flow": null,
            "grid_auto_rows": null,
            "grid_column": null,
            "grid_gap": null,
            "grid_row": null,
            "grid_template_areas": null,
            "grid_template_columns": null,
            "grid_template_rows": null,
            "height": null,
            "justify_content": null,
            "justify_items": null,
            "left": null,
            "margin": null,
            "max_height": null,
            "max_width": null,
            "min_height": null,
            "min_width": null,
            "object_fit": null,
            "object_position": null,
            "order": null,
            "overflow": null,
            "overflow_x": null,
            "overflow_y": null,
            "padding": null,
            "right": null,
            "top": null,
            "visibility": null,
            "width": null
          }
        },
        "c3755b84362a4a9d973f6ab94172f571": {
          "model_module": "@jupyter-widgets/controls",
          "model_name": "DescriptionStyleModel",
          "model_module_version": "1.5.0",
          "state": {
            "_model_module": "@jupyter-widgets/controls",
            "_model_module_version": "1.5.0",
            "_model_name": "DescriptionStyleModel",
            "_view_count": null,
            "_view_module": "@jupyter-widgets/base",
            "_view_module_version": "1.2.0",
            "_view_name": "StyleView",
            "description_width": ""
          }
        },
        "a04c26a23b784b13a8a43ae9f6e570b9": {
          "model_module": "@jupyter-widgets/base",
          "model_name": "LayoutModel",
          "model_module_version": "1.2.0",
          "state": {
            "_model_module": "@jupyter-widgets/base",
            "_model_module_version": "1.2.0",
            "_model_name": "LayoutModel",
            "_view_count": null,
            "_view_module": "@jupyter-widgets/base",
            "_view_module_version": "1.2.0",
            "_view_name": "LayoutView",
            "align_content": null,
            "align_items": null,
            "align_self": null,
            "border": null,
            "bottom": null,
            "display": null,
            "flex": null,
            "flex_flow": null,
            "grid_area": null,
            "grid_auto_columns": null,
            "grid_auto_flow": null,
            "grid_auto_rows": null,
            "grid_column": null,
            "grid_gap": null,
            "grid_row": null,
            "grid_template_areas": null,
            "grid_template_columns": null,
            "grid_template_rows": null,
            "height": null,
            "justify_content": null,
            "justify_items": null,
            "left": null,
            "margin": null,
            "max_height": null,
            "max_width": null,
            "min_height": null,
            "min_width": null,
            "object_fit": null,
            "object_position": null,
            "order": null,
            "overflow": null,
            "overflow_x": null,
            "overflow_y": null,
            "padding": null,
            "right": null,
            "top": null,
            "visibility": null,
            "width": null
          }
        },
        "b5bd49fd80084fe8addf2e33cedf4b1a": {
          "model_module": "@jupyter-widgets/controls",
          "model_name": "DescriptionStyleModel",
          "model_module_version": "1.5.0",
          "state": {
            "_model_module": "@jupyter-widgets/controls",
            "_model_module_version": "1.5.0",
            "_model_name": "DescriptionStyleModel",
            "_view_count": null,
            "_view_module": "@jupyter-widgets/base",
            "_view_module_version": "1.2.0",
            "_view_name": "StyleView",
            "description_width": ""
          }
        },
        "afa5cdca072f40c4a55fd21885b12a11": {
          "model_module": "@jupyter-widgets/base",
          "model_name": "LayoutModel",
          "model_module_version": "1.2.0",
          "state": {
            "_model_module": "@jupyter-widgets/base",
            "_model_module_version": "1.2.0",
            "_model_name": "LayoutModel",
            "_view_count": null,
            "_view_module": "@jupyter-widgets/base",
            "_view_module_version": "1.2.0",
            "_view_name": "LayoutView",
            "align_content": null,
            "align_items": null,
            "align_self": null,
            "border": null,
            "bottom": null,
            "display": null,
            "flex": null,
            "flex_flow": null,
            "grid_area": null,
            "grid_auto_columns": null,
            "grid_auto_flow": null,
            "grid_auto_rows": null,
            "grid_column": null,
            "grid_gap": null,
            "grid_row": null,
            "grid_template_areas": null,
            "grid_template_columns": null,
            "grid_template_rows": null,
            "height": null,
            "justify_content": null,
            "justify_items": null,
            "left": null,
            "margin": null,
            "max_height": null,
            "max_width": null,
            "min_height": null,
            "min_width": null,
            "object_fit": null,
            "object_position": null,
            "order": null,
            "overflow": null,
            "overflow_x": null,
            "overflow_y": null,
            "padding": null,
            "right": null,
            "top": null,
            "visibility": null,
            "width": null
          }
        },
        "1667df50702a4c6195547401488e0af6": {
          "model_module": "@jupyter-widgets/controls",
          "model_name": "DescriptionStyleModel",
          "model_module_version": "1.5.0",
          "state": {
            "_model_module": "@jupyter-widgets/controls",
            "_model_module_version": "1.5.0",
            "_model_name": "DescriptionStyleModel",
            "_view_count": null,
            "_view_module": "@jupyter-widgets/base",
            "_view_module_version": "1.2.0",
            "_view_name": "StyleView",
            "description_width": ""
          }
        },
        "73ad980f927949f991a3ea4c3df85725": {
          "model_module": "@jupyter-widgets/base",
          "model_name": "LayoutModel",
          "model_module_version": "1.2.0",
          "state": {
            "_model_module": "@jupyter-widgets/base",
            "_model_module_version": "1.2.0",
            "_model_name": "LayoutModel",
            "_view_count": null,
            "_view_module": "@jupyter-widgets/base",
            "_view_module_version": "1.2.0",
            "_view_name": "LayoutView",
            "align_content": null,
            "align_items": null,
            "align_self": null,
            "border": null,
            "bottom": null,
            "display": null,
            "flex": null,
            "flex_flow": null,
            "grid_area": null,
            "grid_auto_columns": null,
            "grid_auto_flow": null,
            "grid_auto_rows": null,
            "grid_column": null,
            "grid_gap": null,
            "grid_row": null,
            "grid_template_areas": null,
            "grid_template_columns": null,
            "grid_template_rows": null,
            "height": null,
            "justify_content": null,
            "justify_items": null,
            "left": null,
            "margin": null,
            "max_height": null,
            "max_width": null,
            "min_height": null,
            "min_width": null,
            "object_fit": null,
            "object_position": null,
            "order": null,
            "overflow": null,
            "overflow_x": null,
            "overflow_y": null,
            "padding": null,
            "right": null,
            "top": null,
            "visibility": null,
            "width": null
          }
        },
        "2b13d4dd7f154ad29072ce07bff5c44d": {
          "model_module": "@jupyter-widgets/controls",
          "model_name": "DescriptionStyleModel",
          "model_module_version": "1.5.0",
          "state": {
            "_model_module": "@jupyter-widgets/controls",
            "_model_module_version": "1.5.0",
            "_model_name": "DescriptionStyleModel",
            "_view_count": null,
            "_view_module": "@jupyter-widgets/base",
            "_view_module_version": "1.2.0",
            "_view_name": "StyleView",
            "description_width": ""
          }
        },
        "79d042897cf048f5a7da671f91279162": {
          "model_module": "@jupyter-widgets/base",
          "model_name": "LayoutModel",
          "model_module_version": "1.2.0",
          "state": {
            "_model_module": "@jupyter-widgets/base",
            "_model_module_version": "1.2.0",
            "_model_name": "LayoutModel",
            "_view_count": null,
            "_view_module": "@jupyter-widgets/base",
            "_view_module_version": "1.2.0",
            "_view_name": "LayoutView",
            "align_content": null,
            "align_items": null,
            "align_self": null,
            "border": null,
            "bottom": null,
            "display": null,
            "flex": null,
            "flex_flow": null,
            "grid_area": null,
            "grid_auto_columns": null,
            "grid_auto_flow": null,
            "grid_auto_rows": null,
            "grid_column": null,
            "grid_gap": null,
            "grid_row": null,
            "grid_template_areas": null,
            "grid_template_columns": null,
            "grid_template_rows": null,
            "height": null,
            "justify_content": null,
            "justify_items": null,
            "left": null,
            "margin": null,
            "max_height": null,
            "max_width": null,
            "min_height": null,
            "min_width": null,
            "object_fit": null,
            "object_position": null,
            "order": null,
            "overflow": null,
            "overflow_x": null,
            "overflow_y": null,
            "padding": null,
            "right": null,
            "top": null,
            "visibility": null,
            "width": null
          }
        },
        "248fe806caac4cbf9573524d4e10e415": {
          "model_module": "@jupyter-widgets/controls",
          "model_name": "DescriptionStyleModel",
          "model_module_version": "1.5.0",
          "state": {
            "_model_module": "@jupyter-widgets/controls",
            "_model_module_version": "1.5.0",
            "_model_name": "DescriptionStyleModel",
            "_view_count": null,
            "_view_module": "@jupyter-widgets/base",
            "_view_module_version": "1.2.0",
            "_view_name": "StyleView",
            "description_width": ""
          }
        },
        "1e6541cb908a47bc97326752e7d642fb": {
          "model_module": "@jupyter-widgets/base",
          "model_name": "LayoutModel",
          "model_module_version": "1.2.0",
          "state": {
            "_model_module": "@jupyter-widgets/base",
            "_model_module_version": "1.2.0",
            "_model_name": "LayoutModel",
            "_view_count": null,
            "_view_module": "@jupyter-widgets/base",
            "_view_module_version": "1.2.0",
            "_view_name": "LayoutView",
            "align_content": null,
            "align_items": null,
            "align_self": null,
            "border": null,
            "bottom": null,
            "display": null,
            "flex": null,
            "flex_flow": null,
            "grid_area": null,
            "grid_auto_columns": null,
            "grid_auto_flow": null,
            "grid_auto_rows": null,
            "grid_column": null,
            "grid_gap": null,
            "grid_row": null,
            "grid_template_areas": null,
            "grid_template_columns": null,
            "grid_template_rows": null,
            "height": null,
            "justify_content": null,
            "justify_items": null,
            "left": null,
            "margin": null,
            "max_height": null,
            "max_width": null,
            "min_height": null,
            "min_width": null,
            "object_fit": null,
            "object_position": null,
            "order": null,
            "overflow": null,
            "overflow_x": null,
            "overflow_y": null,
            "padding": null,
            "right": null,
            "top": null,
            "visibility": null,
            "width": null
          }
        },
        "4d83f53831b54480a34924077229e97f": {
          "model_module": "@jupyter-widgets/controls",
          "model_name": "DescriptionStyleModel",
          "model_module_version": "1.5.0",
          "state": {
            "_model_module": "@jupyter-widgets/controls",
            "_model_module_version": "1.5.0",
            "_model_name": "DescriptionStyleModel",
            "_view_count": null,
            "_view_module": "@jupyter-widgets/base",
            "_view_module_version": "1.2.0",
            "_view_name": "StyleView",
            "description_width": ""
          }
        },
        "ebef96ddd1124283b99a8171532a394f": {
          "model_module": "@jupyter-widgets/base",
          "model_name": "LayoutModel",
          "model_module_version": "1.2.0",
          "state": {
            "_model_module": "@jupyter-widgets/base",
            "_model_module_version": "1.2.0",
            "_model_name": "LayoutModel",
            "_view_count": null,
            "_view_module": "@jupyter-widgets/base",
            "_view_module_version": "1.2.0",
            "_view_name": "LayoutView",
            "align_content": null,
            "align_items": null,
            "align_self": null,
            "border": null,
            "bottom": null,
            "display": null,
            "flex": null,
            "flex_flow": null,
            "grid_area": null,
            "grid_auto_columns": null,
            "grid_auto_flow": null,
            "grid_auto_rows": null,
            "grid_column": null,
            "grid_gap": null,
            "grid_row": null,
            "grid_template_areas": null,
            "grid_template_columns": null,
            "grid_template_rows": null,
            "height": null,
            "justify_content": null,
            "justify_items": null,
            "left": null,
            "margin": null,
            "max_height": null,
            "max_width": null,
            "min_height": null,
            "min_width": null,
            "object_fit": null,
            "object_position": null,
            "order": null,
            "overflow": null,
            "overflow_x": null,
            "overflow_y": null,
            "padding": null,
            "right": null,
            "top": null,
            "visibility": null,
            "width": null
          }
        },
        "c9930f0733fa4fa48f96f340d1a0fe17": {
          "model_module": "@jupyter-widgets/controls",
          "model_name": "DescriptionStyleModel",
          "model_module_version": "1.5.0",
          "state": {
            "_model_module": "@jupyter-widgets/controls",
            "_model_module_version": "1.5.0",
            "_model_name": "DescriptionStyleModel",
            "_view_count": null,
            "_view_module": "@jupyter-widgets/base",
            "_view_module_version": "1.2.0",
            "_view_name": "StyleView",
            "description_width": ""
          }
        },
        "533b95920d624206a716fd8d2a70d58b": {
          "model_module": "@jupyter-widgets/base",
          "model_name": "LayoutModel",
          "model_module_version": "1.2.0",
          "state": {
            "_model_module": "@jupyter-widgets/base",
            "_model_module_version": "1.2.0",
            "_model_name": "LayoutModel",
            "_view_count": null,
            "_view_module": "@jupyter-widgets/base",
            "_view_module_version": "1.2.0",
            "_view_name": "LayoutView",
            "align_content": null,
            "align_items": null,
            "align_self": null,
            "border": null,
            "bottom": null,
            "display": null,
            "flex": null,
            "flex_flow": null,
            "grid_area": null,
            "grid_auto_columns": null,
            "grid_auto_flow": null,
            "grid_auto_rows": null,
            "grid_column": null,
            "grid_gap": null,
            "grid_row": null,
            "grid_template_areas": null,
            "grid_template_columns": null,
            "grid_template_rows": null,
            "height": null,
            "justify_content": null,
            "justify_items": null,
            "left": null,
            "margin": null,
            "max_height": null,
            "max_width": null,
            "min_height": null,
            "min_width": null,
            "object_fit": null,
            "object_position": null,
            "order": null,
            "overflow": null,
            "overflow_x": null,
            "overflow_y": null,
            "padding": null,
            "right": null,
            "top": null,
            "visibility": null,
            "width": null
          }
        },
        "320296a9d7b0426e8531eca75655f88f": {
          "model_module": "@jupyter-widgets/controls",
          "model_name": "DescriptionStyleModel",
          "model_module_version": "1.5.0",
          "state": {
            "_model_module": "@jupyter-widgets/controls",
            "_model_module_version": "1.5.0",
            "_model_name": "DescriptionStyleModel",
            "_view_count": null,
            "_view_module": "@jupyter-widgets/base",
            "_view_module_version": "1.2.0",
            "_view_name": "StyleView",
            "description_width": ""
          }
        },
        "4986f741827346e893d093bd0b8ce7d2": {
          "model_module": "@jupyter-widgets/base",
          "model_name": "LayoutModel",
          "model_module_version": "1.2.0",
          "state": {
            "_model_module": "@jupyter-widgets/base",
            "_model_module_version": "1.2.0",
            "_model_name": "LayoutModel",
            "_view_count": null,
            "_view_module": "@jupyter-widgets/base",
            "_view_module_version": "1.2.0",
            "_view_name": "LayoutView",
            "align_content": null,
            "align_items": null,
            "align_self": null,
            "border": null,
            "bottom": null,
            "display": null,
            "flex": null,
            "flex_flow": null,
            "grid_area": null,
            "grid_auto_columns": null,
            "grid_auto_flow": null,
            "grid_auto_rows": null,
            "grid_column": null,
            "grid_gap": null,
            "grid_row": null,
            "grid_template_areas": null,
            "grid_template_columns": null,
            "grid_template_rows": null,
            "height": null,
            "justify_content": null,
            "justify_items": null,
            "left": null,
            "margin": null,
            "max_height": null,
            "max_width": null,
            "min_height": null,
            "min_width": null,
            "object_fit": null,
            "object_position": null,
            "order": null,
            "overflow": null,
            "overflow_x": null,
            "overflow_y": null,
            "padding": null,
            "right": null,
            "top": null,
            "visibility": null,
            "width": null
          }
        },
        "acf66781f20c4094ab309b730b831a54": {
          "model_module": "@jupyter-widgets/controls",
          "model_name": "DescriptionStyleModel",
          "model_module_version": "1.5.0",
          "state": {
            "_model_module": "@jupyter-widgets/controls",
            "_model_module_version": "1.5.0",
            "_model_name": "DescriptionStyleModel",
            "_view_count": null,
            "_view_module": "@jupyter-widgets/base",
            "_view_module_version": "1.2.0",
            "_view_name": "StyleView",
            "description_width": ""
          }
        },
        "6ebac58ed9e54bb994ae05ff5019fd74": {
          "model_module": "@jupyter-widgets/base",
          "model_name": "LayoutModel",
          "model_module_version": "1.2.0",
          "state": {
            "_model_module": "@jupyter-widgets/base",
            "_model_module_version": "1.2.0",
            "_model_name": "LayoutModel",
            "_view_count": null,
            "_view_module": "@jupyter-widgets/base",
            "_view_module_version": "1.2.0",
            "_view_name": "LayoutView",
            "align_content": null,
            "align_items": null,
            "align_self": null,
            "border": null,
            "bottom": null,
            "display": null,
            "flex": null,
            "flex_flow": null,
            "grid_area": null,
            "grid_auto_columns": null,
            "grid_auto_flow": null,
            "grid_auto_rows": null,
            "grid_column": null,
            "grid_gap": null,
            "grid_row": null,
            "grid_template_areas": null,
            "grid_template_columns": null,
            "grid_template_rows": null,
            "height": null,
            "justify_content": null,
            "justify_items": null,
            "left": null,
            "margin": null,
            "max_height": null,
            "max_width": null,
            "min_height": null,
            "min_width": null,
            "object_fit": null,
            "object_position": null,
            "order": null,
            "overflow": null,
            "overflow_x": null,
            "overflow_y": null,
            "padding": null,
            "right": null,
            "top": null,
            "visibility": null,
            "width": null
          }
        },
        "17cbffe8f09e491ba15a0b6c07642c98": {
          "model_module": "@jupyter-widgets/controls",
          "model_name": "DescriptionStyleModel",
          "model_module_version": "1.5.0",
          "state": {
            "_model_module": "@jupyter-widgets/controls",
            "_model_module_version": "1.5.0",
            "_model_name": "DescriptionStyleModel",
            "_view_count": null,
            "_view_module": "@jupyter-widgets/base",
            "_view_module_version": "1.2.0",
            "_view_name": "StyleView",
            "description_width": ""
          }
        },
        "ada86dd4af7f4746b507e26477c08f26": {
          "model_module": "@jupyter-widgets/base",
          "model_name": "LayoutModel",
          "model_module_version": "1.2.0",
          "state": {
            "_model_module": "@jupyter-widgets/base",
            "_model_module_version": "1.2.0",
            "_model_name": "LayoutModel",
            "_view_count": null,
            "_view_module": "@jupyter-widgets/base",
            "_view_module_version": "1.2.0",
            "_view_name": "LayoutView",
            "align_content": null,
            "align_items": null,
            "align_self": null,
            "border": null,
            "bottom": null,
            "display": null,
            "flex": null,
            "flex_flow": null,
            "grid_area": null,
            "grid_auto_columns": null,
            "grid_auto_flow": null,
            "grid_auto_rows": null,
            "grid_column": null,
            "grid_gap": null,
            "grid_row": null,
            "grid_template_areas": null,
            "grid_template_columns": null,
            "grid_template_rows": null,
            "height": null,
            "justify_content": null,
            "justify_items": null,
            "left": null,
            "margin": null,
            "max_height": null,
            "max_width": null,
            "min_height": null,
            "min_width": null,
            "object_fit": null,
            "object_position": null,
            "order": null,
            "overflow": null,
            "overflow_x": null,
            "overflow_y": null,
            "padding": null,
            "right": null,
            "top": null,
            "visibility": null,
            "width": null
          }
        },
        "6759207727d34022b6fae11212d628b0": {
          "model_module": "@jupyter-widgets/controls",
          "model_name": "DescriptionStyleModel",
          "model_module_version": "1.5.0",
          "state": {
            "_model_module": "@jupyter-widgets/controls",
            "_model_module_version": "1.5.0",
            "_model_name": "DescriptionStyleModel",
            "_view_count": null,
            "_view_module": "@jupyter-widgets/base",
            "_view_module_version": "1.2.0",
            "_view_name": "StyleView",
            "description_width": ""
          }
        },
        "e5b8b18f118c429997340f21ca885c71": {
          "model_module": "@jupyter-widgets/base",
          "model_name": "LayoutModel",
          "model_module_version": "1.2.0",
          "state": {
            "_model_module": "@jupyter-widgets/base",
            "_model_module_version": "1.2.0",
            "_model_name": "LayoutModel",
            "_view_count": null,
            "_view_module": "@jupyter-widgets/base",
            "_view_module_version": "1.2.0",
            "_view_name": "LayoutView",
            "align_content": null,
            "align_items": null,
            "align_self": null,
            "border": null,
            "bottom": null,
            "display": null,
            "flex": null,
            "flex_flow": null,
            "grid_area": null,
            "grid_auto_columns": null,
            "grid_auto_flow": null,
            "grid_auto_rows": null,
            "grid_column": null,
            "grid_gap": null,
            "grid_row": null,
            "grid_template_areas": null,
            "grid_template_columns": null,
            "grid_template_rows": null,
            "height": null,
            "justify_content": null,
            "justify_items": null,
            "left": null,
            "margin": null,
            "max_height": null,
            "max_width": null,
            "min_height": null,
            "min_width": null,
            "object_fit": null,
            "object_position": null,
            "order": null,
            "overflow": null,
            "overflow_x": null,
            "overflow_y": null,
            "padding": null,
            "right": null,
            "top": null,
            "visibility": null,
            "width": null
          }
        },
        "5da3e878401447929fc79df5e958427e": {
          "model_module": "@jupyter-widgets/controls",
          "model_name": "DescriptionStyleModel",
          "model_module_version": "1.5.0",
          "state": {
            "_model_module": "@jupyter-widgets/controls",
            "_model_module_version": "1.5.0",
            "_model_name": "DescriptionStyleModel",
            "_view_count": null,
            "_view_module": "@jupyter-widgets/base",
            "_view_module_version": "1.2.0",
            "_view_name": "StyleView",
            "description_width": ""
          }
        },
        "5b7548305aac4d87a052a00f852cdc20": {
          "model_module": "@jupyter-widgets/base",
          "model_name": "LayoutModel",
          "model_module_version": "1.2.0",
          "state": {
            "_model_module": "@jupyter-widgets/base",
            "_model_module_version": "1.2.0",
            "_model_name": "LayoutModel",
            "_view_count": null,
            "_view_module": "@jupyter-widgets/base",
            "_view_module_version": "1.2.0",
            "_view_name": "LayoutView",
            "align_content": null,
            "align_items": null,
            "align_self": null,
            "border": null,
            "bottom": null,
            "display": null,
            "flex": null,
            "flex_flow": null,
            "grid_area": null,
            "grid_auto_columns": null,
            "grid_auto_flow": null,
            "grid_auto_rows": null,
            "grid_column": null,
            "grid_gap": null,
            "grid_row": null,
            "grid_template_areas": null,
            "grid_template_columns": null,
            "grid_template_rows": null,
            "height": null,
            "justify_content": null,
            "justify_items": null,
            "left": null,
            "margin": null,
            "max_height": null,
            "max_width": null,
            "min_height": null,
            "min_width": null,
            "object_fit": null,
            "object_position": null,
            "order": null,
            "overflow": null,
            "overflow_x": null,
            "overflow_y": null,
            "padding": null,
            "right": null,
            "top": null,
            "visibility": null,
            "width": null
          }
        },
        "d30a0a252113486c8727e3e5fa4fb14f": {
          "model_module": "@jupyter-widgets/controls",
          "model_name": "DescriptionStyleModel",
          "model_module_version": "1.5.0",
          "state": {
            "_model_module": "@jupyter-widgets/controls",
            "_model_module_version": "1.5.0",
            "_model_name": "DescriptionStyleModel",
            "_view_count": null,
            "_view_module": "@jupyter-widgets/base",
            "_view_module_version": "1.2.0",
            "_view_name": "StyleView",
            "description_width": ""
          }
        },
        "fb3dd0be9d9c4e288b28fa61ca6c477d": {
          "model_module": "@jupyter-widgets/base",
          "model_name": "LayoutModel",
          "model_module_version": "1.2.0",
          "state": {
            "_model_module": "@jupyter-widgets/base",
            "_model_module_version": "1.2.0",
            "_model_name": "LayoutModel",
            "_view_count": null,
            "_view_module": "@jupyter-widgets/base",
            "_view_module_version": "1.2.0",
            "_view_name": "LayoutView",
            "align_content": null,
            "align_items": null,
            "align_self": null,
            "border": null,
            "bottom": null,
            "display": null,
            "flex": null,
            "flex_flow": null,
            "grid_area": null,
            "grid_auto_columns": null,
            "grid_auto_flow": null,
            "grid_auto_rows": null,
            "grid_column": null,
            "grid_gap": null,
            "grid_row": null,
            "grid_template_areas": null,
            "grid_template_columns": null,
            "grid_template_rows": null,
            "height": null,
            "justify_content": null,
            "justify_items": null,
            "left": null,
            "margin": null,
            "max_height": null,
            "max_width": null,
            "min_height": null,
            "min_width": null,
            "object_fit": null,
            "object_position": null,
            "order": null,
            "overflow": null,
            "overflow_x": null,
            "overflow_y": null,
            "padding": null,
            "right": null,
            "top": null,
            "visibility": null,
            "width": null
          }
        },
        "1bd762efdf32419296ab70475dce863f": {
          "model_module": "@jupyter-widgets/controls",
          "model_name": "DescriptionStyleModel",
          "model_module_version": "1.5.0",
          "state": {
            "_model_module": "@jupyter-widgets/controls",
            "_model_module_version": "1.5.0",
            "_model_name": "DescriptionStyleModel",
            "_view_count": null,
            "_view_module": "@jupyter-widgets/base",
            "_view_module_version": "1.2.0",
            "_view_name": "StyleView",
            "description_width": ""
          }
        },
        "7ffa19ca540941bf94f81800f34c8cc8": {
          "model_module": "@jupyter-widgets/base",
          "model_name": "LayoutModel",
          "model_module_version": "1.2.0",
          "state": {
            "_model_module": "@jupyter-widgets/base",
            "_model_module_version": "1.2.0",
            "_model_name": "LayoutModel",
            "_view_count": null,
            "_view_module": "@jupyter-widgets/base",
            "_view_module_version": "1.2.0",
            "_view_name": "LayoutView",
            "align_content": null,
            "align_items": null,
            "align_self": null,
            "border": null,
            "bottom": null,
            "display": null,
            "flex": null,
            "flex_flow": null,
            "grid_area": null,
            "grid_auto_columns": null,
            "grid_auto_flow": null,
            "grid_auto_rows": null,
            "grid_column": null,
            "grid_gap": null,
            "grid_row": null,
            "grid_template_areas": null,
            "grid_template_columns": null,
            "grid_template_rows": null,
            "height": null,
            "justify_content": null,
            "justify_items": null,
            "left": null,
            "margin": null,
            "max_height": null,
            "max_width": null,
            "min_height": null,
            "min_width": null,
            "object_fit": null,
            "object_position": null,
            "order": null,
            "overflow": null,
            "overflow_x": null,
            "overflow_y": null,
            "padding": null,
            "right": null,
            "top": null,
            "visibility": null,
            "width": null
          }
        },
        "082691c0fb944fe3a2bfb79576379622": {
          "model_module": "@jupyter-widgets/controls",
          "model_name": "DescriptionStyleModel",
          "model_module_version": "1.5.0",
          "state": {
            "_model_module": "@jupyter-widgets/controls",
            "_model_module_version": "1.5.0",
            "_model_name": "DescriptionStyleModel",
            "_view_count": null,
            "_view_module": "@jupyter-widgets/base",
            "_view_module_version": "1.2.0",
            "_view_name": "StyleView",
            "description_width": ""
          }
        },
        "332e840d7b7646f1898ae46f81f44801": {
          "model_module": "@jupyter-widgets/base",
          "model_name": "LayoutModel",
          "model_module_version": "1.2.0",
          "state": {
            "_model_module": "@jupyter-widgets/base",
            "_model_module_version": "1.2.0",
            "_model_name": "LayoutModel",
            "_view_count": null,
            "_view_module": "@jupyter-widgets/base",
            "_view_module_version": "1.2.0",
            "_view_name": "LayoutView",
            "align_content": null,
            "align_items": null,
            "align_self": null,
            "border": null,
            "bottom": null,
            "display": null,
            "flex": null,
            "flex_flow": null,
            "grid_area": null,
            "grid_auto_columns": null,
            "grid_auto_flow": null,
            "grid_auto_rows": null,
            "grid_column": null,
            "grid_gap": null,
            "grid_row": null,
            "grid_template_areas": null,
            "grid_template_columns": null,
            "grid_template_rows": null,
            "height": null,
            "justify_content": null,
            "justify_items": null,
            "left": null,
            "margin": null,
            "max_height": null,
            "max_width": null,
            "min_height": null,
            "min_width": null,
            "object_fit": null,
            "object_position": null,
            "order": null,
            "overflow": null,
            "overflow_x": null,
            "overflow_y": null,
            "padding": null,
            "right": null,
            "top": null,
            "visibility": null,
            "width": null
          }
        },
        "46686839c76a4421acfbce1049180cf7": {
          "model_module": "@jupyter-widgets/controls",
          "model_name": "DescriptionStyleModel",
          "model_module_version": "1.5.0",
          "state": {
            "_model_module": "@jupyter-widgets/controls",
            "_model_module_version": "1.5.0",
            "_model_name": "DescriptionStyleModel",
            "_view_count": null,
            "_view_module": "@jupyter-widgets/base",
            "_view_module_version": "1.2.0",
            "_view_name": "StyleView",
            "description_width": ""
          }
        },
        "bc7414e91e26443fb31d3d5afe08795a": {
          "model_module": "@jupyter-widgets/base",
          "model_name": "LayoutModel",
          "model_module_version": "1.2.0",
          "state": {
            "_model_module": "@jupyter-widgets/base",
            "_model_module_version": "1.2.0",
            "_model_name": "LayoutModel",
            "_view_count": null,
            "_view_module": "@jupyter-widgets/base",
            "_view_module_version": "1.2.0",
            "_view_name": "LayoutView",
            "align_content": null,
            "align_items": null,
            "align_self": null,
            "border": null,
            "bottom": null,
            "display": null,
            "flex": null,
            "flex_flow": null,
            "grid_area": null,
            "grid_auto_columns": null,
            "grid_auto_flow": null,
            "grid_auto_rows": null,
            "grid_column": null,
            "grid_gap": null,
            "grid_row": null,
            "grid_template_areas": null,
            "grid_template_columns": null,
            "grid_template_rows": null,
            "height": null,
            "justify_content": null,
            "justify_items": null,
            "left": null,
            "margin": null,
            "max_height": null,
            "max_width": null,
            "min_height": null,
            "min_width": null,
            "object_fit": null,
            "object_position": null,
            "order": null,
            "overflow": null,
            "overflow_x": null,
            "overflow_y": null,
            "padding": null,
            "right": null,
            "top": null,
            "visibility": null,
            "width": null
          }
        },
        "5fd88e805c8d4128b1d7de4aaeb9cd68": {
          "model_module": "@jupyter-widgets/controls",
          "model_name": "DescriptionStyleModel",
          "model_module_version": "1.5.0",
          "state": {
            "_model_module": "@jupyter-widgets/controls",
            "_model_module_version": "1.5.0",
            "_model_name": "DescriptionStyleModel",
            "_view_count": null,
            "_view_module": "@jupyter-widgets/base",
            "_view_module_version": "1.2.0",
            "_view_name": "StyleView",
            "description_width": ""
          }
        },
        "9213eb61542a424fa5f70a13ed1df425": {
          "model_module": "@jupyter-widgets/base",
          "model_name": "LayoutModel",
          "model_module_version": "1.2.0",
          "state": {
            "_model_module": "@jupyter-widgets/base",
            "_model_module_version": "1.2.0",
            "_model_name": "LayoutModel",
            "_view_count": null,
            "_view_module": "@jupyter-widgets/base",
            "_view_module_version": "1.2.0",
            "_view_name": "LayoutView",
            "align_content": null,
            "align_items": null,
            "align_self": null,
            "border": null,
            "bottom": null,
            "display": null,
            "flex": null,
            "flex_flow": null,
            "grid_area": null,
            "grid_auto_columns": null,
            "grid_auto_flow": null,
            "grid_auto_rows": null,
            "grid_column": null,
            "grid_gap": null,
            "grid_row": null,
            "grid_template_areas": null,
            "grid_template_columns": null,
            "grid_template_rows": null,
            "height": null,
            "justify_content": null,
            "justify_items": null,
            "left": null,
            "margin": null,
            "max_height": null,
            "max_width": null,
            "min_height": null,
            "min_width": null,
            "object_fit": null,
            "object_position": null,
            "order": null,
            "overflow": null,
            "overflow_x": null,
            "overflow_y": null,
            "padding": null,
            "right": null,
            "top": null,
            "visibility": null,
            "width": null
          }
        },
        "bd41576243b2423e95dc9cfb8d92c998": {
          "model_module": "@jupyter-widgets/controls",
          "model_name": "DescriptionStyleModel",
          "model_module_version": "1.5.0",
          "state": {
            "_model_module": "@jupyter-widgets/controls",
            "_model_module_version": "1.5.0",
            "_model_name": "DescriptionStyleModel",
            "_view_count": null,
            "_view_module": "@jupyter-widgets/base",
            "_view_module_version": "1.2.0",
            "_view_name": "StyleView",
            "description_width": ""
          }
        },
        "78269b3a51c84c8fbccc30655ec219ca": {
          "model_module": "@jupyter-widgets/base",
          "model_name": "LayoutModel",
          "model_module_version": "1.2.0",
          "state": {
            "_model_module": "@jupyter-widgets/base",
            "_model_module_version": "1.2.0",
            "_model_name": "LayoutModel",
            "_view_count": null,
            "_view_module": "@jupyter-widgets/base",
            "_view_module_version": "1.2.0",
            "_view_name": "LayoutView",
            "align_content": null,
            "align_items": null,
            "align_self": null,
            "border": null,
            "bottom": null,
            "display": null,
            "flex": null,
            "flex_flow": null,
            "grid_area": null,
            "grid_auto_columns": null,
            "grid_auto_flow": null,
            "grid_auto_rows": null,
            "grid_column": null,
            "grid_gap": null,
            "grid_row": null,
            "grid_template_areas": null,
            "grid_template_columns": null,
            "grid_template_rows": null,
            "height": null,
            "justify_content": null,
            "justify_items": null,
            "left": null,
            "margin": null,
            "max_height": null,
            "max_width": null,
            "min_height": null,
            "min_width": null,
            "object_fit": null,
            "object_position": null,
            "order": null,
            "overflow": null,
            "overflow_x": null,
            "overflow_y": null,
            "padding": null,
            "right": null,
            "top": null,
            "visibility": null,
            "width": null
          }
        },
        "4087b8cb00f542e69c01ff58fa85d342": {
          "model_module": "@jupyter-widgets/controls",
          "model_name": "DescriptionStyleModel",
          "model_module_version": "1.5.0",
          "state": {
            "_model_module": "@jupyter-widgets/controls",
            "_model_module_version": "1.5.0",
            "_model_name": "DescriptionStyleModel",
            "_view_count": null,
            "_view_module": "@jupyter-widgets/base",
            "_view_module_version": "1.2.0",
            "_view_name": "StyleView",
            "description_width": ""
          }
        },
        "19d90e04842849b09dd55ddad721b109": {
          "model_module": "@jupyter-widgets/base",
          "model_name": "LayoutModel",
          "model_module_version": "1.2.0",
          "state": {
            "_model_module": "@jupyter-widgets/base",
            "_model_module_version": "1.2.0",
            "_model_name": "LayoutModel",
            "_view_count": null,
            "_view_module": "@jupyter-widgets/base",
            "_view_module_version": "1.2.0",
            "_view_name": "LayoutView",
            "align_content": null,
            "align_items": null,
            "align_self": null,
            "border": null,
            "bottom": null,
            "display": null,
            "flex": null,
            "flex_flow": null,
            "grid_area": null,
            "grid_auto_columns": null,
            "grid_auto_flow": null,
            "grid_auto_rows": null,
            "grid_column": null,
            "grid_gap": null,
            "grid_row": null,
            "grid_template_areas": null,
            "grid_template_columns": null,
            "grid_template_rows": null,
            "height": null,
            "justify_content": null,
            "justify_items": null,
            "left": null,
            "margin": null,
            "max_height": null,
            "max_width": null,
            "min_height": null,
            "min_width": null,
            "object_fit": null,
            "object_position": null,
            "order": null,
            "overflow": null,
            "overflow_x": null,
            "overflow_y": null,
            "padding": null,
            "right": null,
            "top": null,
            "visibility": null,
            "width": null
          }
        },
        "cf70eb66745f45f29bd9458d86404b90": {
          "model_module": "@jupyter-widgets/controls",
          "model_name": "DescriptionStyleModel",
          "model_module_version": "1.5.0",
          "state": {
            "_model_module": "@jupyter-widgets/controls",
            "_model_module_version": "1.5.0",
            "_model_name": "DescriptionStyleModel",
            "_view_count": null,
            "_view_module": "@jupyter-widgets/base",
            "_view_module_version": "1.2.0",
            "_view_name": "StyleView",
            "description_width": ""
          }
        },
        "6ed474ff0f3a4d9bbedf5799bf4e1229": {
          "model_module": "@jupyter-widgets/base",
          "model_name": "LayoutModel",
          "model_module_version": "1.2.0",
          "state": {
            "_model_module": "@jupyter-widgets/base",
            "_model_module_version": "1.2.0",
            "_model_name": "LayoutModel",
            "_view_count": null,
            "_view_module": "@jupyter-widgets/base",
            "_view_module_version": "1.2.0",
            "_view_name": "LayoutView",
            "align_content": null,
            "align_items": null,
            "align_self": null,
            "border": null,
            "bottom": null,
            "display": null,
            "flex": null,
            "flex_flow": null,
            "grid_area": null,
            "grid_auto_columns": null,
            "grid_auto_flow": null,
            "grid_auto_rows": null,
            "grid_column": null,
            "grid_gap": null,
            "grid_row": null,
            "grid_template_areas": null,
            "grid_template_columns": null,
            "grid_template_rows": null,
            "height": null,
            "justify_content": null,
            "justify_items": null,
            "left": null,
            "margin": null,
            "max_height": null,
            "max_width": null,
            "min_height": null,
            "min_width": null,
            "object_fit": null,
            "object_position": null,
            "order": null,
            "overflow": null,
            "overflow_x": null,
            "overflow_y": null,
            "padding": null,
            "right": null,
            "top": null,
            "visibility": null,
            "width": null
          }
        },
        "47f468fe375d49d9b58afda196841d39": {
          "model_module": "@jupyter-widgets/controls",
          "model_name": "DescriptionStyleModel",
          "model_module_version": "1.5.0",
          "state": {
            "_model_module": "@jupyter-widgets/controls",
            "_model_module_version": "1.5.0",
            "_model_name": "DescriptionStyleModel",
            "_view_count": null,
            "_view_module": "@jupyter-widgets/base",
            "_view_module_version": "1.2.0",
            "_view_name": "StyleView",
            "description_width": ""
          }
        },
        "4d78813defc740a0a1344ef46f736eb8": {
          "model_module": "@jupyter-widgets/base",
          "model_name": "LayoutModel",
          "model_module_version": "1.2.0",
          "state": {
            "_model_module": "@jupyter-widgets/base",
            "_model_module_version": "1.2.0",
            "_model_name": "LayoutModel",
            "_view_count": null,
            "_view_module": "@jupyter-widgets/base",
            "_view_module_version": "1.2.0",
            "_view_name": "LayoutView",
            "align_content": null,
            "align_items": null,
            "align_self": null,
            "border": null,
            "bottom": null,
            "display": null,
            "flex": null,
            "flex_flow": null,
            "grid_area": null,
            "grid_auto_columns": null,
            "grid_auto_flow": null,
            "grid_auto_rows": null,
            "grid_column": null,
            "grid_gap": null,
            "grid_row": null,
            "grid_template_areas": null,
            "grid_template_columns": null,
            "grid_template_rows": null,
            "height": null,
            "justify_content": null,
            "justify_items": null,
            "left": null,
            "margin": null,
            "max_height": null,
            "max_width": null,
            "min_height": null,
            "min_width": null,
            "object_fit": null,
            "object_position": null,
            "order": null,
            "overflow": null,
            "overflow_x": null,
            "overflow_y": null,
            "padding": null,
            "right": null,
            "top": null,
            "visibility": null,
            "width": null
          }
        },
        "8cb772443f2c49f68842fc6ca1437ce4": {
          "model_module": "@jupyter-widgets/controls",
          "model_name": "DescriptionStyleModel",
          "model_module_version": "1.5.0",
          "state": {
            "_model_module": "@jupyter-widgets/controls",
            "_model_module_version": "1.5.0",
            "_model_name": "DescriptionStyleModel",
            "_view_count": null,
            "_view_module": "@jupyter-widgets/base",
            "_view_module_version": "1.2.0",
            "_view_name": "StyleView",
            "description_width": ""
          }
        },
        "261bfbf23e854ea4a4e3d4fe86a4b335": {
          "model_module": "@jupyter-widgets/base",
          "model_name": "LayoutModel",
          "model_module_version": "1.2.0",
          "state": {
            "_model_module": "@jupyter-widgets/base",
            "_model_module_version": "1.2.0",
            "_model_name": "LayoutModel",
            "_view_count": null,
            "_view_module": "@jupyter-widgets/base",
            "_view_module_version": "1.2.0",
            "_view_name": "LayoutView",
            "align_content": null,
            "align_items": null,
            "align_self": null,
            "border": null,
            "bottom": null,
            "display": null,
            "flex": null,
            "flex_flow": null,
            "grid_area": null,
            "grid_auto_columns": null,
            "grid_auto_flow": null,
            "grid_auto_rows": null,
            "grid_column": null,
            "grid_gap": null,
            "grid_row": null,
            "grid_template_areas": null,
            "grid_template_columns": null,
            "grid_template_rows": null,
            "height": null,
            "justify_content": null,
            "justify_items": null,
            "left": null,
            "margin": null,
            "max_height": null,
            "max_width": null,
            "min_height": null,
            "min_width": null,
            "object_fit": null,
            "object_position": null,
            "order": null,
            "overflow": null,
            "overflow_x": null,
            "overflow_y": null,
            "padding": null,
            "right": null,
            "top": null,
            "visibility": null,
            "width": null
          }
        },
        "76e83fd04b5e4ef99986bc10d425d8bd": {
          "model_module": "@jupyter-widgets/controls",
          "model_name": "DescriptionStyleModel",
          "model_module_version": "1.5.0",
          "state": {
            "_model_module": "@jupyter-widgets/controls",
            "_model_module_version": "1.5.0",
            "_model_name": "DescriptionStyleModel",
            "_view_count": null,
            "_view_module": "@jupyter-widgets/base",
            "_view_module_version": "1.2.0",
            "_view_name": "StyleView",
            "description_width": ""
          }
        },
        "6afff487faca43e3a9698f0679a790cc": {
          "model_module": "@jupyter-widgets/base",
          "model_name": "LayoutModel",
          "model_module_version": "1.2.0",
          "state": {
            "_model_module": "@jupyter-widgets/base",
            "_model_module_version": "1.2.0",
            "_model_name": "LayoutModel",
            "_view_count": null,
            "_view_module": "@jupyter-widgets/base",
            "_view_module_version": "1.2.0",
            "_view_name": "LayoutView",
            "align_content": null,
            "align_items": null,
            "align_self": null,
            "border": null,
            "bottom": null,
            "display": null,
            "flex": null,
            "flex_flow": null,
            "grid_area": null,
            "grid_auto_columns": null,
            "grid_auto_flow": null,
            "grid_auto_rows": null,
            "grid_column": null,
            "grid_gap": null,
            "grid_row": null,
            "grid_template_areas": null,
            "grid_template_columns": null,
            "grid_template_rows": null,
            "height": null,
            "justify_content": null,
            "justify_items": null,
            "left": null,
            "margin": null,
            "max_height": null,
            "max_width": null,
            "min_height": null,
            "min_width": null,
            "object_fit": null,
            "object_position": null,
            "order": null,
            "overflow": null,
            "overflow_x": null,
            "overflow_y": null,
            "padding": null,
            "right": null,
            "top": null,
            "visibility": null,
            "width": null
          }
        },
        "062d4e72f5884f0a8894ddba4dab7c28": {
          "model_module": "@jupyter-widgets/controls",
          "model_name": "DescriptionStyleModel",
          "model_module_version": "1.5.0",
          "state": {
            "_model_module": "@jupyter-widgets/controls",
            "_model_module_version": "1.5.0",
            "_model_name": "DescriptionStyleModel",
            "_view_count": null,
            "_view_module": "@jupyter-widgets/base",
            "_view_module_version": "1.2.0",
            "_view_name": "StyleView",
            "description_width": ""
          }
        },
        "ffa25f4f070645b2999d166624971745": {
          "model_module": "@jupyter-widgets/base",
          "model_name": "LayoutModel",
          "model_module_version": "1.2.0",
          "state": {
            "_model_module": "@jupyter-widgets/base",
            "_model_module_version": "1.2.0",
            "_model_name": "LayoutModel",
            "_view_count": null,
            "_view_module": "@jupyter-widgets/base",
            "_view_module_version": "1.2.0",
            "_view_name": "LayoutView",
            "align_content": null,
            "align_items": null,
            "align_self": null,
            "border": null,
            "bottom": null,
            "display": null,
            "flex": null,
            "flex_flow": null,
            "grid_area": null,
            "grid_auto_columns": null,
            "grid_auto_flow": null,
            "grid_auto_rows": null,
            "grid_column": null,
            "grid_gap": null,
            "grid_row": null,
            "grid_template_areas": null,
            "grid_template_columns": null,
            "grid_template_rows": null,
            "height": null,
            "justify_content": null,
            "justify_items": null,
            "left": null,
            "margin": null,
            "max_height": null,
            "max_width": null,
            "min_height": null,
            "min_width": null,
            "object_fit": null,
            "object_position": null,
            "order": null,
            "overflow": null,
            "overflow_x": null,
            "overflow_y": null,
            "padding": null,
            "right": null,
            "top": null,
            "visibility": null,
            "width": null
          }
        },
        "05db11f363f5461badcc109e0bd385d6": {
          "model_module": "@jupyter-widgets/controls",
          "model_name": "DescriptionStyleModel",
          "model_module_version": "1.5.0",
          "state": {
            "_model_module": "@jupyter-widgets/controls",
            "_model_module_version": "1.5.0",
            "_model_name": "DescriptionStyleModel",
            "_view_count": null,
            "_view_module": "@jupyter-widgets/base",
            "_view_module_version": "1.2.0",
            "_view_name": "StyleView",
            "description_width": ""
          }
        },
        "d227d9f7fbf241ffa48e0116b7660583": {
          "model_module": "@jupyter-widgets/base",
          "model_name": "LayoutModel",
          "model_module_version": "1.2.0",
          "state": {
            "_model_module": "@jupyter-widgets/base",
            "_model_module_version": "1.2.0",
            "_model_name": "LayoutModel",
            "_view_count": null,
            "_view_module": "@jupyter-widgets/base",
            "_view_module_version": "1.2.0",
            "_view_name": "LayoutView",
            "align_content": null,
            "align_items": null,
            "align_self": null,
            "border": null,
            "bottom": null,
            "display": null,
            "flex": null,
            "flex_flow": null,
            "grid_area": null,
            "grid_auto_columns": null,
            "grid_auto_flow": null,
            "grid_auto_rows": null,
            "grid_column": null,
            "grid_gap": null,
            "grid_row": null,
            "grid_template_areas": null,
            "grid_template_columns": null,
            "grid_template_rows": null,
            "height": null,
            "justify_content": null,
            "justify_items": null,
            "left": null,
            "margin": null,
            "max_height": null,
            "max_width": null,
            "min_height": null,
            "min_width": null,
            "object_fit": null,
            "object_position": null,
            "order": null,
            "overflow": null,
            "overflow_x": null,
            "overflow_y": null,
            "padding": null,
            "right": null,
            "top": null,
            "visibility": null,
            "width": null
          }
        },
        "f9dbb3e081cc406182689ded36f0ca28": {
          "model_module": "@jupyter-widgets/controls",
          "model_name": "DescriptionStyleModel",
          "model_module_version": "1.5.0",
          "state": {
            "_model_module": "@jupyter-widgets/controls",
            "_model_module_version": "1.5.0",
            "_model_name": "DescriptionStyleModel",
            "_view_count": null,
            "_view_module": "@jupyter-widgets/base",
            "_view_module_version": "1.2.0",
            "_view_name": "StyleView",
            "description_width": ""
          }
        },
        "ba2f8a025740467fb56a27849dce2ff8": {
          "model_module": "@jupyter-widgets/base",
          "model_name": "LayoutModel",
          "model_module_version": "1.2.0",
          "state": {
            "_model_module": "@jupyter-widgets/base",
            "_model_module_version": "1.2.0",
            "_model_name": "LayoutModel",
            "_view_count": null,
            "_view_module": "@jupyter-widgets/base",
            "_view_module_version": "1.2.0",
            "_view_name": "LayoutView",
            "align_content": null,
            "align_items": null,
            "align_self": null,
            "border": null,
            "bottom": null,
            "display": null,
            "flex": null,
            "flex_flow": null,
            "grid_area": null,
            "grid_auto_columns": null,
            "grid_auto_flow": null,
            "grid_auto_rows": null,
            "grid_column": null,
            "grid_gap": null,
            "grid_row": null,
            "grid_template_areas": null,
            "grid_template_columns": null,
            "grid_template_rows": null,
            "height": null,
            "justify_content": null,
            "justify_items": null,
            "left": null,
            "margin": null,
            "max_height": null,
            "max_width": null,
            "min_height": null,
            "min_width": null,
            "object_fit": null,
            "object_position": null,
            "order": null,
            "overflow": null,
            "overflow_x": null,
            "overflow_y": null,
            "padding": null,
            "right": null,
            "top": null,
            "visibility": null,
            "width": null
          }
        },
        "3b99dac683ef46b1b7659bbb28224349": {
          "model_module": "@jupyter-widgets/controls",
          "model_name": "DescriptionStyleModel",
          "model_module_version": "1.5.0",
          "state": {
            "_model_module": "@jupyter-widgets/controls",
            "_model_module_version": "1.5.0",
            "_model_name": "DescriptionStyleModel",
            "_view_count": null,
            "_view_module": "@jupyter-widgets/base",
            "_view_module_version": "1.2.0",
            "_view_name": "StyleView",
            "description_width": ""
          }
        },
        "a3bccf6a7129487b97aede1d4d4c6d34": {
          "model_module": "@jupyter-widgets/base",
          "model_name": "LayoutModel",
          "model_module_version": "1.2.0",
          "state": {
            "_model_module": "@jupyter-widgets/base",
            "_model_module_version": "1.2.0",
            "_model_name": "LayoutModel",
            "_view_count": null,
            "_view_module": "@jupyter-widgets/base",
            "_view_module_version": "1.2.0",
            "_view_name": "LayoutView",
            "align_content": null,
            "align_items": null,
            "align_self": null,
            "border": null,
            "bottom": null,
            "display": null,
            "flex": null,
            "flex_flow": null,
            "grid_area": null,
            "grid_auto_columns": null,
            "grid_auto_flow": null,
            "grid_auto_rows": null,
            "grid_column": null,
            "grid_gap": null,
            "grid_row": null,
            "grid_template_areas": null,
            "grid_template_columns": null,
            "grid_template_rows": null,
            "height": null,
            "justify_content": null,
            "justify_items": null,
            "left": null,
            "margin": null,
            "max_height": null,
            "max_width": null,
            "min_height": null,
            "min_width": null,
            "object_fit": null,
            "object_position": null,
            "order": null,
            "overflow": null,
            "overflow_x": null,
            "overflow_y": null,
            "padding": null,
            "right": null,
            "top": null,
            "visibility": null,
            "width": null
          }
        },
        "6785444cd36a43308cf0c57642bfd3ec": {
          "model_module": "@jupyter-widgets/controls",
          "model_name": "DescriptionStyleModel",
          "model_module_version": "1.5.0",
          "state": {
            "_model_module": "@jupyter-widgets/controls",
            "_model_module_version": "1.5.0",
            "_model_name": "DescriptionStyleModel",
            "_view_count": null,
            "_view_module": "@jupyter-widgets/base",
            "_view_module_version": "1.2.0",
            "_view_name": "StyleView",
            "description_width": ""
          }
        },
        "435690f0befb4ab7852237ac7e009fe4": {
          "model_module": "@jupyter-widgets/base",
          "model_name": "LayoutModel",
          "model_module_version": "1.2.0",
          "state": {
            "_model_module": "@jupyter-widgets/base",
            "_model_module_version": "1.2.0",
            "_model_name": "LayoutModel",
            "_view_count": null,
            "_view_module": "@jupyter-widgets/base",
            "_view_module_version": "1.2.0",
            "_view_name": "LayoutView",
            "align_content": null,
            "align_items": null,
            "align_self": null,
            "border": null,
            "bottom": null,
            "display": null,
            "flex": null,
            "flex_flow": null,
            "grid_area": null,
            "grid_auto_columns": null,
            "grid_auto_flow": null,
            "grid_auto_rows": null,
            "grid_column": null,
            "grid_gap": null,
            "grid_row": null,
            "grid_template_areas": null,
            "grid_template_columns": null,
            "grid_template_rows": null,
            "height": null,
            "justify_content": null,
            "justify_items": null,
            "left": null,
            "margin": null,
            "max_height": null,
            "max_width": null,
            "min_height": null,
            "min_width": null,
            "object_fit": null,
            "object_position": null,
            "order": null,
            "overflow": null,
            "overflow_x": null,
            "overflow_y": null,
            "padding": null,
            "right": null,
            "top": null,
            "visibility": null,
            "width": null
          }
        },
        "405e97289e164f19b9c1652b98be5a36": {
          "model_module": "@jupyter-widgets/controls",
          "model_name": "DescriptionStyleModel",
          "model_module_version": "1.5.0",
          "state": {
            "_model_module": "@jupyter-widgets/controls",
            "_model_module_version": "1.5.0",
            "_model_name": "DescriptionStyleModel",
            "_view_count": null,
            "_view_module": "@jupyter-widgets/base",
            "_view_module_version": "1.2.0",
            "_view_name": "StyleView",
            "description_width": ""
          }
        },
        "b92e27388b0a4d3eb85fc7cdbad4c2ef": {
          "model_module": "@jupyter-widgets/base",
          "model_name": "LayoutModel",
          "model_module_version": "1.2.0",
          "state": {
            "_model_module": "@jupyter-widgets/base",
            "_model_module_version": "1.2.0",
            "_model_name": "LayoutModel",
            "_view_count": null,
            "_view_module": "@jupyter-widgets/base",
            "_view_module_version": "1.2.0",
            "_view_name": "LayoutView",
            "align_content": null,
            "align_items": null,
            "align_self": null,
            "border": null,
            "bottom": null,
            "display": null,
            "flex": null,
            "flex_flow": null,
            "grid_area": null,
            "grid_auto_columns": null,
            "grid_auto_flow": null,
            "grid_auto_rows": null,
            "grid_column": null,
            "grid_gap": null,
            "grid_row": null,
            "grid_template_areas": null,
            "grid_template_columns": null,
            "grid_template_rows": null,
            "height": null,
            "justify_content": null,
            "justify_items": null,
            "left": null,
            "margin": null,
            "max_height": null,
            "max_width": null,
            "min_height": null,
            "min_width": null,
            "object_fit": null,
            "object_position": null,
            "order": null,
            "overflow": null,
            "overflow_x": null,
            "overflow_y": null,
            "padding": null,
            "right": null,
            "top": null,
            "visibility": null,
            "width": null
          }
        },
        "122080396e5b4a018814e5e8a33be3c8": {
          "model_module": "@jupyter-widgets/controls",
          "model_name": "DescriptionStyleModel",
          "model_module_version": "1.5.0",
          "state": {
            "_model_module": "@jupyter-widgets/controls",
            "_model_module_version": "1.5.0",
            "_model_name": "DescriptionStyleModel",
            "_view_count": null,
            "_view_module": "@jupyter-widgets/base",
            "_view_module_version": "1.2.0",
            "_view_name": "StyleView",
            "description_width": ""
          }
        },
        "9c8d9cbdcd9e4ca3b4743fe0e78a990d": {
          "model_module": "@jupyter-widgets/base",
          "model_name": "LayoutModel",
          "model_module_version": "1.2.0",
          "state": {
            "_model_module": "@jupyter-widgets/base",
            "_model_module_version": "1.2.0",
            "_model_name": "LayoutModel",
            "_view_count": null,
            "_view_module": "@jupyter-widgets/base",
            "_view_module_version": "1.2.0",
            "_view_name": "LayoutView",
            "align_content": null,
            "align_items": null,
            "align_self": null,
            "border": null,
            "bottom": null,
            "display": null,
            "flex": null,
            "flex_flow": null,
            "grid_area": null,
            "grid_auto_columns": null,
            "grid_auto_flow": null,
            "grid_auto_rows": null,
            "grid_column": null,
            "grid_gap": null,
            "grid_row": null,
            "grid_template_areas": null,
            "grid_template_columns": null,
            "grid_template_rows": null,
            "height": null,
            "justify_content": null,
            "justify_items": null,
            "left": null,
            "margin": null,
            "max_height": null,
            "max_width": null,
            "min_height": null,
            "min_width": null,
            "object_fit": null,
            "object_position": null,
            "order": null,
            "overflow": null,
            "overflow_x": null,
            "overflow_y": null,
            "padding": null,
            "right": null,
            "top": null,
            "visibility": null,
            "width": null
          }
        },
        "90a86edac0ea43909648430399c95f40": {
          "model_module": "@jupyter-widgets/controls",
          "model_name": "DescriptionStyleModel",
          "model_module_version": "1.5.0",
          "state": {
            "_model_module": "@jupyter-widgets/controls",
            "_model_module_version": "1.5.0",
            "_model_name": "DescriptionStyleModel",
            "_view_count": null,
            "_view_module": "@jupyter-widgets/base",
            "_view_module_version": "1.2.0",
            "_view_name": "StyleView",
            "description_width": ""
          }
        },
        "803da058a1b5459f88ccc81efa9f599d": {
          "model_module": "@jupyter-widgets/base",
          "model_name": "LayoutModel",
          "model_module_version": "1.2.0",
          "state": {
            "_model_module": "@jupyter-widgets/base",
            "_model_module_version": "1.2.0",
            "_model_name": "LayoutModel",
            "_view_count": null,
            "_view_module": "@jupyter-widgets/base",
            "_view_module_version": "1.2.0",
            "_view_name": "LayoutView",
            "align_content": null,
            "align_items": null,
            "align_self": null,
            "border": null,
            "bottom": null,
            "display": null,
            "flex": null,
            "flex_flow": null,
            "grid_area": null,
            "grid_auto_columns": null,
            "grid_auto_flow": null,
            "grid_auto_rows": null,
            "grid_column": null,
            "grid_gap": null,
            "grid_row": null,
            "grid_template_areas": null,
            "grid_template_columns": null,
            "grid_template_rows": null,
            "height": null,
            "justify_content": null,
            "justify_items": null,
            "left": null,
            "margin": null,
            "max_height": null,
            "max_width": null,
            "min_height": null,
            "min_width": null,
            "object_fit": null,
            "object_position": null,
            "order": null,
            "overflow": null,
            "overflow_x": null,
            "overflow_y": null,
            "padding": null,
            "right": null,
            "top": null,
            "visibility": null,
            "width": null
          }
        },
        "779fc0d97498422996d7ecb39be9cda8": {
          "model_module": "@jupyter-widgets/controls",
          "model_name": "DescriptionStyleModel",
          "model_module_version": "1.5.0",
          "state": {
            "_model_module": "@jupyter-widgets/controls",
            "_model_module_version": "1.5.0",
            "_model_name": "DescriptionStyleModel",
            "_view_count": null,
            "_view_module": "@jupyter-widgets/base",
            "_view_module_version": "1.2.0",
            "_view_name": "StyleView",
            "description_width": ""
          }
        },
        "af1e79698ad84d4ba0b4c199b10ac7fe": {
          "model_module": "@jupyter-widgets/base",
          "model_name": "LayoutModel",
          "model_module_version": "1.2.0",
          "state": {
            "_model_module": "@jupyter-widgets/base",
            "_model_module_version": "1.2.0",
            "_model_name": "LayoutModel",
            "_view_count": null,
            "_view_module": "@jupyter-widgets/base",
            "_view_module_version": "1.2.0",
            "_view_name": "LayoutView",
            "align_content": null,
            "align_items": null,
            "align_self": null,
            "border": null,
            "bottom": null,
            "display": null,
            "flex": null,
            "flex_flow": null,
            "grid_area": null,
            "grid_auto_columns": null,
            "grid_auto_flow": null,
            "grid_auto_rows": null,
            "grid_column": null,
            "grid_gap": null,
            "grid_row": null,
            "grid_template_areas": null,
            "grid_template_columns": null,
            "grid_template_rows": null,
            "height": null,
            "justify_content": null,
            "justify_items": null,
            "left": null,
            "margin": null,
            "max_height": null,
            "max_width": null,
            "min_height": null,
            "min_width": null,
            "object_fit": null,
            "object_position": null,
            "order": null,
            "overflow": null,
            "overflow_x": null,
            "overflow_y": null,
            "padding": null,
            "right": null,
            "top": null,
            "visibility": null,
            "width": null
          }
        },
        "a3f5f14ca04941329d61f0e89db98b59": {
          "model_module": "@jupyter-widgets/controls",
          "model_name": "DescriptionStyleModel",
          "model_module_version": "1.5.0",
          "state": {
            "_model_module": "@jupyter-widgets/controls",
            "_model_module_version": "1.5.0",
            "_model_name": "DescriptionStyleModel",
            "_view_count": null,
            "_view_module": "@jupyter-widgets/base",
            "_view_module_version": "1.2.0",
            "_view_name": "StyleView",
            "description_width": ""
          }
        },
        "f8c4f8312c474c88b83e82f9818f3915": {
          "model_module": "@jupyter-widgets/base",
          "model_name": "LayoutModel",
          "model_module_version": "1.2.0",
          "state": {
            "_model_module": "@jupyter-widgets/base",
            "_model_module_version": "1.2.0",
            "_model_name": "LayoutModel",
            "_view_count": null,
            "_view_module": "@jupyter-widgets/base",
            "_view_module_version": "1.2.0",
            "_view_name": "LayoutView",
            "align_content": null,
            "align_items": null,
            "align_self": null,
            "border": null,
            "bottom": null,
            "display": null,
            "flex": null,
            "flex_flow": null,
            "grid_area": null,
            "grid_auto_columns": null,
            "grid_auto_flow": null,
            "grid_auto_rows": null,
            "grid_column": null,
            "grid_gap": null,
            "grid_row": null,
            "grid_template_areas": null,
            "grid_template_columns": null,
            "grid_template_rows": null,
            "height": null,
            "justify_content": null,
            "justify_items": null,
            "left": null,
            "margin": null,
            "max_height": null,
            "max_width": null,
            "min_height": null,
            "min_width": null,
            "object_fit": null,
            "object_position": null,
            "order": null,
            "overflow": null,
            "overflow_x": null,
            "overflow_y": null,
            "padding": null,
            "right": null,
            "top": null,
            "visibility": null,
            "width": null
          }
        },
        "b6e18d4df75d442bb38c1eabe9f0946c": {
          "model_module": "@jupyter-widgets/controls",
          "model_name": "DescriptionStyleModel",
          "model_module_version": "1.5.0",
          "state": {
            "_model_module": "@jupyter-widgets/controls",
            "_model_module_version": "1.5.0",
            "_model_name": "DescriptionStyleModel",
            "_view_count": null,
            "_view_module": "@jupyter-widgets/base",
            "_view_module_version": "1.2.0",
            "_view_name": "StyleView",
            "description_width": ""
          }
        },
        "a5ca096ff5654c3fa29f2c480776d31a": {
          "model_module": "@jupyter-widgets/base",
          "model_name": "LayoutModel",
          "model_module_version": "1.2.0",
          "state": {
            "_model_module": "@jupyter-widgets/base",
            "_model_module_version": "1.2.0",
            "_model_name": "LayoutModel",
            "_view_count": null,
            "_view_module": "@jupyter-widgets/base",
            "_view_module_version": "1.2.0",
            "_view_name": "LayoutView",
            "align_content": null,
            "align_items": null,
            "align_self": null,
            "border": null,
            "bottom": null,
            "display": null,
            "flex": null,
            "flex_flow": null,
            "grid_area": null,
            "grid_auto_columns": null,
            "grid_auto_flow": null,
            "grid_auto_rows": null,
            "grid_column": null,
            "grid_gap": null,
            "grid_row": null,
            "grid_template_areas": null,
            "grid_template_columns": null,
            "grid_template_rows": null,
            "height": null,
            "justify_content": null,
            "justify_items": null,
            "left": null,
            "margin": null,
            "max_height": null,
            "max_width": null,
            "min_height": null,
            "min_width": null,
            "object_fit": null,
            "object_position": null,
            "order": null,
            "overflow": null,
            "overflow_x": null,
            "overflow_y": null,
            "padding": null,
            "right": null,
            "top": null,
            "visibility": null,
            "width": null
          }
        },
        "3639fbf1bd614178a3e35ac4e39f573b": {
          "model_module": "@jupyter-widgets/controls",
          "model_name": "DescriptionStyleModel",
          "model_module_version": "1.5.0",
          "state": {
            "_model_module": "@jupyter-widgets/controls",
            "_model_module_version": "1.5.0",
            "_model_name": "DescriptionStyleModel",
            "_view_count": null,
            "_view_module": "@jupyter-widgets/base",
            "_view_module_version": "1.2.0",
            "_view_name": "StyleView",
            "description_width": ""
          }
        },
        "6ef8801226554154ae078d091dc22637": {
          "model_module": "@jupyter-widgets/base",
          "model_name": "LayoutModel",
          "model_module_version": "1.2.0",
          "state": {
            "_model_module": "@jupyter-widgets/base",
            "_model_module_version": "1.2.0",
            "_model_name": "LayoutModel",
            "_view_count": null,
            "_view_module": "@jupyter-widgets/base",
            "_view_module_version": "1.2.0",
            "_view_name": "LayoutView",
            "align_content": null,
            "align_items": null,
            "align_self": null,
            "border": null,
            "bottom": null,
            "display": null,
            "flex": null,
            "flex_flow": null,
            "grid_area": null,
            "grid_auto_columns": null,
            "grid_auto_flow": null,
            "grid_auto_rows": null,
            "grid_column": null,
            "grid_gap": null,
            "grid_row": null,
            "grid_template_areas": null,
            "grid_template_columns": null,
            "grid_template_rows": null,
            "height": null,
            "justify_content": null,
            "justify_items": null,
            "left": null,
            "margin": null,
            "max_height": null,
            "max_width": null,
            "min_height": null,
            "min_width": null,
            "object_fit": null,
            "object_position": null,
            "order": null,
            "overflow": null,
            "overflow_x": null,
            "overflow_y": null,
            "padding": null,
            "right": null,
            "top": null,
            "visibility": null,
            "width": null
          }
        },
        "5618dec909774bf8a92deae94bb8d7b7": {
          "model_module": "@jupyter-widgets/controls",
          "model_name": "DescriptionStyleModel",
          "model_module_version": "1.5.0",
          "state": {
            "_model_module": "@jupyter-widgets/controls",
            "_model_module_version": "1.5.0",
            "_model_name": "DescriptionStyleModel",
            "_view_count": null,
            "_view_module": "@jupyter-widgets/base",
            "_view_module_version": "1.2.0",
            "_view_name": "StyleView",
            "description_width": ""
          }
        },
        "46a913c47cf540b9869af59045c2f1a4": {
          "model_module": "@jupyter-widgets/base",
          "model_name": "LayoutModel",
          "model_module_version": "1.2.0",
          "state": {
            "_model_module": "@jupyter-widgets/base",
            "_model_module_version": "1.2.0",
            "_model_name": "LayoutModel",
            "_view_count": null,
            "_view_module": "@jupyter-widgets/base",
            "_view_module_version": "1.2.0",
            "_view_name": "LayoutView",
            "align_content": null,
            "align_items": null,
            "align_self": null,
            "border": null,
            "bottom": null,
            "display": null,
            "flex": null,
            "flex_flow": null,
            "grid_area": null,
            "grid_auto_columns": null,
            "grid_auto_flow": null,
            "grid_auto_rows": null,
            "grid_column": null,
            "grid_gap": null,
            "grid_row": null,
            "grid_template_areas": null,
            "grid_template_columns": null,
            "grid_template_rows": null,
            "height": null,
            "justify_content": null,
            "justify_items": null,
            "left": null,
            "margin": null,
            "max_height": null,
            "max_width": null,
            "min_height": null,
            "min_width": null,
            "object_fit": null,
            "object_position": null,
            "order": null,
            "overflow": null,
            "overflow_x": null,
            "overflow_y": null,
            "padding": null,
            "right": null,
            "top": null,
            "visibility": null,
            "width": null
          }
        },
        "5dd314adb59b4d908080f7c21203f3ee": {
          "model_module": "@jupyter-widgets/controls",
          "model_name": "DescriptionStyleModel",
          "model_module_version": "1.5.0",
          "state": {
            "_model_module": "@jupyter-widgets/controls",
            "_model_module_version": "1.5.0",
            "_model_name": "DescriptionStyleModel",
            "_view_count": null,
            "_view_module": "@jupyter-widgets/base",
            "_view_module_version": "1.2.0",
            "_view_name": "StyleView",
            "description_width": ""
          }
        },
        "74660ec4b2c647518eed11f5c43344eb": {
          "model_module": "@jupyter-widgets/base",
          "model_name": "LayoutModel",
          "model_module_version": "1.2.0",
          "state": {
            "_model_module": "@jupyter-widgets/base",
            "_model_module_version": "1.2.0",
            "_model_name": "LayoutModel",
            "_view_count": null,
            "_view_module": "@jupyter-widgets/base",
            "_view_module_version": "1.2.0",
            "_view_name": "LayoutView",
            "align_content": null,
            "align_items": null,
            "align_self": null,
            "border": null,
            "bottom": null,
            "display": null,
            "flex": null,
            "flex_flow": null,
            "grid_area": null,
            "grid_auto_columns": null,
            "grid_auto_flow": null,
            "grid_auto_rows": null,
            "grid_column": null,
            "grid_gap": null,
            "grid_row": null,
            "grid_template_areas": null,
            "grid_template_columns": null,
            "grid_template_rows": null,
            "height": null,
            "justify_content": null,
            "justify_items": null,
            "left": null,
            "margin": null,
            "max_height": null,
            "max_width": null,
            "min_height": null,
            "min_width": null,
            "object_fit": null,
            "object_position": null,
            "order": null,
            "overflow": null,
            "overflow_x": null,
            "overflow_y": null,
            "padding": null,
            "right": null,
            "top": null,
            "visibility": null,
            "width": null
          }
        },
        "3a41c804f6d443eb8018a3eec21a0aa9": {
          "model_module": "@jupyter-widgets/controls",
          "model_name": "DescriptionStyleModel",
          "model_module_version": "1.5.0",
          "state": {
            "_model_module": "@jupyter-widgets/controls",
            "_model_module_version": "1.5.0",
            "_model_name": "DescriptionStyleModel",
            "_view_count": null,
            "_view_module": "@jupyter-widgets/base",
            "_view_module_version": "1.2.0",
            "_view_name": "StyleView",
            "description_width": ""
          }
        },
        "b21730bf360641519e5121d1fe374b0f": {
          "model_module": "@jupyter-widgets/base",
          "model_name": "LayoutModel",
          "model_module_version": "1.2.0",
          "state": {
            "_model_module": "@jupyter-widgets/base",
            "_model_module_version": "1.2.0",
            "_model_name": "LayoutModel",
            "_view_count": null,
            "_view_module": "@jupyter-widgets/base",
            "_view_module_version": "1.2.0",
            "_view_name": "LayoutView",
            "align_content": null,
            "align_items": null,
            "align_self": null,
            "border": null,
            "bottom": null,
            "display": null,
            "flex": null,
            "flex_flow": null,
            "grid_area": null,
            "grid_auto_columns": null,
            "grid_auto_flow": null,
            "grid_auto_rows": null,
            "grid_column": null,
            "grid_gap": null,
            "grid_row": null,
            "grid_template_areas": null,
            "grid_template_columns": null,
            "grid_template_rows": null,
            "height": null,
            "justify_content": null,
            "justify_items": null,
            "left": null,
            "margin": null,
            "max_height": null,
            "max_width": null,
            "min_height": null,
            "min_width": null,
            "object_fit": null,
            "object_position": null,
            "order": null,
            "overflow": null,
            "overflow_x": null,
            "overflow_y": null,
            "padding": null,
            "right": null,
            "top": null,
            "visibility": null,
            "width": null
          }
        },
        "2b187e7f84984f259c7dc57f7b924775": {
          "model_module": "@jupyter-widgets/controls",
          "model_name": "DescriptionStyleModel",
          "model_module_version": "1.5.0",
          "state": {
            "_model_module": "@jupyter-widgets/controls",
            "_model_module_version": "1.5.0",
            "_model_name": "DescriptionStyleModel",
            "_view_count": null,
            "_view_module": "@jupyter-widgets/base",
            "_view_module_version": "1.2.0",
            "_view_name": "StyleView",
            "description_width": ""
          }
        },
        "139554577fc94e3280e43561d0d685cf": {
          "model_module": "@jupyter-widgets/base",
          "model_name": "LayoutModel",
          "model_module_version": "1.2.0",
          "state": {
            "_model_module": "@jupyter-widgets/base",
            "_model_module_version": "1.2.0",
            "_model_name": "LayoutModel",
            "_view_count": null,
            "_view_module": "@jupyter-widgets/base",
            "_view_module_version": "1.2.0",
            "_view_name": "LayoutView",
            "align_content": null,
            "align_items": null,
            "align_self": null,
            "border": null,
            "bottom": null,
            "display": null,
            "flex": null,
            "flex_flow": null,
            "grid_area": null,
            "grid_auto_columns": null,
            "grid_auto_flow": null,
            "grid_auto_rows": null,
            "grid_column": null,
            "grid_gap": null,
            "grid_row": null,
            "grid_template_areas": null,
            "grid_template_columns": null,
            "grid_template_rows": null,
            "height": null,
            "justify_content": null,
            "justify_items": null,
            "left": null,
            "margin": null,
            "max_height": null,
            "max_width": null,
            "min_height": null,
            "min_width": null,
            "object_fit": null,
            "object_position": null,
            "order": null,
            "overflow": null,
            "overflow_x": null,
            "overflow_y": null,
            "padding": null,
            "right": null,
            "top": null,
            "visibility": null,
            "width": null
          }
        },
        "bf1646cfd07e4c688b9796699585ca93": {
          "model_module": "@jupyter-widgets/controls",
          "model_name": "DescriptionStyleModel",
          "model_module_version": "1.5.0",
          "state": {
            "_model_module": "@jupyter-widgets/controls",
            "_model_module_version": "1.5.0",
            "_model_name": "DescriptionStyleModel",
            "_view_count": null,
            "_view_module": "@jupyter-widgets/base",
            "_view_module_version": "1.2.0",
            "_view_name": "StyleView",
            "description_width": ""
          }
        },
        "aefcd75519724582b513a42319a4ed50": {
          "model_module": "@jupyter-widgets/base",
          "model_name": "LayoutModel",
          "model_module_version": "1.2.0",
          "state": {
            "_model_module": "@jupyter-widgets/base",
            "_model_module_version": "1.2.0",
            "_model_name": "LayoutModel",
            "_view_count": null,
            "_view_module": "@jupyter-widgets/base",
            "_view_module_version": "1.2.0",
            "_view_name": "LayoutView",
            "align_content": null,
            "align_items": null,
            "align_self": null,
            "border": null,
            "bottom": null,
            "display": null,
            "flex": null,
            "flex_flow": null,
            "grid_area": null,
            "grid_auto_columns": null,
            "grid_auto_flow": null,
            "grid_auto_rows": null,
            "grid_column": null,
            "grid_gap": null,
            "grid_row": null,
            "grid_template_areas": null,
            "grid_template_columns": null,
            "grid_template_rows": null,
            "height": null,
            "justify_content": null,
            "justify_items": null,
            "left": null,
            "margin": null,
            "max_height": null,
            "max_width": null,
            "min_height": null,
            "min_width": null,
            "object_fit": null,
            "object_position": null,
            "order": null,
            "overflow": null,
            "overflow_x": null,
            "overflow_y": null,
            "padding": null,
            "right": null,
            "top": null,
            "visibility": null,
            "width": null
          }
        },
        "39069c2d1fab47169543b8af954e8445": {
          "model_module": "@jupyter-widgets/controls",
          "model_name": "DescriptionStyleModel",
          "model_module_version": "1.5.0",
          "state": {
            "_model_module": "@jupyter-widgets/controls",
            "_model_module_version": "1.5.0",
            "_model_name": "DescriptionStyleModel",
            "_view_count": null,
            "_view_module": "@jupyter-widgets/base",
            "_view_module_version": "1.2.0",
            "_view_name": "StyleView",
            "description_width": ""
          }
        },
        "65beda2498734e9cb1144ede2490834a": {
          "model_module": "@jupyter-widgets/base",
          "model_name": "LayoutModel",
          "model_module_version": "1.2.0",
          "state": {
            "_model_module": "@jupyter-widgets/base",
            "_model_module_version": "1.2.0",
            "_model_name": "LayoutModel",
            "_view_count": null,
            "_view_module": "@jupyter-widgets/base",
            "_view_module_version": "1.2.0",
            "_view_name": "LayoutView",
            "align_content": null,
            "align_items": null,
            "align_self": null,
            "border": null,
            "bottom": null,
            "display": null,
            "flex": null,
            "flex_flow": null,
            "grid_area": null,
            "grid_auto_columns": null,
            "grid_auto_flow": null,
            "grid_auto_rows": null,
            "grid_column": null,
            "grid_gap": null,
            "grid_row": null,
            "grid_template_areas": null,
            "grid_template_columns": null,
            "grid_template_rows": null,
            "height": null,
            "justify_content": null,
            "justify_items": null,
            "left": null,
            "margin": null,
            "max_height": null,
            "max_width": null,
            "min_height": null,
            "min_width": null,
            "object_fit": null,
            "object_position": null,
            "order": null,
            "overflow": null,
            "overflow_x": null,
            "overflow_y": null,
            "padding": null,
            "right": null,
            "top": null,
            "visibility": null,
            "width": null
          }
        },
        "9a37771034d343e980e9654e4c7191c0": {
          "model_module": "@jupyter-widgets/controls",
          "model_name": "DescriptionStyleModel",
          "model_module_version": "1.5.0",
          "state": {
            "_model_module": "@jupyter-widgets/controls",
            "_model_module_version": "1.5.0",
            "_model_name": "DescriptionStyleModel",
            "_view_count": null,
            "_view_module": "@jupyter-widgets/base",
            "_view_module_version": "1.2.0",
            "_view_name": "StyleView",
            "description_width": ""
          }
        },
        "3fafc09e6cac4d6dbecc9d212699817e": {
          "model_module": "@jupyter-widgets/base",
          "model_name": "LayoutModel",
          "model_module_version": "1.2.0",
          "state": {
            "_model_module": "@jupyter-widgets/base",
            "_model_module_version": "1.2.0",
            "_model_name": "LayoutModel",
            "_view_count": null,
            "_view_module": "@jupyter-widgets/base",
            "_view_module_version": "1.2.0",
            "_view_name": "LayoutView",
            "align_content": null,
            "align_items": null,
            "align_self": null,
            "border": null,
            "bottom": null,
            "display": null,
            "flex": null,
            "flex_flow": null,
            "grid_area": null,
            "grid_auto_columns": null,
            "grid_auto_flow": null,
            "grid_auto_rows": null,
            "grid_column": null,
            "grid_gap": null,
            "grid_row": null,
            "grid_template_areas": null,
            "grid_template_columns": null,
            "grid_template_rows": null,
            "height": null,
            "justify_content": null,
            "justify_items": null,
            "left": null,
            "margin": null,
            "max_height": null,
            "max_width": null,
            "min_height": null,
            "min_width": null,
            "object_fit": null,
            "object_position": null,
            "order": null,
            "overflow": null,
            "overflow_x": null,
            "overflow_y": null,
            "padding": null,
            "right": null,
            "top": null,
            "visibility": null,
            "width": null
          }
        },
        "15ce8956cd5e49ef9e97afe415eb7063": {
          "model_module": "@jupyter-widgets/controls",
          "model_name": "DescriptionStyleModel",
          "model_module_version": "1.5.0",
          "state": {
            "_model_module": "@jupyter-widgets/controls",
            "_model_module_version": "1.5.0",
            "_model_name": "DescriptionStyleModel",
            "_view_count": null,
            "_view_module": "@jupyter-widgets/base",
            "_view_module_version": "1.2.0",
            "_view_name": "StyleView",
            "description_width": ""
          }
        },
        "30ac2e3eaf944d66b37067e0bd8a89d4": {
          "model_module": "@jupyter-widgets/base",
          "model_name": "LayoutModel",
          "model_module_version": "1.2.0",
          "state": {
            "_model_module": "@jupyter-widgets/base",
            "_model_module_version": "1.2.0",
            "_model_name": "LayoutModel",
            "_view_count": null,
            "_view_module": "@jupyter-widgets/base",
            "_view_module_version": "1.2.0",
            "_view_name": "LayoutView",
            "align_content": null,
            "align_items": null,
            "align_self": null,
            "border": null,
            "bottom": null,
            "display": null,
            "flex": null,
            "flex_flow": null,
            "grid_area": null,
            "grid_auto_columns": null,
            "grid_auto_flow": null,
            "grid_auto_rows": null,
            "grid_column": null,
            "grid_gap": null,
            "grid_row": null,
            "grid_template_areas": null,
            "grid_template_columns": null,
            "grid_template_rows": null,
            "height": null,
            "justify_content": null,
            "justify_items": null,
            "left": null,
            "margin": null,
            "max_height": null,
            "max_width": null,
            "min_height": null,
            "min_width": null,
            "object_fit": null,
            "object_position": null,
            "order": null,
            "overflow": null,
            "overflow_x": null,
            "overflow_y": null,
            "padding": null,
            "right": null,
            "top": null,
            "visibility": null,
            "width": null
          }
        },
        "5658414b196f4196a7ed3acb248d0873": {
          "model_module": "@jupyter-widgets/controls",
          "model_name": "DescriptionStyleModel",
          "model_module_version": "1.5.0",
          "state": {
            "_model_module": "@jupyter-widgets/controls",
            "_model_module_version": "1.5.0",
            "_model_name": "DescriptionStyleModel",
            "_view_count": null,
            "_view_module": "@jupyter-widgets/base",
            "_view_module_version": "1.2.0",
            "_view_name": "StyleView",
            "description_width": ""
          }
        },
        "5d3af831dcbb410080fb9bedfcdba708": {
          "model_module": "@jupyter-widgets/base",
          "model_name": "LayoutModel",
          "model_module_version": "1.2.0",
          "state": {
            "_model_module": "@jupyter-widgets/base",
            "_model_module_version": "1.2.0",
            "_model_name": "LayoutModel",
            "_view_count": null,
            "_view_module": "@jupyter-widgets/base",
            "_view_module_version": "1.2.0",
            "_view_name": "LayoutView",
            "align_content": null,
            "align_items": null,
            "align_self": null,
            "border": null,
            "bottom": null,
            "display": null,
            "flex": null,
            "flex_flow": null,
            "grid_area": null,
            "grid_auto_columns": null,
            "grid_auto_flow": null,
            "grid_auto_rows": null,
            "grid_column": null,
            "grid_gap": null,
            "grid_row": null,
            "grid_template_areas": null,
            "grid_template_columns": null,
            "grid_template_rows": null,
            "height": null,
            "justify_content": null,
            "justify_items": null,
            "left": null,
            "margin": null,
            "max_height": null,
            "max_width": null,
            "min_height": null,
            "min_width": null,
            "object_fit": null,
            "object_position": null,
            "order": null,
            "overflow": null,
            "overflow_x": null,
            "overflow_y": null,
            "padding": null,
            "right": null,
            "top": null,
            "visibility": null,
            "width": null
          }
        },
        "942419a03c314c0a89ef3d5d8ad03c46": {
          "model_module": "@jupyter-widgets/controls",
          "model_name": "DescriptionStyleModel",
          "model_module_version": "1.5.0",
          "state": {
            "_model_module": "@jupyter-widgets/controls",
            "_model_module_version": "1.5.0",
            "_model_name": "DescriptionStyleModel",
            "_view_count": null,
            "_view_module": "@jupyter-widgets/base",
            "_view_module_version": "1.2.0",
            "_view_name": "StyleView",
            "description_width": ""
          }
        },
        "f9f346be09c94a6e9fadc52906bf4669": {
          "model_module": "@jupyter-widgets/base",
          "model_name": "LayoutModel",
          "model_module_version": "1.2.0",
          "state": {
            "_model_module": "@jupyter-widgets/base",
            "_model_module_version": "1.2.0",
            "_model_name": "LayoutModel",
            "_view_count": null,
            "_view_module": "@jupyter-widgets/base",
            "_view_module_version": "1.2.0",
            "_view_name": "LayoutView",
            "align_content": null,
            "align_items": null,
            "align_self": null,
            "border": null,
            "bottom": null,
            "display": null,
            "flex": null,
            "flex_flow": null,
            "grid_area": null,
            "grid_auto_columns": null,
            "grid_auto_flow": null,
            "grid_auto_rows": null,
            "grid_column": null,
            "grid_gap": null,
            "grid_row": null,
            "grid_template_areas": null,
            "grid_template_columns": null,
            "grid_template_rows": null,
            "height": null,
            "justify_content": null,
            "justify_items": null,
            "left": null,
            "margin": null,
            "max_height": null,
            "max_width": null,
            "min_height": null,
            "min_width": null,
            "object_fit": null,
            "object_position": null,
            "order": null,
            "overflow": null,
            "overflow_x": null,
            "overflow_y": null,
            "padding": null,
            "right": null,
            "top": null,
            "visibility": null,
            "width": null
          }
        },
        "ef0fd0acc99e408fb75addc62f870bed": {
          "model_module": "@jupyter-widgets/controls",
          "model_name": "DescriptionStyleModel",
          "model_module_version": "1.5.0",
          "state": {
            "_model_module": "@jupyter-widgets/controls",
            "_model_module_version": "1.5.0",
            "_model_name": "DescriptionStyleModel",
            "_view_count": null,
            "_view_module": "@jupyter-widgets/base",
            "_view_module_version": "1.2.0",
            "_view_name": "StyleView",
            "description_width": ""
          }
        },
        "53f964ae6d5e4d58b406c7ab931f8d2d": {
          "model_module": "@jupyter-widgets/base",
          "model_name": "LayoutModel",
          "model_module_version": "1.2.0",
          "state": {
            "_model_module": "@jupyter-widgets/base",
            "_model_module_version": "1.2.0",
            "_model_name": "LayoutModel",
            "_view_count": null,
            "_view_module": "@jupyter-widgets/base",
            "_view_module_version": "1.2.0",
            "_view_name": "LayoutView",
            "align_content": null,
            "align_items": null,
            "align_self": null,
            "border": null,
            "bottom": null,
            "display": null,
            "flex": null,
            "flex_flow": null,
            "grid_area": null,
            "grid_auto_columns": null,
            "grid_auto_flow": null,
            "grid_auto_rows": null,
            "grid_column": null,
            "grid_gap": null,
            "grid_row": null,
            "grid_template_areas": null,
            "grid_template_columns": null,
            "grid_template_rows": null,
            "height": null,
            "justify_content": null,
            "justify_items": null,
            "left": null,
            "margin": null,
            "max_height": null,
            "max_width": null,
            "min_height": null,
            "min_width": null,
            "object_fit": null,
            "object_position": null,
            "order": null,
            "overflow": null,
            "overflow_x": null,
            "overflow_y": null,
            "padding": null,
            "right": null,
            "top": null,
            "visibility": null,
            "width": null
          }
        },
        "299342332a9541709c982fba65dd2d20": {
          "model_module": "@jupyter-widgets/controls",
          "model_name": "DescriptionStyleModel",
          "model_module_version": "1.5.0",
          "state": {
            "_model_module": "@jupyter-widgets/controls",
            "_model_module_version": "1.5.0",
            "_model_name": "DescriptionStyleModel",
            "_view_count": null,
            "_view_module": "@jupyter-widgets/base",
            "_view_module_version": "1.2.0",
            "_view_name": "StyleView",
            "description_width": ""
          }
        },
        "7fc6324966c1425c8eb560c161e3e892": {
          "model_module": "@jupyter-widgets/base",
          "model_name": "LayoutModel",
          "model_module_version": "1.2.0",
          "state": {
            "_model_module": "@jupyter-widgets/base",
            "_model_module_version": "1.2.0",
            "_model_name": "LayoutModel",
            "_view_count": null,
            "_view_module": "@jupyter-widgets/base",
            "_view_module_version": "1.2.0",
            "_view_name": "LayoutView",
            "align_content": null,
            "align_items": null,
            "align_self": null,
            "border": null,
            "bottom": null,
            "display": null,
            "flex": null,
            "flex_flow": null,
            "grid_area": null,
            "grid_auto_columns": null,
            "grid_auto_flow": null,
            "grid_auto_rows": null,
            "grid_column": null,
            "grid_gap": null,
            "grid_row": null,
            "grid_template_areas": null,
            "grid_template_columns": null,
            "grid_template_rows": null,
            "height": null,
            "justify_content": null,
            "justify_items": null,
            "left": null,
            "margin": null,
            "max_height": null,
            "max_width": null,
            "min_height": null,
            "min_width": null,
            "object_fit": null,
            "object_position": null,
            "order": null,
            "overflow": null,
            "overflow_x": null,
            "overflow_y": null,
            "padding": null,
            "right": null,
            "top": null,
            "visibility": null,
            "width": null
          }
        },
        "2c5edc9a39924fe79bad05b8ec5dec28": {
          "model_module": "@jupyter-widgets/controls",
          "model_name": "DescriptionStyleModel",
          "model_module_version": "1.5.0",
          "state": {
            "_model_module": "@jupyter-widgets/controls",
            "_model_module_version": "1.5.0",
            "_model_name": "DescriptionStyleModel",
            "_view_count": null,
            "_view_module": "@jupyter-widgets/base",
            "_view_module_version": "1.2.0",
            "_view_name": "StyleView",
            "description_width": ""
          }
        },
        "fdab61f6ae7b4a4ab1aae729a0c9eb0f": {
          "model_module": "@jupyter-widgets/base",
          "model_name": "LayoutModel",
          "model_module_version": "1.2.0",
          "state": {
            "_model_module": "@jupyter-widgets/base",
            "_model_module_version": "1.2.0",
            "_model_name": "LayoutModel",
            "_view_count": null,
            "_view_module": "@jupyter-widgets/base",
            "_view_module_version": "1.2.0",
            "_view_name": "LayoutView",
            "align_content": null,
            "align_items": null,
            "align_self": null,
            "border": null,
            "bottom": null,
            "display": null,
            "flex": null,
            "flex_flow": null,
            "grid_area": null,
            "grid_auto_columns": null,
            "grid_auto_flow": null,
            "grid_auto_rows": null,
            "grid_column": null,
            "grid_gap": null,
            "grid_row": null,
            "grid_template_areas": null,
            "grid_template_columns": null,
            "grid_template_rows": null,
            "height": "28px",
            "justify_content": null,
            "justify_items": null,
            "left": null,
            "margin": null,
            "max_height": null,
            "max_width": null,
            "min_height": null,
            "min_width": null,
            "object_fit": null,
            "object_position": null,
            "order": null,
            "overflow": null,
            "overflow_x": null,
            "overflow_y": null,
            "padding": "0px 0px 0px 4px",
            "right": null,
            "top": null,
            "visibility": null,
            "width": "28px"
          }
        },
        "0bf8928a96c54485be479aa6b52e59ea": {
          "model_module": "@jupyter-widgets/controls",
          "model_name": "DescriptionStyleModel",
          "model_module_version": "1.5.0",
          "state": {
            "_model_module": "@jupyter-widgets/controls",
            "_model_module_version": "1.5.0",
            "_model_name": "DescriptionStyleModel",
            "_view_count": null,
            "_view_module": "@jupyter-widgets/base",
            "_view_module_version": "1.2.0",
            "_view_name": "StyleView",
            "description_width": ""
          }
        },
        "9dab57278fc445bf81570eb3206bb1e0": {
          "model_module": "@jupyter-widgets/base",
          "model_name": "LayoutModel",
          "model_module_version": "1.2.0",
          "state": {
            "_model_module": "@jupyter-widgets/base",
            "_model_module_version": "1.2.0",
            "_model_name": "LayoutModel",
            "_view_count": null,
            "_view_module": "@jupyter-widgets/base",
            "_view_module_version": "1.2.0",
            "_view_name": "LayoutView",
            "align_content": null,
            "align_items": null,
            "align_self": null,
            "border": null,
            "bottom": null,
            "display": null,
            "flex": null,
            "flex_flow": null,
            "grid_area": null,
            "grid_auto_columns": null,
            "grid_auto_flow": null,
            "grid_auto_rows": null,
            "grid_column": null,
            "grid_gap": null,
            "grid_row": null,
            "grid_template_areas": null,
            "grid_template_columns": null,
            "grid_template_rows": null,
            "height": "28px",
            "justify_content": null,
            "justify_items": null,
            "left": null,
            "margin": null,
            "max_height": null,
            "max_width": null,
            "min_height": null,
            "min_width": null,
            "object_fit": null,
            "object_position": null,
            "order": null,
            "overflow": null,
            "overflow_x": null,
            "overflow_y": null,
            "padding": "0px 0px 0px 4px",
            "right": null,
            "top": null,
            "visibility": null,
            "width": "28px"
          }
        },
        "a79133290dfc48e7a6eb9f6c832d451a": {
          "model_module": "@jupyter-widgets/controls",
          "model_name": "DescriptionStyleModel",
          "model_module_version": "1.5.0",
          "state": {
            "_model_module": "@jupyter-widgets/controls",
            "_model_module_version": "1.5.0",
            "_model_name": "DescriptionStyleModel",
            "_view_count": null,
            "_view_module": "@jupyter-widgets/base",
            "_view_module_version": "1.2.0",
            "_view_name": "StyleView",
            "description_width": ""
          }
        },
        "7937be8658f041e99fa594bb029dae0a": {
          "model_module": "jupyter-leaflet",
          "model_name": "LeafletMapModel",
          "model_module_version": "^0.16.0",
          "state": {
            "_dom_classes": [],
            "_model_module": "jupyter-leaflet",
            "_model_module_version": "^0.16.0",
            "_model_name": "LeafletMapModel",
            "_view_count": null,
            "_view_module": "jupyter-leaflet",
            "_view_module_version": "^0.16.0",
            "_view_name": "LeafletMapView",
            "bottom": 14062657.9609375,
            "bounce_at_zoom_limits": true,
            "box_zoom": true,
            "center": [
              27.949052115052222,
              -82.45636933017524
            ],
            "close_popup_on_click": true,
            "controls": [
              "IPY_MODEL_755bfc73e3cc470faaec8255e99a9813",
              "IPY_MODEL_164f05081ca74ee992f5c5a81094e671",
              "IPY_MODEL_3f70baaa3a854ae3818fd80f423c7e79",
              "IPY_MODEL_6038be350dcb47219ab428abd66c146b",
              "IPY_MODEL_b14d169a1c044a9dba232e0d372b3d68",
              "IPY_MODEL_9d171e06101a4b86ad5c71e866ac14bc",
              "IPY_MODEL_6601a6d3b85142bd9b6ba30c30e8c4fe",
              "IPY_MODEL_ec33177ae79143dbb57a26cc98ba770a",
              "IPY_MODEL_d1374f865e794332a9d1d895a28dd790",
              "IPY_MODEL_7c2587a8b9da4923a25ad5e9393aa962"
            ],
            "crs": {
              "name": "EPSG3857",
              "custom": false
            },
            "default_style": "IPY_MODEL_25dcd15e86f64bc9a50508f8dc9ac91f",
            "double_click_zoom": true,
            "dragging": true,
            "dragging_style": "IPY_MODEL_c8aeec34af9248c58d443899c915b825",
            "east": -82.45100491214545,
            "fullscreen": false,
            "inertia": true,
            "inertia_deceleration": 3000,
            "inertia_max_speed": 1500,
            "interpolation": "bilinear",
            "keyboard": true,
            "keyboard_pan_offset": 80,
            "keyboard_zoom_offset": 1,
            "layers": [
              "IPY_MODEL_7bff575659ff4031ab11092d4ab027ab",
              "IPY_MODEL_f14ab1d41cd34010b78d41383f8c1c83",
              "IPY_MODEL_aa17a1933e2b4ae98f4184dfd9eebe3e",
              "IPY_MODEL_3c7b3897d7df448fba2e3569e05b16bb",
              "IPY_MODEL_f5e6c0b768f044a49ccd89a8095c9d1e"
            ],
            "layout": "IPY_MODEL_d0e23909950c430a8ff68091c5b698e2",
            "left": 9091225.33984375,
            "max_zoom": 24,
            "min_zoom": 1,
            "modisdate": "2022-06-07",
            "north": 27.952843038534798,
            "options": [
              "bounce_at_zoom_limits",
              "box_zoom",
              "center",
              "close_popup_on_click",
              "double_click_zoom",
              "dragging",
              "fullscreen",
              "inertia",
              "inertia_deceleration",
              "inertia_max_speed",
              "interpolation",
              "keyboard",
              "keyboard_pan_offset",
              "keyboard_zoom_offset",
              "max_zoom",
              "min_zoom",
              "prefer_canvas",
              "scroll_wheel_zoom",
              "tap",
              "tap_tolerance",
              "touch_zoom",
              "world_copy_jump",
              "zoom",
              "zoom_animation_threshold",
              "zoom_delta",
              "zoom_snap",
              "zoom_start"
            ],
            "prefer_canvas": false,
            "right": 9092225.33984375,
            "scroll_wheel_zoom": true,
            "south": 27.945261058485954,
            "style": "IPY_MODEL_25dcd15e86f64bc9a50508f8dc9ac91f",
            "tap": true,
            "tap_tolerance": 15,
            "top": 14061857.9609375,
            "touch_zoom": true,
            "west": -82.461733748205,
            "window_url": "https://phwfxea3lvi-496ff2e9c6d22116-0-colab.googleusercontent.com/outputframe.html?vrz=colab-20220607-060047-RC00_453385713",
            "world_copy_jump": false,
            "zoom": 17,
            "zoom_animation_threshold": 4,
            "zoom_delta": 1,
            "zoom_snap": 1,
            "zoom_start": 12,
            "_dragging": false
          }
        },
        "755bfc73e3cc470faaec8255e99a9813": {
          "model_module": "jupyter-leaflet",
          "model_name": "LeafletZoomControlModel",
          "model_module_version": "^0.16.0",
          "state": {
            "_model_module": "jupyter-leaflet",
            "_model_module_version": "^0.16.0",
            "_model_name": "LeafletZoomControlModel",
            "_view_count": null,
            "_view_module": "jupyter-leaflet",
            "_view_module_version": "^0.16.0",
            "_view_name": "LeafletZoomControlView",
            "options": [
              "position",
              "zoom_in_text",
              "zoom_in_title",
              "zoom_out_text",
              "zoom_out_title"
            ],
            "position": "topleft",
            "zoom_in_text": "+",
            "zoom_in_title": "Zoom in",
            "zoom_out_text": "-",
            "zoom_out_title": "Zoom out"
          }
        },
        "164f05081ca74ee992f5c5a81094e671": {
          "model_module": "jupyter-leaflet",
          "model_name": "LeafletAttributionControlModel",
          "model_module_version": "^0.16.0",
          "state": {
            "_model_module": "jupyter-leaflet",
            "_model_module_version": "^0.16.0",
            "_model_name": "LeafletAttributionControlModel",
            "_view_count": null,
            "_view_module": "jupyter-leaflet",
            "_view_module_version": "^0.16.0",
            "_view_name": "LeafletAttributionControlView",
            "options": [
              "position",
              "prefix"
            ],
            "position": "bottomright",
            "prefix": "ipyleaflet"
          }
        },
        "3f70baaa3a854ae3818fd80f423c7e79": {
          "model_module": "jupyter-leaflet",
          "model_name": "LeafletFullScreenControlModel",
          "model_module_version": "^0.16.0",
          "state": {
            "_model_module": "jupyter-leaflet",
            "_model_module_version": "^0.16.0",
            "_model_name": "LeafletFullScreenControlModel",
            "_view_count": null,
            "_view_module": "jupyter-leaflet",
            "_view_module_version": "^0.16.0",
            "_view_name": "LeafletFullScreenControlView",
            "options": [
              "position"
            ],
            "position": "topleft"
          }
        },
        "6038be350dcb47219ab428abd66c146b": {
          "model_module": "jupyter-leaflet",
          "model_name": "LeafletDrawControlModel",
          "model_module_version": "^0.16.0",
          "state": {
            "_model_module": "jupyter-leaflet",
            "_model_module_version": "^0.16.0",
            "_model_name": "LeafletDrawControlModel",
            "_view_count": null,
            "_view_module": "jupyter-leaflet",
            "_view_module_version": "^0.16.0",
            "_view_name": "LeafletDrawControlView",
            "circle": {
              "shapeOptions": {
                "color": "#3388ff"
              }
            },
            "circlemarker": {},
            "data": [],
            "edit": true,
            "marker": {
              "shapeOptions": {
                "color": "#3388ff"
              }
            },
            "options": [
              "position"
            ],
            "polygon": {
              "shapeOptions": {}
            },
            "polyline": {
              "shapeOptions": {}
            },
            "position": "topleft",
            "rectangle": {
              "shapeOptions": {
                "color": "#3388ff"
              }
            },
            "remove": true
          }
        },
        "b14d169a1c044a9dba232e0d372b3d68": {
          "model_module": "jupyter-leaflet",
          "model_name": "LeafletWidgetControlModel",
          "model_module_version": "^0.16.0",
          "state": {
            "_model_module": "jupyter-leaflet",
            "_model_module_version": "^0.16.0",
            "_model_name": "LeafletWidgetControlModel",
            "_view_count": null,
            "_view_module": "jupyter-leaflet",
            "_view_module_version": "^0.16.0",
            "_view_name": "LeafletWidgetControlView",
            "max_height": null,
            "max_width": null,
            "min_height": null,
            "min_width": null,
            "options": [
              "position",
              "transparent_bg"
            ],
            "position": "bottomright",
            "transparent_bg": false,
            "widget": "IPY_MODEL_efa944b60f324b9e821e3369a19df0e3"
          }
        },
        "9d171e06101a4b86ad5c71e866ac14bc": {
          "model_module": "jupyter-leaflet",
          "model_name": "LeafletMeasureControlModel",
          "model_module_version": "^0.16.0",
          "state": {
            "_custom_units": {},
            "_model_module": "jupyter-leaflet",
            "_model_module_version": "^0.16.0",
            "_model_name": "LeafletMeasureControlModel",
            "_view_count": null,
            "_view_module": "jupyter-leaflet",
            "_view_module_version": "^0.16.0",
            "_view_name": "LeafletMeasureControlView",
            "active_color": "#ABE67E",
            "capture_z_index": 10000,
            "completed_color": "#C8F2BE",
            "options": [
              "active_color",
              "capture_z_index",
              "completed_color",
              "popup_options",
              "position",
              "primary_area_unit",
              "primary_length_unit",
              "secondary_area_unit",
              "secondary_length_unit"
            ],
            "popup_options": {
              "className": "leaflet-measure-resultpopup",
              "autoPanPadding": [
                10,
                10
              ]
            },
            "position": "topleft",
            "primary_area_unit": "acres",
            "primary_length_unit": "feet",
            "secondary_area_unit": null,
            "secondary_length_unit": null
          }
        },
        "6601a6d3b85142bd9b6ba30c30e8c4fe": {
          "model_module": "jupyter-leaflet",
          "model_name": "LeafletScaleControlModel",
          "model_module_version": "^0.16.0",
          "state": {
            "_model_module": "jupyter-leaflet",
            "_model_module_version": "^0.16.0",
            "_model_name": "LeafletScaleControlModel",
            "_view_count": null,
            "_view_module": "jupyter-leaflet",
            "_view_module_version": "^0.16.0",
            "_view_name": "LeafletScaleControlView",
            "imperial": true,
            "max_width": 100,
            "metric": true,
            "options": [
              "imperial",
              "max_width",
              "metric",
              "position",
              "update_when_idle"
            ],
            "position": "bottomleft",
            "update_when_idle": false
          }
        },
        "ec33177ae79143dbb57a26cc98ba770a": {
          "model_module": "jupyter-leaflet",
          "model_name": "LeafletWidgetControlModel",
          "model_module_version": "^0.16.0",
          "state": {
            "_model_module": "jupyter-leaflet",
            "_model_module_version": "^0.16.0",
            "_model_name": "LeafletWidgetControlModel",
            "_view_count": null,
            "_view_module": "jupyter-leaflet",
            "_view_module_version": "^0.16.0",
            "_view_name": "LeafletWidgetControlView",
            "max_height": null,
            "max_width": null,
            "min_height": null,
            "min_width": null,
            "options": [
              "position",
              "transparent_bg"
            ],
            "position": "topright",
            "transparent_bg": false,
            "widget": "IPY_MODEL_84b469035982469dad8a0f7ced075aa6"
          }
        },
        "d1374f865e794332a9d1d895a28dd790": {
          "model_module": "jupyter-leaflet",
          "model_name": "LeafletWidgetControlModel",
          "model_module_version": "^0.16.0",
          "state": {
            "_model_module": "jupyter-leaflet",
            "_model_module_version": "^0.16.0",
            "_model_name": "LeafletWidgetControlModel",
            "_view_count": null,
            "_view_module": "jupyter-leaflet",
            "_view_module_version": "^0.16.0",
            "_view_name": "LeafletWidgetControlView",
            "max_height": null,
            "max_width": null,
            "min_height": null,
            "min_width": null,
            "options": [
              "position",
              "transparent_bg"
            ],
            "position": "bottomright",
            "transparent_bg": false,
            "widget": "IPY_MODEL_720e4e1771d04141a5665a9b85c5b70b"
          }
        },
        "7c2587a8b9da4923a25ad5e9393aa962": {
          "model_module": "jupyter-leaflet",
          "model_name": "LeafletWidgetControlModel",
          "model_module_version": "^0.16.0",
          "state": {
            "_model_module": "jupyter-leaflet",
            "_model_module_version": "^0.16.0",
            "_model_name": "LeafletWidgetControlModel",
            "_view_count": null,
            "_view_module": "jupyter-leaflet",
            "_view_module_version": "^0.16.0",
            "_view_name": "LeafletWidgetControlView",
            "max_height": null,
            "max_width": null,
            "min_height": null,
            "min_width": null,
            "options": [
              "position",
              "transparent_bg"
            ],
            "position": "bottomright",
            "transparent_bg": false,
            "widget": "IPY_MODEL_46efb2701b1448ebb95f96c6669df054"
          }
        },
        "25dcd15e86f64bc9a50508f8dc9ac91f": {
          "model_module": "jupyter-leaflet",
          "model_name": "LeafletMapStyleModel",
          "model_module_version": "^0.16.0",
          "state": {
            "_model_module": "jupyter-leaflet",
            "_model_module_version": "^0.16.0",
            "_model_name": "LeafletMapStyleModel",
            "_view_count": null,
            "_view_module": "@jupyter-widgets/base",
            "_view_module_version": "1.2.0",
            "_view_name": "StyleView",
            "cursor": "default"
          }
        },
        "c8aeec34af9248c58d443899c915b825": {
          "model_module": "jupyter-leaflet",
          "model_name": "LeafletMapStyleModel",
          "model_module_version": "^0.16.0",
          "state": {
            "_model_module": "jupyter-leaflet",
            "_model_module_version": "^0.16.0",
            "_model_name": "LeafletMapStyleModel",
            "_view_count": null,
            "_view_module": "@jupyter-widgets/base",
            "_view_module_version": "1.2.0",
            "_view_name": "StyleView",
            "cursor": "move"
          }
        },
        "7bff575659ff4031ab11092d4ab027ab": {
          "model_module": "jupyter-leaflet",
          "model_name": "LeafletTileLayerModel",
          "model_module_version": "^0.16.0",
          "state": {
            "_model_module": "jupyter-leaflet",
            "_model_module_version": "^0.16.0",
            "_model_name": "LeafletTileLayerModel",
            "_view_count": null,
            "_view_module": "jupyter-leaflet",
            "_view_module_version": "^0.16.0",
            "_view_name": "LeafletTileLayerView",
            "attribution": "&copy; <a href=\"https://www.openstreetmap.org/copyright\">OpenStreetMap</a> contributors",
            "base": true,
            "bottom": true,
            "bounds": null,
            "detect_retina": false,
            "loading": false,
            "max_native_zoom": 18,
            "max_zoom": 19,
            "min_native_zoom": 0,
            "min_zoom": 1,
            "name": "OpenStreetMap",
            "no_wrap": false,
            "opacity": 1,
            "options": [
              "attribution",
              "bounds",
              "detect_retina",
              "max_native_zoom",
              "max_zoom",
              "min_native_zoom",
              "min_zoom",
              "no_wrap",
              "tile_size",
              "tms"
            ],
            "popup": null,
            "popup_max_height": null,
            "popup_max_width": 300,
            "popup_min_width": 50,
            "show_loading": false,
            "tile_size": 256,
            "tms": false,
            "url": "https://a.tile.openstreetmap.org/{z}/{x}/{y}.png",
            "visible": true
          }
        },
        "f14ab1d41cd34010b78d41383f8c1c83": {
          "model_module": "jupyter-leaflet",
          "model_name": "LeafletTileLayerModel",
          "model_module_version": "^0.16.0",
          "state": {
            "_model_module": "jupyter-leaflet",
            "_model_module_version": "^0.16.0",
            "_model_name": "LeafletTileLayerModel",
            "_view_count": null,
            "_view_module": "jupyter-leaflet",
            "_view_module_version": "^0.16.0",
            "_view_name": "LeafletTileLayerView",
            "attribution": "CartoDB",
            "base": false,
            "bottom": true,
            "bounds": null,
            "detect_retina": false,
            "loading": false,
            "max_native_zoom": 18,
            "max_zoom": 18,
            "min_native_zoom": 0,
            "min_zoom": 0,
            "name": "CartoDB",
            "no_wrap": false,
            "opacity": 1,
            "options": [
              "attribution",
              "bounds",
              "detect_retina",
              "max_native_zoom",
              "max_zoom",
              "min_native_zoom",
              "min_zoom",
              "no_wrap",
              "tile_size",
              "tms"
            ],
            "popup": null,
            "popup_max_height": null,
            "popup_max_width": 300,
            "popup_min_width": 50,
            "show_loading": false,
            "tile_size": 256,
            "tms": false,
            "url": "https://cartodb-basemaps-b.global.ssl.fastly.net/light_nolabels/{z}/{x}/{y}.png",
            "visible": true
          }
        },
        "aa17a1933e2b4ae98f4184dfd9eebe3e": {
          "model_module": "jupyter-leaflet",
          "model_name": "LeafletMarkerClusterModel",
          "model_module_version": "^0.16.0",
          "state": {
            "_model_module": "jupyter-leaflet",
            "_model_module_version": "^0.16.0",
            "_model_name": "LeafletMarkerClusterModel",
            "_view_count": null,
            "_view_module": "jupyter-leaflet",
            "_view_module_version": "^0.16.0",
            "_view_name": "LeafletMarkerClusterView",
            "base": false,
            "bottom": false,
            "disable_clustering_at_zoom": 18,
            "markers": [
              "IPY_MODEL_e6fdfde2b8294396b551888c2eb9966b",
              "IPY_MODEL_a1433f8beb22465095660d1f0651bd97"
            ],
            "max_cluster_radius": 80,
            "name": "od",
            "options": [
              "disable_clustering_at_zoom",
              "max_cluster_radius"
            ],
            "popup": null,
            "popup_max_height": null,
            "popup_max_width": 300,
            "popup_min_width": 50
          }
        },
        "3c7b3897d7df448fba2e3569e05b16bb": {
          "model_module": "jupyter-leaflet",
          "model_name": "LeafletGeoJSONModel",
          "model_module_version": "^0.16.0",
          "state": {
            "_model_module": "jupyter-leaflet",
            "_model_module_version": "^0.16.0",
            "_model_name": "LeafletGeoJSONModel",
            "_view_count": null,
            "_view_module": "jupyter-leaflet",
            "_view_module_version": "^0.16.0",
            "_view_name": "LeafletGeoJSONView",
            "base": false,
            "bottom": false,
            "data": {
              "type": "FeatureCollection",
              "features": [
                {
                  "id": "(97775156, 97775158, 0)",
                  "type": "Feature",
                  "properties": {
                    "highway": "residential",
                    "lanes": "2",
                    "length": 89.09299999999999,
                    "maxspeed": null,
                    "name": "North Marion Street",
                    "oneway": false,
                    "osmid": 10970142,
                    "ref": null,
                    "style": {
                      "color": "black",
                      "fillColor": "black"
                    }
                  },
                  "geometry": {
                    "type": "LineString",
                    "coordinates": [
                      [
                        -82.4562493,
                        27.9482623
                      ],
                      [
                        -82.4562919,
                        27.9483641
                      ],
                      [
                        -82.4565412,
                        27.9489147
                      ],
                      [
                        -82.4565827,
                        27.9490074
                      ]
                    ]
                  },
                  "bbox": [
                    -82.4565827,
                    27.9482623,
                    -82.4562493,
                    27.9490074
                  ]
                },
                {
                  "id": "(97775156, 97871013, 0)",
                  "type": "Feature",
                  "properties": {
                    "highway": "primary",
                    "lanes": "4",
                    "length": 89.342,
                    "maxspeed": "30 mph",
                    "name": "East Kennedy Boulevard",
                    "oneway": true,
                    "osmid": 115040529,
                    "ref": "US 41 Business;FL 60",
                    "style": {
                      "color": "black",
                      "fillColor": "black"
                    }
                  },
                  "geometry": {
                    "type": "LineString",
                    "coordinates": [
                      [
                        -82.4562493,
                        27.9482623
                      ],
                      [
                        -82.4563382,
                        27.9482317
                      ],
                      [
                        -82.4569829,
                        27.9480107
                      ],
                      [
                        -82.4570982,
                        27.9479739
                      ]
                    ]
                  },
                  "bbox": [
                    -82.4570982,
                    27.9479739,
                    -82.4562493,
                    27.9482623
                  ]
                },
                {
                  "id": "(97775158, 97775163, 0)",
                  "type": "Feature",
                  "properties": {
                    "highway": "residential",
                    "lanes": "2",
                    "length": 89.335,
                    "maxspeed": null,
                    "name": "North Marion Street",
                    "oneway": false,
                    "osmid": 10970142,
                    "ref": null,
                    "style": {
                      "color": "black",
                      "fillColor": "black"
                    }
                  },
                  "geometry": {
                    "type": "LineString",
                    "coordinates": [
                      [
                        -82.4565827,
                        27.9490074
                      ],
                      [
                        -82.4566299,
                        27.9491172
                      ],
                      [
                        -82.4568695,
                        27.9496785
                      ],
                      [
                        -82.456904,
                        27.949759
                      ]
                    ]
                  },
                  "bbox": [
                    -82.456904,
                    27.9490074,
                    -82.4565827,
                    27.949759
                  ]
                },
                {
                  "id": "(97775158, 97775156, 0)",
                  "type": "Feature",
                  "properties": {
                    "highway": "residential",
                    "lanes": "2",
                    "length": 89.093,
                    "maxspeed": null,
                    "name": "North Marion Street",
                    "oneway": false,
                    "osmid": 10970142,
                    "ref": null,
                    "style": {
                      "color": "black",
                      "fillColor": "black"
                    }
                  },
                  "geometry": {
                    "type": "LineString",
                    "coordinates": [
                      [
                        -82.4565827,
                        27.9490074
                      ],
                      [
                        -82.4565412,
                        27.9489147
                      ],
                      [
                        -82.4562919,
                        27.9483641
                      ],
                      [
                        -82.4562493,
                        27.9482623
                      ]
                    ]
                  },
                  "bbox": [
                    -82.4565827,
                    27.9482623,
                    -82.4562493,
                    27.9490074
                  ]
                },
                {
                  "id": "(97775158, 97815626, 0)",
                  "type": "Feature",
                  "properties": {
                    "highway": "tertiary",
                    "lanes": "2",
                    "length": 89.13300000000001,
                    "maxspeed": null,
                    "name": "East Madison Street",
                    "oneway": false,
                    "osmid": 932449456,
                    "ref": null,
                    "style": {
                      "color": "black",
                      "fillColor": "black"
                    }
                  },
                  "geometry": {
                    "type": "LineString",
                    "coordinates": [
                      [
                        -82.4565827,
                        27.9490074
                      ],
                      [
                        -82.456479,
                        27.9490436
                      ],
                      [
                        -82.4559835,
                        27.949214
                      ],
                      [
                        -82.4558403,
                        27.9492633
                      ],
                      [
                        -82.4557374,
                        27.9492989
                      ]
                    ]
                  },
                  "bbox": [
                    -82.4565827,
                    27.9490074,
                    -82.4557374,
                    27.9492989
                  ]
                },
                {
                  "id": "(97775158, 474972598, 0)",
                  "type": "Feature",
                  "properties": {
                    "highway": "tertiary",
                    "lanes": "2",
                    "length": 88.689,
                    "maxspeed": null,
                    "name": "East Madison Street",
                    "oneway": false,
                    "osmid": 932449456,
                    "ref": null,
                    "style": {
                      "color": "black",
                      "fillColor": "black"
                    }
                  },
                  "geometry": {
                    "type": "LineString",
                    "coordinates": [
                      [
                        -82.4565827,
                        27.9490074
                      ],
                      [
                        -82.4566673,
                        27.9489783
                      ],
                      [
                        -82.456919,
                        27.948892
                      ],
                      [
                        -82.4573078,
                        27.9487587
                      ],
                      [
                        -82.4574238,
                        27.9487174
                      ]
                    ]
                  },
                  "bbox": [
                    -82.4574238,
                    27.9487174,
                    -82.4565827,
                    27.9490074
                  ]
                },
                {
                  "id": "(97775163, 97775165, 0)",
                  "type": "Feature",
                  "properties": {
                    "highway": "residential",
                    "lanes": "2",
                    "length": 89.57900000000001,
                    "maxspeed": null,
                    "name": "North Marion Street",
                    "oneway": false,
                    "osmid": 10970142,
                    "ref": null,
                    "style": {
                      "color": "black",
                      "fillColor": "black"
                    }
                  },
                  "geometry": {
                    "type": "LineString",
                    "coordinates": [
                      [
                        -82.456904,
                        27.949759
                      ],
                      [
                        -82.4569532,
                        27.9498704
                      ],
                      [
                        -82.4571943,
                        27.9504162
                      ],
                      [
                        -82.4572355,
                        27.9505095
                      ]
                    ]
                  },
                  "bbox": [
                    -82.4572355,
                    27.949759,
                    -82.456904,
                    27.9505095
                  ]
                },
                {
                  "id": "(97775163, 97775158, 0)",
                  "type": "Feature",
                  "properties": {
                    "highway": "residential",
                    "lanes": "2",
                    "length": 89.335,
                    "maxspeed": null,
                    "name": "North Marion Street",
                    "oneway": false,
                    "osmid": 10970142,
                    "ref": null,
                    "style": {
                      "color": "black",
                      "fillColor": "black"
                    }
                  },
                  "geometry": {
                    "type": "LineString",
                    "coordinates": [
                      [
                        -82.456904,
                        27.949759
                      ],
                      [
                        -82.4568695,
                        27.9496785
                      ],
                      [
                        -82.4566299,
                        27.9491172
                      ],
                      [
                        -82.4565827,
                        27.9490074
                      ]
                    ]
                  },
                  "bbox": [
                    -82.456904,
                    27.9490074,
                    -82.4565827,
                    27.949759
                  ]
                },
                {
                  "id": "(97775163, 97876151, 0)",
                  "type": "Feature",
                  "properties": {
                    "highway": "tertiary",
                    "lanes": "4",
                    "length": 88.283,
                    "maxspeed": "30 mph",
                    "name": "East Twiggs Street",
                    "oneway": false,
                    "osmid": 87174879,
                    "ref": null,
                    "style": {
                      "color": "black",
                      "fillColor": "black"
                    }
                  },
                  "geometry": {
                    "type": "LineString",
                    "coordinates": [
                      [
                        -82.456904,
                        27.949759
                      ],
                      [
                        -82.4568055,
                        27.9497928
                      ],
                      [
                        -82.45632,
                        27.949959
                      ],
                      [
                        -82.4561667,
                        27.9500109
                      ],
                      [
                        -82.456066,
                        27.950046
                      ]
                    ]
                  },
                  "bbox": [
                    -82.456904,
                    27.949759,
                    -82.456066,
                    27.950046
                  ]
                },
                {
                  "id": "(97775163, 97928974, 0)",
                  "type": "Feature",
                  "properties": {
                    "highway": "tertiary",
                    "lanes": "4",
                    "length": 88.487,
                    "maxspeed": "30 mph",
                    "name": "East Twiggs Street",
                    "oneway": false,
                    "osmid": 87174879,
                    "ref": null,
                    "style": {
                      "color": "black",
                      "fillColor": "black"
                    }
                  },
                  "geometry": {
                    "type": "LineString",
                    "coordinates": [
                      [
                        -82.456904,
                        27.949759
                      ],
                      [
                        -82.4569898,
                        27.9497307
                      ],
                      [
                        -82.457635,
                        27.9495045
                      ],
                      [
                        -82.457742,
                        27.949467
                      ]
                    ]
                  },
                  "bbox": [
                    -82.457742,
                    27.949467,
                    -82.456904,
                    27.949759
                  ]
                },
                {
                  "id": "(97775165, 1870060165, 0)",
                  "type": "Feature",
                  "properties": {
                    "highway": "residential",
                    "lanes": "2",
                    "length": 81.691,
                    "maxspeed": null,
                    "name": "North Marion Street",
                    "oneway": false,
                    "osmid": 10970142,
                    "ref": null,
                    "style": {
                      "color": "black",
                      "fillColor": "black"
                    }
                  },
                  "geometry": {
                    "type": "LineString",
                    "coordinates": [
                      [
                        -82.4572355,
                        27.9505095
                      ],
                      [
                        -82.457274,
                        27.950597
                      ],
                      [
                        -82.4575148,
                        27.9511461
                      ],
                      [
                        -82.4575361,
                        27.9511945
                      ]
                    ]
                  },
                  "bbox": [
                    -82.4575361,
                    27.9505095,
                    -82.4572355,
                    27.9511945
                  ]
                },
                {
                  "id": "(97775165, 97775163, 0)",
                  "type": "Feature",
                  "properties": {
                    "highway": "residential",
                    "lanes": "2",
                    "length": 89.57900000000001,
                    "maxspeed": null,
                    "name": "North Marion Street",
                    "oneway": false,
                    "osmid": 10970142,
                    "ref": null,
                    "style": {
                      "color": "black",
                      "fillColor": "black"
                    }
                  },
                  "geometry": {
                    "type": "LineString",
                    "coordinates": [
                      [
                        -82.4572355,
                        27.9505095
                      ],
                      [
                        -82.4571943,
                        27.9504162
                      ],
                      [
                        -82.4569532,
                        27.9498704
                      ],
                      [
                        -82.456904,
                        27.949759
                      ]
                    ]
                  },
                  "bbox": [
                    -82.4572355,
                    27.949759,
                    -82.456904,
                    27.9505095
                  ]
                },
                {
                  "id": "(97775165, 97876153, 0)",
                  "type": "Feature",
                  "properties": {
                    "highway": "tertiary",
                    "lanes": "2",
                    "length": 88.74799999999999,
                    "maxspeed": null,
                    "name": "East Zack Street",
                    "oneway": false,
                    "osmid": 11000973,
                    "ref": null,
                    "style": {
                      "color": "black",
                      "fillColor": "black"
                    }
                  },
                  "geometry": {
                    "type": "LineString",
                    "coordinates": [
                      [
                        -82.4572355,
                        27.9505095
                      ],
                      [
                        -82.4571368,
                        27.9505441
                      ],
                      [
                        -82.456495,
                        27.9507634
                      ],
                      [
                        -82.4563932,
                        27.9507983
                      ]
                    ]
                  },
                  "bbox": [
                    -82.4572355,
                    27.9505095,
                    -82.4563932,
                    27.9507983
                  ]
                },
                {
                  "id": "(97775165, 97942623, 0)",
                  "type": "Feature",
                  "properties": {
                    "highway": "tertiary",
                    "lanes": "2",
                    "length": 88.522,
                    "maxspeed": null,
                    "name": "East Zack Street",
                    "oneway": false,
                    "osmid": [
                      909318437,
                      11000973
                    ],
                    "ref": null,
                    "style": {
                      "color": "black",
                      "fillColor": "black"
                    }
                  },
                  "geometry": {
                    "type": "LineString",
                    "coordinates": [
                      [
                        -82.4572355,
                        27.9505095
                      ],
                      [
                        -82.4573245,
                        27.9504773
                      ],
                      [
                        -82.4576558,
                        27.9503609
                      ],
                      [
                        -82.4579718,
                        27.9502555
                      ],
                      [
                        -82.4580774,
                        27.9502261
                      ]
                    ]
                  },
                  "bbox": [
                    -82.4580774,
                    27.9502261,
                    -82.4572355,
                    27.9505095
                  ]
                },
                {
                  "id": "(97815626, 97871014, 0)",
                  "type": "Feature",
                  "properties": {
                    "highway": "tertiary",
                    "lanes": "4",
                    "length": 87.949,
                    "maxspeed": null,
                    "name": "North Morgan Street",
                    "oneway": false,
                    "osmid": 168522075,
                    "ref": null,
                    "style": {
                      "color": "black",
                      "fillColor": "black"
                    }
                  },
                  "geometry": {
                    "type": "LineString",
                    "coordinates": [
                      [
                        -82.4557374,
                        27.9492989
                      ],
                      [
                        -82.4556953,
                        27.9492056
                      ],
                      [
                        -82.4556622,
                        27.9491296
                      ],
                      [
                        -82.4556038,
                        27.9489992
                      ],
                      [
                        -82.4554545,
                        27.9486609
                      ],
                      [
                        -82.4554104,
                        27.9485626
                      ]
                    ]
                  },
                  "bbox": [
                    -82.4557374,
                    27.9485626,
                    -82.4554104,
                    27.9492989
                  ]
                },
                {
                  "id": "(97815626, 97876151, 0)",
                  "type": "Feature",
                  "properties": {
                    "highway": "tertiary",
                    "lanes": "4",
                    "length": 89.125,
                    "maxspeed": null,
                    "name": "North Morgan Street",
                    "oneway": false,
                    "osmid": 168522075,
                    "ref": null,
                    "style": {
                      "color": "black",
                      "fillColor": "black"
                    }
                  },
                  "geometry": {
                    "type": "LineString",
                    "coordinates": [
                      [
                        -82.4557374,
                        27.9492989
                      ],
                      [
                        -82.4557819,
                        27.9494039
                      ],
                      [
                        -82.4560273,
                        27.9499588
                      ],
                      [
                        -82.456066,
                        27.950046
                      ]
                    ]
                  },
                  "bbox": [
                    -82.456066,
                    27.9492989,
                    -82.4557374,
                    27.950046
                  ]
                },
                {
                  "id": "(97815626, 97815628, 0)",
                  "type": "Feature",
                  "properties": {
                    "highway": "tertiary",
                    "lanes": "2",
                    "length": 88.71900000000001,
                    "maxspeed": null,
                    "name": "East Madison Street",
                    "oneway": false,
                    "osmid": 932449456,
                    "ref": null,
                    "style": {
                      "color": "black",
                      "fillColor": "black"
                    }
                  },
                  "geometry": {
                    "type": "LineString",
                    "coordinates": [
                      [
                        -82.4557374,
                        27.9492989
                      ],
                      [
                        -82.4556274,
                        27.9493368
                      ],
                      [
                        -82.4551298,
                        27.9495084
                      ],
                      [
                        -82.4550239,
                        27.9495445
                      ],
                      [
                        -82.454896,
                        27.949589
                      ]
                    ]
                  },
                  "bbox": [
                    -82.4557374,
                    27.9492989,
                    -82.454896,
                    27.949589
                  ]
                },
                {
                  "id": "(97815626, 97775158, 0)",
                  "type": "Feature",
                  "properties": {
                    "highway": "tertiary",
                    "lanes": "2",
                    "length": 89.13300000000001,
                    "maxspeed": null,
                    "name": "East Madison Street",
                    "oneway": false,
                    "osmid": 932449456,
                    "ref": null,
                    "style": {
                      "color": "black",
                      "fillColor": "black"
                    }
                  },
                  "geometry": {
                    "type": "LineString",
                    "coordinates": [
                      [
                        -82.4557374,
                        27.9492989
                      ],
                      [
                        -82.4558403,
                        27.9492633
                      ],
                      [
                        -82.4559835,
                        27.949214
                      ],
                      [
                        -82.456479,
                        27.9490436
                      ],
                      [
                        -82.4565827,
                        27.9490074
                      ]
                    ]
                  },
                  "bbox": [
                    -82.4565827,
                    27.9490074,
                    -82.4557374,
                    27.9492989
                  ]
                },
                {
                  "id": "(97815628, 942206728, 0)",
                  "type": "Feature",
                  "properties": {
                    "highway": "secondary",
                    "lanes": "4",
                    "length": 87.783,
                    "maxspeed": "unposted",
                    "name": "Pierce Street",
                    "oneway": true,
                    "osmid": 87659447,
                    "ref": null,
                    "style": {
                      "color": "black",
                      "fillColor": "black"
                    }
                  },
                  "geometry": {
                    "type": "LineString",
                    "coordinates": [
                      [
                        -82.454896,
                        27.949589
                      ],
                      [
                        -82.4548607,
                        27.9495053
                      ],
                      [
                        -82.4546172,
                        27.9489489
                      ],
                      [
                        -82.4545754,
                        27.9488521
                      ]
                    ]
                  },
                  "bbox": [
                    -82.454896,
                    27.9488521,
                    -82.4545754,
                    27.949589
                  ]
                },
                {
                  "id": "(97815628, 97815626, 0)",
                  "type": "Feature",
                  "properties": {
                    "highway": "tertiary",
                    "lanes": "2",
                    "length": 88.71900000000001,
                    "maxspeed": null,
                    "name": "East Madison Street",
                    "oneway": false,
                    "osmid": 932449456,
                    "ref": null,
                    "style": {
                      "color": "black",
                      "fillColor": "black"
                    }
                  },
                  "geometry": {
                    "type": "LineString",
                    "coordinates": [
                      [
                        -82.454896,
                        27.949589
                      ],
                      [
                        -82.4550239,
                        27.9495445
                      ],
                      [
                        -82.4551298,
                        27.9495084
                      ],
                      [
                        -82.4556274,
                        27.9493368
                      ],
                      [
                        -82.4557374,
                        27.9492989
                      ]
                    ]
                  },
                  "bbox": [
                    -82.4557374,
                    27.9492989,
                    -82.454896,
                    27.949589
                  ]
                },
                {
                  "id": "(97871012, 97871010, 0)",
                  "type": "Feature",
                  "properties": {
                    "highway": "primary",
                    "lanes": "4",
                    "length": 88.90200000000002,
                    "maxspeed": "30 mph",
                    "name": "Kennedy Boulevard",
                    "oneway": true,
                    "osmid": 23946064,
                    "ref": "FL 60",
                    "style": {
                      "color": "black",
                      "fillColor": "black"
                    }
                  },
                  "geometry": {
                    "type": "LineString",
                    "coordinates": [
                      [
                        -82.4579291,
                        27.9476964
                      ],
                      [
                        -82.4580214,
                        27.9476642
                      ],
                      [
                        -82.4586626,
                        27.9474348
                      ],
                      [
                        -82.4587699,
                        27.9474007
                      ]
                    ]
                  },
                  "bbox": [
                    -82.4587699,
                    27.9474007,
                    -82.4579291,
                    27.9476964
                  ]
                },
                {
                  "id": "(97871012, 975495315, 0)",
                  "type": "Feature",
                  "properties": {
                    "highway": "unclassified",
                    "lanes": "2",
                    "length": 87.83900000000001,
                    "maxspeed": null,
                    "name": "North Franklin Street",
                    "oneway": false,
                    "osmid": 932449457,
                    "ref": null,
                    "style": {
                      "color": "black",
                      "fillColor": "black"
                    }
                  },
                  "geometry": {
                    "type": "LineString",
                    "coordinates": [
                      [
                        -82.4579291,
                        27.9476964
                      ],
                      [
                        -82.4579704,
                        27.9477827
                      ],
                      [
                        -82.4579917,
                        27.9478282
                      ],
                      [
                        -82.4580761,
                        27.9480311
                      ],
                      [
                        -82.4580826,
                        27.9480509
                      ],
                      [
                        -82.4580881,
                        27.9480707
                      ],
                      [
                        -82.4580971,
                        27.9481095
                      ],
                      [
                        -82.4581091,
                        27.9481464
                      ],
                      [
                        -82.4581241,
                        27.9481834
                      ],
                      [
                        -82.4582015,
                        27.9483577
                      ],
                      [
                        -82.4582366,
                        27.9484372
                      ]
                    ]
                  },
                  "bbox": [
                    -82.4582366,
                    27.9476964,
                    -82.4579291,
                    27.9484372
                  ]
                },
                {
                  "id": "(97871013, 97871012, 0)",
                  "type": "Feature",
                  "properties": {
                    "highway": "primary",
                    "lanes": "4",
                    "length": 87.25999999999999,
                    "maxspeed": "30 mph",
                    "name": "Kennedy Boulevard",
                    "oneway": true,
                    "osmid": 47222463,
                    "ref": "FL 60",
                    "style": {
                      "color": "black",
                      "fillColor": "black"
                    }
                  },
                  "geometry": {
                    "type": "LineString",
                    "coordinates": [
                      [
                        -82.4570982,
                        27.9479739
                      ],
                      [
                        -82.4572276,
                        27.9479331
                      ],
                      [
                        -82.4578324,
                        27.9477311
                      ],
                      [
                        -82.4579291,
                        27.9476964
                      ]
                    ]
                  },
                  "bbox": [
                    -82.4579291,
                    27.9476964,
                    -82.4570982,
                    27.9479739
                  ]
                },
                {
                  "id": "(97871013, 474972598, 0)",
                  "type": "Feature",
                  "properties": {
                    "highway": "primary",
                    "lanes": "4",
                    "length": 88.657,
                    "maxspeed": "35 mph",
                    "name": "North Florida Avenue",
                    "oneway": true,
                    "osmid": 47222465,
                    "ref": "US 41 Business",
                    "style": {
                      "color": "black",
                      "fillColor": "black"
                    }
                  },
                  "geometry": {
                    "type": "LineString",
                    "coordinates": [
                      [
                        -82.4570982,
                        27.9479739
                      ],
                      [
                        -82.4571355,
                        27.9480717
                      ],
                      [
                        -82.4571951,
                        27.9482086
                      ],
                      [
                        -82.4571983,
                        27.9482156
                      ],
                      [
                        -82.4572832,
                        27.9484053
                      ],
                      [
                        -82.4573867,
                        27.9486362
                      ],
                      [
                        -82.4574238,
                        27.9487174
                      ]
                    ]
                  },
                  "bbox": [
                    -82.4574238,
                    27.9479739,
                    -82.4570982,
                    27.9487174
                  ]
                },
                {
                  "id": "(97871014, 97775156, 0)",
                  "type": "Feature",
                  "properties": {
                    "highway": "primary",
                    "lanes": "4",
                    "length": 88.913,
                    "maxspeed": "30 mph",
                    "name": "East Kennedy Boulevard",
                    "oneway": true,
                    "osmid": 115040529,
                    "ref": "US 41 Business;FL 60",
                    "style": {
                      "color": "black",
                      "fillColor": "black"
                    }
                  },
                  "geometry": {
                    "type": "LineString",
                    "coordinates": [
                      [
                        -82.4554104,
                        27.9485626
                      ],
                      [
                        -82.4555112,
                        27.948528
                      ],
                      [
                        -82.4561519,
                        27.9482985
                      ],
                      [
                        -82.4562493,
                        27.9482623
                      ]
                    ]
                  },
                  "bbox": [
                    -82.4562493,
                    27.9482623,
                    -82.4554104,
                    27.9485626
                  ]
                },
                {
                  "id": "(97871014, 97815626, 0)",
                  "type": "Feature",
                  "properties": {
                    "highway": "tertiary",
                    "lanes": "4",
                    "length": 87.94900000000001,
                    "maxspeed": null,
                    "name": "North Morgan Street",
                    "oneway": false,
                    "osmid": 168522075,
                    "ref": null,
                    "style": {
                      "color": "black",
                      "fillColor": "black"
                    }
                  },
                  "geometry": {
                    "type": "LineString",
                    "coordinates": [
                      [
                        -82.4554104,
                        27.9485626
                      ],
                      [
                        -82.4554545,
                        27.9486609
                      ],
                      [
                        -82.4556038,
                        27.9489992
                      ],
                      [
                        -82.4556622,
                        27.9491296
                      ],
                      [
                        -82.4556953,
                        27.9492056
                      ],
                      [
                        -82.4557374,
                        27.9492989
                      ]
                    ]
                  },
                  "bbox": [
                    -82.4557374,
                    27.9485626,
                    -82.4554104,
                    27.9492989
                  ]
                },
                {
                  "id": "(97871017, 97927140, 0)",
                  "type": "Feature",
                  "properties": {
                    "highway": "secondary",
                    "lanes": "4",
                    "length": 176.89700000000002,
                    "maxspeed": "30 mph",
                    "name": "North Jefferson Street",
                    "oneway": false,
                    "osmid": 117012652,
                    "ref": null,
                    "style": {
                      "color": "black",
                      "fillColor": "black"
                    }
                  },
                  "geometry": {
                    "type": "LineString",
                    "coordinates": [
                      [
                        -82.4537286,
                        27.9491431
                      ],
                      [
                        -82.4537686,
                        27.9492326
                      ],
                      [
                        -82.4539279,
                        27.9495938
                      ],
                      [
                        -82.4540413,
                        27.949851
                      ],
                      [
                        -82.4541757,
                        27.9501552
                      ],
                      [
                        -82.4543405,
                        27.9505283
                      ],
                      [
                        -82.4543834,
                        27.9506251
                      ]
                    ]
                  },
                  "bbox": [
                    -82.4543834,
                    27.9491431,
                    -82.4537286,
                    27.9506251
                  ]
                },
                {
                  "id": "(97871017, 942206728, 0)",
                  "type": "Feature",
                  "properties": {
                    "highway": "primary",
                    "lanes": "4",
                    "length": 89.25200000000001,
                    "maxspeed": "30 mph",
                    "name": "East Kennedy Boulevard",
                    "oneway": true,
                    "osmid": 117012653,
                    "ref": "US 41 Business;FL 60",
                    "style": {
                      "color": "black",
                      "fillColor": "black"
                    }
                  },
                  "geometry": {
                    "type": "LineString",
                    "coordinates": [
                      [
                        -82.4537286,
                        27.9491431
                      ],
                      [
                        -82.4538321,
                        27.9491073
                      ],
                      [
                        -82.4544646,
                        27.9488884
                      ],
                      [
                        -82.4545754,
                        27.9488521
                      ]
                    ]
                  },
                  "bbox": [
                    -82.4545754,
                    27.9488521,
                    -82.4537286,
                    27.9491431
                  ]
                },
                {
                  "id": "(97871022, 1993753421, 0)",
                  "type": "Feature",
                  "properties": {
                    "highway": "primary",
                    "lanes": "3",
                    "length": 83.66799999999999,
                    "maxspeed": "30 mph",
                    "name": "East Kennedy Boulevard",
                    "oneway": true,
                    "osmid": 188754665,
                    "ref": "US 41 Business;FL 60",
                    "style": {
                      "color": "black",
                      "fillColor": "black"
                    }
                  },
                  "geometry": {
                    "type": "LineString",
                    "coordinates": [
                      [
                        -82.4520812,
                        27.9496714
                      ],
                      [
                        -82.4522234,
                        27.9496187
                      ],
                      [
                        -82.4527649,
                        27.9494307
                      ],
                      [
                        -82.4528747,
                        27.9493983
                      ]
                    ]
                  },
                  "bbox": [
                    -82.4528747,
                    27.9493983,
                    -82.4520812,
                    27.9496714
                  ]
                },
                {
                  "id": "(97876151, 97928976, 0)",
                  "type": "Feature",
                  "properties": {
                    "highway": "tertiary",
                    "lanes": "4",
                    "length": 88.68900000000001,
                    "maxspeed": "30 mph",
                    "name": "East Twiggs Street",
                    "oneway": false,
                    "osmid": 87174879,
                    "ref": null,
                    "style": {
                      "color": "black",
                      "fillColor": "black"
                    }
                  },
                  "geometry": {
                    "type": "LineString",
                    "coordinates": [
                      [
                        -82.456066,
                        27.950046
                      ],
                      [
                        -82.4559605,
                        27.9500819
                      ],
                      [
                        -82.4556937,
                        27.9501733
                      ],
                      [
                        -82.455333,
                        27.9502959
                      ],
                      [
                        -82.455224,
                        27.950334
                      ]
                    ]
                  },
                  "bbox": [
                    -82.456066,
                    27.950046,
                    -82.455224,
                    27.950334
                  ]
                },
                {
                  "id": "(97876151, 97775163, 0)",
                  "type": "Feature",
                  "properties": {
                    "highway": "tertiary",
                    "lanes": "4",
                    "length": 88.28299999999999,
                    "maxspeed": "30 mph",
                    "name": "East Twiggs Street",
                    "oneway": false,
                    "osmid": 87174879,
                    "ref": null,
                    "style": {
                      "color": "black",
                      "fillColor": "black"
                    }
                  },
                  "geometry": {
                    "type": "LineString",
                    "coordinates": [
                      [
                        -82.456066,
                        27.950046
                      ],
                      [
                        -82.4561667,
                        27.9500109
                      ],
                      [
                        -82.45632,
                        27.949959
                      ],
                      [
                        -82.4568055,
                        27.9497928
                      ],
                      [
                        -82.456904,
                        27.949759
                      ]
                    ]
                  },
                  "bbox": [
                    -82.456904,
                    27.949759,
                    -82.456066,
                    27.950046
                  ]
                },
                {
                  "id": "(97876151, 97815626, 0)",
                  "type": "Feature",
                  "properties": {
                    "highway": "tertiary",
                    "lanes": "4",
                    "length": 89.12499999999999,
                    "maxspeed": null,
                    "name": "North Morgan Street",
                    "oneway": false,
                    "osmid": 168522075,
                    "ref": null,
                    "style": {
                      "color": "black",
                      "fillColor": "black"
                    }
                  },
                  "geometry": {
                    "type": "LineString",
                    "coordinates": [
                      [
                        -82.456066,
                        27.950046
                      ],
                      [
                        -82.4560273,
                        27.9499588
                      ],
                      [
                        -82.4557819,
                        27.9494039
                      ],
                      [
                        -82.4557374,
                        27.9492989
                      ]
                    ]
                  },
                  "bbox": [
                    -82.456066,
                    27.9492989,
                    -82.4557374,
                    27.950046
                  ]
                },
                {
                  "id": "(97876151, 97876153, 0)",
                  "type": "Feature",
                  "properties": {
                    "highway": "tertiary",
                    "lanes": "4",
                    "length": 89.614,
                    "maxspeed": null,
                    "name": "North Morgan Street",
                    "oneway": false,
                    "osmid": 168522075,
                    "ref": null,
                    "style": {
                      "color": "black",
                      "fillColor": "black"
                    }
                  },
                  "geometry": {
                    "type": "LineString",
                    "coordinates": [
                      [
                        -82.456066,
                        27.950046
                      ],
                      [
                        -82.4561123,
                        27.9501524
                      ],
                      [
                        -82.4561531,
                        27.9502462
                      ],
                      [
                        -82.456355,
                        27.9507105
                      ],
                      [
                        -82.4563932,
                        27.9507983
                      ]
                    ]
                  },
                  "bbox": [
                    -82.4563932,
                    27.950046,
                    -82.456066,
                    27.9507983
                  ]
                },
                {
                  "id": "(97876153, 97970376, 0)",
                  "type": "Feature",
                  "properties": {
                    "highway": "tertiary",
                    "lanes": "2",
                    "length": 88.47,
                    "maxspeed": null,
                    "name": "East Zack Street",
                    "oneway": false,
                    "osmid": 11000973,
                    "ref": null,
                    "style": {
                      "color": "black",
                      "fillColor": "black"
                    }
                  },
                  "geometry": {
                    "type": "LineString",
                    "coordinates": [
                      [
                        -82.4563932,
                        27.9507983
                      ],
                      [
                        -82.4562786,
                        27.9508362
                      ],
                      [
                        -82.4557835,
                        27.9510054
                      ],
                      [
                        -82.455661,
                        27.9510472
                      ],
                      [
                        -82.4555525,
                        27.9510838
                      ]
                    ]
                  },
                  "bbox": [
                    -82.4563932,
                    27.9507983,
                    -82.4555525,
                    27.9510838
                  ]
                },
                {
                  "id": "(97876153, 97775165, 0)",
                  "type": "Feature",
                  "properties": {
                    "highway": "tertiary",
                    "lanes": "2",
                    "length": 88.74799999999999,
                    "maxspeed": null,
                    "name": "East Zack Street",
                    "oneway": false,
                    "osmid": 11000973,
                    "ref": null,
                    "style": {
                      "color": "black",
                      "fillColor": "black"
                    }
                  },
                  "geometry": {
                    "type": "LineString",
                    "coordinates": [
                      [
                        -82.4563932,
                        27.9507983
                      ],
                      [
                        -82.456495,
                        27.9507634
                      ],
                      [
                        -82.4571368,
                        27.9505441
                      ],
                      [
                        -82.4572355,
                        27.9505095
                      ]
                    ]
                  },
                  "bbox": [
                    -82.4572355,
                    27.9505095,
                    -82.4563932,
                    27.9507983
                  ]
                },
                {
                  "id": "(97876153, 97876151, 0)",
                  "type": "Feature",
                  "properties": {
                    "highway": "tertiary",
                    "lanes": "4",
                    "length": 89.61399999999999,
                    "maxspeed": null,
                    "name": "North Morgan Street",
                    "oneway": false,
                    "osmid": 168522075,
                    "ref": null,
                    "style": {
                      "color": "black",
                      "fillColor": "black"
                    }
                  },
                  "geometry": {
                    "type": "LineString",
                    "coordinates": [
                      [
                        -82.4563932,
                        27.9507983
                      ],
                      [
                        -82.456355,
                        27.9507105
                      ],
                      [
                        -82.4561531,
                        27.9502462
                      ],
                      [
                        -82.4561123,
                        27.9501524
                      ],
                      [
                        -82.456066,
                        27.950046
                      ]
                    ]
                  },
                  "bbox": [
                    -82.4563932,
                    27.950046,
                    -82.456066,
                    27.9507983
                  ]
                },
                {
                  "id": "(97876153, 1870060169, 0)",
                  "type": "Feature",
                  "properties": {
                    "highway": "tertiary",
                    "lanes": "4",
                    "length": 82.20700000000001,
                    "maxspeed": null,
                    "name": "North Morgan Street",
                    "oneway": false,
                    "osmid": 168522075,
                    "ref": null,
                    "style": {
                      "color": "black",
                      "fillColor": "black"
                    }
                  },
                  "geometry": {
                    "type": "LineString",
                    "coordinates": [
                      [
                        -82.4563932,
                        27.9507983
                      ],
                      [
                        -82.4564338,
                        27.9508886
                      ],
                      [
                        -82.4566788,
                        27.9514358
                      ],
                      [
                        -82.4567021,
                        27.9514854
                      ]
                    ]
                  },
                  "bbox": [
                    -82.4567021,
                    27.9507983,
                    -82.4563932,
                    27.9514854
                  ]
                },
                {
                  "id": "(97925457, 975495316, 0)",
                  "type": "Feature",
                  "properties": {
                    "highway": "primary",
                    "lanes": "3",
                    "length": 89.45499999999998,
                    "maxspeed": "30 mph",
                    "name": "North Tampa Street",
                    "oneway": true,
                    "osmid": 190333972,
                    "ref": "US 41 Business",
                    "style": {
                      "color": "black",
                      "fillColor": "black"
                    }
                  },
                  "geometry": {
                    "type": "LineString",
                    "coordinates": [
                      [
                        -82.459428,
                        27.94889
                      ],
                      [
                        -82.4593896,
                        27.948803
                      ],
                      [
                        -82.4592645,
                        27.94852
                      ],
                      [
                        -82.4592601,
                        27.94851
                      ],
                      [
                        -82.4591445,
                        27.9482458
                      ],
                      [
                        -82.4590968,
                        27.9481406
                      ]
                    ]
                  },
                  "bbox": [
                    -82.459428,
                    27.9481406,
                    -82.4590968,
                    27.94889
                  ]
                },
                {
                  "id": "(97925457, 97928972, 0)",
                  "type": "Feature",
                  "properties": {
                    "highway": "tertiary",
                    "lanes": "2",
                    "length": 85.988,
                    "maxspeed": "30 mph",
                    "name": "East Twiggs Street",
                    "oneway": false,
                    "osmid": 794324838,
                    "ref": null,
                    "style": {
                      "color": "black",
                      "fillColor": "black"
                    }
                  },
                  "geometry": {
                    "type": "LineString",
                    "coordinates": [
                      [
                        -82.459428,
                        27.94889
                      ],
                      [
                        -82.4593218,
                        27.948926
                      ],
                      [
                        -82.4589351,
                        27.9490735
                      ],
                      [
                        -82.4586985,
                        27.949157
                      ],
                      [
                        -82.458618,
                        27.9491829
                      ]
                    ]
                  },
                  "bbox": [
                    -82.459428,
                    27.94889,
                    -82.458618,
                    27.9491829
                  ]
                },
                {
                  "id": "(97925459, 97925457, 0)",
                  "type": "Feature",
                  "properties": {
                    "highway": "primary",
                    "lanes": "3",
                    "length": 89.104,
                    "maxspeed": "30 mph",
                    "name": "North Tampa Street",
                    "oneway": true,
                    "osmid": 190333972,
                    "ref": "US 41 Business",
                    "style": {
                      "color": "black",
                      "fillColor": "black"
                    }
                  },
                  "geometry": {
                    "type": "LineString",
                    "coordinates": [
                      [
                        -82.4597618,
                        27.9496351
                      ],
                      [
                        -82.4597334,
                        27.9495732
                      ],
                      [
                        -82.4596473,
                        27.949379
                      ],
                      [
                        -82.4596452,
                        27.9493743
                      ],
                      [
                        -82.4596218,
                        27.9493224
                      ],
                      [
                        -82.4596132,
                        27.9493029
                      ],
                      [
                        -82.4594719,
                        27.9489877
                      ],
                      [
                        -82.459428,
                        27.94889
                      ]
                    ]
                  },
                  "bbox": [
                    -82.4597618,
                    27.94889,
                    -82.459428,
                    27.9496351
                  ]
                },
                {
                  "id": "(97925459, 97964888, 0)",
                  "type": "Feature",
                  "properties": {
                    "highway": "tertiary",
                    "lanes": "2",
                    "length": 92.024,
                    "maxspeed": null,
                    "name": "East Zack Street",
                    "oneway": false,
                    "osmid": 909318437,
                    "ref": null,
                    "style": {
                      "color": "black",
                      "fillColor": "black"
                    }
                  },
                  "geometry": {
                    "type": "LineString",
                    "coordinates": [
                      [
                        -82.4597618,
                        27.9496351
                      ],
                      [
                        -82.4596427,
                        27.949677
                      ],
                      [
                        -82.4592746,
                        27.9498061
                      ],
                      [
                        -82.4590041,
                        27.949901
                      ],
                      [
                        -82.4588911,
                        27.9499406
                      ]
                    ]
                  },
                  "bbox": [
                    -82.4597618,
                    27.9496351,
                    -82.4588911,
                    27.9499406
                  ]
                },
                {
                  "id": "(97927140, 97928978, 0)",
                  "type": "Feature",
                  "properties": {
                    "highway": "tertiary",
                    "lanes": "4",
                    "length": 94.40299999999999,
                    "maxspeed": "30 mph",
                    "name": "East Twiggs Street",
                    "oneway": false,
                    "osmid": 87174879,
                    "ref": null,
                    "style": {
                      "color": "black",
                      "fillColor": "black"
                    }
                  },
                  "geometry": {
                    "type": "LineString",
                    "coordinates": [
                      [
                        -82.4543834,
                        27.9506251
                      ],
                      [
                        -82.4542746,
                        27.9506623
                      ],
                      [
                        -82.4536385,
                        27.9508819
                      ],
                      [
                        -82.4535775,
                        27.9509037
                      ],
                      [
                        -82.4534884,
                        27.9509345
                      ]
                    ]
                  },
                  "bbox": [
                    -82.4543834,
                    27.9506251,
                    -82.4534884,
                    27.9509345
                  ]
                },
                {
                  "id": "(97927140, 97928976, 0)",
                  "type": "Feature",
                  "properties": {
                    "highway": "tertiary",
                    "lanes": "4",
                    "length": 88.68599999999999,
                    "maxspeed": "30 mph",
                    "name": "East Twiggs Street",
                    "oneway": false,
                    "osmid": 87174879,
                    "ref": null,
                    "style": {
                      "color": "black",
                      "fillColor": "black"
                    }
                  },
                  "geometry": {
                    "type": "LineString",
                    "coordinates": [
                      [
                        -82.4543834,
                        27.9506251
                      ],
                      [
                        -82.4544901,
                        27.9505879
                      ],
                      [
                        -82.4551043,
                        27.9503766
                      ],
                      [
                        -82.455224,
                        27.950334
                      ]
                    ]
                  },
                  "bbox": [
                    -82.455224,
                    27.950334,
                    -82.4543834,
                    27.9506251
                  ]
                },
                {
                  "id": "(97927140, 97927142, 0)",
                  "type": "Feature",
                  "properties": {
                    "highway": "secondary",
                    "lanes": "4",
                    "length": 87.532,
                    "maxspeed": "30 mph",
                    "name": "North Jefferson Street",
                    "oneway": false,
                    "osmid": 117012652,
                    "ref": null,
                    "style": {
                      "color": "black",
                      "fillColor": "black"
                    }
                  },
                  "geometry": {
                    "type": "LineString",
                    "coordinates": [
                      [
                        -82.4543834,
                        27.9506251
                      ],
                      [
                        -82.4544301,
                        27.9507312
                      ],
                      [
                        -82.4546725,
                        27.951283
                      ],
                      [
                        -82.4547077,
                        27.9513583
                      ]
                    ]
                  },
                  "bbox": [
                    -82.4547077,
                    27.9506251,
                    -82.4543834,
                    27.9513583
                  ]
                },
                {
                  "id": "(97927140, 97871017, 0)",
                  "type": "Feature",
                  "properties": {
                    "highway": "secondary",
                    "lanes": "4",
                    "length": 176.897,
                    "maxspeed": "30 mph",
                    "name": "North Jefferson Street",
                    "oneway": false,
                    "osmid": 117012652,
                    "ref": null,
                    "style": {
                      "color": "black",
                      "fillColor": "black"
                    }
                  },
                  "geometry": {
                    "type": "LineString",
                    "coordinates": [
                      [
                        -82.4543834,
                        27.9506251
                      ],
                      [
                        -82.4543405,
                        27.9505283
                      ],
                      [
                        -82.4541757,
                        27.9501552
                      ],
                      [
                        -82.4540413,
                        27.949851
                      ],
                      [
                        -82.4539279,
                        27.9495938
                      ],
                      [
                        -82.4537686,
                        27.9492326
                      ],
                      [
                        -82.4537286,
                        27.9491431
                      ]
                    ]
                  },
                  "bbox": [
                    -82.4543834,
                    27.9491431,
                    -82.4537286,
                    27.9506251
                  ]
                },
                {
                  "id": "(97927142, 97970376, 0)",
                  "type": "Feature",
                  "properties": {
                    "highway": "tertiary",
                    "lanes": "2",
                    "length": 88.418,
                    "maxspeed": null,
                    "name": "East Zack Street",
                    "oneway": false,
                    "osmid": 11000973,
                    "ref": null,
                    "style": {
                      "color": "black",
                      "fillColor": "black"
                    }
                  },
                  "geometry": {
                    "type": "LineString",
                    "coordinates": [
                      [
                        -82.4547077,
                        27.9513583
                      ],
                      [
                        -82.4548056,
                        27.9513284
                      ],
                      [
                        -82.455271,
                        27.951175
                      ],
                      [
                        -82.4552812,
                        27.9511717
                      ],
                      [
                        -82.4554404,
                        27.9511201
                      ],
                      [
                        -82.4555525,
                        27.9510838
                      ]
                    ]
                  },
                  "bbox": [
                    -82.4555525,
                    27.9510838,
                    -82.4547077,
                    27.9513583
                  ]
                },
                {
                  "id": "(97927142, 1870060205, 0)",
                  "type": "Feature",
                  "properties": {
                    "highway": "secondary",
                    "lanes": "4",
                    "length": 84.01500000000001,
                    "maxspeed": "30 mph",
                    "name": "North Jefferson Street",
                    "oneway": false,
                    "osmid": 117012652,
                    "ref": null,
                    "style": {
                      "color": "black",
                      "fillColor": "black"
                    }
                  },
                  "geometry": {
                    "type": "LineString",
                    "coordinates": [
                      [
                        -82.4547077,
                        27.9513583
                      ],
                      [
                        -82.4547478,
                        27.9514488
                      ],
                      [
                        -82.4548623,
                        27.9517075
                      ],
                      [
                        -82.4549634,
                        27.951936
                      ],
                      [
                        -82.4549705,
                        27.9519521
                      ],
                      [
                        -82.4550191,
                        27.952062
                      ]
                    ]
                  },
                  "bbox": [
                    -82.4550191,
                    27.9513583,
                    -82.4547077,
                    27.952062
                  ]
                },
                {
                  "id": "(97927142, 97927140, 0)",
                  "type": "Feature",
                  "properties": {
                    "highway": "secondary",
                    "lanes": "4",
                    "length": 87.532,
                    "maxspeed": "30 mph",
                    "name": "North Jefferson Street",
                    "oneway": false,
                    "osmid": 117012652,
                    "ref": null,
                    "style": {
                      "color": "black",
                      "fillColor": "black"
                    }
                  },
                  "geometry": {
                    "type": "LineString",
                    "coordinates": [
                      [
                        -82.4547077,
                        27.9513583
                      ],
                      [
                        -82.4546725,
                        27.951283
                      ],
                      [
                        -82.4544301,
                        27.9507312
                      ],
                      [
                        -82.4543834,
                        27.9506251
                      ]
                    ]
                  },
                  "bbox": [
                    -82.4547077,
                    27.9506251,
                    -82.4543834,
                    27.9513583
                  ]
                },
                {
                  "id": "(97928972, 97928974, 0)",
                  "type": "Feature",
                  "properties": {
                    "highway": "tertiary",
                    "lanes": "3",
                    "length": 91.66499999999999,
                    "maxspeed": "30 mph",
                    "name": "East Twiggs Street",
                    "oneway": false,
                    "osmid": 87174882,
                    "ref": null,
                    "style": {
                      "color": "black",
                      "fillColor": "black"
                    }
                  },
                  "geometry": {
                    "type": "LineString",
                    "coordinates": [
                      [
                        -82.458618,
                        27.9491829
                      ],
                      [
                        -82.4585562,
                        27.949201
                      ],
                      [
                        -82.4581077,
                        27.9493472
                      ],
                      [
                        -82.4580167,
                        27.9493768
                      ],
                      [
                        -82.4578494,
                        27.9494309
                      ],
                      [
                        -82.457742,
                        27.949467
                      ]
                    ]
                  },
                  "bbox": [
                    -82.458618,
                    27.9491829,
                    -82.457742,
                    27.949467
                  ]
                },
                {
                  "id": "(97928972, 975495315, 0)",
                  "type": "Feature",
                  "properties": {
                    "highway": "unclassified",
                    "lanes": "2",
                    "length": 91.496,
                    "maxspeed": null,
                    "name": "North Franklin Street",
                    "oneway": false,
                    "osmid": 203993896,
                    "ref": null,
                    "style": {
                      "color": "black",
                      "fillColor": "black"
                    }
                  },
                  "geometry": {
                    "type": "LineString",
                    "coordinates": [
                      [
                        -82.458618,
                        27.9491829
                      ],
                      [
                        -82.4585839,
                        27.9490963
                      ],
                      [
                        -82.4585645,
                        27.949054
                      ],
                      [
                        -82.4585201,
                        27.9489467
                      ],
                      [
                        -82.4585054,
                        27.948917
                      ],
                      [
                        -82.4584889,
                        27.9488887
                      ],
                      [
                        -82.4584639,
                        27.9488534
                      ],
                      [
                        -82.4584318,
                        27.9488181
                      ],
                      [
                        -82.4583966,
                        27.9487773
                      ],
                      [
                        -82.4583808,
                        27.9487549
                      ],
                      [
                        -82.4583676,
                        27.9487325
                      ],
                      [
                        -82.4582772,
                        27.9485287
                      ],
                      [
                        -82.4582366,
                        27.9484372
                      ]
                    ]
                  },
                  "bbox": [
                    -82.458618,
                    27.9484372,
                    -82.4582366,
                    27.9491829
                  ]
                },
                {
                  "id": "(97928972, 97964888, 0)",
                  "type": "Feature",
                  "properties": {
                    "highway": "unclassified",
                    "lanes": "2",
                    "length": 88.943,
                    "maxspeed": null,
                    "name": "North Franklin Street",
                    "oneway": false,
                    "osmid": 203993896,
                    "ref": null,
                    "style": {
                      "color": "black",
                      "fillColor": "black"
                    }
                  },
                  "geometry": {
                    "type": "LineString",
                    "coordinates": [
                      [
                        -82.458618,
                        27.9491829
                      ],
                      [
                        -82.4586546,
                        27.9492665
                      ],
                      [
                        -82.4587326,
                        27.9494506
                      ],
                      [
                        -82.4587425,
                        27.9494792
                      ],
                      [
                        -82.4587489,
                        27.9495085
                      ],
                      [
                        -82.458751,
                        27.9495446
                      ],
                      [
                        -82.4587546,
                        27.9496014
                      ],
                      [
                        -82.4587586,
                        27.9496299
                      ],
                      [
                        -82.4587671,
                        27.9496575
                      ],
                      [
                        -82.4588616,
                        27.9498769
                      ],
                      [
                        -82.4588911,
                        27.9499406
                      ]
                    ]
                  },
                  "bbox": [
                    -82.4588911,
                    27.9491829,
                    -82.458618,
                    27.9499406
                  ]
                },
                {
                  "id": "(97928972, 97925457, 0)",
                  "type": "Feature",
                  "properties": {
                    "highway": "tertiary",
                    "lanes": "2",
                    "length": 85.988,
                    "maxspeed": "30 mph",
                    "name": "East Twiggs Street",
                    "oneway": false,
                    "osmid": 794324838,
                    "ref": null,
                    "style": {
                      "color": "black",
                      "fillColor": "black"
                    }
                  },
                  "geometry": {
                    "type": "LineString",
                    "coordinates": [
                      [
                        -82.458618,
                        27.9491829
                      ],
                      [
                        -82.4586985,
                        27.949157
                      ],
                      [
                        -82.4589351,
                        27.9490735
                      ],
                      [
                        -82.4593218,
                        27.948926
                      ],
                      [
                        -82.459428,
                        27.94889
                      ]
                    ]
                  },
                  "bbox": [
                    -82.459428,
                    27.94889,
                    -82.458618,
                    27.9491829
                  ]
                },
                {
                  "id": "(97928974, 97942623, 0)",
                  "type": "Feature",
                  "properties": {
                    "highway": "primary",
                    "lanes": "4",
                    "length": 90.61200000000001,
                    "maxspeed": "35 mph",
                    "name": "North Florida Avenue",
                    "oneway": true,
                    "osmid": 47222465,
                    "ref": "US 41 Business",
                    "style": {
                      "color": "black",
                      "fillColor": "black"
                    }
                  },
                  "geometry": {
                    "type": "LineString",
                    "coordinates": [
                      [
                        -82.457742,
                        27.949467
                      ],
                      [
                        -82.4577853,
                        27.9495598
                      ],
                      [
                        -82.4580361,
                        27.9501284
                      ],
                      [
                        -82.4580774,
                        27.9502261
                      ]
                    ]
                  },
                  "bbox": [
                    -82.4580774,
                    27.949467,
                    -82.457742,
                    27.9502261
                  ]
                },
                {
                  "id": "(97928974, 97775163, 0)",
                  "type": "Feature",
                  "properties": {
                    "highway": "tertiary",
                    "lanes": "4",
                    "length": 88.487,
                    "maxspeed": "30 mph",
                    "name": "East Twiggs Street",
                    "oneway": false,
                    "osmid": 87174879,
                    "ref": null,
                    "style": {
                      "color": "black",
                      "fillColor": "black"
                    }
                  },
                  "geometry": {
                    "type": "LineString",
                    "coordinates": [
                      [
                        -82.457742,
                        27.949467
                      ],
                      [
                        -82.457635,
                        27.9495045
                      ],
                      [
                        -82.4569898,
                        27.9497307
                      ],
                      [
                        -82.456904,
                        27.949759
                      ]
                    ]
                  },
                  "bbox": [
                    -82.457742,
                    27.949467,
                    -82.456904,
                    27.949759
                  ]
                },
                {
                  "id": "(97928974, 97928972, 0)",
                  "type": "Feature",
                  "properties": {
                    "highway": "tertiary",
                    "lanes": "3",
                    "length": 91.66499999999999,
                    "maxspeed": "30 mph",
                    "name": "East Twiggs Street",
                    "oneway": false,
                    "osmid": 87174882,
                    "ref": null,
                    "style": {
                      "color": "black",
                      "fillColor": "black"
                    }
                  },
                  "geometry": {
                    "type": "LineString",
                    "coordinates": [
                      [
                        -82.457742,
                        27.949467
                      ],
                      [
                        -82.4578494,
                        27.9494309
                      ],
                      [
                        -82.4580167,
                        27.9493768
                      ],
                      [
                        -82.4581077,
                        27.9493472
                      ],
                      [
                        -82.4585562,
                        27.949201
                      ],
                      [
                        -82.458618,
                        27.9491829
                      ]
                    ]
                  },
                  "bbox": [
                    -82.458618,
                    27.9491829,
                    -82.457742,
                    27.949467
                  ]
                },
                {
                  "id": "(97928976, 97927140, 0)",
                  "type": "Feature",
                  "properties": {
                    "highway": "tertiary",
                    "lanes": "4",
                    "length": 88.68599999999999,
                    "maxspeed": "30 mph",
                    "name": "East Twiggs Street",
                    "oneway": false,
                    "osmid": 87174879,
                    "ref": null,
                    "style": {
                      "color": "black",
                      "fillColor": "black"
                    }
                  },
                  "geometry": {
                    "type": "LineString",
                    "coordinates": [
                      [
                        -82.455224,
                        27.950334
                      ],
                      [
                        -82.4551043,
                        27.9503766
                      ],
                      [
                        -82.4544901,
                        27.9505879
                      ],
                      [
                        -82.4543834,
                        27.9506251
                      ]
                    ]
                  },
                  "bbox": [
                    -82.455224,
                    27.950334,
                    -82.4543834,
                    27.9506251
                  ]
                },
                {
                  "id": "(97928976, 97876151, 0)",
                  "type": "Feature",
                  "properties": {
                    "highway": "tertiary",
                    "lanes": "4",
                    "length": 88.68900000000001,
                    "maxspeed": "30 mph",
                    "name": "East Twiggs Street",
                    "oneway": false,
                    "osmid": 87174879,
                    "ref": null,
                    "style": {
                      "color": "black",
                      "fillColor": "black"
                    }
                  },
                  "geometry": {
                    "type": "LineString",
                    "coordinates": [
                      [
                        -82.455224,
                        27.950334
                      ],
                      [
                        -82.455333,
                        27.9502959
                      ],
                      [
                        -82.4556937,
                        27.9501733
                      ],
                      [
                        -82.4559605,
                        27.9500819
                      ],
                      [
                        -82.456066,
                        27.950046
                      ]
                    ]
                  },
                  "bbox": [
                    -82.456066,
                    27.950046,
                    -82.455224,
                    27.950334
                  ]
                },
                {
                  "id": "(97928976, 97815628, 0)",
                  "type": "Feature",
                  "properties": {
                    "highway": "secondary",
                    "lanes": "4",
                    "length": 88.88499999999999,
                    "maxspeed": "unposted",
                    "name": "Pierce Street",
                    "oneway": true,
                    "osmid": 87659447,
                    "ref": null,
                    "style": {
                      "color": "black",
                      "fillColor": "black"
                    }
                  },
                  "geometry": {
                    "type": "LineString",
                    "coordinates": [
                      [
                        -82.455224,
                        27.950334
                      ],
                      [
                        -82.455184,
                        27.9502429
                      ],
                      [
                        -82.4549338,
                        27.9496767
                      ],
                      [
                        -82.454896,
                        27.949589
                      ]
                    ]
                  },
                  "bbox": [
                    -82.455224,
                    27.949589,
                    -82.454896,
                    27.950334
                  ]
                },
                {
                  "id": "(97928978, 1993753395, 0)",
                  "type": "Feature",
                  "properties": {
                    "highway": "residential",
                    "lanes": null,
                    "length": 172.229,
                    "maxspeed": null,
                    "name": "East Street",
                    "oneway": false,
                    "osmid": 25886894,
                    "ref": null,
                    "style": {
                      "color": "black",
                      "fillColor": "black"
                    }
                  },
                  "geometry": {
                    "type": "LineString",
                    "coordinates": [
                      [
                        -82.4534884,
                        27.9509345
                      ],
                      [
                        -82.4534498,
                        27.9508475
                      ],
                      [
                        -82.4532935,
                        27.9504951
                      ],
                      [
                        -82.4532555,
                        27.9504096
                      ],
                      [
                        -82.4532102,
                        27.9503075
                      ],
                      [
                        -82.4531017,
                        27.9500629
                      ],
                      [
                        -82.4530571,
                        27.9499623
                      ],
                      [
                        -82.453004,
                        27.9498427
                      ],
                      [
                        -82.4528703,
                        27.9495405
                      ],
                      [
                        -82.4528486,
                        27.9494924
                      ]
                    ]
                  },
                  "bbox": [
                    -82.4534884,
                    27.9494924,
                    -82.4528486,
                    27.9509345
                  ]
                },
                {
                  "id": "(97928978, 97927140, 0)",
                  "type": "Feature",
                  "properties": {
                    "highway": "tertiary",
                    "lanes": "4",
                    "length": 94.403,
                    "maxspeed": "30 mph",
                    "name": "East Twiggs Street",
                    "oneway": false,
                    "osmid": 87174879,
                    "ref": null,
                    "style": {
                      "color": "black",
                      "fillColor": "black"
                    }
                  },
                  "geometry": {
                    "type": "LineString",
                    "coordinates": [
                      [
                        -82.4534884,
                        27.9509345
                      ],
                      [
                        -82.4535775,
                        27.9509037
                      ],
                      [
                        -82.4536385,
                        27.9508819
                      ],
                      [
                        -82.4542746,
                        27.9506623
                      ],
                      [
                        -82.4543834,
                        27.9506251
                      ]
                    ]
                  },
                  "bbox": [
                    -82.4543834,
                    27.9506251,
                    -82.4534884,
                    27.9509345
                  ]
                },
                {
                  "id": "(97942623, 1870060119, 0)",
                  "type": "Feature",
                  "properties": {
                    "highway": "primary",
                    "lanes": "4",
                    "length": 80.713,
                    "maxspeed": "35 mph",
                    "name": "North Florida Avenue",
                    "oneway": true,
                    "osmid": 47222465,
                    "ref": "US 41 Business",
                    "style": {
                      "color": "black",
                      "fillColor": "black"
                    }
                  },
                  "geometry": {
                    "type": "LineString",
                    "coordinates": [
                      [
                        -82.4580774,
                        27.9502261
                      ],
                      [
                        -82.4581131,
                        27.9503037
                      ],
                      [
                        -82.4583524,
                        27.950864
                      ],
                      [
                        -82.458369,
                        27.9509047
                      ]
                    ]
                  },
                  "bbox": [
                    -82.458369,
                    27.9502261,
                    -82.4580774,
                    27.9509047
                  ]
                },
                {
                  "id": "(97942623, 97775165, 0)",
                  "type": "Feature",
                  "properties": {
                    "highway": "tertiary",
                    "lanes": "2",
                    "length": 88.52199999999999,
                    "maxspeed": null,
                    "name": "East Zack Street",
                    "oneway": false,
                    "osmid": [
                      909318437,
                      11000973
                    ],
                    "ref": null,
                    "style": {
                      "color": "black",
                      "fillColor": "black"
                    }
                  },
                  "geometry": {
                    "type": "LineString",
                    "coordinates": [
                      [
                        -82.4580774,
                        27.9502261
                      ],
                      [
                        -82.4579718,
                        27.9502555
                      ],
                      [
                        -82.4576558,
                        27.9503609
                      ],
                      [
                        -82.4573245,
                        27.9504773
                      ],
                      [
                        -82.4572355,
                        27.9505095
                      ]
                    ]
                  },
                  "bbox": [
                    -82.4580774,
                    27.9502261,
                    -82.4572355,
                    27.9505095
                  ]
                },
                {
                  "id": "(97942623, 97964888, 0)",
                  "type": "Feature",
                  "properties": {
                    "highway": "tertiary",
                    "lanes": "2",
                    "length": 86,
                    "maxspeed": null,
                    "name": "East Zack Street",
                    "oneway": false,
                    "osmid": 909318437,
                    "ref": null,
                    "style": {
                      "color": "black",
                      "fillColor": "black"
                    }
                  },
                  "geometry": {
                    "type": "LineString",
                    "coordinates": [
                      [
                        -82.4580774,
                        27.9502261
                      ],
                      [
                        -82.4581899,
                        27.9501866
                      ],
                      [
                        -82.4583363,
                        27.9501353
                      ],
                      [
                        -82.458423,
                        27.9501048
                      ],
                      [
                        -82.4588155,
                        27.9499671
                      ],
                      [
                        -82.4588911,
                        27.9499406
                      ]
                    ]
                  },
                  "bbox": [
                    -82.4588911,
                    27.9499406,
                    -82.4580774,
                    27.9502261
                  ]
                },
                {
                  "id": "(97964888, 97928972, 0)",
                  "type": "Feature",
                  "properties": {
                    "highway": "unclassified",
                    "lanes": "2",
                    "length": 88.943,
                    "maxspeed": null,
                    "name": "North Franklin Street",
                    "oneway": false,
                    "osmid": 203993896,
                    "ref": null,
                    "style": {
                      "color": "black",
                      "fillColor": "black"
                    }
                  },
                  "geometry": {
                    "type": "LineString",
                    "coordinates": [
                      [
                        -82.4588911,
                        27.9499406
                      ],
                      [
                        -82.4588616,
                        27.9498769
                      ],
                      [
                        -82.4587671,
                        27.9496575
                      ],
                      [
                        -82.4587586,
                        27.9496299
                      ],
                      [
                        -82.4587546,
                        27.9496014
                      ],
                      [
                        -82.458751,
                        27.9495446
                      ],
                      [
                        -82.4587489,
                        27.9495085
                      ],
                      [
                        -82.4587425,
                        27.9494792
                      ],
                      [
                        -82.4587326,
                        27.9494506
                      ],
                      [
                        -82.4586546,
                        27.9492665
                      ],
                      [
                        -82.458618,
                        27.9491829
                      ]
                    ]
                  },
                  "bbox": [
                    -82.4588911,
                    27.9491829,
                    -82.458618,
                    27.9499406
                  ]
                },
                {
                  "id": "(97964888, 1870060195, 0)",
                  "type": "Feature",
                  "properties": {
                    "highway": "unclassified",
                    "lanes": "2",
                    "length": 83.18299999999999,
                    "maxspeed": null,
                    "name": "North Franklin Street",
                    "oneway": false,
                    "osmid": 203993896,
                    "ref": null,
                    "style": {
                      "color": "black",
                      "fillColor": "black"
                    }
                  },
                  "geometry": {
                    "type": "LineString",
                    "coordinates": [
                      [
                        -82.4588911,
                        27.9499406
                      ],
                      [
                        -82.4589191,
                        27.9499995
                      ],
                      [
                        -82.4590101,
                        27.9502103
                      ],
                      [
                        -82.4590268,
                        27.9502419
                      ],
                      [
                        -82.4590496,
                        27.9502725
                      ],
                      [
                        -82.4590795,
                        27.9503014
                      ],
                      [
                        -82.4591034,
                        27.9503276
                      ],
                      [
                        -82.4591262,
                        27.9503574
                      ],
                      [
                        -82.459146,
                        27.950389
                      ],
                      [
                        -82.4591723,
                        27.9504504
                      ],
                      [
                        -82.4592266,
                        27.9505643
                      ],
                      [
                        -82.4592474,
                        27.950614
                      ]
                    ]
                  },
                  "bbox": [
                    -82.4592474,
                    27.9499406,
                    -82.4588911,
                    27.950614
                  ]
                },
                {
                  "id": "(97964888, 97942623, 0)",
                  "type": "Feature",
                  "properties": {
                    "highway": "tertiary",
                    "lanes": "2",
                    "length": 86,
                    "maxspeed": null,
                    "name": "East Zack Street",
                    "oneway": false,
                    "osmid": 909318437,
                    "ref": null,
                    "style": {
                      "color": "black",
                      "fillColor": "black"
                    }
                  },
                  "geometry": {
                    "type": "LineString",
                    "coordinates": [
                      [
                        -82.4588911,
                        27.9499406
                      ],
                      [
                        -82.4588155,
                        27.9499671
                      ],
                      [
                        -82.458423,
                        27.9501048
                      ],
                      [
                        -82.4583363,
                        27.9501353
                      ],
                      [
                        -82.4581899,
                        27.9501866
                      ],
                      [
                        -82.4580774,
                        27.9502261
                      ]
                    ]
                  },
                  "bbox": [
                    -82.4588911,
                    27.9499406,
                    -82.4580774,
                    27.9502261
                  ]
                },
                {
                  "id": "(97964888, 97925459, 0)",
                  "type": "Feature",
                  "properties": {
                    "highway": "tertiary",
                    "lanes": "2",
                    "length": 92.024,
                    "maxspeed": null,
                    "name": "East Zack Street",
                    "oneway": false,
                    "osmid": 909318437,
                    "ref": null,
                    "style": {
                      "color": "black",
                      "fillColor": "black"
                    }
                  },
                  "geometry": {
                    "type": "LineString",
                    "coordinates": [
                      [
                        -82.4588911,
                        27.9499406
                      ],
                      [
                        -82.4590041,
                        27.949901
                      ],
                      [
                        -82.4592746,
                        27.9498061
                      ],
                      [
                        -82.4596427,
                        27.949677
                      ],
                      [
                        -82.4597618,
                        27.9496351
                      ]
                    ]
                  },
                  "bbox": [
                    -82.4597618,
                    27.9496351,
                    -82.4588911,
                    27.9499406
                  ]
                },
                {
                  "id": "(97970376, 97927142, 0)",
                  "type": "Feature",
                  "properties": {
                    "highway": "tertiary",
                    "lanes": "2",
                    "length": 88.41799999999999,
                    "maxspeed": null,
                    "name": "East Zack Street",
                    "oneway": false,
                    "osmid": 11000973,
                    "ref": null,
                    "style": {
                      "color": "black",
                      "fillColor": "black"
                    }
                  },
                  "geometry": {
                    "type": "LineString",
                    "coordinates": [
                      [
                        -82.4555525,
                        27.9510838
                      ],
                      [
                        -82.4554404,
                        27.9511201
                      ],
                      [
                        -82.4552812,
                        27.9511717
                      ],
                      [
                        -82.455271,
                        27.951175
                      ],
                      [
                        -82.4548056,
                        27.9513284
                      ],
                      [
                        -82.4547077,
                        27.9513583
                      ]
                    ]
                  },
                  "bbox": [
                    -82.4555525,
                    27.9510838,
                    -82.4547077,
                    27.9513583
                  ]
                },
                {
                  "id": "(97970376, 97876153, 0)",
                  "type": "Feature",
                  "properties": {
                    "highway": "tertiary",
                    "lanes": "2",
                    "length": 88.47,
                    "maxspeed": null,
                    "name": "East Zack Street",
                    "oneway": false,
                    "osmid": 11000973,
                    "ref": null,
                    "style": {
                      "color": "black",
                      "fillColor": "black"
                    }
                  },
                  "geometry": {
                    "type": "LineString",
                    "coordinates": [
                      [
                        -82.4555525,
                        27.9510838
                      ],
                      [
                        -82.455661,
                        27.9510472
                      ],
                      [
                        -82.4557835,
                        27.9510054
                      ],
                      [
                        -82.4562786,
                        27.9508362
                      ],
                      [
                        -82.4563932,
                        27.9507983
                      ]
                    ]
                  },
                  "bbox": [
                    -82.4563932,
                    27.9507983,
                    -82.4555525,
                    27.9510838
                  ]
                },
                {
                  "id": "(97970376, 97928976, 0)",
                  "type": "Feature",
                  "properties": {
                    "highway": "secondary",
                    "lanes": "4",
                    "length": 89.40199999999999,
                    "maxspeed": "unposted",
                    "name": "Pierce Street",
                    "oneway": true,
                    "osmid": 87659447,
                    "ref": null,
                    "style": {
                      "color": "black",
                      "fillColor": "black"
                    }
                  },
                  "geometry": {
                    "type": "LineString",
                    "coordinates": [
                      [
                        -82.4555525,
                        27.9510838
                      ],
                      [
                        -82.4555163,
                        27.9509993
                      ],
                      [
                        -82.4554838,
                        27.9509268
                      ],
                      [
                        -82.4554803,
                        27.950919
                      ],
                      [
                        -82.4554742,
                        27.950905
                      ],
                      [
                        -82.4554711,
                        27.950898
                      ],
                      [
                        -82.4554215,
                        27.9507847
                      ],
                      [
                        -82.4554193,
                        27.9507798
                      ],
                      [
                        -82.4553762,
                        27.9506818
                      ],
                      [
                        -82.455348,
                        27.9506178
                      ],
                      [
                        -82.4552707,
                        27.9504419
                      ],
                      [
                        -82.455224,
                        27.950334
                      ]
                    ]
                  },
                  "bbox": [
                    -82.4555525,
                    27.950334,
                    -82.455224,
                    27.9510838
                  ]
                },
                {
                  "id": "(320166852, 320166965, 0)",
                  "type": "Feature",
                  "properties": {
                    "highway": "tertiary",
                    "lanes": "1",
                    "length": 87.89,
                    "maxspeed": null,
                    "name": "Polk Street",
                    "oneway": true,
                    "osmid": 176372706,
                    "ref": null,
                    "style": {
                      "color": "black",
                      "fillColor": "black"
                    }
                  },
                  "geometry": {
                    "type": "LineString",
                    "coordinates": [
                      [
                        -82.4550641,
                        27.9521639
                      ],
                      [
                        -82.4551635,
                        27.9521273
                      ],
                      [
                        -82.4552022,
                        27.9521142
                      ],
                      [
                        -82.4557987,
                        27.9519187
                      ],
                      [
                        -82.4559013,
                        27.9518851
                      ]
                    ]
                  },
                  "bbox": [
                    -82.4559013,
                    27.9518851,
                    -82.4550641,
                    27.9521639
                  ]
                },
                {
                  "id": "(320166965, 1870060124, 0)",
                  "type": "Feature",
                  "properties": {
                    "highway": "secondary",
                    "lanes": "4",
                    "length": 13.331,
                    "maxspeed": "unposted",
                    "name": "Pierce Street",
                    "oneway": true,
                    "osmid": 87659447,
                    "ref": null,
                    "style": {
                      "color": "black",
                      "fillColor": "black"
                    }
                  },
                  "geometry": {
                    "type": "LineString",
                    "coordinates": [
                      [
                        -82.4559013,
                        27.9518851
                      ],
                      [
                        -82.4558771,
                        27.9518297
                      ],
                      [
                        -82.4558526,
                        27.9517732
                      ]
                    ]
                  },
                  "bbox": [
                    -82.4559013,
                    27.9517732,
                    -82.4558526,
                    27.9518851
                  ]
                },
                {
                  "id": "(320166965, 1870060202, 0)",
                  "type": "Feature",
                  "properties": {
                    "highway": "tertiary",
                    "lanes": "1",
                    "length": 89.45599999999999,
                    "maxspeed": null,
                    "name": "Polk Street",
                    "oneway": true,
                    "osmid": 176372706,
                    "ref": null,
                    "style": {
                      "color": "black",
                      "fillColor": "black"
                    }
                  },
                  "geometry": {
                    "type": "LineString",
                    "coordinates": [
                      [
                        -82.4559013,
                        27.9518851
                      ],
                      [
                        -82.4560054,
                        27.9518487
                      ],
                      [
                        -82.4562309,
                        27.9517694
                      ],
                      [
                        -82.4566397,
                        27.9516379
                      ],
                      [
                        -82.4567536,
                        27.9516018
                      ]
                    ]
                  },
                  "bbox": [
                    -82.4567536,
                    27.9516018,
                    -82.4559013,
                    27.9518851
                  ]
                },
                {
                  "id": "(474972598, 97928974, 0)",
                  "type": "Feature",
                  "properties": {
                    "highway": "primary",
                    "lanes": "4",
                    "length": 89.021,
                    "maxspeed": "35 mph",
                    "name": "North Florida Avenue",
                    "oneway": true,
                    "osmid": 47222465,
                    "ref": "US 41 Business",
                    "style": {
                      "color": "black",
                      "fillColor": "black"
                    }
                  },
                  "geometry": {
                    "type": "LineString",
                    "coordinates": [
                      [
                        -82.4574238,
                        27.9487174
                      ],
                      [
                        -82.4574634,
                        27.9488104
                      ],
                      [
                        -82.4575684,
                        27.9490581
                      ],
                      [
                        -82.4577099,
                        27.949389
                      ],
                      [
                        -82.457742,
                        27.949467
                      ]
                    ]
                  },
                  "bbox": [
                    -82.457742,
                    27.9487174,
                    -82.4574238,
                    27.949467
                  ]
                },
                {
                  "id": "(474972598, 97775158, 0)",
                  "type": "Feature",
                  "properties": {
                    "highway": "tertiary",
                    "lanes": "2",
                    "length": 88.689,
                    "maxspeed": null,
                    "name": "East Madison Street",
                    "oneway": false,
                    "osmid": 932449456,
                    "ref": null,
                    "style": {
                      "color": "black",
                      "fillColor": "black"
                    }
                  },
                  "geometry": {
                    "type": "LineString",
                    "coordinates": [
                      [
                        -82.4574238,
                        27.9487174
                      ],
                      [
                        -82.4573078,
                        27.9487587
                      ],
                      [
                        -82.456919,
                        27.948892
                      ],
                      [
                        -82.4566673,
                        27.9489783
                      ],
                      [
                        -82.4565827,
                        27.9490074
                      ]
                    ]
                  },
                  "bbox": [
                    -82.4574238,
                    27.9487174,
                    -82.4565827,
                    27.9490074
                  ]
                },
                {
                  "id": "(474972598, 975495315, 0)",
                  "type": "Feature",
                  "properties": {
                    "highway": "tertiary",
                    "lanes": "2",
                    "length": 85.702,
                    "maxspeed": null,
                    "name": "East Madison Street",
                    "oneway": false,
                    "osmid": 932449456,
                    "ref": null,
                    "style": {
                      "color": "black",
                      "fillColor": "black"
                    }
                  },
                  "geometry": {
                    "type": "LineString",
                    "coordinates": [
                      [
                        -82.4574238,
                        27.9487174
                      ],
                      [
                        -82.4575218,
                        27.9486836
                      ],
                      [
                        -82.457683,
                        27.948628
                      ],
                      [
                        -82.4581553,
                        27.9484652
                      ],
                      [
                        -82.4582366,
                        27.9484372
                      ]
                    ]
                  },
                  "bbox": [
                    -82.4582366,
                    27.9484372,
                    -82.4574238,
                    27.9487174
                  ]
                },
                {
                  "id": "(942206728, 97871014, 0)",
                  "type": "Feature",
                  "properties": {
                    "highway": "primary",
                    "lanes": "4",
                    "length": 88.11,
                    "maxspeed": "30 mph",
                    "name": "East Kennedy Boulevard",
                    "oneway": true,
                    "osmid": 645485053,
                    "ref": "US 41 Business;FL 60",
                    "style": {
                      "color": "black",
                      "fillColor": "black"
                    }
                  },
                  "geometry": {
                    "type": "LineString",
                    "coordinates": [
                      [
                        -82.4545754,
                        27.9488521
                      ],
                      [
                        -82.4546862,
                        27.9488135
                      ],
                      [
                        -82.4552984,
                        27.9486004
                      ],
                      [
                        -82.4554104,
                        27.9485626
                      ]
                    ]
                  },
                  "bbox": [
                    -82.4554104,
                    27.9485626,
                    -82.4545754,
                    27.9488521
                  ]
                },
                {
                  "id": "(975495315, 975495316, 0)",
                  "type": "Feature",
                  "properties": {
                    "highway": "tertiary",
                    "lanes": "2",
                    "length": 90.70299999999999,
                    "maxspeed": null,
                    "name": "East Madison Street",
                    "oneway": false,
                    "osmid": 10974153,
                    "ref": null,
                    "style": {
                      "color": "black",
                      "fillColor": "black"
                    }
                  },
                  "geometry": {
                    "type": "LineString",
                    "coordinates": [
                      [
                        -82.4582366,
                        27.9484372
                      ],
                      [
                        -82.4583631,
                        27.9483936
                      ],
                      [
                        -82.4589952,
                        27.9481755
                      ],
                      [
                        -82.4590968,
                        27.9481406
                      ]
                    ]
                  },
                  "bbox": [
                    -82.4590968,
                    27.9481406,
                    -82.4582366,
                    27.9484372
                  ]
                },
                {
                  "id": "(975495315, 97928972, 0)",
                  "type": "Feature",
                  "properties": {
                    "highway": "unclassified",
                    "lanes": "2",
                    "length": 91.49600000000001,
                    "maxspeed": null,
                    "name": "North Franklin Street",
                    "oneway": false,
                    "osmid": 203993896,
                    "ref": null,
                    "style": {
                      "color": "black",
                      "fillColor": "black"
                    }
                  },
                  "geometry": {
                    "type": "LineString",
                    "coordinates": [
                      [
                        -82.4582366,
                        27.9484372
                      ],
                      [
                        -82.4582772,
                        27.9485287
                      ],
                      [
                        -82.4583676,
                        27.9487325
                      ],
                      [
                        -82.4583808,
                        27.9487549
                      ],
                      [
                        -82.4583966,
                        27.9487773
                      ],
                      [
                        -82.4584318,
                        27.9488181
                      ],
                      [
                        -82.4584639,
                        27.9488534
                      ],
                      [
                        -82.4584889,
                        27.9488887
                      ],
                      [
                        -82.4585054,
                        27.948917
                      ],
                      [
                        -82.4585201,
                        27.9489467
                      ],
                      [
                        -82.4585645,
                        27.949054
                      ],
                      [
                        -82.4585839,
                        27.9490963
                      ],
                      [
                        -82.458618,
                        27.9491829
                      ]
                    ]
                  },
                  "bbox": [
                    -82.458618,
                    27.9484372,
                    -82.4582366,
                    27.9491829
                  ]
                },
                {
                  "id": "(975495315, 474972598, 0)",
                  "type": "Feature",
                  "properties": {
                    "highway": "tertiary",
                    "lanes": "2",
                    "length": 85.702,
                    "maxspeed": null,
                    "name": "East Madison Street",
                    "oneway": false,
                    "osmid": 932449456,
                    "ref": null,
                    "style": {
                      "color": "black",
                      "fillColor": "black"
                    }
                  },
                  "geometry": {
                    "type": "LineString",
                    "coordinates": [
                      [
                        -82.4582366,
                        27.9484372
                      ],
                      [
                        -82.4581553,
                        27.9484652
                      ],
                      [
                        -82.457683,
                        27.948628
                      ],
                      [
                        -82.4575218,
                        27.9486836
                      ],
                      [
                        -82.4574238,
                        27.9487174
                      ]
                    ]
                  },
                  "bbox": [
                    -82.4582366,
                    27.9484372,
                    -82.4574238,
                    27.9487174
                  ]
                },
                {
                  "id": "(975495315, 97871012, 0)",
                  "type": "Feature",
                  "properties": {
                    "highway": "unclassified",
                    "lanes": "2",
                    "length": 87.839,
                    "maxspeed": null,
                    "name": "North Franklin Street",
                    "oneway": false,
                    "osmid": 932449457,
                    "ref": null,
                    "style": {
                      "color": "black",
                      "fillColor": "black"
                    }
                  },
                  "geometry": {
                    "type": "LineString",
                    "coordinates": [
                      [
                        -82.4582366,
                        27.9484372
                      ],
                      [
                        -82.4582015,
                        27.9483577
                      ],
                      [
                        -82.4581241,
                        27.9481834
                      ],
                      [
                        -82.4581091,
                        27.9481464
                      ],
                      [
                        -82.4580971,
                        27.9481095
                      ],
                      [
                        -82.4580881,
                        27.9480707
                      ],
                      [
                        -82.4580826,
                        27.9480509
                      ],
                      [
                        -82.4580761,
                        27.9480311
                      ],
                      [
                        -82.4579917,
                        27.9478282
                      ],
                      [
                        -82.4579704,
                        27.9477827
                      ],
                      [
                        -82.4579291,
                        27.9476964
                      ]
                    ]
                  },
                  "bbox": [
                    -82.4582366,
                    27.9476964,
                    -82.4579291,
                    27.9484372
                  ]
                },
                {
                  "id": "(975495316, 975495315, 0)",
                  "type": "Feature",
                  "properties": {
                    "highway": "tertiary",
                    "lanes": "2",
                    "length": 90.70299999999999,
                    "maxspeed": null,
                    "name": "East Madison Street",
                    "oneway": false,
                    "osmid": 10974153,
                    "ref": null,
                    "style": {
                      "color": "black",
                      "fillColor": "black"
                    }
                  },
                  "geometry": {
                    "type": "LineString",
                    "coordinates": [
                      [
                        -82.4590968,
                        27.9481406
                      ],
                      [
                        -82.4589952,
                        27.9481755
                      ],
                      [
                        -82.4583631,
                        27.9483936
                      ],
                      [
                        -82.4582366,
                        27.9484372
                      ]
                    ]
                  },
                  "bbox": [
                    -82.4590968,
                    27.9481406,
                    -82.4582366,
                    27.9484372
                  ]
                },
                {
                  "id": "(975495316, 97871010, 0)",
                  "type": "Feature",
                  "properties": {
                    "highway": "primary",
                    "lanes": "3",
                    "length": 88.31800000000001,
                    "maxspeed": "30 mph",
                    "name": "North Tampa Street",
                    "oneway": true,
                    "osmid": 190333972,
                    "ref": "US 41 Business",
                    "style": {
                      "color": "black",
                      "fillColor": "black"
                    }
                  },
                  "geometry": {
                    "type": "LineString",
                    "coordinates": [
                      [
                        -82.4590968,
                        27.9481406
                      ],
                      [
                        -82.459055,
                        27.9480437
                      ],
                      [
                        -82.4588157,
                        27.947502
                      ],
                      [
                        -82.4587699,
                        27.9474007
                      ]
                    ]
                  },
                  "bbox": [
                    -82.4590968,
                    27.9474007,
                    -82.4587699,
                    27.9481406
                  ]
                },
                {
                  "id": "(1870060109, 1870060165, 0)",
                  "type": "Feature",
                  "properties": {
                    "highway": "residential",
                    "lanes": "2",
                    "length": 13.901,
                    "maxspeed": null,
                    "name": "North Marion Street",
                    "oneway": false,
                    "osmid": 10970142,
                    "ref": null,
                    "style": {
                      "color": "black",
                      "fillColor": "black"
                    }
                  },
                  "geometry": {
                    "type": "LineString",
                    "coordinates": [
                      [
                        -82.4575877,
                        27.9513109
                      ],
                      [
                        -82.4575607,
                        27.95125
                      ],
                      [
                        -82.4575361,
                        27.9511945
                      ]
                    ]
                  },
                  "bbox": [
                    -82.4575877,
                    27.9511945,
                    -82.4575361,
                    27.9513109
                  ]
                },
                {
                  "id": "(1870060109, 1870060232, 0)",
                  "type": "Feature",
                  "properties": {
                    "highway": "tertiary",
                    "lanes": "1",
                    "length": 88.00200000000001,
                    "maxspeed": null,
                    "name": "Polk Street",
                    "oneway": true,
                    "osmid": 176372706,
                    "ref": null,
                    "style": {
                      "color": "black",
                      "fillColor": "black"
                    }
                  },
                  "geometry": {
                    "type": "LineString",
                    "coordinates": [
                      [
                        -82.4575877,
                        27.9513109
                      ],
                      [
                        -82.4576852,
                        27.9512752
                      ],
                      [
                        -82.4583225,
                        27.9510399
                      ],
                      [
                        -82.4584148,
                        27.9510067
                      ]
                    ]
                  },
                  "bbox": [
                    -82.4584148,
                    27.9510067,
                    -82.4575877,
                    27.9513109
                  ]
                },
                {
                  "id": "(1870060119, 1870060232, 0)",
                  "type": "Feature",
                  "properties": {
                    "highway": "primary",
                    "lanes": "4",
                    "length": 12.204,
                    "maxspeed": "35 mph",
                    "name": "North Florida Avenue",
                    "oneway": true,
                    "osmid": 47222465,
                    "ref": "US 41 Business",
                    "style": {
                      "color": "black",
                      "fillColor": "black"
                    }
                  },
                  "geometry": {
                    "type": "LineString",
                    "coordinates": [
                      [
                        -82.458369,
                        27.9509047
                      ],
                      [
                        -82.4583964,
                        27.9509632
                      ],
                      [
                        -82.4584148,
                        27.9510067
                      ]
                    ]
                  },
                  "bbox": [
                    -82.4584148,
                    27.9509047,
                    -82.458369,
                    27.9510067
                  ]
                },
                {
                  "id": "(1870060119, 1870060165, 0)",
                  "type": "Feature",
                  "properties": {
                    "highway": "tertiary",
                    "lanes": null,
                    "length": 87.92899999999999,
                    "maxspeed": null,
                    "name": "Polk Street",
                    "oneway": true,
                    "osmid": 794700053,
                    "ref": null,
                    "style": {
                      "color": "black",
                      "fillColor": "black"
                    }
                  },
                  "geometry": {
                    "type": "LineString",
                    "coordinates": [
                      [
                        -82.458369,
                        27.9509047
                      ],
                      [
                        -82.4582745,
                        27.9509382
                      ],
                      [
                        -82.4576328,
                        27.9511608
                      ],
                      [
                        -82.4575361,
                        27.9511945
                      ]
                    ]
                  },
                  "bbox": [
                    -82.458369,
                    27.9509047,
                    -82.4575361,
                    27.9511945
                  ]
                },
                {
                  "id": "(1870060124, 97970376, 0)",
                  "type": "Feature",
                  "properties": {
                    "highway": "secondary",
                    "lanes": "4",
                    "length": 82.133,
                    "maxspeed": "unposted",
                    "name": "Pierce Street",
                    "oneway": true,
                    "osmid": 87659447,
                    "ref": null,
                    "style": {
                      "color": "black",
                      "fillColor": "black"
                    }
                  },
                  "geometry": {
                    "type": "LineString",
                    "coordinates": [
                      [
                        -82.4558526,
                        27.9517732
                      ],
                      [
                        -82.4558324,
                        27.9517233
                      ],
                      [
                        -82.4557976,
                        27.9516468
                      ],
                      [
                        -82.4555928,
                        27.9511759
                      ],
                      [
                        -82.4555525,
                        27.9510838
                      ]
                    ]
                  },
                  "bbox": [
                    -82.4558526,
                    27.9510838,
                    -82.4555525,
                    27.9517732
                  ]
                },
                {
                  "id": "(1870060124, 1870060205, 0)",
                  "type": "Feature",
                  "properties": {
                    "highway": "tertiary",
                    "lanes": null,
                    "length": 87.944,
                    "maxspeed": null,
                    "name": "Polk Street",
                    "oneway": true,
                    "osmid": 794700053,
                    "ref": null,
                    "style": {
                      "color": "black",
                      "fillColor": "black"
                    }
                  },
                  "geometry": {
                    "type": "LineString",
                    "coordinates": [
                      [
                        -82.4558526,
                        27.9517732
                      ],
                      [
                        -82.4557482,
                        27.9518093
                      ],
                      [
                        -82.4556466,
                        27.9518436
                      ],
                      [
                        -82.4553408,
                        27.9519479
                      ],
                      [
                        -82.4551136,
                        27.9520285
                      ],
                      [
                        -82.4550191,
                        27.952062
                      ]
                    ]
                  },
                  "bbox": [
                    -82.4558526,
                    27.9517732,
                    -82.4550191,
                    27.952062
                  ]
                },
                {
                  "id": "(1870060133, 1870060187, 0)",
                  "type": "Feature",
                  "properties": {
                    "highway": "tertiary",
                    "lanes": "1",
                    "length": 86.603,
                    "maxspeed": null,
                    "name": "Polk Street",
                    "oneway": true,
                    "osmid": 176372706,
                    "ref": null,
                    "style": {
                      "color": "black",
                      "fillColor": "black"
                    }
                  },
                  "geometry": {
                    "type": "LineString",
                    "coordinates": [
                      [
                        -82.4592888,
                        27.9507079
                      ],
                      [
                        -82.4593685,
                        27.950681
                      ],
                      [
                        -82.4600009,
                        27.9504676
                      ],
                      [
                        -82.4601125,
                        27.9504301
                      ]
                    ]
                  },
                  "bbox": [
                    -82.4601125,
                    27.9504301,
                    -82.4592888,
                    27.9507079
                  ]
                },
                {
                  "id": "(1870060133, 1870060195, 0)",
                  "type": "Feature",
                  "properties": {
                    "highway": "unclassified",
                    "lanes": "2",
                    "length": 11.207999999999998,
                    "maxspeed": null,
                    "name": "North Franklin Street",
                    "oneway": false,
                    "osmid": 203993896,
                    "ref": null,
                    "style": {
                      "color": "black",
                      "fillColor": "black"
                    }
                  },
                  "geometry": {
                    "type": "LineString",
                    "coordinates": [
                      [
                        -82.4592888,
                        27.9507079
                      ],
                      [
                        -82.4592709,
                        27.950664
                      ],
                      [
                        -82.4592474,
                        27.950614
                      ]
                    ]
                  },
                  "bbox": [
                    -82.4592888,
                    27.950614,
                    -82.4592474,
                    27.9507079
                  ]
                },
                {
                  "id": "(1870060165, 1870060109, 0)",
                  "type": "Feature",
                  "properties": {
                    "highway": "residential",
                    "lanes": "2",
                    "length": 13.901,
                    "maxspeed": null,
                    "name": "North Marion Street",
                    "oneway": false,
                    "osmid": 10970142,
                    "ref": null,
                    "style": {
                      "color": "black",
                      "fillColor": "black"
                    }
                  },
                  "geometry": {
                    "type": "LineString",
                    "coordinates": [
                      [
                        -82.4575361,
                        27.9511945
                      ],
                      [
                        -82.4575607,
                        27.95125
                      ],
                      [
                        -82.4575877,
                        27.9513109
                      ]
                    ]
                  },
                  "bbox": [
                    -82.4575877,
                    27.9511945,
                    -82.4575361,
                    27.9513109
                  ]
                },
                {
                  "id": "(1870060165, 97775165, 0)",
                  "type": "Feature",
                  "properties": {
                    "highway": "residential",
                    "lanes": "2",
                    "length": 81.691,
                    "maxspeed": null,
                    "name": "North Marion Street",
                    "oneway": false,
                    "osmid": 10970142,
                    "ref": null,
                    "style": {
                      "color": "black",
                      "fillColor": "black"
                    }
                  },
                  "geometry": {
                    "type": "LineString",
                    "coordinates": [
                      [
                        -82.4575361,
                        27.9511945
                      ],
                      [
                        -82.4575148,
                        27.9511461
                      ],
                      [
                        -82.457274,
                        27.950597
                      ],
                      [
                        -82.4572355,
                        27.9505095
                      ]
                    ]
                  },
                  "bbox": [
                    -82.4575361,
                    27.9505095,
                    -82.4572355,
                    27.9511945
                  ]
                },
                {
                  "id": "(1870060165, 1870060169, 0)",
                  "type": "Feature",
                  "properties": {
                    "highway": "tertiary",
                    "lanes": null,
                    "length": 88.07300000000001,
                    "maxspeed": null,
                    "name": "Polk Street",
                    "oneway": true,
                    "osmid": 794700053,
                    "ref": null,
                    "style": {
                      "color": "black",
                      "fillColor": "black"
                    }
                  },
                  "geometry": {
                    "type": "LineString",
                    "coordinates": [
                      [
                        -82.4575361,
                        27.9511945
                      ],
                      [
                        -82.4574457,
                        27.9512261
                      ],
                      [
                        -82.456806,
                        27.9514496
                      ],
                      [
                        -82.4567021,
                        27.9514854
                      ]
                    ]
                  },
                  "bbox": [
                    -82.4575361,
                    27.9511945,
                    -82.4567021,
                    27.9514854
                  ]
                },
                {
                  "id": "(1870060169, 97876153, 0)",
                  "type": "Feature",
                  "properties": {
                    "highway": "tertiary",
                    "lanes": "4",
                    "length": 82.20700000000001,
                    "maxspeed": null,
                    "name": "North Morgan Street",
                    "oneway": false,
                    "osmid": 168522075,
                    "ref": null,
                    "style": {
                      "color": "black",
                      "fillColor": "black"
                    }
                  },
                  "geometry": {
                    "type": "LineString",
                    "coordinates": [
                      [
                        -82.4567021,
                        27.9514854
                      ],
                      [
                        -82.4566788,
                        27.9514358
                      ],
                      [
                        -82.4564338,
                        27.9508886
                      ],
                      [
                        -82.4563932,
                        27.9507983
                      ]
                    ]
                  },
                  "bbox": [
                    -82.4567021,
                    27.9507983,
                    -82.4563932,
                    27.9514854
                  ]
                },
                {
                  "id": "(1870060169, 1870060202, 0)",
                  "type": "Feature",
                  "properties": {
                    "highway": "tertiary",
                    "lanes": "4",
                    "length": 13.899000000000001,
                    "maxspeed": null,
                    "name": "North Morgan Street",
                    "oneway": false,
                    "osmid": [
                      87659361,
                      168522075
                    ],
                    "ref": null,
                    "style": {
                      "color": "black",
                      "fillColor": "black"
                    }
                  },
                  "geometry": {
                    "type": "LineString",
                    "coordinates": [
                      [
                        -82.4567021,
                        27.9514854
                      ],
                      [
                        -82.4567267,
                        27.9515381
                      ],
                      [
                        -82.4567536,
                        27.9516018
                      ]
                    ]
                  },
                  "bbox": [
                    -82.4567536,
                    27.9514854,
                    -82.4567021,
                    27.9516018
                  ]
                },
                {
                  "id": "(1870060169, 1870060124, 0)",
                  "type": "Feature",
                  "properties": {
                    "highway": "tertiary",
                    "lanes": null,
                    "length": 89.36599999999999,
                    "maxspeed": null,
                    "name": "Polk Street",
                    "oneway": true,
                    "osmid": 794700053,
                    "ref": null,
                    "style": {
                      "color": "black",
                      "fillColor": "black"
                    }
                  },
                  "geometry": {
                    "type": "LineString",
                    "coordinates": [
                      [
                        -82.4567021,
                        27.9514854
                      ],
                      [
                        -82.4565897,
                        27.9515237
                      ],
                      [
                        -82.4562147,
                        27.9516505
                      ],
                      [
                        -82.4560882,
                        27.9516934
                      ],
                      [
                        -82.456076,
                        27.9516975
                      ],
                      [
                        -82.4559583,
                        27.9517374
                      ],
                      [
                        -82.4558526,
                        27.9517732
                      ]
                    ]
                  },
                  "bbox": [
                    -82.4567021,
                    27.9514854,
                    -82.4558526,
                    27.9517732
                  ]
                },
                {
                  "id": "(1870060182, 97925459, 0)",
                  "type": "Feature",
                  "properties": {
                    "highway": "primary",
                    "lanes": "3",
                    "length": 84.09299999999999,
                    "maxspeed": "30 mph",
                    "name": "North Tampa Street",
                    "oneway": true,
                    "osmid": 190333972,
                    "ref": "US 41 Business",
                    "style": {
                      "color": "black",
                      "fillColor": "black"
                    }
                  },
                  "geometry": {
                    "type": "LineString",
                    "coordinates": [
                      [
                        -82.4600751,
                        27.9503389
                      ],
                      [
                        -82.4600513,
                        27.9502867
                      ],
                      [
                        -82.4599088,
                        27.9499687
                      ],
                      [
                        -82.4598512,
                        27.949838
                      ],
                      [
                        -82.4598006,
                        27.949723
                      ],
                      [
                        -82.4597618,
                        27.9496351
                      ]
                    ]
                  },
                  "bbox": [
                    -82.4600751,
                    27.9496351,
                    -82.4597618,
                    27.9503389
                  ]
                },
                {
                  "id": "(1870060182, 1870060195, 0)",
                  "type": "Feature",
                  "properties": {
                    "highway": "tertiary",
                    "lanes": null,
                    "length": 86.866,
                    "maxspeed": null,
                    "name": "Polk Street",
                    "oneway": true,
                    "osmid": 794700053,
                    "ref": null,
                    "style": {
                      "color": "black",
                      "fillColor": "black"
                    }
                  },
                  "geometry": {
                    "type": "LineString",
                    "coordinates": [
                      [
                        -82.4600751,
                        27.9503389
                      ],
                      [
                        -82.4599616,
                        27.9503766
                      ],
                      [
                        -82.4596037,
                        27.9504955
                      ],
                      [
                        -82.4593268,
                        27.9505874
                      ],
                      [
                        -82.4592474,
                        27.950614
                      ]
                    ]
                  },
                  "bbox": [
                    -82.4600751,
                    27.9503389,
                    -82.4592474,
                    27.950614
                  ]
                },
                {
                  "id": "(1870060187, 1870060182, 0)",
                  "type": "Feature",
                  "properties": {
                    "highway": "primary",
                    "lanes": "3",
                    "length": 10.786999999999999,
                    "maxspeed": "30 mph",
                    "name": "North Tampa Street",
                    "oneway": true,
                    "osmid": 190333972,
                    "ref": "US 41 Business",
                    "style": {
                      "color": "black",
                      "fillColor": "black"
                    }
                  },
                  "geometry": {
                    "type": "LineString",
                    "coordinates": [
                      [
                        -82.4601125,
                        27.9504301
                      ],
                      [
                        -82.460094,
                        27.950383
                      ],
                      [
                        -82.4600751,
                        27.9503389
                      ]
                    ]
                  },
                  "bbox": [
                    -82.4601125,
                    27.9503389,
                    -82.4600751,
                    27.9504301
                  ]
                },
                {
                  "id": "(1870060195, 97964888, 0)",
                  "type": "Feature",
                  "properties": {
                    "highway": "unclassified",
                    "lanes": "2",
                    "length": 83.183,
                    "maxspeed": null,
                    "name": "North Franklin Street",
                    "oneway": false,
                    "osmid": 203993896,
                    "ref": null,
                    "style": {
                      "color": "black",
                      "fillColor": "black"
                    }
                  },
                  "geometry": {
                    "type": "LineString",
                    "coordinates": [
                      [
                        -82.4592474,
                        27.950614
                      ],
                      [
                        -82.4592266,
                        27.9505643
                      ],
                      [
                        -82.4591723,
                        27.9504504
                      ],
                      [
                        -82.459146,
                        27.950389
                      ],
                      [
                        -82.4591262,
                        27.9503574
                      ],
                      [
                        -82.4591034,
                        27.9503276
                      ],
                      [
                        -82.4590795,
                        27.9503014
                      ],
                      [
                        -82.4590496,
                        27.9502725
                      ],
                      [
                        -82.4590268,
                        27.9502419
                      ],
                      [
                        -82.4590101,
                        27.9502103
                      ],
                      [
                        -82.4589191,
                        27.9499995
                      ],
                      [
                        -82.4588911,
                        27.9499406
                      ]
                    ]
                  },
                  "bbox": [
                    -82.4592474,
                    27.9499406,
                    -82.4588911,
                    27.950614
                  ]
                },
                {
                  "id": "(1870060195, 1870060133, 0)",
                  "type": "Feature",
                  "properties": {
                    "highway": "unclassified",
                    "lanes": "2",
                    "length": 11.207999999999998,
                    "maxspeed": null,
                    "name": "North Franklin Street",
                    "oneway": false,
                    "osmid": 203993896,
                    "ref": null,
                    "style": {
                      "color": "black",
                      "fillColor": "black"
                    }
                  },
                  "geometry": {
                    "type": "LineString",
                    "coordinates": [
                      [
                        -82.4592474,
                        27.950614
                      ],
                      [
                        -82.4592709,
                        27.950664
                      ],
                      [
                        -82.4592888,
                        27.9507079
                      ]
                    ]
                  },
                  "bbox": [
                    -82.4592888,
                    27.950614,
                    -82.4592474,
                    27.9507079
                  ]
                },
                {
                  "id": "(1870060195, 1870060119, 0)",
                  "type": "Feature",
                  "properties": {
                    "highway": "tertiary",
                    "lanes": null,
                    "length": 92.136,
                    "maxspeed": null,
                    "name": "Polk Street",
                    "oneway": true,
                    "osmid": 794700053,
                    "ref": null,
                    "style": {
                      "color": "black",
                      "fillColor": "black"
                    }
                  },
                  "geometry": {
                    "type": "LineString",
                    "coordinates": [
                      [
                        -82.4592474,
                        27.950614
                      ],
                      [
                        -82.4591109,
                        27.9506586
                      ],
                      [
                        -82.4584987,
                        27.950862
                      ],
                      [
                        -82.4584846,
                        27.9508667
                      ],
                      [
                        -82.458369,
                        27.9509047
                      ]
                    ]
                  },
                  "bbox": [
                    -82.4592474,
                    27.950614,
                    -82.458369,
                    27.9509047
                  ]
                },
                {
                  "id": "(1870060202, 1870060169, 0)",
                  "type": "Feature",
                  "properties": {
                    "highway": "tertiary",
                    "lanes": "4",
                    "length": 13.899000000000001,
                    "maxspeed": null,
                    "name": "North Morgan Street",
                    "oneway": false,
                    "osmid": [
                      87659361,
                      168522075
                    ],
                    "ref": null,
                    "style": {
                      "color": "black",
                      "fillColor": "black"
                    }
                  },
                  "geometry": {
                    "type": "LineString",
                    "coordinates": [
                      [
                        -82.4567536,
                        27.9516018
                      ],
                      [
                        -82.4567267,
                        27.9515381
                      ],
                      [
                        -82.4567021,
                        27.9514854
                      ]
                    ]
                  },
                  "bbox": [
                    -82.4567536,
                    27.9514854,
                    -82.4567021,
                    27.9516018
                  ]
                },
                {
                  "id": "(1870060202, 1870060109, 0)",
                  "type": "Feature",
                  "properties": {
                    "highway": "tertiary",
                    "lanes": "1",
                    "length": 88.084,
                    "maxspeed": null,
                    "name": "Polk Street",
                    "oneway": true,
                    "osmid": 176372706,
                    "ref": null,
                    "style": {
                      "color": "black",
                      "fillColor": "black"
                    }
                  },
                  "geometry": {
                    "type": "LineString",
                    "coordinates": [
                      [
                        -82.4567536,
                        27.9516018
                      ],
                      [
                        -82.4568626,
                        27.9515631
                      ],
                      [
                        -82.4569843,
                        27.9515208
                      ],
                      [
                        -82.4571724,
                        27.9514554
                      ],
                      [
                        -82.4575007,
                        27.9513412
                      ],
                      [
                        -82.4575877,
                        27.9513109
                      ]
                    ]
                  },
                  "bbox": [
                    -82.4575877,
                    27.9513109,
                    -82.4567536,
                    27.9516018
                  ]
                },
                {
                  "id": "(1870060205, 97927142, 0)",
                  "type": "Feature",
                  "properties": {
                    "highway": "secondary",
                    "lanes": "4",
                    "length": 84.015,
                    "maxspeed": "30 mph",
                    "name": "North Jefferson Street",
                    "oneway": false,
                    "osmid": 117012652,
                    "ref": null,
                    "style": {
                      "color": "black",
                      "fillColor": "black"
                    }
                  },
                  "geometry": {
                    "type": "LineString",
                    "coordinates": [
                      [
                        -82.4550191,
                        27.952062
                      ],
                      [
                        -82.4549705,
                        27.9519521
                      ],
                      [
                        -82.4549634,
                        27.951936
                      ],
                      [
                        -82.4548623,
                        27.9517075
                      ],
                      [
                        -82.4547478,
                        27.9514488
                      ],
                      [
                        -82.4547077,
                        27.9513583
                      ]
                    ]
                  },
                  "bbox": [
                    -82.4550191,
                    27.9513583,
                    -82.4547077,
                    27.952062
                  ]
                },
                {
                  "id": "(1870060205, 320166852, 0)",
                  "type": "Feature",
                  "properties": {
                    "highway": "secondary",
                    "lanes": "4",
                    "length": 12.161999999999999,
                    "maxspeed": "30 mph",
                    "name": "North Jefferson Street",
                    "oneway": true,
                    "osmid": 778560397,
                    "ref": null,
                    "style": {
                      "color": "black",
                      "fillColor": "black"
                    }
                  },
                  "geometry": {
                    "type": "LineString",
                    "coordinates": [
                      [
                        -82.4550191,
                        27.952062
                      ],
                      [
                        -82.4550436,
                        27.9521179
                      ],
                      [
                        -82.4550641,
                        27.9521639
                      ]
                    ]
                  },
                  "bbox": [
                    -82.4550641,
                    27.952062,
                    -82.4550191,
                    27.9521639
                  ]
                },
                {
                  "id": "(1870060232, 1870060133, 0)",
                  "type": "Feature",
                  "properties": {
                    "highway": "tertiary",
                    "lanes": "1",
                    "length": 92.05499999999999,
                    "maxspeed": null,
                    "name": "Polk Street",
                    "oneway": true,
                    "osmid": 176372706,
                    "ref": null,
                    "style": {
                      "color": "black",
                      "fillColor": "black"
                    }
                  },
                  "geometry": {
                    "type": "LineString",
                    "coordinates": [
                      [
                        -82.4584148,
                        27.9510067
                      ],
                      [
                        -82.4585298,
                        27.9509677
                      ],
                      [
                        -82.4591559,
                        27.9507556
                      ],
                      [
                        -82.4592888,
                        27.9507079
                      ]
                    ]
                  },
                  "bbox": [
                    -82.4592888,
                    27.9507079,
                    -82.4584148,
                    27.9510067
                  ]
                },
                {
                  "id": "(1993753395, 97928978, 0)",
                  "type": "Feature",
                  "properties": {
                    "highway": "residential",
                    "lanes": null,
                    "length": 172.22900000000004,
                    "maxspeed": null,
                    "name": "East Street",
                    "oneway": false,
                    "osmid": 25886894,
                    "ref": null,
                    "style": {
                      "color": "black",
                      "fillColor": "black"
                    }
                  },
                  "geometry": {
                    "type": "LineString",
                    "coordinates": [
                      [
                        -82.4528486,
                        27.9494924
                      ],
                      [
                        -82.4528703,
                        27.9495405
                      ],
                      [
                        -82.453004,
                        27.9498427
                      ],
                      [
                        -82.4530571,
                        27.9499623
                      ],
                      [
                        -82.4531017,
                        27.9500629
                      ],
                      [
                        -82.4532102,
                        27.9503075
                      ],
                      [
                        -82.4532555,
                        27.9504096
                      ],
                      [
                        -82.4532935,
                        27.9504951
                      ],
                      [
                        -82.4534498,
                        27.9508475
                      ],
                      [
                        -82.4534884,
                        27.9509345
                      ]
                    ]
                  },
                  "bbox": [
                    -82.4534884,
                    27.9494924,
                    -82.4528486,
                    27.9509345
                  ]
                },
                {
                  "id": "(1993753395, 1993753422, 0)",
                  "type": "Feature",
                  "properties": {
                    "highway": "primary_link",
                    "lanes": "2",
                    "length": 17.576,
                    "maxspeed": null,
                    "name": null,
                    "oneway": true,
                    "osmid": 203993931,
                    "ref": null,
                    "style": {
                      "color": "black",
                      "fillColor": "black"
                    }
                  },
                  "geometry": {
                    "type": "LineString",
                    "coordinates": [
                      [
                        -82.4528486,
                        27.9494924
                      ],
                      [
                        -82.452903,
                        27.9494719
                      ],
                      [
                        -82.4529909,
                        27.9494
                      ]
                    ]
                  },
                  "bbox": [
                    -82.4529909,
                    27.9494,
                    -82.4528486,
                    27.9494924
                  ]
                },
                {
                  "id": "(1993753421, 1993753422, 0)",
                  "type": "Feature",
                  "properties": {
                    "highway": "primary",
                    "lanes": "3",
                    "length": 11.415,
                    "maxspeed": "30 mph",
                    "name": "East Kennedy Boulevard",
                    "oneway": true,
                    "osmid": 188754665,
                    "ref": "US 41 Business;FL 60",
                    "style": {
                      "color": "black",
                      "fillColor": "black"
                    }
                  },
                  "geometry": {
                    "type": "LineString",
                    "coordinates": [
                      [
                        -82.4528747,
                        27.9493983
                      ],
                      [
                        -82.4529909,
                        27.9494
                      ]
                    ]
                  },
                  "bbox": [
                    -82.4529909,
                    27.9493983,
                    -82.4528747,
                    27.9494
                  ]
                },
                {
                  "id": "(1993753422, 97871017, 0)",
                  "type": "Feature",
                  "properties": {
                    "highway": "primary",
                    "lanes": "5",
                    "length": 77.888,
                    "maxspeed": "30 mph",
                    "name": "East Kennedy Boulevard",
                    "oneway": true,
                    "osmid": 203993849,
                    "ref": "US 41 Business;FL 60",
                    "style": {
                      "color": "black",
                      "fillColor": "black"
                    }
                  },
                  "geometry": {
                    "type": "LineString",
                    "coordinates": [
                      [
                        -82.4529909,
                        27.9494
                      ],
                      [
                        -82.4530873,
                        27.9493664
                      ],
                      [
                        -82.4536247,
                        27.9491793
                      ],
                      [
                        -82.4537286,
                        27.9491431
                      ]
                    ]
                  },
                  "bbox": [
                    -82.4537286,
                    27.9491431,
                    -82.4529909,
                    27.9494
                  ]
                }
              ],
              "bbox": [
                -82.4601125,
                27.9474007,
                -82.4520812,
                27.9521639
              ]
            },
            "hover_style": {
              "weight": 4,
              "fillOpacity": 0.5
            },
            "layers": [],
            "name": "edges",
            "options": [],
            "point_style": {},
            "popup": null,
            "popup_max_height": null,
            "popup_max_width": 300,
            "popup_min_width": 50,
            "style": {
              "color": "black",
              "weight": 3
            }
          }
        },
        "f5e6c0b768f044a49ccd89a8095c9d1e": {
          "model_module": "jupyter-leaflet",
          "model_name": "LeafletGeoJSONModel",
          "model_module_version": "^0.16.0",
          "state": {
            "_model_module": "jupyter-leaflet",
            "_model_module_version": "^0.16.0",
            "_model_name": "LeafletGeoJSONModel",
            "_view_count": null,
            "_view_module": "jupyter-leaflet",
            "_view_module_version": "^0.16.0",
            "_view_name": "LeafletGeoJSONView",
            "base": false,
            "bottom": false,
            "data": {
              "type": "FeatureCollection",
              "features": [
                {
                  "id": "0",
                  "type": "Feature",
                  "properties": {
                    "style": {
                      "color": "black",
                      "fillColor": "black"
                    }
                  },
                  "geometry": {
                    "type": "LineString",
                    "coordinates": [
                      [
                        -82.4582366,
                        27.9484372
                      ],
                      [
                        -82.4581553,
                        27.9484652
                      ],
                      [
                        -82.457683,
                        27.948628
                      ],
                      [
                        -82.4575218,
                        27.9486836
                      ],
                      [
                        -82.4574238,
                        27.9487174
                      ],
                      [
                        -82.4574634,
                        27.9488104
                      ],
                      [
                        -82.4575684,
                        27.9490581
                      ],
                      [
                        -82.4577099,
                        27.949389
                      ],
                      [
                        -82.457742,
                        27.949467
                      ],
                      [
                        -82.457635,
                        27.9495045
                      ],
                      [
                        -82.4569898,
                        27.9497307
                      ],
                      [
                        -82.456904,
                        27.949759
                      ],
                      [
                        -82.4568055,
                        27.9497928
                      ],
                      [
                        -82.45632,
                        27.949959
                      ],
                      [
                        -82.4561667,
                        27.9500109
                      ],
                      [
                        -82.456066,
                        27.950046
                      ],
                      [
                        -82.4559605,
                        27.9500819
                      ],
                      [
                        -82.4556937,
                        27.9501733
                      ],
                      [
                        -82.455333,
                        27.9502959
                      ],
                      [
                        -82.455224,
                        27.950334
                      ],
                      [
                        -82.4551043,
                        27.9503766
                      ],
                      [
                        -82.4544901,
                        27.9505879
                      ],
                      [
                        -82.4543834,
                        27.9506251
                      ]
                    ]
                  },
                  "bbox": [
                    -82.4582366,
                    27.9484372,
                    -82.4543834,
                    27.9506251
                  ]
                }
              ],
              "bbox": [
                -82.4582366,
                27.9484372,
                -82.4543834,
                27.9506251
              ]
            },
            "hover_style": {
              "weight": 7,
              "fillOpacity": 0.5
            },
            "layers": [],
            "name": "route",
            "options": [],
            "point_style": {},
            "popup": null,
            "popup_max_height": null,
            "popup_max_width": 300,
            "popup_min_width": 50,
            "style": {
              "color": "red",
              "weight": 6
            }
          }
        },
        "d0e23909950c430a8ff68091c5b698e2": {
          "model_module": "@jupyter-widgets/base",
          "model_name": "LayoutModel",
          "model_module_version": "1.2.0",
          "state": {
            "_model_module": "@jupyter-widgets/base",
            "_model_module_version": "1.2.0",
            "_model_name": "LayoutModel",
            "_view_count": null,
            "_view_module": "@jupyter-widgets/base",
            "_view_module_version": "1.2.0",
            "_view_name": "LayoutView",
            "align_content": null,
            "align_items": null,
            "align_self": null,
            "border": null,
            "bottom": null,
            "display": null,
            "flex": null,
            "flex_flow": null,
            "grid_area": null,
            "grid_auto_columns": null,
            "grid_auto_flow": null,
            "grid_auto_rows": null,
            "grid_column": null,
            "grid_gap": null,
            "grid_row": null,
            "grid_template_areas": null,
            "grid_template_columns": null,
            "grid_template_rows": null,
            "height": "800px",
            "justify_content": null,
            "justify_items": null,
            "left": null,
            "margin": null,
            "max_height": null,
            "max_width": null,
            "min_height": null,
            "min_width": null,
            "object_fit": null,
            "object_position": null,
            "order": null,
            "overflow": null,
            "overflow_x": null,
            "overflow_y": null,
            "padding": null,
            "right": null,
            "top": null,
            "visibility": null,
            "width": "1000px"
          }
        },
        "8b1284d5829241a1b1ab3068ae1d4a2b": {
          "model_module": "jupyter-leaflet",
          "model_name": "LeafletMapStyleModel",
          "model_module_version": "^0.16.0",
          "state": {
            "_model_module": "jupyter-leaflet",
            "_model_module_version": "^0.16.0",
            "_model_name": "LeafletMapStyleModel",
            "_view_count": null,
            "_view_module": "@jupyter-widgets/base",
            "_view_module_version": "1.2.0",
            "_view_name": "StyleView",
            "cursor": "grab"
          }
        },
        "efa944b60f324b9e821e3369a19df0e3": {
          "model_module": "@jupyter-widgets/output",
          "model_name": "OutputModel",
          "model_module_version": "1.0.0",
          "state": {
            "_dom_classes": [],
            "_model_module": "@jupyter-widgets/output",
            "_model_module_version": "1.0.0",
            "_model_name": "OutputModel",
            "_view_count": null,
            "_view_module": "@jupyter-widgets/output",
            "_view_module_version": "1.0.0",
            "_view_name": "OutputView",
            "layout": "IPY_MODEL_32ddfdb9114c4b5c8935ef0e8e4306fe",
            "msg_id": "",
            "outputs": []
          }
        },
        "84b469035982469dad8a0f7ced075aa6": {
          "model_module": "@jupyter-widgets/controls",
          "model_name": "VBoxModel",
          "model_module_version": "1.5.0",
          "state": {
            "_dom_classes": [],
            "_model_module": "@jupyter-widgets/controls",
            "_model_module_version": "1.5.0",
            "_model_name": "VBoxModel",
            "_view_count": null,
            "_view_module": "@jupyter-widgets/controls",
            "_view_module_version": "1.5.0",
            "_view_name": "VBoxView",
            "box_style": "",
            "children": [
              "IPY_MODEL_0aeff7f7ffc14d329df026aedd93f161"
            ],
            "layout": "IPY_MODEL_2bc1fbb29f6347adad7f8bdcbc1b56e3"
          }
        },
        "720e4e1771d04141a5665a9b85c5b70b": {
          "model_module": "@jupyter-widgets/controls",
          "model_name": "VBoxModel",
          "model_module_version": "1.5.0",
          "state": {
            "_dom_classes": [],
            "_model_module": "@jupyter-widgets/controls",
            "_model_module_version": "1.5.0",
            "_model_name": "VBoxModel",
            "_view_count": null,
            "_view_module": "@jupyter-widgets/controls",
            "_view_module_version": "1.5.0",
            "_view_name": "VBoxView",
            "box_style": "",
            "children": [
              "IPY_MODEL_0b04405d4b3a400a8c05e0626325bd7b",
              "IPY_MODEL_928ac6c2862347e18ed4bb4130e1bef0"
            ],
            "layout": "IPY_MODEL_18a279ae601d4acc8684f7275e25a08f"
          }
        },
        "46efb2701b1448ebb95f96c6669df054": {
          "model_module": "@jupyter-widgets/controls",
          "model_name": "VBoxModel",
          "model_module_version": "1.5.0",
          "state": {
            "_dom_classes": [],
            "_model_module": "@jupyter-widgets/controls",
            "_model_module_version": "1.5.0",
            "_model_name": "VBoxModel",
            "_view_count": null,
            "_view_module": "@jupyter-widgets/controls",
            "_view_module_version": "1.5.0",
            "_view_name": "VBoxView",
            "box_style": "",
            "children": [
              "IPY_MODEL_c14e61f33d414175b3d46279cd026515",
              "IPY_MODEL_0b9132001519429bb8266b4ebd79c7c2"
            ],
            "layout": "IPY_MODEL_f4ad250a196c4a0ab2ace2ebdc1bdaac"
          }
        },
        "e6fdfde2b8294396b551888c2eb9966b": {
          "model_module": "jupyter-leaflet",
          "model_name": "LeafletMarkerModel",
          "model_module_version": "^0.16.0",
          "state": {
            "_model_module": "jupyter-leaflet",
            "_model_module_version": "^0.16.0",
            "_model_name": "LeafletMarkerModel",
            "_view_count": null,
            "_view_module": "jupyter-leaflet",
            "_view_module_version": "^0.16.0",
            "_view_name": "LeafletMarkerView",
            "alt": "",
            "base": false,
            "bottom": false,
            "draggable": false,
            "icon": null,
            "keyboard": true,
            "location": [
              27.94853,
              -82.45863
            ],
            "name": "",
            "opacity": 1,
            "options": [
              "alt",
              "draggable",
              "keyboard",
              "rise_offset",
              "rise_on_hover",
              "rotation_angle",
              "rotation_origin",
              "title",
              "z_index_offset"
            ],
            "popup": "IPY_MODEL_15390dabed7a4a5cb90cf5905a061ffb",
            "popup_max_height": null,
            "popup_max_width": 300,
            "popup_min_width": 50,
            "rise_offset": 250,
            "rise_on_hover": false,
            "rotation_angle": 0,
            "rotation_origin": "",
            "title": "",
            "visible": true,
            "z_index_offset": 0
          }
        },
        "a1433f8beb22465095660d1f0651bd97": {
          "model_module": "jupyter-leaflet",
          "model_name": "LeafletMarkerModel",
          "model_module_version": "^0.16.0",
          "state": {
            "_model_module": "jupyter-leaflet",
            "_model_module_version": "^0.16.0",
            "_model_name": "LeafletMarkerModel",
            "_view_count": null,
            "_view_module": "jupyter-leaflet",
            "_view_module_version": "^0.16.0",
            "_view_name": "LeafletMarkerView",
            "alt": "",
            "base": false,
            "bottom": false,
            "draggable": false,
            "icon": null,
            "keyboard": true,
            "location": [
              27.95102,
              -82.45413
            ],
            "name": "",
            "opacity": 1,
            "options": [
              "alt",
              "draggable",
              "keyboard",
              "rise_offset",
              "rise_on_hover",
              "rotation_angle",
              "rotation_origin",
              "title",
              "z_index_offset"
            ],
            "popup": "IPY_MODEL_aca35e510bb440ee839753419e4c2fe1",
            "popup_max_height": null,
            "popup_max_width": 300,
            "popup_min_width": 50,
            "rise_offset": 250,
            "rise_on_hover": false,
            "rotation_angle": 0,
            "rotation_origin": "",
            "title": "",
            "visible": true,
            "z_index_offset": 0
          }
        },
        "32ddfdb9114c4b5c8935ef0e8e4306fe": {
          "model_module": "@jupyter-widgets/base",
          "model_name": "LayoutModel",
          "model_module_version": "1.2.0",
          "state": {
            "_model_module": "@jupyter-widgets/base",
            "_model_module_version": "1.2.0",
            "_model_name": "LayoutModel",
            "_view_count": null,
            "_view_module": "@jupyter-widgets/base",
            "_view_module_version": "1.2.0",
            "_view_name": "LayoutView",
            "align_content": null,
            "align_items": null,
            "align_self": null,
            "border": null,
            "bottom": null,
            "display": null,
            "flex": null,
            "flex_flow": null,
            "grid_area": null,
            "grid_auto_columns": null,
            "grid_auto_flow": null,
            "grid_auto_rows": null,
            "grid_column": null,
            "grid_gap": null,
            "grid_row": null,
            "grid_template_areas": null,
            "grid_template_columns": null,
            "grid_template_rows": null,
            "height": null,
            "justify_content": null,
            "justify_items": null,
            "left": null,
            "margin": null,
            "max_height": null,
            "max_width": null,
            "min_height": null,
            "min_width": null,
            "object_fit": null,
            "object_position": null,
            "order": null,
            "overflow": null,
            "overflow_x": null,
            "overflow_y": null,
            "padding": null,
            "right": null,
            "top": null,
            "visibility": null,
            "width": null
          }
        },
        "0aeff7f7ffc14d329df026aedd93f161": {
          "model_module": "@jupyter-widgets/controls",
          "model_name": "ToggleButtonModel",
          "model_module_version": "1.5.0",
          "state": {
            "_dom_classes": [],
            "_model_module": "@jupyter-widgets/controls",
            "_model_module_version": "1.5.0",
            "_model_name": "ToggleButtonModel",
            "_view_count": null,
            "_view_module": "@jupyter-widgets/controls",
            "_view_module_version": "1.5.0",
            "_view_name": "ToggleButtonView",
            "button_style": "",
            "description": "",
            "description_tooltip": null,
            "disabled": false,
            "icon": "wrench",
            "layout": "IPY_MODEL_e7c571cdfa6a4b199b58b8196ee5c308",
            "style": "IPY_MODEL_ec50445159664aa5a33d1c47d12419cc",
            "tooltip": "Toolbar",
            "value": false
          }
        },
        "2bc1fbb29f6347adad7f8bdcbc1b56e3": {
          "model_module": "@jupyter-widgets/base",
          "model_name": "LayoutModel",
          "model_module_version": "1.2.0",
          "state": {
            "_model_module": "@jupyter-widgets/base",
            "_model_module_version": "1.2.0",
            "_model_name": "LayoutModel",
            "_view_count": null,
            "_view_module": "@jupyter-widgets/base",
            "_view_module_version": "1.2.0",
            "_view_name": "LayoutView",
            "align_content": null,
            "align_items": null,
            "align_self": null,
            "border": null,
            "bottom": null,
            "display": null,
            "flex": null,
            "flex_flow": null,
            "grid_area": null,
            "grid_auto_columns": null,
            "grid_auto_flow": null,
            "grid_auto_rows": null,
            "grid_column": null,
            "grid_gap": null,
            "grid_row": null,
            "grid_template_areas": null,
            "grid_template_columns": null,
            "grid_template_rows": null,
            "height": null,
            "justify_content": null,
            "justify_items": null,
            "left": null,
            "margin": null,
            "max_height": null,
            "max_width": null,
            "min_height": null,
            "min_width": null,
            "object_fit": null,
            "object_position": null,
            "order": null,
            "overflow": null,
            "overflow_x": null,
            "overflow_y": null,
            "padding": null,
            "right": null,
            "top": null,
            "visibility": null,
            "width": null
          }
        },
        "0b04405d4b3a400a8c05e0626325bd7b": {
          "model_module": "@jupyter-widgets/controls",
          "model_name": "HBoxModel",
          "model_module_version": "1.5.0",
          "state": {
            "_dom_classes": [],
            "_model_module": "@jupyter-widgets/controls",
            "_model_module_version": "1.5.0",
            "_model_name": "HBoxModel",
            "_view_count": null,
            "_view_module": "@jupyter-widgets/controls",
            "_view_module_version": "1.5.0",
            "_view_name": "HBoxView",
            "box_style": "",
            "children": [
              "IPY_MODEL_134b4a8ff08e4e14b2b3069a5e10b431",
              "IPY_MODEL_34c6be6c88d349d38f1280f07e421d44"
            ],
            "layout": "IPY_MODEL_50e83455efb14efd8610c672cecf5dbb"
          }
        },
        "928ac6c2862347e18ed4bb4130e1bef0": {
          "model_module": "@jupyter-widgets/controls",
          "model_name": "HTMLModel",
          "model_module_version": "1.5.0",
          "state": {
            "_dom_classes": [],
            "_model_module": "@jupyter-widgets/controls",
            "_model_module_version": "1.5.0",
            "_model_name": "HTMLModel",
            "_view_count": null,
            "_view_module": "@jupyter-widgets/controls",
            "_view_module_version": "1.5.0",
            "_view_name": "HTMLView",
            "description": "",
            "description_tooltip": null,
            "layout": "IPY_MODEL_9c57cefff38047b5a3699586099766c5",
            "placeholder": "​",
            "style": "IPY_MODEL_a20c786db8934146aaacdc5139ca51a5",
            "value": "<b>highway: </b>primary<br><b>lanes: </b>3<br><b>length: </b>84.09299999999999<br><b>maxspeed: </b>30 mph<br><b>name: </b>North Tampa Street<br><b>oneway: </b>True<br><b>osmid: </b>190333972<br><b>ref: </b>US 41 Business<br>"
          }
        },
        "18a279ae601d4acc8684f7275e25a08f": {
          "model_module": "@jupyter-widgets/base",
          "model_name": "LayoutModel",
          "model_module_version": "1.2.0",
          "state": {
            "_model_module": "@jupyter-widgets/base",
            "_model_module_version": "1.2.0",
            "_model_name": "LayoutModel",
            "_view_count": null,
            "_view_module": "@jupyter-widgets/base",
            "_view_module_version": "1.2.0",
            "_view_name": "LayoutView",
            "align_content": null,
            "align_items": null,
            "align_self": null,
            "border": null,
            "bottom": null,
            "display": null,
            "flex": null,
            "flex_flow": null,
            "grid_area": null,
            "grid_auto_columns": null,
            "grid_auto_flow": null,
            "grid_auto_rows": null,
            "grid_column": null,
            "grid_gap": null,
            "grid_row": null,
            "grid_template_areas": null,
            "grid_template_columns": null,
            "grid_template_rows": null,
            "height": null,
            "justify_content": null,
            "justify_items": null,
            "left": null,
            "margin": null,
            "max_height": null,
            "max_width": null,
            "min_height": null,
            "min_width": null,
            "object_fit": null,
            "object_position": null,
            "order": null,
            "overflow": null,
            "overflow_x": null,
            "overflow_y": null,
            "padding": null,
            "right": null,
            "top": null,
            "visibility": null,
            "width": null
          }
        },
        "c14e61f33d414175b3d46279cd026515": {
          "model_module": "@jupyter-widgets/controls",
          "model_name": "HBoxModel",
          "model_module_version": "1.5.0",
          "state": {
            "_dom_classes": [],
            "_model_module": "@jupyter-widgets/controls",
            "_model_module_version": "1.5.0",
            "_model_name": "HBoxModel",
            "_view_count": null,
            "_view_module": "@jupyter-widgets/controls",
            "_view_module_version": "1.5.0",
            "_view_name": "HBoxView",
            "box_style": "",
            "children": [
              "IPY_MODEL_19cc0ce56fe94fd09f740d20e06cc9a4",
              "IPY_MODEL_b1b374a044aa42cf94074c51d42a430c"
            ],
            "layout": "IPY_MODEL_4be3ab4a04ea43f4be2c5fe534475830"
          }
        },
        "0b9132001519429bb8266b4ebd79c7c2": {
          "model_module": "@jupyter-widgets/controls",
          "model_name": "HTMLModel",
          "model_module_version": "1.5.0",
          "state": {
            "_dom_classes": [],
            "_model_module": "@jupyter-widgets/controls",
            "_model_module_version": "1.5.0",
            "_model_name": "HTMLModel",
            "_view_count": null,
            "_view_module": "@jupyter-widgets/controls",
            "_view_module_version": "1.5.0",
            "_view_name": "HTMLView",
            "description": "",
            "description_tooltip": null,
            "layout": "IPY_MODEL_ee0ebedf8d1e4a179fc447f74dd56327",
            "placeholder": "​",
            "style": "IPY_MODEL_542c42b5253943679a8077bb2454684d",
            "value": ""
          }
        },
        "f4ad250a196c4a0ab2ace2ebdc1bdaac": {
          "model_module": "@jupyter-widgets/base",
          "model_name": "LayoutModel",
          "model_module_version": "1.2.0",
          "state": {
            "_model_module": "@jupyter-widgets/base",
            "_model_module_version": "1.2.0",
            "_model_name": "LayoutModel",
            "_view_count": null,
            "_view_module": "@jupyter-widgets/base",
            "_view_module_version": "1.2.0",
            "_view_name": "LayoutView",
            "align_content": null,
            "align_items": null,
            "align_self": null,
            "border": null,
            "bottom": null,
            "display": null,
            "flex": null,
            "flex_flow": null,
            "grid_area": null,
            "grid_auto_columns": null,
            "grid_auto_flow": null,
            "grid_auto_rows": null,
            "grid_column": null,
            "grid_gap": null,
            "grid_row": null,
            "grid_template_areas": null,
            "grid_template_columns": null,
            "grid_template_rows": null,
            "height": null,
            "justify_content": null,
            "justify_items": null,
            "left": null,
            "margin": null,
            "max_height": null,
            "max_width": null,
            "min_height": null,
            "min_width": null,
            "object_fit": null,
            "object_position": null,
            "order": null,
            "overflow": null,
            "overflow_x": null,
            "overflow_y": null,
            "padding": null,
            "right": null,
            "top": null,
            "visibility": null,
            "width": null
          }
        },
        "15390dabed7a4a5cb90cf5905a061ffb": {
          "model_module": "@jupyter-widgets/controls",
          "model_name": "HTMLModel",
          "model_module_version": "1.5.0",
          "state": {
            "_dom_classes": [],
            "_model_module": "@jupyter-widgets/controls",
            "_model_module_version": "1.5.0",
            "_model_name": "HTMLModel",
            "_view_count": null,
            "_view_module": "@jupyter-widgets/controls",
            "_view_module_version": "1.5.0",
            "_view_name": "HTMLView",
            "description": "",
            "description_tooltip": null,
            "layout": "IPY_MODEL_748f68f0a6aa40a1a0114c464feaad3e",
            "placeholder": "​",
            "style": "IPY_MODEL_b9e4179b64b24db38d09d2cbb6b65c72",
            "value": "origin"
          }
        },
        "aca35e510bb440ee839753419e4c2fe1": {
          "model_module": "@jupyter-widgets/controls",
          "model_name": "HTMLModel",
          "model_module_version": "1.5.0",
          "state": {
            "_dom_classes": [],
            "_model_module": "@jupyter-widgets/controls",
            "_model_module_version": "1.5.0",
            "_model_name": "HTMLModel",
            "_view_count": null,
            "_view_module": "@jupyter-widgets/controls",
            "_view_module_version": "1.5.0",
            "_view_name": "HTMLView",
            "description": "",
            "description_tooltip": null,
            "layout": "IPY_MODEL_e2bbc83a80224e7082876679c43ac1dd",
            "placeholder": "​",
            "style": "IPY_MODEL_e737350048f64bee8a0f5ec4b4118d81",
            "value": "destination"
          }
        },
        "e7c571cdfa6a4b199b58b8196ee5c308": {
          "model_module": "@jupyter-widgets/base",
          "model_name": "LayoutModel",
          "model_module_version": "1.2.0",
          "state": {
            "_model_module": "@jupyter-widgets/base",
            "_model_module_version": "1.2.0",
            "_model_name": "LayoutModel",
            "_view_count": null,
            "_view_module": "@jupyter-widgets/base",
            "_view_module_version": "1.2.0",
            "_view_name": "LayoutView",
            "align_content": null,
            "align_items": null,
            "align_self": null,
            "border": null,
            "bottom": null,
            "display": null,
            "flex": null,
            "flex_flow": null,
            "grid_area": null,
            "grid_auto_columns": null,
            "grid_auto_flow": null,
            "grid_auto_rows": null,
            "grid_column": null,
            "grid_gap": null,
            "grid_row": null,
            "grid_template_areas": null,
            "grid_template_columns": null,
            "grid_template_rows": null,
            "height": "28px",
            "justify_content": null,
            "justify_items": null,
            "left": null,
            "margin": null,
            "max_height": null,
            "max_width": null,
            "min_height": null,
            "min_width": null,
            "object_fit": null,
            "object_position": null,
            "order": null,
            "overflow": null,
            "overflow_x": null,
            "overflow_y": null,
            "padding": "0px 0px 0px 4px",
            "right": null,
            "top": null,
            "visibility": null,
            "width": "28px"
          }
        },
        "ec50445159664aa5a33d1c47d12419cc": {
          "model_module": "@jupyter-widgets/controls",
          "model_name": "DescriptionStyleModel",
          "model_module_version": "1.5.0",
          "state": {
            "_model_module": "@jupyter-widgets/controls",
            "_model_module_version": "1.5.0",
            "_model_name": "DescriptionStyleModel",
            "_view_count": null,
            "_view_module": "@jupyter-widgets/base",
            "_view_module_version": "1.2.0",
            "_view_name": "StyleView",
            "description_width": ""
          }
        },
        "134b4a8ff08e4e14b2b3069a5e10b431": {
          "model_module": "@jupyter-widgets/controls",
          "model_name": "ToggleButtonModel",
          "model_module_version": "1.5.0",
          "state": {
            "_dom_classes": [],
            "_model_module": "@jupyter-widgets/controls",
            "_model_module_version": "1.5.0",
            "_model_name": "ToggleButtonModel",
            "_view_count": null,
            "_view_module": "@jupyter-widgets/controls",
            "_view_module_version": "1.5.0",
            "_view_name": "ToggleButtonView",
            "button_style": "",
            "description": "",
            "description_tooltip": null,
            "disabled": false,
            "icon": "info",
            "layout": "IPY_MODEL_ea0c0feb176143d086a5bdb9fbe1ff52",
            "style": "IPY_MODEL_e473bff5138246ca9efacb659730a61f",
            "tooltip": "Toolbar",
            "value": true
          }
        },
        "34c6be6c88d349d38f1280f07e421d44": {
          "model_module": "@jupyter-widgets/controls",
          "model_name": "ToggleButtonModel",
          "model_module_version": "1.5.0",
          "state": {
            "_dom_classes": [],
            "_model_module": "@jupyter-widgets/controls",
            "_model_module_version": "1.5.0",
            "_model_name": "ToggleButtonModel",
            "_view_count": null,
            "_view_module": "@jupyter-widgets/controls",
            "_view_module_version": "1.5.0",
            "_view_name": "ToggleButtonView",
            "button_style": "",
            "description": "",
            "description_tooltip": null,
            "disabled": false,
            "icon": "times",
            "layout": "IPY_MODEL_97b62edbb09a46d290ce6b12f88c07c9",
            "style": "IPY_MODEL_ccf537180372418b94d07635fc11124f",
            "tooltip": "Close the tool",
            "value": false
          }
        },
        "50e83455efb14efd8610c672cecf5dbb": {
          "model_module": "@jupyter-widgets/base",
          "model_name": "LayoutModel",
          "model_module_version": "1.2.0",
          "state": {
            "_model_module": "@jupyter-widgets/base",
            "_model_module_version": "1.2.0",
            "_model_name": "LayoutModel",
            "_view_count": null,
            "_view_module": "@jupyter-widgets/base",
            "_view_module_version": "1.2.0",
            "_view_name": "LayoutView",
            "align_content": null,
            "align_items": null,
            "align_self": null,
            "border": null,
            "bottom": null,
            "display": null,
            "flex": null,
            "flex_flow": null,
            "grid_area": null,
            "grid_auto_columns": null,
            "grid_auto_flow": null,
            "grid_auto_rows": null,
            "grid_column": null,
            "grid_gap": null,
            "grid_row": null,
            "grid_template_areas": null,
            "grid_template_columns": null,
            "grid_template_rows": null,
            "height": null,
            "justify_content": null,
            "justify_items": null,
            "left": null,
            "margin": null,
            "max_height": null,
            "max_width": null,
            "min_height": null,
            "min_width": null,
            "object_fit": null,
            "object_position": null,
            "order": null,
            "overflow": null,
            "overflow_x": null,
            "overflow_y": null,
            "padding": null,
            "right": null,
            "top": null,
            "visibility": null,
            "width": null
          }
        },
        "9c57cefff38047b5a3699586099766c5": {
          "model_module": "@jupyter-widgets/base",
          "model_name": "LayoutModel",
          "model_module_version": "1.2.0",
          "state": {
            "_model_module": "@jupyter-widgets/base",
            "_model_module_version": "1.2.0",
            "_model_name": "LayoutModel",
            "_view_count": null,
            "_view_module": "@jupyter-widgets/base",
            "_view_module_version": "1.2.0",
            "_view_name": "LayoutView",
            "align_content": null,
            "align_items": null,
            "align_self": null,
            "border": null,
            "bottom": null,
            "display": null,
            "flex": null,
            "flex_flow": null,
            "grid_area": null,
            "grid_auto_columns": null,
            "grid_auto_flow": null,
            "grid_auto_rows": null,
            "grid_column": null,
            "grid_gap": null,
            "grid_row": null,
            "grid_template_areas": null,
            "grid_template_columns": null,
            "grid_template_rows": null,
            "height": null,
            "justify_content": null,
            "justify_items": null,
            "left": null,
            "margin": "0px 10px 0px 10px",
            "max_height": "250px",
            "max_width": "250px",
            "min_height": null,
            "min_width": null,
            "object_fit": null,
            "object_position": null,
            "order": null,
            "overflow": null,
            "overflow_x": null,
            "overflow_y": null,
            "padding": null,
            "right": null,
            "top": null,
            "visibility": null,
            "width": null
          }
        },
        "a20c786db8934146aaacdc5139ca51a5": {
          "model_module": "@jupyter-widgets/controls",
          "model_name": "DescriptionStyleModel",
          "model_module_version": "1.5.0",
          "state": {
            "_model_module": "@jupyter-widgets/controls",
            "_model_module_version": "1.5.0",
            "_model_name": "DescriptionStyleModel",
            "_view_count": null,
            "_view_module": "@jupyter-widgets/base",
            "_view_module_version": "1.2.0",
            "_view_name": "StyleView",
            "description_width": ""
          }
        },
        "19cc0ce56fe94fd09f740d20e06cc9a4": {
          "model_module": "@jupyter-widgets/controls",
          "model_name": "ToggleButtonModel",
          "model_module_version": "1.5.0",
          "state": {
            "_dom_classes": [],
            "_model_module": "@jupyter-widgets/controls",
            "_model_module_version": "1.5.0",
            "_model_name": "ToggleButtonModel",
            "_view_count": null,
            "_view_module": "@jupyter-widgets/controls",
            "_view_module_version": "1.5.0",
            "_view_name": "ToggleButtonView",
            "button_style": "",
            "description": "",
            "description_tooltip": null,
            "disabled": false,
            "icon": "info",
            "layout": "IPY_MODEL_7925c676e7d24838aa2acfbff7e9ed75",
            "style": "IPY_MODEL_8b5462ecd74e41aea1318dbe43757df3",
            "tooltip": "Toolbar",
            "value": true
          }
        },
        "b1b374a044aa42cf94074c51d42a430c": {
          "model_module": "@jupyter-widgets/controls",
          "model_name": "ToggleButtonModel",
          "model_module_version": "1.5.0",
          "state": {
            "_dom_classes": [],
            "_model_module": "@jupyter-widgets/controls",
            "_model_module_version": "1.5.0",
            "_model_name": "ToggleButtonModel",
            "_view_count": null,
            "_view_module": "@jupyter-widgets/controls",
            "_view_module_version": "1.5.0",
            "_view_name": "ToggleButtonView",
            "button_style": "",
            "description": "",
            "description_tooltip": null,
            "disabled": false,
            "icon": "times",
            "layout": "IPY_MODEL_8fe1c6e4dc6c43d6a2b93f18a1381d11",
            "style": "IPY_MODEL_76f542ed0760430ab1c53ae53debe96d",
            "tooltip": "Close the tool",
            "value": false
          }
        },
        "4be3ab4a04ea43f4be2c5fe534475830": {
          "model_module": "@jupyter-widgets/base",
          "model_name": "LayoutModel",
          "model_module_version": "1.2.0",
          "state": {
            "_model_module": "@jupyter-widgets/base",
            "_model_module_version": "1.2.0",
            "_model_name": "LayoutModel",
            "_view_count": null,
            "_view_module": "@jupyter-widgets/base",
            "_view_module_version": "1.2.0",
            "_view_name": "LayoutView",
            "align_content": null,
            "align_items": null,
            "align_self": null,
            "border": null,
            "bottom": null,
            "display": null,
            "flex": null,
            "flex_flow": null,
            "grid_area": null,
            "grid_auto_columns": null,
            "grid_auto_flow": null,
            "grid_auto_rows": null,
            "grid_column": null,
            "grid_gap": null,
            "grid_row": null,
            "grid_template_areas": null,
            "grid_template_columns": null,
            "grid_template_rows": null,
            "height": null,
            "justify_content": null,
            "justify_items": null,
            "left": null,
            "margin": null,
            "max_height": null,
            "max_width": null,
            "min_height": null,
            "min_width": null,
            "object_fit": null,
            "object_position": null,
            "order": null,
            "overflow": null,
            "overflow_x": null,
            "overflow_y": null,
            "padding": null,
            "right": null,
            "top": null,
            "visibility": null,
            "width": null
          }
        },
        "ee0ebedf8d1e4a179fc447f74dd56327": {
          "model_module": "@jupyter-widgets/base",
          "model_name": "LayoutModel",
          "model_module_version": "1.2.0",
          "state": {
            "_model_module": "@jupyter-widgets/base",
            "_model_module_version": "1.2.0",
            "_model_name": "LayoutModel",
            "_view_count": null,
            "_view_module": "@jupyter-widgets/base",
            "_view_module_version": "1.2.0",
            "_view_name": "LayoutView",
            "align_content": null,
            "align_items": null,
            "align_self": null,
            "border": null,
            "bottom": null,
            "display": null,
            "flex": null,
            "flex_flow": null,
            "grid_area": null,
            "grid_auto_columns": null,
            "grid_auto_flow": null,
            "grid_auto_rows": null,
            "grid_column": null,
            "grid_gap": null,
            "grid_row": null,
            "grid_template_areas": null,
            "grid_template_columns": null,
            "grid_template_rows": null,
            "height": null,
            "justify_content": null,
            "justify_items": null,
            "left": null,
            "margin": "0px 10px 0px 10px",
            "max_height": "250px",
            "max_width": "250px",
            "min_height": null,
            "min_width": null,
            "object_fit": null,
            "object_position": null,
            "order": null,
            "overflow": null,
            "overflow_x": null,
            "overflow_y": null,
            "padding": null,
            "right": null,
            "top": null,
            "visibility": null,
            "width": null
          }
        },
        "542c42b5253943679a8077bb2454684d": {
          "model_module": "@jupyter-widgets/controls",
          "model_name": "DescriptionStyleModel",
          "model_module_version": "1.5.0",
          "state": {
            "_model_module": "@jupyter-widgets/controls",
            "_model_module_version": "1.5.0",
            "_model_name": "DescriptionStyleModel",
            "_view_count": null,
            "_view_module": "@jupyter-widgets/base",
            "_view_module_version": "1.2.0",
            "_view_name": "StyleView",
            "description_width": ""
          }
        },
        "748f68f0a6aa40a1a0114c464feaad3e": {
          "model_module": "@jupyter-widgets/base",
          "model_name": "LayoutModel",
          "model_module_version": "1.2.0",
          "state": {
            "_model_module": "@jupyter-widgets/base",
            "_model_module_version": "1.2.0",
            "_model_name": "LayoutModel",
            "_view_count": null,
            "_view_module": "@jupyter-widgets/base",
            "_view_module_version": "1.2.0",
            "_view_name": "LayoutView",
            "align_content": null,
            "align_items": null,
            "align_self": null,
            "border": null,
            "bottom": null,
            "display": null,
            "flex": null,
            "flex_flow": null,
            "grid_area": null,
            "grid_auto_columns": null,
            "grid_auto_flow": null,
            "grid_auto_rows": null,
            "grid_column": null,
            "grid_gap": null,
            "grid_row": null,
            "grid_template_areas": null,
            "grid_template_columns": null,
            "grid_template_rows": null,
            "height": null,
            "justify_content": null,
            "justify_items": null,
            "left": null,
            "margin": null,
            "max_height": null,
            "max_width": null,
            "min_height": null,
            "min_width": null,
            "object_fit": null,
            "object_position": null,
            "order": null,
            "overflow": null,
            "overflow_x": null,
            "overflow_y": null,
            "padding": null,
            "right": null,
            "top": null,
            "visibility": null,
            "width": null
          }
        },
        "b9e4179b64b24db38d09d2cbb6b65c72": {
          "model_module": "@jupyter-widgets/controls",
          "model_name": "DescriptionStyleModel",
          "model_module_version": "1.5.0",
          "state": {
            "_model_module": "@jupyter-widgets/controls",
            "_model_module_version": "1.5.0",
            "_model_name": "DescriptionStyleModel",
            "_view_count": null,
            "_view_module": "@jupyter-widgets/base",
            "_view_module_version": "1.2.0",
            "_view_name": "StyleView",
            "description_width": ""
          }
        },
        "e2bbc83a80224e7082876679c43ac1dd": {
          "model_module": "@jupyter-widgets/base",
          "model_name": "LayoutModel",
          "model_module_version": "1.2.0",
          "state": {
            "_model_module": "@jupyter-widgets/base",
            "_model_module_version": "1.2.0",
            "_model_name": "LayoutModel",
            "_view_count": null,
            "_view_module": "@jupyter-widgets/base",
            "_view_module_version": "1.2.0",
            "_view_name": "LayoutView",
            "align_content": null,
            "align_items": null,
            "align_self": null,
            "border": null,
            "bottom": null,
            "display": null,
            "flex": null,
            "flex_flow": null,
            "grid_area": null,
            "grid_auto_columns": null,
            "grid_auto_flow": null,
            "grid_auto_rows": null,
            "grid_column": null,
            "grid_gap": null,
            "grid_row": null,
            "grid_template_areas": null,
            "grid_template_columns": null,
            "grid_template_rows": null,
            "height": null,
            "justify_content": null,
            "justify_items": null,
            "left": null,
            "margin": null,
            "max_height": null,
            "max_width": null,
            "min_height": null,
            "min_width": null,
            "object_fit": null,
            "object_position": null,
            "order": null,
            "overflow": null,
            "overflow_x": null,
            "overflow_y": null,
            "padding": null,
            "right": null,
            "top": null,
            "visibility": null,
            "width": null
          }
        },
        "e737350048f64bee8a0f5ec4b4118d81": {
          "model_module": "@jupyter-widgets/controls",
          "model_name": "DescriptionStyleModel",
          "model_module_version": "1.5.0",
          "state": {
            "_model_module": "@jupyter-widgets/controls",
            "_model_module_version": "1.5.0",
            "_model_name": "DescriptionStyleModel",
            "_view_count": null,
            "_view_module": "@jupyter-widgets/base",
            "_view_module_version": "1.2.0",
            "_view_name": "StyleView",
            "description_width": ""
          }
        },
        "ea0c0feb176143d086a5bdb9fbe1ff52": {
          "model_module": "@jupyter-widgets/base",
          "model_name": "LayoutModel",
          "model_module_version": "1.2.0",
          "state": {
            "_model_module": "@jupyter-widgets/base",
            "_model_module_version": "1.2.0",
            "_model_name": "LayoutModel",
            "_view_count": null,
            "_view_module": "@jupyter-widgets/base",
            "_view_module_version": "1.2.0",
            "_view_name": "LayoutView",
            "align_content": null,
            "align_items": null,
            "align_self": null,
            "border": null,
            "bottom": null,
            "display": null,
            "flex": null,
            "flex_flow": null,
            "grid_area": null,
            "grid_auto_columns": null,
            "grid_auto_flow": null,
            "grid_auto_rows": null,
            "grid_column": null,
            "grid_gap": null,
            "grid_row": null,
            "grid_template_areas": null,
            "grid_template_columns": null,
            "grid_template_rows": null,
            "height": "28px",
            "justify_content": null,
            "justify_items": null,
            "left": null,
            "margin": null,
            "max_height": null,
            "max_width": null,
            "min_height": null,
            "min_width": null,
            "object_fit": null,
            "object_position": null,
            "order": null,
            "overflow": null,
            "overflow_x": null,
            "overflow_y": null,
            "padding": "0px 0px 0px 4px",
            "right": null,
            "top": null,
            "visibility": null,
            "width": "28px"
          }
        },
        "e473bff5138246ca9efacb659730a61f": {
          "model_module": "@jupyter-widgets/controls",
          "model_name": "DescriptionStyleModel",
          "model_module_version": "1.5.0",
          "state": {
            "_model_module": "@jupyter-widgets/controls",
            "_model_module_version": "1.5.0",
            "_model_name": "DescriptionStyleModel",
            "_view_count": null,
            "_view_module": "@jupyter-widgets/base",
            "_view_module_version": "1.2.0",
            "_view_name": "StyleView",
            "description_width": ""
          }
        },
        "97b62edbb09a46d290ce6b12f88c07c9": {
          "model_module": "@jupyter-widgets/base",
          "model_name": "LayoutModel",
          "model_module_version": "1.2.0",
          "state": {
            "_model_module": "@jupyter-widgets/base",
            "_model_module_version": "1.2.0",
            "_model_name": "LayoutModel",
            "_view_count": null,
            "_view_module": "@jupyter-widgets/base",
            "_view_module_version": "1.2.0",
            "_view_name": "LayoutView",
            "align_content": null,
            "align_items": null,
            "align_self": null,
            "border": null,
            "bottom": null,
            "display": null,
            "flex": null,
            "flex_flow": null,
            "grid_area": null,
            "grid_auto_columns": null,
            "grid_auto_flow": null,
            "grid_auto_rows": null,
            "grid_column": null,
            "grid_gap": null,
            "grid_row": null,
            "grid_template_areas": null,
            "grid_template_columns": null,
            "grid_template_rows": null,
            "height": "28px",
            "justify_content": null,
            "justify_items": null,
            "left": null,
            "margin": null,
            "max_height": null,
            "max_width": null,
            "min_height": null,
            "min_width": null,
            "object_fit": null,
            "object_position": null,
            "order": null,
            "overflow": null,
            "overflow_x": null,
            "overflow_y": null,
            "padding": "0px 0px 0px 4px",
            "right": null,
            "top": null,
            "visibility": null,
            "width": "28px"
          }
        },
        "ccf537180372418b94d07635fc11124f": {
          "model_module": "@jupyter-widgets/controls",
          "model_name": "DescriptionStyleModel",
          "model_module_version": "1.5.0",
          "state": {
            "_model_module": "@jupyter-widgets/controls",
            "_model_module_version": "1.5.0",
            "_model_name": "DescriptionStyleModel",
            "_view_count": null,
            "_view_module": "@jupyter-widgets/base",
            "_view_module_version": "1.2.0",
            "_view_name": "StyleView",
            "description_width": ""
          }
        },
        "7925c676e7d24838aa2acfbff7e9ed75": {
          "model_module": "@jupyter-widgets/base",
          "model_name": "LayoutModel",
          "model_module_version": "1.2.0",
          "state": {
            "_model_module": "@jupyter-widgets/base",
            "_model_module_version": "1.2.0",
            "_model_name": "LayoutModel",
            "_view_count": null,
            "_view_module": "@jupyter-widgets/base",
            "_view_module_version": "1.2.0",
            "_view_name": "LayoutView",
            "align_content": null,
            "align_items": null,
            "align_self": null,
            "border": null,
            "bottom": null,
            "display": null,
            "flex": null,
            "flex_flow": null,
            "grid_area": null,
            "grid_auto_columns": null,
            "grid_auto_flow": null,
            "grid_auto_rows": null,
            "grid_column": null,
            "grid_gap": null,
            "grid_row": null,
            "grid_template_areas": null,
            "grid_template_columns": null,
            "grid_template_rows": null,
            "height": "28px",
            "justify_content": null,
            "justify_items": null,
            "left": null,
            "margin": null,
            "max_height": null,
            "max_width": null,
            "min_height": null,
            "min_width": null,
            "object_fit": null,
            "object_position": null,
            "order": null,
            "overflow": null,
            "overflow_x": null,
            "overflow_y": null,
            "padding": "0px 0px 0px 4px",
            "right": null,
            "top": null,
            "visibility": null,
            "width": "28px"
          }
        },
        "8b5462ecd74e41aea1318dbe43757df3": {
          "model_module": "@jupyter-widgets/controls",
          "model_name": "DescriptionStyleModel",
          "model_module_version": "1.5.0",
          "state": {
            "_model_module": "@jupyter-widgets/controls",
            "_model_module_version": "1.5.0",
            "_model_name": "DescriptionStyleModel",
            "_view_count": null,
            "_view_module": "@jupyter-widgets/base",
            "_view_module_version": "1.2.0",
            "_view_name": "StyleView",
            "description_width": ""
          }
        },
        "8fe1c6e4dc6c43d6a2b93f18a1381d11": {
          "model_module": "@jupyter-widgets/base",
          "model_name": "LayoutModel",
          "model_module_version": "1.2.0",
          "state": {
            "_model_module": "@jupyter-widgets/base",
            "_model_module_version": "1.2.0",
            "_model_name": "LayoutModel",
            "_view_count": null,
            "_view_module": "@jupyter-widgets/base",
            "_view_module_version": "1.2.0",
            "_view_name": "LayoutView",
            "align_content": null,
            "align_items": null,
            "align_self": null,
            "border": null,
            "bottom": null,
            "display": null,
            "flex": null,
            "flex_flow": null,
            "grid_area": null,
            "grid_auto_columns": null,
            "grid_auto_flow": null,
            "grid_auto_rows": null,
            "grid_column": null,
            "grid_gap": null,
            "grid_row": null,
            "grid_template_areas": null,
            "grid_template_columns": null,
            "grid_template_rows": null,
            "height": "28px",
            "justify_content": null,
            "justify_items": null,
            "left": null,
            "margin": null,
            "max_height": null,
            "max_width": null,
            "min_height": null,
            "min_width": null,
            "object_fit": null,
            "object_position": null,
            "order": null,
            "overflow": null,
            "overflow_x": null,
            "overflow_y": null,
            "padding": "0px 0px 0px 4px",
            "right": null,
            "top": null,
            "visibility": null,
            "width": "28px"
          }
        },
        "76f542ed0760430ab1c53ae53debe96d": {
          "model_module": "@jupyter-widgets/controls",
          "model_name": "DescriptionStyleModel",
          "model_module_version": "1.5.0",
          "state": {
            "_model_module": "@jupyter-widgets/controls",
            "_model_module_version": "1.5.0",
            "_model_name": "DescriptionStyleModel",
            "_view_count": null,
            "_view_module": "@jupyter-widgets/base",
            "_view_module_version": "1.2.0",
            "_view_name": "StyleView",
            "description_width": ""
          }
        }
      }
    }
  },
  "cells": [
    {
      "cell_type": "markdown",
      "metadata": {
        "id": "view-in-github",
        "colab_type": "text"
      },
      "source": [
        "<a href=\"https://colab.research.google.com/github/amorfinv/icrat_notebooks/blob/main/street_data_scenario.ipynb\" target=\"_parent\"><img src=\"https://colab.research.google.com/assets/colab-badge.svg\" alt=\"Open In Colab\"/></a>"
      ]
    },
    {
      "cell_type": "markdown",
      "source": [
        "# Using street data in BlueSky\n",
        "\n",
        "The first step is to import all the necessary libraries and install any missing ones."
      ],
      "metadata": {
        "id": "J_rnX7ZPunab"
      }
    },
    {
      "cell_type": "code",
      "source": [
        "import os\n",
        "import subprocess\n",
        "\n",
        "try:\n",
        "    import osmnx as ox\n",
        "except ImportError:\n",
        "    print('Installing osmnx ...')\n",
        "    subprocess.check_call([\"python\", '-m', 'pip', 'install', 'osmnx'])\n",
        "    import osmnx as ox\n",
        "\n",
        "try:\n",
        "    import leafmap\n",
        "except ImportError:\n",
        "    print('Installing leafmap ...')\n",
        "    subprocess.check_call([\"python\", '-m', 'pip', 'install', 'leafmap'])\n",
        "    import leafmap\n",
        "\n",
        "import geopandas as gpd\n",
        "from shapely.geometry import Point, LineString, Polygon, MultiLineString\n",
        "from shapely import ops\n",
        "import numpy as np"
      ],
      "metadata": {
        "id": "9J-YxhYdgD3B"
      },
      "execution_count": 1,
      "outputs": []
    },
    {
      "cell_type": "markdown",
      "source": [
        "Here we create a map for our area of interest."
      ],
      "metadata": {
        "id": "_OXBBKoyxh5V"
      }
    },
    {
      "cell_type": "code",
      "execution_count": 16,
      "metadata": {
        "colab": {
          "base_uri": "https://localhost:8080/",
          "height": 521,
          "referenced_widgets": [
            "ba2d29f96d2c49c7bd2f3bf56ab82157",
            "b8134eaa9e7a4147bd34b4f85230262f",
            "ff228a7cf43d4d6bab9730b561134dc2",
            "748e7b3be24145f8a06d8c53845a95ae",
            "39cece8870524e038104b349ec9c711b",
            "ca1cba6989f44534832492e9e92e5fca",
            "895c5ad984ca441da42c1ea218fd3b29",
            "43ea24dcfd6a4f6ea414466ef6f08fa3",
            "043def3f8bf94a61b61983b01c005109",
            "8a8804a005ab4d639f9464166036ae88",
            "bfd968087b1741d19b1cabaa64029741",
            "a7b80b1e739841679f0c9e65f92a6cac",
            "b1ed7a1517b74b8db232ae4d0ca26650",
            "05dd296e8c7740ce9d926796f73d23cf",
            "daf2cd4c2ab545ecb452fe879bd2e7eb",
            "b80285d67f1642819e4c35d115c4d4b5",
            "063effa1985341708d86ae8585b0385e",
            "ef44710840f14c1dac681ccddf03a087",
            "2c1440631bdf4d5d853e9968a91b5dcb",
            "f423b5b684ce4b4e975356b3b797ed7b",
            "c31fb0bc74284d569fbec1dc71ee2a1b",
            "2a977b66d01c40cbad929adcbd044d52"
          ]
        },
        "id": "7mgJ-OZ-faTg",
        "outputId": "e592f558-1874-4b7c-d40f-9a6bb6fb0084"
      },
      "outputs": [
        {
          "output_type": "display_data",
          "data": {
            "text/plain": [
              "Map(center=[27.95056, -82.45656], controls=(ZoomControl(options=['position', 'zoom_in_text', 'zoom_in_title', …"
            ],
            "application/vnd.jupyter.widget-view+json": {
              "version_major": 2,
              "version_minor": 0,
              "model_id": "ba2d29f96d2c49c7bd2f3bf56ab82157"
            }
          },
          "metadata": {
            "application/vnd.jupyter.widget-view+json": {
              "colab": {
                "custom_widget_manager": {
                  "url": "https://ssl.gstatic.com/colaboratory-static/widgets/colab-cdn-widget-manager/a8874ba6619b6106/manager.min.js"
                }
              }
            }
          }
        }
      ],
      "source": [
        "# Show map of Tampa\n",
        "map_args = {\"center\":(27.95056, -82.45656), \"zoom\":16, \"height\":\"500px\", \"width\":\"500px\"}\n",
        "cartomap = {\n",
        "    \"url\":\"https://cartodb-basemaps-b.global.ssl.fastly.net/light_nolabels/{z}/{x}/{y}.png\",\n",
        "    \"name\":\"CartoDB\",\n",
        "    \"attribution\":\"CartoDB\",\n",
        "}\n",
        "m = leafmap.Map(**map_args)\n",
        "m.add_tile_layer(**cartomap)\n",
        "display(m)"
      ]
    },
    {
      "cell_type": "markdown",
      "source": [
        "Select an origin and destination point and plot it"
      ],
      "metadata": {
        "id": "l6BAMlnL6GKd"
      }
    },
    {
      "cell_type": "code",
      "source": [
        "# Create a mission from pharmacy to firefighter\n",
        "origin_point = Point(-82.45863, 27.94853)\n",
        "destination_point = Point(-82.45413, 27.95102)\n",
        "\n",
        "# dictionary for geodataframe\n",
        "data = {'type': ['origin', 'destination'], \n",
        "        'geometry': [origin_point, destination_point],\n",
        "        'latitude': [27.94853, 27.95102],\n",
        "        'longitude': [-82.45863, -82.45413]\n",
        "        }\n",
        "gdf_od = gpd.GeoDataFrame(data, crs='epsg:4326')\n",
        "\n",
        "# create map and add gdf\n",
        "m = leafmap.Map(**map_args)\n",
        "m.add_tile_layer(**cartomap)\n",
        "m.add_points_from_xy(gdf_od, popup='type', layer_name='od', zoom_to_layer=False)\n",
        "display(m)"
      ],
      "metadata": {
        "colab": {
          "base_uri": "https://localhost:8080/",
          "height": 521,
          "referenced_widgets": [
            "3aae7676327c4be0b0f607118c3b00e1",
            "3308086eea764681935dbaf906454eb0",
            "9337df1f294e493ba269054e25527498",
            "a2141bdeb9e64c57ab7893a024e155f9",
            "a7d46f5242d34525938a692c8f5de949",
            "0dac3b2393df471b9e265241c6cec1ac",
            "878208ab69e14498bcf8cb40d8e6fd19",
            "9a45ce145eb940339af0c5daaa94a7fd",
            "006c5a2253bf4d14b89e3d96572bd399",
            "ac81ad440f374f22a1b520e5473d2dfc",
            "92a6fa5fc5714adbbba103d0fdb2e0ac",
            "68cc5063b9574086bffa607530ec5420",
            "8982aac9926d4aaf987eee3c59aa1e84",
            "7106155c9d224ddfbf690f559a9bda2f",
            "6a7c7c13f5774e9d9d4864f3e3194f16",
            "e887ab33e3a54319a4d99471f6c6ef36",
            "3d21d4953c5d4b75a87d77eeb787194e",
            "aad0216263c7402aa8297c7b3dd783bf",
            "6043713323b74d02bb1b4a67818d1fc7",
            "c72868168924478fab955dc608074408",
            "f23f806913e3484f838bd08671c71a7c",
            "847c96df57314487a9bc9b43d5f7a049",
            "ef80abe1c41a4637ab3a1cbf0c7c263f",
            "2a1981757b9f447e916b8abf96b2df1c",
            "c093cacfb0a4415e817e1da1f1c68272",
            "4adf9b1922f94c11be13aad98f06566f",
            "e55f6a34482542d08a3a2bebb6aadcd3",
            "3182ff90d9c544fa888e0476e2133e03",
            "f141da726af1471b84f0a82af75ecbe5",
            "79a8be5819374b04b86e58592e0a7c5c",
            "91c7eddaeaef404c8235aa17e8478e02"
          ]
        },
        "id": "B0GP0d3GisIN",
        "outputId": "76462461-b96c-4a3a-e1ea-2a10451530d0"
      },
      "execution_count": 17,
      "outputs": [
        {
          "output_type": "display_data",
          "data": {
            "text/plain": [
              "Map(center=[27.95056, -82.45656], controls=(ZoomControl(options=['position', 'zoom_in_text', 'zoom_in_title', …"
            ],
            "application/vnd.jupyter.widget-view+json": {
              "version_major": 2,
              "version_minor": 0,
              "model_id": "3aae7676327c4be0b0f607118c3b00e1"
            }
          },
          "metadata": {
            "application/vnd.jupyter.widget-view+json": {
              "colab": {
                "custom_widget_manager": {
                  "url": "https://ssl.gstatic.com/colaboratory-static/widgets/colab-cdn-widget-manager/a8874ba6619b6106/manager.min.js"
                }
              }
            }
          }
        }
      ]
    },
    {
      "cell_type": "markdown",
      "source": [
        "Create a graph with a polygon"
      ],
      "metadata": {
        "id": "kPSNQLg-6UFV"
      }
    },
    {
      "cell_type": "code",
      "source": [
        "# download OSM as a networkx graph\n",
        "\n",
        "# create a polygon of area of interest\n",
        "p1 = Point(-82.46079, 27.95042)\n",
        "p2 = Point(-82.45905, 27.94679)\n",
        "p3 = Point(-82.45168, 27.94934)\n",
        "p4 = Point(-82.45344, 27.95290)\n",
        "\n",
        "polygon = Polygon([p1, p2, p3, p4, p1])\n",
        "\n",
        "# download graph of area\n",
        "G = ox.graph_from_polygon(polygon, network_type='drive')\n",
        "\n",
        "# Convert to gdf\n",
        "nodes, edges = ox.graph_to_gdfs(G)\n",
        "nodes['osmid'] = nodes.index\n",
        "nodes.reset_index(drop=True, inplace=True)\n",
        "\n",
        "# Show map\n",
        "map_args = {\"center\":(27.95056, -82.45656), \"zoom\":17, \"height\":\"800px\", \"width\":\"1000px\"}\n",
        "m = leafmap.Map(**map_args)\n",
        "m.add_tile_layer(**cartomap)\n",
        "m.add_points_from_xy(gdf_od, popup='type', layer_name='od', zoom_to_layer=False)\n",
        "m.add_points_from_xy(nodes, x=\"x\", y=\"y\", layer_name='nodes', zoom_to_layer=False, popup='osmid')\n",
        "m.add_gdf(edges, layer_name='edges', style={\"color\": \"black\", \"weight\": 3}, zoom_to_layer=False)\n",
        "\n",
        "display(m)"
      ],
      "metadata": {
        "colab": {
          "base_uri": "https://localhost:8080/",
          "height": 821,
          "referenced_widgets": [
            "7814839492074952bc5f77cf74e91054",
            "1c9afe53b75344cd91f9db114d89a49d",
            "765b1de47a33421e8e4fd2df684852ba",
            "dbfce3d3627d4329a3af1cd07cb3fec5",
            "5e2900f823d24af787d3621494482418",
            "c0dc690683944a7f97567f2e4d2b67ed",
            "350ed0ce566a4e48bfd88a91e73f1189",
            "db9c6cf7d0244e63a6b60b40bfbda583",
            "f719157cba19485aa8df4ab19a2e93f4",
            "f60b24d6b2944a569f21066d191fdd5a",
            "905aa1abe88e491c8ca60f6098d39fa4",
            "d3eb5072c4b24312b209d98ee4f9d9a4",
            "33dd7c8b626c43d39849244a71d280f1",
            "407748605eea42799a7f0849edbf063b",
            "e22e592952494f7c85efa8d9aaaa9a6f",
            "38f6ab6f26a24c7b9cb10991595cd912",
            "38311b444d244121bc4cfb5ab1ddd549",
            "ed2c723cdafb423aad6a093042a86b4e",
            "fce7ab659bbd478ea028b5833d1fcea3",
            "04fa93c2831a4bd0b75088896ba040cd",
            "36751fa393884336abd1450ea2a09959",
            "777fd21ab01143538c926ed2536bebf6",
            "5fc7cd9dce1f4518bb94ef901861eba3",
            "4eea7ae6a2e54666920c82fb53aac54d",
            "6548bfc2c2db4765855455949350ed26",
            "6b9698f63b0e4d3b98669c8fd12daa4f",
            "2d63edf7fab942558c6558ef0a17e960",
            "048f6d21deed4fb897c4372f5ff8f2b4",
            "ecc56dbe44ad420492d2b5efaab93aeb",
            "b3cdd9a4164d4af28afff5c889900a0f",
            "bc8eed8eea5b43eda419f0139ee258cf",
            "9b8316067dd1433a996dd15ebcf2efa6",
            "2b9b7e2e9bc7448287c9a35bc9ccd2d6",
            "b003fcce80f64feda33a564ff1c7df55",
            "a115bf8f855a41318ad72472f1fa4347",
            "45c4c562cbfe4bb0a49091c7dff26668",
            "04846254731340628ec8b32b5a623069",
            "3a052a1cdba64146a42394b4d771b091",
            "1e16cff99dc84bc7ba8a146dca9fb965",
            "80354aee31884694918c4bd1951e4726",
            "c617ee639fa44289b76a35597ff6bdec",
            "1d573bea12f9427b8cfb645b6834f39f",
            "11df8800e29442cc9979e414efb5e393",
            "249bd19d70b34882a659501409f3b189",
            "dc39d8aaf1ed457aa047616280f8d42a",
            "3f2865561fe94c2e9df2b7ddf73f8a79",
            "04387dcf149d4a49bd4dbbb0d9243ad7",
            "4309cf91dcda4a7089ca681aafeb4fa7",
            "552e6ac3657f4d869cf3f6969240b757",
            "4fc9e38b02a64c4e92ebeac922a1fb71",
            "36d749f85ded4afe86b9f75640874784",
            "501dd40548a8485c9ae28ef82d4e6bf8",
            "f5b13a75ec734197abd1285e3f490d96",
            "c59e800f6b624220b2a93f977292e701",
            "ac97139620e349f4a31d6db3160c68da",
            "3c8d054354da4e8c851560516c8312af",
            "d2f4f8ecda1c44ed911d22d2c46072ab",
            "839347449c1e4fdfa65ce7d75ebaa72f",
            "a42aaea488ae4654a9b8f36f0ce18b7d",
            "8ed248d7f504424ba33a2e89529c9d8e",
            "0a9ebf2e87ea44cf9668ae906c2a97c3",
            "9c7fa7c92be34265935ff276b8fb7173",
            "14d6088857b542e6b48eb51ae6a69a72",
            "23ebef1d663541599ff5efdaec17a7d3",
            "0b7f11b9f63f43469059fa81a282c3bb",
            "658c0f5eadf44decb5a318cb0dbc4472",
            "7e48e44381de4b74bb5a1e18c2bc6364",
            "d56e620ca9ab4e88b9914a18ab5841dd",
            "4fc3cf348da44af18cd6ca88d89223a5",
            "b8623bb58e924e21ab80f09979b85e2e",
            "2fa303ba9fe74b06be5363c09891affb",
            "71f76aec82ae43b38fb9e4d0376d8eb8",
            "af9d01e6eae94c0886d4f42ed88e19e3",
            "753604ab454541b291eb75eb80a8337f",
            "f36480344fd84015be25be2bbf1ca4b0",
            "71bc07d299e84c1999c15f671db8d0b0",
            "41a2d90a9e9549ee85c90601e3212b0d",
            "5da64d3cbce848288653330f4d5c6391",
            "54c700e22e7443a89d7c7b8b478b64a7",
            "ba58e3fdfe8341b1bdbca97f0c26b00f",
            "bc7bae32c54042418c9e7041ac21aab3",
            "53a162119c4e4bcb84e7569786aa9b08",
            "00d17904f49c49698f0ecbf7b97d8256",
            "ffede06992684790b3b3e4a6d2a76f9a",
            "b164564d64f04483ab473a33b0115fae",
            "b4791f20463d4b13a91e401610ce2a71",
            "e61afeba5e0a45258282b1073dca11a5",
            "40505fcfde734dae8d424764b4858329",
            "4939549b828e4e5ebaec2514ae30b3ca",
            "179ba777f9d7405a93daf7eda2caa979",
            "51088bce40194bd7b0178aeb23030c6b",
            "a6993bc76957442f91e590c6f6cfb7ce",
            "f78fea4f1717439c9f37b51fd68d7df0",
            "2b259c48dfb64fa4b5ccd61ba2764dd9",
            "7e895a01240c4d3b97b9c4daa2e62c5f",
            "598cf5007efe4757ad76d0040e293e59",
            "c1fb18f9906f48129111646776dfad4a",
            "7bab605d162d4bf9909ee0407d57aa88",
            "42e2a98412f74b769d6dc6a13e0db44e",
            "d75ef09dcb7c495db9be5ec2621670b1",
            "d66f7a93cc344230bf32ac6e7eb33ad1",
            "041f96315328483c9e0903fa97ab8136",
            "56c43393b8004a998bdd7d1edb4c4249",
            "3b55f173b74b4483ae2a208f1f13734d",
            "24fea7dd359a46138d620a4fceacbd3d",
            "889661a781bc479a841723428a01582e",
            "f6c85475be0b43a9876758c350719731",
            "b470249c7a7545e6904883eb6a4e3011",
            "964a44bba3214cd0888fa9a0b4642a33",
            "de3b5d32d8dc46e0862332115bf471e1",
            "ead5643d1e3d4a5eb0ae337902eb4817",
            "56ec2c0e47cd4828b6dd61decf6ebe0c",
            "d74e682f7a1543faa7c0bc2deb0a2342",
            "c68d302b6ea143358aa99de057a96d47",
            "975c3499b90e45a0be39b0f39a03bc1c",
            "85c5119f14304366858023704d263fbd",
            "7451bc267c4d4e0ea49fe6d31bdb58d0",
            "59ba496ea6474335a12c5be18f77c5b2",
            "485addb23f434a3d9f4f002055ac6dbe",
            "4230f681423348c99bb191f3859f745a",
            "ebe0b76c1767494280b2a4a8cc798794",
            "1700edda46514c54b931665d0df35aa9",
            "255c37a9cb234dcf9f5cefe9f780eb41",
            "4c955b794dbf4f47898096ad4de54106",
            "3d434c60715540f9925e0654d6b107b6",
            "7d53957c99bb4cee8f07be6217d478c8",
            "36ca4906e26c4e319dac267e4cd9e6df",
            "d5116ac3a9084991ab221bd52d9e83af",
            "8e46acca51db428c8ad184c5b02e4fd5",
            "9c718dd8e1f243ccb61784f8a66de688",
            "fcbc6b50366a402898d83a76a1cd1e4f",
            "1edd41b6c2b443349c096fb5081920d2",
            "c3755b84362a4a9d973f6ab94172f571",
            "a04c26a23b784b13a8a43ae9f6e570b9",
            "b5bd49fd80084fe8addf2e33cedf4b1a",
            "afa5cdca072f40c4a55fd21885b12a11",
            "1667df50702a4c6195547401488e0af6",
            "73ad980f927949f991a3ea4c3df85725",
            "2b13d4dd7f154ad29072ce07bff5c44d",
            "79d042897cf048f5a7da671f91279162",
            "248fe806caac4cbf9573524d4e10e415",
            "1e6541cb908a47bc97326752e7d642fb",
            "4d83f53831b54480a34924077229e97f",
            "ebef96ddd1124283b99a8171532a394f",
            "c9930f0733fa4fa48f96f340d1a0fe17",
            "533b95920d624206a716fd8d2a70d58b",
            "320296a9d7b0426e8531eca75655f88f",
            "4986f741827346e893d093bd0b8ce7d2",
            "acf66781f20c4094ab309b730b831a54",
            "6ebac58ed9e54bb994ae05ff5019fd74",
            "17cbffe8f09e491ba15a0b6c07642c98",
            "ada86dd4af7f4746b507e26477c08f26",
            "6759207727d34022b6fae11212d628b0",
            "e5b8b18f118c429997340f21ca885c71",
            "5da3e878401447929fc79df5e958427e",
            "5b7548305aac4d87a052a00f852cdc20",
            "d30a0a252113486c8727e3e5fa4fb14f",
            "fb3dd0be9d9c4e288b28fa61ca6c477d",
            "1bd762efdf32419296ab70475dce863f",
            "7ffa19ca540941bf94f81800f34c8cc8",
            "082691c0fb944fe3a2bfb79576379622",
            "332e840d7b7646f1898ae46f81f44801",
            "46686839c76a4421acfbce1049180cf7",
            "bc7414e91e26443fb31d3d5afe08795a",
            "5fd88e805c8d4128b1d7de4aaeb9cd68",
            "9213eb61542a424fa5f70a13ed1df425",
            "bd41576243b2423e95dc9cfb8d92c998",
            "78269b3a51c84c8fbccc30655ec219ca",
            "4087b8cb00f542e69c01ff58fa85d342",
            "19d90e04842849b09dd55ddad721b109",
            "cf70eb66745f45f29bd9458d86404b90",
            "6ed474ff0f3a4d9bbedf5799bf4e1229",
            "47f468fe375d49d9b58afda196841d39",
            "4d78813defc740a0a1344ef46f736eb8",
            "8cb772443f2c49f68842fc6ca1437ce4",
            "261bfbf23e854ea4a4e3d4fe86a4b335",
            "76e83fd04b5e4ef99986bc10d425d8bd",
            "6afff487faca43e3a9698f0679a790cc",
            "062d4e72f5884f0a8894ddba4dab7c28",
            "ffa25f4f070645b2999d166624971745",
            "05db11f363f5461badcc109e0bd385d6",
            "d227d9f7fbf241ffa48e0116b7660583",
            "f9dbb3e081cc406182689ded36f0ca28",
            "ba2f8a025740467fb56a27849dce2ff8",
            "3b99dac683ef46b1b7659bbb28224349",
            "a3bccf6a7129487b97aede1d4d4c6d34",
            "6785444cd36a43308cf0c57642bfd3ec",
            "435690f0befb4ab7852237ac7e009fe4",
            "405e97289e164f19b9c1652b98be5a36",
            "b92e27388b0a4d3eb85fc7cdbad4c2ef",
            "122080396e5b4a018814e5e8a33be3c8",
            "9c8d9cbdcd9e4ca3b4743fe0e78a990d",
            "90a86edac0ea43909648430399c95f40",
            "803da058a1b5459f88ccc81efa9f599d",
            "779fc0d97498422996d7ecb39be9cda8",
            "af1e79698ad84d4ba0b4c199b10ac7fe",
            "a3f5f14ca04941329d61f0e89db98b59",
            "f8c4f8312c474c88b83e82f9818f3915",
            "b6e18d4df75d442bb38c1eabe9f0946c",
            "a5ca096ff5654c3fa29f2c480776d31a",
            "3639fbf1bd614178a3e35ac4e39f573b",
            "6ef8801226554154ae078d091dc22637",
            "5618dec909774bf8a92deae94bb8d7b7",
            "46a913c47cf540b9869af59045c2f1a4",
            "5dd314adb59b4d908080f7c21203f3ee",
            "74660ec4b2c647518eed11f5c43344eb",
            "3a41c804f6d443eb8018a3eec21a0aa9",
            "b21730bf360641519e5121d1fe374b0f",
            "2b187e7f84984f259c7dc57f7b924775",
            "139554577fc94e3280e43561d0d685cf",
            "bf1646cfd07e4c688b9796699585ca93",
            "aefcd75519724582b513a42319a4ed50",
            "39069c2d1fab47169543b8af954e8445",
            "65beda2498734e9cb1144ede2490834a",
            "9a37771034d343e980e9654e4c7191c0",
            "3fafc09e6cac4d6dbecc9d212699817e",
            "15ce8956cd5e49ef9e97afe415eb7063",
            "30ac2e3eaf944d66b37067e0bd8a89d4",
            "5658414b196f4196a7ed3acb248d0873",
            "5d3af831dcbb410080fb9bedfcdba708",
            "942419a03c314c0a89ef3d5d8ad03c46",
            "f9f346be09c94a6e9fadc52906bf4669",
            "ef0fd0acc99e408fb75addc62f870bed",
            "53f964ae6d5e4d58b406c7ab931f8d2d",
            "299342332a9541709c982fba65dd2d20",
            "7fc6324966c1425c8eb560c161e3e892",
            "2c5edc9a39924fe79bad05b8ec5dec28",
            "fdab61f6ae7b4a4ab1aae729a0c9eb0f",
            "0bf8928a96c54485be479aa6b52e59ea",
            "9dab57278fc445bf81570eb3206bb1e0",
            "a79133290dfc48e7a6eb9f6c832d451a"
          ]
        },
        "id": "yBywXmSr8Es5",
        "outputId": "d3a0e203-353b-4247-9e36-043724fb6647"
      },
      "execution_count": 19,
      "outputs": [
        {
          "output_type": "display_data",
          "data": {
            "text/plain": [
              "Map(center=[27.95056, -82.45656], controls=(ZoomControl(options=['position', 'zoom_in_text', 'zoom_in_title', …"
            ],
            "application/vnd.jupyter.widget-view+json": {
              "version_major": 2,
              "version_minor": 0,
              "model_id": "7814839492074952bc5f77cf74e91054"
            }
          },
          "metadata": {
            "application/vnd.jupyter.widget-view+json": {
              "colab": {
                "custom_widget_manager": {
                  "url": "https://ssl.gstatic.com/colaboratory-static/widgets/colab-cdn-widget-manager/a8874ba6619b6106/manager.min.js"
                }
              }
            }
          }
        }
      ]
    },
    {
      "cell_type": "markdown",
      "source": [
        "Get the route with an origin and desitination points"
      ],
      "metadata": {
        "id": "-9mDgxWK67w7"
      }
    },
    {
      "cell_type": "code",
      "source": [
        "# get a route from origin to destination\n",
        "X = [origin_point.x, destination_point.x]\n",
        "Y = [origin_point.y, destination_point.y]\n",
        "\n",
        "# find the nearest nodes to the origin and destination points\n",
        "orig, dest = ox.nearest_nodes(G, X, Y, return_dist=False)\n",
        "\n",
        "# Get the route as a list of nodes\n",
        "route = ox.shortest_path(G, orig, dest)\n",
        "\n",
        "# get gemetry of route and put in a gdf\n",
        "route_geom = ox.utils_graph.get_route_edge_attributes(G, route, attribute=\"geometry\")\n",
        "multi_line = MultiLineString(route_geom)\n",
        "route_gdf = gpd.GeoDataFrame(geometry=[ops.linemerge(multi_line)], crs=\"epsg:4326\")\n",
        "\n",
        "# Show map\n",
        "m = leafmap.Map(**map_args)\n",
        "m.add_tile_layer(**cartomap)\n",
        "m.add_points_from_xy(gdf_od, x=\"longitude\", y=\"latitude\", popup='type', layer_name='od', zoom_to_layer=False)\n",
        "m.add_gdf(edges, layer_name='edges', style={\"color\": \"black\", \"weight\": 3}, zoom_to_layer=False)\n",
        "m.add_gdf(route_gdf, layer_name='route', style={\"color\": \"red\", \"weight\": 6}, zoom_to_layer=False)\n",
        "display(m)\n"
      ],
      "metadata": {
        "colab": {
          "base_uri": "https://localhost:8080/",
          "height": 821,
          "referenced_widgets": [
            "7937be8658f041e99fa594bb029dae0a",
            "755bfc73e3cc470faaec8255e99a9813",
            "164f05081ca74ee992f5c5a81094e671",
            "3f70baaa3a854ae3818fd80f423c7e79",
            "6038be350dcb47219ab428abd66c146b",
            "b14d169a1c044a9dba232e0d372b3d68",
            "9d171e06101a4b86ad5c71e866ac14bc",
            "6601a6d3b85142bd9b6ba30c30e8c4fe",
            "ec33177ae79143dbb57a26cc98ba770a",
            "d1374f865e794332a9d1d895a28dd790",
            "7c2587a8b9da4923a25ad5e9393aa962",
            "25dcd15e86f64bc9a50508f8dc9ac91f",
            "c8aeec34af9248c58d443899c915b825",
            "7bff575659ff4031ab11092d4ab027ab",
            "f14ab1d41cd34010b78d41383f8c1c83",
            "aa17a1933e2b4ae98f4184dfd9eebe3e",
            "3c7b3897d7df448fba2e3569e05b16bb",
            "f5e6c0b768f044a49ccd89a8095c9d1e",
            "d0e23909950c430a8ff68091c5b698e2",
            "8b1284d5829241a1b1ab3068ae1d4a2b",
            "efa944b60f324b9e821e3369a19df0e3",
            "84b469035982469dad8a0f7ced075aa6",
            "720e4e1771d04141a5665a9b85c5b70b",
            "46efb2701b1448ebb95f96c6669df054",
            "e6fdfde2b8294396b551888c2eb9966b",
            "a1433f8beb22465095660d1f0651bd97",
            "32ddfdb9114c4b5c8935ef0e8e4306fe",
            "0aeff7f7ffc14d329df026aedd93f161",
            "2bc1fbb29f6347adad7f8bdcbc1b56e3",
            "0b04405d4b3a400a8c05e0626325bd7b",
            "928ac6c2862347e18ed4bb4130e1bef0",
            "18a279ae601d4acc8684f7275e25a08f",
            "c14e61f33d414175b3d46279cd026515",
            "0b9132001519429bb8266b4ebd79c7c2",
            "f4ad250a196c4a0ab2ace2ebdc1bdaac",
            "15390dabed7a4a5cb90cf5905a061ffb",
            "aca35e510bb440ee839753419e4c2fe1",
            "e7c571cdfa6a4b199b58b8196ee5c308",
            "ec50445159664aa5a33d1c47d12419cc",
            "134b4a8ff08e4e14b2b3069a5e10b431",
            "34c6be6c88d349d38f1280f07e421d44",
            "50e83455efb14efd8610c672cecf5dbb",
            "9c57cefff38047b5a3699586099766c5",
            "a20c786db8934146aaacdc5139ca51a5",
            "19cc0ce56fe94fd09f740d20e06cc9a4",
            "b1b374a044aa42cf94074c51d42a430c",
            "4be3ab4a04ea43f4be2c5fe534475830",
            "ee0ebedf8d1e4a179fc447f74dd56327",
            "542c42b5253943679a8077bb2454684d",
            "748f68f0a6aa40a1a0114c464feaad3e",
            "b9e4179b64b24db38d09d2cbb6b65c72",
            "e2bbc83a80224e7082876679c43ac1dd",
            "e737350048f64bee8a0f5ec4b4118d81",
            "ea0c0feb176143d086a5bdb9fbe1ff52",
            "e473bff5138246ca9efacb659730a61f",
            "97b62edbb09a46d290ce6b12f88c07c9",
            "ccf537180372418b94d07635fc11124f",
            "7925c676e7d24838aa2acfbff7e9ed75",
            "8b5462ecd74e41aea1318dbe43757df3",
            "8fe1c6e4dc6c43d6a2b93f18a1381d11",
            "76f542ed0760430ab1c53ae53debe96d"
          ]
        },
        "id": "YVUM5eUyDlpH",
        "outputId": "de9095d4-572d-465c-8593-e81f83aaae81"
      },
      "execution_count": 22,
      "outputs": [
        {
          "output_type": "display_data",
          "data": {
            "text/plain": [
              "Map(center=[27.95056, -82.45656], controls=(ZoomControl(options=['position', 'zoom_in_text', 'zoom_in_title', …"
            ],
            "application/vnd.jupyter.widget-view+json": {
              "version_major": 2,
              "version_minor": 0,
              "model_id": "7937be8658f041e99fa594bb029dae0a"
            }
          },
          "metadata": {
            "application/vnd.jupyter.widget-view+json": {
              "colab": {
                "custom_widget_manager": {
                  "url": "https://ssl.gstatic.com/colaboratory-static/widgets/colab-cdn-widget-manager/a8874ba6619b6106/manager.min.js"
                }
              }
            }
          }
        }
      ]
    },
    {
      "cell_type": "markdown",
      "source": [
        "Now with the route and graph we can create a BlueSky scenario"
      ],
      "metadata": {
        "id": "kX2V-7my7bts"
      }
    },
    {
      "cell_type": "code",
      "source": [
        "# now we can create a bluesky scenario with this route\n",
        "import tools\n",
        "\n",
        "lats, lons, *_ = tools.get_lat_lon_from_osm_route(G, route)\n",
        "turn_bool, *_ = tools.get_turn_arrays(lats, lons)\n",
        "\n",
        "# create the scenario\n",
        "scenario = tools.create_scenario_text(lats, lons, turn_bool)\n",
        "\n",
        "# save the scenario\n",
        "with open('D1.scn', \"w\") as f:\n",
        "  f.write(scenario)\n",
        "\n",
        "print(scenario)"
      ],
      "metadata": {
        "colab": {
          "base_uri": "https://localhost:8080/"
        },
        "id": "9kTPakxLrCdH",
        "outputId": "13b0f703-cf9b-4835-ce11-47b07a6ce1a4"
      },
      "execution_count": 6,
      "outputs": [
        {
          "output_type": "stream",
          "name": "stdout",
          "text": [
            "# Allow BlueSky to understand 0 speed commands\n",
            "00:00:00>CASMACHTHR 0.0\n",
            "\n",
            "# Zoom and turn on tiledmap\n",
            "00:00:00>ZOOM 350\n",
            "00:00:00>VIS MAP TILEDMAP\n",
            "\n",
            "# Create drone at height 0 speed 0 and pan to it\n",
            "00:00:00>CRE D1 M600 27.9484372 -82.4582366 68.70043011899615 0 0\n",
            "00:00:00>PAN D1\n",
            "\n",
            "# Tell drone to climb to 60 feet\n",
            "00:00:00>ALT D1 60\n",
            "\n",
            "# At 60 feet drone should increase speed to 30 knots\n",
            "00:00:00>D1 ATALT 60 SPD D1 30\n",
            "\n",
            "# Add waypoints\n",
            "00:00:00>ADDWAYPOINTS D1,27.9484652 -82.4581553,,30,FLYBY, 0,27.948628 -82.457683,,30,FLYBY, 0,27.9486836 -82.4575218,,30,FLYBY, 0,27.9487174 -82.4574238,,30,TURNSPD,10,27.9488104 -82.4574634,,30,FLYBY, 0,27.9490581 -82.4575684,,30,FLYBY, 0,27.949389 -82.4577099,,30,FLYBY, 0,27.949467 -82.457742,,30,TURNSPD,10,27.9495045 -82.457635,,30,FLYBY, 0,27.9497307 -82.4569898,,30,FLYBY, 0,27.949759 -82.456904,,30,FLYBY, 0,27.9497928 -82.4568055,,30,FLYBY, 0,27.949959 -82.45632,,30,FLYBY, 0,27.9500109 -82.4561667,,30,FLYBY, 0,27.950046 -82.456066,,30,FLYBY, 0,27.9500819 -82.4559605,,30,FLYBY, 0,27.9501733 -82.4556937,,30,FLYBY, 0,27.9502959 -82.455333,,30,FLYBY, 0,27.950334 -82.455224,,30,FLYBY, 0,27.9503766 -82.4551043,,30,FLYBY, 0,27.9505879 -82.4544901,,30,FLYBY, 0,27.9506251 -82.4543834,,30,FLYBY, 0,27.9506251 -82.4543834,,30,FLYBY, 0\n",
            "\n",
            "# Tell drone to start following route when it is at 60 ft\n",
            "00:00:00>D1 ATALT 60 LNAV D1 ON\n",
            "00:00:00>D1 ATALT 60 VNAV D1 ON\n",
            "\n",
            "# Tell drone to reach speed 0 at last waypoint and begin descending\n",
            "00:00:00>D1 ATDIST 27.9506251 -82.4543834 0.01 SPD D1 0\n",
            "00:00:00>D1 ATDIST 27.9506251 -82.4543834 0.01 D1 ATSPD 0 ALT D1 0\n",
            "00:00:00>D1 ATDIST 27.9506251 -82.4543834 0.01 D1 ATALT 0 DEL D1\n"
          ]
        }
      ]
    }
  ]
}
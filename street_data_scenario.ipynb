{
  "nbformat": 4,
  "nbformat_minor": 0,
  "metadata": {
    "colab": {
      "name": "street_data_scenario.ipynb",
      "provenance": [],
      "collapsed_sections": [],
      "mount_file_id": "1qziEOdXAoNi-b68UQ21vDEJ2g18ypn2Y",
      "authorship_tag": "ABX9TyMcgQ40t++vhMlk36BdjzJu",
      "include_colab_link": true
    },
    "kernelspec": {
      "name": "python3",
      "display_name": "Python 3"
    },
    "language_info": {
      "name": "python"
    },
    "widgets": {
      "application/vnd.jupyter.widget-state+json": {
        "9ba72515b30846068e3da52343fdafcd": {
          "model_module": "jupyter-leaflet",
          "model_name": "LeafletMapModel",
          "model_module_version": "^0.16.0",
          "state": {
            "_dom_classes": [],
            "_model_module": "jupyter-leaflet",
            "_model_module_version": "^0.16.0",
            "_model_name": "LeafletMapModel",
            "_view_count": null,
            "_view_module": "jupyter-leaflet",
            "_view_module_version": "^0.16.0",
            "_view_name": "LeafletMapView",
            "bottom": 7031299,
            "bounce_at_zoom_limits": true,
            "box_zoom": true,
            "center": [
              27.95056,
              -82.45656
            ],
            "close_popup_on_click": true,
            "controls": [
              "IPY_MODEL_176a10ec73b14a51b13226a93c152cb5",
              "IPY_MODEL_b7ede9d2266d45e597255624875275cf",
              "IPY_MODEL_cd1b62d0115046be8d5a2c62b716fae5",
              "IPY_MODEL_bbd7c4087ace4ce6831cb6a6e370c7bc",
              "IPY_MODEL_768a4ce0cc134135a920943948f103d8",
              "IPY_MODEL_05fd6607f5a843498ee701c75ac407fc",
              "IPY_MODEL_afc63764d63e46ccb9ba0ef374e4169d",
              "IPY_MODEL_11a40eb545774c28a06ca9360d1be6c8"
            ],
            "crs": {
              "name": "EPSG3857",
              "custom": false
            },
            "default_style": "IPY_MODEL_849f6e3ac2344f7a82ddd9a8b8487ea3",
            "double_click_zoom": true,
            "dragging": true,
            "dragging_style": "IPY_MODEL_9e68d29be6f24f0892e304b1807320ed",
            "east": -82.45119094848634,
            "fullscreen": false,
            "inertia": true,
            "inertia_deceleration": 3000,
            "inertia_max_speed": 1500,
            "interpolation": "bilinear",
            "keyboard": true,
            "keyboard_pan_offset": 80,
            "keyboard_zoom_offset": 1,
            "layers": [
              "IPY_MODEL_c69b6a41facd49ea8536ef702d0231ea",
              "IPY_MODEL_a0aea9220daa4c9a968020a3296c2c18"
            ],
            "layout": "IPY_MODEL_13c98d991a1a4363ba26f328c758204c",
            "left": 4545604,
            "max_zoom": 24,
            "min_zoom": 1,
            "modisdate": "2022-06-08",
            "north": 27.955306697234256,
            "options": [
              "bounce_at_zoom_limits",
              "box_zoom",
              "center",
              "close_popup_on_click",
              "double_click_zoom",
              "dragging",
              "fullscreen",
              "inertia",
              "inertia_deceleration",
              "inertia_max_speed",
              "interpolation",
              "keyboard",
              "keyboard_pan_offset",
              "keyboard_zoom_offset",
              "max_zoom",
              "min_zoom",
              "prefer_canvas",
              "scroll_wheel_zoom",
              "tap",
              "tap_tolerance",
              "touch_zoom",
              "world_copy_jump",
              "zoom",
              "zoom_animation_threshold",
              "zoom_delta",
              "zoom_snap",
              "zoom_start"
            ],
            "prefer_canvas": false,
            "right": 4546104,
            "scroll_wheel_zoom": true,
            "south": 27.945829355229574,
            "style": "IPY_MODEL_2874591c37cc4c2b89355dc4f35c2083",
            "tap": true,
            "tap_tolerance": 15,
            "top": 7030799,
            "touch_zoom": true,
            "west": -82.46191978454591,
            "window_url": "https://plcv8jflhf-496ff2e9c6d22116-0-colab.googleusercontent.com/outputframe.html?vrz=colab-20220607-060047-RC00_453385713",
            "world_copy_jump": false,
            "zoom": 16,
            "zoom_animation_threshold": 4,
            "zoom_delta": 1,
            "zoom_snap": 1,
            "zoom_start": 12
          }
        },
        "176a10ec73b14a51b13226a93c152cb5": {
          "model_module": "jupyter-leaflet",
          "model_name": "LeafletZoomControlModel",
          "model_module_version": "^0.16.0",
          "state": {
            "_model_module": "jupyter-leaflet",
            "_model_module_version": "^0.16.0",
            "_model_name": "LeafletZoomControlModel",
            "_view_count": null,
            "_view_module": "jupyter-leaflet",
            "_view_module_version": "^0.16.0",
            "_view_name": "LeafletZoomControlView",
            "options": [
              "position",
              "zoom_in_text",
              "zoom_in_title",
              "zoom_out_text",
              "zoom_out_title"
            ],
            "position": "topleft",
            "zoom_in_text": "+",
            "zoom_in_title": "Zoom in",
            "zoom_out_text": "-",
            "zoom_out_title": "Zoom out"
          }
        },
        "b7ede9d2266d45e597255624875275cf": {
          "model_module": "jupyter-leaflet",
          "model_name": "LeafletAttributionControlModel",
          "model_module_version": "^0.16.0",
          "state": {
            "_model_module": "jupyter-leaflet",
            "_model_module_version": "^0.16.0",
            "_model_name": "LeafletAttributionControlModel",
            "_view_count": null,
            "_view_module": "jupyter-leaflet",
            "_view_module_version": "^0.16.0",
            "_view_name": "LeafletAttributionControlView",
            "options": [
              "position",
              "prefix"
            ],
            "position": "bottomright",
            "prefix": "ipyleaflet"
          }
        },
        "cd1b62d0115046be8d5a2c62b716fae5": {
          "model_module": "jupyter-leaflet",
          "model_name": "LeafletFullScreenControlModel",
          "model_module_version": "^0.16.0",
          "state": {
            "_model_module": "jupyter-leaflet",
            "_model_module_version": "^0.16.0",
            "_model_name": "LeafletFullScreenControlModel",
            "_view_count": null,
            "_view_module": "jupyter-leaflet",
            "_view_module_version": "^0.16.0",
            "_view_name": "LeafletFullScreenControlView",
            "options": [
              "position"
            ],
            "position": "topleft"
          }
        },
        "bbd7c4087ace4ce6831cb6a6e370c7bc": {
          "model_module": "jupyter-leaflet",
          "model_name": "LeafletDrawControlModel",
          "model_module_version": "^0.16.0",
          "state": {
            "_model_module": "jupyter-leaflet",
            "_model_module_version": "^0.16.0",
            "_model_name": "LeafletDrawControlModel",
            "_view_count": null,
            "_view_module": "jupyter-leaflet",
            "_view_module_version": "^0.16.0",
            "_view_name": "LeafletDrawControlView",
            "circle": {
              "shapeOptions": {
                "color": "#3388ff"
              }
            },
            "circlemarker": {},
            "data": [],
            "edit": true,
            "marker": {
              "shapeOptions": {
                "color": "#3388ff"
              }
            },
            "options": [
              "position"
            ],
            "polygon": {
              "shapeOptions": {}
            },
            "polyline": {
              "shapeOptions": {}
            },
            "position": "topleft",
            "rectangle": {
              "shapeOptions": {
                "color": "#3388ff"
              }
            },
            "remove": true
          }
        },
        "768a4ce0cc134135a920943948f103d8": {
          "model_module": "jupyter-leaflet",
          "model_name": "LeafletWidgetControlModel",
          "model_module_version": "^0.16.0",
          "state": {
            "_model_module": "jupyter-leaflet",
            "_model_module_version": "^0.16.0",
            "_model_name": "LeafletWidgetControlModel",
            "_view_count": null,
            "_view_module": "jupyter-leaflet",
            "_view_module_version": "^0.16.0",
            "_view_name": "LeafletWidgetControlView",
            "max_height": null,
            "max_width": null,
            "min_height": null,
            "min_width": null,
            "options": [
              "position",
              "transparent_bg"
            ],
            "position": "bottomright",
            "transparent_bg": false,
            "widget": "IPY_MODEL_1a835e9d23db42b6b8ac3004630078fe"
          }
        },
        "05fd6607f5a843498ee701c75ac407fc": {
          "model_module": "jupyter-leaflet",
          "model_name": "LeafletMeasureControlModel",
          "model_module_version": "^0.16.0",
          "state": {
            "_custom_units": {},
            "_model_module": "jupyter-leaflet",
            "_model_module_version": "^0.16.0",
            "_model_name": "LeafletMeasureControlModel",
            "_view_count": null,
            "_view_module": "jupyter-leaflet",
            "_view_module_version": "^0.16.0",
            "_view_name": "LeafletMeasureControlView",
            "active_color": "#ABE67E",
            "capture_z_index": 10000,
            "completed_color": "#C8F2BE",
            "options": [
              "active_color",
              "capture_z_index",
              "completed_color",
              "popup_options",
              "position",
              "primary_area_unit",
              "primary_length_unit",
              "secondary_area_unit",
              "secondary_length_unit"
            ],
            "popup_options": {
              "className": "leaflet-measure-resultpopup",
              "autoPanPadding": [
                10,
                10
              ]
            },
            "position": "topleft",
            "primary_area_unit": "acres",
            "primary_length_unit": "feet",
            "secondary_area_unit": null,
            "secondary_length_unit": null
          }
        },
        "afc63764d63e46ccb9ba0ef374e4169d": {
          "model_module": "jupyter-leaflet",
          "model_name": "LeafletScaleControlModel",
          "model_module_version": "^0.16.0",
          "state": {
            "_model_module": "jupyter-leaflet",
            "_model_module_version": "^0.16.0",
            "_model_name": "LeafletScaleControlModel",
            "_view_count": null,
            "_view_module": "jupyter-leaflet",
            "_view_module_version": "^0.16.0",
            "_view_name": "LeafletScaleControlView",
            "imperial": true,
            "max_width": 100,
            "metric": true,
            "options": [
              "imperial",
              "max_width",
              "metric",
              "position",
              "update_when_idle"
            ],
            "position": "bottomleft",
            "update_when_idle": false
          }
        },
        "11a40eb545774c28a06ca9360d1be6c8": {
          "model_module": "jupyter-leaflet",
          "model_name": "LeafletWidgetControlModel",
          "model_module_version": "^0.16.0",
          "state": {
            "_model_module": "jupyter-leaflet",
            "_model_module_version": "^0.16.0",
            "_model_name": "LeafletWidgetControlModel",
            "_view_count": null,
            "_view_module": "jupyter-leaflet",
            "_view_module_version": "^0.16.0",
            "_view_name": "LeafletWidgetControlView",
            "max_height": null,
            "max_width": null,
            "min_height": null,
            "min_width": null,
            "options": [
              "position",
              "transparent_bg"
            ],
            "position": "topright",
            "transparent_bg": false,
            "widget": "IPY_MODEL_912e6b57d7054a5690ea8b191b710f34"
          }
        },
        "849f6e3ac2344f7a82ddd9a8b8487ea3": {
          "model_module": "jupyter-leaflet",
          "model_name": "LeafletMapStyleModel",
          "model_module_version": "^0.16.0",
          "state": {
            "_model_module": "jupyter-leaflet",
            "_model_module_version": "^0.16.0",
            "_model_name": "LeafletMapStyleModel",
            "_view_count": null,
            "_view_module": "@jupyter-widgets/base",
            "_view_module_version": "1.2.0",
            "_view_name": "StyleView",
            "cursor": "grab"
          }
        },
        "9e68d29be6f24f0892e304b1807320ed": {
          "model_module": "jupyter-leaflet",
          "model_name": "LeafletMapStyleModel",
          "model_module_version": "^0.16.0",
          "state": {
            "_model_module": "jupyter-leaflet",
            "_model_module_version": "^0.16.0",
            "_model_name": "LeafletMapStyleModel",
            "_view_count": null,
            "_view_module": "@jupyter-widgets/base",
            "_view_module_version": "1.2.0",
            "_view_name": "StyleView",
            "cursor": "move"
          }
        },
        "c69b6a41facd49ea8536ef702d0231ea": {
          "model_module": "jupyter-leaflet",
          "model_name": "LeafletTileLayerModel",
          "model_module_version": "^0.16.0",
          "state": {
            "_model_module": "jupyter-leaflet",
            "_model_module_version": "^0.16.0",
            "_model_name": "LeafletTileLayerModel",
            "_view_count": null,
            "_view_module": "jupyter-leaflet",
            "_view_module_version": "^0.16.0",
            "_view_name": "LeafletTileLayerView",
            "attribution": "&copy; <a href=\"https://www.openstreetmap.org/copyright\">OpenStreetMap</a> contributors",
            "base": true,
            "bottom": true,
            "bounds": null,
            "detect_retina": false,
            "loading": false,
            "max_native_zoom": 18,
            "max_zoom": 19,
            "min_native_zoom": 0,
            "min_zoom": 1,
            "name": "OpenStreetMap",
            "no_wrap": false,
            "opacity": 1,
            "options": [
              "attribution",
              "bounds",
              "detect_retina",
              "max_native_zoom",
              "max_zoom",
              "min_native_zoom",
              "min_zoom",
              "no_wrap",
              "tile_size",
              "tms"
            ],
            "popup": null,
            "popup_max_height": null,
            "popup_max_width": 300,
            "popup_min_width": 50,
            "show_loading": false,
            "tile_size": 256,
            "tms": false,
            "url": "https://a.tile.openstreetmap.org/{z}/{x}/{y}.png",
            "visible": true
          }
        },
        "a0aea9220daa4c9a968020a3296c2c18": {
          "model_module": "jupyter-leaflet",
          "model_name": "LeafletTileLayerModel",
          "model_module_version": "^0.16.0",
          "state": {
            "_model_module": "jupyter-leaflet",
            "_model_module_version": "^0.16.0",
            "_model_name": "LeafletTileLayerModel",
            "_view_count": null,
            "_view_module": "jupyter-leaflet",
            "_view_module_version": "^0.16.0",
            "_view_name": "LeafletTileLayerView",
            "attribution": "CartoDB",
            "base": false,
            "bottom": true,
            "bounds": null,
            "detect_retina": false,
            "loading": false,
            "max_native_zoom": 18,
            "max_zoom": 18,
            "min_native_zoom": 0,
            "min_zoom": 0,
            "name": "CartoDB",
            "no_wrap": false,
            "opacity": 1,
            "options": [
              "attribution",
              "bounds",
              "detect_retina",
              "max_native_zoom",
              "max_zoom",
              "min_native_zoom",
              "min_zoom",
              "no_wrap",
              "tile_size",
              "tms"
            ],
            "popup": null,
            "popup_max_height": null,
            "popup_max_width": 300,
            "popup_min_width": 50,
            "show_loading": false,
            "tile_size": 256,
            "tms": false,
            "url": "https://cartodb-basemaps-b.global.ssl.fastly.net/light_nolabels/{z}/{x}/{y}.png",
            "visible": true
          }
        },
        "13c98d991a1a4363ba26f328c758204c": {
          "model_module": "@jupyter-widgets/base",
          "model_name": "LayoutModel",
          "model_module_version": "1.2.0",
          "state": {
            "_model_module": "@jupyter-widgets/base",
            "_model_module_version": "1.2.0",
            "_model_name": "LayoutModel",
            "_view_count": null,
            "_view_module": "@jupyter-widgets/base",
            "_view_module_version": "1.2.0",
            "_view_name": "LayoutView",
            "align_content": null,
            "align_items": null,
            "align_self": null,
            "border": null,
            "bottom": null,
            "display": null,
            "flex": null,
            "flex_flow": null,
            "grid_area": null,
            "grid_auto_columns": null,
            "grid_auto_flow": null,
            "grid_auto_rows": null,
            "grid_column": null,
            "grid_gap": null,
            "grid_row": null,
            "grid_template_areas": null,
            "grid_template_columns": null,
            "grid_template_rows": null,
            "height": "500px",
            "justify_content": null,
            "justify_items": null,
            "left": null,
            "margin": null,
            "max_height": null,
            "max_width": null,
            "min_height": null,
            "min_width": null,
            "object_fit": null,
            "object_position": null,
            "order": null,
            "overflow": null,
            "overflow_x": null,
            "overflow_y": null,
            "padding": null,
            "right": null,
            "top": null,
            "visibility": null,
            "width": "500px"
          }
        },
        "2874591c37cc4c2b89355dc4f35c2083": {
          "model_module": "jupyter-leaflet",
          "model_name": "LeafletMapStyleModel",
          "model_module_version": "^0.16.0",
          "state": {
            "_model_module": "jupyter-leaflet",
            "_model_module_version": "^0.16.0",
            "_model_name": "LeafletMapStyleModel",
            "_view_count": null,
            "_view_module": "@jupyter-widgets/base",
            "_view_module_version": "1.2.0",
            "_view_name": "StyleView",
            "cursor": "grab"
          }
        },
        "1a835e9d23db42b6b8ac3004630078fe": {
          "model_module": "@jupyter-widgets/output",
          "model_name": "OutputModel",
          "model_module_version": "1.0.0",
          "state": {
            "_dom_classes": [],
            "_model_module": "@jupyter-widgets/output",
            "_model_module_version": "1.0.0",
            "_model_name": "OutputModel",
            "_view_count": null,
            "_view_module": "@jupyter-widgets/output",
            "_view_module_version": "1.0.0",
            "_view_name": "OutputView",
            "layout": "IPY_MODEL_1eead55e899e406aaf293a78a7303df8",
            "msg_id": "",
            "outputs": []
          }
        },
        "912e6b57d7054a5690ea8b191b710f34": {
          "model_module": "@jupyter-widgets/controls",
          "model_name": "VBoxModel",
          "model_module_version": "1.5.0",
          "state": {
            "_dom_classes": [],
            "_model_module": "@jupyter-widgets/controls",
            "_model_module_version": "1.5.0",
            "_model_name": "VBoxModel",
            "_view_count": null,
            "_view_module": "@jupyter-widgets/controls",
            "_view_module_version": "1.5.0",
            "_view_name": "VBoxView",
            "box_style": "",
            "children": [
              "IPY_MODEL_3870417abfc44cf1be4714b92c21c829"
            ],
            "layout": "IPY_MODEL_9a8e7c73755840d288460bb7a14d69cb"
          }
        },
        "1eead55e899e406aaf293a78a7303df8": {
          "model_module": "@jupyter-widgets/base",
          "model_name": "LayoutModel",
          "model_module_version": "1.2.0",
          "state": {
            "_model_module": "@jupyter-widgets/base",
            "_model_module_version": "1.2.0",
            "_model_name": "LayoutModel",
            "_view_count": null,
            "_view_module": "@jupyter-widgets/base",
            "_view_module_version": "1.2.0",
            "_view_name": "LayoutView",
            "align_content": null,
            "align_items": null,
            "align_self": null,
            "border": null,
            "bottom": null,
            "display": null,
            "flex": null,
            "flex_flow": null,
            "grid_area": null,
            "grid_auto_columns": null,
            "grid_auto_flow": null,
            "grid_auto_rows": null,
            "grid_column": null,
            "grid_gap": null,
            "grid_row": null,
            "grid_template_areas": null,
            "grid_template_columns": null,
            "grid_template_rows": null,
            "height": null,
            "justify_content": null,
            "justify_items": null,
            "left": null,
            "margin": null,
            "max_height": null,
            "max_width": null,
            "min_height": null,
            "min_width": null,
            "object_fit": null,
            "object_position": null,
            "order": null,
            "overflow": null,
            "overflow_x": null,
            "overflow_y": null,
            "padding": null,
            "right": null,
            "top": null,
            "visibility": null,
            "width": null
          }
        },
        "3870417abfc44cf1be4714b92c21c829": {
          "model_module": "@jupyter-widgets/controls",
          "model_name": "ToggleButtonModel",
          "model_module_version": "1.5.0",
          "state": {
            "_dom_classes": [],
            "_model_module": "@jupyter-widgets/controls",
            "_model_module_version": "1.5.0",
            "_model_name": "ToggleButtonModel",
            "_view_count": null,
            "_view_module": "@jupyter-widgets/controls",
            "_view_module_version": "1.5.0",
            "_view_name": "ToggleButtonView",
            "button_style": "",
            "description": "",
            "description_tooltip": null,
            "disabled": false,
            "icon": "wrench",
            "layout": "IPY_MODEL_2a06f31bb09e4a46b7b7b5a0bf7d7a1e",
            "style": "IPY_MODEL_12ddffabc81540ea8be75a1e70c81063",
            "tooltip": "Toolbar",
            "value": false
          }
        },
        "9a8e7c73755840d288460bb7a14d69cb": {
          "model_module": "@jupyter-widgets/base",
          "model_name": "LayoutModel",
          "model_module_version": "1.2.0",
          "state": {
            "_model_module": "@jupyter-widgets/base",
            "_model_module_version": "1.2.0",
            "_model_name": "LayoutModel",
            "_view_count": null,
            "_view_module": "@jupyter-widgets/base",
            "_view_module_version": "1.2.0",
            "_view_name": "LayoutView",
            "align_content": null,
            "align_items": null,
            "align_self": null,
            "border": null,
            "bottom": null,
            "display": null,
            "flex": null,
            "flex_flow": null,
            "grid_area": null,
            "grid_auto_columns": null,
            "grid_auto_flow": null,
            "grid_auto_rows": null,
            "grid_column": null,
            "grid_gap": null,
            "grid_row": null,
            "grid_template_areas": null,
            "grid_template_columns": null,
            "grid_template_rows": null,
            "height": null,
            "justify_content": null,
            "justify_items": null,
            "left": null,
            "margin": null,
            "max_height": null,
            "max_width": null,
            "min_height": null,
            "min_width": null,
            "object_fit": null,
            "object_position": null,
            "order": null,
            "overflow": null,
            "overflow_x": null,
            "overflow_y": null,
            "padding": null,
            "right": null,
            "top": null,
            "visibility": null,
            "width": null
          }
        },
        "2a06f31bb09e4a46b7b7b5a0bf7d7a1e": {
          "model_module": "@jupyter-widgets/base",
          "model_name": "LayoutModel",
          "model_module_version": "1.2.0",
          "state": {
            "_model_module": "@jupyter-widgets/base",
            "_model_module_version": "1.2.0",
            "_model_name": "LayoutModel",
            "_view_count": null,
            "_view_module": "@jupyter-widgets/base",
            "_view_module_version": "1.2.0",
            "_view_name": "LayoutView",
            "align_content": null,
            "align_items": null,
            "align_self": null,
            "border": null,
            "bottom": null,
            "display": null,
            "flex": null,
            "flex_flow": null,
            "grid_area": null,
            "grid_auto_columns": null,
            "grid_auto_flow": null,
            "grid_auto_rows": null,
            "grid_column": null,
            "grid_gap": null,
            "grid_row": null,
            "grid_template_areas": null,
            "grid_template_columns": null,
            "grid_template_rows": null,
            "height": "28px",
            "justify_content": null,
            "justify_items": null,
            "left": null,
            "margin": null,
            "max_height": null,
            "max_width": null,
            "min_height": null,
            "min_width": null,
            "object_fit": null,
            "object_position": null,
            "order": null,
            "overflow": null,
            "overflow_x": null,
            "overflow_y": null,
            "padding": "0px 0px 0px 4px",
            "right": null,
            "top": null,
            "visibility": null,
            "width": "28px"
          }
        },
        "12ddffabc81540ea8be75a1e70c81063": {
          "model_module": "@jupyter-widgets/controls",
          "model_name": "DescriptionStyleModel",
          "model_module_version": "1.5.0",
          "state": {
            "_model_module": "@jupyter-widgets/controls",
            "_model_module_version": "1.5.0",
            "_model_name": "DescriptionStyleModel",
            "_view_count": null,
            "_view_module": "@jupyter-widgets/base",
            "_view_module_version": "1.2.0",
            "_view_name": "StyleView",
            "description_width": ""
          }
        },
        "db72060d559043b9af99b8046e59d6dd": {
          "model_module": "jupyter-leaflet",
          "model_name": "LeafletMapModel",
          "model_module_version": "^0.16.0",
          "state": {
            "_dom_classes": [],
            "_model_module": "jupyter-leaflet",
            "_model_module_version": "^0.16.0",
            "_model_name": "LeafletMapModel",
            "_view_count": null,
            "_view_module": "jupyter-leaflet",
            "_view_module_version": "^0.16.0",
            "_view_name": "LeafletMapView",
            "bottom": 7031299,
            "bounce_at_zoom_limits": true,
            "box_zoom": true,
            "center": [
              27.95056,
              -82.45656
            ],
            "close_popup_on_click": true,
            "controls": [
              "IPY_MODEL_b711de32c9784a17bad108272bc16b08",
              "IPY_MODEL_cc6e014b92cf479a9780b54cf59033e4",
              "IPY_MODEL_7d22f7af80b54dada25aa082a160e5be",
              "IPY_MODEL_b5e999b0551c424d99ecebc340d04277",
              "IPY_MODEL_c0fdcc7e850f4e47b6c315287bb9a5d2",
              "IPY_MODEL_5a23669b52e049a98ed2573de0c46252",
              "IPY_MODEL_3c38041e5d53432ab4b3955746d78d1a",
              "IPY_MODEL_d670713ecdbc4d1491d6d698febfad3f"
            ],
            "crs": {
              "name": "EPSG3857",
              "custom": false
            },
            "default_style": "IPY_MODEL_1738b1d9c14a4bbd9131d293eed68cd8",
            "double_click_zoom": true,
            "dragging": true,
            "dragging_style": "IPY_MODEL_2974816378c3485ab7bb4a14a82198d7",
            "east": -82.45119094848634,
            "fullscreen": false,
            "inertia": true,
            "inertia_deceleration": 3000,
            "inertia_max_speed": 1500,
            "interpolation": "bilinear",
            "keyboard": true,
            "keyboard_pan_offset": 80,
            "keyboard_zoom_offset": 1,
            "layers": [
              "IPY_MODEL_03dbe19e9dca4ab2a33a6507b8e88a65",
              "IPY_MODEL_ac44d7b5b974478f94d36d1c48fbe2b0",
              "IPY_MODEL_7b1a6e6fc01b4c8c83e5fc701adb4e02"
            ],
            "layout": "IPY_MODEL_4cbf19b03d8041678be9cb41e1b4a6db",
            "left": 4545604,
            "max_zoom": 24,
            "min_zoom": 1,
            "modisdate": "2022-06-08",
            "north": 27.955306697234256,
            "options": [
              "bounce_at_zoom_limits",
              "box_zoom",
              "center",
              "close_popup_on_click",
              "double_click_zoom",
              "dragging",
              "fullscreen",
              "inertia",
              "inertia_deceleration",
              "inertia_max_speed",
              "interpolation",
              "keyboard",
              "keyboard_pan_offset",
              "keyboard_zoom_offset",
              "max_zoom",
              "min_zoom",
              "prefer_canvas",
              "scroll_wheel_zoom",
              "tap",
              "tap_tolerance",
              "touch_zoom",
              "world_copy_jump",
              "zoom",
              "zoom_animation_threshold",
              "zoom_delta",
              "zoom_snap",
              "zoom_start"
            ],
            "prefer_canvas": false,
            "right": 4546104,
            "scroll_wheel_zoom": true,
            "south": 27.945829355229574,
            "style": "IPY_MODEL_1b197174e0ba44b2a3996a59c8aef4b7",
            "tap": true,
            "tap_tolerance": 15,
            "top": 7030799,
            "touch_zoom": true,
            "west": -82.46191978454591,
            "window_url": "https://plcv8jflhf-496ff2e9c6d22116-0-colab.googleusercontent.com/outputframe.html?vrz=colab-20220607-060047-RC00_453385713",
            "world_copy_jump": false,
            "zoom": 16,
            "zoom_animation_threshold": 4,
            "zoom_delta": 1,
            "zoom_snap": 1,
            "zoom_start": 12
          }
        },
        "b711de32c9784a17bad108272bc16b08": {
          "model_module": "jupyter-leaflet",
          "model_name": "LeafletZoomControlModel",
          "model_module_version": "^0.16.0",
          "state": {
            "_model_module": "jupyter-leaflet",
            "_model_module_version": "^0.16.0",
            "_model_name": "LeafletZoomControlModel",
            "_view_count": null,
            "_view_module": "jupyter-leaflet",
            "_view_module_version": "^0.16.0",
            "_view_name": "LeafletZoomControlView",
            "options": [
              "position",
              "zoom_in_text",
              "zoom_in_title",
              "zoom_out_text",
              "zoom_out_title"
            ],
            "position": "topleft",
            "zoom_in_text": "+",
            "zoom_in_title": "Zoom in",
            "zoom_out_text": "-",
            "zoom_out_title": "Zoom out"
          }
        },
        "cc6e014b92cf479a9780b54cf59033e4": {
          "model_module": "jupyter-leaflet",
          "model_name": "LeafletAttributionControlModel",
          "model_module_version": "^0.16.0",
          "state": {
            "_model_module": "jupyter-leaflet",
            "_model_module_version": "^0.16.0",
            "_model_name": "LeafletAttributionControlModel",
            "_view_count": null,
            "_view_module": "jupyter-leaflet",
            "_view_module_version": "^0.16.0",
            "_view_name": "LeafletAttributionControlView",
            "options": [
              "position",
              "prefix"
            ],
            "position": "bottomright",
            "prefix": "ipyleaflet"
          }
        },
        "7d22f7af80b54dada25aa082a160e5be": {
          "model_module": "jupyter-leaflet",
          "model_name": "LeafletFullScreenControlModel",
          "model_module_version": "^0.16.0",
          "state": {
            "_model_module": "jupyter-leaflet",
            "_model_module_version": "^0.16.0",
            "_model_name": "LeafletFullScreenControlModel",
            "_view_count": null,
            "_view_module": "jupyter-leaflet",
            "_view_module_version": "^0.16.0",
            "_view_name": "LeafletFullScreenControlView",
            "options": [
              "position"
            ],
            "position": "topleft"
          }
        },
        "b5e999b0551c424d99ecebc340d04277": {
          "model_module": "jupyter-leaflet",
          "model_name": "LeafletDrawControlModel",
          "model_module_version": "^0.16.0",
          "state": {
            "_model_module": "jupyter-leaflet",
            "_model_module_version": "^0.16.0",
            "_model_name": "LeafletDrawControlModel",
            "_view_count": null,
            "_view_module": "jupyter-leaflet",
            "_view_module_version": "^0.16.0",
            "_view_name": "LeafletDrawControlView",
            "circle": {
              "shapeOptions": {
                "color": "#3388ff"
              }
            },
            "circlemarker": {},
            "data": [],
            "edit": true,
            "marker": {
              "shapeOptions": {
                "color": "#3388ff"
              }
            },
            "options": [
              "position"
            ],
            "polygon": {
              "shapeOptions": {}
            },
            "polyline": {
              "shapeOptions": {}
            },
            "position": "topleft",
            "rectangle": {
              "shapeOptions": {
                "color": "#3388ff"
              }
            },
            "remove": true
          }
        },
        "c0fdcc7e850f4e47b6c315287bb9a5d2": {
          "model_module": "jupyter-leaflet",
          "model_name": "LeafletWidgetControlModel",
          "model_module_version": "^0.16.0",
          "state": {
            "_model_module": "jupyter-leaflet",
            "_model_module_version": "^0.16.0",
            "_model_name": "LeafletWidgetControlModel",
            "_view_count": null,
            "_view_module": "jupyter-leaflet",
            "_view_module_version": "^0.16.0",
            "_view_name": "LeafletWidgetControlView",
            "max_height": null,
            "max_width": null,
            "min_height": null,
            "min_width": null,
            "options": [
              "position",
              "transparent_bg"
            ],
            "position": "bottomright",
            "transparent_bg": false,
            "widget": "IPY_MODEL_1af0d207899f40609dcbb3d62730df00"
          }
        },
        "5a23669b52e049a98ed2573de0c46252": {
          "model_module": "jupyter-leaflet",
          "model_name": "LeafletMeasureControlModel",
          "model_module_version": "^0.16.0",
          "state": {
            "_custom_units": {},
            "_model_module": "jupyter-leaflet",
            "_model_module_version": "^0.16.0",
            "_model_name": "LeafletMeasureControlModel",
            "_view_count": null,
            "_view_module": "jupyter-leaflet",
            "_view_module_version": "^0.16.0",
            "_view_name": "LeafletMeasureControlView",
            "active_color": "#ABE67E",
            "capture_z_index": 10000,
            "completed_color": "#C8F2BE",
            "options": [
              "active_color",
              "capture_z_index",
              "completed_color",
              "popup_options",
              "position",
              "primary_area_unit",
              "primary_length_unit",
              "secondary_area_unit",
              "secondary_length_unit"
            ],
            "popup_options": {
              "className": "leaflet-measure-resultpopup",
              "autoPanPadding": [
                10,
                10
              ]
            },
            "position": "topleft",
            "primary_area_unit": "acres",
            "primary_length_unit": "feet",
            "secondary_area_unit": null,
            "secondary_length_unit": null
          }
        },
        "3c38041e5d53432ab4b3955746d78d1a": {
          "model_module": "jupyter-leaflet",
          "model_name": "LeafletScaleControlModel",
          "model_module_version": "^0.16.0",
          "state": {
            "_model_module": "jupyter-leaflet",
            "_model_module_version": "^0.16.0",
            "_model_name": "LeafletScaleControlModel",
            "_view_count": null,
            "_view_module": "jupyter-leaflet",
            "_view_module_version": "^0.16.0",
            "_view_name": "LeafletScaleControlView",
            "imperial": true,
            "max_width": 100,
            "metric": true,
            "options": [
              "imperial",
              "max_width",
              "metric",
              "position",
              "update_when_idle"
            ],
            "position": "bottomleft",
            "update_when_idle": false
          }
        },
        "d670713ecdbc4d1491d6d698febfad3f": {
          "model_module": "jupyter-leaflet",
          "model_name": "LeafletWidgetControlModel",
          "model_module_version": "^0.16.0",
          "state": {
            "_model_module": "jupyter-leaflet",
            "_model_module_version": "^0.16.0",
            "_model_name": "LeafletWidgetControlModel",
            "_view_count": null,
            "_view_module": "jupyter-leaflet",
            "_view_module_version": "^0.16.0",
            "_view_name": "LeafletWidgetControlView",
            "max_height": null,
            "max_width": null,
            "min_height": null,
            "min_width": null,
            "options": [
              "position",
              "transparent_bg"
            ],
            "position": "topright",
            "transparent_bg": false,
            "widget": "IPY_MODEL_2bef5aac98044405817ccf9223c79053"
          }
        },
        "1738b1d9c14a4bbd9131d293eed68cd8": {
          "model_module": "jupyter-leaflet",
          "model_name": "LeafletMapStyleModel",
          "model_module_version": "^0.16.0",
          "state": {
            "_model_module": "jupyter-leaflet",
            "_model_module_version": "^0.16.0",
            "_model_name": "LeafletMapStyleModel",
            "_view_count": null,
            "_view_module": "@jupyter-widgets/base",
            "_view_module_version": "1.2.0",
            "_view_name": "StyleView",
            "cursor": "default"
          }
        },
        "2974816378c3485ab7bb4a14a82198d7": {
          "model_module": "jupyter-leaflet",
          "model_name": "LeafletMapStyleModel",
          "model_module_version": "^0.16.0",
          "state": {
            "_model_module": "jupyter-leaflet",
            "_model_module_version": "^0.16.0",
            "_model_name": "LeafletMapStyleModel",
            "_view_count": null,
            "_view_module": "@jupyter-widgets/base",
            "_view_module_version": "1.2.0",
            "_view_name": "StyleView",
            "cursor": "move"
          }
        },
        "03dbe19e9dca4ab2a33a6507b8e88a65": {
          "model_module": "jupyter-leaflet",
          "model_name": "LeafletTileLayerModel",
          "model_module_version": "^0.16.0",
          "state": {
            "_model_module": "jupyter-leaflet",
            "_model_module_version": "^0.16.0",
            "_model_name": "LeafletTileLayerModel",
            "_view_count": null,
            "_view_module": "jupyter-leaflet",
            "_view_module_version": "^0.16.0",
            "_view_name": "LeafletTileLayerView",
            "attribution": "&copy; <a href=\"https://www.openstreetmap.org/copyright\">OpenStreetMap</a> contributors",
            "base": true,
            "bottom": true,
            "bounds": null,
            "detect_retina": false,
            "loading": false,
            "max_native_zoom": 18,
            "max_zoom": 19,
            "min_native_zoom": 0,
            "min_zoom": 1,
            "name": "OpenStreetMap",
            "no_wrap": false,
            "opacity": 1,
            "options": [
              "attribution",
              "bounds",
              "detect_retina",
              "max_native_zoom",
              "max_zoom",
              "min_native_zoom",
              "min_zoom",
              "no_wrap",
              "tile_size",
              "tms"
            ],
            "popup": null,
            "popup_max_height": null,
            "popup_max_width": 300,
            "popup_min_width": 50,
            "show_loading": false,
            "tile_size": 256,
            "tms": false,
            "url": "https://a.tile.openstreetmap.org/{z}/{x}/{y}.png",
            "visible": true
          }
        },
        "ac44d7b5b974478f94d36d1c48fbe2b0": {
          "model_module": "jupyter-leaflet",
          "model_name": "LeafletTileLayerModel",
          "model_module_version": "^0.16.0",
          "state": {
            "_model_module": "jupyter-leaflet",
            "_model_module_version": "^0.16.0",
            "_model_name": "LeafletTileLayerModel",
            "_view_count": null,
            "_view_module": "jupyter-leaflet",
            "_view_module_version": "^0.16.0",
            "_view_name": "LeafletTileLayerView",
            "attribution": "CartoDB",
            "base": false,
            "bottom": true,
            "bounds": null,
            "detect_retina": false,
            "loading": false,
            "max_native_zoom": 18,
            "max_zoom": 18,
            "min_native_zoom": 0,
            "min_zoom": 0,
            "name": "CartoDB",
            "no_wrap": false,
            "opacity": 1,
            "options": [
              "attribution",
              "bounds",
              "detect_retina",
              "max_native_zoom",
              "max_zoom",
              "min_native_zoom",
              "min_zoom",
              "no_wrap",
              "tile_size",
              "tms"
            ],
            "popup": null,
            "popup_max_height": null,
            "popup_max_width": 300,
            "popup_min_width": 50,
            "show_loading": false,
            "tile_size": 256,
            "tms": false,
            "url": "https://cartodb-basemaps-b.global.ssl.fastly.net/light_nolabels/{z}/{x}/{y}.png",
            "visible": true
          }
        },
        "7b1a6e6fc01b4c8c83e5fc701adb4e02": {
          "model_module": "jupyter-leaflet",
          "model_name": "LeafletMarkerClusterModel",
          "model_module_version": "^0.16.0",
          "state": {
            "_model_module": "jupyter-leaflet",
            "_model_module_version": "^0.16.0",
            "_model_name": "LeafletMarkerClusterModel",
            "_view_count": null,
            "_view_module": "jupyter-leaflet",
            "_view_module_version": "^0.16.0",
            "_view_name": "LeafletMarkerClusterView",
            "base": false,
            "bottom": false,
            "disable_clustering_at_zoom": 18,
            "markers": [
              "IPY_MODEL_8c50a7a5fbc64c0facf8cc645478f72f",
              "IPY_MODEL_eee5ad857f21450f9817b46745082e82"
            ],
            "max_cluster_radius": 80,
            "name": "od",
            "options": [
              "disable_clustering_at_zoom",
              "max_cluster_radius"
            ],
            "popup": null,
            "popup_max_height": null,
            "popup_max_width": 300,
            "popup_min_width": 50
          }
        },
        "4cbf19b03d8041678be9cb41e1b4a6db": {
          "model_module": "@jupyter-widgets/base",
          "model_name": "LayoutModel",
          "model_module_version": "1.2.0",
          "state": {
            "_model_module": "@jupyter-widgets/base",
            "_model_module_version": "1.2.0",
            "_model_name": "LayoutModel",
            "_view_count": null,
            "_view_module": "@jupyter-widgets/base",
            "_view_module_version": "1.2.0",
            "_view_name": "LayoutView",
            "align_content": null,
            "align_items": null,
            "align_self": null,
            "border": null,
            "bottom": null,
            "display": null,
            "flex": null,
            "flex_flow": null,
            "grid_area": null,
            "grid_auto_columns": null,
            "grid_auto_flow": null,
            "grid_auto_rows": null,
            "grid_column": null,
            "grid_gap": null,
            "grid_row": null,
            "grid_template_areas": null,
            "grid_template_columns": null,
            "grid_template_rows": null,
            "height": "500px",
            "justify_content": null,
            "justify_items": null,
            "left": null,
            "margin": null,
            "max_height": null,
            "max_width": null,
            "min_height": null,
            "min_width": null,
            "object_fit": null,
            "object_position": null,
            "order": null,
            "overflow": null,
            "overflow_x": null,
            "overflow_y": null,
            "padding": null,
            "right": null,
            "top": null,
            "visibility": null,
            "width": "500px"
          }
        },
        "1b197174e0ba44b2a3996a59c8aef4b7": {
          "model_module": "jupyter-leaflet",
          "model_name": "LeafletMapStyleModel",
          "model_module_version": "^0.16.0",
          "state": {
            "_model_module": "jupyter-leaflet",
            "_model_module_version": "^0.16.0",
            "_model_name": "LeafletMapStyleModel",
            "_view_count": null,
            "_view_module": "@jupyter-widgets/base",
            "_view_module_version": "1.2.0",
            "_view_name": "StyleView",
            "cursor": "grab"
          }
        },
        "1af0d207899f40609dcbb3d62730df00": {
          "model_module": "@jupyter-widgets/output",
          "model_name": "OutputModel",
          "model_module_version": "1.0.0",
          "state": {
            "_dom_classes": [],
            "_model_module": "@jupyter-widgets/output",
            "_model_module_version": "1.0.0",
            "_model_name": "OutputModel",
            "_view_count": null,
            "_view_module": "@jupyter-widgets/output",
            "_view_module_version": "1.0.0",
            "_view_name": "OutputView",
            "layout": "IPY_MODEL_2e983ba67a4c4fde91f7352aca57ec5f",
            "msg_id": "",
            "outputs": []
          }
        },
        "2bef5aac98044405817ccf9223c79053": {
          "model_module": "@jupyter-widgets/controls",
          "model_name": "VBoxModel",
          "model_module_version": "1.5.0",
          "state": {
            "_dom_classes": [],
            "_model_module": "@jupyter-widgets/controls",
            "_model_module_version": "1.5.0",
            "_model_name": "VBoxModel",
            "_view_count": null,
            "_view_module": "@jupyter-widgets/controls",
            "_view_module_version": "1.5.0",
            "_view_name": "VBoxView",
            "box_style": "",
            "children": [
              "IPY_MODEL_7aa3ebf28354493db7148c163a8d5fc0"
            ],
            "layout": "IPY_MODEL_59b9526338d1471ab93d10640c26a53d"
          }
        },
        "8c50a7a5fbc64c0facf8cc645478f72f": {
          "model_module": "jupyter-leaflet",
          "model_name": "LeafletMarkerModel",
          "model_module_version": "^0.16.0",
          "state": {
            "_model_module": "jupyter-leaflet",
            "_model_module_version": "^0.16.0",
            "_model_name": "LeafletMarkerModel",
            "_view_count": null,
            "_view_module": "jupyter-leaflet",
            "_view_module_version": "^0.16.0",
            "_view_name": "LeafletMarkerView",
            "alt": "",
            "base": false,
            "bottom": false,
            "draggable": false,
            "icon": null,
            "keyboard": true,
            "location": [
              27.94853,
              -82.45863
            ],
            "name": "",
            "opacity": 1,
            "options": [
              "alt",
              "draggable",
              "keyboard",
              "rise_offset",
              "rise_on_hover",
              "rotation_angle",
              "rotation_origin",
              "title",
              "z_index_offset"
            ],
            "popup": "IPY_MODEL_0538f19a1204407fbdbd94b3fdb5a9f9",
            "popup_max_height": null,
            "popup_max_width": 300,
            "popup_min_width": 50,
            "rise_offset": 250,
            "rise_on_hover": false,
            "rotation_angle": 0,
            "rotation_origin": "",
            "title": "",
            "visible": true,
            "z_index_offset": 0
          }
        },
        "eee5ad857f21450f9817b46745082e82": {
          "model_module": "jupyter-leaflet",
          "model_name": "LeafletMarkerModel",
          "model_module_version": "^0.16.0",
          "state": {
            "_model_module": "jupyter-leaflet",
            "_model_module_version": "^0.16.0",
            "_model_name": "LeafletMarkerModel",
            "_view_count": null,
            "_view_module": "jupyter-leaflet",
            "_view_module_version": "^0.16.0",
            "_view_name": "LeafletMarkerView",
            "alt": "",
            "base": false,
            "bottom": false,
            "draggable": false,
            "icon": null,
            "keyboard": true,
            "location": [
              27.95102,
              -82.45413
            ],
            "name": "",
            "opacity": 1,
            "options": [
              "alt",
              "draggable",
              "keyboard",
              "rise_offset",
              "rise_on_hover",
              "rotation_angle",
              "rotation_origin",
              "title",
              "z_index_offset"
            ],
            "popup": "IPY_MODEL_028726772ebf4941b3a35eff686e3344",
            "popup_max_height": null,
            "popup_max_width": 300,
            "popup_min_width": 50,
            "rise_offset": 250,
            "rise_on_hover": false,
            "rotation_angle": 0,
            "rotation_origin": "",
            "title": "",
            "visible": true,
            "z_index_offset": 0
          }
        },
        "2e983ba67a4c4fde91f7352aca57ec5f": {
          "model_module": "@jupyter-widgets/base",
          "model_name": "LayoutModel",
          "model_module_version": "1.2.0",
          "state": {
            "_model_module": "@jupyter-widgets/base",
            "_model_module_version": "1.2.0",
            "_model_name": "LayoutModel",
            "_view_count": null,
            "_view_module": "@jupyter-widgets/base",
            "_view_module_version": "1.2.0",
            "_view_name": "LayoutView",
            "align_content": null,
            "align_items": null,
            "align_self": null,
            "border": null,
            "bottom": null,
            "display": null,
            "flex": null,
            "flex_flow": null,
            "grid_area": null,
            "grid_auto_columns": null,
            "grid_auto_flow": null,
            "grid_auto_rows": null,
            "grid_column": null,
            "grid_gap": null,
            "grid_row": null,
            "grid_template_areas": null,
            "grid_template_columns": null,
            "grid_template_rows": null,
            "height": null,
            "justify_content": null,
            "justify_items": null,
            "left": null,
            "margin": null,
            "max_height": null,
            "max_width": null,
            "min_height": null,
            "min_width": null,
            "object_fit": null,
            "object_position": null,
            "order": null,
            "overflow": null,
            "overflow_x": null,
            "overflow_y": null,
            "padding": null,
            "right": null,
            "top": null,
            "visibility": null,
            "width": null
          }
        },
        "7aa3ebf28354493db7148c163a8d5fc0": {
          "model_module": "@jupyter-widgets/controls",
          "model_name": "ToggleButtonModel",
          "model_module_version": "1.5.0",
          "state": {
            "_dom_classes": [],
            "_model_module": "@jupyter-widgets/controls",
            "_model_module_version": "1.5.0",
            "_model_name": "ToggleButtonModel",
            "_view_count": null,
            "_view_module": "@jupyter-widgets/controls",
            "_view_module_version": "1.5.0",
            "_view_name": "ToggleButtonView",
            "button_style": "",
            "description": "",
            "description_tooltip": null,
            "disabled": false,
            "icon": "wrench",
            "layout": "IPY_MODEL_6bee111dea104a8a80c9ed08b1c4022b",
            "style": "IPY_MODEL_6f883e3465b54768a367a6c7ee7d8727",
            "tooltip": "Toolbar",
            "value": false
          }
        },
        "59b9526338d1471ab93d10640c26a53d": {
          "model_module": "@jupyter-widgets/base",
          "model_name": "LayoutModel",
          "model_module_version": "1.2.0",
          "state": {
            "_model_module": "@jupyter-widgets/base",
            "_model_module_version": "1.2.0",
            "_model_name": "LayoutModel",
            "_view_count": null,
            "_view_module": "@jupyter-widgets/base",
            "_view_module_version": "1.2.0",
            "_view_name": "LayoutView",
            "align_content": null,
            "align_items": null,
            "align_self": null,
            "border": null,
            "bottom": null,
            "display": null,
            "flex": null,
            "flex_flow": null,
            "grid_area": null,
            "grid_auto_columns": null,
            "grid_auto_flow": null,
            "grid_auto_rows": null,
            "grid_column": null,
            "grid_gap": null,
            "grid_row": null,
            "grid_template_areas": null,
            "grid_template_columns": null,
            "grid_template_rows": null,
            "height": null,
            "justify_content": null,
            "justify_items": null,
            "left": null,
            "margin": null,
            "max_height": null,
            "max_width": null,
            "min_height": null,
            "min_width": null,
            "object_fit": null,
            "object_position": null,
            "order": null,
            "overflow": null,
            "overflow_x": null,
            "overflow_y": null,
            "padding": null,
            "right": null,
            "top": null,
            "visibility": null,
            "width": null
          }
        },
        "0538f19a1204407fbdbd94b3fdb5a9f9": {
          "model_module": "@jupyter-widgets/controls",
          "model_name": "HTMLModel",
          "model_module_version": "1.5.0",
          "state": {
            "_dom_classes": [],
            "_model_module": "@jupyter-widgets/controls",
            "_model_module_version": "1.5.0",
            "_model_name": "HTMLModel",
            "_view_count": null,
            "_view_module": "@jupyter-widgets/controls",
            "_view_module_version": "1.5.0",
            "_view_name": "HTMLView",
            "description": "",
            "description_tooltip": null,
            "layout": "IPY_MODEL_05d4b5b2173f4e5185904ddd4ecf7dad",
            "placeholder": "​",
            "style": "IPY_MODEL_267bdec5719a4435bf633eabc74dab3f",
            "value": "origin"
          }
        },
        "028726772ebf4941b3a35eff686e3344": {
          "model_module": "@jupyter-widgets/controls",
          "model_name": "HTMLModel",
          "model_module_version": "1.5.0",
          "state": {
            "_dom_classes": [],
            "_model_module": "@jupyter-widgets/controls",
            "_model_module_version": "1.5.0",
            "_model_name": "HTMLModel",
            "_view_count": null,
            "_view_module": "@jupyter-widgets/controls",
            "_view_module_version": "1.5.0",
            "_view_name": "HTMLView",
            "description": "",
            "description_tooltip": null,
            "layout": "IPY_MODEL_2d219dc3c3ca4ece8d5eb8049f160eed",
            "placeholder": "​",
            "style": "IPY_MODEL_b0498a4f42b342aeb3462080cd88cf0c",
            "value": "destination"
          }
        },
        "6bee111dea104a8a80c9ed08b1c4022b": {
          "model_module": "@jupyter-widgets/base",
          "model_name": "LayoutModel",
          "model_module_version": "1.2.0",
          "state": {
            "_model_module": "@jupyter-widgets/base",
            "_model_module_version": "1.2.0",
            "_model_name": "LayoutModel",
            "_view_count": null,
            "_view_module": "@jupyter-widgets/base",
            "_view_module_version": "1.2.0",
            "_view_name": "LayoutView",
            "align_content": null,
            "align_items": null,
            "align_self": null,
            "border": null,
            "bottom": null,
            "display": null,
            "flex": null,
            "flex_flow": null,
            "grid_area": null,
            "grid_auto_columns": null,
            "grid_auto_flow": null,
            "grid_auto_rows": null,
            "grid_column": null,
            "grid_gap": null,
            "grid_row": null,
            "grid_template_areas": null,
            "grid_template_columns": null,
            "grid_template_rows": null,
            "height": "28px",
            "justify_content": null,
            "justify_items": null,
            "left": null,
            "margin": null,
            "max_height": null,
            "max_width": null,
            "min_height": null,
            "min_width": null,
            "object_fit": null,
            "object_position": null,
            "order": null,
            "overflow": null,
            "overflow_x": null,
            "overflow_y": null,
            "padding": "0px 0px 0px 4px",
            "right": null,
            "top": null,
            "visibility": null,
            "width": "28px"
          }
        },
        "6f883e3465b54768a367a6c7ee7d8727": {
          "model_module": "@jupyter-widgets/controls",
          "model_name": "DescriptionStyleModel",
          "model_module_version": "1.5.0",
          "state": {
            "_model_module": "@jupyter-widgets/controls",
            "_model_module_version": "1.5.0",
            "_model_name": "DescriptionStyleModel",
            "_view_count": null,
            "_view_module": "@jupyter-widgets/base",
            "_view_module_version": "1.2.0",
            "_view_name": "StyleView",
            "description_width": ""
          }
        },
        "05d4b5b2173f4e5185904ddd4ecf7dad": {
          "model_module": "@jupyter-widgets/base",
          "model_name": "LayoutModel",
          "model_module_version": "1.2.0",
          "state": {
            "_model_module": "@jupyter-widgets/base",
            "_model_module_version": "1.2.0",
            "_model_name": "LayoutModel",
            "_view_count": null,
            "_view_module": "@jupyter-widgets/base",
            "_view_module_version": "1.2.0",
            "_view_name": "LayoutView",
            "align_content": null,
            "align_items": null,
            "align_self": null,
            "border": null,
            "bottom": null,
            "display": null,
            "flex": null,
            "flex_flow": null,
            "grid_area": null,
            "grid_auto_columns": null,
            "grid_auto_flow": null,
            "grid_auto_rows": null,
            "grid_column": null,
            "grid_gap": null,
            "grid_row": null,
            "grid_template_areas": null,
            "grid_template_columns": null,
            "grid_template_rows": null,
            "height": null,
            "justify_content": null,
            "justify_items": null,
            "left": null,
            "margin": null,
            "max_height": null,
            "max_width": null,
            "min_height": null,
            "min_width": null,
            "object_fit": null,
            "object_position": null,
            "order": null,
            "overflow": null,
            "overflow_x": null,
            "overflow_y": null,
            "padding": null,
            "right": null,
            "top": null,
            "visibility": null,
            "width": null
          }
        },
        "267bdec5719a4435bf633eabc74dab3f": {
          "model_module": "@jupyter-widgets/controls",
          "model_name": "DescriptionStyleModel",
          "model_module_version": "1.5.0",
          "state": {
            "_model_module": "@jupyter-widgets/controls",
            "_model_module_version": "1.5.0",
            "_model_name": "DescriptionStyleModel",
            "_view_count": null,
            "_view_module": "@jupyter-widgets/base",
            "_view_module_version": "1.2.0",
            "_view_name": "StyleView",
            "description_width": ""
          }
        },
        "2d219dc3c3ca4ece8d5eb8049f160eed": {
          "model_module": "@jupyter-widgets/base",
          "model_name": "LayoutModel",
          "model_module_version": "1.2.0",
          "state": {
            "_model_module": "@jupyter-widgets/base",
            "_model_module_version": "1.2.0",
            "_model_name": "LayoutModel",
            "_view_count": null,
            "_view_module": "@jupyter-widgets/base",
            "_view_module_version": "1.2.0",
            "_view_name": "LayoutView",
            "align_content": null,
            "align_items": null,
            "align_self": null,
            "border": null,
            "bottom": null,
            "display": null,
            "flex": null,
            "flex_flow": null,
            "grid_area": null,
            "grid_auto_columns": null,
            "grid_auto_flow": null,
            "grid_auto_rows": null,
            "grid_column": null,
            "grid_gap": null,
            "grid_row": null,
            "grid_template_areas": null,
            "grid_template_columns": null,
            "grid_template_rows": null,
            "height": null,
            "justify_content": null,
            "justify_items": null,
            "left": null,
            "margin": null,
            "max_height": null,
            "max_width": null,
            "min_height": null,
            "min_width": null,
            "object_fit": null,
            "object_position": null,
            "order": null,
            "overflow": null,
            "overflow_x": null,
            "overflow_y": null,
            "padding": null,
            "right": null,
            "top": null,
            "visibility": null,
            "width": null
          }
        },
        "b0498a4f42b342aeb3462080cd88cf0c": {
          "model_module": "@jupyter-widgets/controls",
          "model_name": "DescriptionStyleModel",
          "model_module_version": "1.5.0",
          "state": {
            "_model_module": "@jupyter-widgets/controls",
            "_model_module_version": "1.5.0",
            "_model_name": "DescriptionStyleModel",
            "_view_count": null,
            "_view_module": "@jupyter-widgets/base",
            "_view_module_version": "1.2.0",
            "_view_name": "StyleView",
            "description_width": ""
          }
        },
        "c7d9bb48eea44572af7d2b993dbd0387": {
          "model_module": "jupyter-leaflet",
          "model_name": "LeafletMapModel",
          "model_module_version": "^0.16.0",
          "state": {
            "_dom_classes": [],
            "_model_module": "jupyter-leaflet",
            "_model_module_version": "^0.16.0",
            "_model_name": "LeafletMapModel",
            "_view_count": null,
            "_view_module": "jupyter-leaflet",
            "_view_module_version": "^0.16.0",
            "_view_name": "LeafletMapView",
            "bottom": 14062499,
            "bounce_at_zoom_limits": true,
            "box_zoom": true,
            "center": [
              27.95056,
              -82.45656
            ],
            "close_popup_on_click": true,
            "controls": [
              "IPY_MODEL_b41bc4a720c342559693b2f0e556f3b4",
              "IPY_MODEL_aa82b0d78f40484db0bd52a18c289ec2",
              "IPY_MODEL_9d32a41aea2644d1a61e2b8feaa21575",
              "IPY_MODEL_f49ca117b4b441a1bcc77c6beadc3dfa",
              "IPY_MODEL_91efed07553d4c20873c2d040918657a",
              "IPY_MODEL_018e712803b1497a990e6700664a6208",
              "IPY_MODEL_5f67ee595f25439983229aa2bc23c2d9",
              "IPY_MODEL_d4a8159f55814ac39d8ec0f7f3988233",
              "IPY_MODEL_fd54f0f4a04b4cfb874964962106d5c6"
            ],
            "crs": {
              "name": "EPSG3857",
              "custom": false
            },
            "default_style": "IPY_MODEL_2380570c10fa46d2bf39968f79b4059a",
            "double_click_zoom": true,
            "dragging": true,
            "dragging_style": "IPY_MODEL_817e9630213047aa8b30161dad5b3856",
            "east": -82.45119094848634,
            "fullscreen": false,
            "inertia": true,
            "inertia_deceleration": 3000,
            "inertia_max_speed": 1500,
            "interpolation": "bilinear",
            "keyboard": true,
            "keyboard_pan_offset": 80,
            "keyboard_zoom_offset": 1,
            "layers": [
              "IPY_MODEL_fa66ffc7299d4b4586f56ac2da21a6bd",
              "IPY_MODEL_d4eaf7952e3942c2b21640e1d396a7bb",
              "IPY_MODEL_6487dd2a418b4e6ca16921c652f7a29c",
              "IPY_MODEL_c0286ebc67ba4f3aa03307d9c0427dab",
              "IPY_MODEL_1552b8d96b8a4bf89944448574542844"
            ],
            "layout": "IPY_MODEL_d9766b6f67a74cb9b0e742ce280f051a",
            "left": 9091208,
            "max_zoom": 24,
            "min_zoom": 1,
            "modisdate": "2022-06-08",
            "north": 27.954349523456365,
            "options": [
              "bounce_at_zoom_limits",
              "box_zoom",
              "center",
              "close_popup_on_click",
              "double_click_zoom",
              "dragging",
              "fullscreen",
              "inertia",
              "inertia_deceleration",
              "inertia_max_speed",
              "interpolation",
              "keyboard",
              "keyboard_pan_offset",
              "keyboard_zoom_offset",
              "max_zoom",
              "min_zoom",
              "prefer_canvas",
              "scroll_wheel_zoom",
              "tap",
              "tap_tolerance",
              "touch_zoom",
              "world_copy_jump",
              "zoom",
              "zoom_animation_threshold",
              "zoom_delta",
              "zoom_snap",
              "zoom_start"
            ],
            "prefer_canvas": false,
            "right": 9092208,
            "scroll_wheel_zoom": true,
            "south": 27.94676764918493,
            "style": "IPY_MODEL_e5b28adde7f54e1289b1440c7aa909e2",
            "tap": true,
            "tap_tolerance": 15,
            "top": 14061699,
            "touch_zoom": true,
            "west": -82.46191978454591,
            "window_url": "https://plcv8jflhf-496ff2e9c6d22116-0-colab.googleusercontent.com/outputframe.html?vrz=colab-20220607-060047-RC00_453385713",
            "world_copy_jump": false,
            "zoom": 17,
            "zoom_animation_threshold": 4,
            "zoom_delta": 1,
            "zoom_snap": 1,
            "zoom_start": 12
          }
        },
        "b41bc4a720c342559693b2f0e556f3b4": {
          "model_module": "jupyter-leaflet",
          "model_name": "LeafletZoomControlModel",
          "model_module_version": "^0.16.0",
          "state": {
            "_model_module": "jupyter-leaflet",
            "_model_module_version": "^0.16.0",
            "_model_name": "LeafletZoomControlModel",
            "_view_count": null,
            "_view_module": "jupyter-leaflet",
            "_view_module_version": "^0.16.0",
            "_view_name": "LeafletZoomControlView",
            "options": [
              "position",
              "zoom_in_text",
              "zoom_in_title",
              "zoom_out_text",
              "zoom_out_title"
            ],
            "position": "topleft",
            "zoom_in_text": "+",
            "zoom_in_title": "Zoom in",
            "zoom_out_text": "-",
            "zoom_out_title": "Zoom out"
          }
        },
        "aa82b0d78f40484db0bd52a18c289ec2": {
          "model_module": "jupyter-leaflet",
          "model_name": "LeafletAttributionControlModel",
          "model_module_version": "^0.16.0",
          "state": {
            "_model_module": "jupyter-leaflet",
            "_model_module_version": "^0.16.0",
            "_model_name": "LeafletAttributionControlModel",
            "_view_count": null,
            "_view_module": "jupyter-leaflet",
            "_view_module_version": "^0.16.0",
            "_view_name": "LeafletAttributionControlView",
            "options": [
              "position",
              "prefix"
            ],
            "position": "bottomright",
            "prefix": "ipyleaflet"
          }
        },
        "9d32a41aea2644d1a61e2b8feaa21575": {
          "model_module": "jupyter-leaflet",
          "model_name": "LeafletFullScreenControlModel",
          "model_module_version": "^0.16.0",
          "state": {
            "_model_module": "jupyter-leaflet",
            "_model_module_version": "^0.16.0",
            "_model_name": "LeafletFullScreenControlModel",
            "_view_count": null,
            "_view_module": "jupyter-leaflet",
            "_view_module_version": "^0.16.0",
            "_view_name": "LeafletFullScreenControlView",
            "options": [
              "position"
            ],
            "position": "topleft"
          }
        },
        "f49ca117b4b441a1bcc77c6beadc3dfa": {
          "model_module": "jupyter-leaflet",
          "model_name": "LeafletDrawControlModel",
          "model_module_version": "^0.16.0",
          "state": {
            "_model_module": "jupyter-leaflet",
            "_model_module_version": "^0.16.0",
            "_model_name": "LeafletDrawControlModel",
            "_view_count": null,
            "_view_module": "jupyter-leaflet",
            "_view_module_version": "^0.16.0",
            "_view_name": "LeafletDrawControlView",
            "circle": {
              "shapeOptions": {
                "color": "#3388ff"
              }
            },
            "circlemarker": {},
            "data": [],
            "edit": true,
            "marker": {
              "shapeOptions": {
                "color": "#3388ff"
              }
            },
            "options": [
              "position"
            ],
            "polygon": {
              "shapeOptions": {}
            },
            "polyline": {
              "shapeOptions": {}
            },
            "position": "topleft",
            "rectangle": {
              "shapeOptions": {
                "color": "#3388ff"
              }
            },
            "remove": true
          }
        },
        "91efed07553d4c20873c2d040918657a": {
          "model_module": "jupyter-leaflet",
          "model_name": "LeafletWidgetControlModel",
          "model_module_version": "^0.16.0",
          "state": {
            "_model_module": "jupyter-leaflet",
            "_model_module_version": "^0.16.0",
            "_model_name": "LeafletWidgetControlModel",
            "_view_count": null,
            "_view_module": "jupyter-leaflet",
            "_view_module_version": "^0.16.0",
            "_view_name": "LeafletWidgetControlView",
            "max_height": null,
            "max_width": null,
            "min_height": null,
            "min_width": null,
            "options": [
              "position",
              "transparent_bg"
            ],
            "position": "bottomright",
            "transparent_bg": false,
            "widget": "IPY_MODEL_cb9222dbd9364c16a91c812215a95fb0"
          }
        },
        "018e712803b1497a990e6700664a6208": {
          "model_module": "jupyter-leaflet",
          "model_name": "LeafletMeasureControlModel",
          "model_module_version": "^0.16.0",
          "state": {
            "_custom_units": {},
            "_model_module": "jupyter-leaflet",
            "_model_module_version": "^0.16.0",
            "_model_name": "LeafletMeasureControlModel",
            "_view_count": null,
            "_view_module": "jupyter-leaflet",
            "_view_module_version": "^0.16.0",
            "_view_name": "LeafletMeasureControlView",
            "active_color": "#ABE67E",
            "capture_z_index": 10000,
            "completed_color": "#C8F2BE",
            "options": [
              "active_color",
              "capture_z_index",
              "completed_color",
              "popup_options",
              "position",
              "primary_area_unit",
              "primary_length_unit",
              "secondary_area_unit",
              "secondary_length_unit"
            ],
            "popup_options": {
              "className": "leaflet-measure-resultpopup",
              "autoPanPadding": [
                10,
                10
              ]
            },
            "position": "topleft",
            "primary_area_unit": "acres",
            "primary_length_unit": "feet",
            "secondary_area_unit": null,
            "secondary_length_unit": null
          }
        },
        "5f67ee595f25439983229aa2bc23c2d9": {
          "model_module": "jupyter-leaflet",
          "model_name": "LeafletScaleControlModel",
          "model_module_version": "^0.16.0",
          "state": {
            "_model_module": "jupyter-leaflet",
            "_model_module_version": "^0.16.0",
            "_model_name": "LeafletScaleControlModel",
            "_view_count": null,
            "_view_module": "jupyter-leaflet",
            "_view_module_version": "^0.16.0",
            "_view_name": "LeafletScaleControlView",
            "imperial": true,
            "max_width": 100,
            "metric": true,
            "options": [
              "imperial",
              "max_width",
              "metric",
              "position",
              "update_when_idle"
            ],
            "position": "bottomleft",
            "update_when_idle": false
          }
        },
        "d4a8159f55814ac39d8ec0f7f3988233": {
          "model_module": "jupyter-leaflet",
          "model_name": "LeafletWidgetControlModel",
          "model_module_version": "^0.16.0",
          "state": {
            "_model_module": "jupyter-leaflet",
            "_model_module_version": "^0.16.0",
            "_model_name": "LeafletWidgetControlModel",
            "_view_count": null,
            "_view_module": "jupyter-leaflet",
            "_view_module_version": "^0.16.0",
            "_view_name": "LeafletWidgetControlView",
            "max_height": null,
            "max_width": null,
            "min_height": null,
            "min_width": null,
            "options": [
              "position",
              "transparent_bg"
            ],
            "position": "topright",
            "transparent_bg": false,
            "widget": "IPY_MODEL_196fca9b74114a1d950b88e3d11dd703"
          }
        },
        "fd54f0f4a04b4cfb874964962106d5c6": {
          "model_module": "jupyter-leaflet",
          "model_name": "LeafletWidgetControlModel",
          "model_module_version": "^0.16.0",
          "state": {
            "_model_module": "jupyter-leaflet",
            "_model_module_version": "^0.16.0",
            "_model_name": "LeafletWidgetControlModel",
            "_view_count": null,
            "_view_module": "jupyter-leaflet",
            "_view_module_version": "^0.16.0",
            "_view_name": "LeafletWidgetControlView",
            "max_height": null,
            "max_width": null,
            "min_height": null,
            "min_width": null,
            "options": [
              "position",
              "transparent_bg"
            ],
            "position": "bottomright",
            "transparent_bg": false,
            "widget": "IPY_MODEL_c89b6c3235f34c2784e1c11a75143ed5"
          }
        },
        "2380570c10fa46d2bf39968f79b4059a": {
          "model_module": "jupyter-leaflet",
          "model_name": "LeafletMapStyleModel",
          "model_module_version": "^0.16.0",
          "state": {
            "_model_module": "jupyter-leaflet",
            "_model_module_version": "^0.16.0",
            "_model_name": "LeafletMapStyleModel",
            "_view_count": null,
            "_view_module": "@jupyter-widgets/base",
            "_view_module_version": "1.2.0",
            "_view_name": "StyleView",
            "cursor": "default"
          }
        },
        "817e9630213047aa8b30161dad5b3856": {
          "model_module": "jupyter-leaflet",
          "model_name": "LeafletMapStyleModel",
          "model_module_version": "^0.16.0",
          "state": {
            "_model_module": "jupyter-leaflet",
            "_model_module_version": "^0.16.0",
            "_model_name": "LeafletMapStyleModel",
            "_view_count": null,
            "_view_module": "@jupyter-widgets/base",
            "_view_module_version": "1.2.0",
            "_view_name": "StyleView",
            "cursor": "move"
          }
        },
        "fa66ffc7299d4b4586f56ac2da21a6bd": {
          "model_module": "jupyter-leaflet",
          "model_name": "LeafletTileLayerModel",
          "model_module_version": "^0.16.0",
          "state": {
            "_model_module": "jupyter-leaflet",
            "_model_module_version": "^0.16.0",
            "_model_name": "LeafletTileLayerModel",
            "_view_count": null,
            "_view_module": "jupyter-leaflet",
            "_view_module_version": "^0.16.0",
            "_view_name": "LeafletTileLayerView",
            "attribution": "&copy; <a href=\"https://www.openstreetmap.org/copyright\">OpenStreetMap</a> contributors",
            "base": true,
            "bottom": true,
            "bounds": null,
            "detect_retina": false,
            "loading": false,
            "max_native_zoom": 18,
            "max_zoom": 19,
            "min_native_zoom": 0,
            "min_zoom": 1,
            "name": "OpenStreetMap",
            "no_wrap": false,
            "opacity": 1,
            "options": [
              "attribution",
              "bounds",
              "detect_retina",
              "max_native_zoom",
              "max_zoom",
              "min_native_zoom",
              "min_zoom",
              "no_wrap",
              "tile_size",
              "tms"
            ],
            "popup": null,
            "popup_max_height": null,
            "popup_max_width": 300,
            "popup_min_width": 50,
            "show_loading": false,
            "tile_size": 256,
            "tms": false,
            "url": "https://a.tile.openstreetmap.org/{z}/{x}/{y}.png",
            "visible": true
          }
        },
        "d4eaf7952e3942c2b21640e1d396a7bb": {
          "model_module": "jupyter-leaflet",
          "model_name": "LeafletTileLayerModel",
          "model_module_version": "^0.16.0",
          "state": {
            "_model_module": "jupyter-leaflet",
            "_model_module_version": "^0.16.0",
            "_model_name": "LeafletTileLayerModel",
            "_view_count": null,
            "_view_module": "jupyter-leaflet",
            "_view_module_version": "^0.16.0",
            "_view_name": "LeafletTileLayerView",
            "attribution": "CartoDB",
            "base": false,
            "bottom": true,
            "bounds": null,
            "detect_retina": false,
            "loading": false,
            "max_native_zoom": 18,
            "max_zoom": 18,
            "min_native_zoom": 0,
            "min_zoom": 0,
            "name": "CartoDB",
            "no_wrap": false,
            "opacity": 1,
            "options": [
              "attribution",
              "bounds",
              "detect_retina",
              "max_native_zoom",
              "max_zoom",
              "min_native_zoom",
              "min_zoom",
              "no_wrap",
              "tile_size",
              "tms"
            ],
            "popup": null,
            "popup_max_height": null,
            "popup_max_width": 300,
            "popup_min_width": 50,
            "show_loading": false,
            "tile_size": 256,
            "tms": false,
            "url": "https://cartodb-basemaps-b.global.ssl.fastly.net/light_nolabels/{z}/{x}/{y}.png",
            "visible": true
          }
        },
        "6487dd2a418b4e6ca16921c652f7a29c": {
          "model_module": "jupyter-leaflet",
          "model_name": "LeafletMarkerClusterModel",
          "model_module_version": "^0.16.0",
          "state": {
            "_model_module": "jupyter-leaflet",
            "_model_module_version": "^0.16.0",
            "_model_name": "LeafletMarkerClusterModel",
            "_view_count": null,
            "_view_module": "jupyter-leaflet",
            "_view_module_version": "^0.16.0",
            "_view_name": "LeafletMarkerClusterView",
            "base": false,
            "bottom": false,
            "disable_clustering_at_zoom": 18,
            "markers": [
              "IPY_MODEL_a2449216e4ac4c2ca789f43f9574fef6",
              "IPY_MODEL_20f5e92253f045a38360c9655509ec23"
            ],
            "max_cluster_radius": 80,
            "name": "od",
            "options": [
              "disable_clustering_at_zoom",
              "max_cluster_radius"
            ],
            "popup": null,
            "popup_max_height": null,
            "popup_max_width": 300,
            "popup_min_width": 50
          }
        },
        "c0286ebc67ba4f3aa03307d9c0427dab": {
          "model_module": "jupyter-leaflet",
          "model_name": "LeafletMarkerClusterModel",
          "model_module_version": "^0.16.0",
          "state": {
            "_model_module": "jupyter-leaflet",
            "_model_module_version": "^0.16.0",
            "_model_name": "LeafletMarkerClusterModel",
            "_view_count": null,
            "_view_module": "jupyter-leaflet",
            "_view_module_version": "^0.16.0",
            "_view_name": "LeafletMarkerClusterView",
            "base": false,
            "bottom": false,
            "disable_clustering_at_zoom": 18,
            "markers": [
              "IPY_MODEL_ca241d2a0de542ee9dd93c6bf681e50a",
              "IPY_MODEL_f36c1c37ec3b41ccb48b2bec081f55b1",
              "IPY_MODEL_4617ff93034044e5b8611fa3f90fc46d",
              "IPY_MODEL_41e948e1a8ef46d3824c4d09d46fad11",
              "IPY_MODEL_1954cd3f340545509305c53bb9ad1526",
              "IPY_MODEL_534f7a9fb0664e41916a3d756623449a",
              "IPY_MODEL_c0f0ab3ce5b24aef98eb08b2a97f3d63",
              "IPY_MODEL_b3397c63bbef4360b5201570f70679c9",
              "IPY_MODEL_7b000b6bc08a4ed8a168098ff458ddc0",
              "IPY_MODEL_f834440c820f4dbfb69f02af1402d345",
              "IPY_MODEL_3698fac4c73a4effa3e91bb38210d93d",
              "IPY_MODEL_f14d6c1b129d45049a4b0fe18effa88d",
              "IPY_MODEL_4839a4e0ade94f7e9636e2bd9225e41c",
              "IPY_MODEL_d9d4aaff264848b083a4e1d54795240e",
              "IPY_MODEL_c1a281db9ba24e399dd3d14f96bdda1c",
              "IPY_MODEL_86997d68ea2545018c240f6855ac2fc9",
              "IPY_MODEL_09819a74809d41ad90ef1d2984eeac0c",
              "IPY_MODEL_1d6bab88e10c414d9e4e4e09c7b289c0",
              "IPY_MODEL_277251012fdb4b5da1d88aaa2cc07019",
              "IPY_MODEL_08e78ab3f2bb4843b34998ef7563b9be",
              "IPY_MODEL_bb37d28e49c9485cb41b6f11e7f4a91a",
              "IPY_MODEL_4f0db85d402e4aa3aab4d49218864886",
              "IPY_MODEL_c0091ace9ee345aa92db9a2c6f1e5557",
              "IPY_MODEL_b15713d7ea12498a841fcd251f0b8df0",
              "IPY_MODEL_81598bc3a095412b95d14f7fc06a4148",
              "IPY_MODEL_5b9c712e818d4c73a95dc93bd93c0b59",
              "IPY_MODEL_a7232effc62d4b10b70f5bee7ee89bae",
              "IPY_MODEL_89f048f331a64a1da5e5f713ee199248",
              "IPY_MODEL_05e996756fa94ea4be8d7baf25da2071",
              "IPY_MODEL_8e678c4ea40a489faa7093402f3c63ad",
              "IPY_MODEL_32f3195eee444fbdb0fe42fa71607f3f",
              "IPY_MODEL_01aa00a9a03a44f78456219cccc676ec",
              "IPY_MODEL_52c02f2c59f74e5389727654d90df288",
              "IPY_MODEL_430d6f4684f54362af1638a471f313ca",
              "IPY_MODEL_061eaa575b604eb5a300bb520851d539",
              "IPY_MODEL_57ceb6670dfd4c43891c3ac01583f4b4",
              "IPY_MODEL_113f77d5edf04dcba25ed5864f888b93",
              "IPY_MODEL_21c7ea1e7be4433c8b328477c9a9e3f8",
              "IPY_MODEL_05e970430e8447d9a283db8cdec745fa",
              "IPY_MODEL_9df68d12c53f444380d3495e1d2c0d2a",
              "IPY_MODEL_30375dea02824ffa980548a529c77bf3",
              "IPY_MODEL_2609daa1f04e4773af582b4e66342100",
              "IPY_MODEL_8f63797ebcfc4d0f9e3ce94d66804cdf",
              "IPY_MODEL_5a61a06bdef449f8b5c745c0a75eb5fc",
              "IPY_MODEL_2b5178adabb34f3688dfdf4a459e66d4",
              "IPY_MODEL_b73f282d080f4c1f9d01d06a4180dea3"
            ],
            "max_cluster_radius": 80,
            "name": "nodes",
            "options": [
              "disable_clustering_at_zoom",
              "max_cluster_radius"
            ],
            "popup": null,
            "popup_max_height": null,
            "popup_max_width": 300,
            "popup_min_width": 50
          }
        },
        "1552b8d96b8a4bf89944448574542844": {
          "model_module": "jupyter-leaflet",
          "model_name": "LeafletGeoJSONModel",
          "model_module_version": "^0.16.0",
          "state": {
            "_model_module": "jupyter-leaflet",
            "_model_module_version": "^0.16.0",
            "_model_name": "LeafletGeoJSONModel",
            "_view_count": null,
            "_view_module": "jupyter-leaflet",
            "_view_module_version": "^0.16.0",
            "_view_name": "LeafletGeoJSONView",
            "base": false,
            "bottom": false,
            "data": {
              "type": "FeatureCollection",
              "features": [
                {
                  "id": "(97775156, 97775158, 0)",
                  "type": "Feature",
                  "properties": {
                    "highway": "residential",
                    "lanes": "2",
                    "length": 89.09299999999999,
                    "maxspeed": null,
                    "name": "North Marion Street",
                    "oneway": false,
                    "osmid": 10970142,
                    "ref": null,
                    "style": {
                      "color": "black",
                      "fillColor": "black"
                    }
                  },
                  "geometry": {
                    "type": "LineString",
                    "coordinates": [
                      [
                        -82.4562493,
                        27.9482623
                      ],
                      [
                        -82.4562919,
                        27.9483641
                      ],
                      [
                        -82.4565412,
                        27.9489147
                      ],
                      [
                        -82.4565827,
                        27.9490074
                      ]
                    ]
                  },
                  "bbox": [
                    -82.4565827,
                    27.9482623,
                    -82.4562493,
                    27.9490074
                  ]
                },
                {
                  "id": "(97775156, 97871013, 0)",
                  "type": "Feature",
                  "properties": {
                    "highway": "primary",
                    "lanes": "4",
                    "length": 89.342,
                    "maxspeed": "30 mph",
                    "name": "East Kennedy Boulevard",
                    "oneway": true,
                    "osmid": 115040529,
                    "ref": "US 41 Business;FL 60",
                    "style": {
                      "color": "black",
                      "fillColor": "black"
                    }
                  },
                  "geometry": {
                    "type": "LineString",
                    "coordinates": [
                      [
                        -82.4562493,
                        27.9482623
                      ],
                      [
                        -82.4563382,
                        27.9482317
                      ],
                      [
                        -82.4569829,
                        27.9480107
                      ],
                      [
                        -82.4570982,
                        27.9479739
                      ]
                    ]
                  },
                  "bbox": [
                    -82.4570982,
                    27.9479739,
                    -82.4562493,
                    27.9482623
                  ]
                },
                {
                  "id": "(97775158, 97775163, 0)",
                  "type": "Feature",
                  "properties": {
                    "highway": "residential",
                    "lanes": "2",
                    "length": 89.335,
                    "maxspeed": null,
                    "name": "North Marion Street",
                    "oneway": false,
                    "osmid": 10970142,
                    "ref": null,
                    "style": {
                      "color": "black",
                      "fillColor": "black"
                    }
                  },
                  "geometry": {
                    "type": "LineString",
                    "coordinates": [
                      [
                        -82.4565827,
                        27.9490074
                      ],
                      [
                        -82.4566299,
                        27.9491172
                      ],
                      [
                        -82.4568695,
                        27.9496785
                      ],
                      [
                        -82.456904,
                        27.949759
                      ]
                    ]
                  },
                  "bbox": [
                    -82.456904,
                    27.9490074,
                    -82.4565827,
                    27.949759
                  ]
                },
                {
                  "id": "(97775158, 97775156, 0)",
                  "type": "Feature",
                  "properties": {
                    "highway": "residential",
                    "lanes": "2",
                    "length": 89.093,
                    "maxspeed": null,
                    "name": "North Marion Street",
                    "oneway": false,
                    "osmid": 10970142,
                    "ref": null,
                    "style": {
                      "color": "black",
                      "fillColor": "black"
                    }
                  },
                  "geometry": {
                    "type": "LineString",
                    "coordinates": [
                      [
                        -82.4565827,
                        27.9490074
                      ],
                      [
                        -82.4565412,
                        27.9489147
                      ],
                      [
                        -82.4562919,
                        27.9483641
                      ],
                      [
                        -82.4562493,
                        27.9482623
                      ]
                    ]
                  },
                  "bbox": [
                    -82.4565827,
                    27.9482623,
                    -82.4562493,
                    27.9490074
                  ]
                },
                {
                  "id": "(97775158, 97815626, 0)",
                  "type": "Feature",
                  "properties": {
                    "highway": "tertiary",
                    "lanes": "2",
                    "length": 89.13300000000001,
                    "maxspeed": null,
                    "name": "East Madison Street",
                    "oneway": false,
                    "osmid": 932449456,
                    "ref": null,
                    "style": {
                      "color": "black",
                      "fillColor": "black"
                    }
                  },
                  "geometry": {
                    "type": "LineString",
                    "coordinates": [
                      [
                        -82.4565827,
                        27.9490074
                      ],
                      [
                        -82.456479,
                        27.9490436
                      ],
                      [
                        -82.4559835,
                        27.949214
                      ],
                      [
                        -82.4558403,
                        27.9492633
                      ],
                      [
                        -82.4557374,
                        27.9492989
                      ]
                    ]
                  },
                  "bbox": [
                    -82.4565827,
                    27.9490074,
                    -82.4557374,
                    27.9492989
                  ]
                },
                {
                  "id": "(97775158, 474972598, 0)",
                  "type": "Feature",
                  "properties": {
                    "highway": "tertiary",
                    "lanes": "2",
                    "length": 88.689,
                    "maxspeed": null,
                    "name": "East Madison Street",
                    "oneway": false,
                    "osmid": 932449456,
                    "ref": null,
                    "style": {
                      "color": "black",
                      "fillColor": "black"
                    }
                  },
                  "geometry": {
                    "type": "LineString",
                    "coordinates": [
                      [
                        -82.4565827,
                        27.9490074
                      ],
                      [
                        -82.4566673,
                        27.9489783
                      ],
                      [
                        -82.456919,
                        27.948892
                      ],
                      [
                        -82.4573078,
                        27.9487587
                      ],
                      [
                        -82.4574238,
                        27.9487174
                      ]
                    ]
                  },
                  "bbox": [
                    -82.4574238,
                    27.9487174,
                    -82.4565827,
                    27.9490074
                  ]
                },
                {
                  "id": "(97775163, 97775165, 0)",
                  "type": "Feature",
                  "properties": {
                    "highway": "residential",
                    "lanes": "2",
                    "length": 89.57900000000001,
                    "maxspeed": null,
                    "name": "North Marion Street",
                    "oneway": false,
                    "osmid": 10970142,
                    "ref": null,
                    "style": {
                      "color": "black",
                      "fillColor": "black"
                    }
                  },
                  "geometry": {
                    "type": "LineString",
                    "coordinates": [
                      [
                        -82.456904,
                        27.949759
                      ],
                      [
                        -82.4569532,
                        27.9498704
                      ],
                      [
                        -82.4571943,
                        27.9504162
                      ],
                      [
                        -82.4572355,
                        27.9505095
                      ]
                    ]
                  },
                  "bbox": [
                    -82.4572355,
                    27.949759,
                    -82.456904,
                    27.9505095
                  ]
                },
                {
                  "id": "(97775163, 97775158, 0)",
                  "type": "Feature",
                  "properties": {
                    "highway": "residential",
                    "lanes": "2",
                    "length": 89.335,
                    "maxspeed": null,
                    "name": "North Marion Street",
                    "oneway": false,
                    "osmid": 10970142,
                    "ref": null,
                    "style": {
                      "color": "black",
                      "fillColor": "black"
                    }
                  },
                  "geometry": {
                    "type": "LineString",
                    "coordinates": [
                      [
                        -82.456904,
                        27.949759
                      ],
                      [
                        -82.4568695,
                        27.9496785
                      ],
                      [
                        -82.4566299,
                        27.9491172
                      ],
                      [
                        -82.4565827,
                        27.9490074
                      ]
                    ]
                  },
                  "bbox": [
                    -82.456904,
                    27.9490074,
                    -82.4565827,
                    27.949759
                  ]
                },
                {
                  "id": "(97775163, 97876151, 0)",
                  "type": "Feature",
                  "properties": {
                    "highway": "tertiary",
                    "lanes": "4",
                    "length": 88.283,
                    "maxspeed": "30 mph",
                    "name": "East Twiggs Street",
                    "oneway": false,
                    "osmid": 87174879,
                    "ref": null,
                    "style": {
                      "color": "black",
                      "fillColor": "black"
                    }
                  },
                  "geometry": {
                    "type": "LineString",
                    "coordinates": [
                      [
                        -82.456904,
                        27.949759
                      ],
                      [
                        -82.4568055,
                        27.9497928
                      ],
                      [
                        -82.45632,
                        27.949959
                      ],
                      [
                        -82.4561667,
                        27.9500109
                      ],
                      [
                        -82.456066,
                        27.950046
                      ]
                    ]
                  },
                  "bbox": [
                    -82.456904,
                    27.949759,
                    -82.456066,
                    27.950046
                  ]
                },
                {
                  "id": "(97775163, 97928974, 0)",
                  "type": "Feature",
                  "properties": {
                    "highway": "tertiary",
                    "lanes": "4",
                    "length": 88.487,
                    "maxspeed": "30 mph",
                    "name": "East Twiggs Street",
                    "oneway": false,
                    "osmid": 87174879,
                    "ref": null,
                    "style": {
                      "color": "black",
                      "fillColor": "black"
                    }
                  },
                  "geometry": {
                    "type": "LineString",
                    "coordinates": [
                      [
                        -82.456904,
                        27.949759
                      ],
                      [
                        -82.4569898,
                        27.9497307
                      ],
                      [
                        -82.457635,
                        27.9495045
                      ],
                      [
                        -82.457742,
                        27.949467
                      ]
                    ]
                  },
                  "bbox": [
                    -82.457742,
                    27.949467,
                    -82.456904,
                    27.949759
                  ]
                },
                {
                  "id": "(97775165, 1870060165, 0)",
                  "type": "Feature",
                  "properties": {
                    "highway": "residential",
                    "lanes": "2",
                    "length": 81.691,
                    "maxspeed": null,
                    "name": "North Marion Street",
                    "oneway": false,
                    "osmid": 10970142,
                    "ref": null,
                    "style": {
                      "color": "black",
                      "fillColor": "black"
                    }
                  },
                  "geometry": {
                    "type": "LineString",
                    "coordinates": [
                      [
                        -82.4572355,
                        27.9505095
                      ],
                      [
                        -82.457274,
                        27.950597
                      ],
                      [
                        -82.4575148,
                        27.9511461
                      ],
                      [
                        -82.4575361,
                        27.9511945
                      ]
                    ]
                  },
                  "bbox": [
                    -82.4575361,
                    27.9505095,
                    -82.4572355,
                    27.9511945
                  ]
                },
                {
                  "id": "(97775165, 97775163, 0)",
                  "type": "Feature",
                  "properties": {
                    "highway": "residential",
                    "lanes": "2",
                    "length": 89.57900000000001,
                    "maxspeed": null,
                    "name": "North Marion Street",
                    "oneway": false,
                    "osmid": 10970142,
                    "ref": null,
                    "style": {
                      "color": "black",
                      "fillColor": "black"
                    }
                  },
                  "geometry": {
                    "type": "LineString",
                    "coordinates": [
                      [
                        -82.4572355,
                        27.9505095
                      ],
                      [
                        -82.4571943,
                        27.9504162
                      ],
                      [
                        -82.4569532,
                        27.9498704
                      ],
                      [
                        -82.456904,
                        27.949759
                      ]
                    ]
                  },
                  "bbox": [
                    -82.4572355,
                    27.949759,
                    -82.456904,
                    27.9505095
                  ]
                },
                {
                  "id": "(97775165, 97876153, 0)",
                  "type": "Feature",
                  "properties": {
                    "highway": "tertiary",
                    "lanes": "2",
                    "length": 88.74799999999999,
                    "maxspeed": null,
                    "name": "East Zack Street",
                    "oneway": false,
                    "osmid": 11000973,
                    "ref": null,
                    "style": {
                      "color": "black",
                      "fillColor": "black"
                    }
                  },
                  "geometry": {
                    "type": "LineString",
                    "coordinates": [
                      [
                        -82.4572355,
                        27.9505095
                      ],
                      [
                        -82.4571368,
                        27.9505441
                      ],
                      [
                        -82.456495,
                        27.9507634
                      ],
                      [
                        -82.4563932,
                        27.9507983
                      ]
                    ]
                  },
                  "bbox": [
                    -82.4572355,
                    27.9505095,
                    -82.4563932,
                    27.9507983
                  ]
                },
                {
                  "id": "(97775165, 97942623, 0)",
                  "type": "Feature",
                  "properties": {
                    "highway": "tertiary",
                    "lanes": "2",
                    "length": 88.522,
                    "maxspeed": null,
                    "name": "East Zack Street",
                    "oneway": false,
                    "osmid": [
                      909318437,
                      11000973
                    ],
                    "ref": null,
                    "style": {
                      "color": "black",
                      "fillColor": "black"
                    }
                  },
                  "geometry": {
                    "type": "LineString",
                    "coordinates": [
                      [
                        -82.4572355,
                        27.9505095
                      ],
                      [
                        -82.4573245,
                        27.9504773
                      ],
                      [
                        -82.4576558,
                        27.9503609
                      ],
                      [
                        -82.4579718,
                        27.9502555
                      ],
                      [
                        -82.4580774,
                        27.9502261
                      ]
                    ]
                  },
                  "bbox": [
                    -82.4580774,
                    27.9502261,
                    -82.4572355,
                    27.9505095
                  ]
                },
                {
                  "id": "(97815626, 97871014, 0)",
                  "type": "Feature",
                  "properties": {
                    "highway": "tertiary",
                    "lanes": "4",
                    "length": 87.949,
                    "maxspeed": null,
                    "name": "North Morgan Street",
                    "oneway": false,
                    "osmid": 168522075,
                    "ref": null,
                    "style": {
                      "color": "black",
                      "fillColor": "black"
                    }
                  },
                  "geometry": {
                    "type": "LineString",
                    "coordinates": [
                      [
                        -82.4557374,
                        27.9492989
                      ],
                      [
                        -82.4556953,
                        27.9492056
                      ],
                      [
                        -82.4556622,
                        27.9491296
                      ],
                      [
                        -82.4556038,
                        27.9489992
                      ],
                      [
                        -82.4554545,
                        27.9486609
                      ],
                      [
                        -82.4554104,
                        27.9485626
                      ]
                    ]
                  },
                  "bbox": [
                    -82.4557374,
                    27.9485626,
                    -82.4554104,
                    27.9492989
                  ]
                },
                {
                  "id": "(97815626, 97876151, 0)",
                  "type": "Feature",
                  "properties": {
                    "highway": "tertiary",
                    "lanes": "4",
                    "length": 89.125,
                    "maxspeed": null,
                    "name": "North Morgan Street",
                    "oneway": false,
                    "osmid": 168522075,
                    "ref": null,
                    "style": {
                      "color": "black",
                      "fillColor": "black"
                    }
                  },
                  "geometry": {
                    "type": "LineString",
                    "coordinates": [
                      [
                        -82.4557374,
                        27.9492989
                      ],
                      [
                        -82.4557819,
                        27.9494039
                      ],
                      [
                        -82.4560273,
                        27.9499588
                      ],
                      [
                        -82.456066,
                        27.950046
                      ]
                    ]
                  },
                  "bbox": [
                    -82.456066,
                    27.9492989,
                    -82.4557374,
                    27.950046
                  ]
                },
                {
                  "id": "(97815626, 97815628, 0)",
                  "type": "Feature",
                  "properties": {
                    "highway": "tertiary",
                    "lanes": "2",
                    "length": 88.71900000000001,
                    "maxspeed": null,
                    "name": "East Madison Street",
                    "oneway": false,
                    "osmid": 932449456,
                    "ref": null,
                    "style": {
                      "color": "black",
                      "fillColor": "black"
                    }
                  },
                  "geometry": {
                    "type": "LineString",
                    "coordinates": [
                      [
                        -82.4557374,
                        27.9492989
                      ],
                      [
                        -82.4556274,
                        27.9493368
                      ],
                      [
                        -82.4551298,
                        27.9495084
                      ],
                      [
                        -82.4550239,
                        27.9495445
                      ],
                      [
                        -82.454896,
                        27.949589
                      ]
                    ]
                  },
                  "bbox": [
                    -82.4557374,
                    27.9492989,
                    -82.454896,
                    27.949589
                  ]
                },
                {
                  "id": "(97815626, 97775158, 0)",
                  "type": "Feature",
                  "properties": {
                    "highway": "tertiary",
                    "lanes": "2",
                    "length": 89.13300000000001,
                    "maxspeed": null,
                    "name": "East Madison Street",
                    "oneway": false,
                    "osmid": 932449456,
                    "ref": null,
                    "style": {
                      "color": "black",
                      "fillColor": "black"
                    }
                  },
                  "geometry": {
                    "type": "LineString",
                    "coordinates": [
                      [
                        -82.4557374,
                        27.9492989
                      ],
                      [
                        -82.4558403,
                        27.9492633
                      ],
                      [
                        -82.4559835,
                        27.949214
                      ],
                      [
                        -82.456479,
                        27.9490436
                      ],
                      [
                        -82.4565827,
                        27.9490074
                      ]
                    ]
                  },
                  "bbox": [
                    -82.4565827,
                    27.9490074,
                    -82.4557374,
                    27.9492989
                  ]
                },
                {
                  "id": "(97815628, 942206728, 0)",
                  "type": "Feature",
                  "properties": {
                    "highway": "secondary",
                    "lanes": "4",
                    "length": 87.783,
                    "maxspeed": "unposted",
                    "name": "Pierce Street",
                    "oneway": true,
                    "osmid": 87659447,
                    "ref": null,
                    "style": {
                      "color": "black",
                      "fillColor": "black"
                    }
                  },
                  "geometry": {
                    "type": "LineString",
                    "coordinates": [
                      [
                        -82.454896,
                        27.949589
                      ],
                      [
                        -82.4548607,
                        27.9495053
                      ],
                      [
                        -82.4546172,
                        27.9489489
                      ],
                      [
                        -82.4545754,
                        27.9488521
                      ]
                    ]
                  },
                  "bbox": [
                    -82.454896,
                    27.9488521,
                    -82.4545754,
                    27.949589
                  ]
                },
                {
                  "id": "(97815628, 97815626, 0)",
                  "type": "Feature",
                  "properties": {
                    "highway": "tertiary",
                    "lanes": "2",
                    "length": 88.71900000000001,
                    "maxspeed": null,
                    "name": "East Madison Street",
                    "oneway": false,
                    "osmid": 932449456,
                    "ref": null,
                    "style": {
                      "color": "black",
                      "fillColor": "black"
                    }
                  },
                  "geometry": {
                    "type": "LineString",
                    "coordinates": [
                      [
                        -82.454896,
                        27.949589
                      ],
                      [
                        -82.4550239,
                        27.9495445
                      ],
                      [
                        -82.4551298,
                        27.9495084
                      ],
                      [
                        -82.4556274,
                        27.9493368
                      ],
                      [
                        -82.4557374,
                        27.9492989
                      ]
                    ]
                  },
                  "bbox": [
                    -82.4557374,
                    27.9492989,
                    -82.454896,
                    27.949589
                  ]
                },
                {
                  "id": "(97871012, 97871010, 0)",
                  "type": "Feature",
                  "properties": {
                    "highway": "primary",
                    "lanes": "4",
                    "length": 88.90200000000002,
                    "maxspeed": "30 mph",
                    "name": "Kennedy Boulevard",
                    "oneway": true,
                    "osmid": 23946064,
                    "ref": "FL 60",
                    "style": {
                      "color": "black",
                      "fillColor": "black"
                    }
                  },
                  "geometry": {
                    "type": "LineString",
                    "coordinates": [
                      [
                        -82.4579291,
                        27.9476964
                      ],
                      [
                        -82.4580214,
                        27.9476642
                      ],
                      [
                        -82.4586626,
                        27.9474348
                      ],
                      [
                        -82.4587699,
                        27.9474007
                      ]
                    ]
                  },
                  "bbox": [
                    -82.4587699,
                    27.9474007,
                    -82.4579291,
                    27.9476964
                  ]
                },
                {
                  "id": "(97871012, 975495315, 0)",
                  "type": "Feature",
                  "properties": {
                    "highway": "unclassified",
                    "lanes": "2",
                    "length": 87.83900000000001,
                    "maxspeed": null,
                    "name": "North Franklin Street",
                    "oneway": false,
                    "osmid": 932449457,
                    "ref": null,
                    "style": {
                      "color": "black",
                      "fillColor": "black"
                    }
                  },
                  "geometry": {
                    "type": "LineString",
                    "coordinates": [
                      [
                        -82.4579291,
                        27.9476964
                      ],
                      [
                        -82.4579704,
                        27.9477827
                      ],
                      [
                        -82.4579917,
                        27.9478282
                      ],
                      [
                        -82.4580761,
                        27.9480311
                      ],
                      [
                        -82.4580826,
                        27.9480509
                      ],
                      [
                        -82.4580881,
                        27.9480707
                      ],
                      [
                        -82.4580971,
                        27.9481095
                      ],
                      [
                        -82.4581091,
                        27.9481464
                      ],
                      [
                        -82.4581241,
                        27.9481834
                      ],
                      [
                        -82.4582015,
                        27.9483577
                      ],
                      [
                        -82.4582366,
                        27.9484372
                      ]
                    ]
                  },
                  "bbox": [
                    -82.4582366,
                    27.9476964,
                    -82.4579291,
                    27.9484372
                  ]
                },
                {
                  "id": "(97871013, 97871012, 0)",
                  "type": "Feature",
                  "properties": {
                    "highway": "primary",
                    "lanes": "4",
                    "length": 87.25999999999999,
                    "maxspeed": "30 mph",
                    "name": "Kennedy Boulevard",
                    "oneway": true,
                    "osmid": 47222463,
                    "ref": "FL 60",
                    "style": {
                      "color": "black",
                      "fillColor": "black"
                    }
                  },
                  "geometry": {
                    "type": "LineString",
                    "coordinates": [
                      [
                        -82.4570982,
                        27.9479739
                      ],
                      [
                        -82.4572276,
                        27.9479331
                      ],
                      [
                        -82.4578324,
                        27.9477311
                      ],
                      [
                        -82.4579291,
                        27.9476964
                      ]
                    ]
                  },
                  "bbox": [
                    -82.4579291,
                    27.9476964,
                    -82.4570982,
                    27.9479739
                  ]
                },
                {
                  "id": "(97871013, 474972598, 0)",
                  "type": "Feature",
                  "properties": {
                    "highway": "primary",
                    "lanes": "4",
                    "length": 88.657,
                    "maxspeed": "35 mph",
                    "name": "North Florida Avenue",
                    "oneway": true,
                    "osmid": 47222465,
                    "ref": "US 41 Business",
                    "style": {
                      "color": "black",
                      "fillColor": "black"
                    }
                  },
                  "geometry": {
                    "type": "LineString",
                    "coordinates": [
                      [
                        -82.4570982,
                        27.9479739
                      ],
                      [
                        -82.4571355,
                        27.9480717
                      ],
                      [
                        -82.4571951,
                        27.9482086
                      ],
                      [
                        -82.4571983,
                        27.9482156
                      ],
                      [
                        -82.4572832,
                        27.9484053
                      ],
                      [
                        -82.4573867,
                        27.9486362
                      ],
                      [
                        -82.4574238,
                        27.9487174
                      ]
                    ]
                  },
                  "bbox": [
                    -82.4574238,
                    27.9479739,
                    -82.4570982,
                    27.9487174
                  ]
                },
                {
                  "id": "(97871014, 97775156, 0)",
                  "type": "Feature",
                  "properties": {
                    "highway": "primary",
                    "lanes": "4",
                    "length": 88.913,
                    "maxspeed": "30 mph",
                    "name": "East Kennedy Boulevard",
                    "oneway": true,
                    "osmid": 115040529,
                    "ref": "US 41 Business;FL 60",
                    "style": {
                      "color": "black",
                      "fillColor": "black"
                    }
                  },
                  "geometry": {
                    "type": "LineString",
                    "coordinates": [
                      [
                        -82.4554104,
                        27.9485626
                      ],
                      [
                        -82.4555112,
                        27.948528
                      ],
                      [
                        -82.4561519,
                        27.9482985
                      ],
                      [
                        -82.4562493,
                        27.9482623
                      ]
                    ]
                  },
                  "bbox": [
                    -82.4562493,
                    27.9482623,
                    -82.4554104,
                    27.9485626
                  ]
                },
                {
                  "id": "(97871014, 97815626, 0)",
                  "type": "Feature",
                  "properties": {
                    "highway": "tertiary",
                    "lanes": "4",
                    "length": 87.94900000000001,
                    "maxspeed": null,
                    "name": "North Morgan Street",
                    "oneway": false,
                    "osmid": 168522075,
                    "ref": null,
                    "style": {
                      "color": "black",
                      "fillColor": "black"
                    }
                  },
                  "geometry": {
                    "type": "LineString",
                    "coordinates": [
                      [
                        -82.4554104,
                        27.9485626
                      ],
                      [
                        -82.4554545,
                        27.9486609
                      ],
                      [
                        -82.4556038,
                        27.9489992
                      ],
                      [
                        -82.4556622,
                        27.9491296
                      ],
                      [
                        -82.4556953,
                        27.9492056
                      ],
                      [
                        -82.4557374,
                        27.9492989
                      ]
                    ]
                  },
                  "bbox": [
                    -82.4557374,
                    27.9485626,
                    -82.4554104,
                    27.9492989
                  ]
                },
                {
                  "id": "(97871017, 97927140, 0)",
                  "type": "Feature",
                  "properties": {
                    "highway": "secondary",
                    "lanes": "4",
                    "length": 176.89700000000002,
                    "maxspeed": "30 mph",
                    "name": "North Jefferson Street",
                    "oneway": false,
                    "osmid": 117012652,
                    "ref": null,
                    "style": {
                      "color": "black",
                      "fillColor": "black"
                    }
                  },
                  "geometry": {
                    "type": "LineString",
                    "coordinates": [
                      [
                        -82.4537286,
                        27.9491431
                      ],
                      [
                        -82.4537686,
                        27.9492326
                      ],
                      [
                        -82.4539279,
                        27.9495938
                      ],
                      [
                        -82.4540413,
                        27.949851
                      ],
                      [
                        -82.4541757,
                        27.9501552
                      ],
                      [
                        -82.4543405,
                        27.9505283
                      ],
                      [
                        -82.4543834,
                        27.9506251
                      ]
                    ]
                  },
                  "bbox": [
                    -82.4543834,
                    27.9491431,
                    -82.4537286,
                    27.9506251
                  ]
                },
                {
                  "id": "(97871017, 942206728, 0)",
                  "type": "Feature",
                  "properties": {
                    "highway": "primary",
                    "lanes": "4",
                    "length": 89.25200000000001,
                    "maxspeed": "30 mph",
                    "name": "East Kennedy Boulevard",
                    "oneway": true,
                    "osmid": 117012653,
                    "ref": "US 41 Business;FL 60",
                    "style": {
                      "color": "black",
                      "fillColor": "black"
                    }
                  },
                  "geometry": {
                    "type": "LineString",
                    "coordinates": [
                      [
                        -82.4537286,
                        27.9491431
                      ],
                      [
                        -82.4538321,
                        27.9491073
                      ],
                      [
                        -82.4544646,
                        27.9488884
                      ],
                      [
                        -82.4545754,
                        27.9488521
                      ]
                    ]
                  },
                  "bbox": [
                    -82.4545754,
                    27.9488521,
                    -82.4537286,
                    27.9491431
                  ]
                },
                {
                  "id": "(97871022, 1993753421, 0)",
                  "type": "Feature",
                  "properties": {
                    "highway": "primary",
                    "lanes": "3",
                    "length": 83.66799999999999,
                    "maxspeed": "30 mph",
                    "name": "East Kennedy Boulevard",
                    "oneway": true,
                    "osmid": 188754665,
                    "ref": "US 41 Business;FL 60",
                    "style": {
                      "color": "black",
                      "fillColor": "black"
                    }
                  },
                  "geometry": {
                    "type": "LineString",
                    "coordinates": [
                      [
                        -82.4520812,
                        27.9496714
                      ],
                      [
                        -82.4522234,
                        27.9496187
                      ],
                      [
                        -82.4527649,
                        27.9494307
                      ],
                      [
                        -82.4528747,
                        27.9493983
                      ]
                    ]
                  },
                  "bbox": [
                    -82.4528747,
                    27.9493983,
                    -82.4520812,
                    27.9496714
                  ]
                },
                {
                  "id": "(97876151, 97928976, 0)",
                  "type": "Feature",
                  "properties": {
                    "highway": "tertiary",
                    "lanes": "4",
                    "length": 88.68900000000001,
                    "maxspeed": "30 mph",
                    "name": "East Twiggs Street",
                    "oneway": false,
                    "osmid": 87174879,
                    "ref": null,
                    "style": {
                      "color": "black",
                      "fillColor": "black"
                    }
                  },
                  "geometry": {
                    "type": "LineString",
                    "coordinates": [
                      [
                        -82.456066,
                        27.950046
                      ],
                      [
                        -82.4559605,
                        27.9500819
                      ],
                      [
                        -82.4556937,
                        27.9501733
                      ],
                      [
                        -82.455333,
                        27.9502959
                      ],
                      [
                        -82.455224,
                        27.950334
                      ]
                    ]
                  },
                  "bbox": [
                    -82.456066,
                    27.950046,
                    -82.455224,
                    27.950334
                  ]
                },
                {
                  "id": "(97876151, 97775163, 0)",
                  "type": "Feature",
                  "properties": {
                    "highway": "tertiary",
                    "lanes": "4",
                    "length": 88.28299999999999,
                    "maxspeed": "30 mph",
                    "name": "East Twiggs Street",
                    "oneway": false,
                    "osmid": 87174879,
                    "ref": null,
                    "style": {
                      "color": "black",
                      "fillColor": "black"
                    }
                  },
                  "geometry": {
                    "type": "LineString",
                    "coordinates": [
                      [
                        -82.456066,
                        27.950046
                      ],
                      [
                        -82.4561667,
                        27.9500109
                      ],
                      [
                        -82.45632,
                        27.949959
                      ],
                      [
                        -82.4568055,
                        27.9497928
                      ],
                      [
                        -82.456904,
                        27.949759
                      ]
                    ]
                  },
                  "bbox": [
                    -82.456904,
                    27.949759,
                    -82.456066,
                    27.950046
                  ]
                },
                {
                  "id": "(97876151, 97815626, 0)",
                  "type": "Feature",
                  "properties": {
                    "highway": "tertiary",
                    "lanes": "4",
                    "length": 89.12499999999999,
                    "maxspeed": null,
                    "name": "North Morgan Street",
                    "oneway": false,
                    "osmid": 168522075,
                    "ref": null,
                    "style": {
                      "color": "black",
                      "fillColor": "black"
                    }
                  },
                  "geometry": {
                    "type": "LineString",
                    "coordinates": [
                      [
                        -82.456066,
                        27.950046
                      ],
                      [
                        -82.4560273,
                        27.9499588
                      ],
                      [
                        -82.4557819,
                        27.9494039
                      ],
                      [
                        -82.4557374,
                        27.9492989
                      ]
                    ]
                  },
                  "bbox": [
                    -82.456066,
                    27.9492989,
                    -82.4557374,
                    27.950046
                  ]
                },
                {
                  "id": "(97876151, 97876153, 0)",
                  "type": "Feature",
                  "properties": {
                    "highway": "tertiary",
                    "lanes": "4",
                    "length": 89.614,
                    "maxspeed": null,
                    "name": "North Morgan Street",
                    "oneway": false,
                    "osmid": 168522075,
                    "ref": null,
                    "style": {
                      "color": "black",
                      "fillColor": "black"
                    }
                  },
                  "geometry": {
                    "type": "LineString",
                    "coordinates": [
                      [
                        -82.456066,
                        27.950046
                      ],
                      [
                        -82.4561123,
                        27.9501524
                      ],
                      [
                        -82.4561531,
                        27.9502462
                      ],
                      [
                        -82.456355,
                        27.9507105
                      ],
                      [
                        -82.4563932,
                        27.9507983
                      ]
                    ]
                  },
                  "bbox": [
                    -82.4563932,
                    27.950046,
                    -82.456066,
                    27.9507983
                  ]
                },
                {
                  "id": "(97876153, 97970376, 0)",
                  "type": "Feature",
                  "properties": {
                    "highway": "tertiary",
                    "lanes": "2",
                    "length": 88.47,
                    "maxspeed": null,
                    "name": "East Zack Street",
                    "oneway": false,
                    "osmid": 11000973,
                    "ref": null,
                    "style": {
                      "color": "black",
                      "fillColor": "black"
                    }
                  },
                  "geometry": {
                    "type": "LineString",
                    "coordinates": [
                      [
                        -82.4563932,
                        27.9507983
                      ],
                      [
                        -82.4562786,
                        27.9508362
                      ],
                      [
                        -82.4557835,
                        27.9510054
                      ],
                      [
                        -82.455661,
                        27.9510472
                      ],
                      [
                        -82.4555525,
                        27.9510838
                      ]
                    ]
                  },
                  "bbox": [
                    -82.4563932,
                    27.9507983,
                    -82.4555525,
                    27.9510838
                  ]
                },
                {
                  "id": "(97876153, 97775165, 0)",
                  "type": "Feature",
                  "properties": {
                    "highway": "tertiary",
                    "lanes": "2",
                    "length": 88.74799999999999,
                    "maxspeed": null,
                    "name": "East Zack Street",
                    "oneway": false,
                    "osmid": 11000973,
                    "ref": null,
                    "style": {
                      "color": "black",
                      "fillColor": "black"
                    }
                  },
                  "geometry": {
                    "type": "LineString",
                    "coordinates": [
                      [
                        -82.4563932,
                        27.9507983
                      ],
                      [
                        -82.456495,
                        27.9507634
                      ],
                      [
                        -82.4571368,
                        27.9505441
                      ],
                      [
                        -82.4572355,
                        27.9505095
                      ]
                    ]
                  },
                  "bbox": [
                    -82.4572355,
                    27.9505095,
                    -82.4563932,
                    27.9507983
                  ]
                },
                {
                  "id": "(97876153, 97876151, 0)",
                  "type": "Feature",
                  "properties": {
                    "highway": "tertiary",
                    "lanes": "4",
                    "length": 89.61399999999999,
                    "maxspeed": null,
                    "name": "North Morgan Street",
                    "oneway": false,
                    "osmid": 168522075,
                    "ref": null,
                    "style": {
                      "color": "black",
                      "fillColor": "black"
                    }
                  },
                  "geometry": {
                    "type": "LineString",
                    "coordinates": [
                      [
                        -82.4563932,
                        27.9507983
                      ],
                      [
                        -82.456355,
                        27.9507105
                      ],
                      [
                        -82.4561531,
                        27.9502462
                      ],
                      [
                        -82.4561123,
                        27.9501524
                      ],
                      [
                        -82.456066,
                        27.950046
                      ]
                    ]
                  },
                  "bbox": [
                    -82.4563932,
                    27.950046,
                    -82.456066,
                    27.9507983
                  ]
                },
                {
                  "id": "(97876153, 1870060169, 0)",
                  "type": "Feature",
                  "properties": {
                    "highway": "tertiary",
                    "lanes": "4",
                    "length": 82.20700000000001,
                    "maxspeed": null,
                    "name": "North Morgan Street",
                    "oneway": false,
                    "osmid": 168522075,
                    "ref": null,
                    "style": {
                      "color": "black",
                      "fillColor": "black"
                    }
                  },
                  "geometry": {
                    "type": "LineString",
                    "coordinates": [
                      [
                        -82.4563932,
                        27.9507983
                      ],
                      [
                        -82.4564338,
                        27.9508886
                      ],
                      [
                        -82.4566788,
                        27.9514358
                      ],
                      [
                        -82.4567021,
                        27.9514854
                      ]
                    ]
                  },
                  "bbox": [
                    -82.4567021,
                    27.9507983,
                    -82.4563932,
                    27.9514854
                  ]
                },
                {
                  "id": "(97925457, 975495316, 0)",
                  "type": "Feature",
                  "properties": {
                    "highway": "primary",
                    "lanes": "3",
                    "length": 89.45499999999998,
                    "maxspeed": "30 mph",
                    "name": "North Tampa Street",
                    "oneway": true,
                    "osmid": 190333972,
                    "ref": "US 41 Business",
                    "style": {
                      "color": "black",
                      "fillColor": "black"
                    }
                  },
                  "geometry": {
                    "type": "LineString",
                    "coordinates": [
                      [
                        -82.459428,
                        27.94889
                      ],
                      [
                        -82.4593896,
                        27.948803
                      ],
                      [
                        -82.4592645,
                        27.94852
                      ],
                      [
                        -82.4592601,
                        27.94851
                      ],
                      [
                        -82.4591445,
                        27.9482458
                      ],
                      [
                        -82.4590968,
                        27.9481406
                      ]
                    ]
                  },
                  "bbox": [
                    -82.459428,
                    27.9481406,
                    -82.4590968,
                    27.94889
                  ]
                },
                {
                  "id": "(97925457, 97928972, 0)",
                  "type": "Feature",
                  "properties": {
                    "highway": "tertiary",
                    "lanes": "2",
                    "length": 85.988,
                    "maxspeed": "30 mph",
                    "name": "East Twiggs Street",
                    "oneway": false,
                    "osmid": 794324838,
                    "ref": null,
                    "style": {
                      "color": "black",
                      "fillColor": "black"
                    }
                  },
                  "geometry": {
                    "type": "LineString",
                    "coordinates": [
                      [
                        -82.459428,
                        27.94889
                      ],
                      [
                        -82.4593218,
                        27.948926
                      ],
                      [
                        -82.4589351,
                        27.9490735
                      ],
                      [
                        -82.4586985,
                        27.949157
                      ],
                      [
                        -82.458618,
                        27.9491829
                      ]
                    ]
                  },
                  "bbox": [
                    -82.459428,
                    27.94889,
                    -82.458618,
                    27.9491829
                  ]
                },
                {
                  "id": "(97925459, 97925457, 0)",
                  "type": "Feature",
                  "properties": {
                    "highway": "primary",
                    "lanes": "3",
                    "length": 89.104,
                    "maxspeed": "30 mph",
                    "name": "North Tampa Street",
                    "oneway": true,
                    "osmid": 190333972,
                    "ref": "US 41 Business",
                    "style": {
                      "color": "black",
                      "fillColor": "black"
                    }
                  },
                  "geometry": {
                    "type": "LineString",
                    "coordinates": [
                      [
                        -82.4597618,
                        27.9496351
                      ],
                      [
                        -82.4597334,
                        27.9495732
                      ],
                      [
                        -82.4596473,
                        27.949379
                      ],
                      [
                        -82.4596452,
                        27.9493743
                      ],
                      [
                        -82.4596218,
                        27.9493224
                      ],
                      [
                        -82.4596132,
                        27.9493029
                      ],
                      [
                        -82.4594719,
                        27.9489877
                      ],
                      [
                        -82.459428,
                        27.94889
                      ]
                    ]
                  },
                  "bbox": [
                    -82.4597618,
                    27.94889,
                    -82.459428,
                    27.9496351
                  ]
                },
                {
                  "id": "(97925459, 97964888, 0)",
                  "type": "Feature",
                  "properties": {
                    "highway": "tertiary",
                    "lanes": "2",
                    "length": 92.024,
                    "maxspeed": null,
                    "name": "East Zack Street",
                    "oneway": false,
                    "osmid": 909318437,
                    "ref": null,
                    "style": {
                      "color": "black",
                      "fillColor": "black"
                    }
                  },
                  "geometry": {
                    "type": "LineString",
                    "coordinates": [
                      [
                        -82.4597618,
                        27.9496351
                      ],
                      [
                        -82.4596427,
                        27.949677
                      ],
                      [
                        -82.4592746,
                        27.9498061
                      ],
                      [
                        -82.4590041,
                        27.949901
                      ],
                      [
                        -82.4588911,
                        27.9499406
                      ]
                    ]
                  },
                  "bbox": [
                    -82.4597618,
                    27.9496351,
                    -82.4588911,
                    27.9499406
                  ]
                },
                {
                  "id": "(97927140, 97928978, 0)",
                  "type": "Feature",
                  "properties": {
                    "highway": "tertiary",
                    "lanes": "4",
                    "length": 94.40299999999999,
                    "maxspeed": "30 mph",
                    "name": "East Twiggs Street",
                    "oneway": false,
                    "osmid": 87174879,
                    "ref": null,
                    "style": {
                      "color": "black",
                      "fillColor": "black"
                    }
                  },
                  "geometry": {
                    "type": "LineString",
                    "coordinates": [
                      [
                        -82.4543834,
                        27.9506251
                      ],
                      [
                        -82.4542746,
                        27.9506623
                      ],
                      [
                        -82.4536385,
                        27.9508819
                      ],
                      [
                        -82.4535775,
                        27.9509037
                      ],
                      [
                        -82.4534884,
                        27.9509345
                      ]
                    ]
                  },
                  "bbox": [
                    -82.4543834,
                    27.9506251,
                    -82.4534884,
                    27.9509345
                  ]
                },
                {
                  "id": "(97927140, 97928976, 0)",
                  "type": "Feature",
                  "properties": {
                    "highway": "tertiary",
                    "lanes": "4",
                    "length": 88.68599999999999,
                    "maxspeed": "30 mph",
                    "name": "East Twiggs Street",
                    "oneway": false,
                    "osmid": 87174879,
                    "ref": null,
                    "style": {
                      "color": "black",
                      "fillColor": "black"
                    }
                  },
                  "geometry": {
                    "type": "LineString",
                    "coordinates": [
                      [
                        -82.4543834,
                        27.9506251
                      ],
                      [
                        -82.4544901,
                        27.9505879
                      ],
                      [
                        -82.4551043,
                        27.9503766
                      ],
                      [
                        -82.455224,
                        27.950334
                      ]
                    ]
                  },
                  "bbox": [
                    -82.455224,
                    27.950334,
                    -82.4543834,
                    27.9506251
                  ]
                },
                {
                  "id": "(97927140, 97927142, 0)",
                  "type": "Feature",
                  "properties": {
                    "highway": "secondary",
                    "lanes": "4",
                    "length": 87.532,
                    "maxspeed": "30 mph",
                    "name": "North Jefferson Street",
                    "oneway": false,
                    "osmid": 117012652,
                    "ref": null,
                    "style": {
                      "color": "black",
                      "fillColor": "black"
                    }
                  },
                  "geometry": {
                    "type": "LineString",
                    "coordinates": [
                      [
                        -82.4543834,
                        27.9506251
                      ],
                      [
                        -82.4544301,
                        27.9507312
                      ],
                      [
                        -82.4546725,
                        27.951283
                      ],
                      [
                        -82.4547077,
                        27.9513583
                      ]
                    ]
                  },
                  "bbox": [
                    -82.4547077,
                    27.9506251,
                    -82.4543834,
                    27.9513583
                  ]
                },
                {
                  "id": "(97927140, 97871017, 0)",
                  "type": "Feature",
                  "properties": {
                    "highway": "secondary",
                    "lanes": "4",
                    "length": 176.897,
                    "maxspeed": "30 mph",
                    "name": "North Jefferson Street",
                    "oneway": false,
                    "osmid": 117012652,
                    "ref": null,
                    "style": {
                      "color": "black",
                      "fillColor": "black"
                    }
                  },
                  "geometry": {
                    "type": "LineString",
                    "coordinates": [
                      [
                        -82.4543834,
                        27.9506251
                      ],
                      [
                        -82.4543405,
                        27.9505283
                      ],
                      [
                        -82.4541757,
                        27.9501552
                      ],
                      [
                        -82.4540413,
                        27.949851
                      ],
                      [
                        -82.4539279,
                        27.9495938
                      ],
                      [
                        -82.4537686,
                        27.9492326
                      ],
                      [
                        -82.4537286,
                        27.9491431
                      ]
                    ]
                  },
                  "bbox": [
                    -82.4543834,
                    27.9491431,
                    -82.4537286,
                    27.9506251
                  ]
                },
                {
                  "id": "(97927142, 97970376, 0)",
                  "type": "Feature",
                  "properties": {
                    "highway": "tertiary",
                    "lanes": "2",
                    "length": 88.418,
                    "maxspeed": null,
                    "name": "East Zack Street",
                    "oneway": false,
                    "osmid": 11000973,
                    "ref": null,
                    "style": {
                      "color": "black",
                      "fillColor": "black"
                    }
                  },
                  "geometry": {
                    "type": "LineString",
                    "coordinates": [
                      [
                        -82.4547077,
                        27.9513583
                      ],
                      [
                        -82.4548056,
                        27.9513284
                      ],
                      [
                        -82.455271,
                        27.951175
                      ],
                      [
                        -82.4552812,
                        27.9511717
                      ],
                      [
                        -82.4554404,
                        27.9511201
                      ],
                      [
                        -82.4555525,
                        27.9510838
                      ]
                    ]
                  },
                  "bbox": [
                    -82.4555525,
                    27.9510838,
                    -82.4547077,
                    27.9513583
                  ]
                },
                {
                  "id": "(97927142, 1870060205, 0)",
                  "type": "Feature",
                  "properties": {
                    "highway": "secondary",
                    "lanes": "4",
                    "length": 84.01500000000001,
                    "maxspeed": "30 mph",
                    "name": "North Jefferson Street",
                    "oneway": false,
                    "osmid": 117012652,
                    "ref": null,
                    "style": {
                      "color": "black",
                      "fillColor": "black"
                    }
                  },
                  "geometry": {
                    "type": "LineString",
                    "coordinates": [
                      [
                        -82.4547077,
                        27.9513583
                      ],
                      [
                        -82.4547478,
                        27.9514488
                      ],
                      [
                        -82.4548623,
                        27.9517075
                      ],
                      [
                        -82.4549634,
                        27.951936
                      ],
                      [
                        -82.4549705,
                        27.9519521
                      ],
                      [
                        -82.4550191,
                        27.952062
                      ]
                    ]
                  },
                  "bbox": [
                    -82.4550191,
                    27.9513583,
                    -82.4547077,
                    27.952062
                  ]
                },
                {
                  "id": "(97927142, 97927140, 0)",
                  "type": "Feature",
                  "properties": {
                    "highway": "secondary",
                    "lanes": "4",
                    "length": 87.532,
                    "maxspeed": "30 mph",
                    "name": "North Jefferson Street",
                    "oneway": false,
                    "osmid": 117012652,
                    "ref": null,
                    "style": {
                      "color": "black",
                      "fillColor": "black"
                    }
                  },
                  "geometry": {
                    "type": "LineString",
                    "coordinates": [
                      [
                        -82.4547077,
                        27.9513583
                      ],
                      [
                        -82.4546725,
                        27.951283
                      ],
                      [
                        -82.4544301,
                        27.9507312
                      ],
                      [
                        -82.4543834,
                        27.9506251
                      ]
                    ]
                  },
                  "bbox": [
                    -82.4547077,
                    27.9506251,
                    -82.4543834,
                    27.9513583
                  ]
                },
                {
                  "id": "(97928972, 97928974, 0)",
                  "type": "Feature",
                  "properties": {
                    "highway": "tertiary",
                    "lanes": "3",
                    "length": 91.66499999999999,
                    "maxspeed": "30 mph",
                    "name": "East Twiggs Street",
                    "oneway": false,
                    "osmid": 87174882,
                    "ref": null,
                    "style": {
                      "color": "black",
                      "fillColor": "black"
                    }
                  },
                  "geometry": {
                    "type": "LineString",
                    "coordinates": [
                      [
                        -82.458618,
                        27.9491829
                      ],
                      [
                        -82.4585562,
                        27.949201
                      ],
                      [
                        -82.4581077,
                        27.9493472
                      ],
                      [
                        -82.4580167,
                        27.9493768
                      ],
                      [
                        -82.4578494,
                        27.9494309
                      ],
                      [
                        -82.457742,
                        27.949467
                      ]
                    ]
                  },
                  "bbox": [
                    -82.458618,
                    27.9491829,
                    -82.457742,
                    27.949467
                  ]
                },
                {
                  "id": "(97928972, 975495315, 0)",
                  "type": "Feature",
                  "properties": {
                    "highway": "unclassified",
                    "lanes": "2",
                    "length": 91.496,
                    "maxspeed": null,
                    "name": "North Franklin Street",
                    "oneway": false,
                    "osmid": 203993896,
                    "ref": null,
                    "style": {
                      "color": "black",
                      "fillColor": "black"
                    }
                  },
                  "geometry": {
                    "type": "LineString",
                    "coordinates": [
                      [
                        -82.458618,
                        27.9491829
                      ],
                      [
                        -82.4585839,
                        27.9490963
                      ],
                      [
                        -82.4585645,
                        27.949054
                      ],
                      [
                        -82.4585201,
                        27.9489467
                      ],
                      [
                        -82.4585054,
                        27.948917
                      ],
                      [
                        -82.4584889,
                        27.9488887
                      ],
                      [
                        -82.4584639,
                        27.9488534
                      ],
                      [
                        -82.4584318,
                        27.9488181
                      ],
                      [
                        -82.4583966,
                        27.9487773
                      ],
                      [
                        -82.4583808,
                        27.9487549
                      ],
                      [
                        -82.4583676,
                        27.9487325
                      ],
                      [
                        -82.4582772,
                        27.9485287
                      ],
                      [
                        -82.4582366,
                        27.9484372
                      ]
                    ]
                  },
                  "bbox": [
                    -82.458618,
                    27.9484372,
                    -82.4582366,
                    27.9491829
                  ]
                },
                {
                  "id": "(97928972, 97964888, 0)",
                  "type": "Feature",
                  "properties": {
                    "highway": "unclassified",
                    "lanes": "2",
                    "length": 88.943,
                    "maxspeed": null,
                    "name": "North Franklin Street",
                    "oneway": false,
                    "osmid": 203993896,
                    "ref": null,
                    "style": {
                      "color": "black",
                      "fillColor": "black"
                    }
                  },
                  "geometry": {
                    "type": "LineString",
                    "coordinates": [
                      [
                        -82.458618,
                        27.9491829
                      ],
                      [
                        -82.4586546,
                        27.9492665
                      ],
                      [
                        -82.4587326,
                        27.9494506
                      ],
                      [
                        -82.4587425,
                        27.9494792
                      ],
                      [
                        -82.4587489,
                        27.9495085
                      ],
                      [
                        -82.458751,
                        27.9495446
                      ],
                      [
                        -82.4587546,
                        27.9496014
                      ],
                      [
                        -82.4587586,
                        27.9496299
                      ],
                      [
                        -82.4587671,
                        27.9496575
                      ],
                      [
                        -82.4588616,
                        27.9498769
                      ],
                      [
                        -82.4588911,
                        27.9499406
                      ]
                    ]
                  },
                  "bbox": [
                    -82.4588911,
                    27.9491829,
                    -82.458618,
                    27.9499406
                  ]
                },
                {
                  "id": "(97928972, 97925457, 0)",
                  "type": "Feature",
                  "properties": {
                    "highway": "tertiary",
                    "lanes": "2",
                    "length": 85.988,
                    "maxspeed": "30 mph",
                    "name": "East Twiggs Street",
                    "oneway": false,
                    "osmid": 794324838,
                    "ref": null,
                    "style": {
                      "color": "black",
                      "fillColor": "black"
                    }
                  },
                  "geometry": {
                    "type": "LineString",
                    "coordinates": [
                      [
                        -82.458618,
                        27.9491829
                      ],
                      [
                        -82.4586985,
                        27.949157
                      ],
                      [
                        -82.4589351,
                        27.9490735
                      ],
                      [
                        -82.4593218,
                        27.948926
                      ],
                      [
                        -82.459428,
                        27.94889
                      ]
                    ]
                  },
                  "bbox": [
                    -82.459428,
                    27.94889,
                    -82.458618,
                    27.9491829
                  ]
                },
                {
                  "id": "(97928974, 97942623, 0)",
                  "type": "Feature",
                  "properties": {
                    "highway": "primary",
                    "lanes": "4",
                    "length": 90.61200000000001,
                    "maxspeed": "35 mph",
                    "name": "North Florida Avenue",
                    "oneway": true,
                    "osmid": 47222465,
                    "ref": "US 41 Business",
                    "style": {
                      "color": "black",
                      "fillColor": "black"
                    }
                  },
                  "geometry": {
                    "type": "LineString",
                    "coordinates": [
                      [
                        -82.457742,
                        27.949467
                      ],
                      [
                        -82.4577853,
                        27.9495598
                      ],
                      [
                        -82.4580361,
                        27.9501284
                      ],
                      [
                        -82.4580774,
                        27.9502261
                      ]
                    ]
                  },
                  "bbox": [
                    -82.4580774,
                    27.949467,
                    -82.457742,
                    27.9502261
                  ]
                },
                {
                  "id": "(97928974, 97775163, 0)",
                  "type": "Feature",
                  "properties": {
                    "highway": "tertiary",
                    "lanes": "4",
                    "length": 88.487,
                    "maxspeed": "30 mph",
                    "name": "East Twiggs Street",
                    "oneway": false,
                    "osmid": 87174879,
                    "ref": null,
                    "style": {
                      "color": "black",
                      "fillColor": "black"
                    }
                  },
                  "geometry": {
                    "type": "LineString",
                    "coordinates": [
                      [
                        -82.457742,
                        27.949467
                      ],
                      [
                        -82.457635,
                        27.9495045
                      ],
                      [
                        -82.4569898,
                        27.9497307
                      ],
                      [
                        -82.456904,
                        27.949759
                      ]
                    ]
                  },
                  "bbox": [
                    -82.457742,
                    27.949467,
                    -82.456904,
                    27.949759
                  ]
                },
                {
                  "id": "(97928974, 97928972, 0)",
                  "type": "Feature",
                  "properties": {
                    "highway": "tertiary",
                    "lanes": "3",
                    "length": 91.66499999999999,
                    "maxspeed": "30 mph",
                    "name": "East Twiggs Street",
                    "oneway": false,
                    "osmid": 87174882,
                    "ref": null,
                    "style": {
                      "color": "black",
                      "fillColor": "black"
                    }
                  },
                  "geometry": {
                    "type": "LineString",
                    "coordinates": [
                      [
                        -82.457742,
                        27.949467
                      ],
                      [
                        -82.4578494,
                        27.9494309
                      ],
                      [
                        -82.4580167,
                        27.9493768
                      ],
                      [
                        -82.4581077,
                        27.9493472
                      ],
                      [
                        -82.4585562,
                        27.949201
                      ],
                      [
                        -82.458618,
                        27.9491829
                      ]
                    ]
                  },
                  "bbox": [
                    -82.458618,
                    27.9491829,
                    -82.457742,
                    27.949467
                  ]
                },
                {
                  "id": "(97928976, 97927140, 0)",
                  "type": "Feature",
                  "properties": {
                    "highway": "tertiary",
                    "lanes": "4",
                    "length": 88.68599999999999,
                    "maxspeed": "30 mph",
                    "name": "East Twiggs Street",
                    "oneway": false,
                    "osmid": 87174879,
                    "ref": null,
                    "style": {
                      "color": "black",
                      "fillColor": "black"
                    }
                  },
                  "geometry": {
                    "type": "LineString",
                    "coordinates": [
                      [
                        -82.455224,
                        27.950334
                      ],
                      [
                        -82.4551043,
                        27.9503766
                      ],
                      [
                        -82.4544901,
                        27.9505879
                      ],
                      [
                        -82.4543834,
                        27.9506251
                      ]
                    ]
                  },
                  "bbox": [
                    -82.455224,
                    27.950334,
                    -82.4543834,
                    27.9506251
                  ]
                },
                {
                  "id": "(97928976, 97876151, 0)",
                  "type": "Feature",
                  "properties": {
                    "highway": "tertiary",
                    "lanes": "4",
                    "length": 88.68900000000001,
                    "maxspeed": "30 mph",
                    "name": "East Twiggs Street",
                    "oneway": false,
                    "osmid": 87174879,
                    "ref": null,
                    "style": {
                      "color": "black",
                      "fillColor": "black"
                    }
                  },
                  "geometry": {
                    "type": "LineString",
                    "coordinates": [
                      [
                        -82.455224,
                        27.950334
                      ],
                      [
                        -82.455333,
                        27.9502959
                      ],
                      [
                        -82.4556937,
                        27.9501733
                      ],
                      [
                        -82.4559605,
                        27.9500819
                      ],
                      [
                        -82.456066,
                        27.950046
                      ]
                    ]
                  },
                  "bbox": [
                    -82.456066,
                    27.950046,
                    -82.455224,
                    27.950334
                  ]
                },
                {
                  "id": "(97928976, 97815628, 0)",
                  "type": "Feature",
                  "properties": {
                    "highway": "secondary",
                    "lanes": "4",
                    "length": 88.88499999999999,
                    "maxspeed": "unposted",
                    "name": "Pierce Street",
                    "oneway": true,
                    "osmid": 87659447,
                    "ref": null,
                    "style": {
                      "color": "black",
                      "fillColor": "black"
                    }
                  },
                  "geometry": {
                    "type": "LineString",
                    "coordinates": [
                      [
                        -82.455224,
                        27.950334
                      ],
                      [
                        -82.455184,
                        27.9502429
                      ],
                      [
                        -82.4549338,
                        27.9496767
                      ],
                      [
                        -82.454896,
                        27.949589
                      ]
                    ]
                  },
                  "bbox": [
                    -82.455224,
                    27.949589,
                    -82.454896,
                    27.950334
                  ]
                },
                {
                  "id": "(97928978, 1993753395, 0)",
                  "type": "Feature",
                  "properties": {
                    "highway": "residential",
                    "lanes": null,
                    "length": 172.229,
                    "maxspeed": null,
                    "name": "East Street",
                    "oneway": false,
                    "osmid": 25886894,
                    "ref": null,
                    "style": {
                      "color": "black",
                      "fillColor": "black"
                    }
                  },
                  "geometry": {
                    "type": "LineString",
                    "coordinates": [
                      [
                        -82.4534884,
                        27.9509345
                      ],
                      [
                        -82.4534498,
                        27.9508475
                      ],
                      [
                        -82.4532935,
                        27.9504951
                      ],
                      [
                        -82.4532555,
                        27.9504096
                      ],
                      [
                        -82.4532102,
                        27.9503075
                      ],
                      [
                        -82.4531017,
                        27.9500629
                      ],
                      [
                        -82.4530571,
                        27.9499623
                      ],
                      [
                        -82.453004,
                        27.9498427
                      ],
                      [
                        -82.4528703,
                        27.9495405
                      ],
                      [
                        -82.4528486,
                        27.9494924
                      ]
                    ]
                  },
                  "bbox": [
                    -82.4534884,
                    27.9494924,
                    -82.4528486,
                    27.9509345
                  ]
                },
                {
                  "id": "(97928978, 97927140, 0)",
                  "type": "Feature",
                  "properties": {
                    "highway": "tertiary",
                    "lanes": "4",
                    "length": 94.403,
                    "maxspeed": "30 mph",
                    "name": "East Twiggs Street",
                    "oneway": false,
                    "osmid": 87174879,
                    "ref": null,
                    "style": {
                      "color": "black",
                      "fillColor": "black"
                    }
                  },
                  "geometry": {
                    "type": "LineString",
                    "coordinates": [
                      [
                        -82.4534884,
                        27.9509345
                      ],
                      [
                        -82.4535775,
                        27.9509037
                      ],
                      [
                        -82.4536385,
                        27.9508819
                      ],
                      [
                        -82.4542746,
                        27.9506623
                      ],
                      [
                        -82.4543834,
                        27.9506251
                      ]
                    ]
                  },
                  "bbox": [
                    -82.4543834,
                    27.9506251,
                    -82.4534884,
                    27.9509345
                  ]
                },
                {
                  "id": "(97942623, 1870060119, 0)",
                  "type": "Feature",
                  "properties": {
                    "highway": "primary",
                    "lanes": "4",
                    "length": 80.713,
                    "maxspeed": "35 mph",
                    "name": "North Florida Avenue",
                    "oneway": true,
                    "osmid": 47222465,
                    "ref": "US 41 Business",
                    "style": {
                      "color": "black",
                      "fillColor": "black"
                    }
                  },
                  "geometry": {
                    "type": "LineString",
                    "coordinates": [
                      [
                        -82.4580774,
                        27.9502261
                      ],
                      [
                        -82.4581131,
                        27.9503037
                      ],
                      [
                        -82.4583524,
                        27.950864
                      ],
                      [
                        -82.458369,
                        27.9509047
                      ]
                    ]
                  },
                  "bbox": [
                    -82.458369,
                    27.9502261,
                    -82.4580774,
                    27.9509047
                  ]
                },
                {
                  "id": "(97942623, 97775165, 0)",
                  "type": "Feature",
                  "properties": {
                    "highway": "tertiary",
                    "lanes": "2",
                    "length": 88.52199999999999,
                    "maxspeed": null,
                    "name": "East Zack Street",
                    "oneway": false,
                    "osmid": [
                      909318437,
                      11000973
                    ],
                    "ref": null,
                    "style": {
                      "color": "black",
                      "fillColor": "black"
                    }
                  },
                  "geometry": {
                    "type": "LineString",
                    "coordinates": [
                      [
                        -82.4580774,
                        27.9502261
                      ],
                      [
                        -82.4579718,
                        27.9502555
                      ],
                      [
                        -82.4576558,
                        27.9503609
                      ],
                      [
                        -82.4573245,
                        27.9504773
                      ],
                      [
                        -82.4572355,
                        27.9505095
                      ]
                    ]
                  },
                  "bbox": [
                    -82.4580774,
                    27.9502261,
                    -82.4572355,
                    27.9505095
                  ]
                },
                {
                  "id": "(97942623, 97964888, 0)",
                  "type": "Feature",
                  "properties": {
                    "highway": "tertiary",
                    "lanes": "2",
                    "length": 86,
                    "maxspeed": null,
                    "name": "East Zack Street",
                    "oneway": false,
                    "osmid": 909318437,
                    "ref": null,
                    "style": {
                      "color": "black",
                      "fillColor": "black"
                    }
                  },
                  "geometry": {
                    "type": "LineString",
                    "coordinates": [
                      [
                        -82.4580774,
                        27.9502261
                      ],
                      [
                        -82.4581899,
                        27.9501866
                      ],
                      [
                        -82.4583363,
                        27.9501353
                      ],
                      [
                        -82.458423,
                        27.9501048
                      ],
                      [
                        -82.4588155,
                        27.9499671
                      ],
                      [
                        -82.4588911,
                        27.9499406
                      ]
                    ]
                  },
                  "bbox": [
                    -82.4588911,
                    27.9499406,
                    -82.4580774,
                    27.9502261
                  ]
                },
                {
                  "id": "(97964888, 97928972, 0)",
                  "type": "Feature",
                  "properties": {
                    "highway": "unclassified",
                    "lanes": "2",
                    "length": 88.943,
                    "maxspeed": null,
                    "name": "North Franklin Street",
                    "oneway": false,
                    "osmid": 203993896,
                    "ref": null,
                    "style": {
                      "color": "black",
                      "fillColor": "black"
                    }
                  },
                  "geometry": {
                    "type": "LineString",
                    "coordinates": [
                      [
                        -82.4588911,
                        27.9499406
                      ],
                      [
                        -82.4588616,
                        27.9498769
                      ],
                      [
                        -82.4587671,
                        27.9496575
                      ],
                      [
                        -82.4587586,
                        27.9496299
                      ],
                      [
                        -82.4587546,
                        27.9496014
                      ],
                      [
                        -82.458751,
                        27.9495446
                      ],
                      [
                        -82.4587489,
                        27.9495085
                      ],
                      [
                        -82.4587425,
                        27.9494792
                      ],
                      [
                        -82.4587326,
                        27.9494506
                      ],
                      [
                        -82.4586546,
                        27.9492665
                      ],
                      [
                        -82.458618,
                        27.9491829
                      ]
                    ]
                  },
                  "bbox": [
                    -82.4588911,
                    27.9491829,
                    -82.458618,
                    27.9499406
                  ]
                },
                {
                  "id": "(97964888, 1870060195, 0)",
                  "type": "Feature",
                  "properties": {
                    "highway": "unclassified",
                    "lanes": "2",
                    "length": 83.18299999999999,
                    "maxspeed": null,
                    "name": "North Franklin Street",
                    "oneway": false,
                    "osmid": 203993896,
                    "ref": null,
                    "style": {
                      "color": "black",
                      "fillColor": "black"
                    }
                  },
                  "geometry": {
                    "type": "LineString",
                    "coordinates": [
                      [
                        -82.4588911,
                        27.9499406
                      ],
                      [
                        -82.4589191,
                        27.9499995
                      ],
                      [
                        -82.4590101,
                        27.9502103
                      ],
                      [
                        -82.4590268,
                        27.9502419
                      ],
                      [
                        -82.4590496,
                        27.9502725
                      ],
                      [
                        -82.4590795,
                        27.9503014
                      ],
                      [
                        -82.4591034,
                        27.9503276
                      ],
                      [
                        -82.4591262,
                        27.9503574
                      ],
                      [
                        -82.459146,
                        27.950389
                      ],
                      [
                        -82.4591723,
                        27.9504504
                      ],
                      [
                        -82.4592266,
                        27.9505643
                      ],
                      [
                        -82.4592474,
                        27.950614
                      ]
                    ]
                  },
                  "bbox": [
                    -82.4592474,
                    27.9499406,
                    -82.4588911,
                    27.950614
                  ]
                },
                {
                  "id": "(97964888, 97942623, 0)",
                  "type": "Feature",
                  "properties": {
                    "highway": "tertiary",
                    "lanes": "2",
                    "length": 86,
                    "maxspeed": null,
                    "name": "East Zack Street",
                    "oneway": false,
                    "osmid": 909318437,
                    "ref": null,
                    "style": {
                      "color": "black",
                      "fillColor": "black"
                    }
                  },
                  "geometry": {
                    "type": "LineString",
                    "coordinates": [
                      [
                        -82.4588911,
                        27.9499406
                      ],
                      [
                        -82.4588155,
                        27.9499671
                      ],
                      [
                        -82.458423,
                        27.9501048
                      ],
                      [
                        -82.4583363,
                        27.9501353
                      ],
                      [
                        -82.4581899,
                        27.9501866
                      ],
                      [
                        -82.4580774,
                        27.9502261
                      ]
                    ]
                  },
                  "bbox": [
                    -82.4588911,
                    27.9499406,
                    -82.4580774,
                    27.9502261
                  ]
                },
                {
                  "id": "(97964888, 97925459, 0)",
                  "type": "Feature",
                  "properties": {
                    "highway": "tertiary",
                    "lanes": "2",
                    "length": 92.024,
                    "maxspeed": null,
                    "name": "East Zack Street",
                    "oneway": false,
                    "osmid": 909318437,
                    "ref": null,
                    "style": {
                      "color": "black",
                      "fillColor": "black"
                    }
                  },
                  "geometry": {
                    "type": "LineString",
                    "coordinates": [
                      [
                        -82.4588911,
                        27.9499406
                      ],
                      [
                        -82.4590041,
                        27.949901
                      ],
                      [
                        -82.4592746,
                        27.9498061
                      ],
                      [
                        -82.4596427,
                        27.949677
                      ],
                      [
                        -82.4597618,
                        27.9496351
                      ]
                    ]
                  },
                  "bbox": [
                    -82.4597618,
                    27.9496351,
                    -82.4588911,
                    27.9499406
                  ]
                },
                {
                  "id": "(97970376, 97927142, 0)",
                  "type": "Feature",
                  "properties": {
                    "highway": "tertiary",
                    "lanes": "2",
                    "length": 88.41799999999999,
                    "maxspeed": null,
                    "name": "East Zack Street",
                    "oneway": false,
                    "osmid": 11000973,
                    "ref": null,
                    "style": {
                      "color": "black",
                      "fillColor": "black"
                    }
                  },
                  "geometry": {
                    "type": "LineString",
                    "coordinates": [
                      [
                        -82.4555525,
                        27.9510838
                      ],
                      [
                        -82.4554404,
                        27.9511201
                      ],
                      [
                        -82.4552812,
                        27.9511717
                      ],
                      [
                        -82.455271,
                        27.951175
                      ],
                      [
                        -82.4548056,
                        27.9513284
                      ],
                      [
                        -82.4547077,
                        27.9513583
                      ]
                    ]
                  },
                  "bbox": [
                    -82.4555525,
                    27.9510838,
                    -82.4547077,
                    27.9513583
                  ]
                },
                {
                  "id": "(97970376, 97876153, 0)",
                  "type": "Feature",
                  "properties": {
                    "highway": "tertiary",
                    "lanes": "2",
                    "length": 88.47,
                    "maxspeed": null,
                    "name": "East Zack Street",
                    "oneway": false,
                    "osmid": 11000973,
                    "ref": null,
                    "style": {
                      "color": "black",
                      "fillColor": "black"
                    }
                  },
                  "geometry": {
                    "type": "LineString",
                    "coordinates": [
                      [
                        -82.4555525,
                        27.9510838
                      ],
                      [
                        -82.455661,
                        27.9510472
                      ],
                      [
                        -82.4557835,
                        27.9510054
                      ],
                      [
                        -82.4562786,
                        27.9508362
                      ],
                      [
                        -82.4563932,
                        27.9507983
                      ]
                    ]
                  },
                  "bbox": [
                    -82.4563932,
                    27.9507983,
                    -82.4555525,
                    27.9510838
                  ]
                },
                {
                  "id": "(97970376, 97928976, 0)",
                  "type": "Feature",
                  "properties": {
                    "highway": "secondary",
                    "lanes": "4",
                    "length": 89.40199999999999,
                    "maxspeed": "unposted",
                    "name": "Pierce Street",
                    "oneway": true,
                    "osmid": 87659447,
                    "ref": null,
                    "style": {
                      "color": "black",
                      "fillColor": "black"
                    }
                  },
                  "geometry": {
                    "type": "LineString",
                    "coordinates": [
                      [
                        -82.4555525,
                        27.9510838
                      ],
                      [
                        -82.4555163,
                        27.9509993
                      ],
                      [
                        -82.4554838,
                        27.9509268
                      ],
                      [
                        -82.4554803,
                        27.950919
                      ],
                      [
                        -82.4554742,
                        27.950905
                      ],
                      [
                        -82.4554711,
                        27.950898
                      ],
                      [
                        -82.4554215,
                        27.9507847
                      ],
                      [
                        -82.4554193,
                        27.9507798
                      ],
                      [
                        -82.4553762,
                        27.9506818
                      ],
                      [
                        -82.455348,
                        27.9506178
                      ],
                      [
                        -82.4552707,
                        27.9504419
                      ],
                      [
                        -82.455224,
                        27.950334
                      ]
                    ]
                  },
                  "bbox": [
                    -82.4555525,
                    27.950334,
                    -82.455224,
                    27.9510838
                  ]
                },
                {
                  "id": "(320166852, 320166965, 0)",
                  "type": "Feature",
                  "properties": {
                    "highway": "tertiary",
                    "lanes": "1",
                    "length": 87.89,
                    "maxspeed": null,
                    "name": "Polk Street",
                    "oneway": true,
                    "osmid": 176372706,
                    "ref": null,
                    "style": {
                      "color": "black",
                      "fillColor": "black"
                    }
                  },
                  "geometry": {
                    "type": "LineString",
                    "coordinates": [
                      [
                        -82.4550641,
                        27.9521639
                      ],
                      [
                        -82.4551635,
                        27.9521273
                      ],
                      [
                        -82.4552022,
                        27.9521142
                      ],
                      [
                        -82.4557987,
                        27.9519187
                      ],
                      [
                        -82.4559013,
                        27.9518851
                      ]
                    ]
                  },
                  "bbox": [
                    -82.4559013,
                    27.9518851,
                    -82.4550641,
                    27.9521639
                  ]
                },
                {
                  "id": "(320166965, 1870060124, 0)",
                  "type": "Feature",
                  "properties": {
                    "highway": "secondary",
                    "lanes": "4",
                    "length": 13.331,
                    "maxspeed": "unposted",
                    "name": "Pierce Street",
                    "oneway": true,
                    "osmid": 87659447,
                    "ref": null,
                    "style": {
                      "color": "black",
                      "fillColor": "black"
                    }
                  },
                  "geometry": {
                    "type": "LineString",
                    "coordinates": [
                      [
                        -82.4559013,
                        27.9518851
                      ],
                      [
                        -82.4558771,
                        27.9518297
                      ],
                      [
                        -82.4558526,
                        27.9517732
                      ]
                    ]
                  },
                  "bbox": [
                    -82.4559013,
                    27.9517732,
                    -82.4558526,
                    27.9518851
                  ]
                },
                {
                  "id": "(320166965, 1870060202, 0)",
                  "type": "Feature",
                  "properties": {
                    "highway": "tertiary",
                    "lanes": "1",
                    "length": 89.45599999999999,
                    "maxspeed": null,
                    "name": "Polk Street",
                    "oneway": true,
                    "osmid": 176372706,
                    "ref": null,
                    "style": {
                      "color": "black",
                      "fillColor": "black"
                    }
                  },
                  "geometry": {
                    "type": "LineString",
                    "coordinates": [
                      [
                        -82.4559013,
                        27.9518851
                      ],
                      [
                        -82.4560054,
                        27.9518487
                      ],
                      [
                        -82.4562309,
                        27.9517694
                      ],
                      [
                        -82.4566397,
                        27.9516379
                      ],
                      [
                        -82.4567536,
                        27.9516018
                      ]
                    ]
                  },
                  "bbox": [
                    -82.4567536,
                    27.9516018,
                    -82.4559013,
                    27.9518851
                  ]
                },
                {
                  "id": "(474972598, 97928974, 0)",
                  "type": "Feature",
                  "properties": {
                    "highway": "primary",
                    "lanes": "4",
                    "length": 89.021,
                    "maxspeed": "35 mph",
                    "name": "North Florida Avenue",
                    "oneway": true,
                    "osmid": 47222465,
                    "ref": "US 41 Business",
                    "style": {
                      "color": "black",
                      "fillColor": "black"
                    }
                  },
                  "geometry": {
                    "type": "LineString",
                    "coordinates": [
                      [
                        -82.4574238,
                        27.9487174
                      ],
                      [
                        -82.4574634,
                        27.9488104
                      ],
                      [
                        -82.4575684,
                        27.9490581
                      ],
                      [
                        -82.4577099,
                        27.949389
                      ],
                      [
                        -82.457742,
                        27.949467
                      ]
                    ]
                  },
                  "bbox": [
                    -82.457742,
                    27.9487174,
                    -82.4574238,
                    27.949467
                  ]
                },
                {
                  "id": "(474972598, 97775158, 0)",
                  "type": "Feature",
                  "properties": {
                    "highway": "tertiary",
                    "lanes": "2",
                    "length": 88.689,
                    "maxspeed": null,
                    "name": "East Madison Street",
                    "oneway": false,
                    "osmid": 932449456,
                    "ref": null,
                    "style": {
                      "color": "black",
                      "fillColor": "black"
                    }
                  },
                  "geometry": {
                    "type": "LineString",
                    "coordinates": [
                      [
                        -82.4574238,
                        27.9487174
                      ],
                      [
                        -82.4573078,
                        27.9487587
                      ],
                      [
                        -82.456919,
                        27.948892
                      ],
                      [
                        -82.4566673,
                        27.9489783
                      ],
                      [
                        -82.4565827,
                        27.9490074
                      ]
                    ]
                  },
                  "bbox": [
                    -82.4574238,
                    27.9487174,
                    -82.4565827,
                    27.9490074
                  ]
                },
                {
                  "id": "(474972598, 975495315, 0)",
                  "type": "Feature",
                  "properties": {
                    "highway": "tertiary",
                    "lanes": "2",
                    "length": 85.702,
                    "maxspeed": null,
                    "name": "East Madison Street",
                    "oneway": false,
                    "osmid": 932449456,
                    "ref": null,
                    "style": {
                      "color": "black",
                      "fillColor": "black"
                    }
                  },
                  "geometry": {
                    "type": "LineString",
                    "coordinates": [
                      [
                        -82.4574238,
                        27.9487174
                      ],
                      [
                        -82.4575218,
                        27.9486836
                      ],
                      [
                        -82.457683,
                        27.948628
                      ],
                      [
                        -82.4581553,
                        27.9484652
                      ],
                      [
                        -82.4582366,
                        27.9484372
                      ]
                    ]
                  },
                  "bbox": [
                    -82.4582366,
                    27.9484372,
                    -82.4574238,
                    27.9487174
                  ]
                },
                {
                  "id": "(942206728, 97871014, 0)",
                  "type": "Feature",
                  "properties": {
                    "highway": "primary",
                    "lanes": "4",
                    "length": 88.11,
                    "maxspeed": "30 mph",
                    "name": "East Kennedy Boulevard",
                    "oneway": true,
                    "osmid": 645485053,
                    "ref": "US 41 Business;FL 60",
                    "style": {
                      "color": "black",
                      "fillColor": "black"
                    }
                  },
                  "geometry": {
                    "type": "LineString",
                    "coordinates": [
                      [
                        -82.4545754,
                        27.9488521
                      ],
                      [
                        -82.4546862,
                        27.9488135
                      ],
                      [
                        -82.4552984,
                        27.9486004
                      ],
                      [
                        -82.4554104,
                        27.9485626
                      ]
                    ]
                  },
                  "bbox": [
                    -82.4554104,
                    27.9485626,
                    -82.4545754,
                    27.9488521
                  ]
                },
                {
                  "id": "(975495315, 975495316, 0)",
                  "type": "Feature",
                  "properties": {
                    "highway": "tertiary",
                    "lanes": "2",
                    "length": 90.70299999999999,
                    "maxspeed": null,
                    "name": "East Madison Street",
                    "oneway": false,
                    "osmid": 10974153,
                    "ref": null,
                    "style": {
                      "color": "black",
                      "fillColor": "black"
                    }
                  },
                  "geometry": {
                    "type": "LineString",
                    "coordinates": [
                      [
                        -82.4582366,
                        27.9484372
                      ],
                      [
                        -82.4583631,
                        27.9483936
                      ],
                      [
                        -82.4589952,
                        27.9481755
                      ],
                      [
                        -82.4590968,
                        27.9481406
                      ]
                    ]
                  },
                  "bbox": [
                    -82.4590968,
                    27.9481406,
                    -82.4582366,
                    27.9484372
                  ]
                },
                {
                  "id": "(975495315, 97928972, 0)",
                  "type": "Feature",
                  "properties": {
                    "highway": "unclassified",
                    "lanes": "2",
                    "length": 91.49600000000001,
                    "maxspeed": null,
                    "name": "North Franklin Street",
                    "oneway": false,
                    "osmid": 203993896,
                    "ref": null,
                    "style": {
                      "color": "black",
                      "fillColor": "black"
                    }
                  },
                  "geometry": {
                    "type": "LineString",
                    "coordinates": [
                      [
                        -82.4582366,
                        27.9484372
                      ],
                      [
                        -82.4582772,
                        27.9485287
                      ],
                      [
                        -82.4583676,
                        27.9487325
                      ],
                      [
                        -82.4583808,
                        27.9487549
                      ],
                      [
                        -82.4583966,
                        27.9487773
                      ],
                      [
                        -82.4584318,
                        27.9488181
                      ],
                      [
                        -82.4584639,
                        27.9488534
                      ],
                      [
                        -82.4584889,
                        27.9488887
                      ],
                      [
                        -82.4585054,
                        27.948917
                      ],
                      [
                        -82.4585201,
                        27.9489467
                      ],
                      [
                        -82.4585645,
                        27.949054
                      ],
                      [
                        -82.4585839,
                        27.9490963
                      ],
                      [
                        -82.458618,
                        27.9491829
                      ]
                    ]
                  },
                  "bbox": [
                    -82.458618,
                    27.9484372,
                    -82.4582366,
                    27.9491829
                  ]
                },
                {
                  "id": "(975495315, 474972598, 0)",
                  "type": "Feature",
                  "properties": {
                    "highway": "tertiary",
                    "lanes": "2",
                    "length": 85.702,
                    "maxspeed": null,
                    "name": "East Madison Street",
                    "oneway": false,
                    "osmid": 932449456,
                    "ref": null,
                    "style": {
                      "color": "black",
                      "fillColor": "black"
                    }
                  },
                  "geometry": {
                    "type": "LineString",
                    "coordinates": [
                      [
                        -82.4582366,
                        27.9484372
                      ],
                      [
                        -82.4581553,
                        27.9484652
                      ],
                      [
                        -82.457683,
                        27.948628
                      ],
                      [
                        -82.4575218,
                        27.9486836
                      ],
                      [
                        -82.4574238,
                        27.9487174
                      ]
                    ]
                  },
                  "bbox": [
                    -82.4582366,
                    27.9484372,
                    -82.4574238,
                    27.9487174
                  ]
                },
                {
                  "id": "(975495315, 97871012, 0)",
                  "type": "Feature",
                  "properties": {
                    "highway": "unclassified",
                    "lanes": "2",
                    "length": 87.839,
                    "maxspeed": null,
                    "name": "North Franklin Street",
                    "oneway": false,
                    "osmid": 932449457,
                    "ref": null,
                    "style": {
                      "color": "black",
                      "fillColor": "black"
                    }
                  },
                  "geometry": {
                    "type": "LineString",
                    "coordinates": [
                      [
                        -82.4582366,
                        27.9484372
                      ],
                      [
                        -82.4582015,
                        27.9483577
                      ],
                      [
                        -82.4581241,
                        27.9481834
                      ],
                      [
                        -82.4581091,
                        27.9481464
                      ],
                      [
                        -82.4580971,
                        27.9481095
                      ],
                      [
                        -82.4580881,
                        27.9480707
                      ],
                      [
                        -82.4580826,
                        27.9480509
                      ],
                      [
                        -82.4580761,
                        27.9480311
                      ],
                      [
                        -82.4579917,
                        27.9478282
                      ],
                      [
                        -82.4579704,
                        27.9477827
                      ],
                      [
                        -82.4579291,
                        27.9476964
                      ]
                    ]
                  },
                  "bbox": [
                    -82.4582366,
                    27.9476964,
                    -82.4579291,
                    27.9484372
                  ]
                },
                {
                  "id": "(975495316, 975495315, 0)",
                  "type": "Feature",
                  "properties": {
                    "highway": "tertiary",
                    "lanes": "2",
                    "length": 90.70299999999999,
                    "maxspeed": null,
                    "name": "East Madison Street",
                    "oneway": false,
                    "osmid": 10974153,
                    "ref": null,
                    "style": {
                      "color": "black",
                      "fillColor": "black"
                    }
                  },
                  "geometry": {
                    "type": "LineString",
                    "coordinates": [
                      [
                        -82.4590968,
                        27.9481406
                      ],
                      [
                        -82.4589952,
                        27.9481755
                      ],
                      [
                        -82.4583631,
                        27.9483936
                      ],
                      [
                        -82.4582366,
                        27.9484372
                      ]
                    ]
                  },
                  "bbox": [
                    -82.4590968,
                    27.9481406,
                    -82.4582366,
                    27.9484372
                  ]
                },
                {
                  "id": "(975495316, 97871010, 0)",
                  "type": "Feature",
                  "properties": {
                    "highway": "primary",
                    "lanes": "3",
                    "length": 88.31800000000001,
                    "maxspeed": "30 mph",
                    "name": "North Tampa Street",
                    "oneway": true,
                    "osmid": 190333972,
                    "ref": "US 41 Business",
                    "style": {
                      "color": "black",
                      "fillColor": "black"
                    }
                  },
                  "geometry": {
                    "type": "LineString",
                    "coordinates": [
                      [
                        -82.4590968,
                        27.9481406
                      ],
                      [
                        -82.459055,
                        27.9480437
                      ],
                      [
                        -82.4588157,
                        27.947502
                      ],
                      [
                        -82.4587699,
                        27.9474007
                      ]
                    ]
                  },
                  "bbox": [
                    -82.4590968,
                    27.9474007,
                    -82.4587699,
                    27.9481406
                  ]
                },
                {
                  "id": "(1870060109, 1870060165, 0)",
                  "type": "Feature",
                  "properties": {
                    "highway": "residential",
                    "lanes": "2",
                    "length": 13.901,
                    "maxspeed": null,
                    "name": "North Marion Street",
                    "oneway": false,
                    "osmid": 10970142,
                    "ref": null,
                    "style": {
                      "color": "black",
                      "fillColor": "black"
                    }
                  },
                  "geometry": {
                    "type": "LineString",
                    "coordinates": [
                      [
                        -82.4575877,
                        27.9513109
                      ],
                      [
                        -82.4575607,
                        27.95125
                      ],
                      [
                        -82.4575361,
                        27.9511945
                      ]
                    ]
                  },
                  "bbox": [
                    -82.4575877,
                    27.9511945,
                    -82.4575361,
                    27.9513109
                  ]
                },
                {
                  "id": "(1870060109, 1870060232, 0)",
                  "type": "Feature",
                  "properties": {
                    "highway": "tertiary",
                    "lanes": "1",
                    "length": 88.00200000000001,
                    "maxspeed": null,
                    "name": "Polk Street",
                    "oneway": true,
                    "osmid": 176372706,
                    "ref": null,
                    "style": {
                      "color": "black",
                      "fillColor": "black"
                    }
                  },
                  "geometry": {
                    "type": "LineString",
                    "coordinates": [
                      [
                        -82.4575877,
                        27.9513109
                      ],
                      [
                        -82.4576852,
                        27.9512752
                      ],
                      [
                        -82.4583225,
                        27.9510399
                      ],
                      [
                        -82.4584148,
                        27.9510067
                      ]
                    ]
                  },
                  "bbox": [
                    -82.4584148,
                    27.9510067,
                    -82.4575877,
                    27.9513109
                  ]
                },
                {
                  "id": "(1870060119, 1870060232, 0)",
                  "type": "Feature",
                  "properties": {
                    "highway": "primary",
                    "lanes": "4",
                    "length": 12.204,
                    "maxspeed": "35 mph",
                    "name": "North Florida Avenue",
                    "oneway": true,
                    "osmid": 47222465,
                    "ref": "US 41 Business",
                    "style": {
                      "color": "black",
                      "fillColor": "black"
                    }
                  },
                  "geometry": {
                    "type": "LineString",
                    "coordinates": [
                      [
                        -82.458369,
                        27.9509047
                      ],
                      [
                        -82.4583964,
                        27.9509632
                      ],
                      [
                        -82.4584148,
                        27.9510067
                      ]
                    ]
                  },
                  "bbox": [
                    -82.4584148,
                    27.9509047,
                    -82.458369,
                    27.9510067
                  ]
                },
                {
                  "id": "(1870060119, 1870060165, 0)",
                  "type": "Feature",
                  "properties": {
                    "highway": "tertiary",
                    "lanes": null,
                    "length": 87.92899999999999,
                    "maxspeed": null,
                    "name": "Polk Street",
                    "oneway": true,
                    "osmid": 794700053,
                    "ref": null,
                    "style": {
                      "color": "black",
                      "fillColor": "black"
                    }
                  },
                  "geometry": {
                    "type": "LineString",
                    "coordinates": [
                      [
                        -82.458369,
                        27.9509047
                      ],
                      [
                        -82.4582745,
                        27.9509382
                      ],
                      [
                        -82.4576328,
                        27.9511608
                      ],
                      [
                        -82.4575361,
                        27.9511945
                      ]
                    ]
                  },
                  "bbox": [
                    -82.458369,
                    27.9509047,
                    -82.4575361,
                    27.9511945
                  ]
                },
                {
                  "id": "(1870060124, 97970376, 0)",
                  "type": "Feature",
                  "properties": {
                    "highway": "secondary",
                    "lanes": "4",
                    "length": 82.133,
                    "maxspeed": "unposted",
                    "name": "Pierce Street",
                    "oneway": true,
                    "osmid": 87659447,
                    "ref": null,
                    "style": {
                      "color": "black",
                      "fillColor": "black"
                    }
                  },
                  "geometry": {
                    "type": "LineString",
                    "coordinates": [
                      [
                        -82.4558526,
                        27.9517732
                      ],
                      [
                        -82.4558324,
                        27.9517233
                      ],
                      [
                        -82.4557976,
                        27.9516468
                      ],
                      [
                        -82.4555928,
                        27.9511759
                      ],
                      [
                        -82.4555525,
                        27.9510838
                      ]
                    ]
                  },
                  "bbox": [
                    -82.4558526,
                    27.9510838,
                    -82.4555525,
                    27.9517732
                  ]
                },
                {
                  "id": "(1870060124, 1870060205, 0)",
                  "type": "Feature",
                  "properties": {
                    "highway": "tertiary",
                    "lanes": null,
                    "length": 87.944,
                    "maxspeed": null,
                    "name": "Polk Street",
                    "oneway": true,
                    "osmid": 794700053,
                    "ref": null,
                    "style": {
                      "color": "black",
                      "fillColor": "black"
                    }
                  },
                  "geometry": {
                    "type": "LineString",
                    "coordinates": [
                      [
                        -82.4558526,
                        27.9517732
                      ],
                      [
                        -82.4557482,
                        27.9518093
                      ],
                      [
                        -82.4556466,
                        27.9518436
                      ],
                      [
                        -82.4553408,
                        27.9519479
                      ],
                      [
                        -82.4551136,
                        27.9520285
                      ],
                      [
                        -82.4550191,
                        27.952062
                      ]
                    ]
                  },
                  "bbox": [
                    -82.4558526,
                    27.9517732,
                    -82.4550191,
                    27.952062
                  ]
                },
                {
                  "id": "(1870060133, 1870060187, 0)",
                  "type": "Feature",
                  "properties": {
                    "highway": "tertiary",
                    "lanes": "1",
                    "length": 86.603,
                    "maxspeed": null,
                    "name": "Polk Street",
                    "oneway": true,
                    "osmid": 176372706,
                    "ref": null,
                    "style": {
                      "color": "black",
                      "fillColor": "black"
                    }
                  },
                  "geometry": {
                    "type": "LineString",
                    "coordinates": [
                      [
                        -82.4592888,
                        27.9507079
                      ],
                      [
                        -82.4593685,
                        27.950681
                      ],
                      [
                        -82.4600009,
                        27.9504676
                      ],
                      [
                        -82.4601125,
                        27.9504301
                      ]
                    ]
                  },
                  "bbox": [
                    -82.4601125,
                    27.9504301,
                    -82.4592888,
                    27.9507079
                  ]
                },
                {
                  "id": "(1870060133, 1870060195, 0)",
                  "type": "Feature",
                  "properties": {
                    "highway": "unclassified",
                    "lanes": "2",
                    "length": 11.207999999999998,
                    "maxspeed": null,
                    "name": "North Franklin Street",
                    "oneway": false,
                    "osmid": 203993896,
                    "ref": null,
                    "style": {
                      "color": "black",
                      "fillColor": "black"
                    }
                  },
                  "geometry": {
                    "type": "LineString",
                    "coordinates": [
                      [
                        -82.4592888,
                        27.9507079
                      ],
                      [
                        -82.4592709,
                        27.950664
                      ],
                      [
                        -82.4592474,
                        27.950614
                      ]
                    ]
                  },
                  "bbox": [
                    -82.4592888,
                    27.950614,
                    -82.4592474,
                    27.9507079
                  ]
                },
                {
                  "id": "(1870060165, 1870060109, 0)",
                  "type": "Feature",
                  "properties": {
                    "highway": "residential",
                    "lanes": "2",
                    "length": 13.901,
                    "maxspeed": null,
                    "name": "North Marion Street",
                    "oneway": false,
                    "osmid": 10970142,
                    "ref": null,
                    "style": {
                      "color": "black",
                      "fillColor": "black"
                    }
                  },
                  "geometry": {
                    "type": "LineString",
                    "coordinates": [
                      [
                        -82.4575361,
                        27.9511945
                      ],
                      [
                        -82.4575607,
                        27.95125
                      ],
                      [
                        -82.4575877,
                        27.9513109
                      ]
                    ]
                  },
                  "bbox": [
                    -82.4575877,
                    27.9511945,
                    -82.4575361,
                    27.9513109
                  ]
                },
                {
                  "id": "(1870060165, 97775165, 0)",
                  "type": "Feature",
                  "properties": {
                    "highway": "residential",
                    "lanes": "2",
                    "length": 81.691,
                    "maxspeed": null,
                    "name": "North Marion Street",
                    "oneway": false,
                    "osmid": 10970142,
                    "ref": null,
                    "style": {
                      "color": "black",
                      "fillColor": "black"
                    }
                  },
                  "geometry": {
                    "type": "LineString",
                    "coordinates": [
                      [
                        -82.4575361,
                        27.9511945
                      ],
                      [
                        -82.4575148,
                        27.9511461
                      ],
                      [
                        -82.457274,
                        27.950597
                      ],
                      [
                        -82.4572355,
                        27.9505095
                      ]
                    ]
                  },
                  "bbox": [
                    -82.4575361,
                    27.9505095,
                    -82.4572355,
                    27.9511945
                  ]
                },
                {
                  "id": "(1870060165, 1870060169, 0)",
                  "type": "Feature",
                  "properties": {
                    "highway": "tertiary",
                    "lanes": null,
                    "length": 88.07300000000001,
                    "maxspeed": null,
                    "name": "Polk Street",
                    "oneway": true,
                    "osmid": 794700053,
                    "ref": null,
                    "style": {
                      "color": "black",
                      "fillColor": "black"
                    }
                  },
                  "geometry": {
                    "type": "LineString",
                    "coordinates": [
                      [
                        -82.4575361,
                        27.9511945
                      ],
                      [
                        -82.4574457,
                        27.9512261
                      ],
                      [
                        -82.456806,
                        27.9514496
                      ],
                      [
                        -82.4567021,
                        27.9514854
                      ]
                    ]
                  },
                  "bbox": [
                    -82.4575361,
                    27.9511945,
                    -82.4567021,
                    27.9514854
                  ]
                },
                {
                  "id": "(1870060169, 97876153, 0)",
                  "type": "Feature",
                  "properties": {
                    "highway": "tertiary",
                    "lanes": "4",
                    "length": 82.20700000000001,
                    "maxspeed": null,
                    "name": "North Morgan Street",
                    "oneway": false,
                    "osmid": 168522075,
                    "ref": null,
                    "style": {
                      "color": "black",
                      "fillColor": "black"
                    }
                  },
                  "geometry": {
                    "type": "LineString",
                    "coordinates": [
                      [
                        -82.4567021,
                        27.9514854
                      ],
                      [
                        -82.4566788,
                        27.9514358
                      ],
                      [
                        -82.4564338,
                        27.9508886
                      ],
                      [
                        -82.4563932,
                        27.9507983
                      ]
                    ]
                  },
                  "bbox": [
                    -82.4567021,
                    27.9507983,
                    -82.4563932,
                    27.9514854
                  ]
                },
                {
                  "id": "(1870060169, 1870060202, 0)",
                  "type": "Feature",
                  "properties": {
                    "highway": "tertiary",
                    "lanes": "4",
                    "length": 13.899000000000001,
                    "maxspeed": null,
                    "name": "North Morgan Street",
                    "oneway": false,
                    "osmid": [
                      87659361,
                      168522075
                    ],
                    "ref": null,
                    "style": {
                      "color": "black",
                      "fillColor": "black"
                    }
                  },
                  "geometry": {
                    "type": "LineString",
                    "coordinates": [
                      [
                        -82.4567021,
                        27.9514854
                      ],
                      [
                        -82.4567267,
                        27.9515381
                      ],
                      [
                        -82.4567536,
                        27.9516018
                      ]
                    ]
                  },
                  "bbox": [
                    -82.4567536,
                    27.9514854,
                    -82.4567021,
                    27.9516018
                  ]
                },
                {
                  "id": "(1870060169, 1870060124, 0)",
                  "type": "Feature",
                  "properties": {
                    "highway": "tertiary",
                    "lanes": null,
                    "length": 89.36599999999999,
                    "maxspeed": null,
                    "name": "Polk Street",
                    "oneway": true,
                    "osmid": 794700053,
                    "ref": null,
                    "style": {
                      "color": "black",
                      "fillColor": "black"
                    }
                  },
                  "geometry": {
                    "type": "LineString",
                    "coordinates": [
                      [
                        -82.4567021,
                        27.9514854
                      ],
                      [
                        -82.4565897,
                        27.9515237
                      ],
                      [
                        -82.4562147,
                        27.9516505
                      ],
                      [
                        -82.4560882,
                        27.9516934
                      ],
                      [
                        -82.456076,
                        27.9516975
                      ],
                      [
                        -82.4559583,
                        27.9517374
                      ],
                      [
                        -82.4558526,
                        27.9517732
                      ]
                    ]
                  },
                  "bbox": [
                    -82.4567021,
                    27.9514854,
                    -82.4558526,
                    27.9517732
                  ]
                },
                {
                  "id": "(1870060182, 97925459, 0)",
                  "type": "Feature",
                  "properties": {
                    "highway": "primary",
                    "lanes": "3",
                    "length": 84.09299999999999,
                    "maxspeed": "30 mph",
                    "name": "North Tampa Street",
                    "oneway": true,
                    "osmid": 190333972,
                    "ref": "US 41 Business",
                    "style": {
                      "color": "black",
                      "fillColor": "black"
                    }
                  },
                  "geometry": {
                    "type": "LineString",
                    "coordinates": [
                      [
                        -82.4600751,
                        27.9503389
                      ],
                      [
                        -82.4600513,
                        27.9502867
                      ],
                      [
                        -82.4599088,
                        27.9499687
                      ],
                      [
                        -82.4598512,
                        27.949838
                      ],
                      [
                        -82.4598006,
                        27.949723
                      ],
                      [
                        -82.4597618,
                        27.9496351
                      ]
                    ]
                  },
                  "bbox": [
                    -82.4600751,
                    27.9496351,
                    -82.4597618,
                    27.9503389
                  ]
                },
                {
                  "id": "(1870060182, 1870060195, 0)",
                  "type": "Feature",
                  "properties": {
                    "highway": "tertiary",
                    "lanes": null,
                    "length": 86.866,
                    "maxspeed": null,
                    "name": "Polk Street",
                    "oneway": true,
                    "osmid": 794700053,
                    "ref": null,
                    "style": {
                      "color": "black",
                      "fillColor": "black"
                    }
                  },
                  "geometry": {
                    "type": "LineString",
                    "coordinates": [
                      [
                        -82.4600751,
                        27.9503389
                      ],
                      [
                        -82.4599616,
                        27.9503766
                      ],
                      [
                        -82.4596037,
                        27.9504955
                      ],
                      [
                        -82.4593268,
                        27.9505874
                      ],
                      [
                        -82.4592474,
                        27.950614
                      ]
                    ]
                  },
                  "bbox": [
                    -82.4600751,
                    27.9503389,
                    -82.4592474,
                    27.950614
                  ]
                },
                {
                  "id": "(1870060187, 1870060182, 0)",
                  "type": "Feature",
                  "properties": {
                    "highway": "primary",
                    "lanes": "3",
                    "length": 10.786999999999999,
                    "maxspeed": "30 mph",
                    "name": "North Tampa Street",
                    "oneway": true,
                    "osmid": 190333972,
                    "ref": "US 41 Business",
                    "style": {
                      "color": "black",
                      "fillColor": "black"
                    }
                  },
                  "geometry": {
                    "type": "LineString",
                    "coordinates": [
                      [
                        -82.4601125,
                        27.9504301
                      ],
                      [
                        -82.460094,
                        27.950383
                      ],
                      [
                        -82.4600751,
                        27.9503389
                      ]
                    ]
                  },
                  "bbox": [
                    -82.4601125,
                    27.9503389,
                    -82.4600751,
                    27.9504301
                  ]
                },
                {
                  "id": "(1870060195, 97964888, 0)",
                  "type": "Feature",
                  "properties": {
                    "highway": "unclassified",
                    "lanes": "2",
                    "length": 83.183,
                    "maxspeed": null,
                    "name": "North Franklin Street",
                    "oneway": false,
                    "osmid": 203993896,
                    "ref": null,
                    "style": {
                      "color": "black",
                      "fillColor": "black"
                    }
                  },
                  "geometry": {
                    "type": "LineString",
                    "coordinates": [
                      [
                        -82.4592474,
                        27.950614
                      ],
                      [
                        -82.4592266,
                        27.9505643
                      ],
                      [
                        -82.4591723,
                        27.9504504
                      ],
                      [
                        -82.459146,
                        27.950389
                      ],
                      [
                        -82.4591262,
                        27.9503574
                      ],
                      [
                        -82.4591034,
                        27.9503276
                      ],
                      [
                        -82.4590795,
                        27.9503014
                      ],
                      [
                        -82.4590496,
                        27.9502725
                      ],
                      [
                        -82.4590268,
                        27.9502419
                      ],
                      [
                        -82.4590101,
                        27.9502103
                      ],
                      [
                        -82.4589191,
                        27.9499995
                      ],
                      [
                        -82.4588911,
                        27.9499406
                      ]
                    ]
                  },
                  "bbox": [
                    -82.4592474,
                    27.9499406,
                    -82.4588911,
                    27.950614
                  ]
                },
                {
                  "id": "(1870060195, 1870060133, 0)",
                  "type": "Feature",
                  "properties": {
                    "highway": "unclassified",
                    "lanes": "2",
                    "length": 11.207999999999998,
                    "maxspeed": null,
                    "name": "North Franklin Street",
                    "oneway": false,
                    "osmid": 203993896,
                    "ref": null,
                    "style": {
                      "color": "black",
                      "fillColor": "black"
                    }
                  },
                  "geometry": {
                    "type": "LineString",
                    "coordinates": [
                      [
                        -82.4592474,
                        27.950614
                      ],
                      [
                        -82.4592709,
                        27.950664
                      ],
                      [
                        -82.4592888,
                        27.9507079
                      ]
                    ]
                  },
                  "bbox": [
                    -82.4592888,
                    27.950614,
                    -82.4592474,
                    27.9507079
                  ]
                },
                {
                  "id": "(1870060195, 1870060119, 0)",
                  "type": "Feature",
                  "properties": {
                    "highway": "tertiary",
                    "lanes": null,
                    "length": 92.136,
                    "maxspeed": null,
                    "name": "Polk Street",
                    "oneway": true,
                    "osmid": 794700053,
                    "ref": null,
                    "style": {
                      "color": "black",
                      "fillColor": "black"
                    }
                  },
                  "geometry": {
                    "type": "LineString",
                    "coordinates": [
                      [
                        -82.4592474,
                        27.950614
                      ],
                      [
                        -82.4591109,
                        27.9506586
                      ],
                      [
                        -82.4584987,
                        27.950862
                      ],
                      [
                        -82.4584846,
                        27.9508667
                      ],
                      [
                        -82.458369,
                        27.9509047
                      ]
                    ]
                  },
                  "bbox": [
                    -82.4592474,
                    27.950614,
                    -82.458369,
                    27.9509047
                  ]
                },
                {
                  "id": "(1870060202, 1870060169, 0)",
                  "type": "Feature",
                  "properties": {
                    "highway": "tertiary",
                    "lanes": "4",
                    "length": 13.899000000000001,
                    "maxspeed": null,
                    "name": "North Morgan Street",
                    "oneway": false,
                    "osmid": [
                      87659361,
                      168522075
                    ],
                    "ref": null,
                    "style": {
                      "color": "black",
                      "fillColor": "black"
                    }
                  },
                  "geometry": {
                    "type": "LineString",
                    "coordinates": [
                      [
                        -82.4567536,
                        27.9516018
                      ],
                      [
                        -82.4567267,
                        27.9515381
                      ],
                      [
                        -82.4567021,
                        27.9514854
                      ]
                    ]
                  },
                  "bbox": [
                    -82.4567536,
                    27.9514854,
                    -82.4567021,
                    27.9516018
                  ]
                },
                {
                  "id": "(1870060202, 1870060109, 0)",
                  "type": "Feature",
                  "properties": {
                    "highway": "tertiary",
                    "lanes": "1",
                    "length": 88.084,
                    "maxspeed": null,
                    "name": "Polk Street",
                    "oneway": true,
                    "osmid": 176372706,
                    "ref": null,
                    "style": {
                      "color": "black",
                      "fillColor": "black"
                    }
                  },
                  "geometry": {
                    "type": "LineString",
                    "coordinates": [
                      [
                        -82.4567536,
                        27.9516018
                      ],
                      [
                        -82.4568626,
                        27.9515631
                      ],
                      [
                        -82.4569843,
                        27.9515208
                      ],
                      [
                        -82.4571724,
                        27.9514554
                      ],
                      [
                        -82.4575007,
                        27.9513412
                      ],
                      [
                        -82.4575877,
                        27.9513109
                      ]
                    ]
                  },
                  "bbox": [
                    -82.4575877,
                    27.9513109,
                    -82.4567536,
                    27.9516018
                  ]
                },
                {
                  "id": "(1870060205, 97927142, 0)",
                  "type": "Feature",
                  "properties": {
                    "highway": "secondary",
                    "lanes": "4",
                    "length": 84.015,
                    "maxspeed": "30 mph",
                    "name": "North Jefferson Street",
                    "oneway": false,
                    "osmid": 117012652,
                    "ref": null,
                    "style": {
                      "color": "black",
                      "fillColor": "black"
                    }
                  },
                  "geometry": {
                    "type": "LineString",
                    "coordinates": [
                      [
                        -82.4550191,
                        27.952062
                      ],
                      [
                        -82.4549705,
                        27.9519521
                      ],
                      [
                        -82.4549634,
                        27.951936
                      ],
                      [
                        -82.4548623,
                        27.9517075
                      ],
                      [
                        -82.4547478,
                        27.9514488
                      ],
                      [
                        -82.4547077,
                        27.9513583
                      ]
                    ]
                  },
                  "bbox": [
                    -82.4550191,
                    27.9513583,
                    -82.4547077,
                    27.952062
                  ]
                },
                {
                  "id": "(1870060205, 320166852, 0)",
                  "type": "Feature",
                  "properties": {
                    "highway": "secondary",
                    "lanes": "4",
                    "length": 12.161999999999999,
                    "maxspeed": "30 mph",
                    "name": "North Jefferson Street",
                    "oneway": true,
                    "osmid": 778560397,
                    "ref": null,
                    "style": {
                      "color": "black",
                      "fillColor": "black"
                    }
                  },
                  "geometry": {
                    "type": "LineString",
                    "coordinates": [
                      [
                        -82.4550191,
                        27.952062
                      ],
                      [
                        -82.4550436,
                        27.9521179
                      ],
                      [
                        -82.4550641,
                        27.9521639
                      ]
                    ]
                  },
                  "bbox": [
                    -82.4550641,
                    27.952062,
                    -82.4550191,
                    27.9521639
                  ]
                },
                {
                  "id": "(1870060232, 1870060133, 0)",
                  "type": "Feature",
                  "properties": {
                    "highway": "tertiary",
                    "lanes": "1",
                    "length": 92.05499999999999,
                    "maxspeed": null,
                    "name": "Polk Street",
                    "oneway": true,
                    "osmid": 176372706,
                    "ref": null,
                    "style": {
                      "color": "black",
                      "fillColor": "black"
                    }
                  },
                  "geometry": {
                    "type": "LineString",
                    "coordinates": [
                      [
                        -82.4584148,
                        27.9510067
                      ],
                      [
                        -82.4585298,
                        27.9509677
                      ],
                      [
                        -82.4591559,
                        27.9507556
                      ],
                      [
                        -82.4592888,
                        27.9507079
                      ]
                    ]
                  },
                  "bbox": [
                    -82.4592888,
                    27.9507079,
                    -82.4584148,
                    27.9510067
                  ]
                },
                {
                  "id": "(1993753395, 97928978, 0)",
                  "type": "Feature",
                  "properties": {
                    "highway": "residential",
                    "lanes": null,
                    "length": 172.22900000000004,
                    "maxspeed": null,
                    "name": "East Street",
                    "oneway": false,
                    "osmid": 25886894,
                    "ref": null,
                    "style": {
                      "color": "black",
                      "fillColor": "black"
                    }
                  },
                  "geometry": {
                    "type": "LineString",
                    "coordinates": [
                      [
                        -82.4528486,
                        27.9494924
                      ],
                      [
                        -82.4528703,
                        27.9495405
                      ],
                      [
                        -82.453004,
                        27.9498427
                      ],
                      [
                        -82.4530571,
                        27.9499623
                      ],
                      [
                        -82.4531017,
                        27.9500629
                      ],
                      [
                        -82.4532102,
                        27.9503075
                      ],
                      [
                        -82.4532555,
                        27.9504096
                      ],
                      [
                        -82.4532935,
                        27.9504951
                      ],
                      [
                        -82.4534498,
                        27.9508475
                      ],
                      [
                        -82.4534884,
                        27.9509345
                      ]
                    ]
                  },
                  "bbox": [
                    -82.4534884,
                    27.9494924,
                    -82.4528486,
                    27.9509345
                  ]
                },
                {
                  "id": "(1993753395, 1993753422, 0)",
                  "type": "Feature",
                  "properties": {
                    "highway": "primary_link",
                    "lanes": "2",
                    "length": 17.576,
                    "maxspeed": null,
                    "name": null,
                    "oneway": true,
                    "osmid": 203993931,
                    "ref": null,
                    "style": {
                      "color": "black",
                      "fillColor": "black"
                    }
                  },
                  "geometry": {
                    "type": "LineString",
                    "coordinates": [
                      [
                        -82.4528486,
                        27.9494924
                      ],
                      [
                        -82.452903,
                        27.9494719
                      ],
                      [
                        -82.4529909,
                        27.9494
                      ]
                    ]
                  },
                  "bbox": [
                    -82.4529909,
                    27.9494,
                    -82.4528486,
                    27.9494924
                  ]
                },
                {
                  "id": "(1993753421, 1993753422, 0)",
                  "type": "Feature",
                  "properties": {
                    "highway": "primary",
                    "lanes": "3",
                    "length": 11.415,
                    "maxspeed": "30 mph",
                    "name": "East Kennedy Boulevard",
                    "oneway": true,
                    "osmid": 188754665,
                    "ref": "US 41 Business;FL 60",
                    "style": {
                      "color": "black",
                      "fillColor": "black"
                    }
                  },
                  "geometry": {
                    "type": "LineString",
                    "coordinates": [
                      [
                        -82.4528747,
                        27.9493983
                      ],
                      [
                        -82.4529909,
                        27.9494
                      ]
                    ]
                  },
                  "bbox": [
                    -82.4529909,
                    27.9493983,
                    -82.4528747,
                    27.9494
                  ]
                },
                {
                  "id": "(1993753422, 97871017, 0)",
                  "type": "Feature",
                  "properties": {
                    "highway": "primary",
                    "lanes": "5",
                    "length": 77.888,
                    "maxspeed": "30 mph",
                    "name": "East Kennedy Boulevard",
                    "oneway": true,
                    "osmid": 203993849,
                    "ref": "US 41 Business;FL 60",
                    "style": {
                      "color": "black",
                      "fillColor": "black"
                    }
                  },
                  "geometry": {
                    "type": "LineString",
                    "coordinates": [
                      [
                        -82.4529909,
                        27.9494
                      ],
                      [
                        -82.4530873,
                        27.9493664
                      ],
                      [
                        -82.4536247,
                        27.9491793
                      ],
                      [
                        -82.4537286,
                        27.9491431
                      ]
                    ]
                  },
                  "bbox": [
                    -82.4537286,
                    27.9491431,
                    -82.4529909,
                    27.9494
                  ]
                }
              ],
              "bbox": [
                -82.4601125,
                27.9474007,
                -82.4520812,
                27.9521639
              ]
            },
            "hover_style": {
              "weight": 4,
              "fillOpacity": 0.5
            },
            "layers": [],
            "name": "edges",
            "options": [],
            "point_style": {},
            "popup": null,
            "popup_max_height": null,
            "popup_max_width": 300,
            "popup_min_width": 50,
            "style": {
              "color": "black",
              "weight": 3
            }
          }
        },
        "d9766b6f67a74cb9b0e742ce280f051a": {
          "model_module": "@jupyter-widgets/base",
          "model_name": "LayoutModel",
          "model_module_version": "1.2.0",
          "state": {
            "_model_module": "@jupyter-widgets/base",
            "_model_module_version": "1.2.0",
            "_model_name": "LayoutModel",
            "_view_count": null,
            "_view_module": "@jupyter-widgets/base",
            "_view_module_version": "1.2.0",
            "_view_name": "LayoutView",
            "align_content": null,
            "align_items": null,
            "align_self": null,
            "border": null,
            "bottom": null,
            "display": null,
            "flex": null,
            "flex_flow": null,
            "grid_area": null,
            "grid_auto_columns": null,
            "grid_auto_flow": null,
            "grid_auto_rows": null,
            "grid_column": null,
            "grid_gap": null,
            "grid_row": null,
            "grid_template_areas": null,
            "grid_template_columns": null,
            "grid_template_rows": null,
            "height": "800px",
            "justify_content": null,
            "justify_items": null,
            "left": null,
            "margin": null,
            "max_height": null,
            "max_width": null,
            "min_height": null,
            "min_width": null,
            "object_fit": null,
            "object_position": null,
            "order": null,
            "overflow": null,
            "overflow_x": null,
            "overflow_y": null,
            "padding": null,
            "right": null,
            "top": null,
            "visibility": null,
            "width": "1000px"
          }
        },
        "e5b28adde7f54e1289b1440c7aa909e2": {
          "model_module": "jupyter-leaflet",
          "model_name": "LeafletMapStyleModel",
          "model_module_version": "^0.16.0",
          "state": {
            "_model_module": "jupyter-leaflet",
            "_model_module_version": "^0.16.0",
            "_model_name": "LeafletMapStyleModel",
            "_view_count": null,
            "_view_module": "@jupyter-widgets/base",
            "_view_module_version": "1.2.0",
            "_view_name": "StyleView",
            "cursor": "grab"
          }
        },
        "cb9222dbd9364c16a91c812215a95fb0": {
          "model_module": "@jupyter-widgets/output",
          "model_name": "OutputModel",
          "model_module_version": "1.0.0",
          "state": {
            "_dom_classes": [],
            "_model_module": "@jupyter-widgets/output",
            "_model_module_version": "1.0.0",
            "_model_name": "OutputModel",
            "_view_count": null,
            "_view_module": "@jupyter-widgets/output",
            "_view_module_version": "1.0.0",
            "_view_name": "OutputView",
            "layout": "IPY_MODEL_e07a0f88c4654cbd84be5c51c84f1069",
            "msg_id": "",
            "outputs": []
          }
        },
        "196fca9b74114a1d950b88e3d11dd703": {
          "model_module": "@jupyter-widgets/controls",
          "model_name": "VBoxModel",
          "model_module_version": "1.5.0",
          "state": {
            "_dom_classes": [],
            "_model_module": "@jupyter-widgets/controls",
            "_model_module_version": "1.5.0",
            "_model_name": "VBoxModel",
            "_view_count": null,
            "_view_module": "@jupyter-widgets/controls",
            "_view_module_version": "1.5.0",
            "_view_name": "VBoxView",
            "box_style": "",
            "children": [
              "IPY_MODEL_4f95ce096a7f487f9007d1b003cfe6f9"
            ],
            "layout": "IPY_MODEL_b612a6fe0c2943d8b0f445e1b163f905"
          }
        },
        "c89b6c3235f34c2784e1c11a75143ed5": {
          "model_module": "@jupyter-widgets/controls",
          "model_name": "VBoxModel",
          "model_module_version": "1.5.0",
          "state": {
            "_dom_classes": [],
            "_model_module": "@jupyter-widgets/controls",
            "_model_module_version": "1.5.0",
            "_model_name": "VBoxModel",
            "_view_count": null,
            "_view_module": "@jupyter-widgets/controls",
            "_view_module_version": "1.5.0",
            "_view_name": "VBoxView",
            "box_style": "",
            "children": [
              "IPY_MODEL_aba6f58151a14ce888351fec1d085dea",
              "IPY_MODEL_d16317bd5efa412e9289e8c7ae3601c7"
            ],
            "layout": "IPY_MODEL_ae61c89ae45d4ec2ac1d2852e119f10c"
          }
        },
        "a2449216e4ac4c2ca789f43f9574fef6": {
          "model_module": "jupyter-leaflet",
          "model_name": "LeafletMarkerModel",
          "model_module_version": "^0.16.0",
          "state": {
            "_model_module": "jupyter-leaflet",
            "_model_module_version": "^0.16.0",
            "_model_name": "LeafletMarkerModel",
            "_view_count": null,
            "_view_module": "jupyter-leaflet",
            "_view_module_version": "^0.16.0",
            "_view_name": "LeafletMarkerView",
            "alt": "",
            "base": false,
            "bottom": false,
            "draggable": false,
            "icon": null,
            "keyboard": true,
            "location": [
              27.94853,
              -82.45863
            ],
            "name": "",
            "opacity": 1,
            "options": [
              "alt",
              "draggable",
              "keyboard",
              "rise_offset",
              "rise_on_hover",
              "rotation_angle",
              "rotation_origin",
              "title",
              "z_index_offset"
            ],
            "popup": "IPY_MODEL_094d296c6bf748c98006c87c9389113d",
            "popup_max_height": null,
            "popup_max_width": 300,
            "popup_min_width": 50,
            "rise_offset": 250,
            "rise_on_hover": false,
            "rotation_angle": 0,
            "rotation_origin": "",
            "title": "",
            "visible": true,
            "z_index_offset": 0
          }
        },
        "20f5e92253f045a38360c9655509ec23": {
          "model_module": "jupyter-leaflet",
          "model_name": "LeafletMarkerModel",
          "model_module_version": "^0.16.0",
          "state": {
            "_model_module": "jupyter-leaflet",
            "_model_module_version": "^0.16.0",
            "_model_name": "LeafletMarkerModel",
            "_view_count": null,
            "_view_module": "jupyter-leaflet",
            "_view_module_version": "^0.16.0",
            "_view_name": "LeafletMarkerView",
            "alt": "",
            "base": false,
            "bottom": false,
            "draggable": false,
            "icon": null,
            "keyboard": true,
            "location": [
              27.95102,
              -82.45413
            ],
            "name": "",
            "opacity": 1,
            "options": [
              "alt",
              "draggable",
              "keyboard",
              "rise_offset",
              "rise_on_hover",
              "rotation_angle",
              "rotation_origin",
              "title",
              "z_index_offset"
            ],
            "popup": "IPY_MODEL_b0532a3b4b95403c9cfa8e663e94c2ab",
            "popup_max_height": null,
            "popup_max_width": 300,
            "popup_min_width": 50,
            "rise_offset": 250,
            "rise_on_hover": false,
            "rotation_angle": 0,
            "rotation_origin": "",
            "title": "",
            "visible": true,
            "z_index_offset": 0
          }
        },
        "ca241d2a0de542ee9dd93c6bf681e50a": {
          "model_module": "jupyter-leaflet",
          "model_name": "LeafletMarkerModel",
          "model_module_version": "^0.16.0",
          "state": {
            "_model_module": "jupyter-leaflet",
            "_model_module_version": "^0.16.0",
            "_model_name": "LeafletMarkerModel",
            "_view_count": null,
            "_view_module": "jupyter-leaflet",
            "_view_module_version": "^0.16.0",
            "_view_name": "LeafletMarkerView",
            "alt": "",
            "base": false,
            "bottom": false,
            "draggable": false,
            "icon": null,
            "keyboard": true,
            "location": [
              27.9482623,
              -82.4562493
            ],
            "name": "",
            "opacity": 1,
            "options": [
              "alt",
              "draggable",
              "keyboard",
              "rise_offset",
              "rise_on_hover",
              "rotation_angle",
              "rotation_origin",
              "title",
              "z_index_offset"
            ],
            "popup": "IPY_MODEL_7ea5b9a5b48f49f2ac391b2eae15f818",
            "popup_max_height": null,
            "popup_max_width": 300,
            "popup_min_width": 50,
            "rise_offset": 250,
            "rise_on_hover": false,
            "rotation_angle": 0,
            "rotation_origin": "",
            "title": "",
            "visible": true,
            "z_index_offset": 0
          }
        },
        "f36c1c37ec3b41ccb48b2bec081f55b1": {
          "model_module": "jupyter-leaflet",
          "model_name": "LeafletMarkerModel",
          "model_module_version": "^0.16.0",
          "state": {
            "_model_module": "jupyter-leaflet",
            "_model_module_version": "^0.16.0",
            "_model_name": "LeafletMarkerModel",
            "_view_count": null,
            "_view_module": "jupyter-leaflet",
            "_view_module_version": "^0.16.0",
            "_view_name": "LeafletMarkerView",
            "alt": "",
            "base": false,
            "bottom": false,
            "draggable": false,
            "icon": null,
            "keyboard": true,
            "location": [
              27.9490074,
              -82.4565827
            ],
            "name": "",
            "opacity": 1,
            "options": [
              "alt",
              "draggable",
              "keyboard",
              "rise_offset",
              "rise_on_hover",
              "rotation_angle",
              "rotation_origin",
              "title",
              "z_index_offset"
            ],
            "popup": "IPY_MODEL_3aba6cff76b34989a126b3d9f60be4e4",
            "popup_max_height": null,
            "popup_max_width": 300,
            "popup_min_width": 50,
            "rise_offset": 250,
            "rise_on_hover": false,
            "rotation_angle": 0,
            "rotation_origin": "",
            "title": "",
            "visible": true,
            "z_index_offset": 0
          }
        },
        "4617ff93034044e5b8611fa3f90fc46d": {
          "model_module": "jupyter-leaflet",
          "model_name": "LeafletMarkerModel",
          "model_module_version": "^0.16.0",
          "state": {
            "_model_module": "jupyter-leaflet",
            "_model_module_version": "^0.16.0",
            "_model_name": "LeafletMarkerModel",
            "_view_count": null,
            "_view_module": "jupyter-leaflet",
            "_view_module_version": "^0.16.0",
            "_view_name": "LeafletMarkerView",
            "alt": "",
            "base": false,
            "bottom": false,
            "draggable": false,
            "icon": null,
            "keyboard": true,
            "location": [
              27.949759,
              -82.456904
            ],
            "name": "",
            "opacity": 1,
            "options": [
              "alt",
              "draggable",
              "keyboard",
              "rise_offset",
              "rise_on_hover",
              "rotation_angle",
              "rotation_origin",
              "title",
              "z_index_offset"
            ],
            "popup": "IPY_MODEL_ba7f353ea8e44c93895a39d6f7aa0b44",
            "popup_max_height": null,
            "popup_max_width": 300,
            "popup_min_width": 50,
            "rise_offset": 250,
            "rise_on_hover": false,
            "rotation_angle": 0,
            "rotation_origin": "",
            "title": "",
            "visible": true,
            "z_index_offset": 0
          }
        },
        "41e948e1a8ef46d3824c4d09d46fad11": {
          "model_module": "jupyter-leaflet",
          "model_name": "LeafletMarkerModel",
          "model_module_version": "^0.16.0",
          "state": {
            "_model_module": "jupyter-leaflet",
            "_model_module_version": "^0.16.0",
            "_model_name": "LeafletMarkerModel",
            "_view_count": null,
            "_view_module": "jupyter-leaflet",
            "_view_module_version": "^0.16.0",
            "_view_name": "LeafletMarkerView",
            "alt": "",
            "base": false,
            "bottom": false,
            "draggable": false,
            "icon": null,
            "keyboard": true,
            "location": [
              27.9505095,
              -82.4572355
            ],
            "name": "",
            "opacity": 1,
            "options": [
              "alt",
              "draggable",
              "keyboard",
              "rise_offset",
              "rise_on_hover",
              "rotation_angle",
              "rotation_origin",
              "title",
              "z_index_offset"
            ],
            "popup": "IPY_MODEL_91596c5652f544059babf6b11f2fff32",
            "popup_max_height": null,
            "popup_max_width": 300,
            "popup_min_width": 50,
            "rise_offset": 250,
            "rise_on_hover": false,
            "rotation_angle": 0,
            "rotation_origin": "",
            "title": "",
            "visible": true,
            "z_index_offset": 0
          }
        },
        "1954cd3f340545509305c53bb9ad1526": {
          "model_module": "jupyter-leaflet",
          "model_name": "LeafletMarkerModel",
          "model_module_version": "^0.16.0",
          "state": {
            "_model_module": "jupyter-leaflet",
            "_model_module_version": "^0.16.0",
            "_model_name": "LeafletMarkerModel",
            "_view_count": null,
            "_view_module": "jupyter-leaflet",
            "_view_module_version": "^0.16.0",
            "_view_name": "LeafletMarkerView",
            "alt": "",
            "base": false,
            "bottom": false,
            "draggable": false,
            "icon": null,
            "keyboard": true,
            "location": [
              27.9492989,
              -82.4557374
            ],
            "name": "",
            "opacity": 1,
            "options": [
              "alt",
              "draggable",
              "keyboard",
              "rise_offset",
              "rise_on_hover",
              "rotation_angle",
              "rotation_origin",
              "title",
              "z_index_offset"
            ],
            "popup": "IPY_MODEL_f2758c79a7b84d488e5277d5b8743f34",
            "popup_max_height": null,
            "popup_max_width": 300,
            "popup_min_width": 50,
            "rise_offset": 250,
            "rise_on_hover": false,
            "rotation_angle": 0,
            "rotation_origin": "",
            "title": "",
            "visible": true,
            "z_index_offset": 0
          }
        },
        "534f7a9fb0664e41916a3d756623449a": {
          "model_module": "jupyter-leaflet",
          "model_name": "LeafletMarkerModel",
          "model_module_version": "^0.16.0",
          "state": {
            "_model_module": "jupyter-leaflet",
            "_model_module_version": "^0.16.0",
            "_model_name": "LeafletMarkerModel",
            "_view_count": null,
            "_view_module": "jupyter-leaflet",
            "_view_module_version": "^0.16.0",
            "_view_name": "LeafletMarkerView",
            "alt": "",
            "base": false,
            "bottom": false,
            "draggable": false,
            "icon": null,
            "keyboard": true,
            "location": [
              27.949589,
              -82.454896
            ],
            "name": "",
            "opacity": 1,
            "options": [
              "alt",
              "draggable",
              "keyboard",
              "rise_offset",
              "rise_on_hover",
              "rotation_angle",
              "rotation_origin",
              "title",
              "z_index_offset"
            ],
            "popup": "IPY_MODEL_3df0e5209d3049508e68426e5ca6f155",
            "popup_max_height": null,
            "popup_max_width": 300,
            "popup_min_width": 50,
            "rise_offset": 250,
            "rise_on_hover": false,
            "rotation_angle": 0,
            "rotation_origin": "",
            "title": "",
            "visible": true,
            "z_index_offset": 0
          }
        },
        "c0f0ab3ce5b24aef98eb08b2a97f3d63": {
          "model_module": "jupyter-leaflet",
          "model_name": "LeafletMarkerModel",
          "model_module_version": "^0.16.0",
          "state": {
            "_model_module": "jupyter-leaflet",
            "_model_module_version": "^0.16.0",
            "_model_name": "LeafletMarkerModel",
            "_view_count": null,
            "_view_module": "jupyter-leaflet",
            "_view_module_version": "^0.16.0",
            "_view_name": "LeafletMarkerView",
            "alt": "",
            "base": false,
            "bottom": false,
            "draggable": false,
            "icon": null,
            "keyboard": true,
            "location": [
              27.9474007,
              -82.4587699
            ],
            "name": "",
            "opacity": 1,
            "options": [
              "alt",
              "draggable",
              "keyboard",
              "rise_offset",
              "rise_on_hover",
              "rotation_angle",
              "rotation_origin",
              "title",
              "z_index_offset"
            ],
            "popup": "IPY_MODEL_845cee72d2bf4172a0cc46dde21f4434",
            "popup_max_height": null,
            "popup_max_width": 300,
            "popup_min_width": 50,
            "rise_offset": 250,
            "rise_on_hover": false,
            "rotation_angle": 0,
            "rotation_origin": "",
            "title": "",
            "visible": true,
            "z_index_offset": 0
          }
        },
        "b3397c63bbef4360b5201570f70679c9": {
          "model_module": "jupyter-leaflet",
          "model_name": "LeafletMarkerModel",
          "model_module_version": "^0.16.0",
          "state": {
            "_model_module": "jupyter-leaflet",
            "_model_module_version": "^0.16.0",
            "_model_name": "LeafletMarkerModel",
            "_view_count": null,
            "_view_module": "jupyter-leaflet",
            "_view_module_version": "^0.16.0",
            "_view_name": "LeafletMarkerView",
            "alt": "",
            "base": false,
            "bottom": false,
            "draggable": false,
            "icon": null,
            "keyboard": true,
            "location": [
              27.9476964,
              -82.4579291
            ],
            "name": "",
            "opacity": 1,
            "options": [
              "alt",
              "draggable",
              "keyboard",
              "rise_offset",
              "rise_on_hover",
              "rotation_angle",
              "rotation_origin",
              "title",
              "z_index_offset"
            ],
            "popup": "IPY_MODEL_51be751291614cba9bea416de8ccc240",
            "popup_max_height": null,
            "popup_max_width": 300,
            "popup_min_width": 50,
            "rise_offset": 250,
            "rise_on_hover": false,
            "rotation_angle": 0,
            "rotation_origin": "",
            "title": "",
            "visible": true,
            "z_index_offset": 0
          }
        },
        "7b000b6bc08a4ed8a168098ff458ddc0": {
          "model_module": "jupyter-leaflet",
          "model_name": "LeafletMarkerModel",
          "model_module_version": "^0.16.0",
          "state": {
            "_model_module": "jupyter-leaflet",
            "_model_module_version": "^0.16.0",
            "_model_name": "LeafletMarkerModel",
            "_view_count": null,
            "_view_module": "jupyter-leaflet",
            "_view_module_version": "^0.16.0",
            "_view_name": "LeafletMarkerView",
            "alt": "",
            "base": false,
            "bottom": false,
            "draggable": false,
            "icon": null,
            "keyboard": true,
            "location": [
              27.9479739,
              -82.4570982
            ],
            "name": "",
            "opacity": 1,
            "options": [
              "alt",
              "draggable",
              "keyboard",
              "rise_offset",
              "rise_on_hover",
              "rotation_angle",
              "rotation_origin",
              "title",
              "z_index_offset"
            ],
            "popup": "IPY_MODEL_f436e0eff4984cfa953d2adc4ae25329",
            "popup_max_height": null,
            "popup_max_width": 300,
            "popup_min_width": 50,
            "rise_offset": 250,
            "rise_on_hover": false,
            "rotation_angle": 0,
            "rotation_origin": "",
            "title": "",
            "visible": true,
            "z_index_offset": 0
          }
        },
        "f834440c820f4dbfb69f02af1402d345": {
          "model_module": "jupyter-leaflet",
          "model_name": "LeafletMarkerModel",
          "model_module_version": "^0.16.0",
          "state": {
            "_model_module": "jupyter-leaflet",
            "_model_module_version": "^0.16.0",
            "_model_name": "LeafletMarkerModel",
            "_view_count": null,
            "_view_module": "jupyter-leaflet",
            "_view_module_version": "^0.16.0",
            "_view_name": "LeafletMarkerView",
            "alt": "",
            "base": false,
            "bottom": false,
            "draggable": false,
            "icon": null,
            "keyboard": true,
            "location": [
              27.9485626,
              -82.4554104
            ],
            "name": "",
            "opacity": 1,
            "options": [
              "alt",
              "draggable",
              "keyboard",
              "rise_offset",
              "rise_on_hover",
              "rotation_angle",
              "rotation_origin",
              "title",
              "z_index_offset"
            ],
            "popup": "IPY_MODEL_117703898fa145abbf56b3cd1fe130eb",
            "popup_max_height": null,
            "popup_max_width": 300,
            "popup_min_width": 50,
            "rise_offset": 250,
            "rise_on_hover": false,
            "rotation_angle": 0,
            "rotation_origin": "",
            "title": "",
            "visible": true,
            "z_index_offset": 0
          }
        },
        "3698fac4c73a4effa3e91bb38210d93d": {
          "model_module": "jupyter-leaflet",
          "model_name": "LeafletMarkerModel",
          "model_module_version": "^0.16.0",
          "state": {
            "_model_module": "jupyter-leaflet",
            "_model_module_version": "^0.16.0",
            "_model_name": "LeafletMarkerModel",
            "_view_count": null,
            "_view_module": "jupyter-leaflet",
            "_view_module_version": "^0.16.0",
            "_view_name": "LeafletMarkerView",
            "alt": "",
            "base": false,
            "bottom": false,
            "draggable": false,
            "icon": null,
            "keyboard": true,
            "location": [
              27.9491431,
              -82.4537286
            ],
            "name": "",
            "opacity": 1,
            "options": [
              "alt",
              "draggable",
              "keyboard",
              "rise_offset",
              "rise_on_hover",
              "rotation_angle",
              "rotation_origin",
              "title",
              "z_index_offset"
            ],
            "popup": "IPY_MODEL_237412ac0d1c49e2ab36f55c538636ee",
            "popup_max_height": null,
            "popup_max_width": 300,
            "popup_min_width": 50,
            "rise_offset": 250,
            "rise_on_hover": false,
            "rotation_angle": 0,
            "rotation_origin": "",
            "title": "",
            "visible": true,
            "z_index_offset": 0
          }
        },
        "f14d6c1b129d45049a4b0fe18effa88d": {
          "model_module": "jupyter-leaflet",
          "model_name": "LeafletMarkerModel",
          "model_module_version": "^0.16.0",
          "state": {
            "_model_module": "jupyter-leaflet",
            "_model_module_version": "^0.16.0",
            "_model_name": "LeafletMarkerModel",
            "_view_count": null,
            "_view_module": "jupyter-leaflet",
            "_view_module_version": "^0.16.0",
            "_view_name": "LeafletMarkerView",
            "alt": "",
            "base": false,
            "bottom": false,
            "draggable": false,
            "icon": null,
            "keyboard": true,
            "location": [
              27.9496714,
              -82.4520812
            ],
            "name": "",
            "opacity": 1,
            "options": [
              "alt",
              "draggable",
              "keyboard",
              "rise_offset",
              "rise_on_hover",
              "rotation_angle",
              "rotation_origin",
              "title",
              "z_index_offset"
            ],
            "popup": "IPY_MODEL_e7a52beeebfc4634a19ca5efb08ef907",
            "popup_max_height": null,
            "popup_max_width": 300,
            "popup_min_width": 50,
            "rise_offset": 250,
            "rise_on_hover": false,
            "rotation_angle": 0,
            "rotation_origin": "",
            "title": "",
            "visible": true,
            "z_index_offset": 0
          }
        },
        "4839a4e0ade94f7e9636e2bd9225e41c": {
          "model_module": "jupyter-leaflet",
          "model_name": "LeafletMarkerModel",
          "model_module_version": "^0.16.0",
          "state": {
            "_model_module": "jupyter-leaflet",
            "_model_module_version": "^0.16.0",
            "_model_name": "LeafletMarkerModel",
            "_view_count": null,
            "_view_module": "jupyter-leaflet",
            "_view_module_version": "^0.16.0",
            "_view_name": "LeafletMarkerView",
            "alt": "",
            "base": false,
            "bottom": false,
            "draggable": false,
            "icon": null,
            "keyboard": true,
            "location": [
              27.950046,
              -82.456066
            ],
            "name": "",
            "opacity": 1,
            "options": [
              "alt",
              "draggable",
              "keyboard",
              "rise_offset",
              "rise_on_hover",
              "rotation_angle",
              "rotation_origin",
              "title",
              "z_index_offset"
            ],
            "popup": "IPY_MODEL_645c956a25974897b8cd2c640b4bf6d8",
            "popup_max_height": null,
            "popup_max_width": 300,
            "popup_min_width": 50,
            "rise_offset": 250,
            "rise_on_hover": false,
            "rotation_angle": 0,
            "rotation_origin": "",
            "title": "",
            "visible": true,
            "z_index_offset": 0
          }
        },
        "d9d4aaff264848b083a4e1d54795240e": {
          "model_module": "jupyter-leaflet",
          "model_name": "LeafletMarkerModel",
          "model_module_version": "^0.16.0",
          "state": {
            "_model_module": "jupyter-leaflet",
            "_model_module_version": "^0.16.0",
            "_model_name": "LeafletMarkerModel",
            "_view_count": null,
            "_view_module": "jupyter-leaflet",
            "_view_module_version": "^0.16.0",
            "_view_name": "LeafletMarkerView",
            "alt": "",
            "base": false,
            "bottom": false,
            "draggable": false,
            "icon": null,
            "keyboard": true,
            "location": [
              27.9507983,
              -82.4563932
            ],
            "name": "",
            "opacity": 1,
            "options": [
              "alt",
              "draggable",
              "keyboard",
              "rise_offset",
              "rise_on_hover",
              "rotation_angle",
              "rotation_origin",
              "title",
              "z_index_offset"
            ],
            "popup": "IPY_MODEL_aacabd0ee096499bb6eeabbc58cc24ff",
            "popup_max_height": null,
            "popup_max_width": 300,
            "popup_min_width": 50,
            "rise_offset": 250,
            "rise_on_hover": false,
            "rotation_angle": 0,
            "rotation_origin": "",
            "title": "",
            "visible": true,
            "z_index_offset": 0
          }
        },
        "c1a281db9ba24e399dd3d14f96bdda1c": {
          "model_module": "jupyter-leaflet",
          "model_name": "LeafletMarkerModel",
          "model_module_version": "^0.16.0",
          "state": {
            "_model_module": "jupyter-leaflet",
            "_model_module_version": "^0.16.0",
            "_model_name": "LeafletMarkerModel",
            "_view_count": null,
            "_view_module": "jupyter-leaflet",
            "_view_module_version": "^0.16.0",
            "_view_name": "LeafletMarkerView",
            "alt": "",
            "base": false,
            "bottom": false,
            "draggable": false,
            "icon": null,
            "keyboard": true,
            "location": [
              27.94889,
              -82.459428
            ],
            "name": "",
            "opacity": 1,
            "options": [
              "alt",
              "draggable",
              "keyboard",
              "rise_offset",
              "rise_on_hover",
              "rotation_angle",
              "rotation_origin",
              "title",
              "z_index_offset"
            ],
            "popup": "IPY_MODEL_2353916e385641f781900c6fdd61bc8e",
            "popup_max_height": null,
            "popup_max_width": 300,
            "popup_min_width": 50,
            "rise_offset": 250,
            "rise_on_hover": false,
            "rotation_angle": 0,
            "rotation_origin": "",
            "title": "",
            "visible": true,
            "z_index_offset": 0
          }
        },
        "86997d68ea2545018c240f6855ac2fc9": {
          "model_module": "jupyter-leaflet",
          "model_name": "LeafletMarkerModel",
          "model_module_version": "^0.16.0",
          "state": {
            "_model_module": "jupyter-leaflet",
            "_model_module_version": "^0.16.0",
            "_model_name": "LeafletMarkerModel",
            "_view_count": null,
            "_view_module": "jupyter-leaflet",
            "_view_module_version": "^0.16.0",
            "_view_name": "LeafletMarkerView",
            "alt": "",
            "base": false,
            "bottom": false,
            "draggable": false,
            "icon": null,
            "keyboard": true,
            "location": [
              27.9496351,
              -82.4597618
            ],
            "name": "",
            "opacity": 1,
            "options": [
              "alt",
              "draggable",
              "keyboard",
              "rise_offset",
              "rise_on_hover",
              "rotation_angle",
              "rotation_origin",
              "title",
              "z_index_offset"
            ],
            "popup": "IPY_MODEL_7d031996c4144487aabe36413b59bdcd",
            "popup_max_height": null,
            "popup_max_width": 300,
            "popup_min_width": 50,
            "rise_offset": 250,
            "rise_on_hover": false,
            "rotation_angle": 0,
            "rotation_origin": "",
            "title": "",
            "visible": true,
            "z_index_offset": 0
          }
        },
        "09819a74809d41ad90ef1d2984eeac0c": {
          "model_module": "jupyter-leaflet",
          "model_name": "LeafletMarkerModel",
          "model_module_version": "^0.16.0",
          "state": {
            "_model_module": "jupyter-leaflet",
            "_model_module_version": "^0.16.0",
            "_model_name": "LeafletMarkerModel",
            "_view_count": null,
            "_view_module": "jupyter-leaflet",
            "_view_module_version": "^0.16.0",
            "_view_name": "LeafletMarkerView",
            "alt": "",
            "base": false,
            "bottom": false,
            "draggable": false,
            "icon": null,
            "keyboard": true,
            "location": [
              27.9506251,
              -82.4543834
            ],
            "name": "",
            "opacity": 1,
            "options": [
              "alt",
              "draggable",
              "keyboard",
              "rise_offset",
              "rise_on_hover",
              "rotation_angle",
              "rotation_origin",
              "title",
              "z_index_offset"
            ],
            "popup": "IPY_MODEL_14cafbd0bed54255a13920c5f9003ee9",
            "popup_max_height": null,
            "popup_max_width": 300,
            "popup_min_width": 50,
            "rise_offset": 250,
            "rise_on_hover": false,
            "rotation_angle": 0,
            "rotation_origin": "",
            "title": "",
            "visible": true,
            "z_index_offset": 0
          }
        },
        "1d6bab88e10c414d9e4e4e09c7b289c0": {
          "model_module": "jupyter-leaflet",
          "model_name": "LeafletMarkerModel",
          "model_module_version": "^0.16.0",
          "state": {
            "_model_module": "jupyter-leaflet",
            "_model_module_version": "^0.16.0",
            "_model_name": "LeafletMarkerModel",
            "_view_count": null,
            "_view_module": "jupyter-leaflet",
            "_view_module_version": "^0.16.0",
            "_view_name": "LeafletMarkerView",
            "alt": "",
            "base": false,
            "bottom": false,
            "draggable": false,
            "icon": null,
            "keyboard": true,
            "location": [
              27.9513583,
              -82.4547077
            ],
            "name": "",
            "opacity": 1,
            "options": [
              "alt",
              "draggable",
              "keyboard",
              "rise_offset",
              "rise_on_hover",
              "rotation_angle",
              "rotation_origin",
              "title",
              "z_index_offset"
            ],
            "popup": "IPY_MODEL_27af11b5706e45bfa11a1c2f8cc6cc64",
            "popup_max_height": null,
            "popup_max_width": 300,
            "popup_min_width": 50,
            "rise_offset": 250,
            "rise_on_hover": false,
            "rotation_angle": 0,
            "rotation_origin": "",
            "title": "",
            "visible": true,
            "z_index_offset": 0
          }
        },
        "277251012fdb4b5da1d88aaa2cc07019": {
          "model_module": "jupyter-leaflet",
          "model_name": "LeafletMarkerModel",
          "model_module_version": "^0.16.0",
          "state": {
            "_model_module": "jupyter-leaflet",
            "_model_module_version": "^0.16.0",
            "_model_name": "LeafletMarkerModel",
            "_view_count": null,
            "_view_module": "jupyter-leaflet",
            "_view_module_version": "^0.16.0",
            "_view_name": "LeafletMarkerView",
            "alt": "",
            "base": false,
            "bottom": false,
            "draggable": false,
            "icon": null,
            "keyboard": true,
            "location": [
              27.9491829,
              -82.458618
            ],
            "name": "",
            "opacity": 1,
            "options": [
              "alt",
              "draggable",
              "keyboard",
              "rise_offset",
              "rise_on_hover",
              "rotation_angle",
              "rotation_origin",
              "title",
              "z_index_offset"
            ],
            "popup": "IPY_MODEL_e691cb09d87446d1a571c0344ce60573",
            "popup_max_height": null,
            "popup_max_width": 300,
            "popup_min_width": 50,
            "rise_offset": 250,
            "rise_on_hover": false,
            "rotation_angle": 0,
            "rotation_origin": "",
            "title": "",
            "visible": true,
            "z_index_offset": 0
          }
        },
        "08e78ab3f2bb4843b34998ef7563b9be": {
          "model_module": "jupyter-leaflet",
          "model_name": "LeafletMarkerModel",
          "model_module_version": "^0.16.0",
          "state": {
            "_model_module": "jupyter-leaflet",
            "_model_module_version": "^0.16.0",
            "_model_name": "LeafletMarkerModel",
            "_view_count": null,
            "_view_module": "jupyter-leaflet",
            "_view_module_version": "^0.16.0",
            "_view_name": "LeafletMarkerView",
            "alt": "",
            "base": false,
            "bottom": false,
            "draggable": false,
            "icon": null,
            "keyboard": true,
            "location": [
              27.949467,
              -82.457742
            ],
            "name": "",
            "opacity": 1,
            "options": [
              "alt",
              "draggable",
              "keyboard",
              "rise_offset",
              "rise_on_hover",
              "rotation_angle",
              "rotation_origin",
              "title",
              "z_index_offset"
            ],
            "popup": "IPY_MODEL_9fe6535dc80b43a49eb8a449c3a04f9d",
            "popup_max_height": null,
            "popup_max_width": 300,
            "popup_min_width": 50,
            "rise_offset": 250,
            "rise_on_hover": false,
            "rotation_angle": 0,
            "rotation_origin": "",
            "title": "",
            "visible": true,
            "z_index_offset": 0
          }
        },
        "bb37d28e49c9485cb41b6f11e7f4a91a": {
          "model_module": "jupyter-leaflet",
          "model_name": "LeafletMarkerModel",
          "model_module_version": "^0.16.0",
          "state": {
            "_model_module": "jupyter-leaflet",
            "_model_module_version": "^0.16.0",
            "_model_name": "LeafletMarkerModel",
            "_view_count": null,
            "_view_module": "jupyter-leaflet",
            "_view_module_version": "^0.16.0",
            "_view_name": "LeafletMarkerView",
            "alt": "",
            "base": false,
            "bottom": false,
            "draggable": false,
            "icon": null,
            "keyboard": true,
            "location": [
              27.950334,
              -82.455224
            ],
            "name": "",
            "opacity": 1,
            "options": [
              "alt",
              "draggable",
              "keyboard",
              "rise_offset",
              "rise_on_hover",
              "rotation_angle",
              "rotation_origin",
              "title",
              "z_index_offset"
            ],
            "popup": "IPY_MODEL_a3868860a30641b29708e63eefd37972",
            "popup_max_height": null,
            "popup_max_width": 300,
            "popup_min_width": 50,
            "rise_offset": 250,
            "rise_on_hover": false,
            "rotation_angle": 0,
            "rotation_origin": "",
            "title": "",
            "visible": true,
            "z_index_offset": 0
          }
        },
        "4f0db85d402e4aa3aab4d49218864886": {
          "model_module": "jupyter-leaflet",
          "model_name": "LeafletMarkerModel",
          "model_module_version": "^0.16.0",
          "state": {
            "_model_module": "jupyter-leaflet",
            "_model_module_version": "^0.16.0",
            "_model_name": "LeafletMarkerModel",
            "_view_count": null,
            "_view_module": "jupyter-leaflet",
            "_view_module_version": "^0.16.0",
            "_view_name": "LeafletMarkerView",
            "alt": "",
            "base": false,
            "bottom": false,
            "draggable": false,
            "icon": null,
            "keyboard": true,
            "location": [
              27.9509345,
              -82.4534884
            ],
            "name": "",
            "opacity": 1,
            "options": [
              "alt",
              "draggable",
              "keyboard",
              "rise_offset",
              "rise_on_hover",
              "rotation_angle",
              "rotation_origin",
              "title",
              "z_index_offset"
            ],
            "popup": "IPY_MODEL_6d25c44e3a8444fb9b423f239abea5ae",
            "popup_max_height": null,
            "popup_max_width": 300,
            "popup_min_width": 50,
            "rise_offset": 250,
            "rise_on_hover": false,
            "rotation_angle": 0,
            "rotation_origin": "",
            "title": "",
            "visible": true,
            "z_index_offset": 0
          }
        },
        "c0091ace9ee345aa92db9a2c6f1e5557": {
          "model_module": "jupyter-leaflet",
          "model_name": "LeafletMarkerModel",
          "model_module_version": "^0.16.0",
          "state": {
            "_model_module": "jupyter-leaflet",
            "_model_module_version": "^0.16.0",
            "_model_name": "LeafletMarkerModel",
            "_view_count": null,
            "_view_module": "jupyter-leaflet",
            "_view_module_version": "^0.16.0",
            "_view_name": "LeafletMarkerView",
            "alt": "",
            "base": false,
            "bottom": false,
            "draggable": false,
            "icon": null,
            "keyboard": true,
            "location": [
              27.9502261,
              -82.4580774
            ],
            "name": "",
            "opacity": 1,
            "options": [
              "alt",
              "draggable",
              "keyboard",
              "rise_offset",
              "rise_on_hover",
              "rotation_angle",
              "rotation_origin",
              "title",
              "z_index_offset"
            ],
            "popup": "IPY_MODEL_aa9fc1ed708a4b12a9aca1cd0295c826",
            "popup_max_height": null,
            "popup_max_width": 300,
            "popup_min_width": 50,
            "rise_offset": 250,
            "rise_on_hover": false,
            "rotation_angle": 0,
            "rotation_origin": "",
            "title": "",
            "visible": true,
            "z_index_offset": 0
          }
        },
        "b15713d7ea12498a841fcd251f0b8df0": {
          "model_module": "jupyter-leaflet",
          "model_name": "LeafletMarkerModel",
          "model_module_version": "^0.16.0",
          "state": {
            "_model_module": "jupyter-leaflet",
            "_model_module_version": "^0.16.0",
            "_model_name": "LeafletMarkerModel",
            "_view_count": null,
            "_view_module": "jupyter-leaflet",
            "_view_module_version": "^0.16.0",
            "_view_name": "LeafletMarkerView",
            "alt": "",
            "base": false,
            "bottom": false,
            "draggable": false,
            "icon": null,
            "keyboard": true,
            "location": [
              27.9499406,
              -82.4588911
            ],
            "name": "",
            "opacity": 1,
            "options": [
              "alt",
              "draggable",
              "keyboard",
              "rise_offset",
              "rise_on_hover",
              "rotation_angle",
              "rotation_origin",
              "title",
              "z_index_offset"
            ],
            "popup": "IPY_MODEL_a6bed152bdc04fb0818a81eac6952ee5",
            "popup_max_height": null,
            "popup_max_width": 300,
            "popup_min_width": 50,
            "rise_offset": 250,
            "rise_on_hover": false,
            "rotation_angle": 0,
            "rotation_origin": "",
            "title": "",
            "visible": true,
            "z_index_offset": 0
          }
        },
        "81598bc3a095412b95d14f7fc06a4148": {
          "model_module": "jupyter-leaflet",
          "model_name": "LeafletMarkerModel",
          "model_module_version": "^0.16.0",
          "state": {
            "_model_module": "jupyter-leaflet",
            "_model_module_version": "^0.16.0",
            "_model_name": "LeafletMarkerModel",
            "_view_count": null,
            "_view_module": "jupyter-leaflet",
            "_view_module_version": "^0.16.0",
            "_view_name": "LeafletMarkerView",
            "alt": "",
            "base": false,
            "bottom": false,
            "draggable": false,
            "icon": null,
            "keyboard": true,
            "location": [
              27.9510838,
              -82.4555525
            ],
            "name": "",
            "opacity": 1,
            "options": [
              "alt",
              "draggable",
              "keyboard",
              "rise_offset",
              "rise_on_hover",
              "rotation_angle",
              "rotation_origin",
              "title",
              "z_index_offset"
            ],
            "popup": "IPY_MODEL_62d927545b8c483b98123990c8ab0b5b",
            "popup_max_height": null,
            "popup_max_width": 300,
            "popup_min_width": 50,
            "rise_offset": 250,
            "rise_on_hover": false,
            "rotation_angle": 0,
            "rotation_origin": "",
            "title": "",
            "visible": true,
            "z_index_offset": 0
          }
        },
        "5b9c712e818d4c73a95dc93bd93c0b59": {
          "model_module": "jupyter-leaflet",
          "model_name": "LeafletMarkerModel",
          "model_module_version": "^0.16.0",
          "state": {
            "_model_module": "jupyter-leaflet",
            "_model_module_version": "^0.16.0",
            "_model_name": "LeafletMarkerModel",
            "_view_count": null,
            "_view_module": "jupyter-leaflet",
            "_view_module_version": "^0.16.0",
            "_view_name": "LeafletMarkerView",
            "alt": "",
            "base": false,
            "bottom": false,
            "draggable": false,
            "icon": null,
            "keyboard": true,
            "location": [
              27.9521639,
              -82.4550641
            ],
            "name": "",
            "opacity": 1,
            "options": [
              "alt",
              "draggable",
              "keyboard",
              "rise_offset",
              "rise_on_hover",
              "rotation_angle",
              "rotation_origin",
              "title",
              "z_index_offset"
            ],
            "popup": "IPY_MODEL_11991e8ce5994de083592900a5234a28",
            "popup_max_height": null,
            "popup_max_width": 300,
            "popup_min_width": 50,
            "rise_offset": 250,
            "rise_on_hover": false,
            "rotation_angle": 0,
            "rotation_origin": "",
            "title": "",
            "visible": true,
            "z_index_offset": 0
          }
        },
        "a7232effc62d4b10b70f5bee7ee89bae": {
          "model_module": "jupyter-leaflet",
          "model_name": "LeafletMarkerModel",
          "model_module_version": "^0.16.0",
          "state": {
            "_model_module": "jupyter-leaflet",
            "_model_module_version": "^0.16.0",
            "_model_name": "LeafletMarkerModel",
            "_view_count": null,
            "_view_module": "jupyter-leaflet",
            "_view_module_version": "^0.16.0",
            "_view_name": "LeafletMarkerView",
            "alt": "",
            "base": false,
            "bottom": false,
            "draggable": false,
            "icon": null,
            "keyboard": true,
            "location": [
              27.9518851,
              -82.4559013
            ],
            "name": "",
            "opacity": 1,
            "options": [
              "alt",
              "draggable",
              "keyboard",
              "rise_offset",
              "rise_on_hover",
              "rotation_angle",
              "rotation_origin",
              "title",
              "z_index_offset"
            ],
            "popup": "IPY_MODEL_b136d5b366e146238314647aeda9859e",
            "popup_max_height": null,
            "popup_max_width": 300,
            "popup_min_width": 50,
            "rise_offset": 250,
            "rise_on_hover": false,
            "rotation_angle": 0,
            "rotation_origin": "",
            "title": "",
            "visible": true,
            "z_index_offset": 0
          }
        },
        "89f048f331a64a1da5e5f713ee199248": {
          "model_module": "jupyter-leaflet",
          "model_name": "LeafletMarkerModel",
          "model_module_version": "^0.16.0",
          "state": {
            "_model_module": "jupyter-leaflet",
            "_model_module_version": "^0.16.0",
            "_model_name": "LeafletMarkerModel",
            "_view_count": null,
            "_view_module": "jupyter-leaflet",
            "_view_module_version": "^0.16.0",
            "_view_name": "LeafletMarkerView",
            "alt": "",
            "base": false,
            "bottom": false,
            "draggable": false,
            "icon": null,
            "keyboard": true,
            "location": [
              27.9487174,
              -82.4574238
            ],
            "name": "",
            "opacity": 1,
            "options": [
              "alt",
              "draggable",
              "keyboard",
              "rise_offset",
              "rise_on_hover",
              "rotation_angle",
              "rotation_origin",
              "title",
              "z_index_offset"
            ],
            "popup": "IPY_MODEL_55d355bddda948699cc341be7c654f45",
            "popup_max_height": null,
            "popup_max_width": 300,
            "popup_min_width": 50,
            "rise_offset": 250,
            "rise_on_hover": false,
            "rotation_angle": 0,
            "rotation_origin": "",
            "title": "",
            "visible": true,
            "z_index_offset": 0
          }
        },
        "05e996756fa94ea4be8d7baf25da2071": {
          "model_module": "jupyter-leaflet",
          "model_name": "LeafletMarkerModel",
          "model_module_version": "^0.16.0",
          "state": {
            "_model_module": "jupyter-leaflet",
            "_model_module_version": "^0.16.0",
            "_model_name": "LeafletMarkerModel",
            "_view_count": null,
            "_view_module": "jupyter-leaflet",
            "_view_module_version": "^0.16.0",
            "_view_name": "LeafletMarkerView",
            "alt": "",
            "base": false,
            "bottom": false,
            "draggable": false,
            "icon": null,
            "keyboard": true,
            "location": [
              27.9488521,
              -82.4545754
            ],
            "name": "",
            "opacity": 1,
            "options": [
              "alt",
              "draggable",
              "keyboard",
              "rise_offset",
              "rise_on_hover",
              "rotation_angle",
              "rotation_origin",
              "title",
              "z_index_offset"
            ],
            "popup": "IPY_MODEL_03c07d2ed30746bfa1fcd02aa251b76f",
            "popup_max_height": null,
            "popup_max_width": 300,
            "popup_min_width": 50,
            "rise_offset": 250,
            "rise_on_hover": false,
            "rotation_angle": 0,
            "rotation_origin": "",
            "title": "",
            "visible": true,
            "z_index_offset": 0
          }
        },
        "8e678c4ea40a489faa7093402f3c63ad": {
          "model_module": "jupyter-leaflet",
          "model_name": "LeafletMarkerModel",
          "model_module_version": "^0.16.0",
          "state": {
            "_model_module": "jupyter-leaflet",
            "_model_module_version": "^0.16.0",
            "_model_name": "LeafletMarkerModel",
            "_view_count": null,
            "_view_module": "jupyter-leaflet",
            "_view_module_version": "^0.16.0",
            "_view_name": "LeafletMarkerView",
            "alt": "",
            "base": false,
            "bottom": false,
            "draggable": false,
            "icon": null,
            "keyboard": true,
            "location": [
              27.9484372,
              -82.4582366
            ],
            "name": "",
            "opacity": 1,
            "options": [
              "alt",
              "draggable",
              "keyboard",
              "rise_offset",
              "rise_on_hover",
              "rotation_angle",
              "rotation_origin",
              "title",
              "z_index_offset"
            ],
            "popup": "IPY_MODEL_b824992a9db7406dbc958e8e9b289e35",
            "popup_max_height": null,
            "popup_max_width": 300,
            "popup_min_width": 50,
            "rise_offset": 250,
            "rise_on_hover": false,
            "rotation_angle": 0,
            "rotation_origin": "",
            "title": "",
            "visible": true,
            "z_index_offset": 0
          }
        },
        "32f3195eee444fbdb0fe42fa71607f3f": {
          "model_module": "jupyter-leaflet",
          "model_name": "LeafletMarkerModel",
          "model_module_version": "^0.16.0",
          "state": {
            "_model_module": "jupyter-leaflet",
            "_model_module_version": "^0.16.0",
            "_model_name": "LeafletMarkerModel",
            "_view_count": null,
            "_view_module": "jupyter-leaflet",
            "_view_module_version": "^0.16.0",
            "_view_name": "LeafletMarkerView",
            "alt": "",
            "base": false,
            "bottom": false,
            "draggable": false,
            "icon": null,
            "keyboard": true,
            "location": [
              27.9481406,
              -82.4590968
            ],
            "name": "",
            "opacity": 1,
            "options": [
              "alt",
              "draggable",
              "keyboard",
              "rise_offset",
              "rise_on_hover",
              "rotation_angle",
              "rotation_origin",
              "title",
              "z_index_offset"
            ],
            "popup": "IPY_MODEL_4225a29bd5d84f98bdc4f0b42cc91da2",
            "popup_max_height": null,
            "popup_max_width": 300,
            "popup_min_width": 50,
            "rise_offset": 250,
            "rise_on_hover": false,
            "rotation_angle": 0,
            "rotation_origin": "",
            "title": "",
            "visible": true,
            "z_index_offset": 0
          }
        },
        "01aa00a9a03a44f78456219cccc676ec": {
          "model_module": "jupyter-leaflet",
          "model_name": "LeafletMarkerModel",
          "model_module_version": "^0.16.0",
          "state": {
            "_model_module": "jupyter-leaflet",
            "_model_module_version": "^0.16.0",
            "_model_name": "LeafletMarkerModel",
            "_view_count": null,
            "_view_module": "jupyter-leaflet",
            "_view_module_version": "^0.16.0",
            "_view_name": "LeafletMarkerView",
            "alt": "",
            "base": false,
            "bottom": false,
            "draggable": false,
            "icon": null,
            "keyboard": true,
            "location": [
              27.9513109,
              -82.4575877
            ],
            "name": "",
            "opacity": 1,
            "options": [
              "alt",
              "draggable",
              "keyboard",
              "rise_offset",
              "rise_on_hover",
              "rotation_angle",
              "rotation_origin",
              "title",
              "z_index_offset"
            ],
            "popup": "IPY_MODEL_60b3361506904a2fa1c711486c87d9cf",
            "popup_max_height": null,
            "popup_max_width": 300,
            "popup_min_width": 50,
            "rise_offset": 250,
            "rise_on_hover": false,
            "rotation_angle": 0,
            "rotation_origin": "",
            "title": "",
            "visible": true,
            "z_index_offset": 0
          }
        },
        "52c02f2c59f74e5389727654d90df288": {
          "model_module": "jupyter-leaflet",
          "model_name": "LeafletMarkerModel",
          "model_module_version": "^0.16.0",
          "state": {
            "_model_module": "jupyter-leaflet",
            "_model_module_version": "^0.16.0",
            "_model_name": "LeafletMarkerModel",
            "_view_count": null,
            "_view_module": "jupyter-leaflet",
            "_view_module_version": "^0.16.0",
            "_view_name": "LeafletMarkerView",
            "alt": "",
            "base": false,
            "bottom": false,
            "draggable": false,
            "icon": null,
            "keyboard": true,
            "location": [
              27.9509047,
              -82.458369
            ],
            "name": "",
            "opacity": 1,
            "options": [
              "alt",
              "draggable",
              "keyboard",
              "rise_offset",
              "rise_on_hover",
              "rotation_angle",
              "rotation_origin",
              "title",
              "z_index_offset"
            ],
            "popup": "IPY_MODEL_7eaad1d1b420470cbeb7b9dcd65ecf5f",
            "popup_max_height": null,
            "popup_max_width": 300,
            "popup_min_width": 50,
            "rise_offset": 250,
            "rise_on_hover": false,
            "rotation_angle": 0,
            "rotation_origin": "",
            "title": "",
            "visible": true,
            "z_index_offset": 0
          }
        },
        "430d6f4684f54362af1638a471f313ca": {
          "model_module": "jupyter-leaflet",
          "model_name": "LeafletMarkerModel",
          "model_module_version": "^0.16.0",
          "state": {
            "_model_module": "jupyter-leaflet",
            "_model_module_version": "^0.16.0",
            "_model_name": "LeafletMarkerModel",
            "_view_count": null,
            "_view_module": "jupyter-leaflet",
            "_view_module_version": "^0.16.0",
            "_view_name": "LeafletMarkerView",
            "alt": "",
            "base": false,
            "bottom": false,
            "draggable": false,
            "icon": null,
            "keyboard": true,
            "location": [
              27.9517732,
              -82.4558526
            ],
            "name": "",
            "opacity": 1,
            "options": [
              "alt",
              "draggable",
              "keyboard",
              "rise_offset",
              "rise_on_hover",
              "rotation_angle",
              "rotation_origin",
              "title",
              "z_index_offset"
            ],
            "popup": "IPY_MODEL_fe3e8415dd2a41fa832069084aed1873",
            "popup_max_height": null,
            "popup_max_width": 300,
            "popup_min_width": 50,
            "rise_offset": 250,
            "rise_on_hover": false,
            "rotation_angle": 0,
            "rotation_origin": "",
            "title": "",
            "visible": true,
            "z_index_offset": 0
          }
        },
        "061eaa575b604eb5a300bb520851d539": {
          "model_module": "jupyter-leaflet",
          "model_name": "LeafletMarkerModel",
          "model_module_version": "^0.16.0",
          "state": {
            "_model_module": "jupyter-leaflet",
            "_model_module_version": "^0.16.0",
            "_model_name": "LeafletMarkerModel",
            "_view_count": null,
            "_view_module": "jupyter-leaflet",
            "_view_module_version": "^0.16.0",
            "_view_name": "LeafletMarkerView",
            "alt": "",
            "base": false,
            "bottom": false,
            "draggable": false,
            "icon": null,
            "keyboard": true,
            "location": [
              27.9507079,
              -82.4592888
            ],
            "name": "",
            "opacity": 1,
            "options": [
              "alt",
              "draggable",
              "keyboard",
              "rise_offset",
              "rise_on_hover",
              "rotation_angle",
              "rotation_origin",
              "title",
              "z_index_offset"
            ],
            "popup": "IPY_MODEL_c67e77f833e14bb8a38bfe82d5b8a3e1",
            "popup_max_height": null,
            "popup_max_width": 300,
            "popup_min_width": 50,
            "rise_offset": 250,
            "rise_on_hover": false,
            "rotation_angle": 0,
            "rotation_origin": "",
            "title": "",
            "visible": true,
            "z_index_offset": 0
          }
        },
        "57ceb6670dfd4c43891c3ac01583f4b4": {
          "model_module": "jupyter-leaflet",
          "model_name": "LeafletMarkerModel",
          "model_module_version": "^0.16.0",
          "state": {
            "_model_module": "jupyter-leaflet",
            "_model_module_version": "^0.16.0",
            "_model_name": "LeafletMarkerModel",
            "_view_count": null,
            "_view_module": "jupyter-leaflet",
            "_view_module_version": "^0.16.0",
            "_view_name": "LeafletMarkerView",
            "alt": "",
            "base": false,
            "bottom": false,
            "draggable": false,
            "icon": null,
            "keyboard": true,
            "location": [
              27.9511945,
              -82.4575361
            ],
            "name": "",
            "opacity": 1,
            "options": [
              "alt",
              "draggable",
              "keyboard",
              "rise_offset",
              "rise_on_hover",
              "rotation_angle",
              "rotation_origin",
              "title",
              "z_index_offset"
            ],
            "popup": "IPY_MODEL_fbcb8f2da95c414ca3b79b2111e820e7",
            "popup_max_height": null,
            "popup_max_width": 300,
            "popup_min_width": 50,
            "rise_offset": 250,
            "rise_on_hover": false,
            "rotation_angle": 0,
            "rotation_origin": "",
            "title": "",
            "visible": true,
            "z_index_offset": 0
          }
        },
        "113f77d5edf04dcba25ed5864f888b93": {
          "model_module": "jupyter-leaflet",
          "model_name": "LeafletMarkerModel",
          "model_module_version": "^0.16.0",
          "state": {
            "_model_module": "jupyter-leaflet",
            "_model_module_version": "^0.16.0",
            "_model_name": "LeafletMarkerModel",
            "_view_count": null,
            "_view_module": "jupyter-leaflet",
            "_view_module_version": "^0.16.0",
            "_view_name": "LeafletMarkerView",
            "alt": "",
            "base": false,
            "bottom": false,
            "draggable": false,
            "icon": null,
            "keyboard": true,
            "location": [
              27.9514854,
              -82.4567021
            ],
            "name": "",
            "opacity": 1,
            "options": [
              "alt",
              "draggable",
              "keyboard",
              "rise_offset",
              "rise_on_hover",
              "rotation_angle",
              "rotation_origin",
              "title",
              "z_index_offset"
            ],
            "popup": "IPY_MODEL_5a872fc65c3c41e49a10bac8a8357339",
            "popup_max_height": null,
            "popup_max_width": 300,
            "popup_min_width": 50,
            "rise_offset": 250,
            "rise_on_hover": false,
            "rotation_angle": 0,
            "rotation_origin": "",
            "title": "",
            "visible": true,
            "z_index_offset": 0
          }
        },
        "21c7ea1e7be4433c8b328477c9a9e3f8": {
          "model_module": "jupyter-leaflet",
          "model_name": "LeafletMarkerModel",
          "model_module_version": "^0.16.0",
          "state": {
            "_model_module": "jupyter-leaflet",
            "_model_module_version": "^0.16.0",
            "_model_name": "LeafletMarkerModel",
            "_view_count": null,
            "_view_module": "jupyter-leaflet",
            "_view_module_version": "^0.16.0",
            "_view_name": "LeafletMarkerView",
            "alt": "",
            "base": false,
            "bottom": false,
            "draggable": false,
            "icon": null,
            "keyboard": true,
            "location": [
              27.9503389,
              -82.4600751
            ],
            "name": "",
            "opacity": 1,
            "options": [
              "alt",
              "draggable",
              "keyboard",
              "rise_offset",
              "rise_on_hover",
              "rotation_angle",
              "rotation_origin",
              "title",
              "z_index_offset"
            ],
            "popup": "IPY_MODEL_91c7b81d97b14beeb373f08dbe30e751",
            "popup_max_height": null,
            "popup_max_width": 300,
            "popup_min_width": 50,
            "rise_offset": 250,
            "rise_on_hover": false,
            "rotation_angle": 0,
            "rotation_origin": "",
            "title": "",
            "visible": true,
            "z_index_offset": 0
          }
        },
        "05e970430e8447d9a283db8cdec745fa": {
          "model_module": "jupyter-leaflet",
          "model_name": "LeafletMarkerModel",
          "model_module_version": "^0.16.0",
          "state": {
            "_model_module": "jupyter-leaflet",
            "_model_module_version": "^0.16.0",
            "_model_name": "LeafletMarkerModel",
            "_view_count": null,
            "_view_module": "jupyter-leaflet",
            "_view_module_version": "^0.16.0",
            "_view_name": "LeafletMarkerView",
            "alt": "",
            "base": false,
            "bottom": false,
            "draggable": false,
            "icon": null,
            "keyboard": true,
            "location": [
              27.9504301,
              -82.4601125
            ],
            "name": "",
            "opacity": 1,
            "options": [
              "alt",
              "draggable",
              "keyboard",
              "rise_offset",
              "rise_on_hover",
              "rotation_angle",
              "rotation_origin",
              "title",
              "z_index_offset"
            ],
            "popup": "IPY_MODEL_04b9ae4887034a2984b7b907fdd0ec8c",
            "popup_max_height": null,
            "popup_max_width": 300,
            "popup_min_width": 50,
            "rise_offset": 250,
            "rise_on_hover": false,
            "rotation_angle": 0,
            "rotation_origin": "",
            "title": "",
            "visible": true,
            "z_index_offset": 0
          }
        },
        "9df68d12c53f444380d3495e1d2c0d2a": {
          "model_module": "jupyter-leaflet",
          "model_name": "LeafletMarkerModel",
          "model_module_version": "^0.16.0",
          "state": {
            "_model_module": "jupyter-leaflet",
            "_model_module_version": "^0.16.0",
            "_model_name": "LeafletMarkerModel",
            "_view_count": null,
            "_view_module": "jupyter-leaflet",
            "_view_module_version": "^0.16.0",
            "_view_name": "LeafletMarkerView",
            "alt": "",
            "base": false,
            "bottom": false,
            "draggable": false,
            "icon": null,
            "keyboard": true,
            "location": [
              27.950614,
              -82.4592474
            ],
            "name": "",
            "opacity": 1,
            "options": [
              "alt",
              "draggable",
              "keyboard",
              "rise_offset",
              "rise_on_hover",
              "rotation_angle",
              "rotation_origin",
              "title",
              "z_index_offset"
            ],
            "popup": "IPY_MODEL_e3fb8c3270704f6d90b343bc374f3c05",
            "popup_max_height": null,
            "popup_max_width": 300,
            "popup_min_width": 50,
            "rise_offset": 250,
            "rise_on_hover": false,
            "rotation_angle": 0,
            "rotation_origin": "",
            "title": "",
            "visible": true,
            "z_index_offset": 0
          }
        },
        "30375dea02824ffa980548a529c77bf3": {
          "model_module": "jupyter-leaflet",
          "model_name": "LeafletMarkerModel",
          "model_module_version": "^0.16.0",
          "state": {
            "_model_module": "jupyter-leaflet",
            "_model_module_version": "^0.16.0",
            "_model_name": "LeafletMarkerModel",
            "_view_count": null,
            "_view_module": "jupyter-leaflet",
            "_view_module_version": "^0.16.0",
            "_view_name": "LeafletMarkerView",
            "alt": "",
            "base": false,
            "bottom": false,
            "draggable": false,
            "icon": null,
            "keyboard": true,
            "location": [
              27.9516018,
              -82.4567536
            ],
            "name": "",
            "opacity": 1,
            "options": [
              "alt",
              "draggable",
              "keyboard",
              "rise_offset",
              "rise_on_hover",
              "rotation_angle",
              "rotation_origin",
              "title",
              "z_index_offset"
            ],
            "popup": "IPY_MODEL_5de05a4149a946159deb1d51e73e5215",
            "popup_max_height": null,
            "popup_max_width": 300,
            "popup_min_width": 50,
            "rise_offset": 250,
            "rise_on_hover": false,
            "rotation_angle": 0,
            "rotation_origin": "",
            "title": "",
            "visible": true,
            "z_index_offset": 0
          }
        },
        "2609daa1f04e4773af582b4e66342100": {
          "model_module": "jupyter-leaflet",
          "model_name": "LeafletMarkerModel",
          "model_module_version": "^0.16.0",
          "state": {
            "_model_module": "jupyter-leaflet",
            "_model_module_version": "^0.16.0",
            "_model_name": "LeafletMarkerModel",
            "_view_count": null,
            "_view_module": "jupyter-leaflet",
            "_view_module_version": "^0.16.0",
            "_view_name": "LeafletMarkerView",
            "alt": "",
            "base": false,
            "bottom": false,
            "draggable": false,
            "icon": null,
            "keyboard": true,
            "location": [
              27.952062,
              -82.4550191
            ],
            "name": "",
            "opacity": 1,
            "options": [
              "alt",
              "draggable",
              "keyboard",
              "rise_offset",
              "rise_on_hover",
              "rotation_angle",
              "rotation_origin",
              "title",
              "z_index_offset"
            ],
            "popup": "IPY_MODEL_f7ce10d791d343228d2393b987322f66",
            "popup_max_height": null,
            "popup_max_width": 300,
            "popup_min_width": 50,
            "rise_offset": 250,
            "rise_on_hover": false,
            "rotation_angle": 0,
            "rotation_origin": "",
            "title": "",
            "visible": true,
            "z_index_offset": 0
          }
        },
        "8f63797ebcfc4d0f9e3ce94d66804cdf": {
          "model_module": "jupyter-leaflet",
          "model_name": "LeafletMarkerModel",
          "model_module_version": "^0.16.0",
          "state": {
            "_model_module": "jupyter-leaflet",
            "_model_module_version": "^0.16.0",
            "_model_name": "LeafletMarkerModel",
            "_view_count": null,
            "_view_module": "jupyter-leaflet",
            "_view_module_version": "^0.16.0",
            "_view_name": "LeafletMarkerView",
            "alt": "",
            "base": false,
            "bottom": false,
            "draggable": false,
            "icon": null,
            "keyboard": true,
            "location": [
              27.9510067,
              -82.4584148
            ],
            "name": "",
            "opacity": 1,
            "options": [
              "alt",
              "draggable",
              "keyboard",
              "rise_offset",
              "rise_on_hover",
              "rotation_angle",
              "rotation_origin",
              "title",
              "z_index_offset"
            ],
            "popup": "IPY_MODEL_2e0d7181fb094c87af1014c949bb5b18",
            "popup_max_height": null,
            "popup_max_width": 300,
            "popup_min_width": 50,
            "rise_offset": 250,
            "rise_on_hover": false,
            "rotation_angle": 0,
            "rotation_origin": "",
            "title": "",
            "visible": true,
            "z_index_offset": 0
          }
        },
        "5a61a06bdef449f8b5c745c0a75eb5fc": {
          "model_module": "jupyter-leaflet",
          "model_name": "LeafletMarkerModel",
          "model_module_version": "^0.16.0",
          "state": {
            "_model_module": "jupyter-leaflet",
            "_model_module_version": "^0.16.0",
            "_model_name": "LeafletMarkerModel",
            "_view_count": null,
            "_view_module": "jupyter-leaflet",
            "_view_module_version": "^0.16.0",
            "_view_name": "LeafletMarkerView",
            "alt": "",
            "base": false,
            "bottom": false,
            "draggable": false,
            "icon": null,
            "keyboard": true,
            "location": [
              27.9494924,
              -82.4528486
            ],
            "name": "",
            "opacity": 1,
            "options": [
              "alt",
              "draggable",
              "keyboard",
              "rise_offset",
              "rise_on_hover",
              "rotation_angle",
              "rotation_origin",
              "title",
              "z_index_offset"
            ],
            "popup": "IPY_MODEL_1ac558e2d0014cfca4cb08514b1f9073",
            "popup_max_height": null,
            "popup_max_width": 300,
            "popup_min_width": 50,
            "rise_offset": 250,
            "rise_on_hover": false,
            "rotation_angle": 0,
            "rotation_origin": "",
            "title": "",
            "visible": true,
            "z_index_offset": 0
          }
        },
        "2b5178adabb34f3688dfdf4a459e66d4": {
          "model_module": "jupyter-leaflet",
          "model_name": "LeafletMarkerModel",
          "model_module_version": "^0.16.0",
          "state": {
            "_model_module": "jupyter-leaflet",
            "_model_module_version": "^0.16.0",
            "_model_name": "LeafletMarkerModel",
            "_view_count": null,
            "_view_module": "jupyter-leaflet",
            "_view_module_version": "^0.16.0",
            "_view_name": "LeafletMarkerView",
            "alt": "",
            "base": false,
            "bottom": false,
            "draggable": false,
            "icon": null,
            "keyboard": true,
            "location": [
              27.9493983,
              -82.4528747
            ],
            "name": "",
            "opacity": 1,
            "options": [
              "alt",
              "draggable",
              "keyboard",
              "rise_offset",
              "rise_on_hover",
              "rotation_angle",
              "rotation_origin",
              "title",
              "z_index_offset"
            ],
            "popup": "IPY_MODEL_6382edb9a688441ea4f9da36802ea623",
            "popup_max_height": null,
            "popup_max_width": 300,
            "popup_min_width": 50,
            "rise_offset": 250,
            "rise_on_hover": false,
            "rotation_angle": 0,
            "rotation_origin": "",
            "title": "",
            "visible": true,
            "z_index_offset": 0
          }
        },
        "b73f282d080f4c1f9d01d06a4180dea3": {
          "model_module": "jupyter-leaflet",
          "model_name": "LeafletMarkerModel",
          "model_module_version": "^0.16.0",
          "state": {
            "_model_module": "jupyter-leaflet",
            "_model_module_version": "^0.16.0",
            "_model_name": "LeafletMarkerModel",
            "_view_count": null,
            "_view_module": "jupyter-leaflet",
            "_view_module_version": "^0.16.0",
            "_view_name": "LeafletMarkerView",
            "alt": "",
            "base": false,
            "bottom": false,
            "draggable": false,
            "icon": null,
            "keyboard": true,
            "location": [
              27.9494,
              -82.4529909
            ],
            "name": "",
            "opacity": 1,
            "options": [
              "alt",
              "draggable",
              "keyboard",
              "rise_offset",
              "rise_on_hover",
              "rotation_angle",
              "rotation_origin",
              "title",
              "z_index_offset"
            ],
            "popup": "IPY_MODEL_7f5c087fbc934e3e97921e07198bfab3",
            "popup_max_height": null,
            "popup_max_width": 300,
            "popup_min_width": 50,
            "rise_offset": 250,
            "rise_on_hover": false,
            "rotation_angle": 0,
            "rotation_origin": "",
            "title": "",
            "visible": true,
            "z_index_offset": 0
          }
        },
        "e07a0f88c4654cbd84be5c51c84f1069": {
          "model_module": "@jupyter-widgets/base",
          "model_name": "LayoutModel",
          "model_module_version": "1.2.0",
          "state": {
            "_model_module": "@jupyter-widgets/base",
            "_model_module_version": "1.2.0",
            "_model_name": "LayoutModel",
            "_view_count": null,
            "_view_module": "@jupyter-widgets/base",
            "_view_module_version": "1.2.0",
            "_view_name": "LayoutView",
            "align_content": null,
            "align_items": null,
            "align_self": null,
            "border": null,
            "bottom": null,
            "display": null,
            "flex": null,
            "flex_flow": null,
            "grid_area": null,
            "grid_auto_columns": null,
            "grid_auto_flow": null,
            "grid_auto_rows": null,
            "grid_column": null,
            "grid_gap": null,
            "grid_row": null,
            "grid_template_areas": null,
            "grid_template_columns": null,
            "grid_template_rows": null,
            "height": null,
            "justify_content": null,
            "justify_items": null,
            "left": null,
            "margin": null,
            "max_height": null,
            "max_width": null,
            "min_height": null,
            "min_width": null,
            "object_fit": null,
            "object_position": null,
            "order": null,
            "overflow": null,
            "overflow_x": null,
            "overflow_y": null,
            "padding": null,
            "right": null,
            "top": null,
            "visibility": null,
            "width": null
          }
        },
        "4f95ce096a7f487f9007d1b003cfe6f9": {
          "model_module": "@jupyter-widgets/controls",
          "model_name": "ToggleButtonModel",
          "model_module_version": "1.5.0",
          "state": {
            "_dom_classes": [],
            "_model_module": "@jupyter-widgets/controls",
            "_model_module_version": "1.5.0",
            "_model_name": "ToggleButtonModel",
            "_view_count": null,
            "_view_module": "@jupyter-widgets/controls",
            "_view_module_version": "1.5.0",
            "_view_name": "ToggleButtonView",
            "button_style": "",
            "description": "",
            "description_tooltip": null,
            "disabled": false,
            "icon": "wrench",
            "layout": "IPY_MODEL_c1bc2565231a4c1783dc9c3985b99727",
            "style": "IPY_MODEL_86eceb634d164030b59ded4511c62ad3",
            "tooltip": "Toolbar",
            "value": false
          }
        },
        "b612a6fe0c2943d8b0f445e1b163f905": {
          "model_module": "@jupyter-widgets/base",
          "model_name": "LayoutModel",
          "model_module_version": "1.2.0",
          "state": {
            "_model_module": "@jupyter-widgets/base",
            "_model_module_version": "1.2.0",
            "_model_name": "LayoutModel",
            "_view_count": null,
            "_view_module": "@jupyter-widgets/base",
            "_view_module_version": "1.2.0",
            "_view_name": "LayoutView",
            "align_content": null,
            "align_items": null,
            "align_self": null,
            "border": null,
            "bottom": null,
            "display": null,
            "flex": null,
            "flex_flow": null,
            "grid_area": null,
            "grid_auto_columns": null,
            "grid_auto_flow": null,
            "grid_auto_rows": null,
            "grid_column": null,
            "grid_gap": null,
            "grid_row": null,
            "grid_template_areas": null,
            "grid_template_columns": null,
            "grid_template_rows": null,
            "height": null,
            "justify_content": null,
            "justify_items": null,
            "left": null,
            "margin": null,
            "max_height": null,
            "max_width": null,
            "min_height": null,
            "min_width": null,
            "object_fit": null,
            "object_position": null,
            "order": null,
            "overflow": null,
            "overflow_x": null,
            "overflow_y": null,
            "padding": null,
            "right": null,
            "top": null,
            "visibility": null,
            "width": null
          }
        },
        "aba6f58151a14ce888351fec1d085dea": {
          "model_module": "@jupyter-widgets/controls",
          "model_name": "HBoxModel",
          "model_module_version": "1.5.0",
          "state": {
            "_dom_classes": [],
            "_model_module": "@jupyter-widgets/controls",
            "_model_module_version": "1.5.0",
            "_model_name": "HBoxModel",
            "_view_count": null,
            "_view_module": "@jupyter-widgets/controls",
            "_view_module_version": "1.5.0",
            "_view_name": "HBoxView",
            "box_style": "",
            "children": [
              "IPY_MODEL_5cfb278f108043dbbac40cccb52e05f2",
              "IPY_MODEL_c7dce053046942a7a96c484eb04be132"
            ],
            "layout": "IPY_MODEL_dbaf5a58375245dc8a63e1714f6725fb"
          }
        },
        "d16317bd5efa412e9289e8c7ae3601c7": {
          "model_module": "@jupyter-widgets/controls",
          "model_name": "HTMLModel",
          "model_module_version": "1.5.0",
          "state": {
            "_dom_classes": [],
            "_model_module": "@jupyter-widgets/controls",
            "_model_module_version": "1.5.0",
            "_model_name": "HTMLModel",
            "_view_count": null,
            "_view_module": "@jupyter-widgets/controls",
            "_view_module_version": "1.5.0",
            "_view_name": "HTMLView",
            "description": "",
            "description_tooltip": null,
            "layout": "IPY_MODEL_1e612e723af64ae2b72c37c0087ec68d",
            "placeholder": "​",
            "style": "IPY_MODEL_26debc408ebc4dea8b621bd718e31157",
            "value": ""
          }
        },
        "ae61c89ae45d4ec2ac1d2852e119f10c": {
          "model_module": "@jupyter-widgets/base",
          "model_name": "LayoutModel",
          "model_module_version": "1.2.0",
          "state": {
            "_model_module": "@jupyter-widgets/base",
            "_model_module_version": "1.2.0",
            "_model_name": "LayoutModel",
            "_view_count": null,
            "_view_module": "@jupyter-widgets/base",
            "_view_module_version": "1.2.0",
            "_view_name": "LayoutView",
            "align_content": null,
            "align_items": null,
            "align_self": null,
            "border": null,
            "bottom": null,
            "display": null,
            "flex": null,
            "flex_flow": null,
            "grid_area": null,
            "grid_auto_columns": null,
            "grid_auto_flow": null,
            "grid_auto_rows": null,
            "grid_column": null,
            "grid_gap": null,
            "grid_row": null,
            "grid_template_areas": null,
            "grid_template_columns": null,
            "grid_template_rows": null,
            "height": null,
            "justify_content": null,
            "justify_items": null,
            "left": null,
            "margin": null,
            "max_height": null,
            "max_width": null,
            "min_height": null,
            "min_width": null,
            "object_fit": null,
            "object_position": null,
            "order": null,
            "overflow": null,
            "overflow_x": null,
            "overflow_y": null,
            "padding": null,
            "right": null,
            "top": null,
            "visibility": null,
            "width": null
          }
        },
        "094d296c6bf748c98006c87c9389113d": {
          "model_module": "@jupyter-widgets/controls",
          "model_name": "HTMLModel",
          "model_module_version": "1.5.0",
          "state": {
            "_dom_classes": [],
            "_model_module": "@jupyter-widgets/controls",
            "_model_module_version": "1.5.0",
            "_model_name": "HTMLModel",
            "_view_count": null,
            "_view_module": "@jupyter-widgets/controls",
            "_view_module_version": "1.5.0",
            "_view_name": "HTMLView",
            "description": "",
            "description_tooltip": null,
            "layout": "IPY_MODEL_ceeb3c94e76c449299b82b69db7af4d1",
            "placeholder": "​",
            "style": "IPY_MODEL_5011534859b045b0ad56eec55c511144",
            "value": "origin"
          }
        },
        "b0532a3b4b95403c9cfa8e663e94c2ab": {
          "model_module": "@jupyter-widgets/controls",
          "model_name": "HTMLModel",
          "model_module_version": "1.5.0",
          "state": {
            "_dom_classes": [],
            "_model_module": "@jupyter-widgets/controls",
            "_model_module_version": "1.5.0",
            "_model_name": "HTMLModel",
            "_view_count": null,
            "_view_module": "@jupyter-widgets/controls",
            "_view_module_version": "1.5.0",
            "_view_name": "HTMLView",
            "description": "",
            "description_tooltip": null,
            "layout": "IPY_MODEL_9db9fd2b254e4f3dbfbf6703a4764477",
            "placeholder": "​",
            "style": "IPY_MODEL_2c35a98e601843f2827fd9612ef2e25e",
            "value": "destination"
          }
        },
        "7ea5b9a5b48f49f2ac391b2eae15f818": {
          "model_module": "@jupyter-widgets/controls",
          "model_name": "HTMLModel",
          "model_module_version": "1.5.0",
          "state": {
            "_dom_classes": [],
            "_model_module": "@jupyter-widgets/controls",
            "_model_module_version": "1.5.0",
            "_model_name": "HTMLModel",
            "_view_count": null,
            "_view_module": "@jupyter-widgets/controls",
            "_view_module_version": "1.5.0",
            "_view_name": "HTMLView",
            "description": "",
            "description_tooltip": null,
            "layout": "IPY_MODEL_2656b2e5691641fdb88a6867210abdd1",
            "placeholder": "​",
            "style": "IPY_MODEL_ade12d0a0e6f40f0bd2860f45a8e96fd",
            "value": "97775156"
          }
        },
        "3aba6cff76b34989a126b3d9f60be4e4": {
          "model_module": "@jupyter-widgets/controls",
          "model_name": "HTMLModel",
          "model_module_version": "1.5.0",
          "state": {
            "_dom_classes": [],
            "_model_module": "@jupyter-widgets/controls",
            "_model_module_version": "1.5.0",
            "_model_name": "HTMLModel",
            "_view_count": null,
            "_view_module": "@jupyter-widgets/controls",
            "_view_module_version": "1.5.0",
            "_view_name": "HTMLView",
            "description": "",
            "description_tooltip": null,
            "layout": "IPY_MODEL_759e9331f67e4bd9a06ee7911e52ba50",
            "placeholder": "​",
            "style": "IPY_MODEL_66ff80996380460687afc59351cac46c",
            "value": "97775158"
          }
        },
        "ba7f353ea8e44c93895a39d6f7aa0b44": {
          "model_module": "@jupyter-widgets/controls",
          "model_name": "HTMLModel",
          "model_module_version": "1.5.0",
          "state": {
            "_dom_classes": [],
            "_model_module": "@jupyter-widgets/controls",
            "_model_module_version": "1.5.0",
            "_model_name": "HTMLModel",
            "_view_count": null,
            "_view_module": "@jupyter-widgets/controls",
            "_view_module_version": "1.5.0",
            "_view_name": "HTMLView",
            "description": "",
            "description_tooltip": null,
            "layout": "IPY_MODEL_5f5a597eb00542b290760d0492ed8722",
            "placeholder": "​",
            "style": "IPY_MODEL_dac74462f1624ddaa5fc74647596751f",
            "value": "97775163"
          }
        },
        "91596c5652f544059babf6b11f2fff32": {
          "model_module": "@jupyter-widgets/controls",
          "model_name": "HTMLModel",
          "model_module_version": "1.5.0",
          "state": {
            "_dom_classes": [],
            "_model_module": "@jupyter-widgets/controls",
            "_model_module_version": "1.5.0",
            "_model_name": "HTMLModel",
            "_view_count": null,
            "_view_module": "@jupyter-widgets/controls",
            "_view_module_version": "1.5.0",
            "_view_name": "HTMLView",
            "description": "",
            "description_tooltip": null,
            "layout": "IPY_MODEL_3309fc1fc88b43548f3fb08f0244450c",
            "placeholder": "​",
            "style": "IPY_MODEL_64d5947ff23946af994b47720a5e92ad",
            "value": "97775165"
          }
        },
        "f2758c79a7b84d488e5277d5b8743f34": {
          "model_module": "@jupyter-widgets/controls",
          "model_name": "HTMLModel",
          "model_module_version": "1.5.0",
          "state": {
            "_dom_classes": [],
            "_model_module": "@jupyter-widgets/controls",
            "_model_module_version": "1.5.0",
            "_model_name": "HTMLModel",
            "_view_count": null,
            "_view_module": "@jupyter-widgets/controls",
            "_view_module_version": "1.5.0",
            "_view_name": "HTMLView",
            "description": "",
            "description_tooltip": null,
            "layout": "IPY_MODEL_36f481a3ab4e43ebad4ce86605865cef",
            "placeholder": "​",
            "style": "IPY_MODEL_7b5b6b76d7b64ef586764614c00ec86f",
            "value": "97815626"
          }
        },
        "3df0e5209d3049508e68426e5ca6f155": {
          "model_module": "@jupyter-widgets/controls",
          "model_name": "HTMLModel",
          "model_module_version": "1.5.0",
          "state": {
            "_dom_classes": [],
            "_model_module": "@jupyter-widgets/controls",
            "_model_module_version": "1.5.0",
            "_model_name": "HTMLModel",
            "_view_count": null,
            "_view_module": "@jupyter-widgets/controls",
            "_view_module_version": "1.5.0",
            "_view_name": "HTMLView",
            "description": "",
            "description_tooltip": null,
            "layout": "IPY_MODEL_98c5b3e3e5624b57a2fb7ca1ff5c8e33",
            "placeholder": "​",
            "style": "IPY_MODEL_4080dcdc1e2b480e93f1160fc3fcda2f",
            "value": "97815628"
          }
        },
        "845cee72d2bf4172a0cc46dde21f4434": {
          "model_module": "@jupyter-widgets/controls",
          "model_name": "HTMLModel",
          "model_module_version": "1.5.0",
          "state": {
            "_dom_classes": [],
            "_model_module": "@jupyter-widgets/controls",
            "_model_module_version": "1.5.0",
            "_model_name": "HTMLModel",
            "_view_count": null,
            "_view_module": "@jupyter-widgets/controls",
            "_view_module_version": "1.5.0",
            "_view_name": "HTMLView",
            "description": "",
            "description_tooltip": null,
            "layout": "IPY_MODEL_f4c09fb918d4468890d643fca248cc47",
            "placeholder": "​",
            "style": "IPY_MODEL_a8bc349fd8c04f79ba76dce42756b05b",
            "value": "97871010"
          }
        },
        "51be751291614cba9bea416de8ccc240": {
          "model_module": "@jupyter-widgets/controls",
          "model_name": "HTMLModel",
          "model_module_version": "1.5.0",
          "state": {
            "_dom_classes": [],
            "_model_module": "@jupyter-widgets/controls",
            "_model_module_version": "1.5.0",
            "_model_name": "HTMLModel",
            "_view_count": null,
            "_view_module": "@jupyter-widgets/controls",
            "_view_module_version": "1.5.0",
            "_view_name": "HTMLView",
            "description": "",
            "description_tooltip": null,
            "layout": "IPY_MODEL_9ee1bf42412044a1b5e9009855a28aaa",
            "placeholder": "​",
            "style": "IPY_MODEL_d9357f32226941a292c48bbeb9b2d97d",
            "value": "97871012"
          }
        },
        "f436e0eff4984cfa953d2adc4ae25329": {
          "model_module": "@jupyter-widgets/controls",
          "model_name": "HTMLModel",
          "model_module_version": "1.5.0",
          "state": {
            "_dom_classes": [],
            "_model_module": "@jupyter-widgets/controls",
            "_model_module_version": "1.5.0",
            "_model_name": "HTMLModel",
            "_view_count": null,
            "_view_module": "@jupyter-widgets/controls",
            "_view_module_version": "1.5.0",
            "_view_name": "HTMLView",
            "description": "",
            "description_tooltip": null,
            "layout": "IPY_MODEL_262428a69b094d68ae173e17ecd9ee01",
            "placeholder": "​",
            "style": "IPY_MODEL_ff6bcb7d4d70466fba6b4b3db61ebaf8",
            "value": "97871013"
          }
        },
        "117703898fa145abbf56b3cd1fe130eb": {
          "model_module": "@jupyter-widgets/controls",
          "model_name": "HTMLModel",
          "model_module_version": "1.5.0",
          "state": {
            "_dom_classes": [],
            "_model_module": "@jupyter-widgets/controls",
            "_model_module_version": "1.5.0",
            "_model_name": "HTMLModel",
            "_view_count": null,
            "_view_module": "@jupyter-widgets/controls",
            "_view_module_version": "1.5.0",
            "_view_name": "HTMLView",
            "description": "",
            "description_tooltip": null,
            "layout": "IPY_MODEL_6622ebbcde0345208311d62c1beb92eb",
            "placeholder": "​",
            "style": "IPY_MODEL_e953696ddf144ed383e67e02dbc68d26",
            "value": "97871014"
          }
        },
        "237412ac0d1c49e2ab36f55c538636ee": {
          "model_module": "@jupyter-widgets/controls",
          "model_name": "HTMLModel",
          "model_module_version": "1.5.0",
          "state": {
            "_dom_classes": [],
            "_model_module": "@jupyter-widgets/controls",
            "_model_module_version": "1.5.0",
            "_model_name": "HTMLModel",
            "_view_count": null,
            "_view_module": "@jupyter-widgets/controls",
            "_view_module_version": "1.5.0",
            "_view_name": "HTMLView",
            "description": "",
            "description_tooltip": null,
            "layout": "IPY_MODEL_3ca3ed1d933445fc90212d2cc37eb0a5",
            "placeholder": "​",
            "style": "IPY_MODEL_8d61ed8287a64301a0163c0e876bf6b0",
            "value": "97871017"
          }
        },
        "e7a52beeebfc4634a19ca5efb08ef907": {
          "model_module": "@jupyter-widgets/controls",
          "model_name": "HTMLModel",
          "model_module_version": "1.5.0",
          "state": {
            "_dom_classes": [],
            "_model_module": "@jupyter-widgets/controls",
            "_model_module_version": "1.5.0",
            "_model_name": "HTMLModel",
            "_view_count": null,
            "_view_module": "@jupyter-widgets/controls",
            "_view_module_version": "1.5.0",
            "_view_name": "HTMLView",
            "description": "",
            "description_tooltip": null,
            "layout": "IPY_MODEL_9fae534bf7304b21bb9b4a4823561274",
            "placeholder": "​",
            "style": "IPY_MODEL_97b2888b59d54ce39be78bea23cef34d",
            "value": "97871022"
          }
        },
        "645c956a25974897b8cd2c640b4bf6d8": {
          "model_module": "@jupyter-widgets/controls",
          "model_name": "HTMLModel",
          "model_module_version": "1.5.0",
          "state": {
            "_dom_classes": [],
            "_model_module": "@jupyter-widgets/controls",
            "_model_module_version": "1.5.0",
            "_model_name": "HTMLModel",
            "_view_count": null,
            "_view_module": "@jupyter-widgets/controls",
            "_view_module_version": "1.5.0",
            "_view_name": "HTMLView",
            "description": "",
            "description_tooltip": null,
            "layout": "IPY_MODEL_2c2a8e77cd2c49109223d2ceb05a0a79",
            "placeholder": "​",
            "style": "IPY_MODEL_f9357aad3f294dd5913bff3e38a72170",
            "value": "97876151"
          }
        },
        "aacabd0ee096499bb6eeabbc58cc24ff": {
          "model_module": "@jupyter-widgets/controls",
          "model_name": "HTMLModel",
          "model_module_version": "1.5.0",
          "state": {
            "_dom_classes": [],
            "_model_module": "@jupyter-widgets/controls",
            "_model_module_version": "1.5.0",
            "_model_name": "HTMLModel",
            "_view_count": null,
            "_view_module": "@jupyter-widgets/controls",
            "_view_module_version": "1.5.0",
            "_view_name": "HTMLView",
            "description": "",
            "description_tooltip": null,
            "layout": "IPY_MODEL_c1722e8a1f9c4bd0a5840c73e0435acb",
            "placeholder": "​",
            "style": "IPY_MODEL_dddba004b8664bb094e1b2d30a7c4910",
            "value": "97876153"
          }
        },
        "2353916e385641f781900c6fdd61bc8e": {
          "model_module": "@jupyter-widgets/controls",
          "model_name": "HTMLModel",
          "model_module_version": "1.5.0",
          "state": {
            "_dom_classes": [],
            "_model_module": "@jupyter-widgets/controls",
            "_model_module_version": "1.5.0",
            "_model_name": "HTMLModel",
            "_view_count": null,
            "_view_module": "@jupyter-widgets/controls",
            "_view_module_version": "1.5.0",
            "_view_name": "HTMLView",
            "description": "",
            "description_tooltip": null,
            "layout": "IPY_MODEL_79832508f6c44074b1412aaa530fa9f4",
            "placeholder": "​",
            "style": "IPY_MODEL_6bbd56f2883947e98b3ce7c2a6a179cf",
            "value": "97925457"
          }
        },
        "7d031996c4144487aabe36413b59bdcd": {
          "model_module": "@jupyter-widgets/controls",
          "model_name": "HTMLModel",
          "model_module_version": "1.5.0",
          "state": {
            "_dom_classes": [],
            "_model_module": "@jupyter-widgets/controls",
            "_model_module_version": "1.5.0",
            "_model_name": "HTMLModel",
            "_view_count": null,
            "_view_module": "@jupyter-widgets/controls",
            "_view_module_version": "1.5.0",
            "_view_name": "HTMLView",
            "description": "",
            "description_tooltip": null,
            "layout": "IPY_MODEL_5c90cd7ca97842a1aabee8d459a45a15",
            "placeholder": "​",
            "style": "IPY_MODEL_c69a13e781f7473abbf9b66b03fb381b",
            "value": "97925459"
          }
        },
        "14cafbd0bed54255a13920c5f9003ee9": {
          "model_module": "@jupyter-widgets/controls",
          "model_name": "HTMLModel",
          "model_module_version": "1.5.0",
          "state": {
            "_dom_classes": [],
            "_model_module": "@jupyter-widgets/controls",
            "_model_module_version": "1.5.0",
            "_model_name": "HTMLModel",
            "_view_count": null,
            "_view_module": "@jupyter-widgets/controls",
            "_view_module_version": "1.5.0",
            "_view_name": "HTMLView",
            "description": "",
            "description_tooltip": null,
            "layout": "IPY_MODEL_bdd1235971e94a10917c3a6b0180a677",
            "placeholder": "​",
            "style": "IPY_MODEL_8e89722b7edf4a79bfa3aa7f63bb83e7",
            "value": "97927140"
          }
        },
        "27af11b5706e45bfa11a1c2f8cc6cc64": {
          "model_module": "@jupyter-widgets/controls",
          "model_name": "HTMLModel",
          "model_module_version": "1.5.0",
          "state": {
            "_dom_classes": [],
            "_model_module": "@jupyter-widgets/controls",
            "_model_module_version": "1.5.0",
            "_model_name": "HTMLModel",
            "_view_count": null,
            "_view_module": "@jupyter-widgets/controls",
            "_view_module_version": "1.5.0",
            "_view_name": "HTMLView",
            "description": "",
            "description_tooltip": null,
            "layout": "IPY_MODEL_602bb3f180954791bb0fc7dcb4806216",
            "placeholder": "​",
            "style": "IPY_MODEL_6038b27885cc4e43ac5aa996ae632f1f",
            "value": "97927142"
          }
        },
        "e691cb09d87446d1a571c0344ce60573": {
          "model_module": "@jupyter-widgets/controls",
          "model_name": "HTMLModel",
          "model_module_version": "1.5.0",
          "state": {
            "_dom_classes": [],
            "_model_module": "@jupyter-widgets/controls",
            "_model_module_version": "1.5.0",
            "_model_name": "HTMLModel",
            "_view_count": null,
            "_view_module": "@jupyter-widgets/controls",
            "_view_module_version": "1.5.0",
            "_view_name": "HTMLView",
            "description": "",
            "description_tooltip": null,
            "layout": "IPY_MODEL_ffb548c190df4286b2bb52b1e957210e",
            "placeholder": "​",
            "style": "IPY_MODEL_aaeb45205cb343daac6ec7f3e42c8e80",
            "value": "97928972"
          }
        },
        "9fe6535dc80b43a49eb8a449c3a04f9d": {
          "model_module": "@jupyter-widgets/controls",
          "model_name": "HTMLModel",
          "model_module_version": "1.5.0",
          "state": {
            "_dom_classes": [],
            "_model_module": "@jupyter-widgets/controls",
            "_model_module_version": "1.5.0",
            "_model_name": "HTMLModel",
            "_view_count": null,
            "_view_module": "@jupyter-widgets/controls",
            "_view_module_version": "1.5.0",
            "_view_name": "HTMLView",
            "description": "",
            "description_tooltip": null,
            "layout": "IPY_MODEL_22c89975a55d4878a76f72fe3bdc593b",
            "placeholder": "​",
            "style": "IPY_MODEL_d5a6c5ee7e6d4a2b9dcbaf71e1697f09",
            "value": "97928974"
          }
        },
        "a3868860a30641b29708e63eefd37972": {
          "model_module": "@jupyter-widgets/controls",
          "model_name": "HTMLModel",
          "model_module_version": "1.5.0",
          "state": {
            "_dom_classes": [],
            "_model_module": "@jupyter-widgets/controls",
            "_model_module_version": "1.5.0",
            "_model_name": "HTMLModel",
            "_view_count": null,
            "_view_module": "@jupyter-widgets/controls",
            "_view_module_version": "1.5.0",
            "_view_name": "HTMLView",
            "description": "",
            "description_tooltip": null,
            "layout": "IPY_MODEL_189883fee78c42de91d74d05d76b33db",
            "placeholder": "​",
            "style": "IPY_MODEL_c59c2c68ed6f436a9d0ef53f877e2c09",
            "value": "97928976"
          }
        },
        "6d25c44e3a8444fb9b423f239abea5ae": {
          "model_module": "@jupyter-widgets/controls",
          "model_name": "HTMLModel",
          "model_module_version": "1.5.0",
          "state": {
            "_dom_classes": [],
            "_model_module": "@jupyter-widgets/controls",
            "_model_module_version": "1.5.0",
            "_model_name": "HTMLModel",
            "_view_count": null,
            "_view_module": "@jupyter-widgets/controls",
            "_view_module_version": "1.5.0",
            "_view_name": "HTMLView",
            "description": "",
            "description_tooltip": null,
            "layout": "IPY_MODEL_27298b6ab825416fb013943f8879ace5",
            "placeholder": "​",
            "style": "IPY_MODEL_eaadfae36a2041f2b503eda4c2b52795",
            "value": "97928978"
          }
        },
        "aa9fc1ed708a4b12a9aca1cd0295c826": {
          "model_module": "@jupyter-widgets/controls",
          "model_name": "HTMLModel",
          "model_module_version": "1.5.0",
          "state": {
            "_dom_classes": [],
            "_model_module": "@jupyter-widgets/controls",
            "_model_module_version": "1.5.0",
            "_model_name": "HTMLModel",
            "_view_count": null,
            "_view_module": "@jupyter-widgets/controls",
            "_view_module_version": "1.5.0",
            "_view_name": "HTMLView",
            "description": "",
            "description_tooltip": null,
            "layout": "IPY_MODEL_fd98510c8e7249b5b7c28b54786298de",
            "placeholder": "​",
            "style": "IPY_MODEL_5f0bb7d76b2c42f3ac899df10c70c8f0",
            "value": "97942623"
          }
        },
        "a6bed152bdc04fb0818a81eac6952ee5": {
          "model_module": "@jupyter-widgets/controls",
          "model_name": "HTMLModel",
          "model_module_version": "1.5.0",
          "state": {
            "_dom_classes": [],
            "_model_module": "@jupyter-widgets/controls",
            "_model_module_version": "1.5.0",
            "_model_name": "HTMLModel",
            "_view_count": null,
            "_view_module": "@jupyter-widgets/controls",
            "_view_module_version": "1.5.0",
            "_view_name": "HTMLView",
            "description": "",
            "description_tooltip": null,
            "layout": "IPY_MODEL_70df3630ce6e467b8fd117baa0c3ebb2",
            "placeholder": "​",
            "style": "IPY_MODEL_cf4a1d5dad444203a87515ccccd46a4e",
            "value": "97964888"
          }
        },
        "62d927545b8c483b98123990c8ab0b5b": {
          "model_module": "@jupyter-widgets/controls",
          "model_name": "HTMLModel",
          "model_module_version": "1.5.0",
          "state": {
            "_dom_classes": [],
            "_model_module": "@jupyter-widgets/controls",
            "_model_module_version": "1.5.0",
            "_model_name": "HTMLModel",
            "_view_count": null,
            "_view_module": "@jupyter-widgets/controls",
            "_view_module_version": "1.5.0",
            "_view_name": "HTMLView",
            "description": "",
            "description_tooltip": null,
            "layout": "IPY_MODEL_76ddb08527fb449ba63ddacaa648f2b2",
            "placeholder": "​",
            "style": "IPY_MODEL_6a4eafa6f00e497c90a23422a8056036",
            "value": "97970376"
          }
        },
        "11991e8ce5994de083592900a5234a28": {
          "model_module": "@jupyter-widgets/controls",
          "model_name": "HTMLModel",
          "model_module_version": "1.5.0",
          "state": {
            "_dom_classes": [],
            "_model_module": "@jupyter-widgets/controls",
            "_model_module_version": "1.5.0",
            "_model_name": "HTMLModel",
            "_view_count": null,
            "_view_module": "@jupyter-widgets/controls",
            "_view_module_version": "1.5.0",
            "_view_name": "HTMLView",
            "description": "",
            "description_tooltip": null,
            "layout": "IPY_MODEL_6fda7e083b354d18b3705b09b301d601",
            "placeholder": "​",
            "style": "IPY_MODEL_9f11c46e125542f39f43e2ed64fa018f",
            "value": "320166852"
          }
        },
        "b136d5b366e146238314647aeda9859e": {
          "model_module": "@jupyter-widgets/controls",
          "model_name": "HTMLModel",
          "model_module_version": "1.5.0",
          "state": {
            "_dom_classes": [],
            "_model_module": "@jupyter-widgets/controls",
            "_model_module_version": "1.5.0",
            "_model_name": "HTMLModel",
            "_view_count": null,
            "_view_module": "@jupyter-widgets/controls",
            "_view_module_version": "1.5.0",
            "_view_name": "HTMLView",
            "description": "",
            "description_tooltip": null,
            "layout": "IPY_MODEL_cb96641fd6ad41d4bb970fe1e2a1e432",
            "placeholder": "​",
            "style": "IPY_MODEL_94b2ac33b7d64dd0bea8fad9e8e596da",
            "value": "320166965"
          }
        },
        "55d355bddda948699cc341be7c654f45": {
          "model_module": "@jupyter-widgets/controls",
          "model_name": "HTMLModel",
          "model_module_version": "1.5.0",
          "state": {
            "_dom_classes": [],
            "_model_module": "@jupyter-widgets/controls",
            "_model_module_version": "1.5.0",
            "_model_name": "HTMLModel",
            "_view_count": null,
            "_view_module": "@jupyter-widgets/controls",
            "_view_module_version": "1.5.0",
            "_view_name": "HTMLView",
            "description": "",
            "description_tooltip": null,
            "layout": "IPY_MODEL_9879cf2392a045bb97b3e765b3cdee3f",
            "placeholder": "​",
            "style": "IPY_MODEL_4ce911893ccb470d92a82aed75a44f3a",
            "value": "474972598"
          }
        },
        "03c07d2ed30746bfa1fcd02aa251b76f": {
          "model_module": "@jupyter-widgets/controls",
          "model_name": "HTMLModel",
          "model_module_version": "1.5.0",
          "state": {
            "_dom_classes": [],
            "_model_module": "@jupyter-widgets/controls",
            "_model_module_version": "1.5.0",
            "_model_name": "HTMLModel",
            "_view_count": null,
            "_view_module": "@jupyter-widgets/controls",
            "_view_module_version": "1.5.0",
            "_view_name": "HTMLView",
            "description": "",
            "description_tooltip": null,
            "layout": "IPY_MODEL_0ab0f8a04aa748c1865ed316e2cba437",
            "placeholder": "​",
            "style": "IPY_MODEL_a7c3b7a231634144bd1406ea84a75186",
            "value": "942206728"
          }
        },
        "b824992a9db7406dbc958e8e9b289e35": {
          "model_module": "@jupyter-widgets/controls",
          "model_name": "HTMLModel",
          "model_module_version": "1.5.0",
          "state": {
            "_dom_classes": [],
            "_model_module": "@jupyter-widgets/controls",
            "_model_module_version": "1.5.0",
            "_model_name": "HTMLModel",
            "_view_count": null,
            "_view_module": "@jupyter-widgets/controls",
            "_view_module_version": "1.5.0",
            "_view_name": "HTMLView",
            "description": "",
            "description_tooltip": null,
            "layout": "IPY_MODEL_ccb4c9dc46fe496f8dde70e9274ab348",
            "placeholder": "​",
            "style": "IPY_MODEL_a73cffc913624bcc980d433fbcf96882",
            "value": "975495315"
          }
        },
        "4225a29bd5d84f98bdc4f0b42cc91da2": {
          "model_module": "@jupyter-widgets/controls",
          "model_name": "HTMLModel",
          "model_module_version": "1.5.0",
          "state": {
            "_dom_classes": [],
            "_model_module": "@jupyter-widgets/controls",
            "_model_module_version": "1.5.0",
            "_model_name": "HTMLModel",
            "_view_count": null,
            "_view_module": "@jupyter-widgets/controls",
            "_view_module_version": "1.5.0",
            "_view_name": "HTMLView",
            "description": "",
            "description_tooltip": null,
            "layout": "IPY_MODEL_540317f6003f4d79bf446bc9eed87892",
            "placeholder": "​",
            "style": "IPY_MODEL_b27d9eab73914eafa9ba49c682da9b9a",
            "value": "975495316"
          }
        },
        "60b3361506904a2fa1c711486c87d9cf": {
          "model_module": "@jupyter-widgets/controls",
          "model_name": "HTMLModel",
          "model_module_version": "1.5.0",
          "state": {
            "_dom_classes": [],
            "_model_module": "@jupyter-widgets/controls",
            "_model_module_version": "1.5.0",
            "_model_name": "HTMLModel",
            "_view_count": null,
            "_view_module": "@jupyter-widgets/controls",
            "_view_module_version": "1.5.0",
            "_view_name": "HTMLView",
            "description": "",
            "description_tooltip": null,
            "layout": "IPY_MODEL_58d9e6246b974c3db64c6b2a04f76685",
            "placeholder": "​",
            "style": "IPY_MODEL_96ab47ae855b4413ad5930520be5d9aa",
            "value": "1870060109"
          }
        },
        "7eaad1d1b420470cbeb7b9dcd65ecf5f": {
          "model_module": "@jupyter-widgets/controls",
          "model_name": "HTMLModel",
          "model_module_version": "1.5.0",
          "state": {
            "_dom_classes": [],
            "_model_module": "@jupyter-widgets/controls",
            "_model_module_version": "1.5.0",
            "_model_name": "HTMLModel",
            "_view_count": null,
            "_view_module": "@jupyter-widgets/controls",
            "_view_module_version": "1.5.0",
            "_view_name": "HTMLView",
            "description": "",
            "description_tooltip": null,
            "layout": "IPY_MODEL_67e51087b5ad451e890926167c981975",
            "placeholder": "​",
            "style": "IPY_MODEL_8373786fb00349bba296724dc6316aca",
            "value": "1870060119"
          }
        },
        "fe3e8415dd2a41fa832069084aed1873": {
          "model_module": "@jupyter-widgets/controls",
          "model_name": "HTMLModel",
          "model_module_version": "1.5.0",
          "state": {
            "_dom_classes": [],
            "_model_module": "@jupyter-widgets/controls",
            "_model_module_version": "1.5.0",
            "_model_name": "HTMLModel",
            "_view_count": null,
            "_view_module": "@jupyter-widgets/controls",
            "_view_module_version": "1.5.0",
            "_view_name": "HTMLView",
            "description": "",
            "description_tooltip": null,
            "layout": "IPY_MODEL_df7b189ff6fa447eb1b887aadd62499e",
            "placeholder": "​",
            "style": "IPY_MODEL_5dc50209ee0349caba497b4c93f432b4",
            "value": "1870060124"
          }
        },
        "c67e77f833e14bb8a38bfe82d5b8a3e1": {
          "model_module": "@jupyter-widgets/controls",
          "model_name": "HTMLModel",
          "model_module_version": "1.5.0",
          "state": {
            "_dom_classes": [],
            "_model_module": "@jupyter-widgets/controls",
            "_model_module_version": "1.5.0",
            "_model_name": "HTMLModel",
            "_view_count": null,
            "_view_module": "@jupyter-widgets/controls",
            "_view_module_version": "1.5.0",
            "_view_name": "HTMLView",
            "description": "",
            "description_tooltip": null,
            "layout": "IPY_MODEL_a24ba4bc6f3e48a6b1a1327820a7ad62",
            "placeholder": "​",
            "style": "IPY_MODEL_6438d788f4684b019c2594511c0ea8d1",
            "value": "1870060133"
          }
        },
        "fbcb8f2da95c414ca3b79b2111e820e7": {
          "model_module": "@jupyter-widgets/controls",
          "model_name": "HTMLModel",
          "model_module_version": "1.5.0",
          "state": {
            "_dom_classes": [],
            "_model_module": "@jupyter-widgets/controls",
            "_model_module_version": "1.5.0",
            "_model_name": "HTMLModel",
            "_view_count": null,
            "_view_module": "@jupyter-widgets/controls",
            "_view_module_version": "1.5.0",
            "_view_name": "HTMLView",
            "description": "",
            "description_tooltip": null,
            "layout": "IPY_MODEL_fddfdd23dc6943aabe511df305813af2",
            "placeholder": "​",
            "style": "IPY_MODEL_4a42f28652f441789b55bbb2f0625da4",
            "value": "1870060165"
          }
        },
        "5a872fc65c3c41e49a10bac8a8357339": {
          "model_module": "@jupyter-widgets/controls",
          "model_name": "HTMLModel",
          "model_module_version": "1.5.0",
          "state": {
            "_dom_classes": [],
            "_model_module": "@jupyter-widgets/controls",
            "_model_module_version": "1.5.0",
            "_model_name": "HTMLModel",
            "_view_count": null,
            "_view_module": "@jupyter-widgets/controls",
            "_view_module_version": "1.5.0",
            "_view_name": "HTMLView",
            "description": "",
            "description_tooltip": null,
            "layout": "IPY_MODEL_ffe59970948946f2b6d003c456cd3ef0",
            "placeholder": "​",
            "style": "IPY_MODEL_ea29adfda3a6411a833275cb980bf7f6",
            "value": "1870060169"
          }
        },
        "91c7b81d97b14beeb373f08dbe30e751": {
          "model_module": "@jupyter-widgets/controls",
          "model_name": "HTMLModel",
          "model_module_version": "1.5.0",
          "state": {
            "_dom_classes": [],
            "_model_module": "@jupyter-widgets/controls",
            "_model_module_version": "1.5.0",
            "_model_name": "HTMLModel",
            "_view_count": null,
            "_view_module": "@jupyter-widgets/controls",
            "_view_module_version": "1.5.0",
            "_view_name": "HTMLView",
            "description": "",
            "description_tooltip": null,
            "layout": "IPY_MODEL_e41aaeb26b5144369689126980edbf9b",
            "placeholder": "​",
            "style": "IPY_MODEL_2709cf41bcd745fab42fefd0ab218f31",
            "value": "1870060182"
          }
        },
        "04b9ae4887034a2984b7b907fdd0ec8c": {
          "model_module": "@jupyter-widgets/controls",
          "model_name": "HTMLModel",
          "model_module_version": "1.5.0",
          "state": {
            "_dom_classes": [],
            "_model_module": "@jupyter-widgets/controls",
            "_model_module_version": "1.5.0",
            "_model_name": "HTMLModel",
            "_view_count": null,
            "_view_module": "@jupyter-widgets/controls",
            "_view_module_version": "1.5.0",
            "_view_name": "HTMLView",
            "description": "",
            "description_tooltip": null,
            "layout": "IPY_MODEL_76106730c58a44d4a44f5c7ef1a1cc38",
            "placeholder": "​",
            "style": "IPY_MODEL_ef582b1d80d345409df58d9f8b1d6492",
            "value": "1870060187"
          }
        },
        "e3fb8c3270704f6d90b343bc374f3c05": {
          "model_module": "@jupyter-widgets/controls",
          "model_name": "HTMLModel",
          "model_module_version": "1.5.0",
          "state": {
            "_dom_classes": [],
            "_model_module": "@jupyter-widgets/controls",
            "_model_module_version": "1.5.0",
            "_model_name": "HTMLModel",
            "_view_count": null,
            "_view_module": "@jupyter-widgets/controls",
            "_view_module_version": "1.5.0",
            "_view_name": "HTMLView",
            "description": "",
            "description_tooltip": null,
            "layout": "IPY_MODEL_b66e9c142d9a4ec2b68022538108468e",
            "placeholder": "​",
            "style": "IPY_MODEL_ba486b99f78144c88d411be8362cdece",
            "value": "1870060195"
          }
        },
        "5de05a4149a946159deb1d51e73e5215": {
          "model_module": "@jupyter-widgets/controls",
          "model_name": "HTMLModel",
          "model_module_version": "1.5.0",
          "state": {
            "_dom_classes": [],
            "_model_module": "@jupyter-widgets/controls",
            "_model_module_version": "1.5.0",
            "_model_name": "HTMLModel",
            "_view_count": null,
            "_view_module": "@jupyter-widgets/controls",
            "_view_module_version": "1.5.0",
            "_view_name": "HTMLView",
            "description": "",
            "description_tooltip": null,
            "layout": "IPY_MODEL_056ab46b9c1c4bef865c3ff23852abc8",
            "placeholder": "​",
            "style": "IPY_MODEL_bec56cedde184de78206c5a25976319f",
            "value": "1870060202"
          }
        },
        "f7ce10d791d343228d2393b987322f66": {
          "model_module": "@jupyter-widgets/controls",
          "model_name": "HTMLModel",
          "model_module_version": "1.5.0",
          "state": {
            "_dom_classes": [],
            "_model_module": "@jupyter-widgets/controls",
            "_model_module_version": "1.5.0",
            "_model_name": "HTMLModel",
            "_view_count": null,
            "_view_module": "@jupyter-widgets/controls",
            "_view_module_version": "1.5.0",
            "_view_name": "HTMLView",
            "description": "",
            "description_tooltip": null,
            "layout": "IPY_MODEL_817479587dc8488ca8baacb480557cae",
            "placeholder": "​",
            "style": "IPY_MODEL_929a3797562b4dfa83ce70f41b6dc5f0",
            "value": "1870060205"
          }
        },
        "2e0d7181fb094c87af1014c949bb5b18": {
          "model_module": "@jupyter-widgets/controls",
          "model_name": "HTMLModel",
          "model_module_version": "1.5.0",
          "state": {
            "_dom_classes": [],
            "_model_module": "@jupyter-widgets/controls",
            "_model_module_version": "1.5.0",
            "_model_name": "HTMLModel",
            "_view_count": null,
            "_view_module": "@jupyter-widgets/controls",
            "_view_module_version": "1.5.0",
            "_view_name": "HTMLView",
            "description": "",
            "description_tooltip": null,
            "layout": "IPY_MODEL_04be039fc425448bb3284e0f42b4e5d0",
            "placeholder": "​",
            "style": "IPY_MODEL_8c65a44774694310ac450a3c5b1286df",
            "value": "1870060232"
          }
        },
        "1ac558e2d0014cfca4cb08514b1f9073": {
          "model_module": "@jupyter-widgets/controls",
          "model_name": "HTMLModel",
          "model_module_version": "1.5.0",
          "state": {
            "_dom_classes": [],
            "_model_module": "@jupyter-widgets/controls",
            "_model_module_version": "1.5.0",
            "_model_name": "HTMLModel",
            "_view_count": null,
            "_view_module": "@jupyter-widgets/controls",
            "_view_module_version": "1.5.0",
            "_view_name": "HTMLView",
            "description": "",
            "description_tooltip": null,
            "layout": "IPY_MODEL_ed0e808a48bb4fcd8a557ca74b719ad9",
            "placeholder": "​",
            "style": "IPY_MODEL_6460010527ef49b494f245a667e71d65",
            "value": "1993753395"
          }
        },
        "6382edb9a688441ea4f9da36802ea623": {
          "model_module": "@jupyter-widgets/controls",
          "model_name": "HTMLModel",
          "model_module_version": "1.5.0",
          "state": {
            "_dom_classes": [],
            "_model_module": "@jupyter-widgets/controls",
            "_model_module_version": "1.5.0",
            "_model_name": "HTMLModel",
            "_view_count": null,
            "_view_module": "@jupyter-widgets/controls",
            "_view_module_version": "1.5.0",
            "_view_name": "HTMLView",
            "description": "",
            "description_tooltip": null,
            "layout": "IPY_MODEL_51f94313addb403699a5d64d5d084e91",
            "placeholder": "​",
            "style": "IPY_MODEL_c872c27ed7484189b25514b7b80aae4c",
            "value": "1993753421"
          }
        },
        "7f5c087fbc934e3e97921e07198bfab3": {
          "model_module": "@jupyter-widgets/controls",
          "model_name": "HTMLModel",
          "model_module_version": "1.5.0",
          "state": {
            "_dom_classes": [],
            "_model_module": "@jupyter-widgets/controls",
            "_model_module_version": "1.5.0",
            "_model_name": "HTMLModel",
            "_view_count": null,
            "_view_module": "@jupyter-widgets/controls",
            "_view_module_version": "1.5.0",
            "_view_name": "HTMLView",
            "description": "",
            "description_tooltip": null,
            "layout": "IPY_MODEL_08dc106e652645da97436dd72bc3de78",
            "placeholder": "​",
            "style": "IPY_MODEL_f35f76bca7814ba5a3b20d53631aed0d",
            "value": "1993753422"
          }
        },
        "c1bc2565231a4c1783dc9c3985b99727": {
          "model_module": "@jupyter-widgets/base",
          "model_name": "LayoutModel",
          "model_module_version": "1.2.0",
          "state": {
            "_model_module": "@jupyter-widgets/base",
            "_model_module_version": "1.2.0",
            "_model_name": "LayoutModel",
            "_view_count": null,
            "_view_module": "@jupyter-widgets/base",
            "_view_module_version": "1.2.0",
            "_view_name": "LayoutView",
            "align_content": null,
            "align_items": null,
            "align_self": null,
            "border": null,
            "bottom": null,
            "display": null,
            "flex": null,
            "flex_flow": null,
            "grid_area": null,
            "grid_auto_columns": null,
            "grid_auto_flow": null,
            "grid_auto_rows": null,
            "grid_column": null,
            "grid_gap": null,
            "grid_row": null,
            "grid_template_areas": null,
            "grid_template_columns": null,
            "grid_template_rows": null,
            "height": "28px",
            "justify_content": null,
            "justify_items": null,
            "left": null,
            "margin": null,
            "max_height": null,
            "max_width": null,
            "min_height": null,
            "min_width": null,
            "object_fit": null,
            "object_position": null,
            "order": null,
            "overflow": null,
            "overflow_x": null,
            "overflow_y": null,
            "padding": "0px 0px 0px 4px",
            "right": null,
            "top": null,
            "visibility": null,
            "width": "28px"
          }
        },
        "86eceb634d164030b59ded4511c62ad3": {
          "model_module": "@jupyter-widgets/controls",
          "model_name": "DescriptionStyleModel",
          "model_module_version": "1.5.0",
          "state": {
            "_model_module": "@jupyter-widgets/controls",
            "_model_module_version": "1.5.0",
            "_model_name": "DescriptionStyleModel",
            "_view_count": null,
            "_view_module": "@jupyter-widgets/base",
            "_view_module_version": "1.2.0",
            "_view_name": "StyleView",
            "description_width": ""
          }
        },
        "5cfb278f108043dbbac40cccb52e05f2": {
          "model_module": "@jupyter-widgets/controls",
          "model_name": "ToggleButtonModel",
          "model_module_version": "1.5.0",
          "state": {
            "_dom_classes": [],
            "_model_module": "@jupyter-widgets/controls",
            "_model_module_version": "1.5.0",
            "_model_name": "ToggleButtonModel",
            "_view_count": null,
            "_view_module": "@jupyter-widgets/controls",
            "_view_module_version": "1.5.0",
            "_view_name": "ToggleButtonView",
            "button_style": "",
            "description": "",
            "description_tooltip": null,
            "disabled": false,
            "icon": "info",
            "layout": "IPY_MODEL_c7d3b45360f9431ea396125ec96a3ab1",
            "style": "IPY_MODEL_a70f435de8c24c67960313fa0c8eeb62",
            "tooltip": "Toolbar",
            "value": true
          }
        },
        "c7dce053046942a7a96c484eb04be132": {
          "model_module": "@jupyter-widgets/controls",
          "model_name": "ToggleButtonModel",
          "model_module_version": "1.5.0",
          "state": {
            "_dom_classes": [],
            "_model_module": "@jupyter-widgets/controls",
            "_model_module_version": "1.5.0",
            "_model_name": "ToggleButtonModel",
            "_view_count": null,
            "_view_module": "@jupyter-widgets/controls",
            "_view_module_version": "1.5.0",
            "_view_name": "ToggleButtonView",
            "button_style": "",
            "description": "",
            "description_tooltip": null,
            "disabled": false,
            "icon": "times",
            "layout": "IPY_MODEL_d31c09e9212f4e17b74cfc045215be03",
            "style": "IPY_MODEL_fd29a6b47d374ee5b338876e4b793a4d",
            "tooltip": "Close the tool",
            "value": false
          }
        },
        "dbaf5a58375245dc8a63e1714f6725fb": {
          "model_module": "@jupyter-widgets/base",
          "model_name": "LayoutModel",
          "model_module_version": "1.2.0",
          "state": {
            "_model_module": "@jupyter-widgets/base",
            "_model_module_version": "1.2.0",
            "_model_name": "LayoutModel",
            "_view_count": null,
            "_view_module": "@jupyter-widgets/base",
            "_view_module_version": "1.2.0",
            "_view_name": "LayoutView",
            "align_content": null,
            "align_items": null,
            "align_self": null,
            "border": null,
            "bottom": null,
            "display": null,
            "flex": null,
            "flex_flow": null,
            "grid_area": null,
            "grid_auto_columns": null,
            "grid_auto_flow": null,
            "grid_auto_rows": null,
            "grid_column": null,
            "grid_gap": null,
            "grid_row": null,
            "grid_template_areas": null,
            "grid_template_columns": null,
            "grid_template_rows": null,
            "height": null,
            "justify_content": null,
            "justify_items": null,
            "left": null,
            "margin": null,
            "max_height": null,
            "max_width": null,
            "min_height": null,
            "min_width": null,
            "object_fit": null,
            "object_position": null,
            "order": null,
            "overflow": null,
            "overflow_x": null,
            "overflow_y": null,
            "padding": null,
            "right": null,
            "top": null,
            "visibility": null,
            "width": null
          }
        },
        "1e612e723af64ae2b72c37c0087ec68d": {
          "model_module": "@jupyter-widgets/base",
          "model_name": "LayoutModel",
          "model_module_version": "1.2.0",
          "state": {
            "_model_module": "@jupyter-widgets/base",
            "_model_module_version": "1.2.0",
            "_model_name": "LayoutModel",
            "_view_count": null,
            "_view_module": "@jupyter-widgets/base",
            "_view_module_version": "1.2.0",
            "_view_name": "LayoutView",
            "align_content": null,
            "align_items": null,
            "align_self": null,
            "border": null,
            "bottom": null,
            "display": null,
            "flex": null,
            "flex_flow": null,
            "grid_area": null,
            "grid_auto_columns": null,
            "grid_auto_flow": null,
            "grid_auto_rows": null,
            "grid_column": null,
            "grid_gap": null,
            "grid_row": null,
            "grid_template_areas": null,
            "grid_template_columns": null,
            "grid_template_rows": null,
            "height": null,
            "justify_content": null,
            "justify_items": null,
            "left": null,
            "margin": "0px 10px 0px 10px",
            "max_height": "250px",
            "max_width": "250px",
            "min_height": null,
            "min_width": null,
            "object_fit": null,
            "object_position": null,
            "order": null,
            "overflow": null,
            "overflow_x": null,
            "overflow_y": null,
            "padding": null,
            "right": null,
            "top": null,
            "visibility": null,
            "width": null
          }
        },
        "26debc408ebc4dea8b621bd718e31157": {
          "model_module": "@jupyter-widgets/controls",
          "model_name": "DescriptionStyleModel",
          "model_module_version": "1.5.0",
          "state": {
            "_model_module": "@jupyter-widgets/controls",
            "_model_module_version": "1.5.0",
            "_model_name": "DescriptionStyleModel",
            "_view_count": null,
            "_view_module": "@jupyter-widgets/base",
            "_view_module_version": "1.2.0",
            "_view_name": "StyleView",
            "description_width": ""
          }
        },
        "ceeb3c94e76c449299b82b69db7af4d1": {
          "model_module": "@jupyter-widgets/base",
          "model_name": "LayoutModel",
          "model_module_version": "1.2.0",
          "state": {
            "_model_module": "@jupyter-widgets/base",
            "_model_module_version": "1.2.0",
            "_model_name": "LayoutModel",
            "_view_count": null,
            "_view_module": "@jupyter-widgets/base",
            "_view_module_version": "1.2.0",
            "_view_name": "LayoutView",
            "align_content": null,
            "align_items": null,
            "align_self": null,
            "border": null,
            "bottom": null,
            "display": null,
            "flex": null,
            "flex_flow": null,
            "grid_area": null,
            "grid_auto_columns": null,
            "grid_auto_flow": null,
            "grid_auto_rows": null,
            "grid_column": null,
            "grid_gap": null,
            "grid_row": null,
            "grid_template_areas": null,
            "grid_template_columns": null,
            "grid_template_rows": null,
            "height": null,
            "justify_content": null,
            "justify_items": null,
            "left": null,
            "margin": null,
            "max_height": null,
            "max_width": null,
            "min_height": null,
            "min_width": null,
            "object_fit": null,
            "object_position": null,
            "order": null,
            "overflow": null,
            "overflow_x": null,
            "overflow_y": null,
            "padding": null,
            "right": null,
            "top": null,
            "visibility": null,
            "width": null
          }
        },
        "5011534859b045b0ad56eec55c511144": {
          "model_module": "@jupyter-widgets/controls",
          "model_name": "DescriptionStyleModel",
          "model_module_version": "1.5.0",
          "state": {
            "_model_module": "@jupyter-widgets/controls",
            "_model_module_version": "1.5.0",
            "_model_name": "DescriptionStyleModel",
            "_view_count": null,
            "_view_module": "@jupyter-widgets/base",
            "_view_module_version": "1.2.0",
            "_view_name": "StyleView",
            "description_width": ""
          }
        },
        "9db9fd2b254e4f3dbfbf6703a4764477": {
          "model_module": "@jupyter-widgets/base",
          "model_name": "LayoutModel",
          "model_module_version": "1.2.0",
          "state": {
            "_model_module": "@jupyter-widgets/base",
            "_model_module_version": "1.2.0",
            "_model_name": "LayoutModel",
            "_view_count": null,
            "_view_module": "@jupyter-widgets/base",
            "_view_module_version": "1.2.0",
            "_view_name": "LayoutView",
            "align_content": null,
            "align_items": null,
            "align_self": null,
            "border": null,
            "bottom": null,
            "display": null,
            "flex": null,
            "flex_flow": null,
            "grid_area": null,
            "grid_auto_columns": null,
            "grid_auto_flow": null,
            "grid_auto_rows": null,
            "grid_column": null,
            "grid_gap": null,
            "grid_row": null,
            "grid_template_areas": null,
            "grid_template_columns": null,
            "grid_template_rows": null,
            "height": null,
            "justify_content": null,
            "justify_items": null,
            "left": null,
            "margin": null,
            "max_height": null,
            "max_width": null,
            "min_height": null,
            "min_width": null,
            "object_fit": null,
            "object_position": null,
            "order": null,
            "overflow": null,
            "overflow_x": null,
            "overflow_y": null,
            "padding": null,
            "right": null,
            "top": null,
            "visibility": null,
            "width": null
          }
        },
        "2c35a98e601843f2827fd9612ef2e25e": {
          "model_module": "@jupyter-widgets/controls",
          "model_name": "DescriptionStyleModel",
          "model_module_version": "1.5.0",
          "state": {
            "_model_module": "@jupyter-widgets/controls",
            "_model_module_version": "1.5.0",
            "_model_name": "DescriptionStyleModel",
            "_view_count": null,
            "_view_module": "@jupyter-widgets/base",
            "_view_module_version": "1.2.0",
            "_view_name": "StyleView",
            "description_width": ""
          }
        },
        "2656b2e5691641fdb88a6867210abdd1": {
          "model_module": "@jupyter-widgets/base",
          "model_name": "LayoutModel",
          "model_module_version": "1.2.0",
          "state": {
            "_model_module": "@jupyter-widgets/base",
            "_model_module_version": "1.2.0",
            "_model_name": "LayoutModel",
            "_view_count": null,
            "_view_module": "@jupyter-widgets/base",
            "_view_module_version": "1.2.0",
            "_view_name": "LayoutView",
            "align_content": null,
            "align_items": null,
            "align_self": null,
            "border": null,
            "bottom": null,
            "display": null,
            "flex": null,
            "flex_flow": null,
            "grid_area": null,
            "grid_auto_columns": null,
            "grid_auto_flow": null,
            "grid_auto_rows": null,
            "grid_column": null,
            "grid_gap": null,
            "grid_row": null,
            "grid_template_areas": null,
            "grid_template_columns": null,
            "grid_template_rows": null,
            "height": null,
            "justify_content": null,
            "justify_items": null,
            "left": null,
            "margin": null,
            "max_height": null,
            "max_width": null,
            "min_height": null,
            "min_width": null,
            "object_fit": null,
            "object_position": null,
            "order": null,
            "overflow": null,
            "overflow_x": null,
            "overflow_y": null,
            "padding": null,
            "right": null,
            "top": null,
            "visibility": null,
            "width": null
          }
        },
        "ade12d0a0e6f40f0bd2860f45a8e96fd": {
          "model_module": "@jupyter-widgets/controls",
          "model_name": "DescriptionStyleModel",
          "model_module_version": "1.5.0",
          "state": {
            "_model_module": "@jupyter-widgets/controls",
            "_model_module_version": "1.5.0",
            "_model_name": "DescriptionStyleModel",
            "_view_count": null,
            "_view_module": "@jupyter-widgets/base",
            "_view_module_version": "1.2.0",
            "_view_name": "StyleView",
            "description_width": ""
          }
        },
        "759e9331f67e4bd9a06ee7911e52ba50": {
          "model_module": "@jupyter-widgets/base",
          "model_name": "LayoutModel",
          "model_module_version": "1.2.0",
          "state": {
            "_model_module": "@jupyter-widgets/base",
            "_model_module_version": "1.2.0",
            "_model_name": "LayoutModel",
            "_view_count": null,
            "_view_module": "@jupyter-widgets/base",
            "_view_module_version": "1.2.0",
            "_view_name": "LayoutView",
            "align_content": null,
            "align_items": null,
            "align_self": null,
            "border": null,
            "bottom": null,
            "display": null,
            "flex": null,
            "flex_flow": null,
            "grid_area": null,
            "grid_auto_columns": null,
            "grid_auto_flow": null,
            "grid_auto_rows": null,
            "grid_column": null,
            "grid_gap": null,
            "grid_row": null,
            "grid_template_areas": null,
            "grid_template_columns": null,
            "grid_template_rows": null,
            "height": null,
            "justify_content": null,
            "justify_items": null,
            "left": null,
            "margin": null,
            "max_height": null,
            "max_width": null,
            "min_height": null,
            "min_width": null,
            "object_fit": null,
            "object_position": null,
            "order": null,
            "overflow": null,
            "overflow_x": null,
            "overflow_y": null,
            "padding": null,
            "right": null,
            "top": null,
            "visibility": null,
            "width": null
          }
        },
        "66ff80996380460687afc59351cac46c": {
          "model_module": "@jupyter-widgets/controls",
          "model_name": "DescriptionStyleModel",
          "model_module_version": "1.5.0",
          "state": {
            "_model_module": "@jupyter-widgets/controls",
            "_model_module_version": "1.5.0",
            "_model_name": "DescriptionStyleModel",
            "_view_count": null,
            "_view_module": "@jupyter-widgets/base",
            "_view_module_version": "1.2.0",
            "_view_name": "StyleView",
            "description_width": ""
          }
        },
        "5f5a597eb00542b290760d0492ed8722": {
          "model_module": "@jupyter-widgets/base",
          "model_name": "LayoutModel",
          "model_module_version": "1.2.0",
          "state": {
            "_model_module": "@jupyter-widgets/base",
            "_model_module_version": "1.2.0",
            "_model_name": "LayoutModel",
            "_view_count": null,
            "_view_module": "@jupyter-widgets/base",
            "_view_module_version": "1.2.0",
            "_view_name": "LayoutView",
            "align_content": null,
            "align_items": null,
            "align_self": null,
            "border": null,
            "bottom": null,
            "display": null,
            "flex": null,
            "flex_flow": null,
            "grid_area": null,
            "grid_auto_columns": null,
            "grid_auto_flow": null,
            "grid_auto_rows": null,
            "grid_column": null,
            "grid_gap": null,
            "grid_row": null,
            "grid_template_areas": null,
            "grid_template_columns": null,
            "grid_template_rows": null,
            "height": null,
            "justify_content": null,
            "justify_items": null,
            "left": null,
            "margin": null,
            "max_height": null,
            "max_width": null,
            "min_height": null,
            "min_width": null,
            "object_fit": null,
            "object_position": null,
            "order": null,
            "overflow": null,
            "overflow_x": null,
            "overflow_y": null,
            "padding": null,
            "right": null,
            "top": null,
            "visibility": null,
            "width": null
          }
        },
        "dac74462f1624ddaa5fc74647596751f": {
          "model_module": "@jupyter-widgets/controls",
          "model_name": "DescriptionStyleModel",
          "model_module_version": "1.5.0",
          "state": {
            "_model_module": "@jupyter-widgets/controls",
            "_model_module_version": "1.5.0",
            "_model_name": "DescriptionStyleModel",
            "_view_count": null,
            "_view_module": "@jupyter-widgets/base",
            "_view_module_version": "1.2.0",
            "_view_name": "StyleView",
            "description_width": ""
          }
        },
        "3309fc1fc88b43548f3fb08f0244450c": {
          "model_module": "@jupyter-widgets/base",
          "model_name": "LayoutModel",
          "model_module_version": "1.2.0",
          "state": {
            "_model_module": "@jupyter-widgets/base",
            "_model_module_version": "1.2.0",
            "_model_name": "LayoutModel",
            "_view_count": null,
            "_view_module": "@jupyter-widgets/base",
            "_view_module_version": "1.2.0",
            "_view_name": "LayoutView",
            "align_content": null,
            "align_items": null,
            "align_self": null,
            "border": null,
            "bottom": null,
            "display": null,
            "flex": null,
            "flex_flow": null,
            "grid_area": null,
            "grid_auto_columns": null,
            "grid_auto_flow": null,
            "grid_auto_rows": null,
            "grid_column": null,
            "grid_gap": null,
            "grid_row": null,
            "grid_template_areas": null,
            "grid_template_columns": null,
            "grid_template_rows": null,
            "height": null,
            "justify_content": null,
            "justify_items": null,
            "left": null,
            "margin": null,
            "max_height": null,
            "max_width": null,
            "min_height": null,
            "min_width": null,
            "object_fit": null,
            "object_position": null,
            "order": null,
            "overflow": null,
            "overflow_x": null,
            "overflow_y": null,
            "padding": null,
            "right": null,
            "top": null,
            "visibility": null,
            "width": null
          }
        },
        "64d5947ff23946af994b47720a5e92ad": {
          "model_module": "@jupyter-widgets/controls",
          "model_name": "DescriptionStyleModel",
          "model_module_version": "1.5.0",
          "state": {
            "_model_module": "@jupyter-widgets/controls",
            "_model_module_version": "1.5.0",
            "_model_name": "DescriptionStyleModel",
            "_view_count": null,
            "_view_module": "@jupyter-widgets/base",
            "_view_module_version": "1.2.0",
            "_view_name": "StyleView",
            "description_width": ""
          }
        },
        "36f481a3ab4e43ebad4ce86605865cef": {
          "model_module": "@jupyter-widgets/base",
          "model_name": "LayoutModel",
          "model_module_version": "1.2.0",
          "state": {
            "_model_module": "@jupyter-widgets/base",
            "_model_module_version": "1.2.0",
            "_model_name": "LayoutModel",
            "_view_count": null,
            "_view_module": "@jupyter-widgets/base",
            "_view_module_version": "1.2.0",
            "_view_name": "LayoutView",
            "align_content": null,
            "align_items": null,
            "align_self": null,
            "border": null,
            "bottom": null,
            "display": null,
            "flex": null,
            "flex_flow": null,
            "grid_area": null,
            "grid_auto_columns": null,
            "grid_auto_flow": null,
            "grid_auto_rows": null,
            "grid_column": null,
            "grid_gap": null,
            "grid_row": null,
            "grid_template_areas": null,
            "grid_template_columns": null,
            "grid_template_rows": null,
            "height": null,
            "justify_content": null,
            "justify_items": null,
            "left": null,
            "margin": null,
            "max_height": null,
            "max_width": null,
            "min_height": null,
            "min_width": null,
            "object_fit": null,
            "object_position": null,
            "order": null,
            "overflow": null,
            "overflow_x": null,
            "overflow_y": null,
            "padding": null,
            "right": null,
            "top": null,
            "visibility": null,
            "width": null
          }
        },
        "7b5b6b76d7b64ef586764614c00ec86f": {
          "model_module": "@jupyter-widgets/controls",
          "model_name": "DescriptionStyleModel",
          "model_module_version": "1.5.0",
          "state": {
            "_model_module": "@jupyter-widgets/controls",
            "_model_module_version": "1.5.0",
            "_model_name": "DescriptionStyleModel",
            "_view_count": null,
            "_view_module": "@jupyter-widgets/base",
            "_view_module_version": "1.2.0",
            "_view_name": "StyleView",
            "description_width": ""
          }
        },
        "98c5b3e3e5624b57a2fb7ca1ff5c8e33": {
          "model_module": "@jupyter-widgets/base",
          "model_name": "LayoutModel",
          "model_module_version": "1.2.0",
          "state": {
            "_model_module": "@jupyter-widgets/base",
            "_model_module_version": "1.2.0",
            "_model_name": "LayoutModel",
            "_view_count": null,
            "_view_module": "@jupyter-widgets/base",
            "_view_module_version": "1.2.0",
            "_view_name": "LayoutView",
            "align_content": null,
            "align_items": null,
            "align_self": null,
            "border": null,
            "bottom": null,
            "display": null,
            "flex": null,
            "flex_flow": null,
            "grid_area": null,
            "grid_auto_columns": null,
            "grid_auto_flow": null,
            "grid_auto_rows": null,
            "grid_column": null,
            "grid_gap": null,
            "grid_row": null,
            "grid_template_areas": null,
            "grid_template_columns": null,
            "grid_template_rows": null,
            "height": null,
            "justify_content": null,
            "justify_items": null,
            "left": null,
            "margin": null,
            "max_height": null,
            "max_width": null,
            "min_height": null,
            "min_width": null,
            "object_fit": null,
            "object_position": null,
            "order": null,
            "overflow": null,
            "overflow_x": null,
            "overflow_y": null,
            "padding": null,
            "right": null,
            "top": null,
            "visibility": null,
            "width": null
          }
        },
        "4080dcdc1e2b480e93f1160fc3fcda2f": {
          "model_module": "@jupyter-widgets/controls",
          "model_name": "DescriptionStyleModel",
          "model_module_version": "1.5.0",
          "state": {
            "_model_module": "@jupyter-widgets/controls",
            "_model_module_version": "1.5.0",
            "_model_name": "DescriptionStyleModel",
            "_view_count": null,
            "_view_module": "@jupyter-widgets/base",
            "_view_module_version": "1.2.0",
            "_view_name": "StyleView",
            "description_width": ""
          }
        },
        "f4c09fb918d4468890d643fca248cc47": {
          "model_module": "@jupyter-widgets/base",
          "model_name": "LayoutModel",
          "model_module_version": "1.2.0",
          "state": {
            "_model_module": "@jupyter-widgets/base",
            "_model_module_version": "1.2.0",
            "_model_name": "LayoutModel",
            "_view_count": null,
            "_view_module": "@jupyter-widgets/base",
            "_view_module_version": "1.2.0",
            "_view_name": "LayoutView",
            "align_content": null,
            "align_items": null,
            "align_self": null,
            "border": null,
            "bottom": null,
            "display": null,
            "flex": null,
            "flex_flow": null,
            "grid_area": null,
            "grid_auto_columns": null,
            "grid_auto_flow": null,
            "grid_auto_rows": null,
            "grid_column": null,
            "grid_gap": null,
            "grid_row": null,
            "grid_template_areas": null,
            "grid_template_columns": null,
            "grid_template_rows": null,
            "height": null,
            "justify_content": null,
            "justify_items": null,
            "left": null,
            "margin": null,
            "max_height": null,
            "max_width": null,
            "min_height": null,
            "min_width": null,
            "object_fit": null,
            "object_position": null,
            "order": null,
            "overflow": null,
            "overflow_x": null,
            "overflow_y": null,
            "padding": null,
            "right": null,
            "top": null,
            "visibility": null,
            "width": null
          }
        },
        "a8bc349fd8c04f79ba76dce42756b05b": {
          "model_module": "@jupyter-widgets/controls",
          "model_name": "DescriptionStyleModel",
          "model_module_version": "1.5.0",
          "state": {
            "_model_module": "@jupyter-widgets/controls",
            "_model_module_version": "1.5.0",
            "_model_name": "DescriptionStyleModel",
            "_view_count": null,
            "_view_module": "@jupyter-widgets/base",
            "_view_module_version": "1.2.0",
            "_view_name": "StyleView",
            "description_width": ""
          }
        },
        "9ee1bf42412044a1b5e9009855a28aaa": {
          "model_module": "@jupyter-widgets/base",
          "model_name": "LayoutModel",
          "model_module_version": "1.2.0",
          "state": {
            "_model_module": "@jupyter-widgets/base",
            "_model_module_version": "1.2.0",
            "_model_name": "LayoutModel",
            "_view_count": null,
            "_view_module": "@jupyter-widgets/base",
            "_view_module_version": "1.2.0",
            "_view_name": "LayoutView",
            "align_content": null,
            "align_items": null,
            "align_self": null,
            "border": null,
            "bottom": null,
            "display": null,
            "flex": null,
            "flex_flow": null,
            "grid_area": null,
            "grid_auto_columns": null,
            "grid_auto_flow": null,
            "grid_auto_rows": null,
            "grid_column": null,
            "grid_gap": null,
            "grid_row": null,
            "grid_template_areas": null,
            "grid_template_columns": null,
            "grid_template_rows": null,
            "height": null,
            "justify_content": null,
            "justify_items": null,
            "left": null,
            "margin": null,
            "max_height": null,
            "max_width": null,
            "min_height": null,
            "min_width": null,
            "object_fit": null,
            "object_position": null,
            "order": null,
            "overflow": null,
            "overflow_x": null,
            "overflow_y": null,
            "padding": null,
            "right": null,
            "top": null,
            "visibility": null,
            "width": null
          }
        },
        "d9357f32226941a292c48bbeb9b2d97d": {
          "model_module": "@jupyter-widgets/controls",
          "model_name": "DescriptionStyleModel",
          "model_module_version": "1.5.0",
          "state": {
            "_model_module": "@jupyter-widgets/controls",
            "_model_module_version": "1.5.0",
            "_model_name": "DescriptionStyleModel",
            "_view_count": null,
            "_view_module": "@jupyter-widgets/base",
            "_view_module_version": "1.2.0",
            "_view_name": "StyleView",
            "description_width": ""
          }
        },
        "262428a69b094d68ae173e17ecd9ee01": {
          "model_module": "@jupyter-widgets/base",
          "model_name": "LayoutModel",
          "model_module_version": "1.2.0",
          "state": {
            "_model_module": "@jupyter-widgets/base",
            "_model_module_version": "1.2.0",
            "_model_name": "LayoutModel",
            "_view_count": null,
            "_view_module": "@jupyter-widgets/base",
            "_view_module_version": "1.2.0",
            "_view_name": "LayoutView",
            "align_content": null,
            "align_items": null,
            "align_self": null,
            "border": null,
            "bottom": null,
            "display": null,
            "flex": null,
            "flex_flow": null,
            "grid_area": null,
            "grid_auto_columns": null,
            "grid_auto_flow": null,
            "grid_auto_rows": null,
            "grid_column": null,
            "grid_gap": null,
            "grid_row": null,
            "grid_template_areas": null,
            "grid_template_columns": null,
            "grid_template_rows": null,
            "height": null,
            "justify_content": null,
            "justify_items": null,
            "left": null,
            "margin": null,
            "max_height": null,
            "max_width": null,
            "min_height": null,
            "min_width": null,
            "object_fit": null,
            "object_position": null,
            "order": null,
            "overflow": null,
            "overflow_x": null,
            "overflow_y": null,
            "padding": null,
            "right": null,
            "top": null,
            "visibility": null,
            "width": null
          }
        },
        "ff6bcb7d4d70466fba6b4b3db61ebaf8": {
          "model_module": "@jupyter-widgets/controls",
          "model_name": "DescriptionStyleModel",
          "model_module_version": "1.5.0",
          "state": {
            "_model_module": "@jupyter-widgets/controls",
            "_model_module_version": "1.5.0",
            "_model_name": "DescriptionStyleModel",
            "_view_count": null,
            "_view_module": "@jupyter-widgets/base",
            "_view_module_version": "1.2.0",
            "_view_name": "StyleView",
            "description_width": ""
          }
        },
        "6622ebbcde0345208311d62c1beb92eb": {
          "model_module": "@jupyter-widgets/base",
          "model_name": "LayoutModel",
          "model_module_version": "1.2.0",
          "state": {
            "_model_module": "@jupyter-widgets/base",
            "_model_module_version": "1.2.0",
            "_model_name": "LayoutModel",
            "_view_count": null,
            "_view_module": "@jupyter-widgets/base",
            "_view_module_version": "1.2.0",
            "_view_name": "LayoutView",
            "align_content": null,
            "align_items": null,
            "align_self": null,
            "border": null,
            "bottom": null,
            "display": null,
            "flex": null,
            "flex_flow": null,
            "grid_area": null,
            "grid_auto_columns": null,
            "grid_auto_flow": null,
            "grid_auto_rows": null,
            "grid_column": null,
            "grid_gap": null,
            "grid_row": null,
            "grid_template_areas": null,
            "grid_template_columns": null,
            "grid_template_rows": null,
            "height": null,
            "justify_content": null,
            "justify_items": null,
            "left": null,
            "margin": null,
            "max_height": null,
            "max_width": null,
            "min_height": null,
            "min_width": null,
            "object_fit": null,
            "object_position": null,
            "order": null,
            "overflow": null,
            "overflow_x": null,
            "overflow_y": null,
            "padding": null,
            "right": null,
            "top": null,
            "visibility": null,
            "width": null
          }
        },
        "e953696ddf144ed383e67e02dbc68d26": {
          "model_module": "@jupyter-widgets/controls",
          "model_name": "DescriptionStyleModel",
          "model_module_version": "1.5.0",
          "state": {
            "_model_module": "@jupyter-widgets/controls",
            "_model_module_version": "1.5.0",
            "_model_name": "DescriptionStyleModel",
            "_view_count": null,
            "_view_module": "@jupyter-widgets/base",
            "_view_module_version": "1.2.0",
            "_view_name": "StyleView",
            "description_width": ""
          }
        },
        "3ca3ed1d933445fc90212d2cc37eb0a5": {
          "model_module": "@jupyter-widgets/base",
          "model_name": "LayoutModel",
          "model_module_version": "1.2.0",
          "state": {
            "_model_module": "@jupyter-widgets/base",
            "_model_module_version": "1.2.0",
            "_model_name": "LayoutModel",
            "_view_count": null,
            "_view_module": "@jupyter-widgets/base",
            "_view_module_version": "1.2.0",
            "_view_name": "LayoutView",
            "align_content": null,
            "align_items": null,
            "align_self": null,
            "border": null,
            "bottom": null,
            "display": null,
            "flex": null,
            "flex_flow": null,
            "grid_area": null,
            "grid_auto_columns": null,
            "grid_auto_flow": null,
            "grid_auto_rows": null,
            "grid_column": null,
            "grid_gap": null,
            "grid_row": null,
            "grid_template_areas": null,
            "grid_template_columns": null,
            "grid_template_rows": null,
            "height": null,
            "justify_content": null,
            "justify_items": null,
            "left": null,
            "margin": null,
            "max_height": null,
            "max_width": null,
            "min_height": null,
            "min_width": null,
            "object_fit": null,
            "object_position": null,
            "order": null,
            "overflow": null,
            "overflow_x": null,
            "overflow_y": null,
            "padding": null,
            "right": null,
            "top": null,
            "visibility": null,
            "width": null
          }
        },
        "8d61ed8287a64301a0163c0e876bf6b0": {
          "model_module": "@jupyter-widgets/controls",
          "model_name": "DescriptionStyleModel",
          "model_module_version": "1.5.0",
          "state": {
            "_model_module": "@jupyter-widgets/controls",
            "_model_module_version": "1.5.0",
            "_model_name": "DescriptionStyleModel",
            "_view_count": null,
            "_view_module": "@jupyter-widgets/base",
            "_view_module_version": "1.2.0",
            "_view_name": "StyleView",
            "description_width": ""
          }
        },
        "9fae534bf7304b21bb9b4a4823561274": {
          "model_module": "@jupyter-widgets/base",
          "model_name": "LayoutModel",
          "model_module_version": "1.2.0",
          "state": {
            "_model_module": "@jupyter-widgets/base",
            "_model_module_version": "1.2.0",
            "_model_name": "LayoutModel",
            "_view_count": null,
            "_view_module": "@jupyter-widgets/base",
            "_view_module_version": "1.2.0",
            "_view_name": "LayoutView",
            "align_content": null,
            "align_items": null,
            "align_self": null,
            "border": null,
            "bottom": null,
            "display": null,
            "flex": null,
            "flex_flow": null,
            "grid_area": null,
            "grid_auto_columns": null,
            "grid_auto_flow": null,
            "grid_auto_rows": null,
            "grid_column": null,
            "grid_gap": null,
            "grid_row": null,
            "grid_template_areas": null,
            "grid_template_columns": null,
            "grid_template_rows": null,
            "height": null,
            "justify_content": null,
            "justify_items": null,
            "left": null,
            "margin": null,
            "max_height": null,
            "max_width": null,
            "min_height": null,
            "min_width": null,
            "object_fit": null,
            "object_position": null,
            "order": null,
            "overflow": null,
            "overflow_x": null,
            "overflow_y": null,
            "padding": null,
            "right": null,
            "top": null,
            "visibility": null,
            "width": null
          }
        },
        "97b2888b59d54ce39be78bea23cef34d": {
          "model_module": "@jupyter-widgets/controls",
          "model_name": "DescriptionStyleModel",
          "model_module_version": "1.5.0",
          "state": {
            "_model_module": "@jupyter-widgets/controls",
            "_model_module_version": "1.5.0",
            "_model_name": "DescriptionStyleModel",
            "_view_count": null,
            "_view_module": "@jupyter-widgets/base",
            "_view_module_version": "1.2.0",
            "_view_name": "StyleView",
            "description_width": ""
          }
        },
        "2c2a8e77cd2c49109223d2ceb05a0a79": {
          "model_module": "@jupyter-widgets/base",
          "model_name": "LayoutModel",
          "model_module_version": "1.2.0",
          "state": {
            "_model_module": "@jupyter-widgets/base",
            "_model_module_version": "1.2.0",
            "_model_name": "LayoutModel",
            "_view_count": null,
            "_view_module": "@jupyter-widgets/base",
            "_view_module_version": "1.2.0",
            "_view_name": "LayoutView",
            "align_content": null,
            "align_items": null,
            "align_self": null,
            "border": null,
            "bottom": null,
            "display": null,
            "flex": null,
            "flex_flow": null,
            "grid_area": null,
            "grid_auto_columns": null,
            "grid_auto_flow": null,
            "grid_auto_rows": null,
            "grid_column": null,
            "grid_gap": null,
            "grid_row": null,
            "grid_template_areas": null,
            "grid_template_columns": null,
            "grid_template_rows": null,
            "height": null,
            "justify_content": null,
            "justify_items": null,
            "left": null,
            "margin": null,
            "max_height": null,
            "max_width": null,
            "min_height": null,
            "min_width": null,
            "object_fit": null,
            "object_position": null,
            "order": null,
            "overflow": null,
            "overflow_x": null,
            "overflow_y": null,
            "padding": null,
            "right": null,
            "top": null,
            "visibility": null,
            "width": null
          }
        },
        "f9357aad3f294dd5913bff3e38a72170": {
          "model_module": "@jupyter-widgets/controls",
          "model_name": "DescriptionStyleModel",
          "model_module_version": "1.5.0",
          "state": {
            "_model_module": "@jupyter-widgets/controls",
            "_model_module_version": "1.5.0",
            "_model_name": "DescriptionStyleModel",
            "_view_count": null,
            "_view_module": "@jupyter-widgets/base",
            "_view_module_version": "1.2.0",
            "_view_name": "StyleView",
            "description_width": ""
          }
        },
        "c1722e8a1f9c4bd0a5840c73e0435acb": {
          "model_module": "@jupyter-widgets/base",
          "model_name": "LayoutModel",
          "model_module_version": "1.2.0",
          "state": {
            "_model_module": "@jupyter-widgets/base",
            "_model_module_version": "1.2.0",
            "_model_name": "LayoutModel",
            "_view_count": null,
            "_view_module": "@jupyter-widgets/base",
            "_view_module_version": "1.2.0",
            "_view_name": "LayoutView",
            "align_content": null,
            "align_items": null,
            "align_self": null,
            "border": null,
            "bottom": null,
            "display": null,
            "flex": null,
            "flex_flow": null,
            "grid_area": null,
            "grid_auto_columns": null,
            "grid_auto_flow": null,
            "grid_auto_rows": null,
            "grid_column": null,
            "grid_gap": null,
            "grid_row": null,
            "grid_template_areas": null,
            "grid_template_columns": null,
            "grid_template_rows": null,
            "height": null,
            "justify_content": null,
            "justify_items": null,
            "left": null,
            "margin": null,
            "max_height": null,
            "max_width": null,
            "min_height": null,
            "min_width": null,
            "object_fit": null,
            "object_position": null,
            "order": null,
            "overflow": null,
            "overflow_x": null,
            "overflow_y": null,
            "padding": null,
            "right": null,
            "top": null,
            "visibility": null,
            "width": null
          }
        },
        "dddba004b8664bb094e1b2d30a7c4910": {
          "model_module": "@jupyter-widgets/controls",
          "model_name": "DescriptionStyleModel",
          "model_module_version": "1.5.0",
          "state": {
            "_model_module": "@jupyter-widgets/controls",
            "_model_module_version": "1.5.0",
            "_model_name": "DescriptionStyleModel",
            "_view_count": null,
            "_view_module": "@jupyter-widgets/base",
            "_view_module_version": "1.2.0",
            "_view_name": "StyleView",
            "description_width": ""
          }
        },
        "79832508f6c44074b1412aaa530fa9f4": {
          "model_module": "@jupyter-widgets/base",
          "model_name": "LayoutModel",
          "model_module_version": "1.2.0",
          "state": {
            "_model_module": "@jupyter-widgets/base",
            "_model_module_version": "1.2.0",
            "_model_name": "LayoutModel",
            "_view_count": null,
            "_view_module": "@jupyter-widgets/base",
            "_view_module_version": "1.2.0",
            "_view_name": "LayoutView",
            "align_content": null,
            "align_items": null,
            "align_self": null,
            "border": null,
            "bottom": null,
            "display": null,
            "flex": null,
            "flex_flow": null,
            "grid_area": null,
            "grid_auto_columns": null,
            "grid_auto_flow": null,
            "grid_auto_rows": null,
            "grid_column": null,
            "grid_gap": null,
            "grid_row": null,
            "grid_template_areas": null,
            "grid_template_columns": null,
            "grid_template_rows": null,
            "height": null,
            "justify_content": null,
            "justify_items": null,
            "left": null,
            "margin": null,
            "max_height": null,
            "max_width": null,
            "min_height": null,
            "min_width": null,
            "object_fit": null,
            "object_position": null,
            "order": null,
            "overflow": null,
            "overflow_x": null,
            "overflow_y": null,
            "padding": null,
            "right": null,
            "top": null,
            "visibility": null,
            "width": null
          }
        },
        "6bbd56f2883947e98b3ce7c2a6a179cf": {
          "model_module": "@jupyter-widgets/controls",
          "model_name": "DescriptionStyleModel",
          "model_module_version": "1.5.0",
          "state": {
            "_model_module": "@jupyter-widgets/controls",
            "_model_module_version": "1.5.0",
            "_model_name": "DescriptionStyleModel",
            "_view_count": null,
            "_view_module": "@jupyter-widgets/base",
            "_view_module_version": "1.2.0",
            "_view_name": "StyleView",
            "description_width": ""
          }
        },
        "5c90cd7ca97842a1aabee8d459a45a15": {
          "model_module": "@jupyter-widgets/base",
          "model_name": "LayoutModel",
          "model_module_version": "1.2.0",
          "state": {
            "_model_module": "@jupyter-widgets/base",
            "_model_module_version": "1.2.0",
            "_model_name": "LayoutModel",
            "_view_count": null,
            "_view_module": "@jupyter-widgets/base",
            "_view_module_version": "1.2.0",
            "_view_name": "LayoutView",
            "align_content": null,
            "align_items": null,
            "align_self": null,
            "border": null,
            "bottom": null,
            "display": null,
            "flex": null,
            "flex_flow": null,
            "grid_area": null,
            "grid_auto_columns": null,
            "grid_auto_flow": null,
            "grid_auto_rows": null,
            "grid_column": null,
            "grid_gap": null,
            "grid_row": null,
            "grid_template_areas": null,
            "grid_template_columns": null,
            "grid_template_rows": null,
            "height": null,
            "justify_content": null,
            "justify_items": null,
            "left": null,
            "margin": null,
            "max_height": null,
            "max_width": null,
            "min_height": null,
            "min_width": null,
            "object_fit": null,
            "object_position": null,
            "order": null,
            "overflow": null,
            "overflow_x": null,
            "overflow_y": null,
            "padding": null,
            "right": null,
            "top": null,
            "visibility": null,
            "width": null
          }
        },
        "c69a13e781f7473abbf9b66b03fb381b": {
          "model_module": "@jupyter-widgets/controls",
          "model_name": "DescriptionStyleModel",
          "model_module_version": "1.5.0",
          "state": {
            "_model_module": "@jupyter-widgets/controls",
            "_model_module_version": "1.5.0",
            "_model_name": "DescriptionStyleModel",
            "_view_count": null,
            "_view_module": "@jupyter-widgets/base",
            "_view_module_version": "1.2.0",
            "_view_name": "StyleView",
            "description_width": ""
          }
        },
        "bdd1235971e94a10917c3a6b0180a677": {
          "model_module": "@jupyter-widgets/base",
          "model_name": "LayoutModel",
          "model_module_version": "1.2.0",
          "state": {
            "_model_module": "@jupyter-widgets/base",
            "_model_module_version": "1.2.0",
            "_model_name": "LayoutModel",
            "_view_count": null,
            "_view_module": "@jupyter-widgets/base",
            "_view_module_version": "1.2.0",
            "_view_name": "LayoutView",
            "align_content": null,
            "align_items": null,
            "align_self": null,
            "border": null,
            "bottom": null,
            "display": null,
            "flex": null,
            "flex_flow": null,
            "grid_area": null,
            "grid_auto_columns": null,
            "grid_auto_flow": null,
            "grid_auto_rows": null,
            "grid_column": null,
            "grid_gap": null,
            "grid_row": null,
            "grid_template_areas": null,
            "grid_template_columns": null,
            "grid_template_rows": null,
            "height": null,
            "justify_content": null,
            "justify_items": null,
            "left": null,
            "margin": null,
            "max_height": null,
            "max_width": null,
            "min_height": null,
            "min_width": null,
            "object_fit": null,
            "object_position": null,
            "order": null,
            "overflow": null,
            "overflow_x": null,
            "overflow_y": null,
            "padding": null,
            "right": null,
            "top": null,
            "visibility": null,
            "width": null
          }
        },
        "8e89722b7edf4a79bfa3aa7f63bb83e7": {
          "model_module": "@jupyter-widgets/controls",
          "model_name": "DescriptionStyleModel",
          "model_module_version": "1.5.0",
          "state": {
            "_model_module": "@jupyter-widgets/controls",
            "_model_module_version": "1.5.0",
            "_model_name": "DescriptionStyleModel",
            "_view_count": null,
            "_view_module": "@jupyter-widgets/base",
            "_view_module_version": "1.2.0",
            "_view_name": "StyleView",
            "description_width": ""
          }
        },
        "602bb3f180954791bb0fc7dcb4806216": {
          "model_module": "@jupyter-widgets/base",
          "model_name": "LayoutModel",
          "model_module_version": "1.2.0",
          "state": {
            "_model_module": "@jupyter-widgets/base",
            "_model_module_version": "1.2.0",
            "_model_name": "LayoutModel",
            "_view_count": null,
            "_view_module": "@jupyter-widgets/base",
            "_view_module_version": "1.2.0",
            "_view_name": "LayoutView",
            "align_content": null,
            "align_items": null,
            "align_self": null,
            "border": null,
            "bottom": null,
            "display": null,
            "flex": null,
            "flex_flow": null,
            "grid_area": null,
            "grid_auto_columns": null,
            "grid_auto_flow": null,
            "grid_auto_rows": null,
            "grid_column": null,
            "grid_gap": null,
            "grid_row": null,
            "grid_template_areas": null,
            "grid_template_columns": null,
            "grid_template_rows": null,
            "height": null,
            "justify_content": null,
            "justify_items": null,
            "left": null,
            "margin": null,
            "max_height": null,
            "max_width": null,
            "min_height": null,
            "min_width": null,
            "object_fit": null,
            "object_position": null,
            "order": null,
            "overflow": null,
            "overflow_x": null,
            "overflow_y": null,
            "padding": null,
            "right": null,
            "top": null,
            "visibility": null,
            "width": null
          }
        },
        "6038b27885cc4e43ac5aa996ae632f1f": {
          "model_module": "@jupyter-widgets/controls",
          "model_name": "DescriptionStyleModel",
          "model_module_version": "1.5.0",
          "state": {
            "_model_module": "@jupyter-widgets/controls",
            "_model_module_version": "1.5.0",
            "_model_name": "DescriptionStyleModel",
            "_view_count": null,
            "_view_module": "@jupyter-widgets/base",
            "_view_module_version": "1.2.0",
            "_view_name": "StyleView",
            "description_width": ""
          }
        },
        "ffb548c190df4286b2bb52b1e957210e": {
          "model_module": "@jupyter-widgets/base",
          "model_name": "LayoutModel",
          "model_module_version": "1.2.0",
          "state": {
            "_model_module": "@jupyter-widgets/base",
            "_model_module_version": "1.2.0",
            "_model_name": "LayoutModel",
            "_view_count": null,
            "_view_module": "@jupyter-widgets/base",
            "_view_module_version": "1.2.0",
            "_view_name": "LayoutView",
            "align_content": null,
            "align_items": null,
            "align_self": null,
            "border": null,
            "bottom": null,
            "display": null,
            "flex": null,
            "flex_flow": null,
            "grid_area": null,
            "grid_auto_columns": null,
            "grid_auto_flow": null,
            "grid_auto_rows": null,
            "grid_column": null,
            "grid_gap": null,
            "grid_row": null,
            "grid_template_areas": null,
            "grid_template_columns": null,
            "grid_template_rows": null,
            "height": null,
            "justify_content": null,
            "justify_items": null,
            "left": null,
            "margin": null,
            "max_height": null,
            "max_width": null,
            "min_height": null,
            "min_width": null,
            "object_fit": null,
            "object_position": null,
            "order": null,
            "overflow": null,
            "overflow_x": null,
            "overflow_y": null,
            "padding": null,
            "right": null,
            "top": null,
            "visibility": null,
            "width": null
          }
        },
        "aaeb45205cb343daac6ec7f3e42c8e80": {
          "model_module": "@jupyter-widgets/controls",
          "model_name": "DescriptionStyleModel",
          "model_module_version": "1.5.0",
          "state": {
            "_model_module": "@jupyter-widgets/controls",
            "_model_module_version": "1.5.0",
            "_model_name": "DescriptionStyleModel",
            "_view_count": null,
            "_view_module": "@jupyter-widgets/base",
            "_view_module_version": "1.2.0",
            "_view_name": "StyleView",
            "description_width": ""
          }
        },
        "22c89975a55d4878a76f72fe3bdc593b": {
          "model_module": "@jupyter-widgets/base",
          "model_name": "LayoutModel",
          "model_module_version": "1.2.0",
          "state": {
            "_model_module": "@jupyter-widgets/base",
            "_model_module_version": "1.2.0",
            "_model_name": "LayoutModel",
            "_view_count": null,
            "_view_module": "@jupyter-widgets/base",
            "_view_module_version": "1.2.0",
            "_view_name": "LayoutView",
            "align_content": null,
            "align_items": null,
            "align_self": null,
            "border": null,
            "bottom": null,
            "display": null,
            "flex": null,
            "flex_flow": null,
            "grid_area": null,
            "grid_auto_columns": null,
            "grid_auto_flow": null,
            "grid_auto_rows": null,
            "grid_column": null,
            "grid_gap": null,
            "grid_row": null,
            "grid_template_areas": null,
            "grid_template_columns": null,
            "grid_template_rows": null,
            "height": null,
            "justify_content": null,
            "justify_items": null,
            "left": null,
            "margin": null,
            "max_height": null,
            "max_width": null,
            "min_height": null,
            "min_width": null,
            "object_fit": null,
            "object_position": null,
            "order": null,
            "overflow": null,
            "overflow_x": null,
            "overflow_y": null,
            "padding": null,
            "right": null,
            "top": null,
            "visibility": null,
            "width": null
          }
        },
        "d5a6c5ee7e6d4a2b9dcbaf71e1697f09": {
          "model_module": "@jupyter-widgets/controls",
          "model_name": "DescriptionStyleModel",
          "model_module_version": "1.5.0",
          "state": {
            "_model_module": "@jupyter-widgets/controls",
            "_model_module_version": "1.5.0",
            "_model_name": "DescriptionStyleModel",
            "_view_count": null,
            "_view_module": "@jupyter-widgets/base",
            "_view_module_version": "1.2.0",
            "_view_name": "StyleView",
            "description_width": ""
          }
        },
        "189883fee78c42de91d74d05d76b33db": {
          "model_module": "@jupyter-widgets/base",
          "model_name": "LayoutModel",
          "model_module_version": "1.2.0",
          "state": {
            "_model_module": "@jupyter-widgets/base",
            "_model_module_version": "1.2.0",
            "_model_name": "LayoutModel",
            "_view_count": null,
            "_view_module": "@jupyter-widgets/base",
            "_view_module_version": "1.2.0",
            "_view_name": "LayoutView",
            "align_content": null,
            "align_items": null,
            "align_self": null,
            "border": null,
            "bottom": null,
            "display": null,
            "flex": null,
            "flex_flow": null,
            "grid_area": null,
            "grid_auto_columns": null,
            "grid_auto_flow": null,
            "grid_auto_rows": null,
            "grid_column": null,
            "grid_gap": null,
            "grid_row": null,
            "grid_template_areas": null,
            "grid_template_columns": null,
            "grid_template_rows": null,
            "height": null,
            "justify_content": null,
            "justify_items": null,
            "left": null,
            "margin": null,
            "max_height": null,
            "max_width": null,
            "min_height": null,
            "min_width": null,
            "object_fit": null,
            "object_position": null,
            "order": null,
            "overflow": null,
            "overflow_x": null,
            "overflow_y": null,
            "padding": null,
            "right": null,
            "top": null,
            "visibility": null,
            "width": null
          }
        },
        "c59c2c68ed6f436a9d0ef53f877e2c09": {
          "model_module": "@jupyter-widgets/controls",
          "model_name": "DescriptionStyleModel",
          "model_module_version": "1.5.0",
          "state": {
            "_model_module": "@jupyter-widgets/controls",
            "_model_module_version": "1.5.0",
            "_model_name": "DescriptionStyleModel",
            "_view_count": null,
            "_view_module": "@jupyter-widgets/base",
            "_view_module_version": "1.2.0",
            "_view_name": "StyleView",
            "description_width": ""
          }
        },
        "27298b6ab825416fb013943f8879ace5": {
          "model_module": "@jupyter-widgets/base",
          "model_name": "LayoutModel",
          "model_module_version": "1.2.0",
          "state": {
            "_model_module": "@jupyter-widgets/base",
            "_model_module_version": "1.2.0",
            "_model_name": "LayoutModel",
            "_view_count": null,
            "_view_module": "@jupyter-widgets/base",
            "_view_module_version": "1.2.0",
            "_view_name": "LayoutView",
            "align_content": null,
            "align_items": null,
            "align_self": null,
            "border": null,
            "bottom": null,
            "display": null,
            "flex": null,
            "flex_flow": null,
            "grid_area": null,
            "grid_auto_columns": null,
            "grid_auto_flow": null,
            "grid_auto_rows": null,
            "grid_column": null,
            "grid_gap": null,
            "grid_row": null,
            "grid_template_areas": null,
            "grid_template_columns": null,
            "grid_template_rows": null,
            "height": null,
            "justify_content": null,
            "justify_items": null,
            "left": null,
            "margin": null,
            "max_height": null,
            "max_width": null,
            "min_height": null,
            "min_width": null,
            "object_fit": null,
            "object_position": null,
            "order": null,
            "overflow": null,
            "overflow_x": null,
            "overflow_y": null,
            "padding": null,
            "right": null,
            "top": null,
            "visibility": null,
            "width": null
          }
        },
        "eaadfae36a2041f2b503eda4c2b52795": {
          "model_module": "@jupyter-widgets/controls",
          "model_name": "DescriptionStyleModel",
          "model_module_version": "1.5.0",
          "state": {
            "_model_module": "@jupyter-widgets/controls",
            "_model_module_version": "1.5.0",
            "_model_name": "DescriptionStyleModel",
            "_view_count": null,
            "_view_module": "@jupyter-widgets/base",
            "_view_module_version": "1.2.0",
            "_view_name": "StyleView",
            "description_width": ""
          }
        },
        "fd98510c8e7249b5b7c28b54786298de": {
          "model_module": "@jupyter-widgets/base",
          "model_name": "LayoutModel",
          "model_module_version": "1.2.0",
          "state": {
            "_model_module": "@jupyter-widgets/base",
            "_model_module_version": "1.2.0",
            "_model_name": "LayoutModel",
            "_view_count": null,
            "_view_module": "@jupyter-widgets/base",
            "_view_module_version": "1.2.0",
            "_view_name": "LayoutView",
            "align_content": null,
            "align_items": null,
            "align_self": null,
            "border": null,
            "bottom": null,
            "display": null,
            "flex": null,
            "flex_flow": null,
            "grid_area": null,
            "grid_auto_columns": null,
            "grid_auto_flow": null,
            "grid_auto_rows": null,
            "grid_column": null,
            "grid_gap": null,
            "grid_row": null,
            "grid_template_areas": null,
            "grid_template_columns": null,
            "grid_template_rows": null,
            "height": null,
            "justify_content": null,
            "justify_items": null,
            "left": null,
            "margin": null,
            "max_height": null,
            "max_width": null,
            "min_height": null,
            "min_width": null,
            "object_fit": null,
            "object_position": null,
            "order": null,
            "overflow": null,
            "overflow_x": null,
            "overflow_y": null,
            "padding": null,
            "right": null,
            "top": null,
            "visibility": null,
            "width": null
          }
        },
        "5f0bb7d76b2c42f3ac899df10c70c8f0": {
          "model_module": "@jupyter-widgets/controls",
          "model_name": "DescriptionStyleModel",
          "model_module_version": "1.5.0",
          "state": {
            "_model_module": "@jupyter-widgets/controls",
            "_model_module_version": "1.5.0",
            "_model_name": "DescriptionStyleModel",
            "_view_count": null,
            "_view_module": "@jupyter-widgets/base",
            "_view_module_version": "1.2.0",
            "_view_name": "StyleView",
            "description_width": ""
          }
        },
        "70df3630ce6e467b8fd117baa0c3ebb2": {
          "model_module": "@jupyter-widgets/base",
          "model_name": "LayoutModel",
          "model_module_version": "1.2.0",
          "state": {
            "_model_module": "@jupyter-widgets/base",
            "_model_module_version": "1.2.0",
            "_model_name": "LayoutModel",
            "_view_count": null,
            "_view_module": "@jupyter-widgets/base",
            "_view_module_version": "1.2.0",
            "_view_name": "LayoutView",
            "align_content": null,
            "align_items": null,
            "align_self": null,
            "border": null,
            "bottom": null,
            "display": null,
            "flex": null,
            "flex_flow": null,
            "grid_area": null,
            "grid_auto_columns": null,
            "grid_auto_flow": null,
            "grid_auto_rows": null,
            "grid_column": null,
            "grid_gap": null,
            "grid_row": null,
            "grid_template_areas": null,
            "grid_template_columns": null,
            "grid_template_rows": null,
            "height": null,
            "justify_content": null,
            "justify_items": null,
            "left": null,
            "margin": null,
            "max_height": null,
            "max_width": null,
            "min_height": null,
            "min_width": null,
            "object_fit": null,
            "object_position": null,
            "order": null,
            "overflow": null,
            "overflow_x": null,
            "overflow_y": null,
            "padding": null,
            "right": null,
            "top": null,
            "visibility": null,
            "width": null
          }
        },
        "cf4a1d5dad444203a87515ccccd46a4e": {
          "model_module": "@jupyter-widgets/controls",
          "model_name": "DescriptionStyleModel",
          "model_module_version": "1.5.0",
          "state": {
            "_model_module": "@jupyter-widgets/controls",
            "_model_module_version": "1.5.0",
            "_model_name": "DescriptionStyleModel",
            "_view_count": null,
            "_view_module": "@jupyter-widgets/base",
            "_view_module_version": "1.2.0",
            "_view_name": "StyleView",
            "description_width": ""
          }
        },
        "76ddb08527fb449ba63ddacaa648f2b2": {
          "model_module": "@jupyter-widgets/base",
          "model_name": "LayoutModel",
          "model_module_version": "1.2.0",
          "state": {
            "_model_module": "@jupyter-widgets/base",
            "_model_module_version": "1.2.0",
            "_model_name": "LayoutModel",
            "_view_count": null,
            "_view_module": "@jupyter-widgets/base",
            "_view_module_version": "1.2.0",
            "_view_name": "LayoutView",
            "align_content": null,
            "align_items": null,
            "align_self": null,
            "border": null,
            "bottom": null,
            "display": null,
            "flex": null,
            "flex_flow": null,
            "grid_area": null,
            "grid_auto_columns": null,
            "grid_auto_flow": null,
            "grid_auto_rows": null,
            "grid_column": null,
            "grid_gap": null,
            "grid_row": null,
            "grid_template_areas": null,
            "grid_template_columns": null,
            "grid_template_rows": null,
            "height": null,
            "justify_content": null,
            "justify_items": null,
            "left": null,
            "margin": null,
            "max_height": null,
            "max_width": null,
            "min_height": null,
            "min_width": null,
            "object_fit": null,
            "object_position": null,
            "order": null,
            "overflow": null,
            "overflow_x": null,
            "overflow_y": null,
            "padding": null,
            "right": null,
            "top": null,
            "visibility": null,
            "width": null
          }
        },
        "6a4eafa6f00e497c90a23422a8056036": {
          "model_module": "@jupyter-widgets/controls",
          "model_name": "DescriptionStyleModel",
          "model_module_version": "1.5.0",
          "state": {
            "_model_module": "@jupyter-widgets/controls",
            "_model_module_version": "1.5.0",
            "_model_name": "DescriptionStyleModel",
            "_view_count": null,
            "_view_module": "@jupyter-widgets/base",
            "_view_module_version": "1.2.0",
            "_view_name": "StyleView",
            "description_width": ""
          }
        },
        "6fda7e083b354d18b3705b09b301d601": {
          "model_module": "@jupyter-widgets/base",
          "model_name": "LayoutModel",
          "model_module_version": "1.2.0",
          "state": {
            "_model_module": "@jupyter-widgets/base",
            "_model_module_version": "1.2.0",
            "_model_name": "LayoutModel",
            "_view_count": null,
            "_view_module": "@jupyter-widgets/base",
            "_view_module_version": "1.2.0",
            "_view_name": "LayoutView",
            "align_content": null,
            "align_items": null,
            "align_self": null,
            "border": null,
            "bottom": null,
            "display": null,
            "flex": null,
            "flex_flow": null,
            "grid_area": null,
            "grid_auto_columns": null,
            "grid_auto_flow": null,
            "grid_auto_rows": null,
            "grid_column": null,
            "grid_gap": null,
            "grid_row": null,
            "grid_template_areas": null,
            "grid_template_columns": null,
            "grid_template_rows": null,
            "height": null,
            "justify_content": null,
            "justify_items": null,
            "left": null,
            "margin": null,
            "max_height": null,
            "max_width": null,
            "min_height": null,
            "min_width": null,
            "object_fit": null,
            "object_position": null,
            "order": null,
            "overflow": null,
            "overflow_x": null,
            "overflow_y": null,
            "padding": null,
            "right": null,
            "top": null,
            "visibility": null,
            "width": null
          }
        },
        "9f11c46e125542f39f43e2ed64fa018f": {
          "model_module": "@jupyter-widgets/controls",
          "model_name": "DescriptionStyleModel",
          "model_module_version": "1.5.0",
          "state": {
            "_model_module": "@jupyter-widgets/controls",
            "_model_module_version": "1.5.0",
            "_model_name": "DescriptionStyleModel",
            "_view_count": null,
            "_view_module": "@jupyter-widgets/base",
            "_view_module_version": "1.2.0",
            "_view_name": "StyleView",
            "description_width": ""
          }
        },
        "cb96641fd6ad41d4bb970fe1e2a1e432": {
          "model_module": "@jupyter-widgets/base",
          "model_name": "LayoutModel",
          "model_module_version": "1.2.0",
          "state": {
            "_model_module": "@jupyter-widgets/base",
            "_model_module_version": "1.2.0",
            "_model_name": "LayoutModel",
            "_view_count": null,
            "_view_module": "@jupyter-widgets/base",
            "_view_module_version": "1.2.0",
            "_view_name": "LayoutView",
            "align_content": null,
            "align_items": null,
            "align_self": null,
            "border": null,
            "bottom": null,
            "display": null,
            "flex": null,
            "flex_flow": null,
            "grid_area": null,
            "grid_auto_columns": null,
            "grid_auto_flow": null,
            "grid_auto_rows": null,
            "grid_column": null,
            "grid_gap": null,
            "grid_row": null,
            "grid_template_areas": null,
            "grid_template_columns": null,
            "grid_template_rows": null,
            "height": null,
            "justify_content": null,
            "justify_items": null,
            "left": null,
            "margin": null,
            "max_height": null,
            "max_width": null,
            "min_height": null,
            "min_width": null,
            "object_fit": null,
            "object_position": null,
            "order": null,
            "overflow": null,
            "overflow_x": null,
            "overflow_y": null,
            "padding": null,
            "right": null,
            "top": null,
            "visibility": null,
            "width": null
          }
        },
        "94b2ac33b7d64dd0bea8fad9e8e596da": {
          "model_module": "@jupyter-widgets/controls",
          "model_name": "DescriptionStyleModel",
          "model_module_version": "1.5.0",
          "state": {
            "_model_module": "@jupyter-widgets/controls",
            "_model_module_version": "1.5.0",
            "_model_name": "DescriptionStyleModel",
            "_view_count": null,
            "_view_module": "@jupyter-widgets/base",
            "_view_module_version": "1.2.0",
            "_view_name": "StyleView",
            "description_width": ""
          }
        },
        "9879cf2392a045bb97b3e765b3cdee3f": {
          "model_module": "@jupyter-widgets/base",
          "model_name": "LayoutModel",
          "model_module_version": "1.2.0",
          "state": {
            "_model_module": "@jupyter-widgets/base",
            "_model_module_version": "1.2.0",
            "_model_name": "LayoutModel",
            "_view_count": null,
            "_view_module": "@jupyter-widgets/base",
            "_view_module_version": "1.2.0",
            "_view_name": "LayoutView",
            "align_content": null,
            "align_items": null,
            "align_self": null,
            "border": null,
            "bottom": null,
            "display": null,
            "flex": null,
            "flex_flow": null,
            "grid_area": null,
            "grid_auto_columns": null,
            "grid_auto_flow": null,
            "grid_auto_rows": null,
            "grid_column": null,
            "grid_gap": null,
            "grid_row": null,
            "grid_template_areas": null,
            "grid_template_columns": null,
            "grid_template_rows": null,
            "height": null,
            "justify_content": null,
            "justify_items": null,
            "left": null,
            "margin": null,
            "max_height": null,
            "max_width": null,
            "min_height": null,
            "min_width": null,
            "object_fit": null,
            "object_position": null,
            "order": null,
            "overflow": null,
            "overflow_x": null,
            "overflow_y": null,
            "padding": null,
            "right": null,
            "top": null,
            "visibility": null,
            "width": null
          }
        },
        "4ce911893ccb470d92a82aed75a44f3a": {
          "model_module": "@jupyter-widgets/controls",
          "model_name": "DescriptionStyleModel",
          "model_module_version": "1.5.0",
          "state": {
            "_model_module": "@jupyter-widgets/controls",
            "_model_module_version": "1.5.0",
            "_model_name": "DescriptionStyleModel",
            "_view_count": null,
            "_view_module": "@jupyter-widgets/base",
            "_view_module_version": "1.2.0",
            "_view_name": "StyleView",
            "description_width": ""
          }
        },
        "0ab0f8a04aa748c1865ed316e2cba437": {
          "model_module": "@jupyter-widgets/base",
          "model_name": "LayoutModel",
          "model_module_version": "1.2.0",
          "state": {
            "_model_module": "@jupyter-widgets/base",
            "_model_module_version": "1.2.0",
            "_model_name": "LayoutModel",
            "_view_count": null,
            "_view_module": "@jupyter-widgets/base",
            "_view_module_version": "1.2.0",
            "_view_name": "LayoutView",
            "align_content": null,
            "align_items": null,
            "align_self": null,
            "border": null,
            "bottom": null,
            "display": null,
            "flex": null,
            "flex_flow": null,
            "grid_area": null,
            "grid_auto_columns": null,
            "grid_auto_flow": null,
            "grid_auto_rows": null,
            "grid_column": null,
            "grid_gap": null,
            "grid_row": null,
            "grid_template_areas": null,
            "grid_template_columns": null,
            "grid_template_rows": null,
            "height": null,
            "justify_content": null,
            "justify_items": null,
            "left": null,
            "margin": null,
            "max_height": null,
            "max_width": null,
            "min_height": null,
            "min_width": null,
            "object_fit": null,
            "object_position": null,
            "order": null,
            "overflow": null,
            "overflow_x": null,
            "overflow_y": null,
            "padding": null,
            "right": null,
            "top": null,
            "visibility": null,
            "width": null
          }
        },
        "a7c3b7a231634144bd1406ea84a75186": {
          "model_module": "@jupyter-widgets/controls",
          "model_name": "DescriptionStyleModel",
          "model_module_version": "1.5.0",
          "state": {
            "_model_module": "@jupyter-widgets/controls",
            "_model_module_version": "1.5.0",
            "_model_name": "DescriptionStyleModel",
            "_view_count": null,
            "_view_module": "@jupyter-widgets/base",
            "_view_module_version": "1.2.0",
            "_view_name": "StyleView",
            "description_width": ""
          }
        },
        "ccb4c9dc46fe496f8dde70e9274ab348": {
          "model_module": "@jupyter-widgets/base",
          "model_name": "LayoutModel",
          "model_module_version": "1.2.0",
          "state": {
            "_model_module": "@jupyter-widgets/base",
            "_model_module_version": "1.2.0",
            "_model_name": "LayoutModel",
            "_view_count": null,
            "_view_module": "@jupyter-widgets/base",
            "_view_module_version": "1.2.0",
            "_view_name": "LayoutView",
            "align_content": null,
            "align_items": null,
            "align_self": null,
            "border": null,
            "bottom": null,
            "display": null,
            "flex": null,
            "flex_flow": null,
            "grid_area": null,
            "grid_auto_columns": null,
            "grid_auto_flow": null,
            "grid_auto_rows": null,
            "grid_column": null,
            "grid_gap": null,
            "grid_row": null,
            "grid_template_areas": null,
            "grid_template_columns": null,
            "grid_template_rows": null,
            "height": null,
            "justify_content": null,
            "justify_items": null,
            "left": null,
            "margin": null,
            "max_height": null,
            "max_width": null,
            "min_height": null,
            "min_width": null,
            "object_fit": null,
            "object_position": null,
            "order": null,
            "overflow": null,
            "overflow_x": null,
            "overflow_y": null,
            "padding": null,
            "right": null,
            "top": null,
            "visibility": null,
            "width": null
          }
        },
        "a73cffc913624bcc980d433fbcf96882": {
          "model_module": "@jupyter-widgets/controls",
          "model_name": "DescriptionStyleModel",
          "model_module_version": "1.5.0",
          "state": {
            "_model_module": "@jupyter-widgets/controls",
            "_model_module_version": "1.5.0",
            "_model_name": "DescriptionStyleModel",
            "_view_count": null,
            "_view_module": "@jupyter-widgets/base",
            "_view_module_version": "1.2.0",
            "_view_name": "StyleView",
            "description_width": ""
          }
        },
        "540317f6003f4d79bf446bc9eed87892": {
          "model_module": "@jupyter-widgets/base",
          "model_name": "LayoutModel",
          "model_module_version": "1.2.0",
          "state": {
            "_model_module": "@jupyter-widgets/base",
            "_model_module_version": "1.2.0",
            "_model_name": "LayoutModel",
            "_view_count": null,
            "_view_module": "@jupyter-widgets/base",
            "_view_module_version": "1.2.0",
            "_view_name": "LayoutView",
            "align_content": null,
            "align_items": null,
            "align_self": null,
            "border": null,
            "bottom": null,
            "display": null,
            "flex": null,
            "flex_flow": null,
            "grid_area": null,
            "grid_auto_columns": null,
            "grid_auto_flow": null,
            "grid_auto_rows": null,
            "grid_column": null,
            "grid_gap": null,
            "grid_row": null,
            "grid_template_areas": null,
            "grid_template_columns": null,
            "grid_template_rows": null,
            "height": null,
            "justify_content": null,
            "justify_items": null,
            "left": null,
            "margin": null,
            "max_height": null,
            "max_width": null,
            "min_height": null,
            "min_width": null,
            "object_fit": null,
            "object_position": null,
            "order": null,
            "overflow": null,
            "overflow_x": null,
            "overflow_y": null,
            "padding": null,
            "right": null,
            "top": null,
            "visibility": null,
            "width": null
          }
        },
        "b27d9eab73914eafa9ba49c682da9b9a": {
          "model_module": "@jupyter-widgets/controls",
          "model_name": "DescriptionStyleModel",
          "model_module_version": "1.5.0",
          "state": {
            "_model_module": "@jupyter-widgets/controls",
            "_model_module_version": "1.5.0",
            "_model_name": "DescriptionStyleModel",
            "_view_count": null,
            "_view_module": "@jupyter-widgets/base",
            "_view_module_version": "1.2.0",
            "_view_name": "StyleView",
            "description_width": ""
          }
        },
        "58d9e6246b974c3db64c6b2a04f76685": {
          "model_module": "@jupyter-widgets/base",
          "model_name": "LayoutModel",
          "model_module_version": "1.2.0",
          "state": {
            "_model_module": "@jupyter-widgets/base",
            "_model_module_version": "1.2.0",
            "_model_name": "LayoutModel",
            "_view_count": null,
            "_view_module": "@jupyter-widgets/base",
            "_view_module_version": "1.2.0",
            "_view_name": "LayoutView",
            "align_content": null,
            "align_items": null,
            "align_self": null,
            "border": null,
            "bottom": null,
            "display": null,
            "flex": null,
            "flex_flow": null,
            "grid_area": null,
            "grid_auto_columns": null,
            "grid_auto_flow": null,
            "grid_auto_rows": null,
            "grid_column": null,
            "grid_gap": null,
            "grid_row": null,
            "grid_template_areas": null,
            "grid_template_columns": null,
            "grid_template_rows": null,
            "height": null,
            "justify_content": null,
            "justify_items": null,
            "left": null,
            "margin": null,
            "max_height": null,
            "max_width": null,
            "min_height": null,
            "min_width": null,
            "object_fit": null,
            "object_position": null,
            "order": null,
            "overflow": null,
            "overflow_x": null,
            "overflow_y": null,
            "padding": null,
            "right": null,
            "top": null,
            "visibility": null,
            "width": null
          }
        },
        "96ab47ae855b4413ad5930520be5d9aa": {
          "model_module": "@jupyter-widgets/controls",
          "model_name": "DescriptionStyleModel",
          "model_module_version": "1.5.0",
          "state": {
            "_model_module": "@jupyter-widgets/controls",
            "_model_module_version": "1.5.0",
            "_model_name": "DescriptionStyleModel",
            "_view_count": null,
            "_view_module": "@jupyter-widgets/base",
            "_view_module_version": "1.2.0",
            "_view_name": "StyleView",
            "description_width": ""
          }
        },
        "67e51087b5ad451e890926167c981975": {
          "model_module": "@jupyter-widgets/base",
          "model_name": "LayoutModel",
          "model_module_version": "1.2.0",
          "state": {
            "_model_module": "@jupyter-widgets/base",
            "_model_module_version": "1.2.0",
            "_model_name": "LayoutModel",
            "_view_count": null,
            "_view_module": "@jupyter-widgets/base",
            "_view_module_version": "1.2.0",
            "_view_name": "LayoutView",
            "align_content": null,
            "align_items": null,
            "align_self": null,
            "border": null,
            "bottom": null,
            "display": null,
            "flex": null,
            "flex_flow": null,
            "grid_area": null,
            "grid_auto_columns": null,
            "grid_auto_flow": null,
            "grid_auto_rows": null,
            "grid_column": null,
            "grid_gap": null,
            "grid_row": null,
            "grid_template_areas": null,
            "grid_template_columns": null,
            "grid_template_rows": null,
            "height": null,
            "justify_content": null,
            "justify_items": null,
            "left": null,
            "margin": null,
            "max_height": null,
            "max_width": null,
            "min_height": null,
            "min_width": null,
            "object_fit": null,
            "object_position": null,
            "order": null,
            "overflow": null,
            "overflow_x": null,
            "overflow_y": null,
            "padding": null,
            "right": null,
            "top": null,
            "visibility": null,
            "width": null
          }
        },
        "8373786fb00349bba296724dc6316aca": {
          "model_module": "@jupyter-widgets/controls",
          "model_name": "DescriptionStyleModel",
          "model_module_version": "1.5.0",
          "state": {
            "_model_module": "@jupyter-widgets/controls",
            "_model_module_version": "1.5.0",
            "_model_name": "DescriptionStyleModel",
            "_view_count": null,
            "_view_module": "@jupyter-widgets/base",
            "_view_module_version": "1.2.0",
            "_view_name": "StyleView",
            "description_width": ""
          }
        },
        "df7b189ff6fa447eb1b887aadd62499e": {
          "model_module": "@jupyter-widgets/base",
          "model_name": "LayoutModel",
          "model_module_version": "1.2.0",
          "state": {
            "_model_module": "@jupyter-widgets/base",
            "_model_module_version": "1.2.0",
            "_model_name": "LayoutModel",
            "_view_count": null,
            "_view_module": "@jupyter-widgets/base",
            "_view_module_version": "1.2.0",
            "_view_name": "LayoutView",
            "align_content": null,
            "align_items": null,
            "align_self": null,
            "border": null,
            "bottom": null,
            "display": null,
            "flex": null,
            "flex_flow": null,
            "grid_area": null,
            "grid_auto_columns": null,
            "grid_auto_flow": null,
            "grid_auto_rows": null,
            "grid_column": null,
            "grid_gap": null,
            "grid_row": null,
            "grid_template_areas": null,
            "grid_template_columns": null,
            "grid_template_rows": null,
            "height": null,
            "justify_content": null,
            "justify_items": null,
            "left": null,
            "margin": null,
            "max_height": null,
            "max_width": null,
            "min_height": null,
            "min_width": null,
            "object_fit": null,
            "object_position": null,
            "order": null,
            "overflow": null,
            "overflow_x": null,
            "overflow_y": null,
            "padding": null,
            "right": null,
            "top": null,
            "visibility": null,
            "width": null
          }
        },
        "5dc50209ee0349caba497b4c93f432b4": {
          "model_module": "@jupyter-widgets/controls",
          "model_name": "DescriptionStyleModel",
          "model_module_version": "1.5.0",
          "state": {
            "_model_module": "@jupyter-widgets/controls",
            "_model_module_version": "1.5.0",
            "_model_name": "DescriptionStyleModel",
            "_view_count": null,
            "_view_module": "@jupyter-widgets/base",
            "_view_module_version": "1.2.0",
            "_view_name": "StyleView",
            "description_width": ""
          }
        },
        "a24ba4bc6f3e48a6b1a1327820a7ad62": {
          "model_module": "@jupyter-widgets/base",
          "model_name": "LayoutModel",
          "model_module_version": "1.2.0",
          "state": {
            "_model_module": "@jupyter-widgets/base",
            "_model_module_version": "1.2.0",
            "_model_name": "LayoutModel",
            "_view_count": null,
            "_view_module": "@jupyter-widgets/base",
            "_view_module_version": "1.2.0",
            "_view_name": "LayoutView",
            "align_content": null,
            "align_items": null,
            "align_self": null,
            "border": null,
            "bottom": null,
            "display": null,
            "flex": null,
            "flex_flow": null,
            "grid_area": null,
            "grid_auto_columns": null,
            "grid_auto_flow": null,
            "grid_auto_rows": null,
            "grid_column": null,
            "grid_gap": null,
            "grid_row": null,
            "grid_template_areas": null,
            "grid_template_columns": null,
            "grid_template_rows": null,
            "height": null,
            "justify_content": null,
            "justify_items": null,
            "left": null,
            "margin": null,
            "max_height": null,
            "max_width": null,
            "min_height": null,
            "min_width": null,
            "object_fit": null,
            "object_position": null,
            "order": null,
            "overflow": null,
            "overflow_x": null,
            "overflow_y": null,
            "padding": null,
            "right": null,
            "top": null,
            "visibility": null,
            "width": null
          }
        },
        "6438d788f4684b019c2594511c0ea8d1": {
          "model_module": "@jupyter-widgets/controls",
          "model_name": "DescriptionStyleModel",
          "model_module_version": "1.5.0",
          "state": {
            "_model_module": "@jupyter-widgets/controls",
            "_model_module_version": "1.5.0",
            "_model_name": "DescriptionStyleModel",
            "_view_count": null,
            "_view_module": "@jupyter-widgets/base",
            "_view_module_version": "1.2.0",
            "_view_name": "StyleView",
            "description_width": ""
          }
        },
        "fddfdd23dc6943aabe511df305813af2": {
          "model_module": "@jupyter-widgets/base",
          "model_name": "LayoutModel",
          "model_module_version": "1.2.0",
          "state": {
            "_model_module": "@jupyter-widgets/base",
            "_model_module_version": "1.2.0",
            "_model_name": "LayoutModel",
            "_view_count": null,
            "_view_module": "@jupyter-widgets/base",
            "_view_module_version": "1.2.0",
            "_view_name": "LayoutView",
            "align_content": null,
            "align_items": null,
            "align_self": null,
            "border": null,
            "bottom": null,
            "display": null,
            "flex": null,
            "flex_flow": null,
            "grid_area": null,
            "grid_auto_columns": null,
            "grid_auto_flow": null,
            "grid_auto_rows": null,
            "grid_column": null,
            "grid_gap": null,
            "grid_row": null,
            "grid_template_areas": null,
            "grid_template_columns": null,
            "grid_template_rows": null,
            "height": null,
            "justify_content": null,
            "justify_items": null,
            "left": null,
            "margin": null,
            "max_height": null,
            "max_width": null,
            "min_height": null,
            "min_width": null,
            "object_fit": null,
            "object_position": null,
            "order": null,
            "overflow": null,
            "overflow_x": null,
            "overflow_y": null,
            "padding": null,
            "right": null,
            "top": null,
            "visibility": null,
            "width": null
          }
        },
        "4a42f28652f441789b55bbb2f0625da4": {
          "model_module": "@jupyter-widgets/controls",
          "model_name": "DescriptionStyleModel",
          "model_module_version": "1.5.0",
          "state": {
            "_model_module": "@jupyter-widgets/controls",
            "_model_module_version": "1.5.0",
            "_model_name": "DescriptionStyleModel",
            "_view_count": null,
            "_view_module": "@jupyter-widgets/base",
            "_view_module_version": "1.2.0",
            "_view_name": "StyleView",
            "description_width": ""
          }
        },
        "ffe59970948946f2b6d003c456cd3ef0": {
          "model_module": "@jupyter-widgets/base",
          "model_name": "LayoutModel",
          "model_module_version": "1.2.0",
          "state": {
            "_model_module": "@jupyter-widgets/base",
            "_model_module_version": "1.2.0",
            "_model_name": "LayoutModel",
            "_view_count": null,
            "_view_module": "@jupyter-widgets/base",
            "_view_module_version": "1.2.0",
            "_view_name": "LayoutView",
            "align_content": null,
            "align_items": null,
            "align_self": null,
            "border": null,
            "bottom": null,
            "display": null,
            "flex": null,
            "flex_flow": null,
            "grid_area": null,
            "grid_auto_columns": null,
            "grid_auto_flow": null,
            "grid_auto_rows": null,
            "grid_column": null,
            "grid_gap": null,
            "grid_row": null,
            "grid_template_areas": null,
            "grid_template_columns": null,
            "grid_template_rows": null,
            "height": null,
            "justify_content": null,
            "justify_items": null,
            "left": null,
            "margin": null,
            "max_height": null,
            "max_width": null,
            "min_height": null,
            "min_width": null,
            "object_fit": null,
            "object_position": null,
            "order": null,
            "overflow": null,
            "overflow_x": null,
            "overflow_y": null,
            "padding": null,
            "right": null,
            "top": null,
            "visibility": null,
            "width": null
          }
        },
        "ea29adfda3a6411a833275cb980bf7f6": {
          "model_module": "@jupyter-widgets/controls",
          "model_name": "DescriptionStyleModel",
          "model_module_version": "1.5.0",
          "state": {
            "_model_module": "@jupyter-widgets/controls",
            "_model_module_version": "1.5.0",
            "_model_name": "DescriptionStyleModel",
            "_view_count": null,
            "_view_module": "@jupyter-widgets/base",
            "_view_module_version": "1.2.0",
            "_view_name": "StyleView",
            "description_width": ""
          }
        },
        "e41aaeb26b5144369689126980edbf9b": {
          "model_module": "@jupyter-widgets/base",
          "model_name": "LayoutModel",
          "model_module_version": "1.2.0",
          "state": {
            "_model_module": "@jupyter-widgets/base",
            "_model_module_version": "1.2.0",
            "_model_name": "LayoutModel",
            "_view_count": null,
            "_view_module": "@jupyter-widgets/base",
            "_view_module_version": "1.2.0",
            "_view_name": "LayoutView",
            "align_content": null,
            "align_items": null,
            "align_self": null,
            "border": null,
            "bottom": null,
            "display": null,
            "flex": null,
            "flex_flow": null,
            "grid_area": null,
            "grid_auto_columns": null,
            "grid_auto_flow": null,
            "grid_auto_rows": null,
            "grid_column": null,
            "grid_gap": null,
            "grid_row": null,
            "grid_template_areas": null,
            "grid_template_columns": null,
            "grid_template_rows": null,
            "height": null,
            "justify_content": null,
            "justify_items": null,
            "left": null,
            "margin": null,
            "max_height": null,
            "max_width": null,
            "min_height": null,
            "min_width": null,
            "object_fit": null,
            "object_position": null,
            "order": null,
            "overflow": null,
            "overflow_x": null,
            "overflow_y": null,
            "padding": null,
            "right": null,
            "top": null,
            "visibility": null,
            "width": null
          }
        },
        "2709cf41bcd745fab42fefd0ab218f31": {
          "model_module": "@jupyter-widgets/controls",
          "model_name": "DescriptionStyleModel",
          "model_module_version": "1.5.0",
          "state": {
            "_model_module": "@jupyter-widgets/controls",
            "_model_module_version": "1.5.0",
            "_model_name": "DescriptionStyleModel",
            "_view_count": null,
            "_view_module": "@jupyter-widgets/base",
            "_view_module_version": "1.2.0",
            "_view_name": "StyleView",
            "description_width": ""
          }
        },
        "76106730c58a44d4a44f5c7ef1a1cc38": {
          "model_module": "@jupyter-widgets/base",
          "model_name": "LayoutModel",
          "model_module_version": "1.2.0",
          "state": {
            "_model_module": "@jupyter-widgets/base",
            "_model_module_version": "1.2.0",
            "_model_name": "LayoutModel",
            "_view_count": null,
            "_view_module": "@jupyter-widgets/base",
            "_view_module_version": "1.2.0",
            "_view_name": "LayoutView",
            "align_content": null,
            "align_items": null,
            "align_self": null,
            "border": null,
            "bottom": null,
            "display": null,
            "flex": null,
            "flex_flow": null,
            "grid_area": null,
            "grid_auto_columns": null,
            "grid_auto_flow": null,
            "grid_auto_rows": null,
            "grid_column": null,
            "grid_gap": null,
            "grid_row": null,
            "grid_template_areas": null,
            "grid_template_columns": null,
            "grid_template_rows": null,
            "height": null,
            "justify_content": null,
            "justify_items": null,
            "left": null,
            "margin": null,
            "max_height": null,
            "max_width": null,
            "min_height": null,
            "min_width": null,
            "object_fit": null,
            "object_position": null,
            "order": null,
            "overflow": null,
            "overflow_x": null,
            "overflow_y": null,
            "padding": null,
            "right": null,
            "top": null,
            "visibility": null,
            "width": null
          }
        },
        "ef582b1d80d345409df58d9f8b1d6492": {
          "model_module": "@jupyter-widgets/controls",
          "model_name": "DescriptionStyleModel",
          "model_module_version": "1.5.0",
          "state": {
            "_model_module": "@jupyter-widgets/controls",
            "_model_module_version": "1.5.0",
            "_model_name": "DescriptionStyleModel",
            "_view_count": null,
            "_view_module": "@jupyter-widgets/base",
            "_view_module_version": "1.2.0",
            "_view_name": "StyleView",
            "description_width": ""
          }
        },
        "b66e9c142d9a4ec2b68022538108468e": {
          "model_module": "@jupyter-widgets/base",
          "model_name": "LayoutModel",
          "model_module_version": "1.2.0",
          "state": {
            "_model_module": "@jupyter-widgets/base",
            "_model_module_version": "1.2.0",
            "_model_name": "LayoutModel",
            "_view_count": null,
            "_view_module": "@jupyter-widgets/base",
            "_view_module_version": "1.2.0",
            "_view_name": "LayoutView",
            "align_content": null,
            "align_items": null,
            "align_self": null,
            "border": null,
            "bottom": null,
            "display": null,
            "flex": null,
            "flex_flow": null,
            "grid_area": null,
            "grid_auto_columns": null,
            "grid_auto_flow": null,
            "grid_auto_rows": null,
            "grid_column": null,
            "grid_gap": null,
            "grid_row": null,
            "grid_template_areas": null,
            "grid_template_columns": null,
            "grid_template_rows": null,
            "height": null,
            "justify_content": null,
            "justify_items": null,
            "left": null,
            "margin": null,
            "max_height": null,
            "max_width": null,
            "min_height": null,
            "min_width": null,
            "object_fit": null,
            "object_position": null,
            "order": null,
            "overflow": null,
            "overflow_x": null,
            "overflow_y": null,
            "padding": null,
            "right": null,
            "top": null,
            "visibility": null,
            "width": null
          }
        },
        "ba486b99f78144c88d411be8362cdece": {
          "model_module": "@jupyter-widgets/controls",
          "model_name": "DescriptionStyleModel",
          "model_module_version": "1.5.0",
          "state": {
            "_model_module": "@jupyter-widgets/controls",
            "_model_module_version": "1.5.0",
            "_model_name": "DescriptionStyleModel",
            "_view_count": null,
            "_view_module": "@jupyter-widgets/base",
            "_view_module_version": "1.2.0",
            "_view_name": "StyleView",
            "description_width": ""
          }
        },
        "056ab46b9c1c4bef865c3ff23852abc8": {
          "model_module": "@jupyter-widgets/base",
          "model_name": "LayoutModel",
          "model_module_version": "1.2.0",
          "state": {
            "_model_module": "@jupyter-widgets/base",
            "_model_module_version": "1.2.0",
            "_model_name": "LayoutModel",
            "_view_count": null,
            "_view_module": "@jupyter-widgets/base",
            "_view_module_version": "1.2.0",
            "_view_name": "LayoutView",
            "align_content": null,
            "align_items": null,
            "align_self": null,
            "border": null,
            "bottom": null,
            "display": null,
            "flex": null,
            "flex_flow": null,
            "grid_area": null,
            "grid_auto_columns": null,
            "grid_auto_flow": null,
            "grid_auto_rows": null,
            "grid_column": null,
            "grid_gap": null,
            "grid_row": null,
            "grid_template_areas": null,
            "grid_template_columns": null,
            "grid_template_rows": null,
            "height": null,
            "justify_content": null,
            "justify_items": null,
            "left": null,
            "margin": null,
            "max_height": null,
            "max_width": null,
            "min_height": null,
            "min_width": null,
            "object_fit": null,
            "object_position": null,
            "order": null,
            "overflow": null,
            "overflow_x": null,
            "overflow_y": null,
            "padding": null,
            "right": null,
            "top": null,
            "visibility": null,
            "width": null
          }
        },
        "bec56cedde184de78206c5a25976319f": {
          "model_module": "@jupyter-widgets/controls",
          "model_name": "DescriptionStyleModel",
          "model_module_version": "1.5.0",
          "state": {
            "_model_module": "@jupyter-widgets/controls",
            "_model_module_version": "1.5.0",
            "_model_name": "DescriptionStyleModel",
            "_view_count": null,
            "_view_module": "@jupyter-widgets/base",
            "_view_module_version": "1.2.0",
            "_view_name": "StyleView",
            "description_width": ""
          }
        },
        "817479587dc8488ca8baacb480557cae": {
          "model_module": "@jupyter-widgets/base",
          "model_name": "LayoutModel",
          "model_module_version": "1.2.0",
          "state": {
            "_model_module": "@jupyter-widgets/base",
            "_model_module_version": "1.2.0",
            "_model_name": "LayoutModel",
            "_view_count": null,
            "_view_module": "@jupyter-widgets/base",
            "_view_module_version": "1.2.0",
            "_view_name": "LayoutView",
            "align_content": null,
            "align_items": null,
            "align_self": null,
            "border": null,
            "bottom": null,
            "display": null,
            "flex": null,
            "flex_flow": null,
            "grid_area": null,
            "grid_auto_columns": null,
            "grid_auto_flow": null,
            "grid_auto_rows": null,
            "grid_column": null,
            "grid_gap": null,
            "grid_row": null,
            "grid_template_areas": null,
            "grid_template_columns": null,
            "grid_template_rows": null,
            "height": null,
            "justify_content": null,
            "justify_items": null,
            "left": null,
            "margin": null,
            "max_height": null,
            "max_width": null,
            "min_height": null,
            "min_width": null,
            "object_fit": null,
            "object_position": null,
            "order": null,
            "overflow": null,
            "overflow_x": null,
            "overflow_y": null,
            "padding": null,
            "right": null,
            "top": null,
            "visibility": null,
            "width": null
          }
        },
        "929a3797562b4dfa83ce70f41b6dc5f0": {
          "model_module": "@jupyter-widgets/controls",
          "model_name": "DescriptionStyleModel",
          "model_module_version": "1.5.0",
          "state": {
            "_model_module": "@jupyter-widgets/controls",
            "_model_module_version": "1.5.0",
            "_model_name": "DescriptionStyleModel",
            "_view_count": null,
            "_view_module": "@jupyter-widgets/base",
            "_view_module_version": "1.2.0",
            "_view_name": "StyleView",
            "description_width": ""
          }
        },
        "04be039fc425448bb3284e0f42b4e5d0": {
          "model_module": "@jupyter-widgets/base",
          "model_name": "LayoutModel",
          "model_module_version": "1.2.0",
          "state": {
            "_model_module": "@jupyter-widgets/base",
            "_model_module_version": "1.2.0",
            "_model_name": "LayoutModel",
            "_view_count": null,
            "_view_module": "@jupyter-widgets/base",
            "_view_module_version": "1.2.0",
            "_view_name": "LayoutView",
            "align_content": null,
            "align_items": null,
            "align_self": null,
            "border": null,
            "bottom": null,
            "display": null,
            "flex": null,
            "flex_flow": null,
            "grid_area": null,
            "grid_auto_columns": null,
            "grid_auto_flow": null,
            "grid_auto_rows": null,
            "grid_column": null,
            "grid_gap": null,
            "grid_row": null,
            "grid_template_areas": null,
            "grid_template_columns": null,
            "grid_template_rows": null,
            "height": null,
            "justify_content": null,
            "justify_items": null,
            "left": null,
            "margin": null,
            "max_height": null,
            "max_width": null,
            "min_height": null,
            "min_width": null,
            "object_fit": null,
            "object_position": null,
            "order": null,
            "overflow": null,
            "overflow_x": null,
            "overflow_y": null,
            "padding": null,
            "right": null,
            "top": null,
            "visibility": null,
            "width": null
          }
        },
        "8c65a44774694310ac450a3c5b1286df": {
          "model_module": "@jupyter-widgets/controls",
          "model_name": "DescriptionStyleModel",
          "model_module_version": "1.5.0",
          "state": {
            "_model_module": "@jupyter-widgets/controls",
            "_model_module_version": "1.5.0",
            "_model_name": "DescriptionStyleModel",
            "_view_count": null,
            "_view_module": "@jupyter-widgets/base",
            "_view_module_version": "1.2.0",
            "_view_name": "StyleView",
            "description_width": ""
          }
        },
        "ed0e808a48bb4fcd8a557ca74b719ad9": {
          "model_module": "@jupyter-widgets/base",
          "model_name": "LayoutModel",
          "model_module_version": "1.2.0",
          "state": {
            "_model_module": "@jupyter-widgets/base",
            "_model_module_version": "1.2.0",
            "_model_name": "LayoutModel",
            "_view_count": null,
            "_view_module": "@jupyter-widgets/base",
            "_view_module_version": "1.2.0",
            "_view_name": "LayoutView",
            "align_content": null,
            "align_items": null,
            "align_self": null,
            "border": null,
            "bottom": null,
            "display": null,
            "flex": null,
            "flex_flow": null,
            "grid_area": null,
            "grid_auto_columns": null,
            "grid_auto_flow": null,
            "grid_auto_rows": null,
            "grid_column": null,
            "grid_gap": null,
            "grid_row": null,
            "grid_template_areas": null,
            "grid_template_columns": null,
            "grid_template_rows": null,
            "height": null,
            "justify_content": null,
            "justify_items": null,
            "left": null,
            "margin": null,
            "max_height": null,
            "max_width": null,
            "min_height": null,
            "min_width": null,
            "object_fit": null,
            "object_position": null,
            "order": null,
            "overflow": null,
            "overflow_x": null,
            "overflow_y": null,
            "padding": null,
            "right": null,
            "top": null,
            "visibility": null,
            "width": null
          }
        },
        "6460010527ef49b494f245a667e71d65": {
          "model_module": "@jupyter-widgets/controls",
          "model_name": "DescriptionStyleModel",
          "model_module_version": "1.5.0",
          "state": {
            "_model_module": "@jupyter-widgets/controls",
            "_model_module_version": "1.5.0",
            "_model_name": "DescriptionStyleModel",
            "_view_count": null,
            "_view_module": "@jupyter-widgets/base",
            "_view_module_version": "1.2.0",
            "_view_name": "StyleView",
            "description_width": ""
          }
        },
        "51f94313addb403699a5d64d5d084e91": {
          "model_module": "@jupyter-widgets/base",
          "model_name": "LayoutModel",
          "model_module_version": "1.2.0",
          "state": {
            "_model_module": "@jupyter-widgets/base",
            "_model_module_version": "1.2.0",
            "_model_name": "LayoutModel",
            "_view_count": null,
            "_view_module": "@jupyter-widgets/base",
            "_view_module_version": "1.2.0",
            "_view_name": "LayoutView",
            "align_content": null,
            "align_items": null,
            "align_self": null,
            "border": null,
            "bottom": null,
            "display": null,
            "flex": null,
            "flex_flow": null,
            "grid_area": null,
            "grid_auto_columns": null,
            "grid_auto_flow": null,
            "grid_auto_rows": null,
            "grid_column": null,
            "grid_gap": null,
            "grid_row": null,
            "grid_template_areas": null,
            "grid_template_columns": null,
            "grid_template_rows": null,
            "height": null,
            "justify_content": null,
            "justify_items": null,
            "left": null,
            "margin": null,
            "max_height": null,
            "max_width": null,
            "min_height": null,
            "min_width": null,
            "object_fit": null,
            "object_position": null,
            "order": null,
            "overflow": null,
            "overflow_x": null,
            "overflow_y": null,
            "padding": null,
            "right": null,
            "top": null,
            "visibility": null,
            "width": null
          }
        },
        "c872c27ed7484189b25514b7b80aae4c": {
          "model_module": "@jupyter-widgets/controls",
          "model_name": "DescriptionStyleModel",
          "model_module_version": "1.5.0",
          "state": {
            "_model_module": "@jupyter-widgets/controls",
            "_model_module_version": "1.5.0",
            "_model_name": "DescriptionStyleModel",
            "_view_count": null,
            "_view_module": "@jupyter-widgets/base",
            "_view_module_version": "1.2.0",
            "_view_name": "StyleView",
            "description_width": ""
          }
        },
        "08dc106e652645da97436dd72bc3de78": {
          "model_module": "@jupyter-widgets/base",
          "model_name": "LayoutModel",
          "model_module_version": "1.2.0",
          "state": {
            "_model_module": "@jupyter-widgets/base",
            "_model_module_version": "1.2.0",
            "_model_name": "LayoutModel",
            "_view_count": null,
            "_view_module": "@jupyter-widgets/base",
            "_view_module_version": "1.2.0",
            "_view_name": "LayoutView",
            "align_content": null,
            "align_items": null,
            "align_self": null,
            "border": null,
            "bottom": null,
            "display": null,
            "flex": null,
            "flex_flow": null,
            "grid_area": null,
            "grid_auto_columns": null,
            "grid_auto_flow": null,
            "grid_auto_rows": null,
            "grid_column": null,
            "grid_gap": null,
            "grid_row": null,
            "grid_template_areas": null,
            "grid_template_columns": null,
            "grid_template_rows": null,
            "height": null,
            "justify_content": null,
            "justify_items": null,
            "left": null,
            "margin": null,
            "max_height": null,
            "max_width": null,
            "min_height": null,
            "min_width": null,
            "object_fit": null,
            "object_position": null,
            "order": null,
            "overflow": null,
            "overflow_x": null,
            "overflow_y": null,
            "padding": null,
            "right": null,
            "top": null,
            "visibility": null,
            "width": null
          }
        },
        "f35f76bca7814ba5a3b20d53631aed0d": {
          "model_module": "@jupyter-widgets/controls",
          "model_name": "DescriptionStyleModel",
          "model_module_version": "1.5.0",
          "state": {
            "_model_module": "@jupyter-widgets/controls",
            "_model_module_version": "1.5.0",
            "_model_name": "DescriptionStyleModel",
            "_view_count": null,
            "_view_module": "@jupyter-widgets/base",
            "_view_module_version": "1.2.0",
            "_view_name": "StyleView",
            "description_width": ""
          }
        },
        "c7d3b45360f9431ea396125ec96a3ab1": {
          "model_module": "@jupyter-widgets/base",
          "model_name": "LayoutModel",
          "model_module_version": "1.2.0",
          "state": {
            "_model_module": "@jupyter-widgets/base",
            "_model_module_version": "1.2.0",
            "_model_name": "LayoutModel",
            "_view_count": null,
            "_view_module": "@jupyter-widgets/base",
            "_view_module_version": "1.2.0",
            "_view_name": "LayoutView",
            "align_content": null,
            "align_items": null,
            "align_self": null,
            "border": null,
            "bottom": null,
            "display": null,
            "flex": null,
            "flex_flow": null,
            "grid_area": null,
            "grid_auto_columns": null,
            "grid_auto_flow": null,
            "grid_auto_rows": null,
            "grid_column": null,
            "grid_gap": null,
            "grid_row": null,
            "grid_template_areas": null,
            "grid_template_columns": null,
            "grid_template_rows": null,
            "height": "28px",
            "justify_content": null,
            "justify_items": null,
            "left": null,
            "margin": null,
            "max_height": null,
            "max_width": null,
            "min_height": null,
            "min_width": null,
            "object_fit": null,
            "object_position": null,
            "order": null,
            "overflow": null,
            "overflow_x": null,
            "overflow_y": null,
            "padding": "0px 0px 0px 4px",
            "right": null,
            "top": null,
            "visibility": null,
            "width": "28px"
          }
        },
        "a70f435de8c24c67960313fa0c8eeb62": {
          "model_module": "@jupyter-widgets/controls",
          "model_name": "DescriptionStyleModel",
          "model_module_version": "1.5.0",
          "state": {
            "_model_module": "@jupyter-widgets/controls",
            "_model_module_version": "1.5.0",
            "_model_name": "DescriptionStyleModel",
            "_view_count": null,
            "_view_module": "@jupyter-widgets/base",
            "_view_module_version": "1.2.0",
            "_view_name": "StyleView",
            "description_width": ""
          }
        },
        "d31c09e9212f4e17b74cfc045215be03": {
          "model_module": "@jupyter-widgets/base",
          "model_name": "LayoutModel",
          "model_module_version": "1.2.0",
          "state": {
            "_model_module": "@jupyter-widgets/base",
            "_model_module_version": "1.2.0",
            "_model_name": "LayoutModel",
            "_view_count": null,
            "_view_module": "@jupyter-widgets/base",
            "_view_module_version": "1.2.0",
            "_view_name": "LayoutView",
            "align_content": null,
            "align_items": null,
            "align_self": null,
            "border": null,
            "bottom": null,
            "display": null,
            "flex": null,
            "flex_flow": null,
            "grid_area": null,
            "grid_auto_columns": null,
            "grid_auto_flow": null,
            "grid_auto_rows": null,
            "grid_column": null,
            "grid_gap": null,
            "grid_row": null,
            "grid_template_areas": null,
            "grid_template_columns": null,
            "grid_template_rows": null,
            "height": "28px",
            "justify_content": null,
            "justify_items": null,
            "left": null,
            "margin": null,
            "max_height": null,
            "max_width": null,
            "min_height": null,
            "min_width": null,
            "object_fit": null,
            "object_position": null,
            "order": null,
            "overflow": null,
            "overflow_x": null,
            "overflow_y": null,
            "padding": "0px 0px 0px 4px",
            "right": null,
            "top": null,
            "visibility": null,
            "width": "28px"
          }
        },
        "fd29a6b47d374ee5b338876e4b793a4d": {
          "model_module": "@jupyter-widgets/controls",
          "model_name": "DescriptionStyleModel",
          "model_module_version": "1.5.0",
          "state": {
            "_model_module": "@jupyter-widgets/controls",
            "_model_module_version": "1.5.0",
            "_model_name": "DescriptionStyleModel",
            "_view_count": null,
            "_view_module": "@jupyter-widgets/base",
            "_view_module_version": "1.2.0",
            "_view_name": "StyleView",
            "description_width": ""
          }
        },
        "46e034b1441f4f5b880598ef486c5b0d": {
          "model_module": "jupyter-leaflet",
          "model_name": "LeafletMapModel",
          "model_module_version": "^0.16.0",
          "state": {
            "_dom_classes": [],
            "_model_module": "jupyter-leaflet",
            "_model_module_version": "^0.16.0",
            "_model_name": "LeafletMapModel",
            "_view_count": null,
            "_view_module": "jupyter-leaflet",
            "_view_module_version": "^0.16.0",
            "_view_name": "LeafletMapView",
            "bottom": 14062499,
            "bounce_at_zoom_limits": true,
            "box_zoom": true,
            "center": [
              27.95056,
              -82.45656
            ],
            "close_popup_on_click": true,
            "controls": [
              "IPY_MODEL_49d23282301b4da886b1490dab9c0bef",
              "IPY_MODEL_2a050561ef5b4bd99a0e5e1dad83b27f",
              "IPY_MODEL_8eae1923ba23414fb9e123ce11a42f89",
              "IPY_MODEL_3f7e3e8914734937b432b46b523e5124",
              "IPY_MODEL_6e72711d6437488e9ff7eb5d42057a7d",
              "IPY_MODEL_21263f95896446ebafccd09b66b694e6",
              "IPY_MODEL_a195549e5e7b4cb3af061399b4507b9e",
              "IPY_MODEL_1eb37df0a92d4074a242b69145ba5f41",
              "IPY_MODEL_138e0957343d4428b77ed1c035ad27ea",
              "IPY_MODEL_25ce45278c0b40769ee475798b833488"
            ],
            "crs": {
              "name": "EPSG3857",
              "custom": false
            },
            "default_style": "IPY_MODEL_0c326ec231634faa8259c4c1e8e6245e",
            "double_click_zoom": true,
            "dragging": true,
            "dragging_style": "IPY_MODEL_03b925990dc74cf682b2a3a59a2c4509",
            "east": -82.45119094848634,
            "fullscreen": false,
            "inertia": true,
            "inertia_deceleration": 3000,
            "inertia_max_speed": 1500,
            "interpolation": "bilinear",
            "keyboard": true,
            "keyboard_pan_offset": 80,
            "keyboard_zoom_offset": 1,
            "layers": [
              "IPY_MODEL_8b3b6e8646a243a68baf99f865644c8b",
              "IPY_MODEL_b11c1365d8584a2da1dcc19cebd592ff",
              "IPY_MODEL_e138b693ab5443b4997b483e4dd53beb",
              "IPY_MODEL_51f2a5e3c6aa4c478dc41afdd58a9612",
              "IPY_MODEL_1136de21dfe34f66a689cb3b0fef0fbc"
            ],
            "layout": "IPY_MODEL_8ced384a14234da18d44619bca9dbc4d",
            "left": 9091208,
            "max_zoom": 24,
            "min_zoom": 1,
            "modisdate": "2022-06-08",
            "north": 27.954349523456365,
            "options": [
              "bounce_at_zoom_limits",
              "box_zoom",
              "center",
              "close_popup_on_click",
              "double_click_zoom",
              "dragging",
              "fullscreen",
              "inertia",
              "inertia_deceleration",
              "inertia_max_speed",
              "interpolation",
              "keyboard",
              "keyboard_pan_offset",
              "keyboard_zoom_offset",
              "max_zoom",
              "min_zoom",
              "prefer_canvas",
              "scroll_wheel_zoom",
              "tap",
              "tap_tolerance",
              "touch_zoom",
              "world_copy_jump",
              "zoom",
              "zoom_animation_threshold",
              "zoom_delta",
              "zoom_snap",
              "zoom_start"
            ],
            "prefer_canvas": false,
            "right": 9092208,
            "scroll_wheel_zoom": true,
            "south": 27.94676764918493,
            "style": "IPY_MODEL_84711b3e6cf64a3abc57f938a07ef584",
            "tap": true,
            "tap_tolerance": 15,
            "top": 14061699,
            "touch_zoom": true,
            "west": -82.46191978454591,
            "window_url": "https://plcv8jflhf-496ff2e9c6d22116-0-colab.googleusercontent.com/outputframe.html?vrz=colab-20220607-060047-RC00_453385713",
            "world_copy_jump": false,
            "zoom": 17,
            "zoom_animation_threshold": 4,
            "zoom_delta": 1,
            "zoom_snap": 1,
            "zoom_start": 12
          }
        },
        "49d23282301b4da886b1490dab9c0bef": {
          "model_module": "jupyter-leaflet",
          "model_name": "LeafletZoomControlModel",
          "model_module_version": "^0.16.0",
          "state": {
            "_model_module": "jupyter-leaflet",
            "_model_module_version": "^0.16.0",
            "_model_name": "LeafletZoomControlModel",
            "_view_count": null,
            "_view_module": "jupyter-leaflet",
            "_view_module_version": "^0.16.0",
            "_view_name": "LeafletZoomControlView",
            "options": [
              "position",
              "zoom_in_text",
              "zoom_in_title",
              "zoom_out_text",
              "zoom_out_title"
            ],
            "position": "topleft",
            "zoom_in_text": "+",
            "zoom_in_title": "Zoom in",
            "zoom_out_text": "-",
            "zoom_out_title": "Zoom out"
          }
        },
        "2a050561ef5b4bd99a0e5e1dad83b27f": {
          "model_module": "jupyter-leaflet",
          "model_name": "LeafletAttributionControlModel",
          "model_module_version": "^0.16.0",
          "state": {
            "_model_module": "jupyter-leaflet",
            "_model_module_version": "^0.16.0",
            "_model_name": "LeafletAttributionControlModel",
            "_view_count": null,
            "_view_module": "jupyter-leaflet",
            "_view_module_version": "^0.16.0",
            "_view_name": "LeafletAttributionControlView",
            "options": [
              "position",
              "prefix"
            ],
            "position": "bottomright",
            "prefix": "ipyleaflet"
          }
        },
        "8eae1923ba23414fb9e123ce11a42f89": {
          "model_module": "jupyter-leaflet",
          "model_name": "LeafletFullScreenControlModel",
          "model_module_version": "^0.16.0",
          "state": {
            "_model_module": "jupyter-leaflet",
            "_model_module_version": "^0.16.0",
            "_model_name": "LeafletFullScreenControlModel",
            "_view_count": null,
            "_view_module": "jupyter-leaflet",
            "_view_module_version": "^0.16.0",
            "_view_name": "LeafletFullScreenControlView",
            "options": [
              "position"
            ],
            "position": "topleft"
          }
        },
        "3f7e3e8914734937b432b46b523e5124": {
          "model_module": "jupyter-leaflet",
          "model_name": "LeafletDrawControlModel",
          "model_module_version": "^0.16.0",
          "state": {
            "_model_module": "jupyter-leaflet",
            "_model_module_version": "^0.16.0",
            "_model_name": "LeafletDrawControlModel",
            "_view_count": null,
            "_view_module": "jupyter-leaflet",
            "_view_module_version": "^0.16.0",
            "_view_name": "LeafletDrawControlView",
            "circle": {
              "shapeOptions": {
                "color": "#3388ff"
              }
            },
            "circlemarker": {},
            "data": [],
            "edit": true,
            "marker": {
              "shapeOptions": {
                "color": "#3388ff"
              }
            },
            "options": [
              "position"
            ],
            "polygon": {
              "shapeOptions": {}
            },
            "polyline": {
              "shapeOptions": {}
            },
            "position": "topleft",
            "rectangle": {
              "shapeOptions": {
                "color": "#3388ff"
              }
            },
            "remove": true
          }
        },
        "6e72711d6437488e9ff7eb5d42057a7d": {
          "model_module": "jupyter-leaflet",
          "model_name": "LeafletWidgetControlModel",
          "model_module_version": "^0.16.0",
          "state": {
            "_model_module": "jupyter-leaflet",
            "_model_module_version": "^0.16.0",
            "_model_name": "LeafletWidgetControlModel",
            "_view_count": null,
            "_view_module": "jupyter-leaflet",
            "_view_module_version": "^0.16.0",
            "_view_name": "LeafletWidgetControlView",
            "max_height": null,
            "max_width": null,
            "min_height": null,
            "min_width": null,
            "options": [
              "position",
              "transparent_bg"
            ],
            "position": "bottomright",
            "transparent_bg": false,
            "widget": "IPY_MODEL_2b29f1a95e084ab792985fd1ea516501"
          }
        },
        "21263f95896446ebafccd09b66b694e6": {
          "model_module": "jupyter-leaflet",
          "model_name": "LeafletMeasureControlModel",
          "model_module_version": "^0.16.0",
          "state": {
            "_custom_units": {},
            "_model_module": "jupyter-leaflet",
            "_model_module_version": "^0.16.0",
            "_model_name": "LeafletMeasureControlModel",
            "_view_count": null,
            "_view_module": "jupyter-leaflet",
            "_view_module_version": "^0.16.0",
            "_view_name": "LeafletMeasureControlView",
            "active_color": "#ABE67E",
            "capture_z_index": 10000,
            "completed_color": "#C8F2BE",
            "options": [
              "active_color",
              "capture_z_index",
              "completed_color",
              "popup_options",
              "position",
              "primary_area_unit",
              "primary_length_unit",
              "secondary_area_unit",
              "secondary_length_unit"
            ],
            "popup_options": {
              "className": "leaflet-measure-resultpopup",
              "autoPanPadding": [
                10,
                10
              ]
            },
            "position": "topleft",
            "primary_area_unit": "acres",
            "primary_length_unit": "feet",
            "secondary_area_unit": null,
            "secondary_length_unit": null
          }
        },
        "a195549e5e7b4cb3af061399b4507b9e": {
          "model_module": "jupyter-leaflet",
          "model_name": "LeafletScaleControlModel",
          "model_module_version": "^0.16.0",
          "state": {
            "_model_module": "jupyter-leaflet",
            "_model_module_version": "^0.16.0",
            "_model_name": "LeafletScaleControlModel",
            "_view_count": null,
            "_view_module": "jupyter-leaflet",
            "_view_module_version": "^0.16.0",
            "_view_name": "LeafletScaleControlView",
            "imperial": true,
            "max_width": 100,
            "metric": true,
            "options": [
              "imperial",
              "max_width",
              "metric",
              "position",
              "update_when_idle"
            ],
            "position": "bottomleft",
            "update_when_idle": false
          }
        },
        "1eb37df0a92d4074a242b69145ba5f41": {
          "model_module": "jupyter-leaflet",
          "model_name": "LeafletWidgetControlModel",
          "model_module_version": "^0.16.0",
          "state": {
            "_model_module": "jupyter-leaflet",
            "_model_module_version": "^0.16.0",
            "_model_name": "LeafletWidgetControlModel",
            "_view_count": null,
            "_view_module": "jupyter-leaflet",
            "_view_module_version": "^0.16.0",
            "_view_name": "LeafletWidgetControlView",
            "max_height": null,
            "max_width": null,
            "min_height": null,
            "min_width": null,
            "options": [
              "position",
              "transparent_bg"
            ],
            "position": "topright",
            "transparent_bg": false,
            "widget": "IPY_MODEL_3cf134a5cf7249b89ecbfe92ee1cdfb5"
          }
        },
        "138e0957343d4428b77ed1c035ad27ea": {
          "model_module": "jupyter-leaflet",
          "model_name": "LeafletWidgetControlModel",
          "model_module_version": "^0.16.0",
          "state": {
            "_model_module": "jupyter-leaflet",
            "_model_module_version": "^0.16.0",
            "_model_name": "LeafletWidgetControlModel",
            "_view_count": null,
            "_view_module": "jupyter-leaflet",
            "_view_module_version": "^0.16.0",
            "_view_name": "LeafletWidgetControlView",
            "max_height": null,
            "max_width": null,
            "min_height": null,
            "min_width": null,
            "options": [
              "position",
              "transparent_bg"
            ],
            "position": "bottomright",
            "transparent_bg": false,
            "widget": "IPY_MODEL_5b7da5b6ef3b4a468be9ad4c7ca13e2f"
          }
        },
        "25ce45278c0b40769ee475798b833488": {
          "model_module": "jupyter-leaflet",
          "model_name": "LeafletWidgetControlModel",
          "model_module_version": "^0.16.0",
          "state": {
            "_model_module": "jupyter-leaflet",
            "_model_module_version": "^0.16.0",
            "_model_name": "LeafletWidgetControlModel",
            "_view_count": null,
            "_view_module": "jupyter-leaflet",
            "_view_module_version": "^0.16.0",
            "_view_name": "LeafletWidgetControlView",
            "max_height": null,
            "max_width": null,
            "min_height": null,
            "min_width": null,
            "options": [
              "position",
              "transparent_bg"
            ],
            "position": "bottomright",
            "transparent_bg": false,
            "widget": "IPY_MODEL_1f46af3470eb4b2087d0767467206d60"
          }
        },
        "0c326ec231634faa8259c4c1e8e6245e": {
          "model_module": "jupyter-leaflet",
          "model_name": "LeafletMapStyleModel",
          "model_module_version": "^0.16.0",
          "state": {
            "_model_module": "jupyter-leaflet",
            "_model_module_version": "^0.16.0",
            "_model_name": "LeafletMapStyleModel",
            "_view_count": null,
            "_view_module": "@jupyter-widgets/base",
            "_view_module_version": "1.2.0",
            "_view_name": "StyleView",
            "cursor": "default"
          }
        },
        "03b925990dc74cf682b2a3a59a2c4509": {
          "model_module": "jupyter-leaflet",
          "model_name": "LeafletMapStyleModel",
          "model_module_version": "^0.16.0",
          "state": {
            "_model_module": "jupyter-leaflet",
            "_model_module_version": "^0.16.0",
            "_model_name": "LeafletMapStyleModel",
            "_view_count": null,
            "_view_module": "@jupyter-widgets/base",
            "_view_module_version": "1.2.0",
            "_view_name": "StyleView",
            "cursor": "move"
          }
        },
        "8b3b6e8646a243a68baf99f865644c8b": {
          "model_module": "jupyter-leaflet",
          "model_name": "LeafletTileLayerModel",
          "model_module_version": "^0.16.0",
          "state": {
            "_model_module": "jupyter-leaflet",
            "_model_module_version": "^0.16.0",
            "_model_name": "LeafletTileLayerModel",
            "_view_count": null,
            "_view_module": "jupyter-leaflet",
            "_view_module_version": "^0.16.0",
            "_view_name": "LeafletTileLayerView",
            "attribution": "&copy; <a href=\"https://www.openstreetmap.org/copyright\">OpenStreetMap</a> contributors",
            "base": true,
            "bottom": true,
            "bounds": null,
            "detect_retina": false,
            "loading": false,
            "max_native_zoom": 18,
            "max_zoom": 19,
            "min_native_zoom": 0,
            "min_zoom": 1,
            "name": "OpenStreetMap",
            "no_wrap": false,
            "opacity": 1,
            "options": [
              "attribution",
              "bounds",
              "detect_retina",
              "max_native_zoom",
              "max_zoom",
              "min_native_zoom",
              "min_zoom",
              "no_wrap",
              "tile_size",
              "tms"
            ],
            "popup": null,
            "popup_max_height": null,
            "popup_max_width": 300,
            "popup_min_width": 50,
            "show_loading": false,
            "tile_size": 256,
            "tms": false,
            "url": "https://a.tile.openstreetmap.org/{z}/{x}/{y}.png",
            "visible": true
          }
        },
        "b11c1365d8584a2da1dcc19cebd592ff": {
          "model_module": "jupyter-leaflet",
          "model_name": "LeafletTileLayerModel",
          "model_module_version": "^0.16.0",
          "state": {
            "_model_module": "jupyter-leaflet",
            "_model_module_version": "^0.16.0",
            "_model_name": "LeafletTileLayerModel",
            "_view_count": null,
            "_view_module": "jupyter-leaflet",
            "_view_module_version": "^0.16.0",
            "_view_name": "LeafletTileLayerView",
            "attribution": "CartoDB",
            "base": false,
            "bottom": true,
            "bounds": null,
            "detect_retina": false,
            "loading": false,
            "max_native_zoom": 18,
            "max_zoom": 18,
            "min_native_zoom": 0,
            "min_zoom": 0,
            "name": "CartoDB",
            "no_wrap": false,
            "opacity": 1,
            "options": [
              "attribution",
              "bounds",
              "detect_retina",
              "max_native_zoom",
              "max_zoom",
              "min_native_zoom",
              "min_zoom",
              "no_wrap",
              "tile_size",
              "tms"
            ],
            "popup": null,
            "popup_max_height": null,
            "popup_max_width": 300,
            "popup_min_width": 50,
            "show_loading": false,
            "tile_size": 256,
            "tms": false,
            "url": "https://cartodb-basemaps-b.global.ssl.fastly.net/light_nolabels/{z}/{x}/{y}.png",
            "visible": true
          }
        },
        "e138b693ab5443b4997b483e4dd53beb": {
          "model_module": "jupyter-leaflet",
          "model_name": "LeafletMarkerClusterModel",
          "model_module_version": "^0.16.0",
          "state": {
            "_model_module": "jupyter-leaflet",
            "_model_module_version": "^0.16.0",
            "_model_name": "LeafletMarkerClusterModel",
            "_view_count": null,
            "_view_module": "jupyter-leaflet",
            "_view_module_version": "^0.16.0",
            "_view_name": "LeafletMarkerClusterView",
            "base": false,
            "bottom": false,
            "disable_clustering_at_zoom": 18,
            "markers": [
              "IPY_MODEL_828e5bea01144054b96fb36bb7c9627b",
              "IPY_MODEL_2fd6449a304542a2b422718474990f44"
            ],
            "max_cluster_radius": 80,
            "name": "od",
            "options": [
              "disable_clustering_at_zoom",
              "max_cluster_radius"
            ],
            "popup": null,
            "popup_max_height": null,
            "popup_max_width": 300,
            "popup_min_width": 50
          }
        },
        "51f2a5e3c6aa4c478dc41afdd58a9612": {
          "model_module": "jupyter-leaflet",
          "model_name": "LeafletGeoJSONModel",
          "model_module_version": "^0.16.0",
          "state": {
            "_model_module": "jupyter-leaflet",
            "_model_module_version": "^0.16.0",
            "_model_name": "LeafletGeoJSONModel",
            "_view_count": null,
            "_view_module": "jupyter-leaflet",
            "_view_module_version": "^0.16.0",
            "_view_name": "LeafletGeoJSONView",
            "base": false,
            "bottom": false,
            "data": {
              "type": "FeatureCollection",
              "features": [
                {
                  "id": "(97775156, 97775158, 0)",
                  "type": "Feature",
                  "properties": {
                    "highway": "residential",
                    "lanes": "2",
                    "length": 89.09299999999999,
                    "maxspeed": null,
                    "name": "North Marion Street",
                    "oneway": false,
                    "osmid": 10970142,
                    "ref": null,
                    "style": {
                      "color": "black",
                      "fillColor": "black"
                    }
                  },
                  "geometry": {
                    "type": "LineString",
                    "coordinates": [
                      [
                        -82.4562493,
                        27.9482623
                      ],
                      [
                        -82.4562919,
                        27.9483641
                      ],
                      [
                        -82.4565412,
                        27.9489147
                      ],
                      [
                        -82.4565827,
                        27.9490074
                      ]
                    ]
                  },
                  "bbox": [
                    -82.4565827,
                    27.9482623,
                    -82.4562493,
                    27.9490074
                  ]
                },
                {
                  "id": "(97775156, 97871013, 0)",
                  "type": "Feature",
                  "properties": {
                    "highway": "primary",
                    "lanes": "4",
                    "length": 89.342,
                    "maxspeed": "30 mph",
                    "name": "East Kennedy Boulevard",
                    "oneway": true,
                    "osmid": 115040529,
                    "ref": "US 41 Business;FL 60",
                    "style": {
                      "color": "black",
                      "fillColor": "black"
                    }
                  },
                  "geometry": {
                    "type": "LineString",
                    "coordinates": [
                      [
                        -82.4562493,
                        27.9482623
                      ],
                      [
                        -82.4563382,
                        27.9482317
                      ],
                      [
                        -82.4569829,
                        27.9480107
                      ],
                      [
                        -82.4570982,
                        27.9479739
                      ]
                    ]
                  },
                  "bbox": [
                    -82.4570982,
                    27.9479739,
                    -82.4562493,
                    27.9482623
                  ]
                },
                {
                  "id": "(97775158, 97775163, 0)",
                  "type": "Feature",
                  "properties": {
                    "highway": "residential",
                    "lanes": "2",
                    "length": 89.335,
                    "maxspeed": null,
                    "name": "North Marion Street",
                    "oneway": false,
                    "osmid": 10970142,
                    "ref": null,
                    "style": {
                      "color": "black",
                      "fillColor": "black"
                    }
                  },
                  "geometry": {
                    "type": "LineString",
                    "coordinates": [
                      [
                        -82.4565827,
                        27.9490074
                      ],
                      [
                        -82.4566299,
                        27.9491172
                      ],
                      [
                        -82.4568695,
                        27.9496785
                      ],
                      [
                        -82.456904,
                        27.949759
                      ]
                    ]
                  },
                  "bbox": [
                    -82.456904,
                    27.9490074,
                    -82.4565827,
                    27.949759
                  ]
                },
                {
                  "id": "(97775158, 97775156, 0)",
                  "type": "Feature",
                  "properties": {
                    "highway": "residential",
                    "lanes": "2",
                    "length": 89.093,
                    "maxspeed": null,
                    "name": "North Marion Street",
                    "oneway": false,
                    "osmid": 10970142,
                    "ref": null,
                    "style": {
                      "color": "black",
                      "fillColor": "black"
                    }
                  },
                  "geometry": {
                    "type": "LineString",
                    "coordinates": [
                      [
                        -82.4565827,
                        27.9490074
                      ],
                      [
                        -82.4565412,
                        27.9489147
                      ],
                      [
                        -82.4562919,
                        27.9483641
                      ],
                      [
                        -82.4562493,
                        27.9482623
                      ]
                    ]
                  },
                  "bbox": [
                    -82.4565827,
                    27.9482623,
                    -82.4562493,
                    27.9490074
                  ]
                },
                {
                  "id": "(97775158, 97815626, 0)",
                  "type": "Feature",
                  "properties": {
                    "highway": "tertiary",
                    "lanes": "2",
                    "length": 89.13300000000001,
                    "maxspeed": null,
                    "name": "East Madison Street",
                    "oneway": false,
                    "osmid": 932449456,
                    "ref": null,
                    "style": {
                      "color": "black",
                      "fillColor": "black"
                    }
                  },
                  "geometry": {
                    "type": "LineString",
                    "coordinates": [
                      [
                        -82.4565827,
                        27.9490074
                      ],
                      [
                        -82.456479,
                        27.9490436
                      ],
                      [
                        -82.4559835,
                        27.949214
                      ],
                      [
                        -82.4558403,
                        27.9492633
                      ],
                      [
                        -82.4557374,
                        27.9492989
                      ]
                    ]
                  },
                  "bbox": [
                    -82.4565827,
                    27.9490074,
                    -82.4557374,
                    27.9492989
                  ]
                },
                {
                  "id": "(97775158, 474972598, 0)",
                  "type": "Feature",
                  "properties": {
                    "highway": "tertiary",
                    "lanes": "2",
                    "length": 88.689,
                    "maxspeed": null,
                    "name": "East Madison Street",
                    "oneway": false,
                    "osmid": 932449456,
                    "ref": null,
                    "style": {
                      "color": "black",
                      "fillColor": "black"
                    }
                  },
                  "geometry": {
                    "type": "LineString",
                    "coordinates": [
                      [
                        -82.4565827,
                        27.9490074
                      ],
                      [
                        -82.4566673,
                        27.9489783
                      ],
                      [
                        -82.456919,
                        27.948892
                      ],
                      [
                        -82.4573078,
                        27.9487587
                      ],
                      [
                        -82.4574238,
                        27.9487174
                      ]
                    ]
                  },
                  "bbox": [
                    -82.4574238,
                    27.9487174,
                    -82.4565827,
                    27.9490074
                  ]
                },
                {
                  "id": "(97775163, 97775165, 0)",
                  "type": "Feature",
                  "properties": {
                    "highway": "residential",
                    "lanes": "2",
                    "length": 89.57900000000001,
                    "maxspeed": null,
                    "name": "North Marion Street",
                    "oneway": false,
                    "osmid": 10970142,
                    "ref": null,
                    "style": {
                      "color": "black",
                      "fillColor": "black"
                    }
                  },
                  "geometry": {
                    "type": "LineString",
                    "coordinates": [
                      [
                        -82.456904,
                        27.949759
                      ],
                      [
                        -82.4569532,
                        27.9498704
                      ],
                      [
                        -82.4571943,
                        27.9504162
                      ],
                      [
                        -82.4572355,
                        27.9505095
                      ]
                    ]
                  },
                  "bbox": [
                    -82.4572355,
                    27.949759,
                    -82.456904,
                    27.9505095
                  ]
                },
                {
                  "id": "(97775163, 97775158, 0)",
                  "type": "Feature",
                  "properties": {
                    "highway": "residential",
                    "lanes": "2",
                    "length": 89.335,
                    "maxspeed": null,
                    "name": "North Marion Street",
                    "oneway": false,
                    "osmid": 10970142,
                    "ref": null,
                    "style": {
                      "color": "black",
                      "fillColor": "black"
                    }
                  },
                  "geometry": {
                    "type": "LineString",
                    "coordinates": [
                      [
                        -82.456904,
                        27.949759
                      ],
                      [
                        -82.4568695,
                        27.9496785
                      ],
                      [
                        -82.4566299,
                        27.9491172
                      ],
                      [
                        -82.4565827,
                        27.9490074
                      ]
                    ]
                  },
                  "bbox": [
                    -82.456904,
                    27.9490074,
                    -82.4565827,
                    27.949759
                  ]
                },
                {
                  "id": "(97775163, 97876151, 0)",
                  "type": "Feature",
                  "properties": {
                    "highway": "tertiary",
                    "lanes": "4",
                    "length": 88.283,
                    "maxspeed": "30 mph",
                    "name": "East Twiggs Street",
                    "oneway": false,
                    "osmid": 87174879,
                    "ref": null,
                    "style": {
                      "color": "black",
                      "fillColor": "black"
                    }
                  },
                  "geometry": {
                    "type": "LineString",
                    "coordinates": [
                      [
                        -82.456904,
                        27.949759
                      ],
                      [
                        -82.4568055,
                        27.9497928
                      ],
                      [
                        -82.45632,
                        27.949959
                      ],
                      [
                        -82.4561667,
                        27.9500109
                      ],
                      [
                        -82.456066,
                        27.950046
                      ]
                    ]
                  },
                  "bbox": [
                    -82.456904,
                    27.949759,
                    -82.456066,
                    27.950046
                  ]
                },
                {
                  "id": "(97775163, 97928974, 0)",
                  "type": "Feature",
                  "properties": {
                    "highway": "tertiary",
                    "lanes": "4",
                    "length": 88.487,
                    "maxspeed": "30 mph",
                    "name": "East Twiggs Street",
                    "oneway": false,
                    "osmid": 87174879,
                    "ref": null,
                    "style": {
                      "color": "black",
                      "fillColor": "black"
                    }
                  },
                  "geometry": {
                    "type": "LineString",
                    "coordinates": [
                      [
                        -82.456904,
                        27.949759
                      ],
                      [
                        -82.4569898,
                        27.9497307
                      ],
                      [
                        -82.457635,
                        27.9495045
                      ],
                      [
                        -82.457742,
                        27.949467
                      ]
                    ]
                  },
                  "bbox": [
                    -82.457742,
                    27.949467,
                    -82.456904,
                    27.949759
                  ]
                },
                {
                  "id": "(97775165, 1870060165, 0)",
                  "type": "Feature",
                  "properties": {
                    "highway": "residential",
                    "lanes": "2",
                    "length": 81.691,
                    "maxspeed": null,
                    "name": "North Marion Street",
                    "oneway": false,
                    "osmid": 10970142,
                    "ref": null,
                    "style": {
                      "color": "black",
                      "fillColor": "black"
                    }
                  },
                  "geometry": {
                    "type": "LineString",
                    "coordinates": [
                      [
                        -82.4572355,
                        27.9505095
                      ],
                      [
                        -82.457274,
                        27.950597
                      ],
                      [
                        -82.4575148,
                        27.9511461
                      ],
                      [
                        -82.4575361,
                        27.9511945
                      ]
                    ]
                  },
                  "bbox": [
                    -82.4575361,
                    27.9505095,
                    -82.4572355,
                    27.9511945
                  ]
                },
                {
                  "id": "(97775165, 97775163, 0)",
                  "type": "Feature",
                  "properties": {
                    "highway": "residential",
                    "lanes": "2",
                    "length": 89.57900000000001,
                    "maxspeed": null,
                    "name": "North Marion Street",
                    "oneway": false,
                    "osmid": 10970142,
                    "ref": null,
                    "style": {
                      "color": "black",
                      "fillColor": "black"
                    }
                  },
                  "geometry": {
                    "type": "LineString",
                    "coordinates": [
                      [
                        -82.4572355,
                        27.9505095
                      ],
                      [
                        -82.4571943,
                        27.9504162
                      ],
                      [
                        -82.4569532,
                        27.9498704
                      ],
                      [
                        -82.456904,
                        27.949759
                      ]
                    ]
                  },
                  "bbox": [
                    -82.4572355,
                    27.949759,
                    -82.456904,
                    27.9505095
                  ]
                },
                {
                  "id": "(97775165, 97876153, 0)",
                  "type": "Feature",
                  "properties": {
                    "highway": "tertiary",
                    "lanes": "2",
                    "length": 88.74799999999999,
                    "maxspeed": null,
                    "name": "East Zack Street",
                    "oneway": false,
                    "osmid": 11000973,
                    "ref": null,
                    "style": {
                      "color": "black",
                      "fillColor": "black"
                    }
                  },
                  "geometry": {
                    "type": "LineString",
                    "coordinates": [
                      [
                        -82.4572355,
                        27.9505095
                      ],
                      [
                        -82.4571368,
                        27.9505441
                      ],
                      [
                        -82.456495,
                        27.9507634
                      ],
                      [
                        -82.4563932,
                        27.9507983
                      ]
                    ]
                  },
                  "bbox": [
                    -82.4572355,
                    27.9505095,
                    -82.4563932,
                    27.9507983
                  ]
                },
                {
                  "id": "(97775165, 97942623, 0)",
                  "type": "Feature",
                  "properties": {
                    "highway": "tertiary",
                    "lanes": "2",
                    "length": 88.522,
                    "maxspeed": null,
                    "name": "East Zack Street",
                    "oneway": false,
                    "osmid": [
                      909318437,
                      11000973
                    ],
                    "ref": null,
                    "style": {
                      "color": "black",
                      "fillColor": "black"
                    }
                  },
                  "geometry": {
                    "type": "LineString",
                    "coordinates": [
                      [
                        -82.4572355,
                        27.9505095
                      ],
                      [
                        -82.4573245,
                        27.9504773
                      ],
                      [
                        -82.4576558,
                        27.9503609
                      ],
                      [
                        -82.4579718,
                        27.9502555
                      ],
                      [
                        -82.4580774,
                        27.9502261
                      ]
                    ]
                  },
                  "bbox": [
                    -82.4580774,
                    27.9502261,
                    -82.4572355,
                    27.9505095
                  ]
                },
                {
                  "id": "(97815626, 97871014, 0)",
                  "type": "Feature",
                  "properties": {
                    "highway": "tertiary",
                    "lanes": "4",
                    "length": 87.949,
                    "maxspeed": null,
                    "name": "North Morgan Street",
                    "oneway": false,
                    "osmid": 168522075,
                    "ref": null,
                    "style": {
                      "color": "black",
                      "fillColor": "black"
                    }
                  },
                  "geometry": {
                    "type": "LineString",
                    "coordinates": [
                      [
                        -82.4557374,
                        27.9492989
                      ],
                      [
                        -82.4556953,
                        27.9492056
                      ],
                      [
                        -82.4556622,
                        27.9491296
                      ],
                      [
                        -82.4556038,
                        27.9489992
                      ],
                      [
                        -82.4554545,
                        27.9486609
                      ],
                      [
                        -82.4554104,
                        27.9485626
                      ]
                    ]
                  },
                  "bbox": [
                    -82.4557374,
                    27.9485626,
                    -82.4554104,
                    27.9492989
                  ]
                },
                {
                  "id": "(97815626, 97876151, 0)",
                  "type": "Feature",
                  "properties": {
                    "highway": "tertiary",
                    "lanes": "4",
                    "length": 89.125,
                    "maxspeed": null,
                    "name": "North Morgan Street",
                    "oneway": false,
                    "osmid": 168522075,
                    "ref": null,
                    "style": {
                      "color": "black",
                      "fillColor": "black"
                    }
                  },
                  "geometry": {
                    "type": "LineString",
                    "coordinates": [
                      [
                        -82.4557374,
                        27.9492989
                      ],
                      [
                        -82.4557819,
                        27.9494039
                      ],
                      [
                        -82.4560273,
                        27.9499588
                      ],
                      [
                        -82.456066,
                        27.950046
                      ]
                    ]
                  },
                  "bbox": [
                    -82.456066,
                    27.9492989,
                    -82.4557374,
                    27.950046
                  ]
                },
                {
                  "id": "(97815626, 97815628, 0)",
                  "type": "Feature",
                  "properties": {
                    "highway": "tertiary",
                    "lanes": "2",
                    "length": 88.71900000000001,
                    "maxspeed": null,
                    "name": "East Madison Street",
                    "oneway": false,
                    "osmid": 932449456,
                    "ref": null,
                    "style": {
                      "color": "black",
                      "fillColor": "black"
                    }
                  },
                  "geometry": {
                    "type": "LineString",
                    "coordinates": [
                      [
                        -82.4557374,
                        27.9492989
                      ],
                      [
                        -82.4556274,
                        27.9493368
                      ],
                      [
                        -82.4551298,
                        27.9495084
                      ],
                      [
                        -82.4550239,
                        27.9495445
                      ],
                      [
                        -82.454896,
                        27.949589
                      ]
                    ]
                  },
                  "bbox": [
                    -82.4557374,
                    27.9492989,
                    -82.454896,
                    27.949589
                  ]
                },
                {
                  "id": "(97815626, 97775158, 0)",
                  "type": "Feature",
                  "properties": {
                    "highway": "tertiary",
                    "lanes": "2",
                    "length": 89.13300000000001,
                    "maxspeed": null,
                    "name": "East Madison Street",
                    "oneway": false,
                    "osmid": 932449456,
                    "ref": null,
                    "style": {
                      "color": "black",
                      "fillColor": "black"
                    }
                  },
                  "geometry": {
                    "type": "LineString",
                    "coordinates": [
                      [
                        -82.4557374,
                        27.9492989
                      ],
                      [
                        -82.4558403,
                        27.9492633
                      ],
                      [
                        -82.4559835,
                        27.949214
                      ],
                      [
                        -82.456479,
                        27.9490436
                      ],
                      [
                        -82.4565827,
                        27.9490074
                      ]
                    ]
                  },
                  "bbox": [
                    -82.4565827,
                    27.9490074,
                    -82.4557374,
                    27.9492989
                  ]
                },
                {
                  "id": "(97815628, 942206728, 0)",
                  "type": "Feature",
                  "properties": {
                    "highway": "secondary",
                    "lanes": "4",
                    "length": 87.783,
                    "maxspeed": "unposted",
                    "name": "Pierce Street",
                    "oneway": true,
                    "osmid": 87659447,
                    "ref": null,
                    "style": {
                      "color": "black",
                      "fillColor": "black"
                    }
                  },
                  "geometry": {
                    "type": "LineString",
                    "coordinates": [
                      [
                        -82.454896,
                        27.949589
                      ],
                      [
                        -82.4548607,
                        27.9495053
                      ],
                      [
                        -82.4546172,
                        27.9489489
                      ],
                      [
                        -82.4545754,
                        27.9488521
                      ]
                    ]
                  },
                  "bbox": [
                    -82.454896,
                    27.9488521,
                    -82.4545754,
                    27.949589
                  ]
                },
                {
                  "id": "(97815628, 97815626, 0)",
                  "type": "Feature",
                  "properties": {
                    "highway": "tertiary",
                    "lanes": "2",
                    "length": 88.71900000000001,
                    "maxspeed": null,
                    "name": "East Madison Street",
                    "oneway": false,
                    "osmid": 932449456,
                    "ref": null,
                    "style": {
                      "color": "black",
                      "fillColor": "black"
                    }
                  },
                  "geometry": {
                    "type": "LineString",
                    "coordinates": [
                      [
                        -82.454896,
                        27.949589
                      ],
                      [
                        -82.4550239,
                        27.9495445
                      ],
                      [
                        -82.4551298,
                        27.9495084
                      ],
                      [
                        -82.4556274,
                        27.9493368
                      ],
                      [
                        -82.4557374,
                        27.9492989
                      ]
                    ]
                  },
                  "bbox": [
                    -82.4557374,
                    27.9492989,
                    -82.454896,
                    27.949589
                  ]
                },
                {
                  "id": "(97871012, 97871010, 0)",
                  "type": "Feature",
                  "properties": {
                    "highway": "primary",
                    "lanes": "4",
                    "length": 88.90200000000002,
                    "maxspeed": "30 mph",
                    "name": "Kennedy Boulevard",
                    "oneway": true,
                    "osmid": 23946064,
                    "ref": "FL 60",
                    "style": {
                      "color": "black",
                      "fillColor": "black"
                    }
                  },
                  "geometry": {
                    "type": "LineString",
                    "coordinates": [
                      [
                        -82.4579291,
                        27.9476964
                      ],
                      [
                        -82.4580214,
                        27.9476642
                      ],
                      [
                        -82.4586626,
                        27.9474348
                      ],
                      [
                        -82.4587699,
                        27.9474007
                      ]
                    ]
                  },
                  "bbox": [
                    -82.4587699,
                    27.9474007,
                    -82.4579291,
                    27.9476964
                  ]
                },
                {
                  "id": "(97871012, 975495315, 0)",
                  "type": "Feature",
                  "properties": {
                    "highway": "unclassified",
                    "lanes": "2",
                    "length": 87.83900000000001,
                    "maxspeed": null,
                    "name": "North Franklin Street",
                    "oneway": false,
                    "osmid": 932449457,
                    "ref": null,
                    "style": {
                      "color": "black",
                      "fillColor": "black"
                    }
                  },
                  "geometry": {
                    "type": "LineString",
                    "coordinates": [
                      [
                        -82.4579291,
                        27.9476964
                      ],
                      [
                        -82.4579704,
                        27.9477827
                      ],
                      [
                        -82.4579917,
                        27.9478282
                      ],
                      [
                        -82.4580761,
                        27.9480311
                      ],
                      [
                        -82.4580826,
                        27.9480509
                      ],
                      [
                        -82.4580881,
                        27.9480707
                      ],
                      [
                        -82.4580971,
                        27.9481095
                      ],
                      [
                        -82.4581091,
                        27.9481464
                      ],
                      [
                        -82.4581241,
                        27.9481834
                      ],
                      [
                        -82.4582015,
                        27.9483577
                      ],
                      [
                        -82.4582366,
                        27.9484372
                      ]
                    ]
                  },
                  "bbox": [
                    -82.4582366,
                    27.9476964,
                    -82.4579291,
                    27.9484372
                  ]
                },
                {
                  "id": "(97871013, 97871012, 0)",
                  "type": "Feature",
                  "properties": {
                    "highway": "primary",
                    "lanes": "4",
                    "length": 87.25999999999999,
                    "maxspeed": "30 mph",
                    "name": "Kennedy Boulevard",
                    "oneway": true,
                    "osmid": 47222463,
                    "ref": "FL 60",
                    "style": {
                      "color": "black",
                      "fillColor": "black"
                    }
                  },
                  "geometry": {
                    "type": "LineString",
                    "coordinates": [
                      [
                        -82.4570982,
                        27.9479739
                      ],
                      [
                        -82.4572276,
                        27.9479331
                      ],
                      [
                        -82.4578324,
                        27.9477311
                      ],
                      [
                        -82.4579291,
                        27.9476964
                      ]
                    ]
                  },
                  "bbox": [
                    -82.4579291,
                    27.9476964,
                    -82.4570982,
                    27.9479739
                  ]
                },
                {
                  "id": "(97871013, 474972598, 0)",
                  "type": "Feature",
                  "properties": {
                    "highway": "primary",
                    "lanes": "4",
                    "length": 88.657,
                    "maxspeed": "35 mph",
                    "name": "North Florida Avenue",
                    "oneway": true,
                    "osmid": 47222465,
                    "ref": "US 41 Business",
                    "style": {
                      "color": "black",
                      "fillColor": "black"
                    }
                  },
                  "geometry": {
                    "type": "LineString",
                    "coordinates": [
                      [
                        -82.4570982,
                        27.9479739
                      ],
                      [
                        -82.4571355,
                        27.9480717
                      ],
                      [
                        -82.4571951,
                        27.9482086
                      ],
                      [
                        -82.4571983,
                        27.9482156
                      ],
                      [
                        -82.4572832,
                        27.9484053
                      ],
                      [
                        -82.4573867,
                        27.9486362
                      ],
                      [
                        -82.4574238,
                        27.9487174
                      ]
                    ]
                  },
                  "bbox": [
                    -82.4574238,
                    27.9479739,
                    -82.4570982,
                    27.9487174
                  ]
                },
                {
                  "id": "(97871014, 97775156, 0)",
                  "type": "Feature",
                  "properties": {
                    "highway": "primary",
                    "lanes": "4",
                    "length": 88.913,
                    "maxspeed": "30 mph",
                    "name": "East Kennedy Boulevard",
                    "oneway": true,
                    "osmid": 115040529,
                    "ref": "US 41 Business;FL 60",
                    "style": {
                      "color": "black",
                      "fillColor": "black"
                    }
                  },
                  "geometry": {
                    "type": "LineString",
                    "coordinates": [
                      [
                        -82.4554104,
                        27.9485626
                      ],
                      [
                        -82.4555112,
                        27.948528
                      ],
                      [
                        -82.4561519,
                        27.9482985
                      ],
                      [
                        -82.4562493,
                        27.9482623
                      ]
                    ]
                  },
                  "bbox": [
                    -82.4562493,
                    27.9482623,
                    -82.4554104,
                    27.9485626
                  ]
                },
                {
                  "id": "(97871014, 97815626, 0)",
                  "type": "Feature",
                  "properties": {
                    "highway": "tertiary",
                    "lanes": "4",
                    "length": 87.94900000000001,
                    "maxspeed": null,
                    "name": "North Morgan Street",
                    "oneway": false,
                    "osmid": 168522075,
                    "ref": null,
                    "style": {
                      "color": "black",
                      "fillColor": "black"
                    }
                  },
                  "geometry": {
                    "type": "LineString",
                    "coordinates": [
                      [
                        -82.4554104,
                        27.9485626
                      ],
                      [
                        -82.4554545,
                        27.9486609
                      ],
                      [
                        -82.4556038,
                        27.9489992
                      ],
                      [
                        -82.4556622,
                        27.9491296
                      ],
                      [
                        -82.4556953,
                        27.9492056
                      ],
                      [
                        -82.4557374,
                        27.9492989
                      ]
                    ]
                  },
                  "bbox": [
                    -82.4557374,
                    27.9485626,
                    -82.4554104,
                    27.9492989
                  ]
                },
                {
                  "id": "(97871017, 97927140, 0)",
                  "type": "Feature",
                  "properties": {
                    "highway": "secondary",
                    "lanes": "4",
                    "length": 176.89700000000002,
                    "maxspeed": "30 mph",
                    "name": "North Jefferson Street",
                    "oneway": false,
                    "osmid": 117012652,
                    "ref": null,
                    "style": {
                      "color": "black",
                      "fillColor": "black"
                    }
                  },
                  "geometry": {
                    "type": "LineString",
                    "coordinates": [
                      [
                        -82.4537286,
                        27.9491431
                      ],
                      [
                        -82.4537686,
                        27.9492326
                      ],
                      [
                        -82.4539279,
                        27.9495938
                      ],
                      [
                        -82.4540413,
                        27.949851
                      ],
                      [
                        -82.4541757,
                        27.9501552
                      ],
                      [
                        -82.4543405,
                        27.9505283
                      ],
                      [
                        -82.4543834,
                        27.9506251
                      ]
                    ]
                  },
                  "bbox": [
                    -82.4543834,
                    27.9491431,
                    -82.4537286,
                    27.9506251
                  ]
                },
                {
                  "id": "(97871017, 942206728, 0)",
                  "type": "Feature",
                  "properties": {
                    "highway": "primary",
                    "lanes": "4",
                    "length": 89.25200000000001,
                    "maxspeed": "30 mph",
                    "name": "East Kennedy Boulevard",
                    "oneway": true,
                    "osmid": 117012653,
                    "ref": "US 41 Business;FL 60",
                    "style": {
                      "color": "black",
                      "fillColor": "black"
                    }
                  },
                  "geometry": {
                    "type": "LineString",
                    "coordinates": [
                      [
                        -82.4537286,
                        27.9491431
                      ],
                      [
                        -82.4538321,
                        27.9491073
                      ],
                      [
                        -82.4544646,
                        27.9488884
                      ],
                      [
                        -82.4545754,
                        27.9488521
                      ]
                    ]
                  },
                  "bbox": [
                    -82.4545754,
                    27.9488521,
                    -82.4537286,
                    27.9491431
                  ]
                },
                {
                  "id": "(97871022, 1993753421, 0)",
                  "type": "Feature",
                  "properties": {
                    "highway": "primary",
                    "lanes": "3",
                    "length": 83.66799999999999,
                    "maxspeed": "30 mph",
                    "name": "East Kennedy Boulevard",
                    "oneway": true,
                    "osmid": 188754665,
                    "ref": "US 41 Business;FL 60",
                    "style": {
                      "color": "black",
                      "fillColor": "black"
                    }
                  },
                  "geometry": {
                    "type": "LineString",
                    "coordinates": [
                      [
                        -82.4520812,
                        27.9496714
                      ],
                      [
                        -82.4522234,
                        27.9496187
                      ],
                      [
                        -82.4527649,
                        27.9494307
                      ],
                      [
                        -82.4528747,
                        27.9493983
                      ]
                    ]
                  },
                  "bbox": [
                    -82.4528747,
                    27.9493983,
                    -82.4520812,
                    27.9496714
                  ]
                },
                {
                  "id": "(97876151, 97928976, 0)",
                  "type": "Feature",
                  "properties": {
                    "highway": "tertiary",
                    "lanes": "4",
                    "length": 88.68900000000001,
                    "maxspeed": "30 mph",
                    "name": "East Twiggs Street",
                    "oneway": false,
                    "osmid": 87174879,
                    "ref": null,
                    "style": {
                      "color": "black",
                      "fillColor": "black"
                    }
                  },
                  "geometry": {
                    "type": "LineString",
                    "coordinates": [
                      [
                        -82.456066,
                        27.950046
                      ],
                      [
                        -82.4559605,
                        27.9500819
                      ],
                      [
                        -82.4556937,
                        27.9501733
                      ],
                      [
                        -82.455333,
                        27.9502959
                      ],
                      [
                        -82.455224,
                        27.950334
                      ]
                    ]
                  },
                  "bbox": [
                    -82.456066,
                    27.950046,
                    -82.455224,
                    27.950334
                  ]
                },
                {
                  "id": "(97876151, 97775163, 0)",
                  "type": "Feature",
                  "properties": {
                    "highway": "tertiary",
                    "lanes": "4",
                    "length": 88.28299999999999,
                    "maxspeed": "30 mph",
                    "name": "East Twiggs Street",
                    "oneway": false,
                    "osmid": 87174879,
                    "ref": null,
                    "style": {
                      "color": "black",
                      "fillColor": "black"
                    }
                  },
                  "geometry": {
                    "type": "LineString",
                    "coordinates": [
                      [
                        -82.456066,
                        27.950046
                      ],
                      [
                        -82.4561667,
                        27.9500109
                      ],
                      [
                        -82.45632,
                        27.949959
                      ],
                      [
                        -82.4568055,
                        27.9497928
                      ],
                      [
                        -82.456904,
                        27.949759
                      ]
                    ]
                  },
                  "bbox": [
                    -82.456904,
                    27.949759,
                    -82.456066,
                    27.950046
                  ]
                },
                {
                  "id": "(97876151, 97815626, 0)",
                  "type": "Feature",
                  "properties": {
                    "highway": "tertiary",
                    "lanes": "4",
                    "length": 89.12499999999999,
                    "maxspeed": null,
                    "name": "North Morgan Street",
                    "oneway": false,
                    "osmid": 168522075,
                    "ref": null,
                    "style": {
                      "color": "black",
                      "fillColor": "black"
                    }
                  },
                  "geometry": {
                    "type": "LineString",
                    "coordinates": [
                      [
                        -82.456066,
                        27.950046
                      ],
                      [
                        -82.4560273,
                        27.9499588
                      ],
                      [
                        -82.4557819,
                        27.9494039
                      ],
                      [
                        -82.4557374,
                        27.9492989
                      ]
                    ]
                  },
                  "bbox": [
                    -82.456066,
                    27.9492989,
                    -82.4557374,
                    27.950046
                  ]
                },
                {
                  "id": "(97876151, 97876153, 0)",
                  "type": "Feature",
                  "properties": {
                    "highway": "tertiary",
                    "lanes": "4",
                    "length": 89.614,
                    "maxspeed": null,
                    "name": "North Morgan Street",
                    "oneway": false,
                    "osmid": 168522075,
                    "ref": null,
                    "style": {
                      "color": "black",
                      "fillColor": "black"
                    }
                  },
                  "geometry": {
                    "type": "LineString",
                    "coordinates": [
                      [
                        -82.456066,
                        27.950046
                      ],
                      [
                        -82.4561123,
                        27.9501524
                      ],
                      [
                        -82.4561531,
                        27.9502462
                      ],
                      [
                        -82.456355,
                        27.9507105
                      ],
                      [
                        -82.4563932,
                        27.9507983
                      ]
                    ]
                  },
                  "bbox": [
                    -82.4563932,
                    27.950046,
                    -82.456066,
                    27.9507983
                  ]
                },
                {
                  "id": "(97876153, 97970376, 0)",
                  "type": "Feature",
                  "properties": {
                    "highway": "tertiary",
                    "lanes": "2",
                    "length": 88.47,
                    "maxspeed": null,
                    "name": "East Zack Street",
                    "oneway": false,
                    "osmid": 11000973,
                    "ref": null,
                    "style": {
                      "color": "black",
                      "fillColor": "black"
                    }
                  },
                  "geometry": {
                    "type": "LineString",
                    "coordinates": [
                      [
                        -82.4563932,
                        27.9507983
                      ],
                      [
                        -82.4562786,
                        27.9508362
                      ],
                      [
                        -82.4557835,
                        27.9510054
                      ],
                      [
                        -82.455661,
                        27.9510472
                      ],
                      [
                        -82.4555525,
                        27.9510838
                      ]
                    ]
                  },
                  "bbox": [
                    -82.4563932,
                    27.9507983,
                    -82.4555525,
                    27.9510838
                  ]
                },
                {
                  "id": "(97876153, 97775165, 0)",
                  "type": "Feature",
                  "properties": {
                    "highway": "tertiary",
                    "lanes": "2",
                    "length": 88.74799999999999,
                    "maxspeed": null,
                    "name": "East Zack Street",
                    "oneway": false,
                    "osmid": 11000973,
                    "ref": null,
                    "style": {
                      "color": "black",
                      "fillColor": "black"
                    }
                  },
                  "geometry": {
                    "type": "LineString",
                    "coordinates": [
                      [
                        -82.4563932,
                        27.9507983
                      ],
                      [
                        -82.456495,
                        27.9507634
                      ],
                      [
                        -82.4571368,
                        27.9505441
                      ],
                      [
                        -82.4572355,
                        27.9505095
                      ]
                    ]
                  },
                  "bbox": [
                    -82.4572355,
                    27.9505095,
                    -82.4563932,
                    27.9507983
                  ]
                },
                {
                  "id": "(97876153, 97876151, 0)",
                  "type": "Feature",
                  "properties": {
                    "highway": "tertiary",
                    "lanes": "4",
                    "length": 89.61399999999999,
                    "maxspeed": null,
                    "name": "North Morgan Street",
                    "oneway": false,
                    "osmid": 168522075,
                    "ref": null,
                    "style": {
                      "color": "black",
                      "fillColor": "black"
                    }
                  },
                  "geometry": {
                    "type": "LineString",
                    "coordinates": [
                      [
                        -82.4563932,
                        27.9507983
                      ],
                      [
                        -82.456355,
                        27.9507105
                      ],
                      [
                        -82.4561531,
                        27.9502462
                      ],
                      [
                        -82.4561123,
                        27.9501524
                      ],
                      [
                        -82.456066,
                        27.950046
                      ]
                    ]
                  },
                  "bbox": [
                    -82.4563932,
                    27.950046,
                    -82.456066,
                    27.9507983
                  ]
                },
                {
                  "id": "(97876153, 1870060169, 0)",
                  "type": "Feature",
                  "properties": {
                    "highway": "tertiary",
                    "lanes": "4",
                    "length": 82.20700000000001,
                    "maxspeed": null,
                    "name": "North Morgan Street",
                    "oneway": false,
                    "osmid": 168522075,
                    "ref": null,
                    "style": {
                      "color": "black",
                      "fillColor": "black"
                    }
                  },
                  "geometry": {
                    "type": "LineString",
                    "coordinates": [
                      [
                        -82.4563932,
                        27.9507983
                      ],
                      [
                        -82.4564338,
                        27.9508886
                      ],
                      [
                        -82.4566788,
                        27.9514358
                      ],
                      [
                        -82.4567021,
                        27.9514854
                      ]
                    ]
                  },
                  "bbox": [
                    -82.4567021,
                    27.9507983,
                    -82.4563932,
                    27.9514854
                  ]
                },
                {
                  "id": "(97925457, 975495316, 0)",
                  "type": "Feature",
                  "properties": {
                    "highway": "primary",
                    "lanes": "3",
                    "length": 89.45499999999998,
                    "maxspeed": "30 mph",
                    "name": "North Tampa Street",
                    "oneway": true,
                    "osmid": 190333972,
                    "ref": "US 41 Business",
                    "style": {
                      "color": "black",
                      "fillColor": "black"
                    }
                  },
                  "geometry": {
                    "type": "LineString",
                    "coordinates": [
                      [
                        -82.459428,
                        27.94889
                      ],
                      [
                        -82.4593896,
                        27.948803
                      ],
                      [
                        -82.4592645,
                        27.94852
                      ],
                      [
                        -82.4592601,
                        27.94851
                      ],
                      [
                        -82.4591445,
                        27.9482458
                      ],
                      [
                        -82.4590968,
                        27.9481406
                      ]
                    ]
                  },
                  "bbox": [
                    -82.459428,
                    27.9481406,
                    -82.4590968,
                    27.94889
                  ]
                },
                {
                  "id": "(97925457, 97928972, 0)",
                  "type": "Feature",
                  "properties": {
                    "highway": "tertiary",
                    "lanes": "2",
                    "length": 85.988,
                    "maxspeed": "30 mph",
                    "name": "East Twiggs Street",
                    "oneway": false,
                    "osmid": 794324838,
                    "ref": null,
                    "style": {
                      "color": "black",
                      "fillColor": "black"
                    }
                  },
                  "geometry": {
                    "type": "LineString",
                    "coordinates": [
                      [
                        -82.459428,
                        27.94889
                      ],
                      [
                        -82.4593218,
                        27.948926
                      ],
                      [
                        -82.4589351,
                        27.9490735
                      ],
                      [
                        -82.4586985,
                        27.949157
                      ],
                      [
                        -82.458618,
                        27.9491829
                      ]
                    ]
                  },
                  "bbox": [
                    -82.459428,
                    27.94889,
                    -82.458618,
                    27.9491829
                  ]
                },
                {
                  "id": "(97925459, 97925457, 0)",
                  "type": "Feature",
                  "properties": {
                    "highway": "primary",
                    "lanes": "3",
                    "length": 89.104,
                    "maxspeed": "30 mph",
                    "name": "North Tampa Street",
                    "oneway": true,
                    "osmid": 190333972,
                    "ref": "US 41 Business",
                    "style": {
                      "color": "black",
                      "fillColor": "black"
                    }
                  },
                  "geometry": {
                    "type": "LineString",
                    "coordinates": [
                      [
                        -82.4597618,
                        27.9496351
                      ],
                      [
                        -82.4597334,
                        27.9495732
                      ],
                      [
                        -82.4596473,
                        27.949379
                      ],
                      [
                        -82.4596452,
                        27.9493743
                      ],
                      [
                        -82.4596218,
                        27.9493224
                      ],
                      [
                        -82.4596132,
                        27.9493029
                      ],
                      [
                        -82.4594719,
                        27.9489877
                      ],
                      [
                        -82.459428,
                        27.94889
                      ]
                    ]
                  },
                  "bbox": [
                    -82.4597618,
                    27.94889,
                    -82.459428,
                    27.9496351
                  ]
                },
                {
                  "id": "(97925459, 97964888, 0)",
                  "type": "Feature",
                  "properties": {
                    "highway": "tertiary",
                    "lanes": "2",
                    "length": 92.024,
                    "maxspeed": null,
                    "name": "East Zack Street",
                    "oneway": false,
                    "osmid": 909318437,
                    "ref": null,
                    "style": {
                      "color": "black",
                      "fillColor": "black"
                    }
                  },
                  "geometry": {
                    "type": "LineString",
                    "coordinates": [
                      [
                        -82.4597618,
                        27.9496351
                      ],
                      [
                        -82.4596427,
                        27.949677
                      ],
                      [
                        -82.4592746,
                        27.9498061
                      ],
                      [
                        -82.4590041,
                        27.949901
                      ],
                      [
                        -82.4588911,
                        27.9499406
                      ]
                    ]
                  },
                  "bbox": [
                    -82.4597618,
                    27.9496351,
                    -82.4588911,
                    27.9499406
                  ]
                },
                {
                  "id": "(97927140, 97928978, 0)",
                  "type": "Feature",
                  "properties": {
                    "highway": "tertiary",
                    "lanes": "4",
                    "length": 94.40299999999999,
                    "maxspeed": "30 mph",
                    "name": "East Twiggs Street",
                    "oneway": false,
                    "osmid": 87174879,
                    "ref": null,
                    "style": {
                      "color": "black",
                      "fillColor": "black"
                    }
                  },
                  "geometry": {
                    "type": "LineString",
                    "coordinates": [
                      [
                        -82.4543834,
                        27.9506251
                      ],
                      [
                        -82.4542746,
                        27.9506623
                      ],
                      [
                        -82.4536385,
                        27.9508819
                      ],
                      [
                        -82.4535775,
                        27.9509037
                      ],
                      [
                        -82.4534884,
                        27.9509345
                      ]
                    ]
                  },
                  "bbox": [
                    -82.4543834,
                    27.9506251,
                    -82.4534884,
                    27.9509345
                  ]
                },
                {
                  "id": "(97927140, 97928976, 0)",
                  "type": "Feature",
                  "properties": {
                    "highway": "tertiary",
                    "lanes": "4",
                    "length": 88.68599999999999,
                    "maxspeed": "30 mph",
                    "name": "East Twiggs Street",
                    "oneway": false,
                    "osmid": 87174879,
                    "ref": null,
                    "style": {
                      "color": "black",
                      "fillColor": "black"
                    }
                  },
                  "geometry": {
                    "type": "LineString",
                    "coordinates": [
                      [
                        -82.4543834,
                        27.9506251
                      ],
                      [
                        -82.4544901,
                        27.9505879
                      ],
                      [
                        -82.4551043,
                        27.9503766
                      ],
                      [
                        -82.455224,
                        27.950334
                      ]
                    ]
                  },
                  "bbox": [
                    -82.455224,
                    27.950334,
                    -82.4543834,
                    27.9506251
                  ]
                },
                {
                  "id": "(97927140, 97927142, 0)",
                  "type": "Feature",
                  "properties": {
                    "highway": "secondary",
                    "lanes": "4",
                    "length": 87.532,
                    "maxspeed": "30 mph",
                    "name": "North Jefferson Street",
                    "oneway": false,
                    "osmid": 117012652,
                    "ref": null,
                    "style": {
                      "color": "black",
                      "fillColor": "black"
                    }
                  },
                  "geometry": {
                    "type": "LineString",
                    "coordinates": [
                      [
                        -82.4543834,
                        27.9506251
                      ],
                      [
                        -82.4544301,
                        27.9507312
                      ],
                      [
                        -82.4546725,
                        27.951283
                      ],
                      [
                        -82.4547077,
                        27.9513583
                      ]
                    ]
                  },
                  "bbox": [
                    -82.4547077,
                    27.9506251,
                    -82.4543834,
                    27.9513583
                  ]
                },
                {
                  "id": "(97927140, 97871017, 0)",
                  "type": "Feature",
                  "properties": {
                    "highway": "secondary",
                    "lanes": "4",
                    "length": 176.897,
                    "maxspeed": "30 mph",
                    "name": "North Jefferson Street",
                    "oneway": false,
                    "osmid": 117012652,
                    "ref": null,
                    "style": {
                      "color": "black",
                      "fillColor": "black"
                    }
                  },
                  "geometry": {
                    "type": "LineString",
                    "coordinates": [
                      [
                        -82.4543834,
                        27.9506251
                      ],
                      [
                        -82.4543405,
                        27.9505283
                      ],
                      [
                        -82.4541757,
                        27.9501552
                      ],
                      [
                        -82.4540413,
                        27.949851
                      ],
                      [
                        -82.4539279,
                        27.9495938
                      ],
                      [
                        -82.4537686,
                        27.9492326
                      ],
                      [
                        -82.4537286,
                        27.9491431
                      ]
                    ]
                  },
                  "bbox": [
                    -82.4543834,
                    27.9491431,
                    -82.4537286,
                    27.9506251
                  ]
                },
                {
                  "id": "(97927142, 97970376, 0)",
                  "type": "Feature",
                  "properties": {
                    "highway": "tertiary",
                    "lanes": "2",
                    "length": 88.418,
                    "maxspeed": null,
                    "name": "East Zack Street",
                    "oneway": false,
                    "osmid": 11000973,
                    "ref": null,
                    "style": {
                      "color": "black",
                      "fillColor": "black"
                    }
                  },
                  "geometry": {
                    "type": "LineString",
                    "coordinates": [
                      [
                        -82.4547077,
                        27.9513583
                      ],
                      [
                        -82.4548056,
                        27.9513284
                      ],
                      [
                        -82.455271,
                        27.951175
                      ],
                      [
                        -82.4552812,
                        27.9511717
                      ],
                      [
                        -82.4554404,
                        27.9511201
                      ],
                      [
                        -82.4555525,
                        27.9510838
                      ]
                    ]
                  },
                  "bbox": [
                    -82.4555525,
                    27.9510838,
                    -82.4547077,
                    27.9513583
                  ]
                },
                {
                  "id": "(97927142, 1870060205, 0)",
                  "type": "Feature",
                  "properties": {
                    "highway": "secondary",
                    "lanes": "4",
                    "length": 84.01500000000001,
                    "maxspeed": "30 mph",
                    "name": "North Jefferson Street",
                    "oneway": false,
                    "osmid": 117012652,
                    "ref": null,
                    "style": {
                      "color": "black",
                      "fillColor": "black"
                    }
                  },
                  "geometry": {
                    "type": "LineString",
                    "coordinates": [
                      [
                        -82.4547077,
                        27.9513583
                      ],
                      [
                        -82.4547478,
                        27.9514488
                      ],
                      [
                        -82.4548623,
                        27.9517075
                      ],
                      [
                        -82.4549634,
                        27.951936
                      ],
                      [
                        -82.4549705,
                        27.9519521
                      ],
                      [
                        -82.4550191,
                        27.952062
                      ]
                    ]
                  },
                  "bbox": [
                    -82.4550191,
                    27.9513583,
                    -82.4547077,
                    27.952062
                  ]
                },
                {
                  "id": "(97927142, 97927140, 0)",
                  "type": "Feature",
                  "properties": {
                    "highway": "secondary",
                    "lanes": "4",
                    "length": 87.532,
                    "maxspeed": "30 mph",
                    "name": "North Jefferson Street",
                    "oneway": false,
                    "osmid": 117012652,
                    "ref": null,
                    "style": {
                      "color": "black",
                      "fillColor": "black"
                    }
                  },
                  "geometry": {
                    "type": "LineString",
                    "coordinates": [
                      [
                        -82.4547077,
                        27.9513583
                      ],
                      [
                        -82.4546725,
                        27.951283
                      ],
                      [
                        -82.4544301,
                        27.9507312
                      ],
                      [
                        -82.4543834,
                        27.9506251
                      ]
                    ]
                  },
                  "bbox": [
                    -82.4547077,
                    27.9506251,
                    -82.4543834,
                    27.9513583
                  ]
                },
                {
                  "id": "(97928972, 97928974, 0)",
                  "type": "Feature",
                  "properties": {
                    "highway": "tertiary",
                    "lanes": "3",
                    "length": 91.66499999999999,
                    "maxspeed": "30 mph",
                    "name": "East Twiggs Street",
                    "oneway": false,
                    "osmid": 87174882,
                    "ref": null,
                    "style": {
                      "color": "black",
                      "fillColor": "black"
                    }
                  },
                  "geometry": {
                    "type": "LineString",
                    "coordinates": [
                      [
                        -82.458618,
                        27.9491829
                      ],
                      [
                        -82.4585562,
                        27.949201
                      ],
                      [
                        -82.4581077,
                        27.9493472
                      ],
                      [
                        -82.4580167,
                        27.9493768
                      ],
                      [
                        -82.4578494,
                        27.9494309
                      ],
                      [
                        -82.457742,
                        27.949467
                      ]
                    ]
                  },
                  "bbox": [
                    -82.458618,
                    27.9491829,
                    -82.457742,
                    27.949467
                  ]
                },
                {
                  "id": "(97928972, 975495315, 0)",
                  "type": "Feature",
                  "properties": {
                    "highway": "unclassified",
                    "lanes": "2",
                    "length": 91.496,
                    "maxspeed": null,
                    "name": "North Franklin Street",
                    "oneway": false,
                    "osmid": 203993896,
                    "ref": null,
                    "style": {
                      "color": "black",
                      "fillColor": "black"
                    }
                  },
                  "geometry": {
                    "type": "LineString",
                    "coordinates": [
                      [
                        -82.458618,
                        27.9491829
                      ],
                      [
                        -82.4585839,
                        27.9490963
                      ],
                      [
                        -82.4585645,
                        27.949054
                      ],
                      [
                        -82.4585201,
                        27.9489467
                      ],
                      [
                        -82.4585054,
                        27.948917
                      ],
                      [
                        -82.4584889,
                        27.9488887
                      ],
                      [
                        -82.4584639,
                        27.9488534
                      ],
                      [
                        -82.4584318,
                        27.9488181
                      ],
                      [
                        -82.4583966,
                        27.9487773
                      ],
                      [
                        -82.4583808,
                        27.9487549
                      ],
                      [
                        -82.4583676,
                        27.9487325
                      ],
                      [
                        -82.4582772,
                        27.9485287
                      ],
                      [
                        -82.4582366,
                        27.9484372
                      ]
                    ]
                  },
                  "bbox": [
                    -82.458618,
                    27.9484372,
                    -82.4582366,
                    27.9491829
                  ]
                },
                {
                  "id": "(97928972, 97964888, 0)",
                  "type": "Feature",
                  "properties": {
                    "highway": "unclassified",
                    "lanes": "2",
                    "length": 88.943,
                    "maxspeed": null,
                    "name": "North Franklin Street",
                    "oneway": false,
                    "osmid": 203993896,
                    "ref": null,
                    "style": {
                      "color": "black",
                      "fillColor": "black"
                    }
                  },
                  "geometry": {
                    "type": "LineString",
                    "coordinates": [
                      [
                        -82.458618,
                        27.9491829
                      ],
                      [
                        -82.4586546,
                        27.9492665
                      ],
                      [
                        -82.4587326,
                        27.9494506
                      ],
                      [
                        -82.4587425,
                        27.9494792
                      ],
                      [
                        -82.4587489,
                        27.9495085
                      ],
                      [
                        -82.458751,
                        27.9495446
                      ],
                      [
                        -82.4587546,
                        27.9496014
                      ],
                      [
                        -82.4587586,
                        27.9496299
                      ],
                      [
                        -82.4587671,
                        27.9496575
                      ],
                      [
                        -82.4588616,
                        27.9498769
                      ],
                      [
                        -82.4588911,
                        27.9499406
                      ]
                    ]
                  },
                  "bbox": [
                    -82.4588911,
                    27.9491829,
                    -82.458618,
                    27.9499406
                  ]
                },
                {
                  "id": "(97928972, 97925457, 0)",
                  "type": "Feature",
                  "properties": {
                    "highway": "tertiary",
                    "lanes": "2",
                    "length": 85.988,
                    "maxspeed": "30 mph",
                    "name": "East Twiggs Street",
                    "oneway": false,
                    "osmid": 794324838,
                    "ref": null,
                    "style": {
                      "color": "black",
                      "fillColor": "black"
                    }
                  },
                  "geometry": {
                    "type": "LineString",
                    "coordinates": [
                      [
                        -82.458618,
                        27.9491829
                      ],
                      [
                        -82.4586985,
                        27.949157
                      ],
                      [
                        -82.4589351,
                        27.9490735
                      ],
                      [
                        -82.4593218,
                        27.948926
                      ],
                      [
                        -82.459428,
                        27.94889
                      ]
                    ]
                  },
                  "bbox": [
                    -82.459428,
                    27.94889,
                    -82.458618,
                    27.9491829
                  ]
                },
                {
                  "id": "(97928974, 97942623, 0)",
                  "type": "Feature",
                  "properties": {
                    "highway": "primary",
                    "lanes": "4",
                    "length": 90.61200000000001,
                    "maxspeed": "35 mph",
                    "name": "North Florida Avenue",
                    "oneway": true,
                    "osmid": 47222465,
                    "ref": "US 41 Business",
                    "style": {
                      "color": "black",
                      "fillColor": "black"
                    }
                  },
                  "geometry": {
                    "type": "LineString",
                    "coordinates": [
                      [
                        -82.457742,
                        27.949467
                      ],
                      [
                        -82.4577853,
                        27.9495598
                      ],
                      [
                        -82.4580361,
                        27.9501284
                      ],
                      [
                        -82.4580774,
                        27.9502261
                      ]
                    ]
                  },
                  "bbox": [
                    -82.4580774,
                    27.949467,
                    -82.457742,
                    27.9502261
                  ]
                },
                {
                  "id": "(97928974, 97775163, 0)",
                  "type": "Feature",
                  "properties": {
                    "highway": "tertiary",
                    "lanes": "4",
                    "length": 88.487,
                    "maxspeed": "30 mph",
                    "name": "East Twiggs Street",
                    "oneway": false,
                    "osmid": 87174879,
                    "ref": null,
                    "style": {
                      "color": "black",
                      "fillColor": "black"
                    }
                  },
                  "geometry": {
                    "type": "LineString",
                    "coordinates": [
                      [
                        -82.457742,
                        27.949467
                      ],
                      [
                        -82.457635,
                        27.9495045
                      ],
                      [
                        -82.4569898,
                        27.9497307
                      ],
                      [
                        -82.456904,
                        27.949759
                      ]
                    ]
                  },
                  "bbox": [
                    -82.457742,
                    27.949467,
                    -82.456904,
                    27.949759
                  ]
                },
                {
                  "id": "(97928974, 97928972, 0)",
                  "type": "Feature",
                  "properties": {
                    "highway": "tertiary",
                    "lanes": "3",
                    "length": 91.66499999999999,
                    "maxspeed": "30 mph",
                    "name": "East Twiggs Street",
                    "oneway": false,
                    "osmid": 87174882,
                    "ref": null,
                    "style": {
                      "color": "black",
                      "fillColor": "black"
                    }
                  },
                  "geometry": {
                    "type": "LineString",
                    "coordinates": [
                      [
                        -82.457742,
                        27.949467
                      ],
                      [
                        -82.4578494,
                        27.9494309
                      ],
                      [
                        -82.4580167,
                        27.9493768
                      ],
                      [
                        -82.4581077,
                        27.9493472
                      ],
                      [
                        -82.4585562,
                        27.949201
                      ],
                      [
                        -82.458618,
                        27.9491829
                      ]
                    ]
                  },
                  "bbox": [
                    -82.458618,
                    27.9491829,
                    -82.457742,
                    27.949467
                  ]
                },
                {
                  "id": "(97928976, 97927140, 0)",
                  "type": "Feature",
                  "properties": {
                    "highway": "tertiary",
                    "lanes": "4",
                    "length": 88.68599999999999,
                    "maxspeed": "30 mph",
                    "name": "East Twiggs Street",
                    "oneway": false,
                    "osmid": 87174879,
                    "ref": null,
                    "style": {
                      "color": "black",
                      "fillColor": "black"
                    }
                  },
                  "geometry": {
                    "type": "LineString",
                    "coordinates": [
                      [
                        -82.455224,
                        27.950334
                      ],
                      [
                        -82.4551043,
                        27.9503766
                      ],
                      [
                        -82.4544901,
                        27.9505879
                      ],
                      [
                        -82.4543834,
                        27.9506251
                      ]
                    ]
                  },
                  "bbox": [
                    -82.455224,
                    27.950334,
                    -82.4543834,
                    27.9506251
                  ]
                },
                {
                  "id": "(97928976, 97876151, 0)",
                  "type": "Feature",
                  "properties": {
                    "highway": "tertiary",
                    "lanes": "4",
                    "length": 88.68900000000001,
                    "maxspeed": "30 mph",
                    "name": "East Twiggs Street",
                    "oneway": false,
                    "osmid": 87174879,
                    "ref": null,
                    "style": {
                      "color": "black",
                      "fillColor": "black"
                    }
                  },
                  "geometry": {
                    "type": "LineString",
                    "coordinates": [
                      [
                        -82.455224,
                        27.950334
                      ],
                      [
                        -82.455333,
                        27.9502959
                      ],
                      [
                        -82.4556937,
                        27.9501733
                      ],
                      [
                        -82.4559605,
                        27.9500819
                      ],
                      [
                        -82.456066,
                        27.950046
                      ]
                    ]
                  },
                  "bbox": [
                    -82.456066,
                    27.950046,
                    -82.455224,
                    27.950334
                  ]
                },
                {
                  "id": "(97928976, 97815628, 0)",
                  "type": "Feature",
                  "properties": {
                    "highway": "secondary",
                    "lanes": "4",
                    "length": 88.88499999999999,
                    "maxspeed": "unposted",
                    "name": "Pierce Street",
                    "oneway": true,
                    "osmid": 87659447,
                    "ref": null,
                    "style": {
                      "color": "black",
                      "fillColor": "black"
                    }
                  },
                  "geometry": {
                    "type": "LineString",
                    "coordinates": [
                      [
                        -82.455224,
                        27.950334
                      ],
                      [
                        -82.455184,
                        27.9502429
                      ],
                      [
                        -82.4549338,
                        27.9496767
                      ],
                      [
                        -82.454896,
                        27.949589
                      ]
                    ]
                  },
                  "bbox": [
                    -82.455224,
                    27.949589,
                    -82.454896,
                    27.950334
                  ]
                },
                {
                  "id": "(97928978, 1993753395, 0)",
                  "type": "Feature",
                  "properties": {
                    "highway": "residential",
                    "lanes": null,
                    "length": 172.229,
                    "maxspeed": null,
                    "name": "East Street",
                    "oneway": false,
                    "osmid": 25886894,
                    "ref": null,
                    "style": {
                      "color": "black",
                      "fillColor": "black"
                    }
                  },
                  "geometry": {
                    "type": "LineString",
                    "coordinates": [
                      [
                        -82.4534884,
                        27.9509345
                      ],
                      [
                        -82.4534498,
                        27.9508475
                      ],
                      [
                        -82.4532935,
                        27.9504951
                      ],
                      [
                        -82.4532555,
                        27.9504096
                      ],
                      [
                        -82.4532102,
                        27.9503075
                      ],
                      [
                        -82.4531017,
                        27.9500629
                      ],
                      [
                        -82.4530571,
                        27.9499623
                      ],
                      [
                        -82.453004,
                        27.9498427
                      ],
                      [
                        -82.4528703,
                        27.9495405
                      ],
                      [
                        -82.4528486,
                        27.9494924
                      ]
                    ]
                  },
                  "bbox": [
                    -82.4534884,
                    27.9494924,
                    -82.4528486,
                    27.9509345
                  ]
                },
                {
                  "id": "(97928978, 97927140, 0)",
                  "type": "Feature",
                  "properties": {
                    "highway": "tertiary",
                    "lanes": "4",
                    "length": 94.403,
                    "maxspeed": "30 mph",
                    "name": "East Twiggs Street",
                    "oneway": false,
                    "osmid": 87174879,
                    "ref": null,
                    "style": {
                      "color": "black",
                      "fillColor": "black"
                    }
                  },
                  "geometry": {
                    "type": "LineString",
                    "coordinates": [
                      [
                        -82.4534884,
                        27.9509345
                      ],
                      [
                        -82.4535775,
                        27.9509037
                      ],
                      [
                        -82.4536385,
                        27.9508819
                      ],
                      [
                        -82.4542746,
                        27.9506623
                      ],
                      [
                        -82.4543834,
                        27.9506251
                      ]
                    ]
                  },
                  "bbox": [
                    -82.4543834,
                    27.9506251,
                    -82.4534884,
                    27.9509345
                  ]
                },
                {
                  "id": "(97942623, 1870060119, 0)",
                  "type": "Feature",
                  "properties": {
                    "highway": "primary",
                    "lanes": "4",
                    "length": 80.713,
                    "maxspeed": "35 mph",
                    "name": "North Florida Avenue",
                    "oneway": true,
                    "osmid": 47222465,
                    "ref": "US 41 Business",
                    "style": {
                      "color": "black",
                      "fillColor": "black"
                    }
                  },
                  "geometry": {
                    "type": "LineString",
                    "coordinates": [
                      [
                        -82.4580774,
                        27.9502261
                      ],
                      [
                        -82.4581131,
                        27.9503037
                      ],
                      [
                        -82.4583524,
                        27.950864
                      ],
                      [
                        -82.458369,
                        27.9509047
                      ]
                    ]
                  },
                  "bbox": [
                    -82.458369,
                    27.9502261,
                    -82.4580774,
                    27.9509047
                  ]
                },
                {
                  "id": "(97942623, 97775165, 0)",
                  "type": "Feature",
                  "properties": {
                    "highway": "tertiary",
                    "lanes": "2",
                    "length": 88.52199999999999,
                    "maxspeed": null,
                    "name": "East Zack Street",
                    "oneway": false,
                    "osmid": [
                      909318437,
                      11000973
                    ],
                    "ref": null,
                    "style": {
                      "color": "black",
                      "fillColor": "black"
                    }
                  },
                  "geometry": {
                    "type": "LineString",
                    "coordinates": [
                      [
                        -82.4580774,
                        27.9502261
                      ],
                      [
                        -82.4579718,
                        27.9502555
                      ],
                      [
                        -82.4576558,
                        27.9503609
                      ],
                      [
                        -82.4573245,
                        27.9504773
                      ],
                      [
                        -82.4572355,
                        27.9505095
                      ]
                    ]
                  },
                  "bbox": [
                    -82.4580774,
                    27.9502261,
                    -82.4572355,
                    27.9505095
                  ]
                },
                {
                  "id": "(97942623, 97964888, 0)",
                  "type": "Feature",
                  "properties": {
                    "highway": "tertiary",
                    "lanes": "2",
                    "length": 86,
                    "maxspeed": null,
                    "name": "East Zack Street",
                    "oneway": false,
                    "osmid": 909318437,
                    "ref": null,
                    "style": {
                      "color": "black",
                      "fillColor": "black"
                    }
                  },
                  "geometry": {
                    "type": "LineString",
                    "coordinates": [
                      [
                        -82.4580774,
                        27.9502261
                      ],
                      [
                        -82.4581899,
                        27.9501866
                      ],
                      [
                        -82.4583363,
                        27.9501353
                      ],
                      [
                        -82.458423,
                        27.9501048
                      ],
                      [
                        -82.4588155,
                        27.9499671
                      ],
                      [
                        -82.4588911,
                        27.9499406
                      ]
                    ]
                  },
                  "bbox": [
                    -82.4588911,
                    27.9499406,
                    -82.4580774,
                    27.9502261
                  ]
                },
                {
                  "id": "(97964888, 97928972, 0)",
                  "type": "Feature",
                  "properties": {
                    "highway": "unclassified",
                    "lanes": "2",
                    "length": 88.943,
                    "maxspeed": null,
                    "name": "North Franklin Street",
                    "oneway": false,
                    "osmid": 203993896,
                    "ref": null,
                    "style": {
                      "color": "black",
                      "fillColor": "black"
                    }
                  },
                  "geometry": {
                    "type": "LineString",
                    "coordinates": [
                      [
                        -82.4588911,
                        27.9499406
                      ],
                      [
                        -82.4588616,
                        27.9498769
                      ],
                      [
                        -82.4587671,
                        27.9496575
                      ],
                      [
                        -82.4587586,
                        27.9496299
                      ],
                      [
                        -82.4587546,
                        27.9496014
                      ],
                      [
                        -82.458751,
                        27.9495446
                      ],
                      [
                        -82.4587489,
                        27.9495085
                      ],
                      [
                        -82.4587425,
                        27.9494792
                      ],
                      [
                        -82.4587326,
                        27.9494506
                      ],
                      [
                        -82.4586546,
                        27.9492665
                      ],
                      [
                        -82.458618,
                        27.9491829
                      ]
                    ]
                  },
                  "bbox": [
                    -82.4588911,
                    27.9491829,
                    -82.458618,
                    27.9499406
                  ]
                },
                {
                  "id": "(97964888, 1870060195, 0)",
                  "type": "Feature",
                  "properties": {
                    "highway": "unclassified",
                    "lanes": "2",
                    "length": 83.18299999999999,
                    "maxspeed": null,
                    "name": "North Franklin Street",
                    "oneway": false,
                    "osmid": 203993896,
                    "ref": null,
                    "style": {
                      "color": "black",
                      "fillColor": "black"
                    }
                  },
                  "geometry": {
                    "type": "LineString",
                    "coordinates": [
                      [
                        -82.4588911,
                        27.9499406
                      ],
                      [
                        -82.4589191,
                        27.9499995
                      ],
                      [
                        -82.4590101,
                        27.9502103
                      ],
                      [
                        -82.4590268,
                        27.9502419
                      ],
                      [
                        -82.4590496,
                        27.9502725
                      ],
                      [
                        -82.4590795,
                        27.9503014
                      ],
                      [
                        -82.4591034,
                        27.9503276
                      ],
                      [
                        -82.4591262,
                        27.9503574
                      ],
                      [
                        -82.459146,
                        27.950389
                      ],
                      [
                        -82.4591723,
                        27.9504504
                      ],
                      [
                        -82.4592266,
                        27.9505643
                      ],
                      [
                        -82.4592474,
                        27.950614
                      ]
                    ]
                  },
                  "bbox": [
                    -82.4592474,
                    27.9499406,
                    -82.4588911,
                    27.950614
                  ]
                },
                {
                  "id": "(97964888, 97942623, 0)",
                  "type": "Feature",
                  "properties": {
                    "highway": "tertiary",
                    "lanes": "2",
                    "length": 86,
                    "maxspeed": null,
                    "name": "East Zack Street",
                    "oneway": false,
                    "osmid": 909318437,
                    "ref": null,
                    "style": {
                      "color": "black",
                      "fillColor": "black"
                    }
                  },
                  "geometry": {
                    "type": "LineString",
                    "coordinates": [
                      [
                        -82.4588911,
                        27.9499406
                      ],
                      [
                        -82.4588155,
                        27.9499671
                      ],
                      [
                        -82.458423,
                        27.9501048
                      ],
                      [
                        -82.4583363,
                        27.9501353
                      ],
                      [
                        -82.4581899,
                        27.9501866
                      ],
                      [
                        -82.4580774,
                        27.9502261
                      ]
                    ]
                  },
                  "bbox": [
                    -82.4588911,
                    27.9499406,
                    -82.4580774,
                    27.9502261
                  ]
                },
                {
                  "id": "(97964888, 97925459, 0)",
                  "type": "Feature",
                  "properties": {
                    "highway": "tertiary",
                    "lanes": "2",
                    "length": 92.024,
                    "maxspeed": null,
                    "name": "East Zack Street",
                    "oneway": false,
                    "osmid": 909318437,
                    "ref": null,
                    "style": {
                      "color": "black",
                      "fillColor": "black"
                    }
                  },
                  "geometry": {
                    "type": "LineString",
                    "coordinates": [
                      [
                        -82.4588911,
                        27.9499406
                      ],
                      [
                        -82.4590041,
                        27.949901
                      ],
                      [
                        -82.4592746,
                        27.9498061
                      ],
                      [
                        -82.4596427,
                        27.949677
                      ],
                      [
                        -82.4597618,
                        27.9496351
                      ]
                    ]
                  },
                  "bbox": [
                    -82.4597618,
                    27.9496351,
                    -82.4588911,
                    27.9499406
                  ]
                },
                {
                  "id": "(97970376, 97927142, 0)",
                  "type": "Feature",
                  "properties": {
                    "highway": "tertiary",
                    "lanes": "2",
                    "length": 88.41799999999999,
                    "maxspeed": null,
                    "name": "East Zack Street",
                    "oneway": false,
                    "osmid": 11000973,
                    "ref": null,
                    "style": {
                      "color": "black",
                      "fillColor": "black"
                    }
                  },
                  "geometry": {
                    "type": "LineString",
                    "coordinates": [
                      [
                        -82.4555525,
                        27.9510838
                      ],
                      [
                        -82.4554404,
                        27.9511201
                      ],
                      [
                        -82.4552812,
                        27.9511717
                      ],
                      [
                        -82.455271,
                        27.951175
                      ],
                      [
                        -82.4548056,
                        27.9513284
                      ],
                      [
                        -82.4547077,
                        27.9513583
                      ]
                    ]
                  },
                  "bbox": [
                    -82.4555525,
                    27.9510838,
                    -82.4547077,
                    27.9513583
                  ]
                },
                {
                  "id": "(97970376, 97876153, 0)",
                  "type": "Feature",
                  "properties": {
                    "highway": "tertiary",
                    "lanes": "2",
                    "length": 88.47,
                    "maxspeed": null,
                    "name": "East Zack Street",
                    "oneway": false,
                    "osmid": 11000973,
                    "ref": null,
                    "style": {
                      "color": "black",
                      "fillColor": "black"
                    }
                  },
                  "geometry": {
                    "type": "LineString",
                    "coordinates": [
                      [
                        -82.4555525,
                        27.9510838
                      ],
                      [
                        -82.455661,
                        27.9510472
                      ],
                      [
                        -82.4557835,
                        27.9510054
                      ],
                      [
                        -82.4562786,
                        27.9508362
                      ],
                      [
                        -82.4563932,
                        27.9507983
                      ]
                    ]
                  },
                  "bbox": [
                    -82.4563932,
                    27.9507983,
                    -82.4555525,
                    27.9510838
                  ]
                },
                {
                  "id": "(97970376, 97928976, 0)",
                  "type": "Feature",
                  "properties": {
                    "highway": "secondary",
                    "lanes": "4",
                    "length": 89.40199999999999,
                    "maxspeed": "unposted",
                    "name": "Pierce Street",
                    "oneway": true,
                    "osmid": 87659447,
                    "ref": null,
                    "style": {
                      "color": "black",
                      "fillColor": "black"
                    }
                  },
                  "geometry": {
                    "type": "LineString",
                    "coordinates": [
                      [
                        -82.4555525,
                        27.9510838
                      ],
                      [
                        -82.4555163,
                        27.9509993
                      ],
                      [
                        -82.4554838,
                        27.9509268
                      ],
                      [
                        -82.4554803,
                        27.950919
                      ],
                      [
                        -82.4554742,
                        27.950905
                      ],
                      [
                        -82.4554711,
                        27.950898
                      ],
                      [
                        -82.4554215,
                        27.9507847
                      ],
                      [
                        -82.4554193,
                        27.9507798
                      ],
                      [
                        -82.4553762,
                        27.9506818
                      ],
                      [
                        -82.455348,
                        27.9506178
                      ],
                      [
                        -82.4552707,
                        27.9504419
                      ],
                      [
                        -82.455224,
                        27.950334
                      ]
                    ]
                  },
                  "bbox": [
                    -82.4555525,
                    27.950334,
                    -82.455224,
                    27.9510838
                  ]
                },
                {
                  "id": "(320166852, 320166965, 0)",
                  "type": "Feature",
                  "properties": {
                    "highway": "tertiary",
                    "lanes": "1",
                    "length": 87.89,
                    "maxspeed": null,
                    "name": "Polk Street",
                    "oneway": true,
                    "osmid": 176372706,
                    "ref": null,
                    "style": {
                      "color": "black",
                      "fillColor": "black"
                    }
                  },
                  "geometry": {
                    "type": "LineString",
                    "coordinates": [
                      [
                        -82.4550641,
                        27.9521639
                      ],
                      [
                        -82.4551635,
                        27.9521273
                      ],
                      [
                        -82.4552022,
                        27.9521142
                      ],
                      [
                        -82.4557987,
                        27.9519187
                      ],
                      [
                        -82.4559013,
                        27.9518851
                      ]
                    ]
                  },
                  "bbox": [
                    -82.4559013,
                    27.9518851,
                    -82.4550641,
                    27.9521639
                  ]
                },
                {
                  "id": "(320166965, 1870060124, 0)",
                  "type": "Feature",
                  "properties": {
                    "highway": "secondary",
                    "lanes": "4",
                    "length": 13.331,
                    "maxspeed": "unposted",
                    "name": "Pierce Street",
                    "oneway": true,
                    "osmid": 87659447,
                    "ref": null,
                    "style": {
                      "color": "black",
                      "fillColor": "black"
                    }
                  },
                  "geometry": {
                    "type": "LineString",
                    "coordinates": [
                      [
                        -82.4559013,
                        27.9518851
                      ],
                      [
                        -82.4558771,
                        27.9518297
                      ],
                      [
                        -82.4558526,
                        27.9517732
                      ]
                    ]
                  },
                  "bbox": [
                    -82.4559013,
                    27.9517732,
                    -82.4558526,
                    27.9518851
                  ]
                },
                {
                  "id": "(320166965, 1870060202, 0)",
                  "type": "Feature",
                  "properties": {
                    "highway": "tertiary",
                    "lanes": "1",
                    "length": 89.45599999999999,
                    "maxspeed": null,
                    "name": "Polk Street",
                    "oneway": true,
                    "osmid": 176372706,
                    "ref": null,
                    "style": {
                      "color": "black",
                      "fillColor": "black"
                    }
                  },
                  "geometry": {
                    "type": "LineString",
                    "coordinates": [
                      [
                        -82.4559013,
                        27.9518851
                      ],
                      [
                        -82.4560054,
                        27.9518487
                      ],
                      [
                        -82.4562309,
                        27.9517694
                      ],
                      [
                        -82.4566397,
                        27.9516379
                      ],
                      [
                        -82.4567536,
                        27.9516018
                      ]
                    ]
                  },
                  "bbox": [
                    -82.4567536,
                    27.9516018,
                    -82.4559013,
                    27.9518851
                  ]
                },
                {
                  "id": "(474972598, 97928974, 0)",
                  "type": "Feature",
                  "properties": {
                    "highway": "primary",
                    "lanes": "4",
                    "length": 89.021,
                    "maxspeed": "35 mph",
                    "name": "North Florida Avenue",
                    "oneway": true,
                    "osmid": 47222465,
                    "ref": "US 41 Business",
                    "style": {
                      "color": "black",
                      "fillColor": "black"
                    }
                  },
                  "geometry": {
                    "type": "LineString",
                    "coordinates": [
                      [
                        -82.4574238,
                        27.9487174
                      ],
                      [
                        -82.4574634,
                        27.9488104
                      ],
                      [
                        -82.4575684,
                        27.9490581
                      ],
                      [
                        -82.4577099,
                        27.949389
                      ],
                      [
                        -82.457742,
                        27.949467
                      ]
                    ]
                  },
                  "bbox": [
                    -82.457742,
                    27.9487174,
                    -82.4574238,
                    27.949467
                  ]
                },
                {
                  "id": "(474972598, 97775158, 0)",
                  "type": "Feature",
                  "properties": {
                    "highway": "tertiary",
                    "lanes": "2",
                    "length": 88.689,
                    "maxspeed": null,
                    "name": "East Madison Street",
                    "oneway": false,
                    "osmid": 932449456,
                    "ref": null,
                    "style": {
                      "color": "black",
                      "fillColor": "black"
                    }
                  },
                  "geometry": {
                    "type": "LineString",
                    "coordinates": [
                      [
                        -82.4574238,
                        27.9487174
                      ],
                      [
                        -82.4573078,
                        27.9487587
                      ],
                      [
                        -82.456919,
                        27.948892
                      ],
                      [
                        -82.4566673,
                        27.9489783
                      ],
                      [
                        -82.4565827,
                        27.9490074
                      ]
                    ]
                  },
                  "bbox": [
                    -82.4574238,
                    27.9487174,
                    -82.4565827,
                    27.9490074
                  ]
                },
                {
                  "id": "(474972598, 975495315, 0)",
                  "type": "Feature",
                  "properties": {
                    "highway": "tertiary",
                    "lanes": "2",
                    "length": 85.702,
                    "maxspeed": null,
                    "name": "East Madison Street",
                    "oneway": false,
                    "osmid": 932449456,
                    "ref": null,
                    "style": {
                      "color": "black",
                      "fillColor": "black"
                    }
                  },
                  "geometry": {
                    "type": "LineString",
                    "coordinates": [
                      [
                        -82.4574238,
                        27.9487174
                      ],
                      [
                        -82.4575218,
                        27.9486836
                      ],
                      [
                        -82.457683,
                        27.948628
                      ],
                      [
                        -82.4581553,
                        27.9484652
                      ],
                      [
                        -82.4582366,
                        27.9484372
                      ]
                    ]
                  },
                  "bbox": [
                    -82.4582366,
                    27.9484372,
                    -82.4574238,
                    27.9487174
                  ]
                },
                {
                  "id": "(942206728, 97871014, 0)",
                  "type": "Feature",
                  "properties": {
                    "highway": "primary",
                    "lanes": "4",
                    "length": 88.11,
                    "maxspeed": "30 mph",
                    "name": "East Kennedy Boulevard",
                    "oneway": true,
                    "osmid": 645485053,
                    "ref": "US 41 Business;FL 60",
                    "style": {
                      "color": "black",
                      "fillColor": "black"
                    }
                  },
                  "geometry": {
                    "type": "LineString",
                    "coordinates": [
                      [
                        -82.4545754,
                        27.9488521
                      ],
                      [
                        -82.4546862,
                        27.9488135
                      ],
                      [
                        -82.4552984,
                        27.9486004
                      ],
                      [
                        -82.4554104,
                        27.9485626
                      ]
                    ]
                  },
                  "bbox": [
                    -82.4554104,
                    27.9485626,
                    -82.4545754,
                    27.9488521
                  ]
                },
                {
                  "id": "(975495315, 975495316, 0)",
                  "type": "Feature",
                  "properties": {
                    "highway": "tertiary",
                    "lanes": "2",
                    "length": 90.70299999999999,
                    "maxspeed": null,
                    "name": "East Madison Street",
                    "oneway": false,
                    "osmid": 10974153,
                    "ref": null,
                    "style": {
                      "color": "black",
                      "fillColor": "black"
                    }
                  },
                  "geometry": {
                    "type": "LineString",
                    "coordinates": [
                      [
                        -82.4582366,
                        27.9484372
                      ],
                      [
                        -82.4583631,
                        27.9483936
                      ],
                      [
                        -82.4589952,
                        27.9481755
                      ],
                      [
                        -82.4590968,
                        27.9481406
                      ]
                    ]
                  },
                  "bbox": [
                    -82.4590968,
                    27.9481406,
                    -82.4582366,
                    27.9484372
                  ]
                },
                {
                  "id": "(975495315, 97928972, 0)",
                  "type": "Feature",
                  "properties": {
                    "highway": "unclassified",
                    "lanes": "2",
                    "length": 91.49600000000001,
                    "maxspeed": null,
                    "name": "North Franklin Street",
                    "oneway": false,
                    "osmid": 203993896,
                    "ref": null,
                    "style": {
                      "color": "black",
                      "fillColor": "black"
                    }
                  },
                  "geometry": {
                    "type": "LineString",
                    "coordinates": [
                      [
                        -82.4582366,
                        27.9484372
                      ],
                      [
                        -82.4582772,
                        27.9485287
                      ],
                      [
                        -82.4583676,
                        27.9487325
                      ],
                      [
                        -82.4583808,
                        27.9487549
                      ],
                      [
                        -82.4583966,
                        27.9487773
                      ],
                      [
                        -82.4584318,
                        27.9488181
                      ],
                      [
                        -82.4584639,
                        27.9488534
                      ],
                      [
                        -82.4584889,
                        27.9488887
                      ],
                      [
                        -82.4585054,
                        27.948917
                      ],
                      [
                        -82.4585201,
                        27.9489467
                      ],
                      [
                        -82.4585645,
                        27.949054
                      ],
                      [
                        -82.4585839,
                        27.9490963
                      ],
                      [
                        -82.458618,
                        27.9491829
                      ]
                    ]
                  },
                  "bbox": [
                    -82.458618,
                    27.9484372,
                    -82.4582366,
                    27.9491829
                  ]
                },
                {
                  "id": "(975495315, 474972598, 0)",
                  "type": "Feature",
                  "properties": {
                    "highway": "tertiary",
                    "lanes": "2",
                    "length": 85.702,
                    "maxspeed": null,
                    "name": "East Madison Street",
                    "oneway": false,
                    "osmid": 932449456,
                    "ref": null,
                    "style": {
                      "color": "black",
                      "fillColor": "black"
                    }
                  },
                  "geometry": {
                    "type": "LineString",
                    "coordinates": [
                      [
                        -82.4582366,
                        27.9484372
                      ],
                      [
                        -82.4581553,
                        27.9484652
                      ],
                      [
                        -82.457683,
                        27.948628
                      ],
                      [
                        -82.4575218,
                        27.9486836
                      ],
                      [
                        -82.4574238,
                        27.9487174
                      ]
                    ]
                  },
                  "bbox": [
                    -82.4582366,
                    27.9484372,
                    -82.4574238,
                    27.9487174
                  ]
                },
                {
                  "id": "(975495315, 97871012, 0)",
                  "type": "Feature",
                  "properties": {
                    "highway": "unclassified",
                    "lanes": "2",
                    "length": 87.839,
                    "maxspeed": null,
                    "name": "North Franklin Street",
                    "oneway": false,
                    "osmid": 932449457,
                    "ref": null,
                    "style": {
                      "color": "black",
                      "fillColor": "black"
                    }
                  },
                  "geometry": {
                    "type": "LineString",
                    "coordinates": [
                      [
                        -82.4582366,
                        27.9484372
                      ],
                      [
                        -82.4582015,
                        27.9483577
                      ],
                      [
                        -82.4581241,
                        27.9481834
                      ],
                      [
                        -82.4581091,
                        27.9481464
                      ],
                      [
                        -82.4580971,
                        27.9481095
                      ],
                      [
                        -82.4580881,
                        27.9480707
                      ],
                      [
                        -82.4580826,
                        27.9480509
                      ],
                      [
                        -82.4580761,
                        27.9480311
                      ],
                      [
                        -82.4579917,
                        27.9478282
                      ],
                      [
                        -82.4579704,
                        27.9477827
                      ],
                      [
                        -82.4579291,
                        27.9476964
                      ]
                    ]
                  },
                  "bbox": [
                    -82.4582366,
                    27.9476964,
                    -82.4579291,
                    27.9484372
                  ]
                },
                {
                  "id": "(975495316, 975495315, 0)",
                  "type": "Feature",
                  "properties": {
                    "highway": "tertiary",
                    "lanes": "2",
                    "length": 90.70299999999999,
                    "maxspeed": null,
                    "name": "East Madison Street",
                    "oneway": false,
                    "osmid": 10974153,
                    "ref": null,
                    "style": {
                      "color": "black",
                      "fillColor": "black"
                    }
                  },
                  "geometry": {
                    "type": "LineString",
                    "coordinates": [
                      [
                        -82.4590968,
                        27.9481406
                      ],
                      [
                        -82.4589952,
                        27.9481755
                      ],
                      [
                        -82.4583631,
                        27.9483936
                      ],
                      [
                        -82.4582366,
                        27.9484372
                      ]
                    ]
                  },
                  "bbox": [
                    -82.4590968,
                    27.9481406,
                    -82.4582366,
                    27.9484372
                  ]
                },
                {
                  "id": "(975495316, 97871010, 0)",
                  "type": "Feature",
                  "properties": {
                    "highway": "primary",
                    "lanes": "3",
                    "length": 88.31800000000001,
                    "maxspeed": "30 mph",
                    "name": "North Tampa Street",
                    "oneway": true,
                    "osmid": 190333972,
                    "ref": "US 41 Business",
                    "style": {
                      "color": "black",
                      "fillColor": "black"
                    }
                  },
                  "geometry": {
                    "type": "LineString",
                    "coordinates": [
                      [
                        -82.4590968,
                        27.9481406
                      ],
                      [
                        -82.459055,
                        27.9480437
                      ],
                      [
                        -82.4588157,
                        27.947502
                      ],
                      [
                        -82.4587699,
                        27.9474007
                      ]
                    ]
                  },
                  "bbox": [
                    -82.4590968,
                    27.9474007,
                    -82.4587699,
                    27.9481406
                  ]
                },
                {
                  "id": "(1870060109, 1870060165, 0)",
                  "type": "Feature",
                  "properties": {
                    "highway": "residential",
                    "lanes": "2",
                    "length": 13.901,
                    "maxspeed": null,
                    "name": "North Marion Street",
                    "oneway": false,
                    "osmid": 10970142,
                    "ref": null,
                    "style": {
                      "color": "black",
                      "fillColor": "black"
                    }
                  },
                  "geometry": {
                    "type": "LineString",
                    "coordinates": [
                      [
                        -82.4575877,
                        27.9513109
                      ],
                      [
                        -82.4575607,
                        27.95125
                      ],
                      [
                        -82.4575361,
                        27.9511945
                      ]
                    ]
                  },
                  "bbox": [
                    -82.4575877,
                    27.9511945,
                    -82.4575361,
                    27.9513109
                  ]
                },
                {
                  "id": "(1870060109, 1870060232, 0)",
                  "type": "Feature",
                  "properties": {
                    "highway": "tertiary",
                    "lanes": "1",
                    "length": 88.00200000000001,
                    "maxspeed": null,
                    "name": "Polk Street",
                    "oneway": true,
                    "osmid": 176372706,
                    "ref": null,
                    "style": {
                      "color": "black",
                      "fillColor": "black"
                    }
                  },
                  "geometry": {
                    "type": "LineString",
                    "coordinates": [
                      [
                        -82.4575877,
                        27.9513109
                      ],
                      [
                        -82.4576852,
                        27.9512752
                      ],
                      [
                        -82.4583225,
                        27.9510399
                      ],
                      [
                        -82.4584148,
                        27.9510067
                      ]
                    ]
                  },
                  "bbox": [
                    -82.4584148,
                    27.9510067,
                    -82.4575877,
                    27.9513109
                  ]
                },
                {
                  "id": "(1870060119, 1870060232, 0)",
                  "type": "Feature",
                  "properties": {
                    "highway": "primary",
                    "lanes": "4",
                    "length": 12.204,
                    "maxspeed": "35 mph",
                    "name": "North Florida Avenue",
                    "oneway": true,
                    "osmid": 47222465,
                    "ref": "US 41 Business",
                    "style": {
                      "color": "black",
                      "fillColor": "black"
                    }
                  },
                  "geometry": {
                    "type": "LineString",
                    "coordinates": [
                      [
                        -82.458369,
                        27.9509047
                      ],
                      [
                        -82.4583964,
                        27.9509632
                      ],
                      [
                        -82.4584148,
                        27.9510067
                      ]
                    ]
                  },
                  "bbox": [
                    -82.4584148,
                    27.9509047,
                    -82.458369,
                    27.9510067
                  ]
                },
                {
                  "id": "(1870060119, 1870060165, 0)",
                  "type": "Feature",
                  "properties": {
                    "highway": "tertiary",
                    "lanes": null,
                    "length": 87.92899999999999,
                    "maxspeed": null,
                    "name": "Polk Street",
                    "oneway": true,
                    "osmid": 794700053,
                    "ref": null,
                    "style": {
                      "color": "black",
                      "fillColor": "black"
                    }
                  },
                  "geometry": {
                    "type": "LineString",
                    "coordinates": [
                      [
                        -82.458369,
                        27.9509047
                      ],
                      [
                        -82.4582745,
                        27.9509382
                      ],
                      [
                        -82.4576328,
                        27.9511608
                      ],
                      [
                        -82.4575361,
                        27.9511945
                      ]
                    ]
                  },
                  "bbox": [
                    -82.458369,
                    27.9509047,
                    -82.4575361,
                    27.9511945
                  ]
                },
                {
                  "id": "(1870060124, 97970376, 0)",
                  "type": "Feature",
                  "properties": {
                    "highway": "secondary",
                    "lanes": "4",
                    "length": 82.133,
                    "maxspeed": "unposted",
                    "name": "Pierce Street",
                    "oneway": true,
                    "osmid": 87659447,
                    "ref": null,
                    "style": {
                      "color": "black",
                      "fillColor": "black"
                    }
                  },
                  "geometry": {
                    "type": "LineString",
                    "coordinates": [
                      [
                        -82.4558526,
                        27.9517732
                      ],
                      [
                        -82.4558324,
                        27.9517233
                      ],
                      [
                        -82.4557976,
                        27.9516468
                      ],
                      [
                        -82.4555928,
                        27.9511759
                      ],
                      [
                        -82.4555525,
                        27.9510838
                      ]
                    ]
                  },
                  "bbox": [
                    -82.4558526,
                    27.9510838,
                    -82.4555525,
                    27.9517732
                  ]
                },
                {
                  "id": "(1870060124, 1870060205, 0)",
                  "type": "Feature",
                  "properties": {
                    "highway": "tertiary",
                    "lanes": null,
                    "length": 87.944,
                    "maxspeed": null,
                    "name": "Polk Street",
                    "oneway": true,
                    "osmid": 794700053,
                    "ref": null,
                    "style": {
                      "color": "black",
                      "fillColor": "black"
                    }
                  },
                  "geometry": {
                    "type": "LineString",
                    "coordinates": [
                      [
                        -82.4558526,
                        27.9517732
                      ],
                      [
                        -82.4557482,
                        27.9518093
                      ],
                      [
                        -82.4556466,
                        27.9518436
                      ],
                      [
                        -82.4553408,
                        27.9519479
                      ],
                      [
                        -82.4551136,
                        27.9520285
                      ],
                      [
                        -82.4550191,
                        27.952062
                      ]
                    ]
                  },
                  "bbox": [
                    -82.4558526,
                    27.9517732,
                    -82.4550191,
                    27.952062
                  ]
                },
                {
                  "id": "(1870060133, 1870060187, 0)",
                  "type": "Feature",
                  "properties": {
                    "highway": "tertiary",
                    "lanes": "1",
                    "length": 86.603,
                    "maxspeed": null,
                    "name": "Polk Street",
                    "oneway": true,
                    "osmid": 176372706,
                    "ref": null,
                    "style": {
                      "color": "black",
                      "fillColor": "black"
                    }
                  },
                  "geometry": {
                    "type": "LineString",
                    "coordinates": [
                      [
                        -82.4592888,
                        27.9507079
                      ],
                      [
                        -82.4593685,
                        27.950681
                      ],
                      [
                        -82.4600009,
                        27.9504676
                      ],
                      [
                        -82.4601125,
                        27.9504301
                      ]
                    ]
                  },
                  "bbox": [
                    -82.4601125,
                    27.9504301,
                    -82.4592888,
                    27.9507079
                  ]
                },
                {
                  "id": "(1870060133, 1870060195, 0)",
                  "type": "Feature",
                  "properties": {
                    "highway": "unclassified",
                    "lanes": "2",
                    "length": 11.207999999999998,
                    "maxspeed": null,
                    "name": "North Franklin Street",
                    "oneway": false,
                    "osmid": 203993896,
                    "ref": null,
                    "style": {
                      "color": "black",
                      "fillColor": "black"
                    }
                  },
                  "geometry": {
                    "type": "LineString",
                    "coordinates": [
                      [
                        -82.4592888,
                        27.9507079
                      ],
                      [
                        -82.4592709,
                        27.950664
                      ],
                      [
                        -82.4592474,
                        27.950614
                      ]
                    ]
                  },
                  "bbox": [
                    -82.4592888,
                    27.950614,
                    -82.4592474,
                    27.9507079
                  ]
                },
                {
                  "id": "(1870060165, 1870060109, 0)",
                  "type": "Feature",
                  "properties": {
                    "highway": "residential",
                    "lanes": "2",
                    "length": 13.901,
                    "maxspeed": null,
                    "name": "North Marion Street",
                    "oneway": false,
                    "osmid": 10970142,
                    "ref": null,
                    "style": {
                      "color": "black",
                      "fillColor": "black"
                    }
                  },
                  "geometry": {
                    "type": "LineString",
                    "coordinates": [
                      [
                        -82.4575361,
                        27.9511945
                      ],
                      [
                        -82.4575607,
                        27.95125
                      ],
                      [
                        -82.4575877,
                        27.9513109
                      ]
                    ]
                  },
                  "bbox": [
                    -82.4575877,
                    27.9511945,
                    -82.4575361,
                    27.9513109
                  ]
                },
                {
                  "id": "(1870060165, 97775165, 0)",
                  "type": "Feature",
                  "properties": {
                    "highway": "residential",
                    "lanes": "2",
                    "length": 81.691,
                    "maxspeed": null,
                    "name": "North Marion Street",
                    "oneway": false,
                    "osmid": 10970142,
                    "ref": null,
                    "style": {
                      "color": "black",
                      "fillColor": "black"
                    }
                  },
                  "geometry": {
                    "type": "LineString",
                    "coordinates": [
                      [
                        -82.4575361,
                        27.9511945
                      ],
                      [
                        -82.4575148,
                        27.9511461
                      ],
                      [
                        -82.457274,
                        27.950597
                      ],
                      [
                        -82.4572355,
                        27.9505095
                      ]
                    ]
                  },
                  "bbox": [
                    -82.4575361,
                    27.9505095,
                    -82.4572355,
                    27.9511945
                  ]
                },
                {
                  "id": "(1870060165, 1870060169, 0)",
                  "type": "Feature",
                  "properties": {
                    "highway": "tertiary",
                    "lanes": null,
                    "length": 88.07300000000001,
                    "maxspeed": null,
                    "name": "Polk Street",
                    "oneway": true,
                    "osmid": 794700053,
                    "ref": null,
                    "style": {
                      "color": "black",
                      "fillColor": "black"
                    }
                  },
                  "geometry": {
                    "type": "LineString",
                    "coordinates": [
                      [
                        -82.4575361,
                        27.9511945
                      ],
                      [
                        -82.4574457,
                        27.9512261
                      ],
                      [
                        -82.456806,
                        27.9514496
                      ],
                      [
                        -82.4567021,
                        27.9514854
                      ]
                    ]
                  },
                  "bbox": [
                    -82.4575361,
                    27.9511945,
                    -82.4567021,
                    27.9514854
                  ]
                },
                {
                  "id": "(1870060169, 97876153, 0)",
                  "type": "Feature",
                  "properties": {
                    "highway": "tertiary",
                    "lanes": "4",
                    "length": 82.20700000000001,
                    "maxspeed": null,
                    "name": "North Morgan Street",
                    "oneway": false,
                    "osmid": 168522075,
                    "ref": null,
                    "style": {
                      "color": "black",
                      "fillColor": "black"
                    }
                  },
                  "geometry": {
                    "type": "LineString",
                    "coordinates": [
                      [
                        -82.4567021,
                        27.9514854
                      ],
                      [
                        -82.4566788,
                        27.9514358
                      ],
                      [
                        -82.4564338,
                        27.9508886
                      ],
                      [
                        -82.4563932,
                        27.9507983
                      ]
                    ]
                  },
                  "bbox": [
                    -82.4567021,
                    27.9507983,
                    -82.4563932,
                    27.9514854
                  ]
                },
                {
                  "id": "(1870060169, 1870060202, 0)",
                  "type": "Feature",
                  "properties": {
                    "highway": "tertiary",
                    "lanes": "4",
                    "length": 13.899000000000001,
                    "maxspeed": null,
                    "name": "North Morgan Street",
                    "oneway": false,
                    "osmid": [
                      87659361,
                      168522075
                    ],
                    "ref": null,
                    "style": {
                      "color": "black",
                      "fillColor": "black"
                    }
                  },
                  "geometry": {
                    "type": "LineString",
                    "coordinates": [
                      [
                        -82.4567021,
                        27.9514854
                      ],
                      [
                        -82.4567267,
                        27.9515381
                      ],
                      [
                        -82.4567536,
                        27.9516018
                      ]
                    ]
                  },
                  "bbox": [
                    -82.4567536,
                    27.9514854,
                    -82.4567021,
                    27.9516018
                  ]
                },
                {
                  "id": "(1870060169, 1870060124, 0)",
                  "type": "Feature",
                  "properties": {
                    "highway": "tertiary",
                    "lanes": null,
                    "length": 89.36599999999999,
                    "maxspeed": null,
                    "name": "Polk Street",
                    "oneway": true,
                    "osmid": 794700053,
                    "ref": null,
                    "style": {
                      "color": "black",
                      "fillColor": "black"
                    }
                  },
                  "geometry": {
                    "type": "LineString",
                    "coordinates": [
                      [
                        -82.4567021,
                        27.9514854
                      ],
                      [
                        -82.4565897,
                        27.9515237
                      ],
                      [
                        -82.4562147,
                        27.9516505
                      ],
                      [
                        -82.4560882,
                        27.9516934
                      ],
                      [
                        -82.456076,
                        27.9516975
                      ],
                      [
                        -82.4559583,
                        27.9517374
                      ],
                      [
                        -82.4558526,
                        27.9517732
                      ]
                    ]
                  },
                  "bbox": [
                    -82.4567021,
                    27.9514854,
                    -82.4558526,
                    27.9517732
                  ]
                },
                {
                  "id": "(1870060182, 97925459, 0)",
                  "type": "Feature",
                  "properties": {
                    "highway": "primary",
                    "lanes": "3",
                    "length": 84.09299999999999,
                    "maxspeed": "30 mph",
                    "name": "North Tampa Street",
                    "oneway": true,
                    "osmid": 190333972,
                    "ref": "US 41 Business",
                    "style": {
                      "color": "black",
                      "fillColor": "black"
                    }
                  },
                  "geometry": {
                    "type": "LineString",
                    "coordinates": [
                      [
                        -82.4600751,
                        27.9503389
                      ],
                      [
                        -82.4600513,
                        27.9502867
                      ],
                      [
                        -82.4599088,
                        27.9499687
                      ],
                      [
                        -82.4598512,
                        27.949838
                      ],
                      [
                        -82.4598006,
                        27.949723
                      ],
                      [
                        -82.4597618,
                        27.9496351
                      ]
                    ]
                  },
                  "bbox": [
                    -82.4600751,
                    27.9496351,
                    -82.4597618,
                    27.9503389
                  ]
                },
                {
                  "id": "(1870060182, 1870060195, 0)",
                  "type": "Feature",
                  "properties": {
                    "highway": "tertiary",
                    "lanes": null,
                    "length": 86.866,
                    "maxspeed": null,
                    "name": "Polk Street",
                    "oneway": true,
                    "osmid": 794700053,
                    "ref": null,
                    "style": {
                      "color": "black",
                      "fillColor": "black"
                    }
                  },
                  "geometry": {
                    "type": "LineString",
                    "coordinates": [
                      [
                        -82.4600751,
                        27.9503389
                      ],
                      [
                        -82.4599616,
                        27.9503766
                      ],
                      [
                        -82.4596037,
                        27.9504955
                      ],
                      [
                        -82.4593268,
                        27.9505874
                      ],
                      [
                        -82.4592474,
                        27.950614
                      ]
                    ]
                  },
                  "bbox": [
                    -82.4600751,
                    27.9503389,
                    -82.4592474,
                    27.950614
                  ]
                },
                {
                  "id": "(1870060187, 1870060182, 0)",
                  "type": "Feature",
                  "properties": {
                    "highway": "primary",
                    "lanes": "3",
                    "length": 10.786999999999999,
                    "maxspeed": "30 mph",
                    "name": "North Tampa Street",
                    "oneway": true,
                    "osmid": 190333972,
                    "ref": "US 41 Business",
                    "style": {
                      "color": "black",
                      "fillColor": "black"
                    }
                  },
                  "geometry": {
                    "type": "LineString",
                    "coordinates": [
                      [
                        -82.4601125,
                        27.9504301
                      ],
                      [
                        -82.460094,
                        27.950383
                      ],
                      [
                        -82.4600751,
                        27.9503389
                      ]
                    ]
                  },
                  "bbox": [
                    -82.4601125,
                    27.9503389,
                    -82.4600751,
                    27.9504301
                  ]
                },
                {
                  "id": "(1870060195, 97964888, 0)",
                  "type": "Feature",
                  "properties": {
                    "highway": "unclassified",
                    "lanes": "2",
                    "length": 83.183,
                    "maxspeed": null,
                    "name": "North Franklin Street",
                    "oneway": false,
                    "osmid": 203993896,
                    "ref": null,
                    "style": {
                      "color": "black",
                      "fillColor": "black"
                    }
                  },
                  "geometry": {
                    "type": "LineString",
                    "coordinates": [
                      [
                        -82.4592474,
                        27.950614
                      ],
                      [
                        -82.4592266,
                        27.9505643
                      ],
                      [
                        -82.4591723,
                        27.9504504
                      ],
                      [
                        -82.459146,
                        27.950389
                      ],
                      [
                        -82.4591262,
                        27.9503574
                      ],
                      [
                        -82.4591034,
                        27.9503276
                      ],
                      [
                        -82.4590795,
                        27.9503014
                      ],
                      [
                        -82.4590496,
                        27.9502725
                      ],
                      [
                        -82.4590268,
                        27.9502419
                      ],
                      [
                        -82.4590101,
                        27.9502103
                      ],
                      [
                        -82.4589191,
                        27.9499995
                      ],
                      [
                        -82.4588911,
                        27.9499406
                      ]
                    ]
                  },
                  "bbox": [
                    -82.4592474,
                    27.9499406,
                    -82.4588911,
                    27.950614
                  ]
                },
                {
                  "id": "(1870060195, 1870060133, 0)",
                  "type": "Feature",
                  "properties": {
                    "highway": "unclassified",
                    "lanes": "2",
                    "length": 11.207999999999998,
                    "maxspeed": null,
                    "name": "North Franklin Street",
                    "oneway": false,
                    "osmid": 203993896,
                    "ref": null,
                    "style": {
                      "color": "black",
                      "fillColor": "black"
                    }
                  },
                  "geometry": {
                    "type": "LineString",
                    "coordinates": [
                      [
                        -82.4592474,
                        27.950614
                      ],
                      [
                        -82.4592709,
                        27.950664
                      ],
                      [
                        -82.4592888,
                        27.9507079
                      ]
                    ]
                  },
                  "bbox": [
                    -82.4592888,
                    27.950614,
                    -82.4592474,
                    27.9507079
                  ]
                },
                {
                  "id": "(1870060195, 1870060119, 0)",
                  "type": "Feature",
                  "properties": {
                    "highway": "tertiary",
                    "lanes": null,
                    "length": 92.136,
                    "maxspeed": null,
                    "name": "Polk Street",
                    "oneway": true,
                    "osmid": 794700053,
                    "ref": null,
                    "style": {
                      "color": "black",
                      "fillColor": "black"
                    }
                  },
                  "geometry": {
                    "type": "LineString",
                    "coordinates": [
                      [
                        -82.4592474,
                        27.950614
                      ],
                      [
                        -82.4591109,
                        27.9506586
                      ],
                      [
                        -82.4584987,
                        27.950862
                      ],
                      [
                        -82.4584846,
                        27.9508667
                      ],
                      [
                        -82.458369,
                        27.9509047
                      ]
                    ]
                  },
                  "bbox": [
                    -82.4592474,
                    27.950614,
                    -82.458369,
                    27.9509047
                  ]
                },
                {
                  "id": "(1870060202, 1870060169, 0)",
                  "type": "Feature",
                  "properties": {
                    "highway": "tertiary",
                    "lanes": "4",
                    "length": 13.899000000000001,
                    "maxspeed": null,
                    "name": "North Morgan Street",
                    "oneway": false,
                    "osmid": [
                      87659361,
                      168522075
                    ],
                    "ref": null,
                    "style": {
                      "color": "black",
                      "fillColor": "black"
                    }
                  },
                  "geometry": {
                    "type": "LineString",
                    "coordinates": [
                      [
                        -82.4567536,
                        27.9516018
                      ],
                      [
                        -82.4567267,
                        27.9515381
                      ],
                      [
                        -82.4567021,
                        27.9514854
                      ]
                    ]
                  },
                  "bbox": [
                    -82.4567536,
                    27.9514854,
                    -82.4567021,
                    27.9516018
                  ]
                },
                {
                  "id": "(1870060202, 1870060109, 0)",
                  "type": "Feature",
                  "properties": {
                    "highway": "tertiary",
                    "lanes": "1",
                    "length": 88.084,
                    "maxspeed": null,
                    "name": "Polk Street",
                    "oneway": true,
                    "osmid": 176372706,
                    "ref": null,
                    "style": {
                      "color": "black",
                      "fillColor": "black"
                    }
                  },
                  "geometry": {
                    "type": "LineString",
                    "coordinates": [
                      [
                        -82.4567536,
                        27.9516018
                      ],
                      [
                        -82.4568626,
                        27.9515631
                      ],
                      [
                        -82.4569843,
                        27.9515208
                      ],
                      [
                        -82.4571724,
                        27.9514554
                      ],
                      [
                        -82.4575007,
                        27.9513412
                      ],
                      [
                        -82.4575877,
                        27.9513109
                      ]
                    ]
                  },
                  "bbox": [
                    -82.4575877,
                    27.9513109,
                    -82.4567536,
                    27.9516018
                  ]
                },
                {
                  "id": "(1870060205, 97927142, 0)",
                  "type": "Feature",
                  "properties": {
                    "highway": "secondary",
                    "lanes": "4",
                    "length": 84.015,
                    "maxspeed": "30 mph",
                    "name": "North Jefferson Street",
                    "oneway": false,
                    "osmid": 117012652,
                    "ref": null,
                    "style": {
                      "color": "black",
                      "fillColor": "black"
                    }
                  },
                  "geometry": {
                    "type": "LineString",
                    "coordinates": [
                      [
                        -82.4550191,
                        27.952062
                      ],
                      [
                        -82.4549705,
                        27.9519521
                      ],
                      [
                        -82.4549634,
                        27.951936
                      ],
                      [
                        -82.4548623,
                        27.9517075
                      ],
                      [
                        -82.4547478,
                        27.9514488
                      ],
                      [
                        -82.4547077,
                        27.9513583
                      ]
                    ]
                  },
                  "bbox": [
                    -82.4550191,
                    27.9513583,
                    -82.4547077,
                    27.952062
                  ]
                },
                {
                  "id": "(1870060205, 320166852, 0)",
                  "type": "Feature",
                  "properties": {
                    "highway": "secondary",
                    "lanes": "4",
                    "length": 12.161999999999999,
                    "maxspeed": "30 mph",
                    "name": "North Jefferson Street",
                    "oneway": true,
                    "osmid": 778560397,
                    "ref": null,
                    "style": {
                      "color": "black",
                      "fillColor": "black"
                    }
                  },
                  "geometry": {
                    "type": "LineString",
                    "coordinates": [
                      [
                        -82.4550191,
                        27.952062
                      ],
                      [
                        -82.4550436,
                        27.9521179
                      ],
                      [
                        -82.4550641,
                        27.9521639
                      ]
                    ]
                  },
                  "bbox": [
                    -82.4550641,
                    27.952062,
                    -82.4550191,
                    27.9521639
                  ]
                },
                {
                  "id": "(1870060232, 1870060133, 0)",
                  "type": "Feature",
                  "properties": {
                    "highway": "tertiary",
                    "lanes": "1",
                    "length": 92.05499999999999,
                    "maxspeed": null,
                    "name": "Polk Street",
                    "oneway": true,
                    "osmid": 176372706,
                    "ref": null,
                    "style": {
                      "color": "black",
                      "fillColor": "black"
                    }
                  },
                  "geometry": {
                    "type": "LineString",
                    "coordinates": [
                      [
                        -82.4584148,
                        27.9510067
                      ],
                      [
                        -82.4585298,
                        27.9509677
                      ],
                      [
                        -82.4591559,
                        27.9507556
                      ],
                      [
                        -82.4592888,
                        27.9507079
                      ]
                    ]
                  },
                  "bbox": [
                    -82.4592888,
                    27.9507079,
                    -82.4584148,
                    27.9510067
                  ]
                },
                {
                  "id": "(1993753395, 97928978, 0)",
                  "type": "Feature",
                  "properties": {
                    "highway": "residential",
                    "lanes": null,
                    "length": 172.22900000000004,
                    "maxspeed": null,
                    "name": "East Street",
                    "oneway": false,
                    "osmid": 25886894,
                    "ref": null,
                    "style": {
                      "color": "black",
                      "fillColor": "black"
                    }
                  },
                  "geometry": {
                    "type": "LineString",
                    "coordinates": [
                      [
                        -82.4528486,
                        27.9494924
                      ],
                      [
                        -82.4528703,
                        27.9495405
                      ],
                      [
                        -82.453004,
                        27.9498427
                      ],
                      [
                        -82.4530571,
                        27.9499623
                      ],
                      [
                        -82.4531017,
                        27.9500629
                      ],
                      [
                        -82.4532102,
                        27.9503075
                      ],
                      [
                        -82.4532555,
                        27.9504096
                      ],
                      [
                        -82.4532935,
                        27.9504951
                      ],
                      [
                        -82.4534498,
                        27.9508475
                      ],
                      [
                        -82.4534884,
                        27.9509345
                      ]
                    ]
                  },
                  "bbox": [
                    -82.4534884,
                    27.9494924,
                    -82.4528486,
                    27.9509345
                  ]
                },
                {
                  "id": "(1993753395, 1993753422, 0)",
                  "type": "Feature",
                  "properties": {
                    "highway": "primary_link",
                    "lanes": "2",
                    "length": 17.576,
                    "maxspeed": null,
                    "name": null,
                    "oneway": true,
                    "osmid": 203993931,
                    "ref": null,
                    "style": {
                      "color": "black",
                      "fillColor": "black"
                    }
                  },
                  "geometry": {
                    "type": "LineString",
                    "coordinates": [
                      [
                        -82.4528486,
                        27.9494924
                      ],
                      [
                        -82.452903,
                        27.9494719
                      ],
                      [
                        -82.4529909,
                        27.9494
                      ]
                    ]
                  },
                  "bbox": [
                    -82.4529909,
                    27.9494,
                    -82.4528486,
                    27.9494924
                  ]
                },
                {
                  "id": "(1993753421, 1993753422, 0)",
                  "type": "Feature",
                  "properties": {
                    "highway": "primary",
                    "lanes": "3",
                    "length": 11.415,
                    "maxspeed": "30 mph",
                    "name": "East Kennedy Boulevard",
                    "oneway": true,
                    "osmid": 188754665,
                    "ref": "US 41 Business;FL 60",
                    "style": {
                      "color": "black",
                      "fillColor": "black"
                    }
                  },
                  "geometry": {
                    "type": "LineString",
                    "coordinates": [
                      [
                        -82.4528747,
                        27.9493983
                      ],
                      [
                        -82.4529909,
                        27.9494
                      ]
                    ]
                  },
                  "bbox": [
                    -82.4529909,
                    27.9493983,
                    -82.4528747,
                    27.9494
                  ]
                },
                {
                  "id": "(1993753422, 97871017, 0)",
                  "type": "Feature",
                  "properties": {
                    "highway": "primary",
                    "lanes": "5",
                    "length": 77.888,
                    "maxspeed": "30 mph",
                    "name": "East Kennedy Boulevard",
                    "oneway": true,
                    "osmid": 203993849,
                    "ref": "US 41 Business;FL 60",
                    "style": {
                      "color": "black",
                      "fillColor": "black"
                    }
                  },
                  "geometry": {
                    "type": "LineString",
                    "coordinates": [
                      [
                        -82.4529909,
                        27.9494
                      ],
                      [
                        -82.4530873,
                        27.9493664
                      ],
                      [
                        -82.4536247,
                        27.9491793
                      ],
                      [
                        -82.4537286,
                        27.9491431
                      ]
                    ]
                  },
                  "bbox": [
                    -82.4537286,
                    27.9491431,
                    -82.4529909,
                    27.9494
                  ]
                }
              ],
              "bbox": [
                -82.4601125,
                27.9474007,
                -82.4520812,
                27.9521639
              ]
            },
            "hover_style": {
              "weight": 4,
              "fillOpacity": 0.5
            },
            "layers": [],
            "name": "edges",
            "options": [],
            "point_style": {},
            "popup": null,
            "popup_max_height": null,
            "popup_max_width": 300,
            "popup_min_width": 50,
            "style": {
              "color": "black",
              "weight": 3
            }
          }
        },
        "1136de21dfe34f66a689cb3b0fef0fbc": {
          "model_module": "jupyter-leaflet",
          "model_name": "LeafletGeoJSONModel",
          "model_module_version": "^0.16.0",
          "state": {
            "_model_module": "jupyter-leaflet",
            "_model_module_version": "^0.16.0",
            "_model_name": "LeafletGeoJSONModel",
            "_view_count": null,
            "_view_module": "jupyter-leaflet",
            "_view_module_version": "^0.16.0",
            "_view_name": "LeafletGeoJSONView",
            "base": false,
            "bottom": false,
            "data": {
              "type": "FeatureCollection",
              "features": [
                {
                  "id": "0",
                  "type": "Feature",
                  "properties": {
                    "style": {
                      "color": "black",
                      "fillColor": "black"
                    }
                  },
                  "geometry": {
                    "type": "LineString",
                    "coordinates": [
                      [
                        -82.4582366,
                        27.9484372
                      ],
                      [
                        -82.4581553,
                        27.9484652
                      ],
                      [
                        -82.457683,
                        27.948628
                      ],
                      [
                        -82.4575218,
                        27.9486836
                      ],
                      [
                        -82.4574238,
                        27.9487174
                      ],
                      [
                        -82.4574634,
                        27.9488104
                      ],
                      [
                        -82.4575684,
                        27.9490581
                      ],
                      [
                        -82.4577099,
                        27.949389
                      ],
                      [
                        -82.457742,
                        27.949467
                      ],
                      [
                        -82.457635,
                        27.9495045
                      ],
                      [
                        -82.4569898,
                        27.9497307
                      ],
                      [
                        -82.456904,
                        27.949759
                      ],
                      [
                        -82.4568055,
                        27.9497928
                      ],
                      [
                        -82.45632,
                        27.949959
                      ],
                      [
                        -82.4561667,
                        27.9500109
                      ],
                      [
                        -82.456066,
                        27.950046
                      ],
                      [
                        -82.4559605,
                        27.9500819
                      ],
                      [
                        -82.4556937,
                        27.9501733
                      ],
                      [
                        -82.455333,
                        27.9502959
                      ],
                      [
                        -82.455224,
                        27.950334
                      ],
                      [
                        -82.4551043,
                        27.9503766
                      ],
                      [
                        -82.4544901,
                        27.9505879
                      ],
                      [
                        -82.4543834,
                        27.9506251
                      ]
                    ]
                  },
                  "bbox": [
                    -82.4582366,
                    27.9484372,
                    -82.4543834,
                    27.9506251
                  ]
                }
              ],
              "bbox": [
                -82.4582366,
                27.9484372,
                -82.4543834,
                27.9506251
              ]
            },
            "hover_style": {
              "weight": 7,
              "fillOpacity": 0.5
            },
            "layers": [],
            "name": "route",
            "options": [],
            "point_style": {},
            "popup": null,
            "popup_max_height": null,
            "popup_max_width": 300,
            "popup_min_width": 50,
            "style": {
              "color": "red",
              "weight": 6
            }
          }
        },
        "8ced384a14234da18d44619bca9dbc4d": {
          "model_module": "@jupyter-widgets/base",
          "model_name": "LayoutModel",
          "model_module_version": "1.2.0",
          "state": {
            "_model_module": "@jupyter-widgets/base",
            "_model_module_version": "1.2.0",
            "_model_name": "LayoutModel",
            "_view_count": null,
            "_view_module": "@jupyter-widgets/base",
            "_view_module_version": "1.2.0",
            "_view_name": "LayoutView",
            "align_content": null,
            "align_items": null,
            "align_self": null,
            "border": null,
            "bottom": null,
            "display": null,
            "flex": null,
            "flex_flow": null,
            "grid_area": null,
            "grid_auto_columns": null,
            "grid_auto_flow": null,
            "grid_auto_rows": null,
            "grid_column": null,
            "grid_gap": null,
            "grid_row": null,
            "grid_template_areas": null,
            "grid_template_columns": null,
            "grid_template_rows": null,
            "height": "800px",
            "justify_content": null,
            "justify_items": null,
            "left": null,
            "margin": null,
            "max_height": null,
            "max_width": null,
            "min_height": null,
            "min_width": null,
            "object_fit": null,
            "object_position": null,
            "order": null,
            "overflow": null,
            "overflow_x": null,
            "overflow_y": null,
            "padding": null,
            "right": null,
            "top": null,
            "visibility": null,
            "width": "1000px"
          }
        },
        "84711b3e6cf64a3abc57f938a07ef584": {
          "model_module": "jupyter-leaflet",
          "model_name": "LeafletMapStyleModel",
          "model_module_version": "^0.16.0",
          "state": {
            "_model_module": "jupyter-leaflet",
            "_model_module_version": "^0.16.0",
            "_model_name": "LeafletMapStyleModel",
            "_view_count": null,
            "_view_module": "@jupyter-widgets/base",
            "_view_module_version": "1.2.0",
            "_view_name": "StyleView",
            "cursor": "grab"
          }
        },
        "2b29f1a95e084ab792985fd1ea516501": {
          "model_module": "@jupyter-widgets/output",
          "model_name": "OutputModel",
          "model_module_version": "1.0.0",
          "state": {
            "_dom_classes": [],
            "_model_module": "@jupyter-widgets/output",
            "_model_module_version": "1.0.0",
            "_model_name": "OutputModel",
            "_view_count": null,
            "_view_module": "@jupyter-widgets/output",
            "_view_module_version": "1.0.0",
            "_view_name": "OutputView",
            "layout": "IPY_MODEL_0fcc60d591a0463e85acaa869cb2d08d",
            "msg_id": "",
            "outputs": []
          }
        },
        "3cf134a5cf7249b89ecbfe92ee1cdfb5": {
          "model_module": "@jupyter-widgets/controls",
          "model_name": "VBoxModel",
          "model_module_version": "1.5.0",
          "state": {
            "_dom_classes": [],
            "_model_module": "@jupyter-widgets/controls",
            "_model_module_version": "1.5.0",
            "_model_name": "VBoxModel",
            "_view_count": null,
            "_view_module": "@jupyter-widgets/controls",
            "_view_module_version": "1.5.0",
            "_view_name": "VBoxView",
            "box_style": "",
            "children": [
              "IPY_MODEL_f550d3296d48427aadebd6480e373e5c"
            ],
            "layout": "IPY_MODEL_939b4809737342e8bc6a60b7e7d4d40f"
          }
        },
        "5b7da5b6ef3b4a468be9ad4c7ca13e2f": {
          "model_module": "@jupyter-widgets/controls",
          "model_name": "VBoxModel",
          "model_module_version": "1.5.0",
          "state": {
            "_dom_classes": [],
            "_model_module": "@jupyter-widgets/controls",
            "_model_module_version": "1.5.0",
            "_model_name": "VBoxModel",
            "_view_count": null,
            "_view_module": "@jupyter-widgets/controls",
            "_view_module_version": "1.5.0",
            "_view_name": "VBoxView",
            "box_style": "",
            "children": [
              "IPY_MODEL_c28abbcca6834becaa570e45440e7f15",
              "IPY_MODEL_3c89cfe1586942959b8db3d59562b899"
            ],
            "layout": "IPY_MODEL_60fa3944ab5245e7adbf7cea29cfd347"
          }
        },
        "1f46af3470eb4b2087d0767467206d60": {
          "model_module": "@jupyter-widgets/controls",
          "model_name": "VBoxModel",
          "model_module_version": "1.5.0",
          "state": {
            "_dom_classes": [],
            "_model_module": "@jupyter-widgets/controls",
            "_model_module_version": "1.5.0",
            "_model_name": "VBoxModel",
            "_view_count": null,
            "_view_module": "@jupyter-widgets/controls",
            "_view_module_version": "1.5.0",
            "_view_name": "VBoxView",
            "box_style": "",
            "children": [
              "IPY_MODEL_d0f47b5f91874594894eefde74d0d609",
              "IPY_MODEL_f92262b916b740e6a9363c99204131bc"
            ],
            "layout": "IPY_MODEL_f7e156b791304dfd9219b2750ec09782"
          }
        },
        "828e5bea01144054b96fb36bb7c9627b": {
          "model_module": "jupyter-leaflet",
          "model_name": "LeafletMarkerModel",
          "model_module_version": "^0.16.0",
          "state": {
            "_model_module": "jupyter-leaflet",
            "_model_module_version": "^0.16.0",
            "_model_name": "LeafletMarkerModel",
            "_view_count": null,
            "_view_module": "jupyter-leaflet",
            "_view_module_version": "^0.16.0",
            "_view_name": "LeafletMarkerView",
            "alt": "",
            "base": false,
            "bottom": false,
            "draggable": false,
            "icon": null,
            "keyboard": true,
            "location": [
              27.94853,
              -82.45863
            ],
            "name": "",
            "opacity": 1,
            "options": [
              "alt",
              "draggable",
              "keyboard",
              "rise_offset",
              "rise_on_hover",
              "rotation_angle",
              "rotation_origin",
              "title",
              "z_index_offset"
            ],
            "popup": "IPY_MODEL_1ddf0f8c71444fed9bfac95ad3b5978f",
            "popup_max_height": null,
            "popup_max_width": 300,
            "popup_min_width": 50,
            "rise_offset": 250,
            "rise_on_hover": false,
            "rotation_angle": 0,
            "rotation_origin": "",
            "title": "",
            "visible": true,
            "z_index_offset": 0
          }
        },
        "2fd6449a304542a2b422718474990f44": {
          "model_module": "jupyter-leaflet",
          "model_name": "LeafletMarkerModel",
          "model_module_version": "^0.16.0",
          "state": {
            "_model_module": "jupyter-leaflet",
            "_model_module_version": "^0.16.0",
            "_model_name": "LeafletMarkerModel",
            "_view_count": null,
            "_view_module": "jupyter-leaflet",
            "_view_module_version": "^0.16.0",
            "_view_name": "LeafletMarkerView",
            "alt": "",
            "base": false,
            "bottom": false,
            "draggable": false,
            "icon": null,
            "keyboard": true,
            "location": [
              27.95102,
              -82.45413
            ],
            "name": "",
            "opacity": 1,
            "options": [
              "alt",
              "draggable",
              "keyboard",
              "rise_offset",
              "rise_on_hover",
              "rotation_angle",
              "rotation_origin",
              "title",
              "z_index_offset"
            ],
            "popup": "IPY_MODEL_da6de02bdce443ba8656f25ae6579f29",
            "popup_max_height": null,
            "popup_max_width": 300,
            "popup_min_width": 50,
            "rise_offset": 250,
            "rise_on_hover": false,
            "rotation_angle": 0,
            "rotation_origin": "",
            "title": "",
            "visible": true,
            "z_index_offset": 0
          }
        },
        "0fcc60d591a0463e85acaa869cb2d08d": {
          "model_module": "@jupyter-widgets/base",
          "model_name": "LayoutModel",
          "model_module_version": "1.2.0",
          "state": {
            "_model_module": "@jupyter-widgets/base",
            "_model_module_version": "1.2.0",
            "_model_name": "LayoutModel",
            "_view_count": null,
            "_view_module": "@jupyter-widgets/base",
            "_view_module_version": "1.2.0",
            "_view_name": "LayoutView",
            "align_content": null,
            "align_items": null,
            "align_self": null,
            "border": null,
            "bottom": null,
            "display": null,
            "flex": null,
            "flex_flow": null,
            "grid_area": null,
            "grid_auto_columns": null,
            "grid_auto_flow": null,
            "grid_auto_rows": null,
            "grid_column": null,
            "grid_gap": null,
            "grid_row": null,
            "grid_template_areas": null,
            "grid_template_columns": null,
            "grid_template_rows": null,
            "height": null,
            "justify_content": null,
            "justify_items": null,
            "left": null,
            "margin": null,
            "max_height": null,
            "max_width": null,
            "min_height": null,
            "min_width": null,
            "object_fit": null,
            "object_position": null,
            "order": null,
            "overflow": null,
            "overflow_x": null,
            "overflow_y": null,
            "padding": null,
            "right": null,
            "top": null,
            "visibility": null,
            "width": null
          }
        },
        "f550d3296d48427aadebd6480e373e5c": {
          "model_module": "@jupyter-widgets/controls",
          "model_name": "ToggleButtonModel",
          "model_module_version": "1.5.0",
          "state": {
            "_dom_classes": [],
            "_model_module": "@jupyter-widgets/controls",
            "_model_module_version": "1.5.0",
            "_model_name": "ToggleButtonModel",
            "_view_count": null,
            "_view_module": "@jupyter-widgets/controls",
            "_view_module_version": "1.5.0",
            "_view_name": "ToggleButtonView",
            "button_style": "",
            "description": "",
            "description_tooltip": null,
            "disabled": false,
            "icon": "wrench",
            "layout": "IPY_MODEL_4f6deddc239a4eba8c5323a12e6d8950",
            "style": "IPY_MODEL_07eb43aeda044b5294bcbe3a411c357f",
            "tooltip": "Toolbar",
            "value": false
          }
        },
        "939b4809737342e8bc6a60b7e7d4d40f": {
          "model_module": "@jupyter-widgets/base",
          "model_name": "LayoutModel",
          "model_module_version": "1.2.0",
          "state": {
            "_model_module": "@jupyter-widgets/base",
            "_model_module_version": "1.2.0",
            "_model_name": "LayoutModel",
            "_view_count": null,
            "_view_module": "@jupyter-widgets/base",
            "_view_module_version": "1.2.0",
            "_view_name": "LayoutView",
            "align_content": null,
            "align_items": null,
            "align_self": null,
            "border": null,
            "bottom": null,
            "display": null,
            "flex": null,
            "flex_flow": null,
            "grid_area": null,
            "grid_auto_columns": null,
            "grid_auto_flow": null,
            "grid_auto_rows": null,
            "grid_column": null,
            "grid_gap": null,
            "grid_row": null,
            "grid_template_areas": null,
            "grid_template_columns": null,
            "grid_template_rows": null,
            "height": null,
            "justify_content": null,
            "justify_items": null,
            "left": null,
            "margin": null,
            "max_height": null,
            "max_width": null,
            "min_height": null,
            "min_width": null,
            "object_fit": null,
            "object_position": null,
            "order": null,
            "overflow": null,
            "overflow_x": null,
            "overflow_y": null,
            "padding": null,
            "right": null,
            "top": null,
            "visibility": null,
            "width": null
          }
        },
        "c28abbcca6834becaa570e45440e7f15": {
          "model_module": "@jupyter-widgets/controls",
          "model_name": "HBoxModel",
          "model_module_version": "1.5.0",
          "state": {
            "_dom_classes": [],
            "_model_module": "@jupyter-widgets/controls",
            "_model_module_version": "1.5.0",
            "_model_name": "HBoxModel",
            "_view_count": null,
            "_view_module": "@jupyter-widgets/controls",
            "_view_module_version": "1.5.0",
            "_view_name": "HBoxView",
            "box_style": "",
            "children": [
              "IPY_MODEL_324b8f73d03e4e51821fc2287a3de6e5",
              "IPY_MODEL_ecdabb541fb940d19c782942313ba9ec"
            ],
            "layout": "IPY_MODEL_a02ad8dd9dbc43dbb06c093afa55040c"
          }
        },
        "3c89cfe1586942959b8db3d59562b899": {
          "model_module": "@jupyter-widgets/controls",
          "model_name": "HTMLModel",
          "model_module_version": "1.5.0",
          "state": {
            "_dom_classes": [],
            "_model_module": "@jupyter-widgets/controls",
            "_model_module_version": "1.5.0",
            "_model_name": "HTMLModel",
            "_view_count": null,
            "_view_module": "@jupyter-widgets/controls",
            "_view_module_version": "1.5.0",
            "_view_name": "HTMLView",
            "description": "",
            "description_tooltip": null,
            "layout": "IPY_MODEL_f9a91817e1554283a7fba447780f5bf0",
            "placeholder": "​",
            "style": "IPY_MODEL_49c7dfd21cd947259805f7114245be27",
            "value": ""
          }
        },
        "60fa3944ab5245e7adbf7cea29cfd347": {
          "model_module": "@jupyter-widgets/base",
          "model_name": "LayoutModel",
          "model_module_version": "1.2.0",
          "state": {
            "_model_module": "@jupyter-widgets/base",
            "_model_module_version": "1.2.0",
            "_model_name": "LayoutModel",
            "_view_count": null,
            "_view_module": "@jupyter-widgets/base",
            "_view_module_version": "1.2.0",
            "_view_name": "LayoutView",
            "align_content": null,
            "align_items": null,
            "align_self": null,
            "border": null,
            "bottom": null,
            "display": null,
            "flex": null,
            "flex_flow": null,
            "grid_area": null,
            "grid_auto_columns": null,
            "grid_auto_flow": null,
            "grid_auto_rows": null,
            "grid_column": null,
            "grid_gap": null,
            "grid_row": null,
            "grid_template_areas": null,
            "grid_template_columns": null,
            "grid_template_rows": null,
            "height": null,
            "justify_content": null,
            "justify_items": null,
            "left": null,
            "margin": null,
            "max_height": null,
            "max_width": null,
            "min_height": null,
            "min_width": null,
            "object_fit": null,
            "object_position": null,
            "order": null,
            "overflow": null,
            "overflow_x": null,
            "overflow_y": null,
            "padding": null,
            "right": null,
            "top": null,
            "visibility": null,
            "width": null
          }
        },
        "d0f47b5f91874594894eefde74d0d609": {
          "model_module": "@jupyter-widgets/controls",
          "model_name": "HBoxModel",
          "model_module_version": "1.5.0",
          "state": {
            "_dom_classes": [],
            "_model_module": "@jupyter-widgets/controls",
            "_model_module_version": "1.5.0",
            "_model_name": "HBoxModel",
            "_view_count": null,
            "_view_module": "@jupyter-widgets/controls",
            "_view_module_version": "1.5.0",
            "_view_name": "HBoxView",
            "box_style": "",
            "children": [
              "IPY_MODEL_87de1a3a69954c14bfb98bcb5b2f1f1e",
              "IPY_MODEL_32c54a9d7ae54c5b9bfbb01ec16c6855"
            ],
            "layout": "IPY_MODEL_2fef3a076f3f4b39bc1a3c44b764bd18"
          }
        },
        "f92262b916b740e6a9363c99204131bc": {
          "model_module": "@jupyter-widgets/controls",
          "model_name": "HTMLModel",
          "model_module_version": "1.5.0",
          "state": {
            "_dom_classes": [],
            "_model_module": "@jupyter-widgets/controls",
            "_model_module_version": "1.5.0",
            "_model_name": "HTMLModel",
            "_view_count": null,
            "_view_module": "@jupyter-widgets/controls",
            "_view_module_version": "1.5.0",
            "_view_name": "HTMLView",
            "description": "",
            "description_tooltip": null,
            "layout": "IPY_MODEL_91d46733400343bb8a2fda76fdaa462d",
            "placeholder": "​",
            "style": "IPY_MODEL_c61e73677fc74b0da41ad59148ad8548",
            "value": ""
          }
        },
        "f7e156b791304dfd9219b2750ec09782": {
          "model_module": "@jupyter-widgets/base",
          "model_name": "LayoutModel",
          "model_module_version": "1.2.0",
          "state": {
            "_model_module": "@jupyter-widgets/base",
            "_model_module_version": "1.2.0",
            "_model_name": "LayoutModel",
            "_view_count": null,
            "_view_module": "@jupyter-widgets/base",
            "_view_module_version": "1.2.0",
            "_view_name": "LayoutView",
            "align_content": null,
            "align_items": null,
            "align_self": null,
            "border": null,
            "bottom": null,
            "display": null,
            "flex": null,
            "flex_flow": null,
            "grid_area": null,
            "grid_auto_columns": null,
            "grid_auto_flow": null,
            "grid_auto_rows": null,
            "grid_column": null,
            "grid_gap": null,
            "grid_row": null,
            "grid_template_areas": null,
            "grid_template_columns": null,
            "grid_template_rows": null,
            "height": null,
            "justify_content": null,
            "justify_items": null,
            "left": null,
            "margin": null,
            "max_height": null,
            "max_width": null,
            "min_height": null,
            "min_width": null,
            "object_fit": null,
            "object_position": null,
            "order": null,
            "overflow": null,
            "overflow_x": null,
            "overflow_y": null,
            "padding": null,
            "right": null,
            "top": null,
            "visibility": null,
            "width": null
          }
        },
        "1ddf0f8c71444fed9bfac95ad3b5978f": {
          "model_module": "@jupyter-widgets/controls",
          "model_name": "HTMLModel",
          "model_module_version": "1.5.0",
          "state": {
            "_dom_classes": [],
            "_model_module": "@jupyter-widgets/controls",
            "_model_module_version": "1.5.0",
            "_model_name": "HTMLModel",
            "_view_count": null,
            "_view_module": "@jupyter-widgets/controls",
            "_view_module_version": "1.5.0",
            "_view_name": "HTMLView",
            "description": "",
            "description_tooltip": null,
            "layout": "IPY_MODEL_143cf3aa10e74e1cbc7c5e5cf9f44b1d",
            "placeholder": "​",
            "style": "IPY_MODEL_5549a34888974ac784f318d8299b264d",
            "value": "origin"
          }
        },
        "da6de02bdce443ba8656f25ae6579f29": {
          "model_module": "@jupyter-widgets/controls",
          "model_name": "HTMLModel",
          "model_module_version": "1.5.0",
          "state": {
            "_dom_classes": [],
            "_model_module": "@jupyter-widgets/controls",
            "_model_module_version": "1.5.0",
            "_model_name": "HTMLModel",
            "_view_count": null,
            "_view_module": "@jupyter-widgets/controls",
            "_view_module_version": "1.5.0",
            "_view_name": "HTMLView",
            "description": "",
            "description_tooltip": null,
            "layout": "IPY_MODEL_a5bd4dcf007d478ab46d08d40270eb35",
            "placeholder": "​",
            "style": "IPY_MODEL_55ec9aee68b346fea055423e27df263c",
            "value": "destination"
          }
        },
        "4f6deddc239a4eba8c5323a12e6d8950": {
          "model_module": "@jupyter-widgets/base",
          "model_name": "LayoutModel",
          "model_module_version": "1.2.0",
          "state": {
            "_model_module": "@jupyter-widgets/base",
            "_model_module_version": "1.2.0",
            "_model_name": "LayoutModel",
            "_view_count": null,
            "_view_module": "@jupyter-widgets/base",
            "_view_module_version": "1.2.0",
            "_view_name": "LayoutView",
            "align_content": null,
            "align_items": null,
            "align_self": null,
            "border": null,
            "bottom": null,
            "display": null,
            "flex": null,
            "flex_flow": null,
            "grid_area": null,
            "grid_auto_columns": null,
            "grid_auto_flow": null,
            "grid_auto_rows": null,
            "grid_column": null,
            "grid_gap": null,
            "grid_row": null,
            "grid_template_areas": null,
            "grid_template_columns": null,
            "grid_template_rows": null,
            "height": "28px",
            "justify_content": null,
            "justify_items": null,
            "left": null,
            "margin": null,
            "max_height": null,
            "max_width": null,
            "min_height": null,
            "min_width": null,
            "object_fit": null,
            "object_position": null,
            "order": null,
            "overflow": null,
            "overflow_x": null,
            "overflow_y": null,
            "padding": "0px 0px 0px 4px",
            "right": null,
            "top": null,
            "visibility": null,
            "width": "28px"
          }
        },
        "07eb43aeda044b5294bcbe3a411c357f": {
          "model_module": "@jupyter-widgets/controls",
          "model_name": "DescriptionStyleModel",
          "model_module_version": "1.5.0",
          "state": {
            "_model_module": "@jupyter-widgets/controls",
            "_model_module_version": "1.5.0",
            "_model_name": "DescriptionStyleModel",
            "_view_count": null,
            "_view_module": "@jupyter-widgets/base",
            "_view_module_version": "1.2.0",
            "_view_name": "StyleView",
            "description_width": ""
          }
        },
        "324b8f73d03e4e51821fc2287a3de6e5": {
          "model_module": "@jupyter-widgets/controls",
          "model_name": "ToggleButtonModel",
          "model_module_version": "1.5.0",
          "state": {
            "_dom_classes": [],
            "_model_module": "@jupyter-widgets/controls",
            "_model_module_version": "1.5.0",
            "_model_name": "ToggleButtonModel",
            "_view_count": null,
            "_view_module": "@jupyter-widgets/controls",
            "_view_module_version": "1.5.0",
            "_view_name": "ToggleButtonView",
            "button_style": "",
            "description": "",
            "description_tooltip": null,
            "disabled": false,
            "icon": "info",
            "layout": "IPY_MODEL_f48ea533ad42477d940f6f4cbb984758",
            "style": "IPY_MODEL_93f8d6f660c34722869aada844bd204b",
            "tooltip": "Toolbar",
            "value": true
          }
        },
        "ecdabb541fb940d19c782942313ba9ec": {
          "model_module": "@jupyter-widgets/controls",
          "model_name": "ToggleButtonModel",
          "model_module_version": "1.5.0",
          "state": {
            "_dom_classes": [],
            "_model_module": "@jupyter-widgets/controls",
            "_model_module_version": "1.5.0",
            "_model_name": "ToggleButtonModel",
            "_view_count": null,
            "_view_module": "@jupyter-widgets/controls",
            "_view_module_version": "1.5.0",
            "_view_name": "ToggleButtonView",
            "button_style": "",
            "description": "",
            "description_tooltip": null,
            "disabled": false,
            "icon": "times",
            "layout": "IPY_MODEL_cf89471cf8f346f8b740006e5344d560",
            "style": "IPY_MODEL_554efc18ba824348bc078d0f9cacfc92",
            "tooltip": "Close the tool",
            "value": false
          }
        },
        "a02ad8dd9dbc43dbb06c093afa55040c": {
          "model_module": "@jupyter-widgets/base",
          "model_name": "LayoutModel",
          "model_module_version": "1.2.0",
          "state": {
            "_model_module": "@jupyter-widgets/base",
            "_model_module_version": "1.2.0",
            "_model_name": "LayoutModel",
            "_view_count": null,
            "_view_module": "@jupyter-widgets/base",
            "_view_module_version": "1.2.0",
            "_view_name": "LayoutView",
            "align_content": null,
            "align_items": null,
            "align_self": null,
            "border": null,
            "bottom": null,
            "display": null,
            "flex": null,
            "flex_flow": null,
            "grid_area": null,
            "grid_auto_columns": null,
            "grid_auto_flow": null,
            "grid_auto_rows": null,
            "grid_column": null,
            "grid_gap": null,
            "grid_row": null,
            "grid_template_areas": null,
            "grid_template_columns": null,
            "grid_template_rows": null,
            "height": null,
            "justify_content": null,
            "justify_items": null,
            "left": null,
            "margin": null,
            "max_height": null,
            "max_width": null,
            "min_height": null,
            "min_width": null,
            "object_fit": null,
            "object_position": null,
            "order": null,
            "overflow": null,
            "overflow_x": null,
            "overflow_y": null,
            "padding": null,
            "right": null,
            "top": null,
            "visibility": null,
            "width": null
          }
        },
        "f9a91817e1554283a7fba447780f5bf0": {
          "model_module": "@jupyter-widgets/base",
          "model_name": "LayoutModel",
          "model_module_version": "1.2.0",
          "state": {
            "_model_module": "@jupyter-widgets/base",
            "_model_module_version": "1.2.0",
            "_model_name": "LayoutModel",
            "_view_count": null,
            "_view_module": "@jupyter-widgets/base",
            "_view_module_version": "1.2.0",
            "_view_name": "LayoutView",
            "align_content": null,
            "align_items": null,
            "align_self": null,
            "border": null,
            "bottom": null,
            "display": null,
            "flex": null,
            "flex_flow": null,
            "grid_area": null,
            "grid_auto_columns": null,
            "grid_auto_flow": null,
            "grid_auto_rows": null,
            "grid_column": null,
            "grid_gap": null,
            "grid_row": null,
            "grid_template_areas": null,
            "grid_template_columns": null,
            "grid_template_rows": null,
            "height": null,
            "justify_content": null,
            "justify_items": null,
            "left": null,
            "margin": "0px 10px 0px 10px",
            "max_height": "250px",
            "max_width": "250px",
            "min_height": null,
            "min_width": null,
            "object_fit": null,
            "object_position": null,
            "order": null,
            "overflow": null,
            "overflow_x": null,
            "overflow_y": null,
            "padding": null,
            "right": null,
            "top": null,
            "visibility": null,
            "width": null
          }
        },
        "49c7dfd21cd947259805f7114245be27": {
          "model_module": "@jupyter-widgets/controls",
          "model_name": "DescriptionStyleModel",
          "model_module_version": "1.5.0",
          "state": {
            "_model_module": "@jupyter-widgets/controls",
            "_model_module_version": "1.5.0",
            "_model_name": "DescriptionStyleModel",
            "_view_count": null,
            "_view_module": "@jupyter-widgets/base",
            "_view_module_version": "1.2.0",
            "_view_name": "StyleView",
            "description_width": ""
          }
        },
        "87de1a3a69954c14bfb98bcb5b2f1f1e": {
          "model_module": "@jupyter-widgets/controls",
          "model_name": "ToggleButtonModel",
          "model_module_version": "1.5.0",
          "state": {
            "_dom_classes": [],
            "_model_module": "@jupyter-widgets/controls",
            "_model_module_version": "1.5.0",
            "_model_name": "ToggleButtonModel",
            "_view_count": null,
            "_view_module": "@jupyter-widgets/controls",
            "_view_module_version": "1.5.0",
            "_view_name": "ToggleButtonView",
            "button_style": "",
            "description": "",
            "description_tooltip": null,
            "disabled": false,
            "icon": "info",
            "layout": "IPY_MODEL_248c0144436442d98390303e6844cdd8",
            "style": "IPY_MODEL_2edcc6cc99fe4370aa190e3b7a69091a",
            "tooltip": "Toolbar",
            "value": true
          }
        },
        "32c54a9d7ae54c5b9bfbb01ec16c6855": {
          "model_module": "@jupyter-widgets/controls",
          "model_name": "ToggleButtonModel",
          "model_module_version": "1.5.0",
          "state": {
            "_dom_classes": [],
            "_model_module": "@jupyter-widgets/controls",
            "_model_module_version": "1.5.0",
            "_model_name": "ToggleButtonModel",
            "_view_count": null,
            "_view_module": "@jupyter-widgets/controls",
            "_view_module_version": "1.5.0",
            "_view_name": "ToggleButtonView",
            "button_style": "",
            "description": "",
            "description_tooltip": null,
            "disabled": false,
            "icon": "times",
            "layout": "IPY_MODEL_b26e7d4150104f6b9786491c84d198c5",
            "style": "IPY_MODEL_0be49346e8da4dd78c5ab542b5f326ea",
            "tooltip": "Close the tool",
            "value": false
          }
        },
        "2fef3a076f3f4b39bc1a3c44b764bd18": {
          "model_module": "@jupyter-widgets/base",
          "model_name": "LayoutModel",
          "model_module_version": "1.2.0",
          "state": {
            "_model_module": "@jupyter-widgets/base",
            "_model_module_version": "1.2.0",
            "_model_name": "LayoutModel",
            "_view_count": null,
            "_view_module": "@jupyter-widgets/base",
            "_view_module_version": "1.2.0",
            "_view_name": "LayoutView",
            "align_content": null,
            "align_items": null,
            "align_self": null,
            "border": null,
            "bottom": null,
            "display": null,
            "flex": null,
            "flex_flow": null,
            "grid_area": null,
            "grid_auto_columns": null,
            "grid_auto_flow": null,
            "grid_auto_rows": null,
            "grid_column": null,
            "grid_gap": null,
            "grid_row": null,
            "grid_template_areas": null,
            "grid_template_columns": null,
            "grid_template_rows": null,
            "height": null,
            "justify_content": null,
            "justify_items": null,
            "left": null,
            "margin": null,
            "max_height": null,
            "max_width": null,
            "min_height": null,
            "min_width": null,
            "object_fit": null,
            "object_position": null,
            "order": null,
            "overflow": null,
            "overflow_x": null,
            "overflow_y": null,
            "padding": null,
            "right": null,
            "top": null,
            "visibility": null,
            "width": null
          }
        },
        "91d46733400343bb8a2fda76fdaa462d": {
          "model_module": "@jupyter-widgets/base",
          "model_name": "LayoutModel",
          "model_module_version": "1.2.0",
          "state": {
            "_model_module": "@jupyter-widgets/base",
            "_model_module_version": "1.2.0",
            "_model_name": "LayoutModel",
            "_view_count": null,
            "_view_module": "@jupyter-widgets/base",
            "_view_module_version": "1.2.0",
            "_view_name": "LayoutView",
            "align_content": null,
            "align_items": null,
            "align_self": null,
            "border": null,
            "bottom": null,
            "display": null,
            "flex": null,
            "flex_flow": null,
            "grid_area": null,
            "grid_auto_columns": null,
            "grid_auto_flow": null,
            "grid_auto_rows": null,
            "grid_column": null,
            "grid_gap": null,
            "grid_row": null,
            "grid_template_areas": null,
            "grid_template_columns": null,
            "grid_template_rows": null,
            "height": null,
            "justify_content": null,
            "justify_items": null,
            "left": null,
            "margin": "0px 10px 0px 10px",
            "max_height": "250px",
            "max_width": "250px",
            "min_height": null,
            "min_width": null,
            "object_fit": null,
            "object_position": null,
            "order": null,
            "overflow": null,
            "overflow_x": null,
            "overflow_y": null,
            "padding": null,
            "right": null,
            "top": null,
            "visibility": null,
            "width": null
          }
        },
        "c61e73677fc74b0da41ad59148ad8548": {
          "model_module": "@jupyter-widgets/controls",
          "model_name": "DescriptionStyleModel",
          "model_module_version": "1.5.0",
          "state": {
            "_model_module": "@jupyter-widgets/controls",
            "_model_module_version": "1.5.0",
            "_model_name": "DescriptionStyleModel",
            "_view_count": null,
            "_view_module": "@jupyter-widgets/base",
            "_view_module_version": "1.2.0",
            "_view_name": "StyleView",
            "description_width": ""
          }
        },
        "143cf3aa10e74e1cbc7c5e5cf9f44b1d": {
          "model_module": "@jupyter-widgets/base",
          "model_name": "LayoutModel",
          "model_module_version": "1.2.0",
          "state": {
            "_model_module": "@jupyter-widgets/base",
            "_model_module_version": "1.2.0",
            "_model_name": "LayoutModel",
            "_view_count": null,
            "_view_module": "@jupyter-widgets/base",
            "_view_module_version": "1.2.0",
            "_view_name": "LayoutView",
            "align_content": null,
            "align_items": null,
            "align_self": null,
            "border": null,
            "bottom": null,
            "display": null,
            "flex": null,
            "flex_flow": null,
            "grid_area": null,
            "grid_auto_columns": null,
            "grid_auto_flow": null,
            "grid_auto_rows": null,
            "grid_column": null,
            "grid_gap": null,
            "grid_row": null,
            "grid_template_areas": null,
            "grid_template_columns": null,
            "grid_template_rows": null,
            "height": null,
            "justify_content": null,
            "justify_items": null,
            "left": null,
            "margin": null,
            "max_height": null,
            "max_width": null,
            "min_height": null,
            "min_width": null,
            "object_fit": null,
            "object_position": null,
            "order": null,
            "overflow": null,
            "overflow_x": null,
            "overflow_y": null,
            "padding": null,
            "right": null,
            "top": null,
            "visibility": null,
            "width": null
          }
        },
        "5549a34888974ac784f318d8299b264d": {
          "model_module": "@jupyter-widgets/controls",
          "model_name": "DescriptionStyleModel",
          "model_module_version": "1.5.0",
          "state": {
            "_model_module": "@jupyter-widgets/controls",
            "_model_module_version": "1.5.0",
            "_model_name": "DescriptionStyleModel",
            "_view_count": null,
            "_view_module": "@jupyter-widgets/base",
            "_view_module_version": "1.2.0",
            "_view_name": "StyleView",
            "description_width": ""
          }
        },
        "a5bd4dcf007d478ab46d08d40270eb35": {
          "model_module": "@jupyter-widgets/base",
          "model_name": "LayoutModel",
          "model_module_version": "1.2.0",
          "state": {
            "_model_module": "@jupyter-widgets/base",
            "_model_module_version": "1.2.0",
            "_model_name": "LayoutModel",
            "_view_count": null,
            "_view_module": "@jupyter-widgets/base",
            "_view_module_version": "1.2.0",
            "_view_name": "LayoutView",
            "align_content": null,
            "align_items": null,
            "align_self": null,
            "border": null,
            "bottom": null,
            "display": null,
            "flex": null,
            "flex_flow": null,
            "grid_area": null,
            "grid_auto_columns": null,
            "grid_auto_flow": null,
            "grid_auto_rows": null,
            "grid_column": null,
            "grid_gap": null,
            "grid_row": null,
            "grid_template_areas": null,
            "grid_template_columns": null,
            "grid_template_rows": null,
            "height": null,
            "justify_content": null,
            "justify_items": null,
            "left": null,
            "margin": null,
            "max_height": null,
            "max_width": null,
            "min_height": null,
            "min_width": null,
            "object_fit": null,
            "object_position": null,
            "order": null,
            "overflow": null,
            "overflow_x": null,
            "overflow_y": null,
            "padding": null,
            "right": null,
            "top": null,
            "visibility": null,
            "width": null
          }
        },
        "55ec9aee68b346fea055423e27df263c": {
          "model_module": "@jupyter-widgets/controls",
          "model_name": "DescriptionStyleModel",
          "model_module_version": "1.5.0",
          "state": {
            "_model_module": "@jupyter-widgets/controls",
            "_model_module_version": "1.5.0",
            "_model_name": "DescriptionStyleModel",
            "_view_count": null,
            "_view_module": "@jupyter-widgets/base",
            "_view_module_version": "1.2.0",
            "_view_name": "StyleView",
            "description_width": ""
          }
        },
        "f48ea533ad42477d940f6f4cbb984758": {
          "model_module": "@jupyter-widgets/base",
          "model_name": "LayoutModel",
          "model_module_version": "1.2.0",
          "state": {
            "_model_module": "@jupyter-widgets/base",
            "_model_module_version": "1.2.0",
            "_model_name": "LayoutModel",
            "_view_count": null,
            "_view_module": "@jupyter-widgets/base",
            "_view_module_version": "1.2.0",
            "_view_name": "LayoutView",
            "align_content": null,
            "align_items": null,
            "align_self": null,
            "border": null,
            "bottom": null,
            "display": null,
            "flex": null,
            "flex_flow": null,
            "grid_area": null,
            "grid_auto_columns": null,
            "grid_auto_flow": null,
            "grid_auto_rows": null,
            "grid_column": null,
            "grid_gap": null,
            "grid_row": null,
            "grid_template_areas": null,
            "grid_template_columns": null,
            "grid_template_rows": null,
            "height": "28px",
            "justify_content": null,
            "justify_items": null,
            "left": null,
            "margin": null,
            "max_height": null,
            "max_width": null,
            "min_height": null,
            "min_width": null,
            "object_fit": null,
            "object_position": null,
            "order": null,
            "overflow": null,
            "overflow_x": null,
            "overflow_y": null,
            "padding": "0px 0px 0px 4px",
            "right": null,
            "top": null,
            "visibility": null,
            "width": "28px"
          }
        },
        "93f8d6f660c34722869aada844bd204b": {
          "model_module": "@jupyter-widgets/controls",
          "model_name": "DescriptionStyleModel",
          "model_module_version": "1.5.0",
          "state": {
            "_model_module": "@jupyter-widgets/controls",
            "_model_module_version": "1.5.0",
            "_model_name": "DescriptionStyleModel",
            "_view_count": null,
            "_view_module": "@jupyter-widgets/base",
            "_view_module_version": "1.2.0",
            "_view_name": "StyleView",
            "description_width": ""
          }
        },
        "cf89471cf8f346f8b740006e5344d560": {
          "model_module": "@jupyter-widgets/base",
          "model_name": "LayoutModel",
          "model_module_version": "1.2.0",
          "state": {
            "_model_module": "@jupyter-widgets/base",
            "_model_module_version": "1.2.0",
            "_model_name": "LayoutModel",
            "_view_count": null,
            "_view_module": "@jupyter-widgets/base",
            "_view_module_version": "1.2.0",
            "_view_name": "LayoutView",
            "align_content": null,
            "align_items": null,
            "align_self": null,
            "border": null,
            "bottom": null,
            "display": null,
            "flex": null,
            "flex_flow": null,
            "grid_area": null,
            "grid_auto_columns": null,
            "grid_auto_flow": null,
            "grid_auto_rows": null,
            "grid_column": null,
            "grid_gap": null,
            "grid_row": null,
            "grid_template_areas": null,
            "grid_template_columns": null,
            "grid_template_rows": null,
            "height": "28px",
            "justify_content": null,
            "justify_items": null,
            "left": null,
            "margin": null,
            "max_height": null,
            "max_width": null,
            "min_height": null,
            "min_width": null,
            "object_fit": null,
            "object_position": null,
            "order": null,
            "overflow": null,
            "overflow_x": null,
            "overflow_y": null,
            "padding": "0px 0px 0px 4px",
            "right": null,
            "top": null,
            "visibility": null,
            "width": "28px"
          }
        },
        "554efc18ba824348bc078d0f9cacfc92": {
          "model_module": "@jupyter-widgets/controls",
          "model_name": "DescriptionStyleModel",
          "model_module_version": "1.5.0",
          "state": {
            "_model_module": "@jupyter-widgets/controls",
            "_model_module_version": "1.5.0",
            "_model_name": "DescriptionStyleModel",
            "_view_count": null,
            "_view_module": "@jupyter-widgets/base",
            "_view_module_version": "1.2.0",
            "_view_name": "StyleView",
            "description_width": ""
          }
        },
        "248c0144436442d98390303e6844cdd8": {
          "model_module": "@jupyter-widgets/base",
          "model_name": "LayoutModel",
          "model_module_version": "1.2.0",
          "state": {
            "_model_module": "@jupyter-widgets/base",
            "_model_module_version": "1.2.0",
            "_model_name": "LayoutModel",
            "_view_count": null,
            "_view_module": "@jupyter-widgets/base",
            "_view_module_version": "1.2.0",
            "_view_name": "LayoutView",
            "align_content": null,
            "align_items": null,
            "align_self": null,
            "border": null,
            "bottom": null,
            "display": null,
            "flex": null,
            "flex_flow": null,
            "grid_area": null,
            "grid_auto_columns": null,
            "grid_auto_flow": null,
            "grid_auto_rows": null,
            "grid_column": null,
            "grid_gap": null,
            "grid_row": null,
            "grid_template_areas": null,
            "grid_template_columns": null,
            "grid_template_rows": null,
            "height": "28px",
            "justify_content": null,
            "justify_items": null,
            "left": null,
            "margin": null,
            "max_height": null,
            "max_width": null,
            "min_height": null,
            "min_width": null,
            "object_fit": null,
            "object_position": null,
            "order": null,
            "overflow": null,
            "overflow_x": null,
            "overflow_y": null,
            "padding": "0px 0px 0px 4px",
            "right": null,
            "top": null,
            "visibility": null,
            "width": "28px"
          }
        },
        "2edcc6cc99fe4370aa190e3b7a69091a": {
          "model_module": "@jupyter-widgets/controls",
          "model_name": "DescriptionStyleModel",
          "model_module_version": "1.5.0",
          "state": {
            "_model_module": "@jupyter-widgets/controls",
            "_model_module_version": "1.5.0",
            "_model_name": "DescriptionStyleModel",
            "_view_count": null,
            "_view_module": "@jupyter-widgets/base",
            "_view_module_version": "1.2.0",
            "_view_name": "StyleView",
            "description_width": ""
          }
        },
        "b26e7d4150104f6b9786491c84d198c5": {
          "model_module": "@jupyter-widgets/base",
          "model_name": "LayoutModel",
          "model_module_version": "1.2.0",
          "state": {
            "_model_module": "@jupyter-widgets/base",
            "_model_module_version": "1.2.0",
            "_model_name": "LayoutModel",
            "_view_count": null,
            "_view_module": "@jupyter-widgets/base",
            "_view_module_version": "1.2.0",
            "_view_name": "LayoutView",
            "align_content": null,
            "align_items": null,
            "align_self": null,
            "border": null,
            "bottom": null,
            "display": null,
            "flex": null,
            "flex_flow": null,
            "grid_area": null,
            "grid_auto_columns": null,
            "grid_auto_flow": null,
            "grid_auto_rows": null,
            "grid_column": null,
            "grid_gap": null,
            "grid_row": null,
            "grid_template_areas": null,
            "grid_template_columns": null,
            "grid_template_rows": null,
            "height": "28px",
            "justify_content": null,
            "justify_items": null,
            "left": null,
            "margin": null,
            "max_height": null,
            "max_width": null,
            "min_height": null,
            "min_width": null,
            "object_fit": null,
            "object_position": null,
            "order": null,
            "overflow": null,
            "overflow_x": null,
            "overflow_y": null,
            "padding": "0px 0px 0px 4px",
            "right": null,
            "top": null,
            "visibility": null,
            "width": "28px"
          }
        },
        "0be49346e8da4dd78c5ab542b5f326ea": {
          "model_module": "@jupyter-widgets/controls",
          "model_name": "DescriptionStyleModel",
          "model_module_version": "1.5.0",
          "state": {
            "_model_module": "@jupyter-widgets/controls",
            "_model_module_version": "1.5.0",
            "_model_name": "DescriptionStyleModel",
            "_view_count": null,
            "_view_module": "@jupyter-widgets/base",
            "_view_module_version": "1.2.0",
            "_view_name": "StyleView",
            "description_width": ""
          }
        }
      }
    }
  },
  "cells": [
    {
      "cell_type": "markdown",
      "metadata": {
        "id": "view-in-github",
        "colab_type": "text"
      },
      "source": [
        "<a href=\"https://colab.research.google.com/github/amorfinv/icrat_notebooks/blob/main/street_data_scenario.ipynb\" target=\"_parent\"><img src=\"https://colab.research.google.com/assets/colab-badge.svg\" alt=\"Open In Colab\"/></a>"
      ]
    },
    {
      "cell_type": "markdown",
      "source": [
        "# Using street data in BlueSky\n",
        "\n",
        "\n",
        "---\n",
        "\n",
        "\n",
        "The goal of this notebook is to show how to use street data from OpenStreetMap to create routes for VTOL vehciles in constrained airspace. Constrained airspace is defined as airspace where aircraft must fly above the roads. Some potential reasons for flying in constrained airspace:\n",
        "\n",
        "\n",
        "*   Avoidance of static obstacles (buildings) in very low level (VLL) airspace.\n",
        "*   Limit third party risk.\n",
        "*   Privacy\n",
        "\n",
        "\n",
        ">*It is more likely that a delivery drones or other vehicle will be able to fly above buildings in VLL airspace. For these cases it is useful it is possible to define geofenced areas (e.g. a park) using OpenStreetMap data. However, this is a topic for another notebook.*\n",
        "\n",
        "Start by importing ```osmnx```, ```geopandas```, ```shapely```. Note that ```leafmap``` is only neeeded for visualizing maps in this notebook."
      ],
      "metadata": {
        "id": "J_rnX7ZPunab"
      }
    },
    {
      "cell_type": "code",
      "source": [
        "import subprocess\n",
        "\n",
        "try:\n",
        "    import osmnx as ox\n",
        "except ImportError:\n",
        "    print('Installing osmnx ...')\n",
        "    # pip installing osmnx brings in geopandas, shapely, and numpy\n",
        "    subprocess.check_call([\"python\", '-m', 'pip', 'install', 'osmnx'])\n",
        "    import osmnx as ox\n",
        "\n",
        "# Leafmap is only necessary for visualizing maps in the notebook\n",
        "try:\n",
        "    import leafmap\n",
        "except ImportError:\n",
        "    print('Installing leafmap ...')\n",
        "    subprocess.check_call([\"python\", '-m', 'pip', 'install', 'leafmap'])\n",
        "    import leafmap\n",
        "\n",
        "import geopandas as gpd\n",
        "from shapely.geometry import Point, LineString, Polygon, MultiLineString\n",
        "from shapely import ops"
      ],
      "metadata": {
        "id": "9J-YxhYdgD3B",
        "colab": {
          "base_uri": "https://localhost:8080/",
          "height": 52
        },
        "outputId": "84e9811b-52bd-42ad-a6d4-85bf6d6e170e"
      },
      "execution_count": 1,
      "outputs": [
        {
          "output_type": "stream",
          "name": "stdout",
          "text": [
            "Installing osmnx ...\n",
            "Installing leafmap ...\n"
          ]
        }
      ]
    },
    {
      "cell_type": "markdown",
      "source": [
        "## Choose an area of interest: Downtown Tampa\n",
        "\n",
        "A drone mission in downtown tampa will be prepared so it can be simulated by BlueSky. The drone should:\n",
        "\n",
        "*   Perform vertical take-off and climb to 60 feet\n",
        "*   Accelerate to 30 knots and begin following a route that remains above the street network.\n",
        "*   Decelerate to 10 knots prior to turning to avoid overshooting.\n",
        "*   Decelerate to 0 knots above destination.\n",
        "*   Descend to 0 feet to finish mission.\n",
        "\n",
        "For simplicity, the mission will assume that the origin and destination points are in street intersections."
      ],
      "metadata": {
        "id": "_OXBBKoyxh5V"
      }
    },
    {
      "cell_type": "code",
      "execution_count": 2,
      "metadata": {
        "colab": {
          "base_uri": "https://localhost:8080/",
          "height": 521,
          "referenced_widgets": [
            "9ba72515b30846068e3da52343fdafcd",
            "176a10ec73b14a51b13226a93c152cb5",
            "b7ede9d2266d45e597255624875275cf",
            "cd1b62d0115046be8d5a2c62b716fae5",
            "bbd7c4087ace4ce6831cb6a6e370c7bc",
            "768a4ce0cc134135a920943948f103d8",
            "05fd6607f5a843498ee701c75ac407fc",
            "afc63764d63e46ccb9ba0ef374e4169d",
            "11a40eb545774c28a06ca9360d1be6c8",
            "849f6e3ac2344f7a82ddd9a8b8487ea3",
            "9e68d29be6f24f0892e304b1807320ed",
            "c69b6a41facd49ea8536ef702d0231ea",
            "a0aea9220daa4c9a968020a3296c2c18",
            "13c98d991a1a4363ba26f328c758204c",
            "2874591c37cc4c2b89355dc4f35c2083",
            "1a835e9d23db42b6b8ac3004630078fe",
            "912e6b57d7054a5690ea8b191b710f34",
            "1eead55e899e406aaf293a78a7303df8",
            "3870417abfc44cf1be4714b92c21c829",
            "9a8e7c73755840d288460bb7a14d69cb",
            "2a06f31bb09e4a46b7b7b5a0bf7d7a1e",
            "12ddffabc81540ea8be75a1e70c81063"
          ]
        },
        "id": "7mgJ-OZ-faTg",
        "outputId": "202eceaf-5793-4771-be4e-874ce1336e70"
      },
      "outputs": [
        {
          "output_type": "display_data",
          "data": {
            "text/plain": [
              "Map(center=[27.95056, -82.45656], controls=(ZoomControl(options=['position', 'zoom_in_text', 'zoom_in_title', …"
            ],
            "application/vnd.jupyter.widget-view+json": {
              "version_major": 2,
              "version_minor": 0,
              "model_id": "9ba72515b30846068e3da52343fdafcd"
            }
          },
          "metadata": {
            "application/vnd.jupyter.widget-view+json": {
              "colab": {
                "custom_widget_manager": {
                  "url": "https://ssl.gstatic.com/colaboratory-static/widgets/colab-cdn-widget-manager/a8874ba6619b6106/manager.min.js"
                }
              }
            }
          }
        }
      ],
      "source": [
        "# Show map of Tampa\n",
        "map_args = {\"center\":(27.95056, -82.45656), \"zoom\":16, \"height\":\"500px\", \"width\":\"500px\"}\n",
        "cartomap = {\n",
        "    \"url\":\"https://cartodb-basemaps-b.global.ssl.fastly.net/light_nolabels/{z}/{x}/{y}.png\",\n",
        "    \"name\":\"CartoDB\",\n",
        "    \"attribution\":\"CartoDB\",\n",
        "}\n",
        "m = leafmap.Map(**map_args)\n",
        "m.add_tile_layer(**cartomap)\n",
        "display(m)"
      ]
    },
    {
      "cell_type": "markdown",
      "source": [
        "## Select the origin and destination\n",
        "\n",
        "The origin and destination are chose somwhere in Downtown Tampa. The mission will include turns because there is no straight line path that only goes above a street.\n",
        "\n",
        "\n"
      ],
      "metadata": {
        "id": "l6BAMlnL6GKd"
      }
    },
    {
      "cell_type": "code",
      "source": [
        "# Create a mission from pharmacy to courthouse\n",
        "origin_point = Point(-82.45863, 27.94853)\n",
        "destination_point = Point(-82.45413, 27.95102)\n",
        "\n",
        "# dictionary for geodataframe\n",
        "data = {'type': ['origin', 'destination'], \n",
        "        'geometry': [origin_point, destination_point],\n",
        "        'latitude': [27.94853, 27.95102],\n",
        "        'longitude': [-82.45863, -82.45413]\n",
        "        }\n",
        "gdf_od = gpd.GeoDataFrame(data, crs='epsg:4326')\n",
        "\n",
        "# create map and add gdf\n",
        "m = leafmap.Map(**map_args)\n",
        "m.add_tile_layer(**cartomap)\n",
        "m.add_points_from_xy(gdf_od, popup='type', layer_name='od', zoom_to_layer=False)\n",
        "display(m)"
      ],
      "metadata": {
        "colab": {
          "base_uri": "https://localhost:8080/",
          "height": 521,
          "referenced_widgets": [
            "db72060d559043b9af99b8046e59d6dd",
            "b711de32c9784a17bad108272bc16b08",
            "cc6e014b92cf479a9780b54cf59033e4",
            "7d22f7af80b54dada25aa082a160e5be",
            "b5e999b0551c424d99ecebc340d04277",
            "c0fdcc7e850f4e47b6c315287bb9a5d2",
            "5a23669b52e049a98ed2573de0c46252",
            "3c38041e5d53432ab4b3955746d78d1a",
            "d670713ecdbc4d1491d6d698febfad3f",
            "1738b1d9c14a4bbd9131d293eed68cd8",
            "2974816378c3485ab7bb4a14a82198d7",
            "03dbe19e9dca4ab2a33a6507b8e88a65",
            "ac44d7b5b974478f94d36d1c48fbe2b0",
            "7b1a6e6fc01b4c8c83e5fc701adb4e02",
            "4cbf19b03d8041678be9cb41e1b4a6db",
            "1b197174e0ba44b2a3996a59c8aef4b7",
            "1af0d207899f40609dcbb3d62730df00",
            "2bef5aac98044405817ccf9223c79053",
            "8c50a7a5fbc64c0facf8cc645478f72f",
            "eee5ad857f21450f9817b46745082e82",
            "2e983ba67a4c4fde91f7352aca57ec5f",
            "7aa3ebf28354493db7148c163a8d5fc0",
            "59b9526338d1471ab93d10640c26a53d",
            "0538f19a1204407fbdbd94b3fdb5a9f9",
            "028726772ebf4941b3a35eff686e3344",
            "6bee111dea104a8a80c9ed08b1c4022b",
            "6f883e3465b54768a367a6c7ee7d8727",
            "05d4b5b2173f4e5185904ddd4ecf7dad",
            "267bdec5719a4435bf633eabc74dab3f",
            "2d219dc3c3ca4ece8d5eb8049f160eed",
            "b0498a4f42b342aeb3462080cd88cf0c"
          ]
        },
        "id": "B0GP0d3GisIN",
        "outputId": "27af3848-bfcc-4069-d0ce-901ec86733ae"
      },
      "execution_count": 3,
      "outputs": [
        {
          "output_type": "display_data",
          "data": {
            "text/plain": [
              "Map(center=[27.95056, -82.45656], controls=(ZoomControl(options=['position', 'zoom_in_text', 'zoom_in_title', …"
            ],
            "application/vnd.jupyter.widget-view+json": {
              "version_major": 2,
              "version_minor": 0,
              "model_id": "db72060d559043b9af99b8046e59d6dd"
            }
          },
          "metadata": {
            "application/vnd.jupyter.widget-view+json": {
              "colab": {
                "custom_widget_manager": {
                  "url": "https://ssl.gstatic.com/colaboratory-static/widgets/colab-cdn-widget-manager/a8874ba6619b6106/manager.min.js"
                }
              }
            }
          }
        }
      ]
    },
    {
      "cell_type": "markdown",
      "source": [
        "# Model the street network\n",
        "\n",
        "It is helpful to model the street network as a Graph in which the intersections are **nodes** and the streets are **edges**. This will allow us to use typical path planning algorithms for greating the route from an origin to a destination node. ```osmnx``` uses OpenStreetMap data to create a ```networkx``` graph of the street network.\n",
        "\n",
        "```osmnx``` accepts a polygon of an area of interest and returns a the graph object. This example will use a simple ```shapely``` ```Polygon()``` that encapsulates the nearby streets and intersections near the origin and destination."
      ],
      "metadata": {
        "id": "kPSNQLg-6UFV"
      }
    },
    {
      "cell_type": "code",
      "source": [
        "# create a polygon of area of interest\n",
        "p1 = Point(-82.46079, 27.95042)\n",
        "p2 = Point(-82.45905, 27.94679)\n",
        "p3 = Point(-82.45168, 27.94934)\n",
        "p4 = Point(-82.45344, 27.95290)\n",
        "\n",
        "polygon = Polygon([p1, p2, p3, p4, p1])\n",
        "\n",
        "# Get a graph of the area\n",
        "G = ox.graph_from_polygon(polygon, network_type='drive')\n",
        "\n",
        "# Show map\n",
        "\n",
        "# Convert to gdf for plotting\n",
        "nodes, edges = ox.graph_to_gdfs(G)\n",
        "nodes['osmid'] = nodes.index\n",
        "nodes.reset_index(drop=True, inplace=True)\n",
        "\n",
        "map_args = {\"center\":(27.95056, -82.45656), \"zoom\":17, \"height\":\"800px\", \"width\":\"1000px\"}\n",
        "m = leafmap.Map(**map_args)\n",
        "m.add_tile_layer(**cartomap)\n",
        "m.add_points_from_xy(gdf_od, popup='type', layer_name='od', zoom_to_layer=False)\n",
        "m.add_points_from_xy(nodes, x=\"x\", y=\"y\", layer_name='nodes', zoom_to_layer=False, popup='osmid')\n",
        "m.add_gdf(edges, layer_name='edges', style={\"color\": \"black\", \"weight\": 3}, zoom_to_layer=False)\n",
        "\n",
        "display(m)"
      ],
      "metadata": {
        "id": "yBywXmSr8Es5",
        "colab": {
          "base_uri": "https://localhost:8080/",
          "height": 821,
          "referenced_widgets": [
            "c7d9bb48eea44572af7d2b993dbd0387",
            "b41bc4a720c342559693b2f0e556f3b4",
            "aa82b0d78f40484db0bd52a18c289ec2",
            "9d32a41aea2644d1a61e2b8feaa21575",
            "f49ca117b4b441a1bcc77c6beadc3dfa",
            "91efed07553d4c20873c2d040918657a",
            "018e712803b1497a990e6700664a6208",
            "5f67ee595f25439983229aa2bc23c2d9",
            "d4a8159f55814ac39d8ec0f7f3988233",
            "fd54f0f4a04b4cfb874964962106d5c6",
            "2380570c10fa46d2bf39968f79b4059a",
            "817e9630213047aa8b30161dad5b3856",
            "fa66ffc7299d4b4586f56ac2da21a6bd",
            "d4eaf7952e3942c2b21640e1d396a7bb",
            "6487dd2a418b4e6ca16921c652f7a29c",
            "c0286ebc67ba4f3aa03307d9c0427dab",
            "1552b8d96b8a4bf89944448574542844",
            "d9766b6f67a74cb9b0e742ce280f051a",
            "e5b28adde7f54e1289b1440c7aa909e2",
            "cb9222dbd9364c16a91c812215a95fb0",
            "196fca9b74114a1d950b88e3d11dd703",
            "c89b6c3235f34c2784e1c11a75143ed5",
            "a2449216e4ac4c2ca789f43f9574fef6",
            "20f5e92253f045a38360c9655509ec23",
            "ca241d2a0de542ee9dd93c6bf681e50a",
            "f36c1c37ec3b41ccb48b2bec081f55b1",
            "4617ff93034044e5b8611fa3f90fc46d",
            "41e948e1a8ef46d3824c4d09d46fad11",
            "1954cd3f340545509305c53bb9ad1526",
            "534f7a9fb0664e41916a3d756623449a",
            "c0f0ab3ce5b24aef98eb08b2a97f3d63",
            "b3397c63bbef4360b5201570f70679c9",
            "7b000b6bc08a4ed8a168098ff458ddc0",
            "f834440c820f4dbfb69f02af1402d345",
            "3698fac4c73a4effa3e91bb38210d93d",
            "f14d6c1b129d45049a4b0fe18effa88d",
            "4839a4e0ade94f7e9636e2bd9225e41c",
            "d9d4aaff264848b083a4e1d54795240e",
            "c1a281db9ba24e399dd3d14f96bdda1c",
            "86997d68ea2545018c240f6855ac2fc9",
            "09819a74809d41ad90ef1d2984eeac0c",
            "1d6bab88e10c414d9e4e4e09c7b289c0",
            "277251012fdb4b5da1d88aaa2cc07019",
            "08e78ab3f2bb4843b34998ef7563b9be",
            "bb37d28e49c9485cb41b6f11e7f4a91a",
            "4f0db85d402e4aa3aab4d49218864886",
            "c0091ace9ee345aa92db9a2c6f1e5557",
            "b15713d7ea12498a841fcd251f0b8df0",
            "81598bc3a095412b95d14f7fc06a4148",
            "5b9c712e818d4c73a95dc93bd93c0b59",
            "a7232effc62d4b10b70f5bee7ee89bae",
            "89f048f331a64a1da5e5f713ee199248",
            "05e996756fa94ea4be8d7baf25da2071",
            "8e678c4ea40a489faa7093402f3c63ad",
            "32f3195eee444fbdb0fe42fa71607f3f",
            "01aa00a9a03a44f78456219cccc676ec",
            "52c02f2c59f74e5389727654d90df288",
            "430d6f4684f54362af1638a471f313ca",
            "061eaa575b604eb5a300bb520851d539",
            "57ceb6670dfd4c43891c3ac01583f4b4",
            "113f77d5edf04dcba25ed5864f888b93",
            "21c7ea1e7be4433c8b328477c9a9e3f8",
            "05e970430e8447d9a283db8cdec745fa",
            "9df68d12c53f444380d3495e1d2c0d2a",
            "30375dea02824ffa980548a529c77bf3",
            "2609daa1f04e4773af582b4e66342100",
            "8f63797ebcfc4d0f9e3ce94d66804cdf",
            "5a61a06bdef449f8b5c745c0a75eb5fc",
            "2b5178adabb34f3688dfdf4a459e66d4",
            "b73f282d080f4c1f9d01d06a4180dea3",
            "e07a0f88c4654cbd84be5c51c84f1069",
            "4f95ce096a7f487f9007d1b003cfe6f9",
            "b612a6fe0c2943d8b0f445e1b163f905",
            "aba6f58151a14ce888351fec1d085dea",
            "d16317bd5efa412e9289e8c7ae3601c7",
            "ae61c89ae45d4ec2ac1d2852e119f10c",
            "094d296c6bf748c98006c87c9389113d",
            "b0532a3b4b95403c9cfa8e663e94c2ab",
            "7ea5b9a5b48f49f2ac391b2eae15f818",
            "3aba6cff76b34989a126b3d9f60be4e4",
            "ba7f353ea8e44c93895a39d6f7aa0b44",
            "91596c5652f544059babf6b11f2fff32",
            "f2758c79a7b84d488e5277d5b8743f34",
            "3df0e5209d3049508e68426e5ca6f155",
            "845cee72d2bf4172a0cc46dde21f4434",
            "51be751291614cba9bea416de8ccc240",
            "f436e0eff4984cfa953d2adc4ae25329",
            "117703898fa145abbf56b3cd1fe130eb",
            "237412ac0d1c49e2ab36f55c538636ee",
            "e7a52beeebfc4634a19ca5efb08ef907",
            "645c956a25974897b8cd2c640b4bf6d8",
            "aacabd0ee096499bb6eeabbc58cc24ff",
            "2353916e385641f781900c6fdd61bc8e",
            "7d031996c4144487aabe36413b59bdcd",
            "14cafbd0bed54255a13920c5f9003ee9",
            "27af11b5706e45bfa11a1c2f8cc6cc64",
            "e691cb09d87446d1a571c0344ce60573",
            "9fe6535dc80b43a49eb8a449c3a04f9d",
            "a3868860a30641b29708e63eefd37972",
            "6d25c44e3a8444fb9b423f239abea5ae",
            "aa9fc1ed708a4b12a9aca1cd0295c826",
            "a6bed152bdc04fb0818a81eac6952ee5",
            "62d927545b8c483b98123990c8ab0b5b",
            "11991e8ce5994de083592900a5234a28",
            "b136d5b366e146238314647aeda9859e",
            "55d355bddda948699cc341be7c654f45",
            "03c07d2ed30746bfa1fcd02aa251b76f",
            "b824992a9db7406dbc958e8e9b289e35",
            "4225a29bd5d84f98bdc4f0b42cc91da2",
            "60b3361506904a2fa1c711486c87d9cf",
            "7eaad1d1b420470cbeb7b9dcd65ecf5f",
            "fe3e8415dd2a41fa832069084aed1873",
            "c67e77f833e14bb8a38bfe82d5b8a3e1",
            "fbcb8f2da95c414ca3b79b2111e820e7",
            "5a872fc65c3c41e49a10bac8a8357339",
            "91c7b81d97b14beeb373f08dbe30e751",
            "04b9ae4887034a2984b7b907fdd0ec8c",
            "e3fb8c3270704f6d90b343bc374f3c05",
            "5de05a4149a946159deb1d51e73e5215",
            "f7ce10d791d343228d2393b987322f66",
            "2e0d7181fb094c87af1014c949bb5b18",
            "1ac558e2d0014cfca4cb08514b1f9073",
            "6382edb9a688441ea4f9da36802ea623",
            "7f5c087fbc934e3e97921e07198bfab3",
            "c1bc2565231a4c1783dc9c3985b99727",
            "86eceb634d164030b59ded4511c62ad3",
            "5cfb278f108043dbbac40cccb52e05f2",
            "c7dce053046942a7a96c484eb04be132",
            "dbaf5a58375245dc8a63e1714f6725fb",
            "1e612e723af64ae2b72c37c0087ec68d",
            "26debc408ebc4dea8b621bd718e31157",
            "ceeb3c94e76c449299b82b69db7af4d1",
            "5011534859b045b0ad56eec55c511144",
            "9db9fd2b254e4f3dbfbf6703a4764477",
            "2c35a98e601843f2827fd9612ef2e25e",
            "2656b2e5691641fdb88a6867210abdd1",
            "ade12d0a0e6f40f0bd2860f45a8e96fd",
            "759e9331f67e4bd9a06ee7911e52ba50",
            "66ff80996380460687afc59351cac46c",
            "5f5a597eb00542b290760d0492ed8722",
            "dac74462f1624ddaa5fc74647596751f",
            "3309fc1fc88b43548f3fb08f0244450c",
            "64d5947ff23946af994b47720a5e92ad",
            "36f481a3ab4e43ebad4ce86605865cef",
            "7b5b6b76d7b64ef586764614c00ec86f",
            "98c5b3e3e5624b57a2fb7ca1ff5c8e33",
            "4080dcdc1e2b480e93f1160fc3fcda2f",
            "f4c09fb918d4468890d643fca248cc47",
            "a8bc349fd8c04f79ba76dce42756b05b",
            "9ee1bf42412044a1b5e9009855a28aaa",
            "d9357f32226941a292c48bbeb9b2d97d",
            "262428a69b094d68ae173e17ecd9ee01",
            "ff6bcb7d4d70466fba6b4b3db61ebaf8",
            "6622ebbcde0345208311d62c1beb92eb",
            "e953696ddf144ed383e67e02dbc68d26",
            "3ca3ed1d933445fc90212d2cc37eb0a5",
            "8d61ed8287a64301a0163c0e876bf6b0",
            "9fae534bf7304b21bb9b4a4823561274",
            "97b2888b59d54ce39be78bea23cef34d",
            "2c2a8e77cd2c49109223d2ceb05a0a79",
            "f9357aad3f294dd5913bff3e38a72170",
            "c1722e8a1f9c4bd0a5840c73e0435acb",
            "dddba004b8664bb094e1b2d30a7c4910",
            "79832508f6c44074b1412aaa530fa9f4",
            "6bbd56f2883947e98b3ce7c2a6a179cf",
            "5c90cd7ca97842a1aabee8d459a45a15",
            "c69a13e781f7473abbf9b66b03fb381b",
            "bdd1235971e94a10917c3a6b0180a677",
            "8e89722b7edf4a79bfa3aa7f63bb83e7",
            "602bb3f180954791bb0fc7dcb4806216",
            "6038b27885cc4e43ac5aa996ae632f1f",
            "ffb548c190df4286b2bb52b1e957210e",
            "aaeb45205cb343daac6ec7f3e42c8e80",
            "22c89975a55d4878a76f72fe3bdc593b",
            "d5a6c5ee7e6d4a2b9dcbaf71e1697f09",
            "189883fee78c42de91d74d05d76b33db",
            "c59c2c68ed6f436a9d0ef53f877e2c09",
            "27298b6ab825416fb013943f8879ace5",
            "eaadfae36a2041f2b503eda4c2b52795",
            "fd98510c8e7249b5b7c28b54786298de",
            "5f0bb7d76b2c42f3ac899df10c70c8f0",
            "70df3630ce6e467b8fd117baa0c3ebb2",
            "cf4a1d5dad444203a87515ccccd46a4e",
            "76ddb08527fb449ba63ddacaa648f2b2",
            "6a4eafa6f00e497c90a23422a8056036",
            "6fda7e083b354d18b3705b09b301d601",
            "9f11c46e125542f39f43e2ed64fa018f",
            "cb96641fd6ad41d4bb970fe1e2a1e432",
            "94b2ac33b7d64dd0bea8fad9e8e596da",
            "9879cf2392a045bb97b3e765b3cdee3f",
            "4ce911893ccb470d92a82aed75a44f3a",
            "0ab0f8a04aa748c1865ed316e2cba437",
            "a7c3b7a231634144bd1406ea84a75186",
            "ccb4c9dc46fe496f8dde70e9274ab348",
            "a73cffc913624bcc980d433fbcf96882",
            "540317f6003f4d79bf446bc9eed87892",
            "b27d9eab73914eafa9ba49c682da9b9a",
            "58d9e6246b974c3db64c6b2a04f76685",
            "96ab47ae855b4413ad5930520be5d9aa",
            "67e51087b5ad451e890926167c981975",
            "8373786fb00349bba296724dc6316aca",
            "df7b189ff6fa447eb1b887aadd62499e",
            "5dc50209ee0349caba497b4c93f432b4",
            "a24ba4bc6f3e48a6b1a1327820a7ad62",
            "6438d788f4684b019c2594511c0ea8d1",
            "fddfdd23dc6943aabe511df305813af2",
            "4a42f28652f441789b55bbb2f0625da4",
            "ffe59970948946f2b6d003c456cd3ef0",
            "ea29adfda3a6411a833275cb980bf7f6",
            "e41aaeb26b5144369689126980edbf9b",
            "2709cf41bcd745fab42fefd0ab218f31",
            "76106730c58a44d4a44f5c7ef1a1cc38",
            "ef582b1d80d345409df58d9f8b1d6492",
            "b66e9c142d9a4ec2b68022538108468e",
            "ba486b99f78144c88d411be8362cdece",
            "056ab46b9c1c4bef865c3ff23852abc8",
            "bec56cedde184de78206c5a25976319f",
            "817479587dc8488ca8baacb480557cae",
            "929a3797562b4dfa83ce70f41b6dc5f0",
            "04be039fc425448bb3284e0f42b4e5d0",
            "8c65a44774694310ac450a3c5b1286df",
            "ed0e808a48bb4fcd8a557ca74b719ad9",
            "6460010527ef49b494f245a667e71d65",
            "51f94313addb403699a5d64d5d084e91",
            "c872c27ed7484189b25514b7b80aae4c",
            "08dc106e652645da97436dd72bc3de78",
            "f35f76bca7814ba5a3b20d53631aed0d",
            "c7d3b45360f9431ea396125ec96a3ab1",
            "a70f435de8c24c67960313fa0c8eeb62",
            "d31c09e9212f4e17b74cfc045215be03",
            "fd29a6b47d374ee5b338876e4b793a4d"
          ]
        },
        "outputId": "47f8f555-905c-4c42-aad0-2c7e7a9be9dc"
      },
      "execution_count": 4,
      "outputs": [
        {
          "output_type": "display_data",
          "data": {
            "text/plain": [
              "Map(center=[27.95056, -82.45656], controls=(ZoomControl(options=['position', 'zoom_in_text', 'zoom_in_title', …"
            ],
            "application/vnd.jupyter.widget-view+json": {
              "version_major": 2,
              "version_minor": 0,
              "model_id": "c7d9bb48eea44572af7d2b993dbd0387"
            }
          },
          "metadata": {
            "application/vnd.jupyter.widget-view+json": {
              "colab": {
                "custom_widget_manager": {
                  "url": "https://ssl.gstatic.com/colaboratory-static/widgets/colab-cdn-widget-manager/a8874ba6619b6106/manager.min.js"
                }
              }
            }
          }
        }
      ]
    },
    {
      "cell_type": "markdown",
      "source": [
        "## Finding a route\n",
        "\n",
        "The typical method of finding a route is to use the origin and destination nodes and returning a list of nodes that should be passed to reach the destination. ```osmnx``` has a function that finds the nearest nodes to a particular point.\n",
        "\n",
        "The origin and destination nodes can be passed to any ```networkx``` path finding algorithm. This example uses ```osmnx.shortest_path``` which is an implemention of ```nx.shortest_path``` that uses Dijkstra's algorithm with the street length as weights."
      ],
      "metadata": {
        "id": "-9mDgxWK67w7"
      }
    },
    {
      "cell_type": "code",
      "source": [
        "# get a route from origin to destination\n",
        "X = [origin_point.x, destination_point.x]\n",
        "Y = [origin_point.y, destination_point.y]\n",
        "\n",
        "# find the nearest nodes to the origin and destination points\n",
        "orig_node, dest_node = ox.nearest_nodes(G, X, Y, return_dist=False)\n",
        "\n",
        "# Get the route as a list of nodes\n",
        "route = ox.shortest_path(G, orig_node, dest_node)\n",
        "\n",
        "# Show map\n",
        "\n",
        "# get gemetry of route and put in a gdf for drawing\n",
        "route_geom = ox.utils_graph.get_route_edge_attributes(G, route, attribute=\"geometry\")\n",
        "multi_line = MultiLineString(route_geom)\n",
        "route_gdf = gpd.GeoDataFrame(geometry=[ops.linemerge(multi_line)], crs=\"epsg:4326\")\n",
        "\n",
        "m = leafmap.Map(**map_args)\n",
        "m.add_tile_layer(**cartomap)\n",
        "m.add_points_from_xy(gdf_od, x=\"longitude\", y=\"latitude\", popup='type', layer_name='od', zoom_to_layer=False)\n",
        "m.add_gdf(edges, layer_name='edges', style={\"color\": \"black\", \"weight\": 3}, zoom_to_layer=False)\n",
        "m.add_gdf(route_gdf, layer_name='route', style={\"color\": \"red\", \"weight\": 6}, zoom_to_layer=False)\n",
        "display(m)\n"
      ],
      "metadata": {
        "id": "YVUM5eUyDlpH",
        "colab": {
          "base_uri": "https://localhost:8080/",
          "height": 821,
          "referenced_widgets": [
            "46e034b1441f4f5b880598ef486c5b0d",
            "49d23282301b4da886b1490dab9c0bef",
            "2a050561ef5b4bd99a0e5e1dad83b27f",
            "8eae1923ba23414fb9e123ce11a42f89",
            "3f7e3e8914734937b432b46b523e5124",
            "6e72711d6437488e9ff7eb5d42057a7d",
            "21263f95896446ebafccd09b66b694e6",
            "a195549e5e7b4cb3af061399b4507b9e",
            "1eb37df0a92d4074a242b69145ba5f41",
            "138e0957343d4428b77ed1c035ad27ea",
            "25ce45278c0b40769ee475798b833488",
            "0c326ec231634faa8259c4c1e8e6245e",
            "03b925990dc74cf682b2a3a59a2c4509",
            "8b3b6e8646a243a68baf99f865644c8b",
            "b11c1365d8584a2da1dcc19cebd592ff",
            "e138b693ab5443b4997b483e4dd53beb",
            "51f2a5e3c6aa4c478dc41afdd58a9612",
            "1136de21dfe34f66a689cb3b0fef0fbc",
            "8ced384a14234da18d44619bca9dbc4d",
            "84711b3e6cf64a3abc57f938a07ef584",
            "2b29f1a95e084ab792985fd1ea516501",
            "3cf134a5cf7249b89ecbfe92ee1cdfb5",
            "5b7da5b6ef3b4a468be9ad4c7ca13e2f",
            "1f46af3470eb4b2087d0767467206d60",
            "828e5bea01144054b96fb36bb7c9627b",
            "2fd6449a304542a2b422718474990f44",
            "0fcc60d591a0463e85acaa869cb2d08d",
            "f550d3296d48427aadebd6480e373e5c",
            "939b4809737342e8bc6a60b7e7d4d40f",
            "c28abbcca6834becaa570e45440e7f15",
            "3c89cfe1586942959b8db3d59562b899",
            "60fa3944ab5245e7adbf7cea29cfd347",
            "d0f47b5f91874594894eefde74d0d609",
            "f92262b916b740e6a9363c99204131bc",
            "f7e156b791304dfd9219b2750ec09782",
            "1ddf0f8c71444fed9bfac95ad3b5978f",
            "da6de02bdce443ba8656f25ae6579f29",
            "4f6deddc239a4eba8c5323a12e6d8950",
            "07eb43aeda044b5294bcbe3a411c357f",
            "324b8f73d03e4e51821fc2287a3de6e5",
            "ecdabb541fb940d19c782942313ba9ec",
            "a02ad8dd9dbc43dbb06c093afa55040c",
            "f9a91817e1554283a7fba447780f5bf0",
            "49c7dfd21cd947259805f7114245be27",
            "87de1a3a69954c14bfb98bcb5b2f1f1e",
            "32c54a9d7ae54c5b9bfbb01ec16c6855",
            "2fef3a076f3f4b39bc1a3c44b764bd18",
            "91d46733400343bb8a2fda76fdaa462d",
            "c61e73677fc74b0da41ad59148ad8548",
            "143cf3aa10e74e1cbc7c5e5cf9f44b1d",
            "5549a34888974ac784f318d8299b264d",
            "a5bd4dcf007d478ab46d08d40270eb35",
            "55ec9aee68b346fea055423e27df263c",
            "f48ea533ad42477d940f6f4cbb984758",
            "93f8d6f660c34722869aada844bd204b",
            "cf89471cf8f346f8b740006e5344d560",
            "554efc18ba824348bc078d0f9cacfc92",
            "248c0144436442d98390303e6844cdd8",
            "2edcc6cc99fe4370aa190e3b7a69091a",
            "b26e7d4150104f6b9786491c84d198c5",
            "0be49346e8da4dd78c5ab542b5f326ea"
          ]
        },
        "outputId": "aaea2957-0c50-409f-8544-4c9033e3aa37"
      },
      "execution_count": 5,
      "outputs": [
        {
          "output_type": "display_data",
          "data": {
            "text/plain": [
              "Map(center=[27.95056, -82.45656], controls=(ZoomControl(options=['position', 'zoom_in_text', 'zoom_in_title', …"
            ],
            "application/vnd.jupyter.widget-view+json": {
              "version_major": 2,
              "version_minor": 0,
              "model_id": "46e034b1441f4f5b880598ef486c5b0d"
            }
          },
          "metadata": {
            "application/vnd.jupyter.widget-view+json": {
              "colab": {
                "custom_widget_manager": {
                  "url": "https://ssl.gstatic.com/colaboratory-static/widgets/colab-cdn-widget-manager/a8874ba6619b6106/manager.min.js"
                }
              }
            }
          }
        }
      ]
    },
    {
      "cell_type": "markdown",
      "source": [
        "# Convert route to a BlueSky sceneario\n",
        "\n",
        "There is an accompanying ```bstools``` module that comes with some functions that use the ```osmnx``` graph and route to create a scenario which can be used in BlueSky."
      ],
      "metadata": {
        "id": "kX2V-7my7bts"
      }
    },
    {
      "cell_type": "code",
      "source": [
        "# now we can create a bluesky scenario with this route\n",
        "import bstools\n",
        "\n",
        "# create the scenario\n",
        "lats, lons = bstools.get_lat_lon_from_osm_route(G, route)\n",
        "turn_bool = bstools.get_turn_arrays(lats, lons)\n",
        "scenario = bstools.create_scenario_text(lats, lons, turn_bool)\n",
        "\n",
        "# save the scenario file\n",
        "with open('D1.scn', \"w\") as f:\n",
        "  f.write(scenario)\n",
        "\n",
        "print(scenario)"
      ],
      "metadata": {
        "id": "9kTPakxLrCdH",
        "colab": {
          "base_uri": "https://localhost:8080/"
        },
        "outputId": "92b79a7e-5852-40f5-c1aa-aaf8e6798baf"
      },
      "execution_count": 6,
      "outputs": [
        {
          "output_type": "stream",
          "name": "stdout",
          "text": [
            "# Allow BlueSky to understand 0 speed commands\n",
            "00:00:00>CASMACHTHR 0.0\n",
            "\n",
            "# Zoom and turn on tiledmap\n",
            "00:00:00>ZOOM 350\n",
            "00:00:00>VIS MAP TILEDMAP\n",
            "\n",
            "# Create drone at height 0 speed 0 and pan to it\n",
            "00:00:00>CRE D1 M600 27.9484372 -82.4582366 68.70043011899615 0 0\n",
            "00:00:00>PAN D1\n",
            "\n",
            "# Tell drone to climb to 60 feet\n",
            "00:00:00>ALT D1 60\n",
            "\n",
            "# At 60 feet drone should increase speed to 30 knots\n",
            "00:00:00>D1 ATALT 60 SPD D1 30\n",
            "\n",
            "# Add waypoints\n",
            "00:00:00>ADDWAYPOINTS D1,27.9484652 -82.4581553,,30,FLYBY, 0,27.948628 -82.457683,,30,FLYBY, 0,27.9486836 -82.4575218,,30,FLYBY, 0,27.9487174 -82.4574238,,30,TURNSPD,10,27.9488104 -82.4574634,,30,FLYBY, 0,27.9490581 -82.4575684,,30,FLYBY, 0,27.949389 -82.4577099,,30,FLYBY, 0,27.949467 -82.457742,,30,TURNSPD,10,27.9495045 -82.457635,,30,FLYBY, 0,27.9497307 -82.4569898,,30,FLYBY, 0,27.949759 -82.456904,,30,FLYBY, 0,27.9497928 -82.4568055,,30,FLYBY, 0,27.949959 -82.45632,,30,FLYBY, 0,27.9500109 -82.4561667,,30,FLYBY, 0,27.950046 -82.456066,,30,FLYBY, 0,27.9500819 -82.4559605,,30,FLYBY, 0,27.9501733 -82.4556937,,30,FLYBY, 0,27.9502959 -82.455333,,30,FLYBY, 0,27.950334 -82.455224,,30,FLYBY, 0,27.9503766 -82.4551043,,30,FLYBY, 0,27.9505879 -82.4544901,,30,FLYBY, 0,27.9506251 -82.4543834,,30,FLYBY, 0,27.9506251 -82.4543834,,30,FLYBY, 0\n",
            "\n",
            "# Tell drone to start following route when it is at 60 ft\n",
            "00:00:00>D1 ATALT 60 LNAV D1 ON\n",
            "00:00:00>D1 ATALT 60 VNAV D1 ON\n",
            "\n",
            "# Tell drone to reach speed 0 at last waypoint and begin descending\n",
            "00:00:00>D1 ATDIST 27.9506251 -82.4543834 0.01 SPD D1 0\n",
            "00:00:00>D1 ATDIST 27.9506251 -82.4543834 0.01 D1 ATSPD 0 ALT D1 0\n",
            "00:00:00>D1 ATDIST 27.9506251 -82.4543834 0.01 D1 ATALT 0 DEL D1\n"
          ]
        }
      ]
    },
    {
      "cell_type": "markdown",
      "source": [
        "## Summary\n",
        "\n",
        "Below is all the code needed to write a simple scenario file that will work in BlueSky. Note that all of the ```leafmap``` code is gone because it was only used for visualization."
      ],
      "metadata": {
        "id": "kS5qsUDXc-j7"
      }
    },
    {
      "cell_type": "code",
      "source": [
        "import osmnx as ox\n",
        "import geopandas as gpd\n",
        "from shapely.geometry import Point, Polygon\n",
        "\n",
        "# create a polygon of area of interest\n",
        "p1 = Point(-82.46079, 27.95042)\n",
        "p2 = Point(-82.45905, 27.94679)\n",
        "p3 = Point(-82.45168, 27.94934)\n",
        "p4 = Point(-82.45344, 27.95290)\n",
        "\n",
        "polygon = Polygon([p1, p2, p3, p4, p1])\n",
        "\n",
        "# Get a graph of the area\n",
        "G = ox.graph_from_polygon(polygon, network_type='drive')\n",
        "\n",
        "### perform simplification of graph here ###\n",
        "\n",
        "# Create a mission from pharmacy to courthouse\n",
        "origin_point = Point(-82.45863, 27.94853)\n",
        "destination_point = Point(-82.45413, 27.95102)\n",
        "\n",
        "# get a route from origin to destination\n",
        "X = [origin_point.x, destination_point.x]\n",
        "Y = [origin_point.y, destination_point.y]\n",
        "\n",
        "# find the nearest nodes to the origin and destination points\n",
        "orig_node, dest_node = ox.nearest_nodes(G, X, Y, return_dist=False)\n",
        "\n",
        "# Get the route as a list of nodes\n",
        "route = ox.shortest_path(G, orig_node, dest_node)\n",
        "\n",
        "# create the scenario\n",
        "lats, lons = bstools.get_lat_lon_from_osm_route(G, route)\n",
        "turn_bool = bstools.get_turn_arrays(lats, lons)\n",
        "scenario = bstools.create_scenario_text(lats, lons, turn_bool)\n",
        "\n",
        "# save the scenario file\n",
        "with open('D1.scn', \"w\") as f:\n",
        "  f.write(scenario)\n",
        "\n",
        "print(scenario)"
      ],
      "metadata": {
        "id": "GplHWU2-c9tE",
        "colab": {
          "base_uri": "https://localhost:8080/"
        },
        "outputId": "124ae178-5aa1-4ec7-f144-0520ae5a8af7"
      },
      "execution_count": 9,
      "outputs": [
        {
          "output_type": "stream",
          "name": "stdout",
          "text": [
            "# Allow BlueSky to understand 0 speed commands\n",
            "00:00:00>CASMACHTHR 0.0\n",
            "\n",
            "# Zoom and turn on tiledmap\n",
            "00:00:00>ZOOM 350\n",
            "00:00:00>VIS MAP TILEDMAP\n",
            "\n",
            "# Create drone at height 0 speed 0 and pan to it\n",
            "00:00:00>CRE D1 M600 27.9484372 -82.4582366 68.70043011899615 0 0\n",
            "00:00:00>PAN D1\n",
            "\n",
            "# Tell drone to climb to 60 feet\n",
            "00:00:00>ALT D1 60\n",
            "\n",
            "# At 60 feet drone should increase speed to 30 knots\n",
            "00:00:00>D1 ATALT 60 SPD D1 30\n",
            "\n",
            "# Add waypoints\n",
            "00:00:00>ADDWAYPOINTS D1,27.9484652 -82.4581553,,30,FLYBY, 0,27.948628 -82.457683,,30,FLYBY, 0,27.9486836 -82.4575218,,30,FLYBY, 0,27.9487174 -82.4574238,,30,TURNSPD,10,27.9488104 -82.4574634,,30,FLYBY, 0,27.9490581 -82.4575684,,30,FLYBY, 0,27.949389 -82.4577099,,30,FLYBY, 0,27.949467 -82.457742,,30,TURNSPD,10,27.9495045 -82.457635,,30,FLYBY, 0,27.9497307 -82.4569898,,30,FLYBY, 0,27.949759 -82.456904,,30,FLYBY, 0,27.9497928 -82.4568055,,30,FLYBY, 0,27.949959 -82.45632,,30,FLYBY, 0,27.9500109 -82.4561667,,30,FLYBY, 0,27.950046 -82.456066,,30,FLYBY, 0,27.9500819 -82.4559605,,30,FLYBY, 0,27.9501733 -82.4556937,,30,FLYBY, 0,27.9502959 -82.455333,,30,FLYBY, 0,27.950334 -82.455224,,30,FLYBY, 0,27.9503766 -82.4551043,,30,FLYBY, 0,27.9505879 -82.4544901,,30,FLYBY, 0,27.9506251 -82.4543834,,30,FLYBY, 0,27.9506251 -82.4543834,,30,FLYBY, 0\n",
            "\n",
            "# Tell drone to start following route when it is at 60 ft\n",
            "00:00:00>D1 ATALT 60 LNAV D1 ON\n",
            "00:00:00>D1 ATALT 60 VNAV D1 ON\n",
            "\n",
            "# Tell drone to reach speed 0 at last waypoint and begin descending\n",
            "00:00:00>D1 ATDIST 27.9506251 -82.4543834 0.01 SPD D1 0\n",
            "00:00:00>D1 ATDIST 27.9506251 -82.4543834 0.01 D1 ATSPD 0 ALT D1 0\n",
            "00:00:00>D1 ATDIST 27.9506251 -82.4543834 0.01 D1 ATALT 0 DEL D1\n"
          ]
        }
      ]
    },
    {
      "cell_type": "markdown",
      "source": [
        "## Final remarks\n",
        "In reality, the street graph may need some simplification before it can be used. This can include:\n",
        "\n",
        "*   Merging parallel edges that represent the same street.\n",
        "*   Remvoing roundabouts.\n",
        "*   Modifying edge directionality.\n",
        "*   many others...\n",
        "\n",
        "The next notebook is about including geofences for cases where it is not necessary to follow streets in VLL."
      ],
      "metadata": {
        "id": "7zWE7YU8er0v"
      }
    }
  ]
}
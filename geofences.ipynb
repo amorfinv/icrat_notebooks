{
  "nbformat": 4,
  "nbformat_minor": 0,
  "metadata": {
    "colab": {
      "name": "geofences.ipynb",
      "provenance": [],
      "collapsed_sections": [],
      "mount_file_id": "1qziEOdXAoNi-b68UQ21vDEJ2g18ypn2Y",
      "authorship_tag": "ABX9TyNYqkKRYYt7GJB09LqaBb0I",
      "include_colab_link": true
    },
    "kernelspec": {
      "name": "python3",
      "display_name": "Python 3"
    },
    "language_info": {
      "name": "python"
    },
    "widgets": {
      "application/vnd.jupyter.widget-state+json": {
        "f2edf974aa6144e9a56109b2f265894a": {
          "model_module": "jupyter-leaflet",
          "model_name": "LeafletMapModel",
          "model_module_version": "^0.16.0",
          "state": {
            "_dom_classes": [],
            "_model_module": "jupyter-leaflet",
            "_model_module_version": "^0.16.0",
            "_model_name": "LeafletMapModel",
            "_view_count": null,
            "_view_module": "jupyter-leaflet",
            "_view_module_version": "^0.16.0",
            "_view_name": "LeafletMapView",
            "bottom": 1800060954,
            "bounce_at_zoom_limits": true,
            "box_zoom": true,
            "center": [
              27.94226328995482,
              -82.46029067784549
            ],
            "close_popup_on_click": true,
            "controls": [
              "IPY_MODEL_ef1d0cd1852449f1a91480382a6b14cd",
              "IPY_MODEL_3f85a2c121ab40f0a37b6642a5f2727d",
              "IPY_MODEL_689f2dfd11564463aaab47ab8e8e5258",
              "IPY_MODEL_9e17221fcb0f4bc49f1e7ee167c43bb4",
              "IPY_MODEL_db1ff141e91a4a8f978342da01d0ceeb",
              "IPY_MODEL_14ca077786ac44b6b320f3de070a4f68",
              "IPY_MODEL_7f2eaac4caca4fb69b2945f5a163ff1f",
              "IPY_MODEL_a7c4b3df016e405394640882ef4985d5"
            ],
            "crs": {
              "name": "EPSG3857",
              "custom": false
            },
            "default_style": "IPY_MODEL_5007d050445a4cd3b285034dfadca8aa",
            "double_click_zoom": true,
            "dragging": true,
            "dragging_style": "IPY_MODEL_e9fa2740929148c4a94fca512469ac14",
            "east": -82.46026972308756,
            "fullscreen": false,
            "inertia": true,
            "inertia_deceleration": 3000,
            "inertia_max_speed": 1500,
            "interpolation": "bilinear",
            "keyboard": true,
            "keyboard_pan_offset": 80,
            "keyboard_zoom_offset": 1,
            "layers": [
              "IPY_MODEL_0136d25c81bb4854bacfa862165f5a98",
              "IPY_MODEL_3b514760180d4c39940837b5e11c2484"
            ],
            "layout": "IPY_MODEL_9ebaf562a98e4d45974b5ab05fdf672e",
            "left": 1163693810,
            "max_zoom": 24,
            "min_zoom": 1,
            "modisdate": "2022-06-13",
            "north": 27.94228180181028,
            "options": [
              "bounce_at_zoom_limits",
              "box_zoom",
              "center",
              "close_popup_on_click",
              "double_click_zoom",
              "dragging",
              "fullscreen",
              "inertia",
              "inertia_deceleration",
              "inertia_max_speed",
              "interpolation",
              "keyboard",
              "keyboard_pan_offset",
              "keyboard_zoom_offset",
              "max_zoom",
              "min_zoom",
              "prefer_canvas",
              "scroll_wheel_zoom",
              "tap",
              "tap_tolerance",
              "touch_zoom",
              "world_copy_jump",
              "zoom",
              "zoom_animation_threshold",
              "zoom_delta",
              "zoom_snap",
              "zoom_start"
            ],
            "prefer_canvas": false,
            "right": 1163694310,
            "scroll_wheel_zoom": true,
            "south": 27.942244778096175,
            "style": "IPY_MODEL_5007d050445a4cd3b285034dfadca8aa",
            "tap": true,
            "tap_tolerance": 15,
            "top": 1800060454,
            "touch_zoom": true,
            "west": -82.46031163260342,
            "window_url": "https://3dxmezm1rlv-496ff2e9c6d22116-0-colab.googleusercontent.com/outputframe.html?vrz=colab-20220610-060044-RC00_454131558",
            "world_copy_jump": false,
            "zoom": 24,
            "zoom_animation_threshold": 4,
            "zoom_delta": 1,
            "zoom_snap": 1,
            "zoom_start": 12,
            "_dragging": false
          }
        },
        "ef1d0cd1852449f1a91480382a6b14cd": {
          "model_module": "jupyter-leaflet",
          "model_name": "LeafletZoomControlModel",
          "model_module_version": "^0.16.0",
          "state": {
            "_model_module": "jupyter-leaflet",
            "_model_module_version": "^0.16.0",
            "_model_name": "LeafletZoomControlModel",
            "_view_count": null,
            "_view_module": "jupyter-leaflet",
            "_view_module_version": "^0.16.0",
            "_view_name": "LeafletZoomControlView",
            "options": [
              "position",
              "zoom_in_text",
              "zoom_in_title",
              "zoom_out_text",
              "zoom_out_title"
            ],
            "position": "topleft",
            "zoom_in_text": "+",
            "zoom_in_title": "Zoom in",
            "zoom_out_text": "-",
            "zoom_out_title": "Zoom out"
          }
        },
        "3f85a2c121ab40f0a37b6642a5f2727d": {
          "model_module": "jupyter-leaflet",
          "model_name": "LeafletAttributionControlModel",
          "model_module_version": "^0.16.0",
          "state": {
            "_model_module": "jupyter-leaflet",
            "_model_module_version": "^0.16.0",
            "_model_name": "LeafletAttributionControlModel",
            "_view_count": null,
            "_view_module": "jupyter-leaflet",
            "_view_module_version": "^0.16.0",
            "_view_name": "LeafletAttributionControlView",
            "options": [
              "position",
              "prefix"
            ],
            "position": "bottomright",
            "prefix": "ipyleaflet"
          }
        },
        "689f2dfd11564463aaab47ab8e8e5258": {
          "model_module": "jupyter-leaflet",
          "model_name": "LeafletFullScreenControlModel",
          "model_module_version": "^0.16.0",
          "state": {
            "_model_module": "jupyter-leaflet",
            "_model_module_version": "^0.16.0",
            "_model_name": "LeafletFullScreenControlModel",
            "_view_count": null,
            "_view_module": "jupyter-leaflet",
            "_view_module_version": "^0.16.0",
            "_view_name": "LeafletFullScreenControlView",
            "options": [
              "position"
            ],
            "position": "topleft"
          }
        },
        "9e17221fcb0f4bc49f1e7ee167c43bb4": {
          "model_module": "jupyter-leaflet",
          "model_name": "LeafletDrawControlModel",
          "model_module_version": "^0.16.0",
          "state": {
            "_model_module": "jupyter-leaflet",
            "_model_module_version": "^0.16.0",
            "_model_name": "LeafletDrawControlModel",
            "_view_count": null,
            "_view_module": "jupyter-leaflet",
            "_view_module_version": "^0.16.0",
            "_view_name": "LeafletDrawControlView",
            "circle": {
              "shapeOptions": {
                "color": "#3388ff"
              }
            },
            "circlemarker": {},
            "data": [],
            "edit": true,
            "marker": {
              "shapeOptions": {
                "color": "#3388ff"
              }
            },
            "options": [
              "position"
            ],
            "polygon": {
              "shapeOptions": {}
            },
            "polyline": {
              "shapeOptions": {}
            },
            "position": "topleft",
            "rectangle": {
              "shapeOptions": {
                "color": "#3388ff"
              }
            },
            "remove": true
          }
        },
        "db1ff141e91a4a8f978342da01d0ceeb": {
          "model_module": "jupyter-leaflet",
          "model_name": "LeafletWidgetControlModel",
          "model_module_version": "^0.16.0",
          "state": {
            "_model_module": "jupyter-leaflet",
            "_model_module_version": "^0.16.0",
            "_model_name": "LeafletWidgetControlModel",
            "_view_count": null,
            "_view_module": "jupyter-leaflet",
            "_view_module_version": "^0.16.0",
            "_view_name": "LeafletWidgetControlView",
            "max_height": null,
            "max_width": null,
            "min_height": null,
            "min_width": null,
            "options": [
              "position",
              "transparent_bg"
            ],
            "position": "bottomright",
            "transparent_bg": false,
            "widget": "IPY_MODEL_dbaca4b7204246338dae7dc2b8b71a46"
          }
        },
        "14ca077786ac44b6b320f3de070a4f68": {
          "model_module": "jupyter-leaflet",
          "model_name": "LeafletMeasureControlModel",
          "model_module_version": "^0.16.0",
          "state": {
            "_custom_units": {},
            "_model_module": "jupyter-leaflet",
            "_model_module_version": "^0.16.0",
            "_model_name": "LeafletMeasureControlModel",
            "_view_count": null,
            "_view_module": "jupyter-leaflet",
            "_view_module_version": "^0.16.0",
            "_view_name": "LeafletMeasureControlView",
            "active_color": "#ABE67E",
            "capture_z_index": 10000,
            "completed_color": "#C8F2BE",
            "options": [
              "active_color",
              "capture_z_index",
              "completed_color",
              "popup_options",
              "position",
              "primary_area_unit",
              "primary_length_unit",
              "secondary_area_unit",
              "secondary_length_unit"
            ],
            "popup_options": {
              "className": "leaflet-measure-resultpopup",
              "autoPanPadding": [
                10,
                10
              ]
            },
            "position": "topleft",
            "primary_area_unit": "acres",
            "primary_length_unit": "feet",
            "secondary_area_unit": null,
            "secondary_length_unit": null
          }
        },
        "7f2eaac4caca4fb69b2945f5a163ff1f": {
          "model_module": "jupyter-leaflet",
          "model_name": "LeafletScaleControlModel",
          "model_module_version": "^0.16.0",
          "state": {
            "_model_module": "jupyter-leaflet",
            "_model_module_version": "^0.16.0",
            "_model_name": "LeafletScaleControlModel",
            "_view_count": null,
            "_view_module": "jupyter-leaflet",
            "_view_module_version": "^0.16.0",
            "_view_name": "LeafletScaleControlView",
            "imperial": true,
            "max_width": 100,
            "metric": true,
            "options": [
              "imperial",
              "max_width",
              "metric",
              "position",
              "update_when_idle"
            ],
            "position": "bottomleft",
            "update_when_idle": false
          }
        },
        "a7c4b3df016e405394640882ef4985d5": {
          "model_module": "jupyter-leaflet",
          "model_name": "LeafletWidgetControlModel",
          "model_module_version": "^0.16.0",
          "state": {
            "_model_module": "jupyter-leaflet",
            "_model_module_version": "^0.16.0",
            "_model_name": "LeafletWidgetControlModel",
            "_view_count": null,
            "_view_module": "jupyter-leaflet",
            "_view_module_version": "^0.16.0",
            "_view_name": "LeafletWidgetControlView",
            "max_height": null,
            "max_width": null,
            "min_height": null,
            "min_width": null,
            "options": [
              "position",
              "transparent_bg"
            ],
            "position": "topright",
            "transparent_bg": false,
            "widget": "IPY_MODEL_fa90fb01249c46efb5875b97307c35c8"
          }
        },
        "5007d050445a4cd3b285034dfadca8aa": {
          "model_module": "jupyter-leaflet",
          "model_name": "LeafletMapStyleModel",
          "model_module_version": "^0.16.0",
          "state": {
            "_model_module": "jupyter-leaflet",
            "_model_module_version": "^0.16.0",
            "_model_name": "LeafletMapStyleModel",
            "_view_count": null,
            "_view_module": "@jupyter-widgets/base",
            "_view_module_version": "1.2.0",
            "_view_name": "StyleView",
            "cursor": "grab"
          }
        },
        "e9fa2740929148c4a94fca512469ac14": {
          "model_module": "jupyter-leaflet",
          "model_name": "LeafletMapStyleModel",
          "model_module_version": "^0.16.0",
          "state": {
            "_model_module": "jupyter-leaflet",
            "_model_module_version": "^0.16.0",
            "_model_name": "LeafletMapStyleModel",
            "_view_count": null,
            "_view_module": "@jupyter-widgets/base",
            "_view_module_version": "1.2.0",
            "_view_name": "StyleView",
            "cursor": "move"
          }
        },
        "0136d25c81bb4854bacfa862165f5a98": {
          "model_module": "jupyter-leaflet",
          "model_name": "LeafletTileLayerModel",
          "model_module_version": "^0.16.0",
          "state": {
            "_model_module": "jupyter-leaflet",
            "_model_module_version": "^0.16.0",
            "_model_name": "LeafletTileLayerModel",
            "_view_count": null,
            "_view_module": "jupyter-leaflet",
            "_view_module_version": "^0.16.0",
            "_view_name": "LeafletTileLayerView",
            "attribution": "&copy; <a href=\"https://www.openstreetmap.org/copyright\">OpenStreetMap</a> contributors",
            "base": true,
            "bottom": true,
            "bounds": null,
            "detect_retina": false,
            "loading": true,
            "max_native_zoom": 18,
            "max_zoom": 19,
            "min_native_zoom": 0,
            "min_zoom": 1,
            "name": "OpenStreetMap",
            "no_wrap": false,
            "opacity": 1,
            "options": [
              "attribution",
              "bounds",
              "detect_retina",
              "max_native_zoom",
              "max_zoom",
              "min_native_zoom",
              "min_zoom",
              "no_wrap",
              "tile_size",
              "tms"
            ],
            "popup": null,
            "popup_max_height": null,
            "popup_max_width": 300,
            "popup_min_width": 50,
            "show_loading": false,
            "tile_size": 256,
            "tms": false,
            "url": "https://a.tile.openstreetmap.org/{z}/{x}/{y}.png",
            "visible": true
          }
        },
        "3b514760180d4c39940837b5e11c2484": {
          "model_module": "jupyter-leaflet",
          "model_name": "LeafletTileLayerModel",
          "model_module_version": "^0.16.0",
          "state": {
            "_model_module": "jupyter-leaflet",
            "_model_module_version": "^0.16.0",
            "_model_name": "LeafletTileLayerModel",
            "_view_count": null,
            "_view_module": "jupyter-leaflet",
            "_view_module_version": "^0.16.0",
            "_view_name": "LeafletTileLayerView",
            "attribution": "CartoDB",
            "base": false,
            "bottom": true,
            "bounds": null,
            "detect_retina": false,
            "loading": true,
            "max_native_zoom": 18,
            "max_zoom": 18,
            "min_native_zoom": 0,
            "min_zoom": 0,
            "name": "CartoDB",
            "no_wrap": false,
            "opacity": 1,
            "options": [
              "attribution",
              "bounds",
              "detect_retina",
              "max_native_zoom",
              "max_zoom",
              "min_native_zoom",
              "min_zoom",
              "no_wrap",
              "tile_size",
              "tms"
            ],
            "popup": null,
            "popup_max_height": null,
            "popup_max_width": 300,
            "popup_min_width": 50,
            "show_loading": false,
            "tile_size": 256,
            "tms": false,
            "url": "https://cartodb-basemaps-b.global.ssl.fastly.net/light_nolabels/{z}/{x}/{y}.png",
            "visible": true
          }
        },
        "9ebaf562a98e4d45974b5ab05fdf672e": {
          "model_module": "@jupyter-widgets/base",
          "model_name": "LayoutModel",
          "model_module_version": "1.2.0",
          "state": {
            "_model_module": "@jupyter-widgets/base",
            "_model_module_version": "1.2.0",
            "_model_name": "LayoutModel",
            "_view_count": null,
            "_view_module": "@jupyter-widgets/base",
            "_view_module_version": "1.2.0",
            "_view_name": "LayoutView",
            "align_content": null,
            "align_items": null,
            "align_self": null,
            "border": null,
            "bottom": null,
            "display": null,
            "flex": null,
            "flex_flow": null,
            "grid_area": null,
            "grid_auto_columns": null,
            "grid_auto_flow": null,
            "grid_auto_rows": null,
            "grid_column": null,
            "grid_gap": null,
            "grid_row": null,
            "grid_template_areas": null,
            "grid_template_columns": null,
            "grid_template_rows": null,
            "height": "500px",
            "justify_content": null,
            "justify_items": null,
            "left": null,
            "margin": null,
            "max_height": null,
            "max_width": null,
            "min_height": null,
            "min_width": null,
            "object_fit": null,
            "object_position": null,
            "order": null,
            "overflow": null,
            "overflow_x": null,
            "overflow_y": null,
            "padding": null,
            "right": null,
            "top": null,
            "visibility": null,
            "width": "500px"
          }
        },
        "6e766c08d1aa44d0a36b6921a3ce8e19": {
          "model_module": "jupyter-leaflet",
          "model_name": "LeafletMapStyleModel",
          "model_module_version": "^0.16.0",
          "state": {
            "_model_module": "jupyter-leaflet",
            "_model_module_version": "^0.16.0",
            "_model_name": "LeafletMapStyleModel",
            "_view_count": null,
            "_view_module": "@jupyter-widgets/base",
            "_view_module_version": "1.2.0",
            "_view_name": "StyleView",
            "cursor": "grab"
          }
        },
        "dbaca4b7204246338dae7dc2b8b71a46": {
          "model_module": "@jupyter-widgets/output",
          "model_name": "OutputModel",
          "model_module_version": "1.0.0",
          "state": {
            "_dom_classes": [],
            "_model_module": "@jupyter-widgets/output",
            "_model_module_version": "1.0.0",
            "_model_name": "OutputModel",
            "_view_count": null,
            "_view_module": "@jupyter-widgets/output",
            "_view_module_version": "1.0.0",
            "_view_name": "OutputView",
            "layout": "IPY_MODEL_5b3cc3449b064ae1b8f5ee6e28a13c31",
            "msg_id": "",
            "outputs": []
          }
        },
        "fa90fb01249c46efb5875b97307c35c8": {
          "model_module": "@jupyter-widgets/controls",
          "model_name": "VBoxModel",
          "model_module_version": "1.5.0",
          "state": {
            "_dom_classes": [],
            "_model_module": "@jupyter-widgets/controls",
            "_model_module_version": "1.5.0",
            "_model_name": "VBoxModel",
            "_view_count": null,
            "_view_module": "@jupyter-widgets/controls",
            "_view_module_version": "1.5.0",
            "_view_name": "VBoxView",
            "box_style": "",
            "children": [
              "IPY_MODEL_cb5c612b257b4da0a1fa3a9b20d3fbe7"
            ],
            "layout": "IPY_MODEL_dd5058c594df4c6d8da85810156ff64f"
          }
        },
        "5b3cc3449b064ae1b8f5ee6e28a13c31": {
          "model_module": "@jupyter-widgets/base",
          "model_name": "LayoutModel",
          "model_module_version": "1.2.0",
          "state": {
            "_model_module": "@jupyter-widgets/base",
            "_model_module_version": "1.2.0",
            "_model_name": "LayoutModel",
            "_view_count": null,
            "_view_module": "@jupyter-widgets/base",
            "_view_module_version": "1.2.0",
            "_view_name": "LayoutView",
            "align_content": null,
            "align_items": null,
            "align_self": null,
            "border": null,
            "bottom": null,
            "display": null,
            "flex": null,
            "flex_flow": null,
            "grid_area": null,
            "grid_auto_columns": null,
            "grid_auto_flow": null,
            "grid_auto_rows": null,
            "grid_column": null,
            "grid_gap": null,
            "grid_row": null,
            "grid_template_areas": null,
            "grid_template_columns": null,
            "grid_template_rows": null,
            "height": null,
            "justify_content": null,
            "justify_items": null,
            "left": null,
            "margin": null,
            "max_height": null,
            "max_width": null,
            "min_height": null,
            "min_width": null,
            "object_fit": null,
            "object_position": null,
            "order": null,
            "overflow": null,
            "overflow_x": null,
            "overflow_y": null,
            "padding": null,
            "right": null,
            "top": null,
            "visibility": null,
            "width": null
          }
        },
        "cb5c612b257b4da0a1fa3a9b20d3fbe7": {
          "model_module": "@jupyter-widgets/controls",
          "model_name": "ToggleButtonModel",
          "model_module_version": "1.5.0",
          "state": {
            "_dom_classes": [],
            "_model_module": "@jupyter-widgets/controls",
            "_model_module_version": "1.5.0",
            "_model_name": "ToggleButtonModel",
            "_view_count": null,
            "_view_module": "@jupyter-widgets/controls",
            "_view_module_version": "1.5.0",
            "_view_name": "ToggleButtonView",
            "button_style": "",
            "description": "",
            "description_tooltip": null,
            "disabled": false,
            "icon": "wrench",
            "layout": "IPY_MODEL_6f8478a968e64e9e97dbb16dcdf42818",
            "style": "IPY_MODEL_8d4b38d8a63b4c4192ddb57142ddd0fb",
            "tooltip": "Toolbar",
            "value": false
          }
        },
        "dd5058c594df4c6d8da85810156ff64f": {
          "model_module": "@jupyter-widgets/base",
          "model_name": "LayoutModel",
          "model_module_version": "1.2.0",
          "state": {
            "_model_module": "@jupyter-widgets/base",
            "_model_module_version": "1.2.0",
            "_model_name": "LayoutModel",
            "_view_count": null,
            "_view_module": "@jupyter-widgets/base",
            "_view_module_version": "1.2.0",
            "_view_name": "LayoutView",
            "align_content": null,
            "align_items": null,
            "align_self": null,
            "border": null,
            "bottom": null,
            "display": null,
            "flex": null,
            "flex_flow": null,
            "grid_area": null,
            "grid_auto_columns": null,
            "grid_auto_flow": null,
            "grid_auto_rows": null,
            "grid_column": null,
            "grid_gap": null,
            "grid_row": null,
            "grid_template_areas": null,
            "grid_template_columns": null,
            "grid_template_rows": null,
            "height": null,
            "justify_content": null,
            "justify_items": null,
            "left": null,
            "margin": null,
            "max_height": null,
            "max_width": null,
            "min_height": null,
            "min_width": null,
            "object_fit": null,
            "object_position": null,
            "order": null,
            "overflow": null,
            "overflow_x": null,
            "overflow_y": null,
            "padding": null,
            "right": null,
            "top": null,
            "visibility": null,
            "width": null
          }
        },
        "6f8478a968e64e9e97dbb16dcdf42818": {
          "model_module": "@jupyter-widgets/base",
          "model_name": "LayoutModel",
          "model_module_version": "1.2.0",
          "state": {
            "_model_module": "@jupyter-widgets/base",
            "_model_module_version": "1.2.0",
            "_model_name": "LayoutModel",
            "_view_count": null,
            "_view_module": "@jupyter-widgets/base",
            "_view_module_version": "1.2.0",
            "_view_name": "LayoutView",
            "align_content": null,
            "align_items": null,
            "align_self": null,
            "border": null,
            "bottom": null,
            "display": null,
            "flex": null,
            "flex_flow": null,
            "grid_area": null,
            "grid_auto_columns": null,
            "grid_auto_flow": null,
            "grid_auto_rows": null,
            "grid_column": null,
            "grid_gap": null,
            "grid_row": null,
            "grid_template_areas": null,
            "grid_template_columns": null,
            "grid_template_rows": null,
            "height": "28px",
            "justify_content": null,
            "justify_items": null,
            "left": null,
            "margin": null,
            "max_height": null,
            "max_width": null,
            "min_height": null,
            "min_width": null,
            "object_fit": null,
            "object_position": null,
            "order": null,
            "overflow": null,
            "overflow_x": null,
            "overflow_y": null,
            "padding": "0px 0px 0px 4px",
            "right": null,
            "top": null,
            "visibility": null,
            "width": "28px"
          }
        },
        "8d4b38d8a63b4c4192ddb57142ddd0fb": {
          "model_module": "@jupyter-widgets/controls",
          "model_name": "DescriptionStyleModel",
          "model_module_version": "1.5.0",
          "state": {
            "_model_module": "@jupyter-widgets/controls",
            "_model_module_version": "1.5.0",
            "_model_name": "DescriptionStyleModel",
            "_view_count": null,
            "_view_module": "@jupyter-widgets/base",
            "_view_module_version": "1.2.0",
            "_view_name": "StyleView",
            "description_width": ""
          }
        },
        "37a2cfe4362b403a9fb368cfde2b7c14": {
          "model_module": "jupyter-leaflet",
          "model_name": "LeafletMapModel",
          "model_module_version": "^0.16.0",
          "state": {
            "_dom_classes": [],
            "_model_module": "jupyter-leaflet",
            "_model_module_version": "^0.16.0",
            "_model_name": "LeafletMapModel",
            "_view_count": null,
            "_view_module": "jupyter-leaflet",
            "_view_module_version": "^0.16.0",
            "_view_name": "LeafletMapView",
            "bottom": 7031514,
            "bounce_at_zoom_limits": true,
            "box_zoom": true,
            "center": [
              27.9465,
              -82.46071
            ],
            "close_popup_on_click": true,
            "controls": [
              "IPY_MODEL_7cad22f747ec41a3bd5e3fdc4ef768bd",
              "IPY_MODEL_218f151f6d6e4883891dc5e985fa6120",
              "IPY_MODEL_2b05a628a5ae4c5793982cc59513f295",
              "IPY_MODEL_f118a3ed40014e18830da566a836e180",
              "IPY_MODEL_9cbf60a5fdc346b5b6fe7cd96eb09d00",
              "IPY_MODEL_2b6b91a8c6664537be768d3beb251217",
              "IPY_MODEL_b790e5771177435d86d8883075906363",
              "IPY_MODEL_d11ddd5e088b4c57a960644cb89f561e",
              "IPY_MODEL_31345cce2605482e82eb0f21dd8c3ec3",
              "IPY_MODEL_b0b5a1f39ef74d5e957eaba97499a34d"
            ],
            "crs": {
              "name": "EPSG3857",
              "custom": false
            },
            "default_style": "IPY_MODEL_4f5f2c935c2445489291a6b48421e25d",
            "double_click_zoom": true,
            "dragging": true,
            "dragging_style": "IPY_MODEL_ad5fe8c6d10f4299b6e3ffb4772b9e5b",
            "east": -82.45535373687746,
            "fullscreen": false,
            "inertia": true,
            "inertia_deceleration": 3000,
            "inertia_max_speed": 1500,
            "interpolation": "bilinear",
            "keyboard": true,
            "keyboard_pan_offset": 80,
            "keyboard_zoom_offset": 1,
            "layers": [
              "IPY_MODEL_217cdc5353884bd5bdfe2691f8ec9be7",
              "IPY_MODEL_758bfac8991a42ae98c45e8ae1410a61",
              "IPY_MODEL_8afec9fbb0a34d2da8a0fdcfaf09d042",
              "IPY_MODEL_3cdc7f3a448b46de8c3b13094c8eba68"
            ],
            "layout": "IPY_MODEL_3bc0d7550c6c45829fb30827c8719cca",
            "left": 4545410,
            "max_zoom": 24,
            "min_zoom": 1,
            "modisdate": "2022-06-13",
            "north": 27.95123154211023,
            "options": [
              "bounce_at_zoom_limits",
              "box_zoom",
              "center",
              "close_popup_on_click",
              "double_click_zoom",
              "dragging",
              "fullscreen",
              "inertia",
              "inertia_deceleration",
              "inertia_max_speed",
              "interpolation",
              "keyboard",
              "keyboard_pan_offset",
              "keyboard_zoom_offset",
              "max_zoom",
              "min_zoom",
              "prefer_canvas",
              "scroll_wheel_zoom",
              "tap",
              "tap_tolerance",
              "touch_zoom",
              "world_copy_jump",
              "zoom",
              "zoom_animation_threshold",
              "zoom_delta",
              "zoom_snap",
              "zoom_start"
            ],
            "prefer_canvas": false,
            "right": 4545910,
            "scroll_wheel_zoom": true,
            "south": 27.94175384244754,
            "style": "IPY_MODEL_1fa8970d48554d8897d56b57d0341560",
            "tap": true,
            "tap_tolerance": 15,
            "top": 7031014,
            "touch_zoom": true,
            "west": -82.46608257293703,
            "window_url": "https://3dxmezm1rlv-496ff2e9c6d22116-0-colab.googleusercontent.com/outputframe.html?vrz=colab-20220610-060044-RC00_454131558",
            "world_copy_jump": false,
            "zoom": 16,
            "zoom_animation_threshold": 4,
            "zoom_delta": 1,
            "zoom_snap": 1,
            "zoom_start": 12
          }
        },
        "7cad22f747ec41a3bd5e3fdc4ef768bd": {
          "model_module": "jupyter-leaflet",
          "model_name": "LeafletZoomControlModel",
          "model_module_version": "^0.16.0",
          "state": {
            "_model_module": "jupyter-leaflet",
            "_model_module_version": "^0.16.0",
            "_model_name": "LeafletZoomControlModel",
            "_view_count": null,
            "_view_module": "jupyter-leaflet",
            "_view_module_version": "^0.16.0",
            "_view_name": "LeafletZoomControlView",
            "options": [
              "position",
              "zoom_in_text",
              "zoom_in_title",
              "zoom_out_text",
              "zoom_out_title"
            ],
            "position": "topleft",
            "zoom_in_text": "+",
            "zoom_in_title": "Zoom in",
            "zoom_out_text": "-",
            "zoom_out_title": "Zoom out"
          }
        },
        "218f151f6d6e4883891dc5e985fa6120": {
          "model_module": "jupyter-leaflet",
          "model_name": "LeafletAttributionControlModel",
          "model_module_version": "^0.16.0",
          "state": {
            "_model_module": "jupyter-leaflet",
            "_model_module_version": "^0.16.0",
            "_model_name": "LeafletAttributionControlModel",
            "_view_count": null,
            "_view_module": "jupyter-leaflet",
            "_view_module_version": "^0.16.0",
            "_view_name": "LeafletAttributionControlView",
            "options": [
              "position",
              "prefix"
            ],
            "position": "bottomright",
            "prefix": "ipyleaflet"
          }
        },
        "2b05a628a5ae4c5793982cc59513f295": {
          "model_module": "jupyter-leaflet",
          "model_name": "LeafletFullScreenControlModel",
          "model_module_version": "^0.16.0",
          "state": {
            "_model_module": "jupyter-leaflet",
            "_model_module_version": "^0.16.0",
            "_model_name": "LeafletFullScreenControlModel",
            "_view_count": null,
            "_view_module": "jupyter-leaflet",
            "_view_module_version": "^0.16.0",
            "_view_name": "LeafletFullScreenControlView",
            "options": [
              "position"
            ],
            "position": "topleft"
          }
        },
        "f118a3ed40014e18830da566a836e180": {
          "model_module": "jupyter-leaflet",
          "model_name": "LeafletDrawControlModel",
          "model_module_version": "^0.16.0",
          "state": {
            "_model_module": "jupyter-leaflet",
            "_model_module_version": "^0.16.0",
            "_model_name": "LeafletDrawControlModel",
            "_view_count": null,
            "_view_module": "jupyter-leaflet",
            "_view_module_version": "^0.16.0",
            "_view_name": "LeafletDrawControlView",
            "circle": {
              "shapeOptions": {
                "color": "#3388ff"
              }
            },
            "circlemarker": {},
            "data": [],
            "edit": true,
            "marker": {
              "shapeOptions": {
                "color": "#3388ff"
              }
            },
            "options": [
              "position"
            ],
            "polygon": {
              "shapeOptions": {}
            },
            "polyline": {
              "shapeOptions": {}
            },
            "position": "topleft",
            "rectangle": {
              "shapeOptions": {
                "color": "#3388ff"
              }
            },
            "remove": true
          }
        },
        "9cbf60a5fdc346b5b6fe7cd96eb09d00": {
          "model_module": "jupyter-leaflet",
          "model_name": "LeafletWidgetControlModel",
          "model_module_version": "^0.16.0",
          "state": {
            "_model_module": "jupyter-leaflet",
            "_model_module_version": "^0.16.0",
            "_model_name": "LeafletWidgetControlModel",
            "_view_count": null,
            "_view_module": "jupyter-leaflet",
            "_view_module_version": "^0.16.0",
            "_view_name": "LeafletWidgetControlView",
            "max_height": null,
            "max_width": null,
            "min_height": null,
            "min_width": null,
            "options": [
              "position",
              "transparent_bg"
            ],
            "position": "bottomright",
            "transparent_bg": false,
            "widget": "IPY_MODEL_d3f54218341747129f175d0e5cc3b4b0"
          }
        },
        "2b6b91a8c6664537be768d3beb251217": {
          "model_module": "jupyter-leaflet",
          "model_name": "LeafletMeasureControlModel",
          "model_module_version": "^0.16.0",
          "state": {
            "_custom_units": {},
            "_model_module": "jupyter-leaflet",
            "_model_module_version": "^0.16.0",
            "_model_name": "LeafletMeasureControlModel",
            "_view_count": null,
            "_view_module": "jupyter-leaflet",
            "_view_module_version": "^0.16.0",
            "_view_name": "LeafletMeasureControlView",
            "active_color": "#ABE67E",
            "capture_z_index": 10000,
            "completed_color": "#C8F2BE",
            "options": [
              "active_color",
              "capture_z_index",
              "completed_color",
              "popup_options",
              "position",
              "primary_area_unit",
              "primary_length_unit",
              "secondary_area_unit",
              "secondary_length_unit"
            ],
            "popup_options": {
              "className": "leaflet-measure-resultpopup",
              "autoPanPadding": [
                10,
                10
              ]
            },
            "position": "topleft",
            "primary_area_unit": "acres",
            "primary_length_unit": "feet",
            "secondary_area_unit": null,
            "secondary_length_unit": null
          }
        },
        "b790e5771177435d86d8883075906363": {
          "model_module": "jupyter-leaflet",
          "model_name": "LeafletScaleControlModel",
          "model_module_version": "^0.16.0",
          "state": {
            "_model_module": "jupyter-leaflet",
            "_model_module_version": "^0.16.0",
            "_model_name": "LeafletScaleControlModel",
            "_view_count": null,
            "_view_module": "jupyter-leaflet",
            "_view_module_version": "^0.16.0",
            "_view_name": "LeafletScaleControlView",
            "imperial": true,
            "max_width": 100,
            "metric": true,
            "options": [
              "imperial",
              "max_width",
              "metric",
              "position",
              "update_when_idle"
            ],
            "position": "bottomleft",
            "update_when_idle": false
          }
        },
        "d11ddd5e088b4c57a960644cb89f561e": {
          "model_module": "jupyter-leaflet",
          "model_name": "LeafletWidgetControlModel",
          "model_module_version": "^0.16.0",
          "state": {
            "_model_module": "jupyter-leaflet",
            "_model_module_version": "^0.16.0",
            "_model_name": "LeafletWidgetControlModel",
            "_view_count": null,
            "_view_module": "jupyter-leaflet",
            "_view_module_version": "^0.16.0",
            "_view_name": "LeafletWidgetControlView",
            "max_height": null,
            "max_width": null,
            "min_height": null,
            "min_width": null,
            "options": [
              "position",
              "transparent_bg"
            ],
            "position": "topright",
            "transparent_bg": false,
            "widget": "IPY_MODEL_1fdea243934447ec854e91b7c271b37a"
          }
        },
        "31345cce2605482e82eb0f21dd8c3ec3": {
          "model_module": "jupyter-leaflet",
          "model_name": "LeafletWidgetControlModel",
          "model_module_version": "^0.16.0",
          "state": {
            "_model_module": "jupyter-leaflet",
            "_model_module_version": "^0.16.0",
            "_model_name": "LeafletWidgetControlModel",
            "_view_count": null,
            "_view_module": "jupyter-leaflet",
            "_view_module_version": "^0.16.0",
            "_view_name": "LeafletWidgetControlView",
            "max_height": null,
            "max_width": null,
            "min_height": null,
            "min_width": null,
            "options": [
              "position",
              "transparent_bg"
            ],
            "position": "bottomright",
            "transparent_bg": false,
            "widget": "IPY_MODEL_11808980e6734e9fa5de667263e2446e"
          }
        },
        "b0b5a1f39ef74d5e957eaba97499a34d": {
          "model_module": "jupyter-leaflet",
          "model_name": "LeafletWidgetControlModel",
          "model_module_version": "^0.16.0",
          "state": {
            "_model_module": "jupyter-leaflet",
            "_model_module_version": "^0.16.0",
            "_model_name": "LeafletWidgetControlModel",
            "_view_count": null,
            "_view_module": "jupyter-leaflet",
            "_view_module_version": "^0.16.0",
            "_view_name": "LeafletWidgetControlView",
            "max_height": null,
            "max_width": null,
            "min_height": null,
            "min_width": null,
            "options": [
              "position",
              "transparent_bg"
            ],
            "position": "bottomright",
            "transparent_bg": false,
            "widget": "IPY_MODEL_f847f0c8c47b4ec0b9009b0b2da62765"
          }
        },
        "4f5f2c935c2445489291a6b48421e25d": {
          "model_module": "jupyter-leaflet",
          "model_name": "LeafletMapStyleModel",
          "model_module_version": "^0.16.0",
          "state": {
            "_model_module": "jupyter-leaflet",
            "_model_module_version": "^0.16.0",
            "_model_name": "LeafletMapStyleModel",
            "_view_count": null,
            "_view_module": "@jupyter-widgets/base",
            "_view_module_version": "1.2.0",
            "_view_name": "StyleView",
            "cursor": "grab"
          }
        },
        "ad5fe8c6d10f4299b6e3ffb4772b9e5b": {
          "model_module": "jupyter-leaflet",
          "model_name": "LeafletMapStyleModel",
          "model_module_version": "^0.16.0",
          "state": {
            "_model_module": "jupyter-leaflet",
            "_model_module_version": "^0.16.0",
            "_model_name": "LeafletMapStyleModel",
            "_view_count": null,
            "_view_module": "@jupyter-widgets/base",
            "_view_module_version": "1.2.0",
            "_view_name": "StyleView",
            "cursor": "move"
          }
        },
        "217cdc5353884bd5bdfe2691f8ec9be7": {
          "model_module": "jupyter-leaflet",
          "model_name": "LeafletTileLayerModel",
          "model_module_version": "^0.16.0",
          "state": {
            "_model_module": "jupyter-leaflet",
            "_model_module_version": "^0.16.0",
            "_model_name": "LeafletTileLayerModel",
            "_view_count": null,
            "_view_module": "jupyter-leaflet",
            "_view_module_version": "^0.16.0",
            "_view_name": "LeafletTileLayerView",
            "attribution": "&copy; <a href=\"https://www.openstreetmap.org/copyright\">OpenStreetMap</a> contributors",
            "base": true,
            "bottom": true,
            "bounds": null,
            "detect_retina": false,
            "loading": false,
            "max_native_zoom": 18,
            "max_zoom": 19,
            "min_native_zoom": 0,
            "min_zoom": 1,
            "name": "OpenStreetMap",
            "no_wrap": false,
            "opacity": 1,
            "options": [
              "attribution",
              "bounds",
              "detect_retina",
              "max_native_zoom",
              "max_zoom",
              "min_native_zoom",
              "min_zoom",
              "no_wrap",
              "tile_size",
              "tms"
            ],
            "popup": null,
            "popup_max_height": null,
            "popup_max_width": 300,
            "popup_min_width": 50,
            "show_loading": false,
            "tile_size": 256,
            "tms": false,
            "url": "https://a.tile.openstreetmap.org/{z}/{x}/{y}.png",
            "visible": true
          }
        },
        "758bfac8991a42ae98c45e8ae1410a61": {
          "model_module": "jupyter-leaflet",
          "model_name": "LeafletTileLayerModel",
          "model_module_version": "^0.16.0",
          "state": {
            "_model_module": "jupyter-leaflet",
            "_model_module_version": "^0.16.0",
            "_model_name": "LeafletTileLayerModel",
            "_view_count": null,
            "_view_module": "jupyter-leaflet",
            "_view_module_version": "^0.16.0",
            "_view_name": "LeafletTileLayerView",
            "attribution": "CartoDB",
            "base": false,
            "bottom": true,
            "bounds": null,
            "detect_retina": false,
            "loading": false,
            "max_native_zoom": 18,
            "max_zoom": 18,
            "min_native_zoom": 0,
            "min_zoom": 0,
            "name": "CartoDB",
            "no_wrap": false,
            "opacity": 1,
            "options": [
              "attribution",
              "bounds",
              "detect_retina",
              "max_native_zoom",
              "max_zoom",
              "min_native_zoom",
              "min_zoom",
              "no_wrap",
              "tile_size",
              "tms"
            ],
            "popup": null,
            "popup_max_height": null,
            "popup_max_width": 300,
            "popup_min_width": 50,
            "show_loading": false,
            "tile_size": 256,
            "tms": false,
            "url": "https://cartodb-basemaps-b.global.ssl.fastly.net/light_nolabels/{z}/{x}/{y}.png",
            "visible": true
          }
        },
        "8afec9fbb0a34d2da8a0fdcfaf09d042": {
          "model_module": "jupyter-leaflet",
          "model_name": "LeafletGeoJSONModel",
          "model_module_version": "^0.16.0",
          "state": {
            "_model_module": "jupyter-leaflet",
            "_model_module_version": "^0.16.0",
            "_model_name": "LeafletGeoJSONModel",
            "_view_count": null,
            "_view_module": "jupyter-leaflet",
            "_view_module_version": "^0.16.0",
            "_view_name": "LeafletGeoJSONView",
            "base": false,
            "bottom": false,
            "data": {
              "type": "FeatureCollection",
              "features": [
                {
                  "id": "0",
                  "type": "Feature",
                  "properties": {
                    "style": {
                      "color": "black",
                      "fillColor": "black"
                    }
                  },
                  "geometry": {
                    "type": "Polygon",
                    "coordinates": [
                      [
                        [
                          -82.46491,
                          27.94375
                        ],
                        [
                          -82.46504,
                          27.95078
                        ],
                        [
                          -82.45727,
                          27.95088
                        ],
                        [
                          -82.45706,
                          27.944171
                        ],
                        [
                          -82.46491,
                          27.94375
                        ]
                      ]
                    ]
                  },
                  "bbox": [
                    -82.46504,
                    27.94375,
                    -82.45706,
                    27.95088
                  ]
                }
              ],
              "bbox": [
                -82.46504,
                27.94375,
                -82.45706,
                27.95088
              ]
            },
            "hover_style": {
              "weight": 4,
              "fillOpacity": 0.5
            },
            "layers": [],
            "name": "area",
            "options": [],
            "point_style": {},
            "popup": null,
            "popup_max_height": null,
            "popup_max_width": 300,
            "popup_min_width": 50,
            "style": {
              "weight": 3
            }
          }
        },
        "3cdc7f3a448b46de8c3b13094c8eba68": {
          "model_module": "jupyter-leaflet",
          "model_name": "LeafletGeoJSONModel",
          "model_module_version": "^0.16.0",
          "state": {
            "_model_module": "jupyter-leaflet",
            "_model_module_version": "^0.16.0",
            "_model_name": "LeafletGeoJSONModel",
            "_view_count": null,
            "_view_module": "jupyter-leaflet",
            "_view_module_version": "^0.16.0",
            "_view_name": "LeafletGeoJSONView",
            "base": false,
            "bottom": false,
            "data": {
              "type": "FeatureCollection",
              "features": [
                {
                  "id": "('way', 32534602)",
                  "type": "Feature",
                  "properties": {
                    "addr:city": null,
                    "addr:housenumber": null,
                    "addr:postcode": null,
                    "addr:state": null,
                    "addr:street": null,
                    "leisure": "park",
                    "name": "Plant Park",
                    "nodes": [
                      365902157,
                      6122403918,
                      6122403917,
                      6122403919,
                      6122403916,
                      6122403921,
                      6122403922,
                      6122403920,
                      6122403923,
                      6122403924,
                      6122403915,
                      6122403925,
                      4608372951,
                      365902160,
                      365234731,
                      259997783,
                      6122403928,
                      2140060338,
                      6122403929,
                      6122403933,
                      6122403946,
                      6122403948,
                      6122403947,
                      6122403945,
                      6122403931,
                      6122403932,
                      6122403930,
                      6122403944,
                      6122403935,
                      6122403943,
                      6122403942,
                      6122403936,
                      6122403940,
                      6122403941,
                      6122403937,
                      6122403939,
                      6122403938,
                      6122403934,
                      4608373058,
                      365902157
                    ],
                    "wikidata": null,
                    "wikipedia": null,
                    "style": {
                      "color": "black",
                      "fillColor": "black"
                    }
                  },
                  "geometry": {
                    "type": "Polygon",
                    "coordinates": [
                      [
                        [
                          -82.4638186,
                          27.9464998
                        ],
                        [
                          -82.4637844,
                          27.9465194
                        ],
                        [
                          -82.4637425,
                          27.9465308
                        ],
                        [
                          -82.4636968,
                          27.9465346
                        ],
                        [
                          -82.463651,
                          27.946544
                        ],
                        [
                          -82.4636188,
                          27.9465578
                        ],
                        [
                          -82.4635911,
                          27.9465837
                        ],
                        [
                          -82.4635742,
                          27.9466137
                        ],
                        [
                          -82.4635597,
                          27.9466458
                        ],
                        [
                          -82.4635532,
                          27.9466748
                        ],
                        [
                          -82.4635513,
                          27.9467038
                        ],
                        [
                          -82.4635609,
                          27.9467473
                        ],
                        [
                          -82.4631577,
                          27.9469317
                        ],
                        [
                          -82.4626547,
                          27.9475607
                        ],
                        [
                          -82.4615971,
                          27.946526
                        ],
                        [
                          -82.4616179,
                          27.9465178
                        ],
                        [
                          -82.4623008,
                          27.946264
                        ],
                        [
                          -82.4630077,
                          27.9460005
                        ],
                        [
                          -82.4634673,
                          27.9458369
                        ],
                        [
                          -82.4635,
                          27.9458305
                        ],
                        [
                          -82.4635276,
                          27.9458317
                        ],
                        [
                          -82.4635573,
                          27.9458449
                        ],
                        [
                          -82.463587,
                          27.9458658
                        ],
                        [
                          -82.4636142,
                          27.945872
                        ],
                        [
                          -82.4636413,
                          27.9458709
                        ],
                        [
                          -82.4636733,
                          27.9458777
                        ],
                        [
                          -82.4637029,
                          27.9458906
                        ],
                        [
                          -82.4637311,
                          27.94592
                        ],
                        [
                          -82.4637512,
                          27.945953
                        ],
                        [
                          -82.4637548,
                          27.9459753
                        ],
                        [
                          -82.4637505,
                          27.9459975
                        ],
                        [
                          -82.4637297,
                          27.9460444
                        ],
                        [
                          -82.463722,
                          27.9460788
                        ],
                        [
                          -82.4637308,
                          27.9460984
                        ],
                        [
                          -82.4637478,
                          27.9461144
                        ],
                        [
                          -82.463761,
                          27.9461259
                        ],
                        [
                          -82.463781,
                          27.946134
                        ],
                        [
                          -82.4638128,
                          27.9461406
                        ],
                        [
                          -82.4638131,
                          27.9461623
                        ],
                        [
                          -82.4638186,
                          27.9464998
                        ]
                      ]
                    ]
                  },
                  "bbox": [
                    -82.4638186,
                    27.9458305,
                    -82.4615971,
                    27.9475607
                  ]
                },
                {
                  "id": "('way', 905636016)",
                  "type": "Feature",
                  "properties": {
                    "addr:city": "Tampa",
                    "addr:housenumber": "600",
                    "addr:postcode": "33602",
                    "addr:state": "FL",
                    "addr:street": "North Ashley Drive",
                    "leisure": "park",
                    "name": "Curtis Hixon Waterfront Park",
                    "nodes": [
                      5106705002,
                      8410321799,
                      8410321668,
                      8410321669,
                      8410321722,
                      8410321721,
                      8410321713,
                      8410321714,
                      8428994635,
                      1952469331,
                      8410321473,
                      8410321472,
                      8410321471,
                      8410321474,
                      8410321800,
                      8410321801,
                      8410321802,
                      3706564677,
                      8410321716,
                      8428994613,
                      8426884890,
                      8410321660,
                      8410321484,
                      8410321485,
                      8410321486,
                      8410321803,
                      8410156699,
                      8410312721,
                      365234922,
                      8410321508,
                      8416599851,
                      8416599848,
                      1868647778,
                      1868647721,
                      8410312722,
                      8410321748,
                      8416599858,
                      8410321756,
                      8416599856,
                      8416599855,
                      1868647698,
                      8416599861,
                      8410321747,
                      8410321743,
                      8410321735,
                      8410321736,
                      8410321744,
                      8410321745,
                      8410321746,
                      8410321757,
                      5110124502,
                      5110124503,
                      8410321533,
                      8410321762,
                      8410321493,
                      8410321489,
                      8410321760,
                      5110124508,
                      8410312748,
                      8410321759,
                      8410321723,
                      8410321726,
                      8410321728,
                      8410321727,
                      8410321725,
                      5106704996,
                      8410321724,
                      8410321665,
                      5106704998,
                      5106704999,
                      5106705000,
                      5106705001,
                      5106705002
                    ],
                    "wikidata": "Q5195767",
                    "wikipedia": "en:Curtis Hixon Waterfront Park",
                    "style": {
                      "color": "black",
                      "fillColor": "black"
                    }
                  },
                  "geometry": {
                    "type": "Polygon",
                    "coordinates": [
                      [
                        [
                          -82.4611496,
                          27.9495223
                        ],
                        [
                          -82.4610829,
                          27.9495279
                        ],
                        [
                          -82.4610711,
                          27.9495009
                        ],
                        [
                          -82.4609747,
                          27.949506
                        ],
                        [
                          -82.4609434,
                          27.9495079
                        ],
                        [
                          -82.4609103,
                          27.94951
                        ],
                        [
                          -82.4608443,
                          27.9493597
                        ],
                        [
                          -82.460768,
                          27.9491859
                        ],
                        [
                          -82.4605538,
                          27.9487009
                        ],
                        [
                          -82.4605875,
                          27.9486893
                        ],
                        [
                          -82.4606126,
                          27.9486804
                        ],
                        [
                          -82.4605584,
                          27.9485601
                        ],
                        [
                          -82.4608333,
                          27.9484634
                        ],
                        [
                          -82.4612441,
                          27.9483209
                        ],
                        [
                          -82.4613012,
                          27.9483155
                        ],
                        [
                          -82.461385,
                          27.948314
                        ],
                        [
                          -82.4614186,
                          27.9483386
                        ],
                        [
                          -82.4614387,
                          27.9483924
                        ],
                        [
                          -82.4614546,
                          27.948385
                        ],
                        [
                          -82.4614754,
                          27.948378
                        ],
                        [
                          -82.4616778,
                          27.9483104
                        ],
                        [
                          -82.4616903,
                          27.9483062
                        ],
                        [
                          -82.4617112,
                          27.9482992
                        ],
                        [
                          -82.4618421,
                          27.9482547
                        ],
                        [
                          -82.4619213,
                          27.9481812
                        ],
                        [
                          -82.4619956,
                          27.9481266
                        ],
                        [
                          -82.4620054,
                          27.9481354
                        ],
                        [
                          -82.4621595,
                          27.9482742
                        ],
                        [
                          -82.462643,
                          27.9487227
                        ],
                        [
                          -82.4628783,
                          27.9489003
                        ],
                        [
                          -82.4628863,
                          27.948908
                        ],
                        [
                          -82.4632651,
                          27.9491998
                        ],
                        [
                          -82.4637042,
                          27.9495429
                        ],
                        [
                          -82.4638453,
                          27.9496535
                        ],
                        [
                          -82.4639233,
                          27.9497315
                        ],
                        [
                          -82.4638753,
                          27.9497343
                        ],
                        [
                          -82.4636504,
                          27.9497494
                        ],
                        [
                          -82.4636429,
                          27.9497499
                        ],
                        [
                          -82.4636349,
                          27.9497504
                        ],
                        [
                          -82.4632028,
                          27.9497791
                        ],
                        [
                          -82.4631897,
                          27.94978
                        ],
                        [
                          -82.4631714,
                          27.9497812
                        ],
                        [
                          -82.4631381,
                          27.9497834
                        ],
                        [
                          -82.4630589,
                          27.9497872
                        ],
                        [
                          -82.4630275,
                          27.9497281
                        ],
                        [
                          -82.462925,
                          27.9497347
                        ],
                        [
                          -82.46278,
                          27.9497415
                        ],
                        [
                          -82.4627713,
                          27.9496598
                        ],
                        [
                          -82.4627679,
                          27.9496317
                        ],
                        [
                          -82.4630706,
                          27.9496105
                        ],
                        [
                          -82.4630801,
                          27.9496098
                        ],
                        [
                          -82.4630524,
                          27.9492646
                        ],
                        [
                          -82.4630496,
                          27.9492648
                        ],
                        [
                          -82.4630425,
                          27.9492653
                        ],
                        [
                          -82.4630333,
                          27.9492659
                        ],
                        [
                          -82.4624167,
                          27.9493063
                        ],
                        [
                          -82.4622548,
                          27.9493166
                        ],
                        [
                          -82.4621207,
                          27.9493252
                        ],
                        [
                          -82.4621209,
                          27.9493274
                        ],
                        [
                          -82.4621215,
                          27.9493355
                        ],
                        [
                          -82.4621457,
                          27.9496291
                        ],
                        [
                          -82.4621093,
                          27.9496212
                        ],
                        [
                          -82.461968,
                          27.9496313
                        ],
                        [
                          -82.4619557,
                          27.9496367
                        ],
                        [
                          -82.4619404,
                          27.9496448
                        ],
                        [
                          -82.461863,
                          27.9496853
                        ],
                        [
                          -82.4618459,
                          27.9494673
                        ],
                        [
                          -82.4618447,
                          27.9494512
                        ],
                        [
                          -82.4618428,
                          27.9494275
                        ],
                        [
                          -82.4612998,
                          27.9494609
                        ],
                        [
                          -82.4612525,
                          27.9494867
                        ],
                        [
                          -82.4612544,
                          27.9494938
                        ],
                        [
                          -82.4611496,
                          27.9495223
                        ]
                      ]
                    ]
                  },
                  "bbox": [
                    -82.4639233,
                    27.9481266,
                    -82.4605538,
                    27.9497872
                  ]
                },
                {
                  "id": "('way', 906203996)",
                  "type": "Feature",
                  "properties": {
                    "addr:city": null,
                    "addr:housenumber": null,
                    "addr:postcode": null,
                    "addr:state": null,
                    "addr:street": null,
                    "leisure": "park",
                    "name": "Kiley Gardens",
                    "nodes": [
                      8410193351,
                      8410193395,
                      8410193388,
                      8415344352,
                      8410193350,
                      3706564687,
                      8410193363,
                      8418990972,
                      8410193364,
                      3706564682,
                      8410321487,
                      3706564683,
                      3706564684,
                      8410193318,
                      8410193317,
                      8410156716,
                      3706564685,
                      8410321640,
                      8410156714,
                      8410156713,
                      8410156712,
                      287948717,
                      8410193454,
                      5110175380,
                      8410156705,
                      8410156704,
                      8415344336,
                      8410156703,
                      8410193460,
                      8410156707,
                      8415344350,
                      8415344367,
                      8410193450,
                      8410193449,
                      8410193448,
                      8415344349,
                      8415344360,
                      8410193345,
                      8410193343,
                      8415344358,
                      8410193447,
                      8410193446,
                      8410193445,
                      8410193444,
                      8410193443,
                      8410193442,
                      8410193441,
                      8415344372,
                      8410193440,
                      8410193439,
                      8410193438,
                      8415344357,
                      8410193349,
                      8410193347,
                      8410193437,
                      8410193436,
                      8410193435,
                      8410193434,
                      8410193433,
                      8410193351
                    ],
                    "wikidata": null,
                    "wikipedia": null,
                    "style": {
                      "color": "black",
                      "fillColor": "black"
                    }
                  },
                  "geometry": {
                    "type": "Polygon",
                    "coordinates": [
                      [
                        [
                          -82.4605383,
                          27.9484548
                        ],
                        [
                          -82.4605795,
                          27.9484401
                        ],
                        [
                          -82.4607239,
                          27.9483885
                        ],
                        [
                          -82.4607701,
                          27.9483719
                        ],
                        [
                          -82.4607988,
                          27.9483616
                        ],
                        [
                          -82.4607868,
                          27.9483349
                        ],
                        [
                          -82.4612381,
                          27.948176
                        ],
                        [
                          -82.4612585,
                          27.9481693
                        ],
                        [
                          -82.4612798,
                          27.9481622
                        ],
                        [
                          -82.46165,
                          27.9480328
                        ],
                        [
                          -82.4617016,
                          27.9481481
                        ],
                        [
                          -82.4617115,
                          27.9481701
                        ],
                        [
                          -82.4618185,
                          27.9481327
                        ],
                        [
                          -82.4618312,
                          27.9481449
                        ],
                        [
                          -82.4618681,
                          27.9481313
                        ],
                        [
                          -82.4610848,
                          27.9473808
                        ],
                        [
                          -82.461044,
                          27.9473948
                        ],
                        [
                          -82.4610187,
                          27.9473632
                        ],
                        [
                          -82.4608901,
                          27.9474093
                        ],
                        [
                          -82.4607129,
                          27.9474712
                        ],
                        [
                          -82.4607058,
                          27.9474543
                        ],
                        [
                          -82.4606961,
                          27.9474602
                        ],
                        [
                          -82.4606677,
                          27.9474717
                        ],
                        [
                          -82.4606585,
                          27.9474754
                        ],
                        [
                          -82.4606286,
                          27.9474852
                        ],
                        [
                          -82.4606351,
                          27.9475013
                        ],
                        [
                          -82.4604813,
                          27.9475524
                        ],
                        [
                          -82.4604505,
                          27.9475632
                        ],
                        [
                          -82.4604353,
                          27.9475679
                        ],
                        [
                          -82.4604221,
                          27.9475726
                        ],
                        [
                          -82.4602099,
                          27.9476482
                        ],
                        [
                          -82.460217,
                          27.947664
                        ],
                        [
                          -82.460223,
                          27.9476773
                        ],
                        [
                          -82.4602009,
                          27.9476849
                        ],
                        [
                          -82.4602411,
                          27.9477735
                        ],
                        [
                          -82.4602794,
                          27.9477606
                        ],
                        [
                          -82.4603084,
                          27.9477508
                        ],
                        [
                          -82.4603109,
                          27.9477499
                        ],
                        [
                          -82.4603319,
                          27.9477979
                        ],
                        [
                          -82.4603161,
                          27.9478032
                        ],
                        [
                          -82.4602599,
                          27.9478221
                        ],
                        [
                          -82.4602888,
                          27.9478884
                        ],
                        [
                          -82.4603046,
                          27.947883
                        ],
                        [
                          -82.4603195,
                          27.9479172
                        ],
                        [
                          -82.4603048,
                          27.9479222
                        ],
                        [
                          -82.460392,
                          27.9481222
                        ],
                        [
                          -82.4604077,
                          27.9481169
                        ],
                        [
                          -82.4604151,
                          27.9481339
                        ],
                        [
                          -82.4604219,
                          27.9481494
                        ],
                        [
                          -82.460407,
                          27.9481545
                        ],
                        [
                          -82.4604457,
                          27.9482431
                        ],
                        [
                          -82.4605011,
                          27.9482241
                        ],
                        [
                          -82.4605165,
                          27.9482189
                        ],
                        [
                          -82.4605379,
                          27.9482643
                        ],
                        [
                          -82.4604645,
                          27.9482883
                        ],
                        [
                          -82.4604965,
                          27.9483565
                        ],
                        [
                          -82.4605147,
                          27.9483502
                        ],
                        [
                          -82.460529,
                          27.9483805
                        ],
                        [
                          -82.4605077,
                          27.9483881
                        ],
                        [
                          -82.4605383,
                          27.9484548
                        ]
                      ]
                    ]
                  },
                  "bbox": [
                    -82.4618681,
                    27.9473632,
                    -82.4602009,
                    27.9484548
                  ]
                },
                {
                  "id": "('way', 906263885)",
                  "type": "Feature",
                  "properties": {
                    "addr:city": null,
                    "addr:housenumber": null,
                    "addr:postcode": null,
                    "addr:state": null,
                    "addr:street": null,
                    "leisure": "park",
                    "name": "MacDill Park on the Riverwalk",
                    "nodes": [
                      8415817271,
                      8415817259,
                      8429905698,
                      8415817272,
                      8429905700,
                      8415817282,
                      8415817253,
                      8415817251,
                      279954081,
                      8415817273,
                      1972291678,
                      3038435799,
                      365901983,
                      8415516599,
                      1972291677,
                      1865664291,
                      1865664277,
                      8415817262,
                      8415817261,
                      8415817271
                    ],
                    "wikidata": null,
                    "wikipedia": null,
                    "style": {
                      "color": "black",
                      "fillColor": "black"
                    }
                  },
                  "geometry": {
                    "type": "Polygon",
                    "coordinates": [
                      [
                        [
                          -82.4588372,
                          27.9455913
                        ],
                        [
                          -82.4588188,
                          27.945565
                        ],
                        [
                          -82.4588111,
                          27.9455521
                        ],
                        [
                          -82.4587913,
                          27.9455193
                        ],
                        [
                          -82.4587693,
                          27.9454842
                        ],
                        [
                          -82.4587477,
                          27.9454497
                        ],
                        [
                          -82.4585594,
                          27.9451494
                        ],
                        [
                          -82.4585469,
                          27.9451297
                        ],
                        [
                          -82.4584915,
                          27.9450392
                        ],
                        [
                          -82.4588244,
                          27.9449256
                        ],
                        [
                          -82.4588368,
                          27.9449459
                        ],
                        [
                          -82.4588541,
                          27.9449717
                        ],
                        [
                          -82.4588684,
                          27.944993
                        ],
                        [
                          -82.45911,
                          27.9453786
                        ],
                        [
                          -82.4591322,
                          27.9454119
                        ],
                        [
                          -82.459174,
                          27.9454745
                        ],
                        [
                          -82.4590729,
                          27.9455096
                        ],
                        [
                          -82.4589992,
                          27.9455349
                        ],
                        [
                          -82.4589724,
                          27.9455434
                        ],
                        [
                          -82.4588372,
                          27.9455913
                        ]
                      ]
                    ]
                  },
                  "bbox": [
                    -82.459174,
                    27.9449256,
                    -82.4584915,
                    27.9455913
                  ]
                },
                {
                  "id": "('way', 907388097)",
                  "type": "Feature",
                  "properties": {
                    "addr:city": null,
                    "addr:housenumber": null,
                    "addr:postcode": null,
                    "addr:state": null,
                    "addr:street": null,
                    "leisure": "park",
                    "name": "Lykes Gaslight Park",
                    "nodes": [
                      8425923463,
                      8425923449,
                      8425923453,
                      8425923459,
                      8425923454,
                      8425923458,
                      8425923460,
                      9415526039,
                      8425923461,
                      8425923441,
                      8425923440,
                      8425923462,
                      8425923445,
                      8425923446,
                      8425923463
                    ],
                    "wikidata": null,
                    "wikipedia": null,
                    "style": {
                      "color": "black",
                      "fillColor": "black"
                    }
                  },
                  "geometry": {
                    "type": "Polygon",
                    "coordinates": [
                      [
                        [
                          -82.4589391,
                          27.9480844
                        ],
                        [
                          -82.4588676,
                          27.9481091
                        ],
                        [
                          -82.4584004,
                          27.9482707
                        ],
                        [
                          -82.4583315,
                          27.9482945
                        ],
                        [
                          -82.4583069,
                          27.9482389
                        ],
                        [
                          -82.4581198,
                          27.9478166
                        ],
                        [
                          -82.4580996,
                          27.9477711
                        ],
                        [
                          -82.4581045,
                          27.9477616
                        ],
                        [
                          -82.4581095,
                          27.947752
                        ],
                        [
                          -82.4581595,
                          27.9477347
                        ],
                        [
                          -82.458634,
                          27.9475706
                        ],
                        [
                          -82.4587011,
                          27.9475474
                        ],
                        [
                          -82.4587242,
                          27.9475995
                        ],
                        [
                          -82.4589121,
                          27.9480234
                        ],
                        [
                          -82.4589391,
                          27.9480844
                        ]
                      ]
                    ]
                  },
                  "bbox": [
                    -82.4589391,
                    27.9475474,
                    -82.4580996,
                    27.9482945
                  ]
                },
                {
                  "id": "('way', 907522330)",
                  "type": "Feature",
                  "properties": {
                    "addr:city": null,
                    "addr:housenumber": null,
                    "addr:postcode": null,
                    "addr:state": null,
                    "addr:street": null,
                    "leisure": "park",
                    "name": null,
                    "nodes": [
                      8426884930,
                      8426884931,
                      8426884939,
                      8426884932,
                      8426884940,
                      8426884933,
                      8426884934,
                      8426884935,
                      8426884936,
                      8426884937,
                      8426884938,
                      8426884930
                    ],
                    "wikidata": null,
                    "wikipedia": null,
                    "style": {
                      "color": "black",
                      "fillColor": "black"
                    }
                  },
                  "geometry": {
                    "type": "Polygon",
                    "coordinates": [
                      [
                        [
                          -82.4599191,
                          27.9477412
                        ],
                        [
                          -82.4599933,
                          27.9477164
                        ],
                        [
                          -82.4599846,
                          27.9476956
                        ],
                        [
                          -82.4599716,
                          27.9476767
                        ],
                        [
                          -82.4599179,
                          27.9476199
                        ],
                        [
                          -82.4598897,
                          27.947581
                        ],
                        [
                          -82.4597272,
                          27.947219
                        ],
                        [
                          -82.4597234,
                          27.947218
                        ],
                        [
                          -82.4597167,
                          27.9472304
                        ],
                        [
                          -82.4597216,
                          27.9472838
                        ],
                        [
                          -82.4597356,
                          27.9473256
                        ],
                        [
                          -82.4599191,
                          27.9477412
                        ]
                      ]
                    ]
                  },
                  "bbox": [
                    -82.4599933,
                    27.947218,
                    -82.4597167,
                    27.9477412
                  ]
                },
                {
                  "id": "('way', 907522331)",
                  "type": "Feature",
                  "properties": {
                    "addr:city": null,
                    "addr:housenumber": null,
                    "addr:postcode": null,
                    "addr:state": null,
                    "addr:street": null,
                    "leisure": "park",
                    "name": null,
                    "nodes": [
                      8426884941,
                      8426884948,
                      8426884942,
                      8426884943,
                      8426884949,
                      8426884944,
                      8426884950,
                      8426884945,
                      8426884946,
                      8426884947,
                      8426884941
                    ],
                    "wikidata": null,
                    "wikipedia": null,
                    "style": {
                      "color": "black",
                      "fillColor": "black"
                    }
                  },
                  "geometry": {
                    "type": "Polygon",
                    "coordinates": [
                      [
                        [
                          -82.4603055,
                          27.9485037
                        ],
                        [
                          -82.4603142,
                          27.9484809
                        ],
                        [
                          -82.4603175,
                          27.9484534
                        ],
                        [
                          -82.4600647,
                          27.9479416
                        ],
                        [
                          -82.4600558,
                          27.9479327
                        ],
                        [
                          -82.4600444,
                          27.9479315
                        ],
                        [
                          -82.4600378,
                          27.9479379
                        ],
                        [
                          -82.4600372,
                          27.9479487
                        ],
                        [
                          -82.460284,
                          27.9484942
                        ],
                        [
                          -82.4602927,
                          27.9485043
                        ],
                        [
                          -82.4603055,
                          27.9485037
                        ]
                      ]
                    ]
                  },
                  "bbox": [
                    -82.4603175,
                    27.9479315,
                    -82.4600372,
                    27.9485043
                  ]
                },
                {
                  "id": "('way', 907743267)",
                  "type": "Feature",
                  "properties": {
                    "addr:city": null,
                    "addr:housenumber": null,
                    "addr:postcode": null,
                    "addr:state": null,
                    "addr:street": null,
                    "leisure": "park",
                    "name": null,
                    "nodes": [
                      8428994639,
                      8428994653,
                      8428994654,
                      8428994640,
                      8428994648,
                      8428994641,
                      8428994642,
                      8428994649,
                      8428994643,
                      8451586455,
                      8428994647,
                      8428994639
                    ],
                    "wikidata": null,
                    "wikipedia": null,
                    "style": {
                      "color": "black",
                      "fillColor": "black"
                    }
                  },
                  "geometry": {
                    "type": "Polygon",
                    "coordinates": [
                      [
                        [
                          -82.4604247,
                          27.9486981
                        ],
                        [
                          -82.4604051,
                          27.9486994
                        ],
                        [
                          -82.4603653,
                          27.9487114
                        ],
                        [
                          -82.4603552,
                          27.9487218
                        ],
                        [
                          -82.4603771,
                          27.9487458
                        ],
                        [
                          -82.4603943,
                          27.9487677
                        ],
                        [
                          -82.4605957,
                          27.949189
                        ],
                        [
                          -82.4605849,
                          27.9492063
                        ],
                        [
                          -82.4605811,
                          27.9492236
                        ],
                        [
                          -82.4605846,
                          27.949236
                        ],
                        [
                          -82.4606567,
                          27.9492117
                        ],
                        [
                          -82.4604247,
                          27.9486981
                        ]
                      ]
                    ]
                  },
                  "bbox": [
                    -82.4606567,
                    27.9486981,
                    -82.4603552,
                    27.949236
                  ]
                },
                {
                  "id": "('way', 907743268)",
                  "type": "Feature",
                  "properties": {
                    "addr:city": null,
                    "addr:housenumber": null,
                    "addr:postcode": null,
                    "addr:state": null,
                    "addr:street": null,
                    "leisure": "park",
                    "name": null,
                    "nodes": [
                      8428994661,
                      8428994676,
                      8428994662,
                      8428994675,
                      8428994663,
                      8428994664,
                      8428994665,
                      8428994666,
                      8428994667,
                      8428994668,
                      8428994669,
                      8428994670,
                      8428994671,
                      8428994672,
                      8428994673,
                      8428994674,
                      8428994661
                    ],
                    "wikidata": null,
                    "wikipedia": null,
                    "style": {
                      "color": "black",
                      "fillColor": "black"
                    }
                  },
                  "geometry": {
                    "type": "Polygon",
                    "coordinates": [
                      [
                        [
                          -82.4606823,
                          27.9493766
                        ],
                        [
                          -82.4606755,
                          27.9493692
                        ],
                        [
                          -82.4606642,
                          27.9493689
                        ],
                        [
                          -82.4606522,
                          27.9493737
                        ],
                        [
                          -82.4606498,
                          27.9493843
                        ],
                        [
                          -82.4606746,
                          27.9494472
                        ],
                        [
                          -82.4607264,
                          27.9495653
                        ],
                        [
                          -82.460749,
                          27.9496017
                        ],
                        [
                          -82.4607715,
                          27.9496325
                        ],
                        [
                          -82.4608636,
                          27.9498061
                        ],
                        [
                          -82.4609105,
                          27.9497885
                        ],
                        [
                          -82.4608321,
                          27.9496357
                        ],
                        [
                          -82.460814,
                          27.949613
                        ],
                        [
                          -82.4607954,
                          27.949595
                        ],
                        [
                          -82.4607817,
                          27.9495814
                        ],
                        [
                          -82.4607671,
                          27.9495583
                        ],
                        [
                          -82.4606823,
                          27.9493766
                        ]
                      ]
                    ]
                  },
                  "bbox": [
                    -82.4609105,
                    27.9493689,
                    -82.4606498,
                    27.9498061
                  ]
                },
                {
                  "id": "('way', 909379344)",
                  "type": "Feature",
                  "properties": {
                    "addr:city": null,
                    "addr:housenumber": null,
                    "addr:postcode": null,
                    "addr:state": null,
                    "addr:street": null,
                    "leisure": "park",
                    "name": null,
                    "nodes": [
                      1972214781,
                      1972214758,
                      8443496967,
                      8443496966,
                      8443496951,
                      8443496962,
                      8443496961,
                      8443496960,
                      8443496964,
                      8443496965,
                      1972214791,
                      1972214781
                    ],
                    "wikidata": null,
                    "wikipedia": null,
                    "style": {
                      "color": "black",
                      "fillColor": "black"
                    }
                  },
                  "geometry": {
                    "type": "Polygon",
                    "coordinates": [
                      [
                        [
                          -82.4577202,
                          27.9507749
                        ],
                        [
                          -82.4578092,
                          27.9507444
                        ],
                        [
                          -82.4577829,
                          27.9506847
                        ],
                        [
                          -82.4577584,
                          27.950629
                        ],
                        [
                          -82.4577114,
                          27.950645
                        ],
                        [
                          -82.4576987,
                          27.9506159
                        ],
                        [
                          -82.4576683,
                          27.9506262
                        ],
                        [
                          -82.4576344,
                          27.9505486
                        ],
                        [
                          -82.4576084,
                          27.9505574
                        ],
                        [
                          -82.4576729,
                          27.9507038
                        ],
                        [
                          -82.4576867,
                          27.9506989
                        ],
                        [
                          -82.4577202,
                          27.9507749
                        ]
                      ]
                    ]
                  },
                  "bbox": [
                    -82.4578092,
                    27.9505486,
                    -82.4576084,
                    27.9507749
                  ]
                },
                {
                  "id": "('way', 910997197)",
                  "type": "Feature",
                  "properties": {
                    "addr:city": null,
                    "addr:housenumber": null,
                    "addr:postcode": null,
                    "addr:state": null,
                    "addr:street": null,
                    "leisure": "park",
                    "name": null,
                    "nodes": [
                      8459075561,
                      8459075562,
                      8459075563,
                      8459075564,
                      8459075561
                    ],
                    "wikidata": null,
                    "wikipedia": null,
                    "style": {
                      "color": "black",
                      "fillColor": "black"
                    }
                  },
                  "geometry": {
                    "type": "Polygon",
                    "coordinates": [
                      [
                        [
                          -82.4610956,
                          27.9502078
                        ],
                        [
                          -82.4610536,
                          27.9502233
                        ],
                        [
                          -82.4612605,
                          27.9506938
                        ],
                        [
                          -82.4613037,
                          27.9506781
                        ],
                        [
                          -82.4610956,
                          27.9502078
                        ]
                      ]
                    ]
                  },
                  "bbox": [
                    -82.4613037,
                    27.9502078,
                    -82.4610536,
                    27.9506938
                  ]
                }
              ],
              "bbox": [
                -82.4639233,
                27.9449256,
                -82.4576084,
                27.9507749
              ]
            },
            "hover_style": {
              "weight": 4,
              "fillOpacity": 0.5
            },
            "layers": [],
            "name": "park",
            "options": [],
            "point_style": {},
            "popup": null,
            "popup_max_height": null,
            "popup_max_width": 300,
            "popup_min_width": 50,
            "style": {
              "weight": 3
            }
          }
        },
        "3bc0d7550c6c45829fb30827c8719cca": {
          "model_module": "@jupyter-widgets/base",
          "model_name": "LayoutModel",
          "model_module_version": "1.2.0",
          "state": {
            "_model_module": "@jupyter-widgets/base",
            "_model_module_version": "1.2.0",
            "_model_name": "LayoutModel",
            "_view_count": null,
            "_view_module": "@jupyter-widgets/base",
            "_view_module_version": "1.2.0",
            "_view_name": "LayoutView",
            "align_content": null,
            "align_items": null,
            "align_self": null,
            "border": null,
            "bottom": null,
            "display": null,
            "flex": null,
            "flex_flow": null,
            "grid_area": null,
            "grid_auto_columns": null,
            "grid_auto_flow": null,
            "grid_auto_rows": null,
            "grid_column": null,
            "grid_gap": null,
            "grid_row": null,
            "grid_template_areas": null,
            "grid_template_columns": null,
            "grid_template_rows": null,
            "height": "500px",
            "justify_content": null,
            "justify_items": null,
            "left": null,
            "margin": null,
            "max_height": null,
            "max_width": null,
            "min_height": null,
            "min_width": null,
            "object_fit": null,
            "object_position": null,
            "order": null,
            "overflow": null,
            "overflow_x": null,
            "overflow_y": null,
            "padding": null,
            "right": null,
            "top": null,
            "visibility": null,
            "width": "500px"
          }
        },
        "1fa8970d48554d8897d56b57d0341560": {
          "model_module": "jupyter-leaflet",
          "model_name": "LeafletMapStyleModel",
          "model_module_version": "^0.16.0",
          "state": {
            "_model_module": "jupyter-leaflet",
            "_model_module_version": "^0.16.0",
            "_model_name": "LeafletMapStyleModel",
            "_view_count": null,
            "_view_module": "@jupyter-widgets/base",
            "_view_module_version": "1.2.0",
            "_view_name": "StyleView",
            "cursor": "grab"
          }
        },
        "d3f54218341747129f175d0e5cc3b4b0": {
          "model_module": "@jupyter-widgets/output",
          "model_name": "OutputModel",
          "model_module_version": "1.0.0",
          "state": {
            "_dom_classes": [],
            "_model_module": "@jupyter-widgets/output",
            "_model_module_version": "1.0.0",
            "_model_name": "OutputModel",
            "_view_count": null,
            "_view_module": "@jupyter-widgets/output",
            "_view_module_version": "1.0.0",
            "_view_name": "OutputView",
            "layout": "IPY_MODEL_87fd262f84bf44abab8a6e0eafd3fdd8",
            "msg_id": "",
            "outputs": []
          }
        },
        "1fdea243934447ec854e91b7c271b37a": {
          "model_module": "@jupyter-widgets/controls",
          "model_name": "VBoxModel",
          "model_module_version": "1.5.0",
          "state": {
            "_dom_classes": [],
            "_model_module": "@jupyter-widgets/controls",
            "_model_module_version": "1.5.0",
            "_model_name": "VBoxModel",
            "_view_count": null,
            "_view_module": "@jupyter-widgets/controls",
            "_view_module_version": "1.5.0",
            "_view_name": "VBoxView",
            "box_style": "",
            "children": [
              "IPY_MODEL_77c6768ef6c240f9a4d267b99ccb569b"
            ],
            "layout": "IPY_MODEL_fa6b5eab86af4536bd75e79e85071467"
          }
        },
        "11808980e6734e9fa5de667263e2446e": {
          "model_module": "@jupyter-widgets/controls",
          "model_name": "VBoxModel",
          "model_module_version": "1.5.0",
          "state": {
            "_dom_classes": [],
            "_model_module": "@jupyter-widgets/controls",
            "_model_module_version": "1.5.0",
            "_model_name": "VBoxModel",
            "_view_count": null,
            "_view_module": "@jupyter-widgets/controls",
            "_view_module_version": "1.5.0",
            "_view_name": "VBoxView",
            "box_style": "",
            "children": [
              "IPY_MODEL_0ac2eb3586ca47828f1dca8730a30675",
              "IPY_MODEL_85d1c15ccbec4a168eedc076e6ed8a05"
            ],
            "layout": "IPY_MODEL_668ccb2911d1413c8638808a1097b480"
          }
        },
        "f847f0c8c47b4ec0b9009b0b2da62765": {
          "model_module": "@jupyter-widgets/controls",
          "model_name": "VBoxModel",
          "model_module_version": "1.5.0",
          "state": {
            "_dom_classes": [],
            "_model_module": "@jupyter-widgets/controls",
            "_model_module_version": "1.5.0",
            "_model_name": "VBoxModel",
            "_view_count": null,
            "_view_module": "@jupyter-widgets/controls",
            "_view_module_version": "1.5.0",
            "_view_name": "VBoxView",
            "box_style": "",
            "children": [
              "IPY_MODEL_df94603c58604d15afb9959aec961bbf",
              "IPY_MODEL_c36087cf3a814d79a23b3ab77dbe53fa"
            ],
            "layout": "IPY_MODEL_bd4e14e928784f309137b25dd60ec93b"
          }
        },
        "87fd262f84bf44abab8a6e0eafd3fdd8": {
          "model_module": "@jupyter-widgets/base",
          "model_name": "LayoutModel",
          "model_module_version": "1.2.0",
          "state": {
            "_model_module": "@jupyter-widgets/base",
            "_model_module_version": "1.2.0",
            "_model_name": "LayoutModel",
            "_view_count": null,
            "_view_module": "@jupyter-widgets/base",
            "_view_module_version": "1.2.0",
            "_view_name": "LayoutView",
            "align_content": null,
            "align_items": null,
            "align_self": null,
            "border": null,
            "bottom": null,
            "display": null,
            "flex": null,
            "flex_flow": null,
            "grid_area": null,
            "grid_auto_columns": null,
            "grid_auto_flow": null,
            "grid_auto_rows": null,
            "grid_column": null,
            "grid_gap": null,
            "grid_row": null,
            "grid_template_areas": null,
            "grid_template_columns": null,
            "grid_template_rows": null,
            "height": null,
            "justify_content": null,
            "justify_items": null,
            "left": null,
            "margin": null,
            "max_height": null,
            "max_width": null,
            "min_height": null,
            "min_width": null,
            "object_fit": null,
            "object_position": null,
            "order": null,
            "overflow": null,
            "overflow_x": null,
            "overflow_y": null,
            "padding": null,
            "right": null,
            "top": null,
            "visibility": null,
            "width": null
          }
        },
        "77c6768ef6c240f9a4d267b99ccb569b": {
          "model_module": "@jupyter-widgets/controls",
          "model_name": "ToggleButtonModel",
          "model_module_version": "1.5.0",
          "state": {
            "_dom_classes": [],
            "_model_module": "@jupyter-widgets/controls",
            "_model_module_version": "1.5.0",
            "_model_name": "ToggleButtonModel",
            "_view_count": null,
            "_view_module": "@jupyter-widgets/controls",
            "_view_module_version": "1.5.0",
            "_view_name": "ToggleButtonView",
            "button_style": "",
            "description": "",
            "description_tooltip": null,
            "disabled": false,
            "icon": "wrench",
            "layout": "IPY_MODEL_8a0fb042f12c402bb6f307a3f837357d",
            "style": "IPY_MODEL_3790d0f382eb4212a5479d24a320e31e",
            "tooltip": "Toolbar",
            "value": false
          }
        },
        "fa6b5eab86af4536bd75e79e85071467": {
          "model_module": "@jupyter-widgets/base",
          "model_name": "LayoutModel",
          "model_module_version": "1.2.0",
          "state": {
            "_model_module": "@jupyter-widgets/base",
            "_model_module_version": "1.2.0",
            "_model_name": "LayoutModel",
            "_view_count": null,
            "_view_module": "@jupyter-widgets/base",
            "_view_module_version": "1.2.0",
            "_view_name": "LayoutView",
            "align_content": null,
            "align_items": null,
            "align_self": null,
            "border": null,
            "bottom": null,
            "display": null,
            "flex": null,
            "flex_flow": null,
            "grid_area": null,
            "grid_auto_columns": null,
            "grid_auto_flow": null,
            "grid_auto_rows": null,
            "grid_column": null,
            "grid_gap": null,
            "grid_row": null,
            "grid_template_areas": null,
            "grid_template_columns": null,
            "grid_template_rows": null,
            "height": null,
            "justify_content": null,
            "justify_items": null,
            "left": null,
            "margin": null,
            "max_height": null,
            "max_width": null,
            "min_height": null,
            "min_width": null,
            "object_fit": null,
            "object_position": null,
            "order": null,
            "overflow": null,
            "overflow_x": null,
            "overflow_y": null,
            "padding": null,
            "right": null,
            "top": null,
            "visibility": null,
            "width": null
          }
        },
        "0ac2eb3586ca47828f1dca8730a30675": {
          "model_module": "@jupyter-widgets/controls",
          "model_name": "HBoxModel",
          "model_module_version": "1.5.0",
          "state": {
            "_dom_classes": [],
            "_model_module": "@jupyter-widgets/controls",
            "_model_module_version": "1.5.0",
            "_model_name": "HBoxModel",
            "_view_count": null,
            "_view_module": "@jupyter-widgets/controls",
            "_view_module_version": "1.5.0",
            "_view_name": "HBoxView",
            "box_style": "",
            "children": [
              "IPY_MODEL_51426e6286df4e8e8a5e915fd65f9b5f",
              "IPY_MODEL_85845b085a9145609394fc109c0b12c7"
            ],
            "layout": "IPY_MODEL_ddb92f1140d34fe3a020e99d632a9240"
          }
        },
        "85d1c15ccbec4a168eedc076e6ed8a05": {
          "model_module": "@jupyter-widgets/controls",
          "model_name": "HTMLModel",
          "model_module_version": "1.5.0",
          "state": {
            "_dom_classes": [],
            "_model_module": "@jupyter-widgets/controls",
            "_model_module_version": "1.5.0",
            "_model_name": "HTMLModel",
            "_view_count": null,
            "_view_module": "@jupyter-widgets/controls",
            "_view_module_version": "1.5.0",
            "_view_name": "HTMLView",
            "description": "",
            "description_tooltip": null,
            "layout": "IPY_MODEL_671bdbb762864595ac8b802e7c1bb486",
            "placeholder": "​",
            "style": "IPY_MODEL_4f5539a6c24542f6ac7d836c102eedac",
            "value": ""
          }
        },
        "668ccb2911d1413c8638808a1097b480": {
          "model_module": "@jupyter-widgets/base",
          "model_name": "LayoutModel",
          "model_module_version": "1.2.0",
          "state": {
            "_model_module": "@jupyter-widgets/base",
            "_model_module_version": "1.2.0",
            "_model_name": "LayoutModel",
            "_view_count": null,
            "_view_module": "@jupyter-widgets/base",
            "_view_module_version": "1.2.0",
            "_view_name": "LayoutView",
            "align_content": null,
            "align_items": null,
            "align_self": null,
            "border": null,
            "bottom": null,
            "display": null,
            "flex": null,
            "flex_flow": null,
            "grid_area": null,
            "grid_auto_columns": null,
            "grid_auto_flow": null,
            "grid_auto_rows": null,
            "grid_column": null,
            "grid_gap": null,
            "grid_row": null,
            "grid_template_areas": null,
            "grid_template_columns": null,
            "grid_template_rows": null,
            "height": null,
            "justify_content": null,
            "justify_items": null,
            "left": null,
            "margin": null,
            "max_height": null,
            "max_width": null,
            "min_height": null,
            "min_width": null,
            "object_fit": null,
            "object_position": null,
            "order": null,
            "overflow": null,
            "overflow_x": null,
            "overflow_y": null,
            "padding": null,
            "right": null,
            "top": null,
            "visibility": null,
            "width": null
          }
        },
        "df94603c58604d15afb9959aec961bbf": {
          "model_module": "@jupyter-widgets/controls",
          "model_name": "HBoxModel",
          "model_module_version": "1.5.0",
          "state": {
            "_dom_classes": [],
            "_model_module": "@jupyter-widgets/controls",
            "_model_module_version": "1.5.0",
            "_model_name": "HBoxModel",
            "_view_count": null,
            "_view_module": "@jupyter-widgets/controls",
            "_view_module_version": "1.5.0",
            "_view_name": "HBoxView",
            "box_style": "",
            "children": [
              "IPY_MODEL_c19c9fa115cc475595658ada4c928bb1",
              "IPY_MODEL_bf2e29c7ed7f45e29b0f080efb1ecaeb"
            ],
            "layout": "IPY_MODEL_f47f5a01d41b4730b9aa277e07e23431"
          }
        },
        "c36087cf3a814d79a23b3ab77dbe53fa": {
          "model_module": "@jupyter-widgets/controls",
          "model_name": "HTMLModel",
          "model_module_version": "1.5.0",
          "state": {
            "_dom_classes": [],
            "_model_module": "@jupyter-widgets/controls",
            "_model_module_version": "1.5.0",
            "_model_name": "HTMLModel",
            "_view_count": null,
            "_view_module": "@jupyter-widgets/controls",
            "_view_module_version": "1.5.0",
            "_view_name": "HTMLView",
            "description": "",
            "description_tooltip": null,
            "layout": "IPY_MODEL_4d72c6a79e844c3191366193c8d2c5fd",
            "placeholder": "​",
            "style": "IPY_MODEL_4eadce618c204e1db90530830a7cdb7e",
            "value": ""
          }
        },
        "bd4e14e928784f309137b25dd60ec93b": {
          "model_module": "@jupyter-widgets/base",
          "model_name": "LayoutModel",
          "model_module_version": "1.2.0",
          "state": {
            "_model_module": "@jupyter-widgets/base",
            "_model_module_version": "1.2.0",
            "_model_name": "LayoutModel",
            "_view_count": null,
            "_view_module": "@jupyter-widgets/base",
            "_view_module_version": "1.2.0",
            "_view_name": "LayoutView",
            "align_content": null,
            "align_items": null,
            "align_self": null,
            "border": null,
            "bottom": null,
            "display": null,
            "flex": null,
            "flex_flow": null,
            "grid_area": null,
            "grid_auto_columns": null,
            "grid_auto_flow": null,
            "grid_auto_rows": null,
            "grid_column": null,
            "grid_gap": null,
            "grid_row": null,
            "grid_template_areas": null,
            "grid_template_columns": null,
            "grid_template_rows": null,
            "height": null,
            "justify_content": null,
            "justify_items": null,
            "left": null,
            "margin": null,
            "max_height": null,
            "max_width": null,
            "min_height": null,
            "min_width": null,
            "object_fit": null,
            "object_position": null,
            "order": null,
            "overflow": null,
            "overflow_x": null,
            "overflow_y": null,
            "padding": null,
            "right": null,
            "top": null,
            "visibility": null,
            "width": null
          }
        },
        "8a0fb042f12c402bb6f307a3f837357d": {
          "model_module": "@jupyter-widgets/base",
          "model_name": "LayoutModel",
          "model_module_version": "1.2.0",
          "state": {
            "_model_module": "@jupyter-widgets/base",
            "_model_module_version": "1.2.0",
            "_model_name": "LayoutModel",
            "_view_count": null,
            "_view_module": "@jupyter-widgets/base",
            "_view_module_version": "1.2.0",
            "_view_name": "LayoutView",
            "align_content": null,
            "align_items": null,
            "align_self": null,
            "border": null,
            "bottom": null,
            "display": null,
            "flex": null,
            "flex_flow": null,
            "grid_area": null,
            "grid_auto_columns": null,
            "grid_auto_flow": null,
            "grid_auto_rows": null,
            "grid_column": null,
            "grid_gap": null,
            "grid_row": null,
            "grid_template_areas": null,
            "grid_template_columns": null,
            "grid_template_rows": null,
            "height": "28px",
            "justify_content": null,
            "justify_items": null,
            "left": null,
            "margin": null,
            "max_height": null,
            "max_width": null,
            "min_height": null,
            "min_width": null,
            "object_fit": null,
            "object_position": null,
            "order": null,
            "overflow": null,
            "overflow_x": null,
            "overflow_y": null,
            "padding": "0px 0px 0px 4px",
            "right": null,
            "top": null,
            "visibility": null,
            "width": "28px"
          }
        },
        "3790d0f382eb4212a5479d24a320e31e": {
          "model_module": "@jupyter-widgets/controls",
          "model_name": "DescriptionStyleModel",
          "model_module_version": "1.5.0",
          "state": {
            "_model_module": "@jupyter-widgets/controls",
            "_model_module_version": "1.5.0",
            "_model_name": "DescriptionStyleModel",
            "_view_count": null,
            "_view_module": "@jupyter-widgets/base",
            "_view_module_version": "1.2.0",
            "_view_name": "StyleView",
            "description_width": ""
          }
        },
        "51426e6286df4e8e8a5e915fd65f9b5f": {
          "model_module": "@jupyter-widgets/controls",
          "model_name": "ToggleButtonModel",
          "model_module_version": "1.5.0",
          "state": {
            "_dom_classes": [],
            "_model_module": "@jupyter-widgets/controls",
            "_model_module_version": "1.5.0",
            "_model_name": "ToggleButtonModel",
            "_view_count": null,
            "_view_module": "@jupyter-widgets/controls",
            "_view_module_version": "1.5.0",
            "_view_name": "ToggleButtonView",
            "button_style": "",
            "description": "",
            "description_tooltip": null,
            "disabled": false,
            "icon": "info",
            "layout": "IPY_MODEL_f402201448a04dcb836c99074bb6e1fa",
            "style": "IPY_MODEL_44072fe820254cd2a1e981064a16c7e6",
            "tooltip": "Toolbar",
            "value": true
          }
        },
        "85845b085a9145609394fc109c0b12c7": {
          "model_module": "@jupyter-widgets/controls",
          "model_name": "ToggleButtonModel",
          "model_module_version": "1.5.0",
          "state": {
            "_dom_classes": [],
            "_model_module": "@jupyter-widgets/controls",
            "_model_module_version": "1.5.0",
            "_model_name": "ToggleButtonModel",
            "_view_count": null,
            "_view_module": "@jupyter-widgets/controls",
            "_view_module_version": "1.5.0",
            "_view_name": "ToggleButtonView",
            "button_style": "",
            "description": "",
            "description_tooltip": null,
            "disabled": false,
            "icon": "times",
            "layout": "IPY_MODEL_147ce321df41492d820e02ecf41df475",
            "style": "IPY_MODEL_0fa4aacb75744a41a49d9e3fdfd60664",
            "tooltip": "Close the tool",
            "value": false
          }
        },
        "ddb92f1140d34fe3a020e99d632a9240": {
          "model_module": "@jupyter-widgets/base",
          "model_name": "LayoutModel",
          "model_module_version": "1.2.0",
          "state": {
            "_model_module": "@jupyter-widgets/base",
            "_model_module_version": "1.2.0",
            "_model_name": "LayoutModel",
            "_view_count": null,
            "_view_module": "@jupyter-widgets/base",
            "_view_module_version": "1.2.0",
            "_view_name": "LayoutView",
            "align_content": null,
            "align_items": null,
            "align_self": null,
            "border": null,
            "bottom": null,
            "display": null,
            "flex": null,
            "flex_flow": null,
            "grid_area": null,
            "grid_auto_columns": null,
            "grid_auto_flow": null,
            "grid_auto_rows": null,
            "grid_column": null,
            "grid_gap": null,
            "grid_row": null,
            "grid_template_areas": null,
            "grid_template_columns": null,
            "grid_template_rows": null,
            "height": null,
            "justify_content": null,
            "justify_items": null,
            "left": null,
            "margin": null,
            "max_height": null,
            "max_width": null,
            "min_height": null,
            "min_width": null,
            "object_fit": null,
            "object_position": null,
            "order": null,
            "overflow": null,
            "overflow_x": null,
            "overflow_y": null,
            "padding": null,
            "right": null,
            "top": null,
            "visibility": null,
            "width": null
          }
        },
        "671bdbb762864595ac8b802e7c1bb486": {
          "model_module": "@jupyter-widgets/base",
          "model_name": "LayoutModel",
          "model_module_version": "1.2.0",
          "state": {
            "_model_module": "@jupyter-widgets/base",
            "_model_module_version": "1.2.0",
            "_model_name": "LayoutModel",
            "_view_count": null,
            "_view_module": "@jupyter-widgets/base",
            "_view_module_version": "1.2.0",
            "_view_name": "LayoutView",
            "align_content": null,
            "align_items": null,
            "align_self": null,
            "border": null,
            "bottom": null,
            "display": null,
            "flex": null,
            "flex_flow": null,
            "grid_area": null,
            "grid_auto_columns": null,
            "grid_auto_flow": null,
            "grid_auto_rows": null,
            "grid_column": null,
            "grid_gap": null,
            "grid_row": null,
            "grid_template_areas": null,
            "grid_template_columns": null,
            "grid_template_rows": null,
            "height": null,
            "justify_content": null,
            "justify_items": null,
            "left": null,
            "margin": "0px 10px 0px 10px",
            "max_height": "250px",
            "max_width": "250px",
            "min_height": null,
            "min_width": null,
            "object_fit": null,
            "object_position": null,
            "order": null,
            "overflow": null,
            "overflow_x": null,
            "overflow_y": null,
            "padding": null,
            "right": null,
            "top": null,
            "visibility": null,
            "width": null
          }
        },
        "4f5539a6c24542f6ac7d836c102eedac": {
          "model_module": "@jupyter-widgets/controls",
          "model_name": "DescriptionStyleModel",
          "model_module_version": "1.5.0",
          "state": {
            "_model_module": "@jupyter-widgets/controls",
            "_model_module_version": "1.5.0",
            "_model_name": "DescriptionStyleModel",
            "_view_count": null,
            "_view_module": "@jupyter-widgets/base",
            "_view_module_version": "1.2.0",
            "_view_name": "StyleView",
            "description_width": ""
          }
        },
        "c19c9fa115cc475595658ada4c928bb1": {
          "model_module": "@jupyter-widgets/controls",
          "model_name": "ToggleButtonModel",
          "model_module_version": "1.5.0",
          "state": {
            "_dom_classes": [],
            "_model_module": "@jupyter-widgets/controls",
            "_model_module_version": "1.5.0",
            "_model_name": "ToggleButtonModel",
            "_view_count": null,
            "_view_module": "@jupyter-widgets/controls",
            "_view_module_version": "1.5.0",
            "_view_name": "ToggleButtonView",
            "button_style": "",
            "description": "",
            "description_tooltip": null,
            "disabled": false,
            "icon": "info",
            "layout": "IPY_MODEL_1c065860b2e3497ba5101c11ba900bdc",
            "style": "IPY_MODEL_e87037b56e6e4333825065f9e046e9ed",
            "tooltip": "Toolbar",
            "value": true
          }
        },
        "bf2e29c7ed7f45e29b0f080efb1ecaeb": {
          "model_module": "@jupyter-widgets/controls",
          "model_name": "ToggleButtonModel",
          "model_module_version": "1.5.0",
          "state": {
            "_dom_classes": [],
            "_model_module": "@jupyter-widgets/controls",
            "_model_module_version": "1.5.0",
            "_model_name": "ToggleButtonModel",
            "_view_count": null,
            "_view_module": "@jupyter-widgets/controls",
            "_view_module_version": "1.5.0",
            "_view_name": "ToggleButtonView",
            "button_style": "",
            "description": "",
            "description_tooltip": null,
            "disabled": false,
            "icon": "times",
            "layout": "IPY_MODEL_3ef2fa3901df47a98413e7cdd0899f52",
            "style": "IPY_MODEL_1fedc9230c27424d865dddeab3b83244",
            "tooltip": "Close the tool",
            "value": false
          }
        },
        "f47f5a01d41b4730b9aa277e07e23431": {
          "model_module": "@jupyter-widgets/base",
          "model_name": "LayoutModel",
          "model_module_version": "1.2.0",
          "state": {
            "_model_module": "@jupyter-widgets/base",
            "_model_module_version": "1.2.0",
            "_model_name": "LayoutModel",
            "_view_count": null,
            "_view_module": "@jupyter-widgets/base",
            "_view_module_version": "1.2.0",
            "_view_name": "LayoutView",
            "align_content": null,
            "align_items": null,
            "align_self": null,
            "border": null,
            "bottom": null,
            "display": null,
            "flex": null,
            "flex_flow": null,
            "grid_area": null,
            "grid_auto_columns": null,
            "grid_auto_flow": null,
            "grid_auto_rows": null,
            "grid_column": null,
            "grid_gap": null,
            "grid_row": null,
            "grid_template_areas": null,
            "grid_template_columns": null,
            "grid_template_rows": null,
            "height": null,
            "justify_content": null,
            "justify_items": null,
            "left": null,
            "margin": null,
            "max_height": null,
            "max_width": null,
            "min_height": null,
            "min_width": null,
            "object_fit": null,
            "object_position": null,
            "order": null,
            "overflow": null,
            "overflow_x": null,
            "overflow_y": null,
            "padding": null,
            "right": null,
            "top": null,
            "visibility": null,
            "width": null
          }
        },
        "4d72c6a79e844c3191366193c8d2c5fd": {
          "model_module": "@jupyter-widgets/base",
          "model_name": "LayoutModel",
          "model_module_version": "1.2.0",
          "state": {
            "_model_module": "@jupyter-widgets/base",
            "_model_module_version": "1.2.0",
            "_model_name": "LayoutModel",
            "_view_count": null,
            "_view_module": "@jupyter-widgets/base",
            "_view_module_version": "1.2.0",
            "_view_name": "LayoutView",
            "align_content": null,
            "align_items": null,
            "align_self": null,
            "border": null,
            "bottom": null,
            "display": null,
            "flex": null,
            "flex_flow": null,
            "grid_area": null,
            "grid_auto_columns": null,
            "grid_auto_flow": null,
            "grid_auto_rows": null,
            "grid_column": null,
            "grid_gap": null,
            "grid_row": null,
            "grid_template_areas": null,
            "grid_template_columns": null,
            "grid_template_rows": null,
            "height": null,
            "justify_content": null,
            "justify_items": null,
            "left": null,
            "margin": "0px 10px 0px 10px",
            "max_height": "250px",
            "max_width": "250px",
            "min_height": null,
            "min_width": null,
            "object_fit": null,
            "object_position": null,
            "order": null,
            "overflow": null,
            "overflow_x": null,
            "overflow_y": null,
            "padding": null,
            "right": null,
            "top": null,
            "visibility": null,
            "width": null
          }
        },
        "4eadce618c204e1db90530830a7cdb7e": {
          "model_module": "@jupyter-widgets/controls",
          "model_name": "DescriptionStyleModel",
          "model_module_version": "1.5.0",
          "state": {
            "_model_module": "@jupyter-widgets/controls",
            "_model_module_version": "1.5.0",
            "_model_name": "DescriptionStyleModel",
            "_view_count": null,
            "_view_module": "@jupyter-widgets/base",
            "_view_module_version": "1.2.0",
            "_view_name": "StyleView",
            "description_width": ""
          }
        },
        "f402201448a04dcb836c99074bb6e1fa": {
          "model_module": "@jupyter-widgets/base",
          "model_name": "LayoutModel",
          "model_module_version": "1.2.0",
          "state": {
            "_model_module": "@jupyter-widgets/base",
            "_model_module_version": "1.2.0",
            "_model_name": "LayoutModel",
            "_view_count": null,
            "_view_module": "@jupyter-widgets/base",
            "_view_module_version": "1.2.0",
            "_view_name": "LayoutView",
            "align_content": null,
            "align_items": null,
            "align_self": null,
            "border": null,
            "bottom": null,
            "display": null,
            "flex": null,
            "flex_flow": null,
            "grid_area": null,
            "grid_auto_columns": null,
            "grid_auto_flow": null,
            "grid_auto_rows": null,
            "grid_column": null,
            "grid_gap": null,
            "grid_row": null,
            "grid_template_areas": null,
            "grid_template_columns": null,
            "grid_template_rows": null,
            "height": "28px",
            "justify_content": null,
            "justify_items": null,
            "left": null,
            "margin": null,
            "max_height": null,
            "max_width": null,
            "min_height": null,
            "min_width": null,
            "object_fit": null,
            "object_position": null,
            "order": null,
            "overflow": null,
            "overflow_x": null,
            "overflow_y": null,
            "padding": "0px 0px 0px 4px",
            "right": null,
            "top": null,
            "visibility": null,
            "width": "28px"
          }
        },
        "44072fe820254cd2a1e981064a16c7e6": {
          "model_module": "@jupyter-widgets/controls",
          "model_name": "DescriptionStyleModel",
          "model_module_version": "1.5.0",
          "state": {
            "_model_module": "@jupyter-widgets/controls",
            "_model_module_version": "1.5.0",
            "_model_name": "DescriptionStyleModel",
            "_view_count": null,
            "_view_module": "@jupyter-widgets/base",
            "_view_module_version": "1.2.0",
            "_view_name": "StyleView",
            "description_width": ""
          }
        },
        "147ce321df41492d820e02ecf41df475": {
          "model_module": "@jupyter-widgets/base",
          "model_name": "LayoutModel",
          "model_module_version": "1.2.0",
          "state": {
            "_model_module": "@jupyter-widgets/base",
            "_model_module_version": "1.2.0",
            "_model_name": "LayoutModel",
            "_view_count": null,
            "_view_module": "@jupyter-widgets/base",
            "_view_module_version": "1.2.0",
            "_view_name": "LayoutView",
            "align_content": null,
            "align_items": null,
            "align_self": null,
            "border": null,
            "bottom": null,
            "display": null,
            "flex": null,
            "flex_flow": null,
            "grid_area": null,
            "grid_auto_columns": null,
            "grid_auto_flow": null,
            "grid_auto_rows": null,
            "grid_column": null,
            "grid_gap": null,
            "grid_row": null,
            "grid_template_areas": null,
            "grid_template_columns": null,
            "grid_template_rows": null,
            "height": "28px",
            "justify_content": null,
            "justify_items": null,
            "left": null,
            "margin": null,
            "max_height": null,
            "max_width": null,
            "min_height": null,
            "min_width": null,
            "object_fit": null,
            "object_position": null,
            "order": null,
            "overflow": null,
            "overflow_x": null,
            "overflow_y": null,
            "padding": "0px 0px 0px 4px",
            "right": null,
            "top": null,
            "visibility": null,
            "width": "28px"
          }
        },
        "0fa4aacb75744a41a49d9e3fdfd60664": {
          "model_module": "@jupyter-widgets/controls",
          "model_name": "DescriptionStyleModel",
          "model_module_version": "1.5.0",
          "state": {
            "_model_module": "@jupyter-widgets/controls",
            "_model_module_version": "1.5.0",
            "_model_name": "DescriptionStyleModel",
            "_view_count": null,
            "_view_module": "@jupyter-widgets/base",
            "_view_module_version": "1.2.0",
            "_view_name": "StyleView",
            "description_width": ""
          }
        },
        "1c065860b2e3497ba5101c11ba900bdc": {
          "model_module": "@jupyter-widgets/base",
          "model_name": "LayoutModel",
          "model_module_version": "1.2.0",
          "state": {
            "_model_module": "@jupyter-widgets/base",
            "_model_module_version": "1.2.0",
            "_model_name": "LayoutModel",
            "_view_count": null,
            "_view_module": "@jupyter-widgets/base",
            "_view_module_version": "1.2.0",
            "_view_name": "LayoutView",
            "align_content": null,
            "align_items": null,
            "align_self": null,
            "border": null,
            "bottom": null,
            "display": null,
            "flex": null,
            "flex_flow": null,
            "grid_area": null,
            "grid_auto_columns": null,
            "grid_auto_flow": null,
            "grid_auto_rows": null,
            "grid_column": null,
            "grid_gap": null,
            "grid_row": null,
            "grid_template_areas": null,
            "grid_template_columns": null,
            "grid_template_rows": null,
            "height": "28px",
            "justify_content": null,
            "justify_items": null,
            "left": null,
            "margin": null,
            "max_height": null,
            "max_width": null,
            "min_height": null,
            "min_width": null,
            "object_fit": null,
            "object_position": null,
            "order": null,
            "overflow": null,
            "overflow_x": null,
            "overflow_y": null,
            "padding": "0px 0px 0px 4px",
            "right": null,
            "top": null,
            "visibility": null,
            "width": "28px"
          }
        },
        "e87037b56e6e4333825065f9e046e9ed": {
          "model_module": "@jupyter-widgets/controls",
          "model_name": "DescriptionStyleModel",
          "model_module_version": "1.5.0",
          "state": {
            "_model_module": "@jupyter-widgets/controls",
            "_model_module_version": "1.5.0",
            "_model_name": "DescriptionStyleModel",
            "_view_count": null,
            "_view_module": "@jupyter-widgets/base",
            "_view_module_version": "1.2.0",
            "_view_name": "StyleView",
            "description_width": ""
          }
        },
        "3ef2fa3901df47a98413e7cdd0899f52": {
          "model_module": "@jupyter-widgets/base",
          "model_name": "LayoutModel",
          "model_module_version": "1.2.0",
          "state": {
            "_model_module": "@jupyter-widgets/base",
            "_model_module_version": "1.2.0",
            "_model_name": "LayoutModel",
            "_view_count": null,
            "_view_module": "@jupyter-widgets/base",
            "_view_module_version": "1.2.0",
            "_view_name": "LayoutView",
            "align_content": null,
            "align_items": null,
            "align_self": null,
            "border": null,
            "bottom": null,
            "display": null,
            "flex": null,
            "flex_flow": null,
            "grid_area": null,
            "grid_auto_columns": null,
            "grid_auto_flow": null,
            "grid_auto_rows": null,
            "grid_column": null,
            "grid_gap": null,
            "grid_row": null,
            "grid_template_areas": null,
            "grid_template_columns": null,
            "grid_template_rows": null,
            "height": "28px",
            "justify_content": null,
            "justify_items": null,
            "left": null,
            "margin": null,
            "max_height": null,
            "max_width": null,
            "min_height": null,
            "min_width": null,
            "object_fit": null,
            "object_position": null,
            "order": null,
            "overflow": null,
            "overflow_x": null,
            "overflow_y": null,
            "padding": "0px 0px 0px 4px",
            "right": null,
            "top": null,
            "visibility": null,
            "width": "28px"
          }
        },
        "1fedc9230c27424d865dddeab3b83244": {
          "model_module": "@jupyter-widgets/controls",
          "model_name": "DescriptionStyleModel",
          "model_module_version": "1.5.0",
          "state": {
            "_model_module": "@jupyter-widgets/controls",
            "_model_module_version": "1.5.0",
            "_model_name": "DescriptionStyleModel",
            "_view_count": null,
            "_view_module": "@jupyter-widgets/base",
            "_view_module_version": "1.2.0",
            "_view_name": "StyleView",
            "description_width": ""
          }
        }
      }
    }
  },
  "cells": [
    {
      "cell_type": "markdown",
      "metadata": {
        "id": "view-in-github",
        "colab_type": "text"
      },
      "source": [
        "<a href=\"https://colab.research.google.com/github/amorfinv/icrat_notebooks/blob/main/geofences.ipynb\" target=\"_parent\"><img src=\"https://colab.research.google.com/assets/colab-badge.svg\" alt=\"Open In Colab\"/></a>"
      ]
    },
    {
      "cell_type": "markdown",
      "source": [
        "# Adding geofences to BlueSky\n",
        "\n",
        "---\n",
        "\n",
        "\n",
        "The goal of this notebook is to show how to use data from OpenStreetMap to create geofenced areas. The example will look at an area in Tampa find all of the parks and save them as a ```geojson``` file so that it can be imported into BlueSky.\n",
        "\n",
        "Start by importing ```osmnx```, ```geopandas```, ```shapely```. Note that ```leafmap``` is only neeeded for visualizing maps in this notebook."
      ],
      "metadata": {
        "id": "J_rnX7ZPunab"
      }
    },
    {
      "cell_type": "code",
      "source": [
        "import subprocess\n",
        "\n",
        "try:\n",
        "    import osmnx as ox\n",
        "except ImportError:\n",
        "    print('Installing osmnx ...')\n",
        "    # pip installing osmnx brings in geopandas, shapely, and numpy\n",
        "    subprocess.check_call([\"python\", '-m', 'pip', 'install', 'osmnx'])\n",
        "    import osmnx as ox\n",
        "\n",
        "# Leafmap is only necessary for visualizing maps in the notebook\n",
        "try:\n",
        "    import leafmap\n",
        "except ImportError:\n",
        "    print('Installing leafmap ...')\n",
        "    subprocess.check_call([\"python\", '-m', 'pip', 'install', 'leafmap'])\n",
        "    import leafmap\n",
        "\n",
        "import geopandas as gpd\n",
        "from shapely.geometry import Point, LineString, Polygon, MultiLineString\n",
        "from shapely import ops"
      ],
      "metadata": {
        "id": "9J-YxhYdgD3B",
        "colab": {
          "base_uri": "https://localhost:8080/",
          "height": 53
        },
        "outputId": "aa5b0371-0965-4bd3-ae6f-07872dd1a230"
      },
      "execution_count": 1,
      "outputs": [
        {
          "output_type": "stream",
          "name": "stdout",
          "text": [
            "Installing osmnx ...\n",
            "Installing leafmap ...\n"
          ]
        }
      ]
    },
    {
      "cell_type": "markdown",
      "source": [
        "## Choose an area of interest: Downtown Tampa\n",
        "\n",
        "An area of Downtown Tampa with a couple of parks is chosen as our area of interest."
      ],
      "metadata": {
        "id": "_OXBBKoyxh5V"
      }
    },
    {
      "cell_type": "code",
      "execution_count": 2,
      "metadata": {
        "colab": {
          "base_uri": "https://localhost:8080/",
          "height": 521,
          "referenced_widgets": [
            "f2edf974aa6144e9a56109b2f265894a",
            "ef1d0cd1852449f1a91480382a6b14cd",
            "3f85a2c121ab40f0a37b6642a5f2727d",
            "689f2dfd11564463aaab47ab8e8e5258",
            "9e17221fcb0f4bc49f1e7ee167c43bb4",
            "db1ff141e91a4a8f978342da01d0ceeb",
            "14ca077786ac44b6b320f3de070a4f68",
            "7f2eaac4caca4fb69b2945f5a163ff1f",
            "a7c4b3df016e405394640882ef4985d5",
            "5007d050445a4cd3b285034dfadca8aa",
            "e9fa2740929148c4a94fca512469ac14",
            "0136d25c81bb4854bacfa862165f5a98",
            "3b514760180d4c39940837b5e11c2484",
            "9ebaf562a98e4d45974b5ab05fdf672e",
            "6e766c08d1aa44d0a36b6921a3ce8e19",
            "dbaca4b7204246338dae7dc2b8b71a46",
            "fa90fb01249c46efb5875b97307c35c8",
            "5b3cc3449b064ae1b8f5ee6e28a13c31",
            "cb5c612b257b4da0a1fa3a9b20d3fbe7",
            "dd5058c594df4c6d8da85810156ff64f",
            "6f8478a968e64e9e97dbb16dcdf42818",
            "8d4b38d8a63b4c4192ddb57142ddd0fb"
          ]
        },
        "id": "7mgJ-OZ-faTg",
        "outputId": "d8b0c13e-da00-459f-9fbe-8eab9b3640d2"
      },
      "outputs": [
        {
          "output_type": "display_data",
          "data": {
            "text/plain": [
              "Map(center=[27.9465, -82.46071], controls=(ZoomControl(options=['position', 'zoom_in_text', 'zoom_in_title', '…"
            ],
            "application/vnd.jupyter.widget-view+json": {
              "version_major": 2,
              "version_minor": 0,
              "model_id": "f2edf974aa6144e9a56109b2f265894a"
            }
          },
          "metadata": {
            "application/vnd.jupyter.widget-view+json": {
              "colab": {
                "custom_widget_manager": {
                  "url": "https://ssl.gstatic.com/colaboratory-static/widgets/colab-cdn-widget-manager/a8874ba6619b6106/manager.min.js"
                }
              }
            }
          }
        }
      ],
      "source": [
        "# Show map of Tampa\n",
        "map_args = {\"center\":(27.94650, -82.46071), \"zoom\":16, \"height\":\"500px\", \"width\":\"500px\"}\n",
        "cartomap = {\n",
        "    \"url\":\"https://cartodb-basemaps-b.global.ssl.fastly.net/light_nolabels/{z}/{x}/{y}.png\",\n",
        "    \"name\":\"CartoDB\",\n",
        "    \"attribution\":\"CartoDB\",\n",
        "}\n",
        "m = leafmap.Map(**map_args)\n",
        "m.add_tile_layer(**cartomap)\n",
        "display(m)"
      ]
    },
    {
      "cell_type": "markdown",
      "source": [
        "## Get the parks with ```osmnx```\n",
        "\n",
        "All parks in the area of interests will be set as geofences in BlueSky.\n",
        "\n",
        "\n"
      ],
      "metadata": {
        "id": "l6BAMlnL6GKd"
      }
    },
    {
      "cell_type": "code",
      "source": [
        "# Create a polygon of surrounding area\n",
        "\n",
        "p1 = Point(-82.46491, 27.94375)\n",
        "p2 = Point(-82.46504, 27.95078)\n",
        "p3 = Point(-82.45727, 27.95088)\n",
        "p4 = Point(-82.45706, 27.944171)\n",
        "\n",
        "polygon = Polygon([p1, p2, p3, p4, p1])\n",
        "\n",
        "# Get geometries from polygon\n",
        "gdf_parks = ox.geometries_from_polygon(polygon, tags={'leisure': 'park'})\n",
        "\n",
        "# Create gdf for map\n",
        "gdf_area = gpd.GeoDataFrame(geometry=[polygon], crs='epsg:4326')\n",
        "\n",
        "# create map and add gdf\n",
        "m = leafmap.Map(**map_args)\n",
        "m.add_tile_layer(**cartomap)\n",
        "m.add_gdf(gdf_area, layer_name='area', style={\"weight\": 3}, zoom_to_layer=False)\n",
        "m.add_gdf(gdf_parks, layer_name='park', style={\"weight\": 3}, zoom_to_layer=False)\n",
        "display(m)"
      ],
      "metadata": {
        "colab": {
          "base_uri": "https://localhost:8080/",
          "height": 612,
          "referenced_widgets": [
            "37a2cfe4362b403a9fb368cfde2b7c14",
            "7cad22f747ec41a3bd5e3fdc4ef768bd",
            "218f151f6d6e4883891dc5e985fa6120",
            "2b05a628a5ae4c5793982cc59513f295",
            "f118a3ed40014e18830da566a836e180",
            "9cbf60a5fdc346b5b6fe7cd96eb09d00",
            "2b6b91a8c6664537be768d3beb251217",
            "b790e5771177435d86d8883075906363",
            "d11ddd5e088b4c57a960644cb89f561e",
            "31345cce2605482e82eb0f21dd8c3ec3",
            "b0b5a1f39ef74d5e957eaba97499a34d",
            "4f5f2c935c2445489291a6b48421e25d",
            "ad5fe8c6d10f4299b6e3ffb4772b9e5b",
            "217cdc5353884bd5bdfe2691f8ec9be7",
            "758bfac8991a42ae98c45e8ae1410a61",
            "8afec9fbb0a34d2da8a0fdcfaf09d042",
            "3cdc7f3a448b46de8c3b13094c8eba68",
            "3bc0d7550c6c45829fb30827c8719cca",
            "1fa8970d48554d8897d56b57d0341560",
            "d3f54218341747129f175d0e5cc3b4b0",
            "1fdea243934447ec854e91b7c271b37a",
            "11808980e6734e9fa5de667263e2446e",
            "f847f0c8c47b4ec0b9009b0b2da62765",
            "87fd262f84bf44abab8a6e0eafd3fdd8",
            "77c6768ef6c240f9a4d267b99ccb569b",
            "fa6b5eab86af4536bd75e79e85071467",
            "0ac2eb3586ca47828f1dca8730a30675",
            "85d1c15ccbec4a168eedc076e6ed8a05",
            "668ccb2911d1413c8638808a1097b480",
            "df94603c58604d15afb9959aec961bbf",
            "c36087cf3a814d79a23b3ab77dbe53fa",
            "bd4e14e928784f309137b25dd60ec93b",
            "8a0fb042f12c402bb6f307a3f837357d",
            "3790d0f382eb4212a5479d24a320e31e",
            "51426e6286df4e8e8a5e915fd65f9b5f",
            "85845b085a9145609394fc109c0b12c7",
            "ddb92f1140d34fe3a020e99d632a9240",
            "671bdbb762864595ac8b802e7c1bb486",
            "4f5539a6c24542f6ac7d836c102eedac",
            "c19c9fa115cc475595658ada4c928bb1",
            "bf2e29c7ed7f45e29b0f080efb1ecaeb",
            "f47f5a01d41b4730b9aa277e07e23431",
            "4d72c6a79e844c3191366193c8d2c5fd",
            "4eadce618c204e1db90530830a7cdb7e",
            "f402201448a04dcb836c99074bb6e1fa",
            "44072fe820254cd2a1e981064a16c7e6",
            "147ce321df41492d820e02ecf41df475",
            "0fa4aacb75744a41a49d9e3fdfd60664",
            "1c065860b2e3497ba5101c11ba900bdc",
            "e87037b56e6e4333825065f9e046e9ed",
            "3ef2fa3901df47a98413e7cdd0899f52",
            "1fedc9230c27424d865dddeab3b83244"
          ]
        },
        "id": "B0GP0d3GisIN",
        "outputId": "facff6cf-8171-4bf7-8503-ad63df45679e"
      },
      "execution_count": 3,
      "outputs": [
        {
          "output_type": "stream",
          "name": "stderr",
          "text": [
            "/usr/local/lib/python3.7/dist-packages/ipywidgets/widgets/widget.py:477: DeprecationWarning: Passing unrecognized arguments to super(Map).__init__(height='500px', width='500px').\n",
            "object.__init__() takes exactly one argument (the instance to initialize)\n",
            "This is deprecated in traitlets 4.2.This error will be raised in a future release of traitlets.\n",
            "  super(Widget, self).__init__(**kwargs)\n"
          ]
        },
        {
          "output_type": "display_data",
          "data": {
            "text/plain": [
              "Map(center=[27.9465, -82.46071], controls=(ZoomControl(options=['position', 'zoom_in_text', 'zoom_in_title', '…"
            ],
            "application/vnd.jupyter.widget-view+json": {
              "version_major": 2,
              "version_minor": 0,
              "model_id": "37a2cfe4362b403a9fb368cfde2b7c14"
            }
          },
          "metadata": {
            "application/vnd.jupyter.widget-view+json": {
              "colab": {
                "custom_widget_manager": {
                  "url": "https://ssl.gstatic.com/colaboratory-static/widgets/colab-cdn-widget-manager/a8874ba6619b6106/manager.min.js"
                }
              }
            }
          }
        }
      ]
    },
    {
      "cell_type": "markdown",
      "source": [
        "# Prepare the ```GeoDataFrame``` for BlueSky"
      ],
      "metadata": {
        "id": "kPSNQLg-6UFV"
      }
    },
    {
      "cell_type": "code",
      "source": [
        "# Drop all columns except geometry\n",
        "gdf_parks.drop(gdf_parks.iloc[:, 1:],axis = 1, inplace=True)\n",
        "\n",
        "# create a column for the bottom and top heights of the geofence. \n",
        "# Here we will set the bottom to 0 and top to 300 feet.\n",
        "gdf_parks['bottom'] = 0\n",
        "gdf_parks['top'] = 300\n",
        "\n",
        "# use the osmid as the name\n",
        "gdf_parks['name'] = [osmid for _, osmid in gdf_parks.index]\n",
        "\n",
        "# reset index\n",
        "gdf_parks.reset_index(inplace=True, drop=True)\n",
        "\n",
        "# save as GeoJson to import to BlueSky\n",
        "gdf_parks.to_file('parks.geojson', driver='GeoJSON')"
      ],
      "metadata": {
        "id": "yBywXmSr8Es5"
      },
      "execution_count": 4,
      "outputs": []
    }
  ]
}